{
 "cells": [
  {
   "cell_type": "markdown",
   "metadata": {},
   "source": [
    "## Waves\n",
    "\n"
   ]
  },
  {
   "cell_type": "markdown",
   "metadata": {},
   "source": [
    "Waves are ubiquitous, being found nearly everywhere we look in nature.  Throughout the 7-series courses, you'll see several kinds of waves: mechanical (waves in water, sound, vibrating strings), electromagnetic (light is wave!), and the wavelike nature of all particles according to quantum mechanics.  If you have a solid understanding of the sine function, you're off to a good start.  Most of the trickiness is in notation, which I'll try to clear up here.  If the math gets boring, there's a bit of music theory at the end."
   ]
  },
  {
   "cell_type": "markdown",
   "metadata": {},
   "source": [
    "### Index\n",
    "\n",
    "1. [Sine waves](#wave)\n",
    "2. [Traveling waves](#traveling)\n",
    "3. [Listening to waves](#sound)"
   ]
  },
  {
   "cell_type": "markdown",
   "metadata": {},
   "source": [
    "<a id='wave'></a>"
   ]
  },
  {
   "cell_type": "markdown",
   "metadata": {},
   "source": [
    "## Sine waves"
   ]
  },
  {
   "cell_type": "markdown",
   "metadata": {},
   "source": [
    "A general wave definition is something like \"a propagating disturbance\".  For example, think of the ripples when you throw a rock into a pond.  Waves are typically described by the thing that's changing (the height of water) and the medium in which the wave exists/moves (the pond water).  Waves can be both spatial and temporal.  That is, the ripple pattern exists over some distance or region of the pond, and it is also changing in time.  **Don't think of the wave as water physically moving from one place to another within the pond.**  Rather, we are describing the height of water in the pond using a function of location and time—and the function happens to be a wave.\n",
    "\n",
    "Other wave examples (variable / medium):\n",
    "- ripples in pond (height of water / pond water)\n",
    "- sound (air pressure / air)\n",
    "- vibrating guitar/piano string (displacement from equilibrium / the string)\n",
    "- light (electric & magnetic field values / magic)"
   ]
  },
  {
   "cell_type": "markdown",
   "metadata": {},
   "source": [
    "![Wave](https://upload.wikimedia.org/wikipedia/commons/thumb/1/1e/Wave_characteristics.svg/512px-Wave_characteristics.svg.png)\n",
    "\n",
    "Image of wave [from wikibooks](https://en.wikibooks.org/wiki/Physics_Study_Guide/Waves)"
   ]
  },
  {
   "cell_type": "markdown",
   "metadata": {},
   "source": [
    "Above is a picture of your typical sine wave.  Not all waves are perfectly sinusoidal, but these are convenient to analyze and typically used in physics.  (Others include square, triangle, and sawtooth waves.)  Also, remember that sinusoidal waves describe simple harmonic motion, which is commonly found in nature.\n",
    "\n",
    "Using the pond example again, the height of water is called the *displacement* and is measured with respect to some equilibrium value—what the height would be with still water and no disturbance.  The displacement can take on both positive and negative values, oscillating about this equilibrium value (which is almost always chosen to be 0).  The distance between two similar points on the wave shape (e.g. peak to peak, shown in the image) is called the wavelength, $\\lambda$.\n",
    "\n",
    "Let's say we want to actually write down a sine function to describe the ripple pattern in the water (we're just taking a snapshot in time right now).  Technically, we're also going to limit ourself to one dependent variable $x$, even though pond surface exists in 2 dimensions.  We might start with something like:\n",
    "\n",
    "$$ \\text{height} = y = \\sin x $$\n",
    "\n",
    "We know the sine function repeats itself every $2 \\pi$ units, and we said the distance between two similar points is $\\lambda$.  So, when $x$ changes by $\\lambda$, we want our function to return the same value.  Let's try this:\n",
    "\n",
    "$$ y = \\sin \\Big(\\frac{2 \\pi x}{\\lambda}\\Big)$$\n",
    "\n",
    "Check that this function works, and also note that dimensional analysis requires something of this form.  Special functions like sine, cosine, exponential, etc. require a *dimensionless* expression within the function.  Our dependent variable $x$ has dimensions of length, so we must divide by something else with dimensions of length ($\\lambda$)."
   ]
  },
  {
   "cell_type": "markdown",
   "metadata": {},
   "source": [
    "Finally, we might want to compare two waves with the same wavelength, but one is shifted relative to another.  Lucky for us, the sine function slides to the left/right when you add positive/negative values to the function's expression.  We call this the *phase shift* $\\phi$:\n",
    "\n",
    "$$ y = \\sin \\Big(\\frac{2 \\pi x}{\\lambda} + \\phi \\Big)$$\n",
    "\n",
    "In other words, we might not always want $y = 0$ at $x = 0$, so we can choose the appropriate location for $y = 0$ by adjusting $\\phi$."
   ]
  },
  {
   "cell_type": "code",
   "execution_count": null,
   "metadata": {},
   "outputs": [],
   "source": [
    "import plotly.graph_objs as go\n",
    "from ipywidgets import interactive, HBox, VBox, widgets, interact\n",
    "import numpy as np\n",
    "\n",
    "xs = np.linspace(0, 5, 1000)\n",
    "\n",
    "def wave(lam, phi, x):\n",
    "    \n",
    "    return np.sin(2*np.pi*x/lam + phi)\n",
    "\n",
    "fig = go.FigureWidget()\n",
    "\n",
    "fig.layout = dict(yaxis=dict(range=[-1,1]), xaxis=dict(range=[0,5]),width = 1000)\n",
    "\n",
    "fig.update_layout(\n",
    "    title={\n",
    "        'text': r'$y = \\sin \\Big(\\frac{2 \\pi  x}{\\lambda} + \\phi \\Big)$',\n",
    "        'y':0.85,\n",
    "        'x':0.5,\n",
    "        'xanchor': 'center',\n",
    "        'yanchor': 'top'})\n",
    "\n",
    "fig.update_xaxes(\n",
    "        title_text = r\"$x$\",\n",
    "        title_standoff = 15,\n",
    "        ticks = 'outside',\n",
    "        ticklen = 10,\n",
    "        tickcolor='white')\n",
    "\n",
    "fig.update_yaxes(\n",
    "        title_text = '',\n",
    "        title_standoff = 25,\n",
    "        ticks = 'outside',\n",
    "        ticklen = 10,\n",
    "        tickcolor = 'white')\n",
    "\n",
    "\n",
    "line = fig.add_trace(go.Scatter(x=xs, y=wave(1, 0, xs),\n",
    "                    mode='lines',\n",
    "                    name='lines'))\n",
    "\n",
    "slider = widgets.FloatSlider(\n",
    "    value = 1,\n",
    "    min=0.1,\n",
    "    max=10,\n",
    "    step=0.1,\n",
    "    readout=True,\n",
    "    description=r'$\\lambda$')\n",
    "slider.layout.width = '400px'\n",
    "\n",
    "slider2 = widgets.FloatSlider(\n",
    "    value = 0,\n",
    "    min=-3.14,\n",
    "    max=3.14,\n",
    "    step=0.01,\n",
    "    readout=True,\n",
    "    description=r'$\\phi$')\n",
    "slider2.layout.width = '400px'\n",
    "\n",
    "def update_range(lam, phi):\n",
    "    fig.data[0].y=wave(lam, phi, xs)\n",
    "\n",
    "vb = VBox((fig, interactive(update_range, lam = slider, phi = slider2)))\n",
    "vb.layout.align_items = 'center'\n",
    "vb"
   ]
  },
  {
   "cell_type": "markdown",
   "metadata": {},
   "source": [
    "<a id='traveling'></a>"
   ]
  },
  {
   "cell_type": "markdown",
   "metadata": {},
   "source": [
    "## Traveling waves\n",
    "\n",
    "What if we want to also describe how the ripples in the ponds change over time?  First, we should consider a duck floating at a specific point on the pond and riding the waves up and down.  The height of the duck is a function of time, and notice that it oscillates up and down like a wave.  In fact, we can describe the duck's displacement using the sine function again, but with time $t$ as the dependent variable:\n",
    "\n",
    "$$ \\text{duck height} = y = \\sin (2 \\pi f t)$$.\n",
    "\n",
    "The $f$ in the sine expression is called the *frequency* of the wave.  It is the number of oscillations per second.  In the duck animation below, it takes about two seconds from peak to peak (2 seconds each oscillation).  That means half an oscillation each second, or $f = 0.5$ Hz.  The units, Hertz (Hz), is another way of saying \"per second\" or Hz = $\\frac{1}{s}$."
   ]
  },
  {
   "cell_type": "markdown",
   "metadata": {},
   "source": [
    "\n",
    "\n",
    "![Wave](https://ds055uzetaobb.cloudfront.net/uploads/7YuKUGgd6l-duckwave-1.gif)\n",
    "\n",
    "Duck animation [from brilliant.org](https://brilliant.org/practice/waves-1/)"
   ]
  },
  {
   "cell_type": "markdown",
   "metadata": {},
   "source": [
    "Now, if we want to forget about the duck and describe the water waves as both a function of space and time, we can combine our spatial and temporal sine functions.  Remember how a negative phase shift $\\phi$ would move the entire wave shape to the right?  What if we use that property of the sine function to our advantage and write:\n",
    "\n",
    "$$ y = \\sin \\Big(\\frac{2 \\pi x}{\\lambda} - 2 \\pi f t \\Big)$$.\n",
    "\n",
    "Within this sine function, the left term describes the wave shape over space.  As time passes, $t$ increases, and the this wave shape slides to the right with some speed.  We call this a *traveling wave*.  Most textbooks/physicists will not write this function in terms of wavelength and frequency.  Instead, the wavenumber $k$ and angular frequency $\\omega$ are defined:\n",
    "\n",
    "$$ k = \\frac{2 \\pi}{\\lambda} $$\n",
    "\n",
    "$$ \\omega = 2 \\pi f $$\n",
    "\n",
    "Angular frequency is almost like frequency, except it is measuring \"radians per second\" rather than \"oscillations per second\", with an implicit understanding that each oscillation corresponds to $2 \\pi$ radians.  Wavenumber is almost like a spatial frequency, which measures \"oscillations per unit of distance\".  In physics, the factor of $2 \\pi$ is also included in the definition of wavenumber, so $k$ measures \"radians per unit of distance\".  \n",
    "\n",
    "It can take some time to get used to the notation, so it's good to keep these relations handy while it all sinks in.  One more useful thing to remember: the traveling wave moves at a velocity $v$, where\n",
    "\n",
    "$$ v = \\frac{\\omega}{k}$$.\n",
    "\n",
    "You can see how wavenumber and angular frequency change a wave in the animation below."
   ]
  },
  {
   "cell_type": "code",
   "execution_count": null,
   "metadata": {},
   "outputs": [],
   "source": [
    "xs2 = np.linspace(0, 5, 500)\n",
    "\n",
    "def traveling_wave(k, omega, x, t):\n",
    "    return np.sin(k*x - omega*t/10.)\n",
    "\n",
    "fig2 = go.FigureWidget()\n",
    "\n",
    "fig2.layout = dict(yaxis=dict(range=[-1,1]), xaxis=dict(range=[0,5]),width = 1000)\n",
    "\n",
    "fig2.update_layout(\n",
    "    title={\n",
    "        'text': r'$y = \\sin(kx - \\omega t)$',\n",
    "        'y':0.85,\n",
    "        'x':0.5,\n",
    "        'xanchor': 'center',\n",
    "        'yanchor': 'top'})\n",
    "\n",
    "fig2.update_xaxes(\n",
    "        title_text = r\"$x$\",\n",
    "        title_standoff = 15,\n",
    "        ticks = 'outside',\n",
    "        ticklen = 10,\n",
    "        tickcolor='white')\n",
    "\n",
    "fig2.update_yaxes(\n",
    "        title_text = '',\n",
    "        title_standoff = 25,\n",
    "        ticks = 'outside',\n",
    "        ticklen = 10,\n",
    "        tickcolor = 'white')\n",
    "\n",
    "\n",
    "line2 = fig2.add_trace(go.Scatter(x=xs2, y=traveling_wave(1, 0, xs2, 0),\n",
    "                    mode='lines',\n",
    "                    name='lines'))\n",
    "\n",
    "bslider = widgets.FloatSlider(\n",
    "    value = 3.14,\n",
    "    min=0.1,\n",
    "    max=10,\n",
    "    step=0.02,\n",
    "    readout=True,\n",
    "    description=r'$k$')\n",
    "bslider.layout.width = '400px'\n",
    "\n",
    "bslider2 = widgets.FloatSlider(\n",
    "    value = 0,\n",
    "    min=-1,\n",
    "    max=1,\n",
    "    step=0.1,\n",
    "    readout=True,\n",
    "    description=r'$\\omega$')\n",
    "bslider2.layout.width = '400px'\n",
    "\n",
    "play = widgets.Play(\n",
    "    interval = 5,\n",
    "    value = 0,\n",
    "    min=0,\n",
    "    max=500,\n",
    "    step=1\n",
    ")\n",
    "\n",
    "def update2(k, omega, time):\n",
    "    \n",
    "    fig2.data[0].y=traveling_wave(k, omega, xs2, time)\n",
    "\n",
    "vb2 = VBox((fig2, interactive(update2, k = bslider, omega = bslider2, time = play)))\n",
    "vb2.layout.align_items = 'center'\n",
    "vb2"
   ]
  },
  {
   "cell_type": "markdown",
   "metadata": {},
   "source": [
    "<a id='sound'></a>"
   ]
  },
  {
   "cell_type": "markdown",
   "metadata": {},
   "source": [
    "## Listening to waves\n",
    "\n",
    "Sound is also a wave, but a bit different than the water wave example we've been using.  Rather than the height of water oscillating up and down, the air pressure fluctuates.  On average, the air pressure is constant throughout a room (atmospheric pressure), but it can change locally.  When you hit a drum, the drum head oscillates up and down, which in turn compresses air molecules near the head's surface in a cyclical fashion.  This compression propagates as a high pressure wave front, and these repeated compression/expansion (high/low pressure) cycles are perceived as sound.  This type of wave is called a *longitudinal wave*.\n",
    "\n"
   ]
  },
  {
   "cell_type": "markdown",
   "metadata": {},
   "source": [
    "\n",
    "\n",
    "![speaker](https://www.npr.org/assets/img/2014/04/08/compressionwave.gif)\n",
    "\n",
    "Speaker animation [from NPR](https://www.npr.org/2014/04/09/300563606/what-does-sound-look-like)"
   ]
  },
  {
   "cell_type": "markdown",
   "metadata": {},
   "source": [
    "When you listen to music, usually a speaker creates the sound by vibrating a speaker head (a thin membrane).  The sound waves propagate through the air in the room and cause your ear drum to vibrate with the same pattern—delayed by however long it takes the waves to travel from the speaker to your ear.  And to be clear, most sounds aren't just a single sinusoidal wave with one specific frequency.  There's usually a mess of many different frequencies, each with their own amplitude and phase, along with other structure in the wave form (not everything that makes a noise is a simple harmonic oscillator).\n",
    "\n",
    "It would take an entire notebook to describe how *standing waves* and *harmonics* lead to the different sounds of instruments/voices.  We could also spend ages discussing how the inner ear and subsequent neural circuitry allows you to interpret sound.  For now, let's just play with your ear/brain's perception of two overlapping frequencies.  I apologize if you cannot hear the following, and I've included a plot of the audio wave as well."
   ]
  },
  {
   "cell_type": "code",
   "execution_count": null,
   "metadata": {},
   "outputs": [],
   "source": [
    "from IPython.display import Audio,display, clear_output\n",
    "\n",
    "xs3 = np.linspace(0, 0.2, 1000)\n",
    "\n",
    "f1 = widgets.IntSlider(value = 1, min = 1, max = 600, step = 1, description = \"frequency 1\")\n",
    "f1.layout.width = '400px'\n",
    "f2 = widgets.IntSlider(value = 1, min = 1, max = 600, step = 1, description = \"frequency 2\")\n",
    "f2.layout.width = '400px'\n",
    "\n",
    "button = widgets.Button(description='Play Sound')\n",
    "sound_out = widgets.Output()\n",
    "fig3 = go.FigureWidget()\n",
    "\n",
    "fig3.add_trace(go.Scatter(x=xs3, y=np.sin(2*np.pi*1*xs3) + np.sin(2*np.pi*1*xs),\n",
    "                    mode='lines',\n",
    "                    name='sum'))\n",
    "fig3.add_trace(go.Scatter(x = xs3, y = np.sin(2*np.pi*80*xs3), mode = \"lines\", opacity = 0.2, name = \"frequency 1\"))\n",
    "fig3.add_trace(go.Scatter(x = xs3, y = np.sin(2*np.pi*80*xs3), mode = \"lines\", opacity = 0.2, name = \"frequency 2\"))\n",
    "\n",
    "fig3.layout = dict(yaxis=dict(range=[-2,2]), xaxis=dict(range=[0,0.2]),width = 900)\n",
    "\n",
    "fig3.update_layout(\n",
    "    title={\n",
    "        'text': r'$y = \\sin(2 \\pi f_1 t) + \\sin(2 \\pi f_2 t)$',\n",
    "        'y':0.85,\n",
    "        'x':0.5,\n",
    "        'xanchor': 'center',\n",
    "        'yanchor': 'top'})\n",
    "\n",
    "fig3.update_xaxes(\n",
    "        title_text = r\"$t \\text{ (seconds})$\",\n",
    "        title_standoff = 15,\n",
    "        ticks = 'outside',\n",
    "        ticklen = 10,\n",
    "        tickcolor='white')\n",
    "\n",
    "fig3.update_yaxes(\n",
    "        title_text = '',\n",
    "        title_standoff = 25,\n",
    "        ticks = 'outside',\n",
    "        ticklen = 10,\n",
    "        tickcolor = 'white')\n",
    "\n",
    "fig3.update_layout(showlegend=False)\n",
    "\n",
    "def on_button_clicked(_):\n",
    "    \n",
    "    with sound_out:\n",
    "        \n",
    "        framerate = 44100\n",
    "        sec = 2\n",
    "        t = np.linspace(0, sec, framerate * sec)\n",
    "        data = [np.sin(2 * np.pi * f1.value * t), np.sin(2 * np.pi * f2.value * t)]\n",
    "        display(Audio(data, rate=framerate, autoplay=True))\n",
    "        clear_output(wait = True)\n",
    "\n",
    "def update_trace(freq1, freq2):\n",
    "    \n",
    "    fig3.data[0].y = np.sin(2*np.pi*freq1*xs3) + np.sin(2*np.pi*freq2*xs3)\n",
    "    fig3.data[1].y = np.sin(2*np.pi*freq1*xs3)\n",
    "    fig3.data[2].y = np.sin(2*np.pi*freq2*xs3)\n",
    "\n",
    "button.on_click(on_button_clicked)\n",
    "\n",
    "\n",
    "widgets.VBox([fig3,button])\n",
    "vb = widgets.VBox((fig3, interactive(update_trace, freq1 = f1, freq2 = f2), button))\n",
    "vb.layout.align_items = 'center'\n",
    "\n",
    "display(vb)\n",
    "display(sound_out)"
   ]
  },
  {
   "cell_type": "markdown",
   "metadata": {},
   "source": [
    "Some fun things to try:\n",
    "- pick two frequencies very close to each other (e.g. 200 and 205 Hz); the fluctuating amplitude is known as a *beat frequency*\n",
    "- pick two frequencies with a 2:1 ratio (e.g. 400 and 200 Hz); this is interval is known as an *octave*\n",
    "- pick two frequencies with a 3:2 ratio (e.g. 300 and 200 Hz); this is interval is known as a *perfect fifth*\n",
    "- pick two frequencies with a 5:4 ratio (e.g. 250 and 200 Hz); this is interval is known as a *major third*\n",
    "- wonder why \"simple\" frequency ratios produce \"consonant\" (pleasing) music intervals, regardless of experience/training\n",
    "- try to create a consistent 12-tone tuning system and [struggle with the rational root theorem](https://youtu.be/1Hqm0dYKUx4)"
   ]
  },
  {
   "cell_type": "markdown",
   "metadata": {},
   "source": [
    "### Index\n",
    "\n",
    "1. [Sine waves](#wave)\n",
    "2. [Traveling waves](#traveling)\n",
    "3. [Listening to waves](#sound)"
   ]
  }
 ],
 "metadata": {
  "history": [
   {
    "code": "import plotly.graph_objects as go\nfrom ipywidgets import interact\nimport numpy as np\n\nxs = np.arange(1, 2000)  #\n\ndef wave(f, phi, x):\n    return np.sin(2*np.pi*f*x + phi)\n\n# Plotting\n\nfig = go.FigureWidget()\n\nline = fig.add_trace(go.Scatter(x=xs, y=wave(200, 0, xs),\n                    mode='lines',\n                    name='lines'))\n\n@interact(f = (1, 1000, 1), phi = (0, 3.14, 0.01))\ndef update(f = 50, phi = 0):\n    with fig.batch_update():\n        fig.data[0].y=wave(f, phi, xs)\n\n# Formatting\n\nfig.layout = dict(yaxis=dict(range=[-1,1]), xaxis=dict(range=[0,2000]), height=600)\n\nfig.update_layout(\n    title={\n        'text': \"Maxwell-Boltzmann Distribution\",\n        'y':0.9,\n        'x':0.5,\n        'xanchor': 'center',\n        'yanchor': 'top'})\n\nfig.update_xaxes(\n        title_text = \"molecular speed [m/s]\",\n        title_standoff = 25,\n        ticks = 'outside',\n        ticklen = 10,\n        tickcolor='white')\n\nfig.update_yaxes(\n        title_text = \"probability density\",\n        title_standoff = 25,\n        ticks = 'outside',\n        ticklen = 10,\n        tickcolor = 'white')\n\n# Display figure\nfig",
    "id": "9414e3cae98d4c40816d196642dd658f",
    "idx": 1,
    "time": "2021-02-01T23:33:22.441Z",
    "type": "execution"
   },
   {
    "id": "9414e3cae98d4c40816d196642dd658f",
    "time": "2021-02-01T23:33:23.445Z",
    "type": "completion"
   },
   {
    "code": "import plotly.graph_objects as go\nfrom ipywidgets import interact\nimport numpy as np\n\nxs = np.linspace(0, 5, 1000)  #\n\ndef wave(f, phi, x):\n    return np.sin(2*np.pi*f*x + phi)\n\n# Plotting\n\nfig = go.FigureWidget()\n\nline = fig.add_trace(go.Scatter(x=xs, y=wave(200, 0, xs),\n                    mode='lines',\n                    name='lines'))\n\n@interact(f = (1, 1000, 1), phi = (0, 3.14, 0.01))\ndef update(f = 50, phi = 0):\n    with fig.batch_update():\n        fig.data[0].y=wave(f, phi, xs)\n\n# Formatting\n\nfig.layout = dict(yaxis=dict(range=[-1,1]), xaxis=dict(range=[0,5]), height=600)\n\nfig.update_layout(\n    title={\n        'text': \"Maxwell-Boltzmann Distribution\",\n        'y':0.9,\n        'x':0.5,\n        'xanchor': 'center',\n        'yanchor': 'top'})\n\nfig.update_xaxes(\n        title_text = \"molecular speed [m/s]\",\n        title_standoff = 25,\n        ticks = 'outside',\n        ticklen = 10,\n        tickcolor='white')\n\nfig.update_yaxes(\n        title_text = \"probability density\",\n        title_standoff = 25,\n        ticks = 'outside',\n        ticklen = 10,\n        tickcolor = 'white')\n\n# Display figure\nfig",
    "id": "9414e3cae98d4c40816d196642dd658f",
    "idx": 1,
    "time": "2021-02-01T23:34:00.388Z",
    "type": "execution"
   },
   {
    "id": "9414e3cae98d4c40816d196642dd658f",
    "time": "2021-02-01T23:34:00.688Z",
    "type": "completion"
   },
   {
    "code": "import plotly.graph_objects as go\nfrom ipywidgets import interact\nimport numpy as np\n\nxs = np.linspace(0, 5, 1000)  #\n\ndef wave(f, phi, x):\n    return np.sin(2*np.pi*f*x + phi)\n\n# Plotting\n\nfig = go.FigureWidget()\n\nline = fig.add_trace(go.Scatter(x=xs, y=wave(200, 0, xs),\n                    mode='lines',\n                    name='lines'))\n\n@interact(f = (1, 20, 0.1), phi = (0, 3.14, 0.01))\ndef update(f = 50, phi = 0):\n    with fig.batch_update():\n        fig.data[0].y=wave(f, phi, xs)\n\n# Formatting\n\nfig.layout = dict(yaxis=dict(range=[-1,1]), xaxis=dict(range=[0,5]), height=600)\n\nfig.update_layout(\n    title={\n        'text': \"Maxwell-Boltzmann Distribution\",\n        'y':0.9,\n        'x':0.5,\n        'xanchor': 'center',\n        'yanchor': 'top'})\n\nfig.update_xaxes(\n        title_text = \"molecular speed [m/s]\",\n        title_standoff = 25,\n        ticks = 'outside',\n        ticklen = 10,\n        tickcolor='white')\n\nfig.update_yaxes(\n        title_text = \"probability density\",\n        title_standoff = 25,\n        ticks = 'outside',\n        ticklen = 10,\n        tickcolor = 'white')\n\n# Display figure\nfig",
    "id": "9414e3cae98d4c40816d196642dd658f",
    "idx": 1,
    "time": "2021-02-01T23:34:28.972Z",
    "type": "execution"
   },
   {
    "id": "9414e3cae98d4c40816d196642dd658f",
    "time": "2021-02-01T23:34:29.256Z",
    "type": "completion"
   },
   {
    "code": "import plotly.graph_objects as go\nfrom ipywidgets import interact\nimport numpy as np\n\nxs = np.linspace(0, 5, 1000)  #\n\ndef wave(f, phi, x):\n    return np.sin(2*np.pi*f*x + phi)\n\n# Plotting\n\nfig = go.FigureWidget()\n\nline = fig.add_trace(go.Scatter(x=xs, y=wave(200, 0, xs),\n                    mode='lines',\n                    name='lines'))\n\n@interact(f = (0.1, 20, 0.1), phi = (0, 3.14, 0.01))\ndef update(f = 1, phi = 0):\n    with fig.batch_update():\n        fig.data[0].y=wave(f, phi, xs)\n\n# Formatting\n\nfig.layout = dict(yaxis=dict(range=[-1,1]), xaxis=dict(range=[0,5]), height=600)\n\nfig.update_layout(\n    title={\n        'text': \"Maxwell-Boltzmann Distribution\",\n        'y':0.9,\n        'x':0.5,\n        'xanchor': 'center',\n        'yanchor': 'top'})\n\nfig.update_xaxes(\n        title_text = \"molecular speed [m/s]\",\n        title_standoff = 25,\n        ticks = 'outside',\n        ticklen = 10,\n        tickcolor='white')\n\nfig.update_yaxes(\n        title_text = \"probability density\",\n        title_standoff = 25,\n        ticks = 'outside',\n        ticklen = 10,\n        tickcolor = 'white')\n\n# Display figure\nfig",
    "id": "9414e3cae98d4c40816d196642dd658f",
    "idx": 1,
    "time": "2021-02-01T23:34:44.062Z",
    "type": "execution"
   },
   {
    "id": "9414e3cae98d4c40816d196642dd658f",
    "time": "2021-02-01T23:34:44.343Z",
    "type": "completion"
   },
   {
    "code": "import plotly.graph_objects as go\nfrom ipywidgets import interact\nimport numpy as np\n\nxs = np.linspace(0, 5, 1000)  #\n\ndef wave(f, phi, x):\n    return np.sin(2*np.pi*f*x + phi)\n\n# Plotting\n\nfig = go.FigureWidget()\n\nline = fig.add_trace(go.Scatter(x=xs, y=wave(200, 0, xs),\n                    mode='lines',\n                    name='lines'))\n\n@interact(f = (0.1, 20, 0.1), phi = (-3.14, 3.14, 0.1))\ndef update(f = 1, phi = 0):\n    with fig.batch_update():\n        fig.data[0].y=wave(f, phi, xs)\n\n# Formatting\n\nfig.layout = dict(yaxis=dict(range=[-1,1]), xaxis=dict(range=[0,5]), height=600)\n\nfig.update_layout(\n    title={\n        'text': \"Maxwell-Boltzmann Distribution\",\n        'y':0.9,\n        'x':0.5,\n        'xanchor': 'center',\n        'yanchor': 'top'})\n\nfig.update_xaxes(\n        title_text = \"molecular speed [m/s]\",\n        title_standoff = 25,\n        ticks = 'outside',\n        ticklen = 10,\n        tickcolor='white')\n\nfig.update_yaxes(\n        title_text = \"probability density\",\n        title_standoff = 25,\n        ticks = 'outside',\n        ticklen = 10,\n        tickcolor = 'white')\n\n# Display figure\nfig",
    "id": "9414e3cae98d4c40816d196642dd658f",
    "idx": 1,
    "time": "2021-02-01T23:35:01.870Z",
    "type": "execution"
   },
   {
    "id": "9414e3cae98d4c40816d196642dd658f",
    "time": "2021-02-01T23:35:02.150Z",
    "type": "completion"
   },
   {
    "code": "import plotly.graph_objects as go\nfrom ipywidgets import interact\nimport numpy as np\n\nxs = np.linspace(0, 5, 1000)  #\n\ndef wave(f, phi, x):\n    return np.sin(2*np.pi*f*x + phi)\n\n# Plotting\n\nfig = go.FigureWidget()\n\nline = fig.add_trace(go.Scatter(x=xs, y=wave(200, 0, xs),\n                    mode='lines',\n                    name='lines'))\n\n@interact(f = (0.1, 20, 0.1), phi = (-3.14, 3.14, 0.01))\ndef update(f = 1, phi = 0):\n    with fig.batch_update():\n        fig.data[0].y=wave(f, phi, xs)\n\n# Formatting\n\nfig.layout = dict(yaxis=dict(range=[-1,1]), xaxis=dict(range=[0,5]), height=600)\n\nfig.update_layout(\n    title={\n        'text': \"Maxwell-Boltzmann Distribution\",\n        'y':0.9,\n        'x':0.5,\n        'xanchor': 'center',\n        'yanchor': 'top'})\n\nfig.update_xaxes(\n        title_text = \"molecular speed [m/s]\",\n        title_standoff = 25,\n        ticks = 'outside',\n        ticklen = 10,\n        tickcolor='white')\n\nfig.update_yaxes(\n        title_text = \"probability density\",\n        title_standoff = 25,\n        ticks = 'outside',\n        ticklen = 10,\n        tickcolor = 'white')\n\n# Display figure\nfig",
    "id": "9414e3cae98d4c40816d196642dd658f",
    "idx": 1,
    "time": "2021-02-01T23:35:13.990Z",
    "type": "execution"
   },
   {
    "id": "9414e3cae98d4c40816d196642dd658f",
    "time": "2021-02-01T23:35:14.250Z",
    "type": "completion"
   },
   {
    "code": "import plotly.graph_objects as go\nfrom ipywidgets import interact\nimport numpy as np\n\nxs = np.linspace(0, 5, 1000)  #\n\ndef wave(f, phi, x):\n    return np.sin(2*np.pi*f*x + phi)\n\n# Plotting\n\nfig = go.FigureWidget()\n\nline = fig.add_trace(go.Scatter(x=xs, y=wave(200, 0, xs),\n                    mode='lines',\n                    name='lines'))\n\n@interact(f = (0.1, 10, 0.1), phi = (-3.14, 3.14, 0.01))\ndef update(f = 1, phi = 0):\n    with fig.batch_update():\n        fig.data[0].y=wave(f, phi, xs)\n\n# Formatting\n\nfig.layout = dict(yaxis=dict(range=[-1,1]), xaxis=dict(range=[0,5]), height=600)\n\nfig.update_layout(\n    title={\n        'text': \"Maxwell-Boltzmann Distribution\",\n        'y':0.9,\n        'x':0.5,\n        'xanchor': 'center',\n        'yanchor': 'top'})\n\nfig.update_xaxes(\n        title_text = \"molecular speed [m/s]\",\n        title_standoff = 25,\n        ticks = 'outside',\n        ticklen = 10,\n        tickcolor='white')\n\nfig.update_yaxes(\n        title_text = \"probability density\",\n        title_standoff = 25,\n        ticks = 'outside',\n        ticklen = 10,\n        tickcolor = 'white')\n\n# Display figure\nfig",
    "id": "9414e3cae98d4c40816d196642dd658f",
    "idx": 1,
    "time": "2021-02-01T23:36:06.269Z",
    "type": "execution"
   },
   {
    "id": "9414e3cae98d4c40816d196642dd658f",
    "time": "2021-02-01T23:36:06.574Z",
    "type": "completion"
   },
   {
    "code": "import plotly.graph_objects as go\nfrom ipywidgets import interact\nimport numpy as np\n\nxs = np.linspace(0, 5, 1000)  #\n\ndef wave(f, phi, x):\n    return np.sin(2*np.pi*f*x + phi)\n\n# Plotting\n\nfig = go.FigureWidget()\n\nline = fig.add_trace(go.Scatter(x=xs, y=wave(200, 0, xs),\n                    mode='lines',\n                    name='lines'))\n\n@interact(f = (0.1, 10, 0.1), phi = (-3.14, 3.14, 0.01))\ndef update(f = 1, phi = 0):\n    with fig.batch_update():\n        fig.data[0].y=wave(f, phi, xs)\n\n# Formatting\n\nfig.layout = dict(yaxis=dict(range=[-1,1]), xaxis=dict(range=[0,5]), height=600)\n\nfig.update_layout(\n    title={\n        'text': r\"\\sin(2 \\pi x + \\phi)\",\n        'y':0.9,\n        'x':0.5,\n        'xanchor': 'center',\n        'yanchor': 'top'})\n\nfig.update_xaxes(\n        title_text = \"x\",\n        title_standoff = 25,\n        ticks = 'outside',\n        ticklen = 10,\n        tickcolor='white')\n\nfig.update_yaxes(\n        title_text = \"y\",\n        title_standoff = 25,\n        ticks = 'outside',\n        ticklen = 10,\n        tickcolor = 'white')\n\n# Display figure\nfig",
    "id": "9414e3cae98d4c40816d196642dd658f",
    "idx": 1,
    "time": "2021-02-01T23:37:45.679Z",
    "type": "execution"
   },
   {
    "id": "9414e3cae98d4c40816d196642dd658f",
    "time": "2021-02-01T23:37:45.927Z",
    "type": "completion"
   },
   {
    "code": "import plotly.graph_objects as go\nfrom ipywidgets import interact\nimport numpy as np\n\nxs = np.linspace(0, 5, 1000)  #\n\ndef wave(f, phi, x):\n    return np.sin(2*np.pi*f*x + phi)\n\n# Plotting\n\nfig = go.FigureWidget()\n\nline = fig.add_trace(go.Scatter(x=xs, y=wave(200, 0, xs),\n                    mode='lines',\n                    name='lines'))\n\n@interact(f = (0.1, 10, 0.1), phi = (-3.14, 3.14, 0.01))\ndef update(f = 1, phi = 0):\n    with fig.batch_update():\n        fig.data[0].y=wave(f, phi, xs)\n\n# Formatting\n\nfig.layout = dict(yaxis=dict(range=[-1,1]), xaxis=dict(range=[0,5]), height=600)\n\nfig.update_layout(\n    title={\n        'text': r'\\sin(2 \\pi x + \\phi)',\n        'y':0.9,\n        'x':0.5,\n        'xanchor': 'center',\n        'yanchor': 'top'})\n\nfig.update_xaxes(\n        title_text = \"x\",\n        title_standoff = 25,\n        ticks = 'outside',\n        ticklen = 10,\n        tickcolor='white')\n\nfig.update_yaxes(\n        title_text = \"y\",\n        title_standoff = 25,\n        ticks = 'outside',\n        ticklen = 10,\n        tickcolor = 'white')\n\n# Display figure\nfig",
    "id": "9414e3cae98d4c40816d196642dd658f",
    "idx": 1,
    "time": "2021-02-01T23:37:55.407Z",
    "type": "execution"
   },
   {
    "id": "9414e3cae98d4c40816d196642dd658f",
    "time": "2021-02-01T23:37:55.630Z",
    "type": "completion"
   },
   {
    "code": "import plotly.graph_objects as go\nfrom ipywidgets import interact\nimport numpy as np\n\nxs = np.linspace(0, 5, 1000)  #\n\ndef wave(f, phi, x):\n    return np.sin(2*np.pi*f*x + phi)\n\n# Plotting\n\nfig = go.FigureWidget()\n\nline = fig.add_trace(go.Scatter(x=xs, y=wave(200, 0, xs),\n                    mode='lines',\n                    name='lines'))\n\n@interact(f = (0.1, 10, 0.1), phi = (-3.14, 3.14, 0.01))\ndef update(f = 1, phi = 0):\n    with fig.batch_update():\n        fig.data[0].y=wave(f, phi, xs)\n\n# Formatting\n\nfig.layout = dict(yaxis=dict(range=[-1,1]), xaxis=dict(range=[0,5]), height=600)\n\nfig.update_layout(\n    title={\n        'text': r'$\\sin(2 \\pi x + \\phi)$',\n        'y':0.9,\n        'x':0.5,\n        'xanchor': 'center',\n        'yanchor': 'top'})\n\nfig.update_xaxes(\n        title_text = \"x\",\n        title_standoff = 25,\n        ticks = 'outside',\n        ticklen = 10,\n        tickcolor='white')\n\nfig.update_yaxes(\n        title_text = \"y\",\n        title_standoff = 25,\n        ticks = 'outside',\n        ticklen = 10,\n        tickcolor = 'white')\n\n# Display figure\nfig",
    "id": "9414e3cae98d4c40816d196642dd658f",
    "idx": 1,
    "time": "2021-02-01T23:38:20.408Z",
    "type": "execution"
   },
   {
    "id": "9414e3cae98d4c40816d196642dd658f",
    "time": "2021-02-01T23:38:20.677Z",
    "type": "completion"
   },
   {
    "code": "import plotly.graph_objects as go\nfrom ipywidgets import interact\nimport numpy as np\n\nxs = np.linspace(0, 5, 1000)  #\n\ndef wave(f, phi, x):\n    return np.sin(2*np.pi*f*x + phi)\n\n# Plotting\n\nfig = go.FigureWidget()\n\nline = fig.add_trace(go.Scatter(x=xs, y=wave(200, 0, xs),\n                    mode='lines',\n                    name='lines'))\n\n@interact(f = (0.1, 10, 0.1), phi = (-3.14, 3.14, 0.01))\ndef update(f = 1, phi = 0):\n    with fig.batch_update():\n        fig.data[0].y=wave(f, phi, xs)\n\n# Formatting\n\nfig.layout = dict(yaxis=dict(range=[-1,1]), xaxis=dict(range=[0,5]), height=600)\n\nfig.update_layout(\n    title={\n        'text': r'$\\sin(2 \\pi x + \\phi)$',\n        'y':0.9,\n        'x':0.5,\n        'xanchor': 'center',\n        'yanchor': 'top'})\n\nfig.update_xaxes(\n        title_text = \"x\",\n        title_standoff = 25,\n        ticks = 'outside',\n        ticklen = 10,\n        tickcolor='white')\n\nfig.update_yaxes(\n        title_text = \"y\",\n        title_standoff = 25,\n        ticks = 'outside',\n        ticklen = 10,\n        tickcolor = 'white')\n\n# Display figure\nfig",
    "id": "9414e3cae98d4c40816d196642dd658f",
    "idx": 1,
    "time": "2021-02-01T23:38:24.639Z",
    "type": "execution"
   },
   {
    "id": "9414e3cae98d4c40816d196642dd658f",
    "time": "2021-02-01T23:38:24.931Z",
    "type": "completion"
   },
   {
    "code": "import plotly.graph_objects as go\nfrom ipywidgets import interact\nimport numpy as np\n\nxs = np.linspace(0, 5, 1000)  #\n\ndef wave(f, phi, x):\n    return np.sin(2*np.pi*f*x + phi)\n\n# Plotting\n\nfig = go.FigureWidget()\n\nline = fig.add_trace(go.Scatter(x=xs, y=wave(200, 0, xs),\n                    mode='lines',\n                    name='lines'))\n\n@interact(f = (0.1, 10, 0.1), phi = (-3.14, 3.14, 0.01))\ndef update(f = 1, phi = 0):\n    with fig.batch_update():\n        fig.data[0].y=wave(f, phi, xs)\n\n# Formatting\n\nfig.layout = dict(yaxis=dict(range=[-1,1]), xaxis=dict(range=[0,5]), height=600)\n\nfig.update_layout(\n    title={\n        'text': r'$y = \\sin(2 \\pi x + \\phi)$',\n        'y':0.9,\n        'x':0.5,\n        'xanchor': 'center',\n        'yanchor': 'top'})\n\nfig.update_xaxes(\n        title_text = \"x\",\n        title_standoff = 25,\n        ticks = 'outside',\n        ticklen = 10,\n        tickcolor='white')\n\nfig.update_yaxes(\n        title_text = \"y\",\n        title_standoff = 25,\n        ticks = 'outside',\n        ticklen = 10,\n        tickcolor = 'white')\n\n# Display figure\nfig",
    "id": "9414e3cae98d4c40816d196642dd658f",
    "idx": 1,
    "time": "2021-02-01T23:38:44.144Z",
    "type": "execution"
   },
   {
    "id": "9414e3cae98d4c40816d196642dd658f",
    "time": "2021-02-01T23:38:44.393Z",
    "type": "completion"
   },
   {
    "code": "import plotly.graph_objects as go\nfrom ipywidgets import interact\nimport numpy as np\n\nxs = np.linspace(0, 5, 1000)  #\n\ndef wave(f, phi, x):\n    return np.sin(2*np.pi*f*x + phi)\n\n# Plotting\n\nfig = go.FigureWidget()\n\n\nline = fig.add_trace(go.Scatter(x=xs, y=wave(200, 0, xs),\n                    mode='lines',\n                    name='lines'))\n\n@interact(f = (0.1, 10, 0.1), phi = (-3.14, 3.14, 0.01))\ndef update(f = 1, phi = 0):\n    with fig.batch_update():\n        fig.data[0].y=wave(f, phi, xs)\n\n# Formatting\n\nfig.layout = dict(yaxis=dict(range=[-1,1]), xaxis=dict(range=[0,5]), height=600)\n\nfig.update_layout(\n    title={\n        'text': r'$y = \\sin(2 \\pi f x + \\phi)$',\n        'y':0.9,\n        'x':0.5,\n        'xanchor': 'center',\n        'yanchor': 'top'})\n\nfig.update_xaxes(\n        title_text = \"x\",\n        title_standoff = 25,\n        ticks = 'outside',\n        ticklen = 10,\n        tickcolor='white')\n\nfig.update_yaxes(\n        title_text = \"y\",\n        title_standoff = 25,\n        ticks = 'outside',\n        ticklen = 10,\n        tickcolor = 'white')\n\n# Display figure\nfig",
    "id": "9414e3cae98d4c40816d196642dd658f",
    "idx": 1,
    "time": "2021-02-01T23:40:37.133Z",
    "type": "execution"
   },
   {
    "id": "9414e3cae98d4c40816d196642dd658f",
    "time": "2021-02-01T23:40:37.384Z",
    "type": "completion"
   },
   {
    "code": "import plotly.graph_objects as go\nfrom ipywidgets import interact\nimport numpy as np\n\nxs = np.linspace(0, 5, 1000)  #\n\ndef wave(f, phi, x):\n    return np.sin(2*np.pi*f*x + phi)\n\n# Plotting\n\nfig = go.FigureWidget()\n\n\nline = fig.add_trace(go.Scatter(x=xs, y=wave(1, 0, xs),\n                    mode='lines',\n                    name='lines'))\n\n@interact(f = (0.1, 10, 0.1), phi = (-3.14, 3.14, 0.01))\ndef update(f = 1, phi = 0):\n    with fig.batch_update():\n        fig.data[0].y=wave(f, phi, xs)\n\n# Formatting\n\nfig.layout = dict(yaxis=dict(range=[-1,1]), xaxis=dict(range=[0,5]), height=600)\n\nfig.update_layout(\n    title={\n        'text': r'$y = \\sin(2 \\pi f x + \\phi)$',\n        'y':0.9,\n        'x':0.5,\n        'xanchor': 'center',\n        'yanchor': 'top'})\n\nfig.update_xaxes(\n        title_text = \"x\",\n        title_standoff = 25,\n        ticks = 'outside',\n        ticklen = 10,\n        tickcolor='white')\n\nfig.update_yaxes(\n        title_text = \"y\",\n        title_standoff = 25,\n        ticks = 'outside',\n        ticklen = 10,\n        tickcolor = 'white')\n\n# Display figure\nfig",
    "id": "9414e3cae98d4c40816d196642dd658f",
    "idx": 1,
    "time": "2021-02-01T23:43:41.600Z",
    "type": "execution"
   },
   {
    "id": "9414e3cae98d4c40816d196642dd658f",
    "time": "2021-02-01T23:43:41.849Z",
    "type": "completion"
   },
   {
    "code": "import plotly.graph_objs as go\nimport plotly.offline as py\nimport plotly\n\nfrom ipywidgets import interactive, HBox, VBox, widgets, interact\n\npy.init_notebook_mode()\n\n# load fig\nfig = plotly.plotly.get_figure(\"https://plotly.com/~jordanpeterson/889\")\n\n# find the range of the slider.\nxmin, xmax = fig['layout']['xaxis']['range']\n\n# create FigureWidget from fig\nf = go.FigureWidget(data=fig.data, layout=fig.layout)\n\nslider = widgets.FloatRangeSlider(\n    min=xmin,\n    max=xmax,\n    step=(xmax - xmin) / 1000.0,\n    readout=False,\n    description='Time')\nslider.layout.width = '800px'\n\n\n# our function that will modify the xaxis range\ndef update_range(y):\n    f.layout.xaxis.range = [y[0], y[1]]\n\n\n# display the FigureWidget and slider with center justification\nvb = VBox((f, interactive(update_range, y=slider)))\nvb.layout.align_items = 'center'\nvb",
    "id": "85736820b6ba488296e745512b629dd0",
    "idx": 2,
    "time": "2021-02-01T23:45:11.621Z",
    "type": "execution"
   },
   {
    "id": "85736820b6ba488296e745512b629dd0",
    "time": "2021-02-01T23:45:13.339Z",
    "type": "completion"
   },
   {
    "code": "import plotly.graph_objs as go\nfrom ipywidgets import interactive, HBox, VBox, widgets, interact\n\nxs = np.linspace(0, 5, 1000)  #\n\ndef wave(f, phi, x):\n    return np.sin(2*np.pi*f*x + phi)\n\n# Plotting\n\nfig = go.FigureWidget()\n\n\nline = fig.add_trace(go.Scatter(x=xs, y=wave(1, 0, xs),\n                    mode='lines',\n                    name='lines'))\n\n\n# create FigureWidget from fig\nf = go.FigureWidget(data=fig.data, layout=fig.layout)\n\nslider = widgets.FloatRangeSlider(\n    min=0,\n    max=10,\n    step=0.1,\n    readout=False,\n    description='frequency')\nslider.layout.width = '800px'\n\n\n# our function that will modify the xaxis range\ndef update_range(y):\n    fig.data[0].y=wave(f, 0, xs)\n\n\n# display the FigureWidget and slider with center justification\nvb = VBox((f, interactive(update_range, y=slider)))\nvb.layout.align_items = 'center'\nvb",
    "id": "85736820b6ba488296e745512b629dd0",
    "idx": 2,
    "time": "2021-02-01T23:47:54.127Z",
    "type": "execution"
   },
   {
    "id": "85736820b6ba488296e745512b629dd0",
    "time": "2021-02-01T23:47:54.429Z",
    "type": "completion"
   },
   {
    "code": "import plotly.graph_objs as go\nfrom ipywidgets import interactive, HBox, VBox, widgets, interact\n\nxs = np.linspace(0, 5, 1000)  #\n\ndef wave(f, phi, x):\n    return np.sin(2*np.pi*f*x + phi)\n\n# Plotting\n\nfig = go.FigureWidget()\n\n\nline = fig.add_trace(go.Scatter(x=xs, y=wave(1, 0, xs),\n                    mode='lines',\n                    name='lines'))\n\n\n# create FigureWidget from fig\nf = go.FigureWidget(data=fig.data, layout=fig.layout)\n\nslider = widgets.Floatlider(\n    min=0,\n    max=10,\n    step=0.1,\n    readout=False,\n    description='frequency')\nslider.layout.width = '800px'\n\n\n# our function that will modify the xaxis range\ndef update_range(y):\n    fig.data[0].y=wave(f, 0, xs)\n\n\n# display the FigureWidget and slider with center justification\nvb = VBox((f, interactive(update_range, y=slider)))\nvb.layout.align_items = 'center'\nvb",
    "id": "85736820b6ba488296e745512b629dd0",
    "idx": 2,
    "time": "2021-02-01T23:48:03.308Z",
    "type": "execution"
   },
   {
    "id": "85736820b6ba488296e745512b629dd0",
    "time": "2021-02-01T23:48:03.509Z",
    "type": "completion"
   },
   {
    "code": "import plotly.graph_objs as go\nfrom ipywidgets import interactive, HBox, VBox, widgets, interact\n\nxs = np.linspace(0, 5, 1000)  #\n\ndef wave(f, phi, x):\n    return np.sin(2*np.pi*f*x + phi)\n\n# Plotting\n\nfig = go.FigureWidget()\n\n\nline = fig.add_trace(go.Scatter(x=xs, y=wave(1, 0, xs),\n                    mode='lines',\n                    name='lines'))\n\n\n# create FigureWidget from fig\nf = go.FigureWidget(data=fig.data, layout=fig.layout)\n\nslider = widgets.FloatSlider(\n    min=0,\n    max=10,\n    step=0.1,\n    readout=False,\n    description='frequency')\nslider.layout.width = '800px'\n\n\n# our function that will modify the xaxis range\ndef update_range(y):\n    fig.data[0].y=wave(f, 0, xs)\n\n\n# display the FigureWidget and slider with center justification\nvb = VBox((f, interactive(update_range, y=slider)))\nvb.layout.align_items = 'center'\nvb",
    "id": "85736820b6ba488296e745512b629dd0",
    "idx": 2,
    "time": "2021-02-01T23:48:12.087Z",
    "type": "execution"
   },
   {
    "id": "85736820b6ba488296e745512b629dd0",
    "time": "2021-02-01T23:48:12.351Z",
    "type": "completion"
   },
   {
    "code": "import plotly.graph_objs as go\nfrom ipywidgets import interactive, HBox, VBox, widgets, interact\n\nxs = np.linspace(0, 5, 1000)  #\n\ndef wave(f, phi, x):\n    return np.sin(2*np.pi*f*x + phi)\n\n# Plotting\n\nfig = go.FigureWidget()\n\n\nline = fig.add_trace(go.Scatter(x=xs, y=wave(1, 0, xs),\n                    mode='lines',\n                    name='lines'))\n\n\n# create FigureWidget from fig\nf = go.FigureWidget(data=fig.data, layout=fig.layout)\n\nslider = widgets.FloatSlider(\n    min=0,\n    max=10,\n    step=0.1,\n    readout=False,\n    description='frequency')\nslider.layout.width = '800px'\n\n\n# our function that will modify the xaxis range\ndef update_range(y):\n    fig.data[0].y=wave(f, 0, xs)\n\n\n# display the FigureWidget and slider with center justification\nvb = VBox((f, interactive(update_range, slider)))\nvb.layout.align_items = 'center'\nvb",
    "id": "85736820b6ba488296e745512b629dd0",
    "idx": 2,
    "time": "2021-02-01T23:50:11.842Z",
    "type": "execution"
   },
   {
    "id": "85736820b6ba488296e745512b629dd0",
    "time": "2021-02-01T23:50:12.081Z",
    "type": "completion"
   },
   {
    "code": "import plotly.graph_objs as go\nfrom ipywidgets import interactive, HBox, VBox, widgets, interact\n\nxs = np.linspace(0, 5, 1000)  #\n\ndef wave(f, phi, x):\n    return np.sin(2*np.pi*f*x + phi)\n\n# Plotting\n\nfig = go.FigureWidget()\n\n\nline = fig.add_trace(go.Scatter(x=xs, y=wave(1, 0, xs),\n                    mode='lines',\n                    name='lines'))\n\n\n# create FigureWidget from fig\nf = go.FigureWidget(data=fig.data, layout=fig.layout)\n\nslider = widgets.FloatSlider(\n    min=0,\n    max=10,\n    step=0.1,\n    readout=False,\n    description='frequency')\nslider.layout.width = '800px'\n\n\n# our function that will modify the xaxis range\ndef update_range(frequency):\n    fig.data[0].y=wave(f, 0, xs)\n\n\n# display the FigureWidget and slider with center justification\nvb = VBox((f, interactive(update_range, frequency = slider)))\nvb.layout.align_items = 'center'\nvb",
    "id": "85736820b6ba488296e745512b629dd0",
    "idx": 2,
    "time": "2021-02-01T23:50:29.222Z",
    "type": "execution"
   },
   {
    "id": "85736820b6ba488296e745512b629dd0",
    "time": "2021-02-01T23:50:29.473Z",
    "type": "completion"
   },
   {
    "code": "import plotly.graph_objs as go\nfrom ipywidgets import interactive, HBox, VBox, widgets, interact\n\nxs = np.linspace(0, 5, 1000)  #\n\ndef wave(f, phi, x):\n    return np.sin(2*np.pi*f*x + phi)\n\n# Plotting\n\nfig = go.FigureWidget()\n\n\nline = fig.add_trace(go.Scatter(x=xs, y=wave(1, 0, xs),\n                    mode='lines',\n                    name='lines'))\n\n\n# create FigureWidget from fig\nf = go.FigureWidget(data=fig.data, layout=fig.layout)\n\nwidgets.FloatSlider(\n    value=7.5,\n    min=0,\n    max=10.0,\n    step=0.1,\n    description='Test:',\n    disabled=False,\n    continuous_update=False,\n    orientation='horizontal',\n    readout=True,\n    readout_format='.1f',\n)\n\n\n# our function that will modify the xaxis range\ndef update_range(frequency):\n    fig.data[0].y=wave(f, 0, xs)\n\n\n# display the FigureWidget and slider with center justification\nvb = VBox((f, interactive(update_range, frequency = slider)))\nvb.layout.align_items = 'center'\nvb",
    "id": "85736820b6ba488296e745512b629dd0",
    "idx": 2,
    "time": "2021-02-01T23:52:05.125Z",
    "type": "execution"
   },
   {
    "id": "85736820b6ba488296e745512b629dd0",
    "time": "2021-02-01T23:52:05.417Z",
    "type": "completion"
   },
   {
    "code": "import plotly.graph_objs as go\nfrom ipywidgets import interactive, HBox, VBox, widgets, interact\n\nxs = np.linspace(0, 5, 1000)  #\n\ndef wave(f, phi, x):\n    return np.sin(2*np.pi*f*x + phi)\n\n# Plotting\n\nfig = go.FigureWidget()\n\n\nline = fig.add_trace(go.Scatter(x=xs, y=wave(1, 0, xs),\n                    mode='lines',\n                    name='lines'))\n\n\n# create FigureWidget from fig\nf = go.FigureWidget(data=fig.data, layout=fig.layout)\n\nslider = widgets.FloatSlider(\n    value=7.5,\n    min=0,\n    max=10.0,\n    step=0.1,\n    description='Test:',\n    disabled=False,\n    continuous_update=False,\n    orientation='horizontal',\n    readout=True,\n    readout_format='.1f',\n)\n\n\n# our function that will modify the xaxis range\ndef update_range(frequency):\n    fig.data[0].y=wave(f, 0, xs)\n\n\n# display the FigureWidget and slider with center justification\nvb = VBox((f, interactive(update_range, frequency = slider)))\nvb.layout.align_items = 'center'\nvb",
    "id": "85736820b6ba488296e745512b629dd0",
    "idx": 2,
    "time": "2021-02-01T23:52:18.575Z",
    "type": "execution"
   },
   {
    "id": "85736820b6ba488296e745512b629dd0",
    "time": "2021-02-01T23:52:18.871Z",
    "type": "completion"
   },
   {
    "code": "import plotly.graph_objs as go\nfrom ipywidgets import interactive, HBox, VBox, widgets, interact\n\nxs = np.linspace(0, 5, 1000)  #\n\ndef wave(f, phi, x):\n    return np.sin(2*np.pi*f*x + phi)\n\n# Plotting\n\nfig = go.FigureWidget()\n\n\nline = fig.add_trace(go.Scatter(x=xs, y=wave(1, 0, xs),\n                    mode='lines',\n                    name='lines'))\n\n\n# create FigureWidget from fig\nf = go.FigureWidget(data=fig.data, layout=fig.layout)\n\nslider = widgets.FloatSlider(\n    value=7.5,\n    min=0,\n    max=10.0,\n    step=0.1,\n    description='Test:',\n    disabled=False,\n    continuous_update=False,\n    orientation='horizontal',\n    readout=True,\n    readout_format='.1f',\n)\n\n\n# our function that will modify the xaxis range\ndef update_range(frequency):\n    fig.data[0].y=wave(f.value, 0, xs)\n\n\n# display the FigureWidget and slider with center justification\nvb = VBox((f, interactive(update_range, frequency = slider)))\nvb.layout.align_items = 'center'\nvb",
    "id": "85736820b6ba488296e745512b629dd0",
    "idx": 2,
    "time": "2021-02-01T23:52:29.555Z",
    "type": "execution"
   },
   {
    "id": "85736820b6ba488296e745512b629dd0",
    "time": "2021-02-01T23:52:29.856Z",
    "type": "completion"
   },
   {
    "code": "import plotly.graph_objs as go\nfrom ipywidgets import interactive, HBox, VBox, widgets, interact\n\nxs = np.linspace(0, 5, 1000)  #\n\ndef wave(f, phi, x):\n    return np.sin(2*np.pi*f*x + phi)\n\n# Plotting\n\nfig = go.FigureWidget()\n\n\nline = fig.add_trace(go.Scatter(x=xs, y=wave(1, 0, xs),\n                    mode='lines',\n                    name='lines'))\n\n\n# create FigureWidget from fig\nf = go.FigureWidget(data=fig.data, layout=fig.layout)\n\nslider = widgets.FloatSlider(\n    value=7.5,\n    min=0,\n    max=10.0,\n    step=0.1,\n    description='Test:',\n    disabled=False,\n    continuous_update=False,\n    orientation='horizontal',\n    readout=True,\n    readout_format='.1f',\n)\n\n\n# our function that will modify the xaxis range\ndef update_range(frequency):\n    fig.data[0].y=wave(frequency.value, 0, xs)\n\n\n# display the FigureWidget and slider with center justification\nvb = VBox((f, interactive(update_range, frequency = slider)))\nvb.layout.align_items = 'center'\nvb",
    "id": "85736820b6ba488296e745512b629dd0",
    "idx": 2,
    "time": "2021-02-01T23:52:39.016Z",
    "type": "execution"
   },
   {
    "id": "85736820b6ba488296e745512b629dd0",
    "time": "2021-02-01T23:52:39.350Z",
    "type": "completion"
   },
   {
    "code": "import plotly.graph_objs as go\nfrom ipywidgets import interactive, HBox, VBox, widgets, interact\n\nxs = np.linspace(0, 5, 1000)  #\n\ndef wave(f, phi, x):\n    return np.sin(2*np.pi*f*x + phi)\n\n# Plotting\n\nfig = go.FigureWidget()\n\n\nline = fig.add_trace(go.Scatter(x=xs, y=wave(1, 0, xs),\n                    mode='lines',\n                    name='lines'))\n\n\n# create FigureWidget from fig\nf = go.FigureWidget(data=fig.data, layout=fig.layout)\n\nslider = widgets.FloatSlider(\n    value=7.5,\n    min=0,\n    max=10.0,\n    step=0.1,\n    description='Test:',\n    disabled=False,\n    continuous_update=False,\n    orientation='horizontal',\n    readout=True,\n    readout_format='.1f',\n)\n\n\n# our function that will modify the xaxis range\ndef update_range(frequency):\n    fig.data[0].y=wave(frequency, 0, xs)\n\n\n# display the FigureWidget and slider with center justification\nvb = VBox((f, interactive(update_range, frequency = slider)))\nvb.layout.align_items = 'center'\nvb",
    "id": "85736820b6ba488296e745512b629dd0",
    "idx": 2,
    "time": "2021-02-01T23:52:46.666Z",
    "type": "execution"
   },
   {
    "id": "85736820b6ba488296e745512b629dd0",
    "time": "2021-02-01T23:52:47.020Z",
    "type": "completion"
   },
   {
    "code": "import plotly.graph_objs as go\nfrom ipywidgets import interactive, HBox, VBox, widgets, interact\n\nxs = np.linspace(0, 5, 1000)  #\n\ndef wave(f, phi, x):\n    return np.sin(2*np.pi*f*x + phi)\n\n# Plotting\n\nfig = go.FigureWidget()\n\n\nline = fig.add_trace(go.Scatter(x=xs, y=wave(1, 0, xs),\n                    mode='lines',\n                    name='lines'))\n\n\n# create FigureWidget from fig\nf = go.FigureWidget(data=fig.data, layout=fig.layout)\n\nslider = widgets.FloatSlider(\n    value=7.5,\n    min=0,\n    max=10.0,\n    step=0.1,\n    description='Test:',\n    disabled=False,\n    continuous_update=True,\n    orientation='horizontal',\n    readout=True,\n    readout_format='.1f',\n)\n\n\n# our function that will modify the xaxis range\ndef update_range(frequency):\n    fig.data[0].y=wave(frequency, 0, xs)\n\n\n# display the FigureWidget and slider with center justification\nvb = VBox((f, interactive(update_range, frequency = slider)))\nvb.layout.align_items = 'center'\nvb",
    "id": "85736820b6ba488296e745512b629dd0",
    "idx": 2,
    "time": "2021-02-01T23:53:04.904Z",
    "type": "execution"
   },
   {
    "id": "85736820b6ba488296e745512b629dd0",
    "time": "2021-02-01T23:53:05.201Z",
    "type": "completion"
   },
   {
    "code": "import plotly.graph_objs as go\nfrom ipywidgets import interactive, HBox, VBox, widgets, interact\n\nxs = np.linspace(0, 5, 1000)  #\n\ndef wave(f, phi, x):\n    return np.sin(2*np.pi*f*x + phi)\n\n# Plotting\n\nfig = go.FigureWidget()\n\n\nline = fig.add_trace(go.Scatter(x=xs, y=wave(1, 0, xs),\n                    mode='lines',\n                    name='lines'))\n\n\n# create FigureWidget from fig\nf = go.FigureWidget(data=fig.data, layout=fig.layout)\n\nslider = widgets.FloatSlider(\n    min=0,\n    max=10,\n    step=0.1,\n    readout=False,\n    description='frequency')\nslider.layout.width = '800px'\n\n\n# our function that will modify the xaxis range\ndef update_range(frequency):\n    fig.data[0].y=wave(frequency, 0, xs)\n\n\n# display the FigureWidget and slider with center justification\nvb = VBox((f, interactive(update_range, frequency = slider)))\nvb.layout.align_items = 'center'\nvb",
    "id": "85736820b6ba488296e745512b629dd0",
    "idx": 2,
    "time": "2021-02-01T23:53:43.935Z",
    "type": "execution"
   },
   {
    "id": "85736820b6ba488296e745512b629dd0",
    "time": "2021-02-01T23:53:44.175Z",
    "type": "completion"
   },
   {
    "code": "import plotly.graph_objs as go\nfrom ipywidgets import interactive, HBox, VBox, widgets, interact\n\nxs = np.linspace(0, 5, 1000)  #\n\ndef wave(f, phi, x):\n    return np.sin(2*np.pi*f*x + phi)\n\n# Plotting\n\nfig = go.FigureWidget()\n\n\nline = fig.add_trace(go.Scatter(x=xs, y=wave(1, 0, xs),\n                    mode='lines',\n                    name='lines'))\n\n\n# create FigureWidget from fig\nf = go.FigureWidget(data=fig.data, layout=fig.layout)\n\nslider = widgets.FloatSlider(\n    min=0,\n    max=10,\n    step=0.1,\n    readout=True,\n    description='frequency')\nslider.layout.width = '800px'\n\n\n# our function that will modify the xaxis range\ndef update_range(frequency):\n    fig.data[0].y=wave(frequency, 0, xs)\n\n\n# display the FigureWidget and slider with center justification\nvb = VBox((f, interactive(update_range, frequency = slider)))\nvb.layout.align_items = 'center'\nvb",
    "id": "85736820b6ba488296e745512b629dd0",
    "idx": 2,
    "time": "2021-02-01T23:54:02.215Z",
    "type": "execution"
   },
   {
    "id": "85736820b6ba488296e745512b629dd0",
    "time": "2021-02-01T23:54:02.525Z",
    "type": "completion"
   },
   {
    "code": "import plotly.graph_objs as go\nfrom ipywidgets import interactive, HBox, VBox, widgets, interact\n\nxs = np.linspace(0, 5, 1000)  #\n\ndef wave(f, phi, x):\n    return np.sin(2*np.pi*f*x + phi)\n\n# Plotting\n\nfig = go.FigureWidget()\n\n\nline = fig.add_trace(go.Scatter(x=xs, y=wave(1, 0, xs),\n                    mode='lines',\n                    name='lines'))\n\n\n# create FigureWidget from fig\nf = go.FigureWidget(data=fig.data, layout=fig.layout)\n\nslider = widgets.FloatSlider(\n    min=0,\n    max=10,\n    step=0.1,\n    readout=True,\n    description='frequency')\nslider.layout.width = '800px'\n\n\n# our function that will modify the xaxis range\ndef update_range(frequency):\n    fig.data[0].y=wave(frequency, 0, xs)\n\n\n# display the FigureWidget and slider with center justification\nvb = VBox((fig, interactive(update_range, frequency = slider)))\nvb.layout.align_items = 'center'\nvb",
    "id": "85736820b6ba488296e745512b629dd0",
    "idx": 2,
    "time": "2021-02-01T23:55:06.997Z",
    "type": "execution"
   },
   {
    "id": "85736820b6ba488296e745512b629dd0",
    "time": "2021-02-01T23:55:07.327Z",
    "type": "completion"
   },
   {
    "code": "import plotly.graph_objs as go\nfrom ipywidgets import interactive, HBox, VBox, widgets, interact\n\nxs = np.linspace(0, 5, 1000)  #\n\ndef wave(f, phi, x):\n    return np.sin(2*np.pi*f*x + phi)\n\n# Plotting\n\nfig = go.FigureWidget()\n\n\nline = fig.add_trace(go.Scatter(x=xs, y=wave(1, 0, xs),\n                    mode='lines',\n                    name='lines'))\n\n\n# create FigureWidget from fig\nf = go.FigureWidget(data=fig.data, layout=fig.layout)\n\nslider = widgets.FloatSlider(\n    min=0,\n    max=10,\n    step=0.1,\n    readout=True,\n    description='frequency')\nslider.layout.width = '800px'\n\n\n# our function that will modify the xaxis range\ndef update_range(frequency):\n    f.data[0].y=wave(frequency, 0, xs)\n\n\n# display the FigureWidget and slider with center justification\nvb = VBox((f, interactive(update_range, frequency = slider)))\nvb.layout.align_items = 'center'\nvb",
    "id": "85736820b6ba488296e745512b629dd0",
    "idx": 2,
    "time": "2021-02-01T23:55:21.043Z",
    "type": "execution"
   },
   {
    "id": "85736820b6ba488296e745512b629dd0",
    "time": "2021-02-01T23:55:21.362Z",
    "type": "completion"
   },
   {
    "code": "import plotly.graph_objs as go\nfrom ipywidgets import interactive, HBox, VBox, widgets, interact\n\nxs = np.linspace(0, 5, 1000)  #\n\ndef wave(f, phi, x):\n    return np.sin(2*np.pi*f*x + phi)\n\n# Plotting\n\nfig = go.FigureWidget()\n\n\nline = fig.add_trace(go.Scatter(x=xs, y=wave(1, 0, xs),\n                    mode='lines',\n                    name='lines'))\n\n\n# create FigureWidget from fig\nf = go.FigureWidget(data=fig.data, layout=fig.layout)\n\nslider = widgets.FloatSlider(\n    min=0,\n    max=10,\n    step=0.1,\n    readout=True,\n    description='frequency')\nslider.layout.width = '800px'\n\n\n# our function that will modify the xaxis range\ndef update_range(frequency):\n    f.data[0].y=wave(frequency, 0, xs)\n\n\n# display the FigureWidget and slider with center justification\nvb = VBox((f, interactive(update_range, frequency = slider)))\nvb.layout.align_items = 'center'\nvb",
    "id": "85736820b6ba488296e745512b629dd0",
    "idx": 2,
    "time": "2021-02-01T23:55:34.660Z",
    "type": "execution"
   },
   {
    "id": "85736820b6ba488296e745512b629dd0",
    "time": "2021-02-01T23:55:35.010Z",
    "type": "completion"
   },
   {
    "code": "import plotly.graph_objs as go\nfrom ipywidgets import interactive, HBox, VBox, widgets, interact\n\nxs = np.linspace(0, 5, 1000)  #\n\ndef wave(f, phi, x):\n    return np.sin(2*np.pi*f*x + phi)\n\n# Plotting\n\nfig = go.FigureWidget()\n\n\nline = fig.add_trace(go.Scatter(x=xs, y=wave(1, 0, xs),\n                    mode='lines',\n                    name='lines'))\n\n\n# create FigureWidget from fig\nf = go.FigureWidget(data=fig.data, layout=fig.layout)\n\nslider = widgets.FloatSlider(\n    value = 1,\n    min=0.1,\n    max=10,\n    step=0.1,\n    readout=True,\n    description='frequency')\nslider.layout.width = '800px'\n\n\n# our function that will modify the xaxis range\ndef update_range(frequency):\n    f.data[0].y=wave(frequency, 0, xs)\n\n\n# display the FigureWidget and slider with center justification\nvb = VBox((f, interactive(update_range, frequency = slider)))\nvb.layout.align_items = 'center'\nvb",
    "id": "85736820b6ba488296e745512b629dd0",
    "idx": 2,
    "time": "2021-02-01T23:56:33.611Z",
    "type": "execution"
   },
   {
    "id": "85736820b6ba488296e745512b629dd0",
    "time": "2021-02-01T23:56:33.892Z",
    "type": "completion"
   },
   {
    "code": "import plotly.graph_objs as go\nfrom ipywidgets import interactive, HBox, VBox, widgets, interact\n\nxs = np.linspace(0, 5, 1000)  #\n\ndef wave(f, phi, x):\n    return np.sin(2*np.pi*f*x + phi)\n\n# Plotting\n\nfig = go.FigureWidget()\n\nslider = widgets.FloatSlider(\n    value = 1,\n    min=0.1,\n    max=10,\n    step=0.1,\n    readout=True,\n    description='frequency')\nslider.layout.width = '800px'\n\n\n# our function that will modify the xaxis range\ndef update_range(frequency):\n    fig.data[0].y=wave(frequency, 0, xs)\n\n\n# display the FigureWidget and slider with center justification\nvb = VBox((fig, interactive(update_range, frequency = slider)))\nvb.layout.align_items = 'center'\nvb",
    "id": "85736820b6ba488296e745512b629dd0",
    "idx": 2,
    "time": "2021-02-01T23:57:32.090Z",
    "type": "execution"
   },
   {
    "id": "85736820b6ba488296e745512b629dd0",
    "time": "2021-02-01T23:57:32.313Z",
    "type": "completion"
   },
   {
    "code": "import plotly.graph_objs as go\nfrom ipywidgets import interactive, HBox, VBox, widgets, interact\n\nxs = np.linspace(0, 5, 1000)  #\n\ndef wave(f, phi, x):\n    return np.sin(2*np.pi*f*x + phi)\n\n# Plotting\n\nfig = go.FigureWidget()\n\nline = fig.add_trace(go.Scatter(x=xs, y=wave(1, 0, xs),\n                    mode='lines',\n                    name='lines'))\n\nslider = widgets.FloatSlider(\n    value = 1,\n    min=0.1,\n    max=10,\n    step=0.1,\n    readout=True,\n    description='frequency')\nslider.layout.width = '800px'\n\n\n# our function that will modify the xaxis range\ndef update_range(frequency):\n    fig.data[0].y=wave(frequency, 0, xs)\n\n\n# display the FigureWidget and slider with center justification\nvb = VBox((fig, interactive(update_range, frequency = slider)))\nvb.layout.align_items = 'center'\nvb",
    "id": "85736820b6ba488296e745512b629dd0",
    "idx": 2,
    "time": "2021-02-01T23:58:21.988Z",
    "type": "execution"
   },
   {
    "id": "85736820b6ba488296e745512b629dd0",
    "time": "2021-02-01T23:58:22.270Z",
    "type": "completion"
   },
   {
    "code": "import plotly.graph_objs as go\nfrom ipywidgets import interactive, HBox, VBox, widgets, interact\n\nxs = np.linspace(0, 5, 1000)  #\n\ndef wave(f, phi, x):\n    return np.sin(2*np.pi*f*x + phi)\n\n# Plotting\n\nfig = go.FigureWidget()\n\nfig.layout = dict(yaxis=dict(range=[-1,1]), xaxis=dict(range=[0,5]), height=600)\n\nfig.update_layout(\n    title={\n        'text': r'$y = \\sin(2 \\pi f x + \\phi)$',\n        'y':0.9,\n        'x':0.5,\n        'xanchor': 'center',\n        'yanchor': 'top'})\n\nfig.update_xaxes(\n        title_text = \"x\",\n        title_standoff = 25,\n        ticks = 'outside',\n        ticklen = 10,\n        tickcolor='white')\n\nfig.update_yaxes(\n        title_text = \"y\",\n        title_standoff = 25,\n        ticks = 'outside',\n        ticklen = 10,\n        tickcolor = 'white')\n\n\nline = fig.add_trace(go.Scatter(x=xs, y=wave(1, 0, xs),\n                    mode='lines',\n                    name='lines'))\n\nslider = widgets.FloatSlider(\n    value = 1,\n    min=0.1,\n    max=10,\n    step=0.1,\n    readout=True,\n    description='frequency')\nslider.layout.width = '800px'\n\n\n# our function that will modify the xaxis range\ndef update_range(frequency):\n    fig.data[0].y=wave(frequency, 0, xs)\n\n\n# display the FigureWidget and slider with center justification\nvb = VBox((fig, interactive(update_range, frequency = slider)))\nvb.layout.align_items = 'center'\nvb",
    "id": "85736820b6ba488296e745512b629dd0",
    "idx": 2,
    "time": "2021-02-01T23:58:46.689Z",
    "type": "execution"
   },
   {
    "id": "85736820b6ba488296e745512b629dd0",
    "time": "2021-02-01T23:58:46.964Z",
    "type": "completion"
   },
   {
    "code": "import plotly.graph_objs as go\nfrom ipywidgets import interactive, HBox, VBox, widgets, interact\n\nxs = np.linspace(0, 5, 1000)  #\n\ndef wave(f, phi, x):\n    return np.sin(2*np.pi*f*x + phi)\n\n# Plotting\n\nfig = go.FigureWidget()\n\nfig.layout = dict(yaxis=dict(range=[-1,1]), xaxis=dict(range=[0,5]), height=600)\n\nfig.update_layout(\n    title={\n        'text': r'$y = \\sin(2 \\pi f x + \\phi)$',\n        'y':0.9,\n        'x':0.5,\n        'xanchor': 'center',\n        'yanchor': 'top'})\n\nfig.update_xaxes(\n        title_text = \"x\",\n        title_standoff = 25,\n        ticks = 'outside',\n        ticklen = 10,\n        tickcolor='white')\n\nfig.update_yaxes(\n        title_text = \"y\",\n        title_standoff = 25,\n        ticks = 'outside',\n        ticklen = 10,\n        tickcolor = 'white')\n\n\nline = fig.add_trace(go.Scatter(x=xs, y=wave(1, 0, xs),\n                    mode='lines',\n                    name='lines'))\n\nslider = widgets.FloatSlider(\n    value = 1,\n    min=0.1,\n    max=10,\n    step=0.1,\n    readout=True,\n    description='frequency')\nslider.layout.width = '400px'\n\nslider2 = widgets.FloatSlider(\n    value = 0,\n    min=-3.14,\n    max=3.14,\n    step=0.01,\n    readout=True,\n    description='phi')\nslider2.layout.width = '400px'\n\n\n# our function that will modify the xaxis range\ndef update_range(frequency, phi):\n    fig.data[0].y=wave(frequency, phi, xs)\n\n\n# display the FigureWidget and slider with center justification\nvb = VBox((fig, interactive(update_range, frequency = slider, phi = slider2)))\nvb.layout.align_items = 'center'\nvb",
    "id": "85736820b6ba488296e745512b629dd0",
    "idx": 2,
    "time": "2021-02-01T23:59:51.717Z",
    "type": "execution"
   },
   {
    "id": "85736820b6ba488296e745512b629dd0",
    "time": "2021-02-01T23:59:52.008Z",
    "type": "completion"
   },
   {
    "code": "import plotly.graph_objs as go\nfrom ipywidgets import interactive, HBox, VBox, widgets, interact\n\nxs = np.linspace(0, 5, 1000)  #\n\ndef wave(f, phi, x):\n    return np.sin(2*np.pi*f*x + phi)\n\n# Plotting\n\nfig = go.FigureWidget()\n\nfig.layout = dict(yaxis=dict(range=[-1,1]), xaxis=dict(range=[0,5]), height=800)\n\nfig.update_layout(\n    title={\n        'text': r'$y = \\sin(2 \\pi f x + \\phi)$',\n        'y':0.9,\n        'x':0.5,\n        'xanchor': 'center',\n        'yanchor': 'top'})\n\nfig.update_xaxes(\n        title_text = \"x\",\n        title_standoff = 25,\n        ticks = 'outside',\n        ticklen = 10,\n        tickcolor='white')\n\nfig.update_yaxes(\n        title_text = \"y\",\n        title_standoff = 25,\n        ticks = 'outside',\n        ticklen = 10,\n        tickcolor = 'white')\n\n\nline = fig.add_trace(go.Scatter(x=xs, y=wave(1, 0, xs),\n                    mode='lines',\n                    name='lines'))\n\nslider = widgets.FloatSlider(\n    value = 1,\n    min=0.1,\n    max=10,\n    step=0.1,\n    readout=True,\n    description='frequency')\nslider.layout.width = '400px'\n\nslider2 = widgets.FloatSlider(\n    value = 0,\n    min=-3.14,\n    max=3.14,\n    step=0.01,\n    readout=True,\n    description='phi')\nslider2.layout.width = '400px'\n\n\n# our function that will modify the xaxis range\ndef update_range(frequency, phi):\n    fig.data[0].y=wave(frequency, phi, xs)\n\n\n# display the FigureWidget and slider with center justification\nvb = VBox((fig, interactive(update_range, frequency = slider, phi = slider2)))\nvb.layout.align_items = 'center'\nvb",
    "id": "85736820b6ba488296e745512b629dd0",
    "idx": 2,
    "time": "2021-02-02T00:00:27.572Z",
    "type": "execution"
   },
   {
    "id": "85736820b6ba488296e745512b629dd0",
    "time": "2021-02-02T00:00:27.911Z",
    "type": "completion"
   },
   {
    "code": "import plotly.graph_objs as go\nfrom ipywidgets import interactive, HBox, VBox, widgets, interact\n\nxs = np.linspace(0, 5, 1000)  #\n\ndef wave(f, phi, x):\n    return np.sin(2*np.pi*f*x + phi)\n\n# Plotting\n\nfig = go.FigureWidget()\n\nfig.layout = dict(yaxis=dict(range=[-1,1]), xaxis=dict(range=[0,5]), height=800, width = 1000)\n\nfig.update_layout(\n    title={\n        'text': r'$y = \\sin(2 \\pi f x + \\phi)$',\n        'y':0.9,\n        'x':0.5,\n        'xanchor': 'center',\n        'yanchor': 'top'})\n\nfig.update_xaxes(\n        title_text = \"x\",\n        title_standoff = 25,\n        ticks = 'outside',\n        ticklen = 10,\n        tickcolor='white')\n\nfig.update_yaxes(\n        title_text = \"y\",\n        title_standoff = 25,\n        ticks = 'outside',\n        ticklen = 10,\n        tickcolor = 'white')\n\n\nline = fig.add_trace(go.Scatter(x=xs, y=wave(1, 0, xs),\n                    mode='lines',\n                    name='lines'))\n\nslider = widgets.FloatSlider(\n    value = 1,\n    min=0.1,\n    max=10,\n    step=0.1,\n    readout=True,\n    description='frequency')\nslider.layout.width = '400px'\n\nslider2 = widgets.FloatSlider(\n    value = 0,\n    min=-3.14,\n    max=3.14,\n    step=0.01,\n    readout=True,\n    description='phi')\nslider2.layout.width = '400px'\n\n\n# our function that will modify the xaxis range\ndef update_range(frequency, phi):\n    fig.data[0].y=wave(frequency, phi, xs)\n\n\n# display the FigureWidget and slider with center justification\nvb = VBox((fig, interactive(update_range, frequency = slider, phi = slider2)))\nvb.layout.align_items = 'center'\nvb",
    "id": "85736820b6ba488296e745512b629dd0",
    "idx": 2,
    "time": "2021-02-02T00:00:34.817Z",
    "type": "execution"
   },
   {
    "id": "85736820b6ba488296e745512b629dd0",
    "time": "2021-02-02T00:00:35.100Z",
    "type": "completion"
   },
   {
    "code": "import plotly.graph_objs as go\nfrom ipywidgets import interactive, HBox, VBox, widgets, interact\n\nxs = np.linspace(0, 5, 1000)  #\n\ndef wave(f, phi, x):\n    return np.sin(2*np.pi*f*x + phi)\n\n# Plotting\n\nfig = go.FigureWidget()\n\nfig.layout = dict(yaxis=dict(range=[-1,1]), xaxis=dict(range=[0,5]), height=600, width = 1000)\n\nfig.update_layout(\n    title={\n        'text': r'$y = \\sin(2 \\pi f x + \\phi)$',\n        'y':0.9,\n        'x':0.5,\n        'xanchor': 'center',\n        'yanchor': 'top'})\n\nfig.update_xaxes(\n        title_text = \"x\",\n        title_standoff = 25,\n        ticks = 'outside',\n        ticklen = 10,\n        tickcolor='white')\n\nfig.update_yaxes(\n        title_text = \"y\",\n        title_standoff = 25,\n        ticks = 'outside',\n        ticklen = 10,\n        tickcolor = 'white')\n\n\nline = fig.add_trace(go.Scatter(x=xs, y=wave(1, 0, xs),\n                    mode='lines',\n                    name='lines'))\n\nslider = widgets.FloatSlider(\n    value = 1,\n    min=0.1,\n    max=10,\n    step=0.1,\n    readout=True,\n    description='frequency')\nslider.layout.width = '400px'\n\nslider2 = widgets.FloatSlider(\n    value = 0,\n    min=-3.14,\n    max=3.14,\n    step=0.01,\n    readout=True,\n    description='phi')\nslider2.layout.width = '400px'\n\n\n# our function that will modify the xaxis range\ndef update_range(frequency, phi):\n    fig.data[0].y=wave(frequency, phi, xs)\n\n\n# display the FigureWidget and slider with center justification\nvb = VBox((fig, interactive(update_range, frequency = slider, phi = slider2)))\nvb.layout.align_items = 'center'\nvb",
    "id": "85736820b6ba488296e745512b629dd0",
    "idx": 2,
    "time": "2021-02-02T00:00:41.534Z",
    "type": "execution"
   },
   {
    "id": "85736820b6ba488296e745512b629dd0",
    "time": "2021-02-02T00:00:41.921Z",
    "type": "completion"
   },
   {
    "code": "import plotly.graph_objs as go\nfrom ipywidgets import interactive, HBox, VBox, widgets, interact\n\nxs = np.linspace(0, 5, 1000)  #\n\ndef wave(f, phi, x):\n    return np.sin(2*np.pi*f*x + phi)\n\n# Plotting\n\nfig = go.FigureWidget()\n\nfig.layout = dict(yaxis=dict(range=[-1,1]), xaxis=dict(range=[0,5]), height=600, width = 1000)\n\nfig.update_layout(\n    title={\n        'text': r'$y = \\sin(2 \\pi f x + \\phi)$',\n        'y':0.9,\n        'x':0.5,\n        'xanchor': 'center',\n        'yanchor': 'top'})\n\nfig.update_xaxes(\n        title_text = \"x\",\n        title_standoff = 25,\n        ticks = 'outside',\n        ticklen = 10,\n        tickcolor='white')\n\nfig.update_yaxes(\n        title_text = \"y\",\n        title_standoff = 25,\n        ticks = 'outside',\n        ticklen = 10,\n        tickcolor = 'white')\n\n\nline = fig.add_trace(go.Scatter(x=xs, y=wave(1, 0, xs),\n                    mode='lines',\n                    name='lines'))\n\nslider = widgets.FloatSlider(\n    value = 1,\n    min=0.1,\n    max=10,\n    step=0.1,\n    readout=True,\n    description=r'$f$')\nslider.layout.width = '400px'\n\nslider2 = widgets.FloatSlider(\n    value = 0,\n    min=-3.14,\n    max=3.14,\n    step=0.01,\n    readout=True,\n    description='phi')\nslider2.layout.width = '400px'\n\n\n# our function that will modify the xaxis range\ndef update_range(frequency, phi):\n    fig.data[0].y=wave(frequency, phi, xs)\n\n\n# display the FigureWidget and slider with center justification\nvb = VBox((fig, interactive(update_range, frequency = slider, phi = slider2)))\nvb.layout.align_items = 'center'\nvb",
    "id": "85736820b6ba488296e745512b629dd0",
    "idx": 2,
    "time": "2021-02-02T00:01:11.768Z",
    "type": "execution"
   },
   {
    "id": "85736820b6ba488296e745512b629dd0",
    "time": "2021-02-02T00:01:12.100Z",
    "type": "completion"
   },
   {
    "code": "import plotly.graph_objs as go\nfrom ipywidgets import interactive, HBox, VBox, widgets, interact\n\nxs = np.linspace(0, 5, 1000)  #\n\ndef wave(f, phi, x):\n    return np.sin(2*np.pi*f*x + phi)\n\n# Plotting\n\nfig = go.FigureWidget()\n\nfig.layout = dict(yaxis=dict(range=[-1,1]), xaxis=dict(range=[0,5]), height=600, width = 1000)\n\nfig.update_layout(\n    title={\n        'text': r'$y = \\sin(2 \\pi f x + \\phi)$',\n        'y':0.9,\n        'x':0.5,\n        'xanchor': 'center',\n        'yanchor': 'top'})\n\nfig.update_xaxes(\n        title_text = \"x\",\n        title_standoff = 25,\n        ticks = 'outside',\n        ticklen = 10,\n        tickcolor='white')\n\nfig.update_yaxes(\n        title_text = \"y\",\n        title_standoff = 25,\n        ticks = 'outside',\n        ticklen = 10,\n        tickcolor = 'white')\n\n\nline = fig.add_trace(go.Scatter(x=xs, y=wave(1, 0, xs),\n                    mode='lines',\n                    name='lines'))\n\nslider = widgets.FloatSlider(\n    value = 1,\n    min=0.1,\n    max=10,\n    step=0.1,\n    readout=True,\n    description=r'$f$')\nslider.layout.width = '400px'\n\nslider2 = widgets.FloatSlider(\n    value = 0,\n    min=-3.14,\n    max=3.14,\n    step=0.01,\n    readout=True,\n    description=r'$\\phi$')\nslider2.layout.width = '400px'\n\n\n# our function that will modify the xaxis range\ndef update_range(frequency, phi):\n    fig.data[0].y=wave(frequency, phi, xs)\n\n\n# display the FigureWidget and slider with center justification\nvb = VBox((fig, interactive(update_range, frequency = slider, phi = slider2)))\nvb.layout.align_items = 'center'\nvb",
    "id": "85736820b6ba488296e745512b629dd0",
    "idx": 2,
    "time": "2021-02-02T00:01:27.979Z",
    "type": "execution"
   },
   {
    "id": "85736820b6ba488296e745512b629dd0",
    "time": "2021-02-02T00:01:28.271Z",
    "type": "completion"
   },
   {
    "code": "import plotly.graph_objs as go\nfrom ipywidgets import interactive, HBox, VBox, widgets, interact\n\nxs = np.linspace(0, 5, 1000)  #\n\ndef wave(f, phi, x):\n    return np.sin(2*np.pi*f*x + phi)\n\n# Plotting\n\nfig = go.FigureWidget()\n\nfig.layout = dict(yaxis=dict(range=[-1,1]), xaxis=dict(range=[0,5]), height=600, width = 1000)\n\nfig.update_layout(\n    title={\n        'text': r'$y = \\sin(2 \\pi f x + \\phi)$',\n        'y':0.9,\n        'x':0.5,\n        'xanchor': 'center',\n        'yanchor': 'top'})\n\nfig.update_xaxes(\n        title_text = r\"$x$\",\n        title_standoff = 25,\n        ticks = 'outside',\n        ticklen = 10,\n        tickcolor='white')\n\nfig.update_yaxes(\n        title_text = r\"$y$\",\n        title_standoff = 25,\n        ticks = 'outside',\n        ticklen = 10,\n        tickcolor = 'white')\n\n\nline = fig.add_trace(go.Scatter(x=xs, y=wave(1, 0, xs),\n                    mode='lines',\n                    name='lines'))\n\nslider = widgets.FloatSlider(\n    value = 1,\n    min=0.1,\n    max=10,\n    step=0.1,\n    readout=True,\n    description=r'$f$')\nslider.layout.width = '400px'\n\nslider2 = widgets.FloatSlider(\n    value = 0,\n    min=-3.14,\n    max=3.14,\n    step=0.01,\n    readout=True,\n    description=r'$\\phi$')\nslider2.layout.width = '400px'\n\n\n# our function that will modify the xaxis range\ndef update_range(frequency, phi):\n    fig.data[0].y=wave(frequency, phi, xs)\n\n\n# display the FigureWidget and slider with center justification\nvb = VBox((fig, interactive(update_range, frequency = slider, phi = slider2)))\nvb.layout.align_items = 'center'\nvb",
    "id": "85736820b6ba488296e745512b629dd0",
    "idx": 2,
    "time": "2021-02-02T00:02:04.338Z",
    "type": "execution"
   },
   {
    "id": "85736820b6ba488296e745512b629dd0",
    "time": "2021-02-02T00:02:04.631Z",
    "type": "completion"
   },
   {
    "code": "import plotly.graph_objs as go\nfrom ipywidgets import interactive, HBox, VBox, widgets, interact\n\nxs = np.linspace(0, 5, 1000)  #\n\ndef wave(f, phi, x):\n    return np.sin(2*np.pi*f*x + phi)\n\n# Plotting\n\nfig = go.FigureWidget()\n\nfig.layout = dict(yaxis=dict(range=[-1,1]), xaxis=dict(range=[0,5]), height=600, width = 1000)\n\nfig.update_layout(\n    title={\n        'text': r'$y = \\sin(2 \\pi f x + \\phi)$',\n        'y':0.9,\n        'x':0.5,\n        'xanchor': 'center',\n        'yanchor': 'top'})\n\nfig.update_xaxes(\n        title_text = r\"$x$\",\n        title_standoff = 15,\n        ticks = 'outside',\n        ticklen = 10,\n        tickcolor='white')\n\nfig.update_yaxes(\n        title_text = '',\n        title_standoff = 25,\n        ticks = 'outside',\n        ticklen = 10,\n        tickcolor = 'white')\n\n\nline = fig.add_trace(go.Scatter(x=xs, y=wave(1, 0, xs),\n                    mode='lines',\n                    name='lines'))\n\nslider = widgets.FloatSlider(\n    value = 1,\n    min=0.1,\n    max=10,\n    step=0.1,\n    readout=True,\n    description=r'$f$')\nslider.layout.width = '400px'\n\nslider2 = widgets.FloatSlider(\n    value = 0,\n    min=-3.14,\n    max=3.14,\n    step=0.01,\n    readout=True,\n    description=r'$\\phi$')\nslider2.layout.width = '400px'\n\n\n# our function that will modify the xaxis range\ndef update_range(frequency, phi):\n    fig.data[0].y=wave(frequency, phi, xs)\n\n\n# display the FigureWidget and slider with center justification\nvb = VBox((fig, interactive(update_range, frequency = slider, phi = slider2)))\nvb.layout.align_items = 'center'\nvb",
    "id": "85736820b6ba488296e745512b629dd0",
    "idx": 2,
    "time": "2021-02-02T00:02:30.836Z",
    "type": "execution"
   },
   {
    "id": "85736820b6ba488296e745512b629dd0",
    "time": "2021-02-02T00:02:31.166Z",
    "type": "completion"
   },
   {
    "code": "import plotly.graph_objs as go\nfrom ipywidgets import interactive, HBox, VBox, widgets, interact\n\nxs = np.linspace(0, 5, 1000)  #\n\ndef wave(f, phi, x):\n    return np.sin(2*np.pi*f*x + phi)\n\n# Plotting\n\nfig = go.FigureWidget()\n\nfig.layout = dict(yaxis=dict(range=[-1,1]), xaxis=dict(range=[0,5]))\n\nfig.update_layout(\n    title={\n        'text': r'$y = \\sin(2 \\pi f x + \\phi)$',\n        'y':0.9,\n        'x':0.5,\n        'xanchor': 'center',\n        'yanchor': 'top'})\n\nfig.update_xaxes(\n        title_text = r\"$x$\",\n        title_standoff = 15,\n        ticks = 'outside',\n        ticklen = 10,\n        tickcolor='white')\n\nfig.update_yaxes(\n        title_text = '',\n        title_standoff = 25,\n        ticks = 'outside',\n        ticklen = 10,\n        tickcolor = 'white')\n\n\nline = fig.add_trace(go.Scatter(x=xs, y=wave(1, 0, xs),\n                    mode='lines',\n                    name='lines'))\n\nslider = widgets.FloatSlider(\n    value = 1,\n    min=0.1,\n    max=10,\n    step=0.1,\n    readout=True,\n    description=r'$f$')\nslider.layout.width = '400px'\n\nslider2 = widgets.FloatSlider(\n    value = 0,\n    min=-3.14,\n    max=3.14,\n    step=0.01,\n    readout=True,\n    description=r'$\\phi$')\nslider2.layout.width = '400px'\n\n\n# our function that will modify the xaxis range\ndef update_range(frequency, phi):\n    fig.data[0].y=wave(frequency, phi, xs)\n\n\n# display the FigureWidget and slider with center justification\nvb = VBox((fig, interactive(update_range, frequency = slider, phi = slider2)))\nvb.layout.align_items = 'center'\nvb",
    "id": "85736820b6ba488296e745512b629dd0",
    "idx": 2,
    "time": "2021-02-02T00:03:31.148Z",
    "type": "execution"
   },
   {
    "id": "85736820b6ba488296e745512b629dd0",
    "time": "2021-02-02T00:03:31.508Z",
    "type": "completion"
   },
   {
    "code": "import plotly.graph_objs as go\nfrom ipywidgets import interactive, HBox, VBox, widgets, interact\n\nxs = np.linspace(0, 5, 1000)  #\n\ndef wave(f, phi, x):\n    return np.sin(2*np.pi*f*x + phi)\n\n# Plotting\n\nfig = go.FigureWidget()\n\nfig.layout = dict(yaxis=dict(range=[-1,1]), xaxis=dict(range=[0,5]))\n\nfig.update_layout(\n    title={\n        'text': r'$y = \\sin(2 \\pi f x + \\phi)$',\n        'y':0.9,\n        'x':0.5,\n        'xanchor': 'center',\n        'yanchor': 'top'})\n\nfig.update_xaxes(\n        title_text = r\"$x$\",\n        title_standoff = 15,\n        ticks = 'outside',\n        ticklen = 10,\n        tickcolor='white')\n\nfig.update_yaxes(\n        title_text = '',\n        title_standoff = 25,\n        ticks = 'outside',\n        ticklen = 10,\n        tickcolor = 'white')\n\n\nline = fig.add_trace(go.Scatter(x=xs, y=wave(1, 0, xs),\n                    mode='lines',\n                    name='lines'))\n\nslider = widgets.FloatSlider(\n    value = 1,\n    min=0.1,\n    max=10,\n    step=0.1,\n    readout=True,\n    description=r'$f$')\n#slider.layout.width = '400px'\n\nslider2 = widgets.FloatSlider(\n    value = 0,\n    min=-3.14,\n    max=3.14,\n    step=0.01,\n    readout=True,\n    description=r'$\\phi$')\n#slider2.layout.width = '400px'\n\n\n# our function that will modify the xaxis range\ndef update_range(frequency, phi):\n    fig.data[0].y=wave(frequency, phi, xs)\n\n\n# display the FigureWidget and slider with center justification\nvb = VBox((fig, interactive(update_range, frequency = slider, phi = slider2)))\nvb.layout.align_items = 'center'\nvb",
    "id": "85736820b6ba488296e745512b629dd0",
    "idx": 2,
    "time": "2021-02-02T00:03:38.740Z",
    "type": "execution"
   },
   {
    "id": "85736820b6ba488296e745512b629dd0",
    "time": "2021-02-02T00:03:39.049Z",
    "type": "completion"
   },
   {
    "code": "import plotly.graph_objs as go\nfrom ipywidgets import interactive, HBox, VBox, widgets, interact\n\nxs = np.linspace(0, 5, 1000)  #\n\ndef wave(f, phi, x):\n    return np.sin(2*np.pi*f*x + phi)\n\n# Plotting\n\nfig = go.FigureWidget()\n\nfig.layout = dict(yaxis=dict(range=[-1,1]), xaxis=dict(range=[0,5]))\n\nfig.update_layout(\n    title={\n        'text': r'$y = \\sin(2 \\pi f x + \\phi)$',\n        'y':0.8,\n        'x':0.5,\n        'xanchor': 'center',\n        'yanchor': 'top'})\n\nfig.update_xaxes(\n        title_text = r\"$x$\",\n        title_standoff = 15,\n        ticks = 'outside',\n        ticklen = 10,\n        tickcolor='white')\n\nfig.update_yaxes(\n        title_text = '',\n        title_standoff = 25,\n        ticks = 'outside',\n        ticklen = 10,\n        tickcolor = 'white')\n\n\nline = fig.add_trace(go.Scatter(x=xs, y=wave(1, 0, xs),\n                    mode='lines',\n                    name='lines'))\n\nslider = widgets.FloatSlider(\n    value = 1,\n    min=0.1,\n    max=10,\n    step=0.1,\n    readout=True,\n    description=r'$f$')\n#slider.layout.width = '400px'\n\nslider2 = widgets.FloatSlider(\n    value = 0,\n    min=-3.14,\n    max=3.14,\n    step=0.01,\n    readout=True,\n    description=r'$\\phi$')\n#slider2.layout.width = '400px'\n\n\n# our function that will modify the xaxis range\ndef update_range(frequency, phi):\n    fig.data[0].y=wave(frequency, phi, xs)\n\n\n# display the FigureWidget and slider with center justification\nvb = VBox((fig, interactive(update_range, frequency = slider, phi = slider2)))\nvb.layout.align_items = 'center'\nvb",
    "id": "85736820b6ba488296e745512b629dd0",
    "idx": 2,
    "time": "2021-02-02T00:03:57.156Z",
    "type": "execution"
   },
   {
    "id": "85736820b6ba488296e745512b629dd0",
    "time": "2021-02-02T00:03:57.487Z",
    "type": "completion"
   },
   {
    "code": "import plotly.graph_objs as go\nfrom ipywidgets import interactive, HBox, VBox, widgets, interact\n\nxs = np.linspace(0, 5, 1000)  #\n\ndef wave(f, phi, x):\n    return np.sin(2*np.pi*f*x + phi)\n\n# Plotting\n\nfig = go.FigureWidget()\n\nfig.layout = dict(yaxis=dict(range=[-1,1]), xaxis=dict(range=[0,5]))\n\nfig.update_layout(\n    title={\n        'text': r'$y = \\sin(2 \\pi f x + \\phi)$',\n        'y':0.85,\n        'x':0.5,\n        'xanchor': 'center',\n        'yanchor': 'top'})\n\nfig.update_xaxes(\n        title_text = r\"$x$\",\n        title_standoff = 15,\n        ticks = 'outside',\n        ticklen = 10,\n        tickcolor='white')\n\nfig.update_yaxes(\n        title_text = '',\n        title_standoff = 25,\n        ticks = 'outside',\n        ticklen = 10,\n        tickcolor = 'white')\n\n\nline = fig.add_trace(go.Scatter(x=xs, y=wave(1, 0, xs),\n                    mode='lines',\n                    name='lines'))\n\nslider = widgets.FloatSlider(\n    value = 1,\n    min=0.1,\n    max=10,\n    step=0.1,\n    readout=True,\n    description=r'$f$')\n#slider.layout.width = '400px'\n\nslider2 = widgets.FloatSlider(\n    value = 0,\n    min=-3.14,\n    max=3.14,\n    step=0.01,\n    readout=True,\n    description=r'$\\phi$')\n#slider2.layout.width = '400px'\n\n\n# our function that will modify the xaxis range\ndef update_range(frequency, phi):\n    fig.data[0].y=wave(frequency, phi, xs)\n\n\n# display the FigureWidget and slider with center justification\nvb = VBox((fig, interactive(update_range, frequency = slider, phi = slider2)))\nvb.layout.align_items = 'center'\nvb",
    "id": "85736820b6ba488296e745512b629dd0",
    "idx": 2,
    "time": "2021-02-02T00:04:01.880Z",
    "type": "execution"
   },
   {
    "id": "85736820b6ba488296e745512b629dd0",
    "time": "2021-02-02T00:04:02.246Z",
    "type": "completion"
   },
   {
    "code": "import plotly.graph_objs as go\nfrom ipywidgets import interactive, HBox, VBox, widgets, interact\n\nxs = np.linspace(0, 5, 1000)\n\ndef wave(f, phi, x):\n    return np.sin(2*np.pi*f*x + phi)\n\nfig = go.FigureWidget()\n\nfig.layout = dict(yaxis=dict(range=[-1,1]), xaxis=dict(range=[0,5]), autosize=True)\n\nfig.update_layout(\n    title={\n        'text': r'$y = \\sin(2 \\pi f x + \\phi)$',\n        'y':0.85,\n        'x':0.5,\n        'xanchor': 'center',\n        'yanchor': 'top'})\n\nfig.update_xaxes(\n        title_text = r\"$x$\",\n        title_standoff = 15,\n        ticks = 'outside',\n        ticklen = 10,\n        tickcolor='white')\n\nfig.update_yaxes(\n        title_text = '',\n        title_standoff = 25,\n        ticks = 'outside',\n        ticklen = 10,\n        tickcolor = 'white')\n\n\nline = fig.add_trace(go.Scatter(x=xs, y=wave(1, 0, xs),\n                    mode='lines',\n                    name='lines'))\n\nslider = widgets.FloatSlider(\n    value = 1,\n    min=0.1,\n    max=10,\n    step=0.1,\n    readout=True,\n    description=r'$f$')\n#slider.layout.width = '400px'\n\nslider2 = widgets.FloatSlider(\n    value = 0,\n    min=-3.14,\n    max=3.14,\n    step=0.01,\n    readout=True,\n    description=r'$\\phi$')\n#slider2.layout.width = '400px'\n\n\n# our function that will modify the xaxis range\ndef update_range(frequency, phi):\n    fig.data[0].y=wave(frequency, phi, xs)\n\n\n# display the FigureWidget and slider with center justification\nvb = VBox((fig, interactive(update_range, frequency = slider, phi = slider2)))\nvb.layout.align_items = 'center'\nvb",
    "id": "85736820b6ba488296e745512b629dd0",
    "idx": 2,
    "time": "2021-02-02T00:06:01.025Z",
    "type": "execution"
   },
   {
    "id": "85736820b6ba488296e745512b629dd0",
    "time": "2021-02-02T00:06:01.380Z",
    "type": "completion"
   },
   {
    "code": "import plotly.graph_objs as go\nfrom ipywidgets import interactive, HBox, VBox, widgets, interact\n\nxs = np.linspace(0, 5, 1000)\n\ndef wave(f, phi, x):\n    return np.sin(2*np.pi*f*x + phi)\n\nfig = go.FigureWidget()\n\nfig.layout = dict(yaxis=dict(range=[-1,1]), xaxis=dict(range=[0,5]), height = 600, width = 1000)\n\nfig.update_layout(\n    title={\n        'text': r'$y = \\sin(2 \\pi f x + \\phi)$',\n        'y':0.85,\n        'x':0.5,\n        'xanchor': 'center',\n        'yanchor': 'top'})\n\nfig.update_xaxes(\n        title_text = r\"$x$\",\n        title_standoff = 15,\n        ticks = 'outside',\n        ticklen = 10,\n        tickcolor='white')\n\nfig.update_yaxes(\n        title_text = '',\n        title_standoff = 25,\n        ticks = 'outside',\n        ticklen = 10,\n        tickcolor = 'white')\n\n\nline = fig.add_trace(go.Scatter(x=xs, y=wave(1, 0, xs),\n                    mode='lines',\n                    name='lines'))\n\nslider = widgets.FloatSlider(\n    value = 1,\n    min=0.1,\n    max=10,\n    step=0.1,\n    readout=True,\n    description=r'$f$')\n#slider.layout.width = '400px'\n\nslider2 = widgets.FloatSlider(\n    value = 0,\n    min=-3.14,\n    max=3.14,\n    step=0.01,\n    readout=True,\n    description=r'$\\phi$')\n#slider2.layout.width = '400px'\n\n\n# our function that will modify the xaxis range\ndef update_range(frequency, phi):\n    fig.data[0].y=wave(frequency, phi, xs)\n\n\n# display the FigureWidget and slider with center justification\nvb = VBox((fig, interactive(update_range, frequency = slider, phi = slider2)))\nvb.layout.align_items = 'center'\nvb",
    "id": "85736820b6ba488296e745512b629dd0",
    "idx": 2,
    "time": "2021-02-02T00:06:47.111Z",
    "type": "execution"
   },
   {
    "id": "85736820b6ba488296e745512b629dd0",
    "time": "2021-02-02T00:06:47.405Z",
    "type": "completion"
   },
   {
    "code": "import plotly.graph_objs as go\nfrom ipywidgets import interactive, HBox, VBox, widgets, interact\n\nxs = np.linspace(0, 5, 1000)\n\ndef wave(f, phi, x):\n    return np.sin(2*np.pi*f*x + phi)\n\nfig = go.FigureWidget()\n\nfig.layout = dict(yaxis=dict(range=[-1,1]), xaxis=dict(range=[0,5]), height = 600, width = 1000)\n\nfig.update_layout(\n    title={\n        'text': r'$y = \\sin(2 \\pi f x + \\phi)$',\n        'y':0.85,\n        'x':0.5,\n        'xanchor': 'center',\n        'yanchor': 'top'})\n\nfig.update_xaxes(\n        title_text = r\"$x$\",\n        title_standoff = 15,\n        ticks = 'outside',\n        ticklen = 10,\n        tickcolor='white')\n\nfig.update_yaxes(\n        title_text = '',\n        title_standoff = 25,\n        ticks = 'outside',\n        ticklen = 10,\n        tickcolor = 'white')\n\n\nline = fig.add_trace(go.Scatter(x=xs, y=wave(1, 0, xs),\n                    mode='lines',\n                    name='lines'))\n\nslider = widgets.FloatSlider(\n    value = 1,\n    min=0.1,\n    max=10,\n    step=0.1,\n    readout=True,\n    description=r'$f$')\nslider.layout.width = '400px'\n\nslider2 = widgets.FloatSlider(\n    value = 0,\n    min=-3.14,\n    max=3.14,\n    step=0.01,\n    readout=True,\n    description=r'$\\phi$')\nslider2.layout.width = '400px'\n\n\n# our function that will modify the xaxis range\ndef update_range(frequency, phi):\n    fig.data[0].y=wave(frequency, phi, xs)\n\n\n# display the FigureWidget and slider with center justification\nvb = VBox((fig, interactive(update_range, frequency = slider, phi = slider2)))\nvb.layout.align_items = 'center'\nvb",
    "id": "85736820b6ba488296e745512b629dd0",
    "idx": 2,
    "time": "2021-02-02T00:06:54.793Z",
    "type": "execution"
   },
   {
    "id": "85736820b6ba488296e745512b629dd0",
    "time": "2021-02-02T00:06:55.108Z",
    "type": "completion"
   },
   {
    "code": "import plotly.graph_objs as go\nfrom ipywidgets import interactive, HBox, VBox, widgets, interact\n\nxs = np.linspace(0, 5, 1000)\n\ndef wave(f, phi, x):\n    return np.sin(2*np.pi*f*x + phi)\n\nfig = go.FigureWidget()\n\nfig.layout = dict(yaxis=dict(range=[-1,1]), xaxis=dict(range=[0,5]), height = 600, width = 1000)\n\nfig.update_layout(\n    title={\n        'text': r'$y = \\sin(2 \\pi f x + \\phi)$',\n        'y':0.9,\n        'x':0.5,\n        'xanchor': 'center',\n        'yanchor': 'top'})\n\nfig.update_xaxes(\n        title_text = r\"$x$\",\n        title_standoff = 15,\n        ticks = 'outside',\n        ticklen = 10,\n        tickcolor='white')\n\nfig.update_yaxes(\n        title_text = '',\n        title_standoff = 25,\n        ticks = 'outside',\n        ticklen = 10,\n        tickcolor = 'white')\n\n\nline = fig.add_trace(go.Scatter(x=xs, y=wave(1, 0, xs),\n                    mode='lines',\n                    name='lines'))\n\nslider = widgets.FloatSlider(\n    value = 1,\n    min=0.1,\n    max=10,\n    step=0.1,\n    readout=True,\n    description=r'$f$')\nslider.layout.width = '400px'\n\nslider2 = widgets.FloatSlider(\n    value = 0,\n    min=-3.14,\n    max=3.14,\n    step=0.01,\n    readout=True,\n    description=r'$\\phi$')\nslider2.layout.width = '400px'\n\n\n# our function that will modify the xaxis range\ndef update_range(frequency, phi):\n    fig.data[0].y=wave(frequency, phi, xs)\n\n\n# display the FigureWidget and slider with center justification\nvb = VBox((fig, interactive(update_range, frequency = slider, phi = slider2)))\nvb.layout.align_items = 'center'\nvb",
    "id": "85736820b6ba488296e745512b629dd0",
    "idx": 2,
    "time": "2021-02-02T00:07:15.961Z",
    "type": "execution"
   },
   {
    "id": "85736820b6ba488296e745512b629dd0",
    "time": "2021-02-02T00:07:16.291Z",
    "type": "completion"
   },
   {
    "code": "import plotly.graph_objs as go\nfrom ipywidgets import interactive, HBox, VBox, widgets, interact\n\nxs = np.linspace(0, 5, 1000)\n\ndef wave(f, phi, x):\n    return np.sin(2*np.pi*f*x + phi)\n\nfig = go.FigureWidget()\n\nfig.layout = dict(yaxis=dict(range=[-1,1]), xaxis=dict(range=[0,5]), height = 600, width = 1000)\n\nfig.update_layout(\n    title={\n        'text': r'$y = \\sin(2 \\pi f x + \\phi)$',\n        'y':0.85,\n        'x':0.5,\n        'xanchor': 'center',\n        'yanchor': 'top'})\n\nfig.update_xaxes(\n        title_text = r\"$x$\",\n        title_standoff = 15,\n        ticks = 'outside',\n        ticklen = 10,\n        tickcolor='white')\n\nfig.update_yaxes(\n        title_text = '',\n        title_standoff = 25,\n        ticks = 'outside',\n        ticklen = 10,\n        tickcolor = 'white')\n\n\nline = fig.add_trace(go.Scatter(x=xs, y=wave(1, 0, xs),\n                    mode='lines',\n                    name='lines'))\n\nslider = widgets.FloatSlider(\n    value = 1,\n    min=0.1,\n    max=10,\n    step=0.1,\n    readout=True,\n    description=r'$f$')\nslider.layout.width = '400px'\n\nslider2 = widgets.FloatSlider(\n    value = 0,\n    min=-3.14,\n    max=3.14,\n    step=0.01,\n    readout=True,\n    description=r'$\\phi$')\nslider2.layout.width = '400px'\n\n\n# our function that will modify the xaxis range\ndef update_range(frequency, phi):\n    fig.data[0].y=wave(frequency, phi, xs)\n\n\n# display the FigureWidget and slider with center justification\nvb = VBox((fig, interactive(update_range, frequency = slider, phi = slider2)))\nvb.layout.align_items = 'center'\nvb",
    "id": "85736820b6ba488296e745512b629dd0",
    "idx": 1,
    "time": "2021-02-02T00:09:56.506Z",
    "type": "execution"
   },
   {
    "id": "85736820b6ba488296e745512b629dd0",
    "time": "2021-02-02T00:09:56.824Z",
    "type": "completion"
   },
   {
    "code": "import plotly.graph_objs as go\nfrom ipywidgets import interactive, HBox, VBox, widgets, interact\n\nxs = np.linspace(0, 5, 1000)\n\ndef wave(f, phi, x):\n    return np.sin(2*np.pi*f*x + phi)\n\nfig = go.FigureWidget()\n\nfig.layout = dict(yaxis=dict(range=[-1,1]), xaxis=dict(range=[0,5]), height = 600, width = 1000)\n\nfig.update_layout(\n    title={\n        'text': r'$y = \\sin(2 \\pi f x + \\phi)$',\n        'y':0.85,\n        'x':0.5,\n        'xanchor': 'center',\n        'yanchor': 'top'})\n\nfig.update_xaxes(\n        title_text = r\"$x$\",\n        title_standoff = 15,\n        ticks = 'outside',\n        ticklen = 10,\n        tickcolor='white')\n\nfig.update_yaxes(\n        title_text = '',\n        title_standoff = 25,\n        ticks = 'outside',\n        ticklen = 10,\n        tickcolor = 'white')\n\n\nline = fig.add_trace(go.Scatter(x=xs, y=wave(1, 0, xs),\n                    mode='lines',\n                    name='lines'))\n\nslider = widgets.FloatSlider(\n    value = 1,\n    min=0.1,\n    max=10,\n    step=0.1,\n    readout=True,\n    description=r'$f$')\nslider.layout.width = '400px'\n\nslider2 = widgets.FloatSlider(\n    value = 0,\n    min=-3.14,\n    max=3.14,\n    step=0.01,\n    readout=True,\n    description=r'$\\phi$')\nslider2.layout.width = '400px'\n\n\n# our function that will modify the xaxis range\ndef update_range(frequency, phi):\n    fig.data[0].y=wave(frequency, phi, xs)\n\n\n# display the FigureWidget and slider with center justification\nvb = VBox((fig, interactive(update_range, frequency = slider, phi = slider2)))\nvb.layout.align_items = 'center'\nvb",
    "id": "85736820b6ba488296e745512b629dd0",
    "idx": 1,
    "time": "2021-02-02T00:10:15.436Z",
    "type": "execution"
   },
   {
    "id": "85736820b6ba488296e745512b629dd0",
    "time": "2021-02-02T00:10:15.725Z",
    "type": "completion"
   },
   {
    "code": "import plotly.graph_objs as go\nfrom ipywidgets import interactive, HBox, VBox, widgets, interact\n\nxs = np.linspace(0, 5, 1000)\n\ndef wave(f, phi, x):\n    return np.sin(2*np.pi*f*x + phi)\n\nfig = go.FigureWidget()\n\nfig.layout = dict(yaxis=dict(range=[-1,1]), xaxis=dict(range=[0,5]),width = 1000)\n\nfig.update_layout(\n    title={\n        'text': r'$y = \\sin(2 \\pi f x + \\phi)$',\n        'y':0.85,\n        'x':0.5,\n        'xanchor': 'center',\n        'yanchor': 'top'})\n\nfig.update_xaxes(\n        title_text = r\"$x$\",\n        title_standoff = 15,\n        ticks = 'outside',\n        ticklen = 10,\n        tickcolor='white')\n\nfig.update_yaxes(\n        title_text = '',\n        title_standoff = 25,\n        ticks = 'outside',\n        ticklen = 10,\n        tickcolor = 'white')\n\n\nline = fig.add_trace(go.Scatter(x=xs, y=wave(1, 0, xs),\n                    mode='lines',\n                    name='lines'))\n\nslider = widgets.FloatSlider(\n    value = 1,\n    min=0.1,\n    max=10,\n    step=0.1,\n    readout=True,\n    description=r'$f$')\nslider.layout.width = '400px'\n\nslider2 = widgets.FloatSlider(\n    value = 0,\n    min=-3.14,\n    max=3.14,\n    step=0.01,\n    readout=True,\n    description=r'$\\phi$')\nslider2.layout.width = '400px'\n\n\n# our function that will modify the xaxis range\ndef update_range(frequency, phi):\n    fig.data[0].y=wave(frequency, phi, xs)\n\n\n# display the FigureWidget and slider with center justification\nvb = VBox((fig, interactive(update_range, frequency = slider, phi = slider2)))\nvb.layout.align_items = 'center'\nvb",
    "id": "85736820b6ba488296e745512b629dd0",
    "idx": 1,
    "time": "2021-02-02T00:11:54.428Z",
    "type": "execution"
   },
   {
    "id": "85736820b6ba488296e745512b629dd0",
    "time": "2021-02-02T00:11:54.778Z",
    "type": "completion"
   },
   {
    "code": "import plotly.graph_objs as go\nfrom ipywidgets import interactive, HBox, VBox, widgets, interact\n\nxs = np.linspace(0, 5, 1000)\n\ndef wave(f, phi, x):\n    return np.sin(2*np.pi*f*x + phi)\n\nfig = go.FigureWidget()\n\nfig.layout = dict(yaxis=dict(range=[-1,1]), xaxis=dict(range=[0,5]),width = 1000)\n\nfig.update_layout(\n    title={\n        'text': r'$y = \\sin(2 \\pi f x + \\phi)$',\n        'y':0.85,\n        'x':0.5,\n        'xanchor': 'center',\n        'yanchor': 'top'})\n\nfig.update_xaxes(\n        title_text = r\"$x$\",\n        title_standoff = 15,\n        ticks = 'outside',\n        ticklen = 10,\n        tickcolor='white')\n\nfig.update_yaxes(\n        title_text = '',\n        title_standoff = 25,\n        ticks = 'outside',\n        ticklen = 10,\n        tickcolor = 'white')\n\n\nline = fig.add_trace(go.Scatter(x=xs, y=wave(1, 0, xs),\n                    mode='lines',\n                    name='lines'))\n\nslider = widgets.FloatSlider(\n    value = 1,\n    min=0.1,\n    max=10,\n    step=0.1,\n    readout=True,\n    description=r'$f$')\nslider.layout.width = '400px'\n\nslider2 = widgets.FloatSlider(\n    value = 0,\n    min=-3.14,\n    max=3.14,\n    step=0.01,\n    readout=True,\n    description=r'$\\phi$')\nslider2.layout.width = '400px'\n\n\n# our function that will modify the xaxis range\ndef update_range(frequency, phi):\n    fig.data[0].y=wave(frequency, phi, xs)\n\n\n# display the FigureWidget and slider with center justification\nvb = VBox((fig, interactive(update_range, frequency = slider, phi = slider2)))\nvb.layout.align_items = 'center'\nvb",
    "id": "85736820b6ba488296e745512b629dd0",
    "idx": 1,
    "time": "2021-02-02T00:12:50.245Z",
    "type": "execution"
   },
   {
    "id": "85736820b6ba488296e745512b629dd0",
    "time": "2021-02-02T00:12:50.550Z",
    "type": "completion"
   },
   {
    "code": "import plotly.graph_objects as go\n\nimport numpy as np\n\n# Generate curve data\nt = np.linspace(-1, 1, 100)\nx = t + t ** 2\ny = t - t ** 2\nxm = np.min(x) - 1.5\nxM = np.max(x) + 1.5\nym = np.min(y) - 1.5\nyM = np.max(y) + 1.5\nN = 50\ns = np.linspace(-1, 1, N)\nxx = s + s ** 2\nyy = s - s ** 2\n\n\n# Create figure\nfig = go.Figure(\n    data=[go.Scatter(x=x, y=y,\n                     mode=\"lines\",\n                     line=dict(width=2, color=\"blue\")),\n          go.Scatter(x=x, y=y,\n                     mode=\"lines\",\n                     line=dict(width=2, color=\"blue\"))],\n    layout=go.Layout(\n        xaxis=dict(range=[xm, xM], autorange=False, zeroline=False),\n        yaxis=dict(range=[ym, yM], autorange=False, zeroline=False),\n        title_text=\"Kinematic Generation of a Planar Curve\", hovermode=\"closest\",\n        updatemenus=[dict(type=\"buttons\",\n                          buttons=[dict(label=\"Play\",\n                                        method=\"animate\",\n                                        args=[None])])]),\n    frames=[go.Frame(\n        data=[go.Scatter(\n            x=[xx[k]],\n            y=[yy[k]],\n            mode=\"markers\",\n            marker=dict(color=\"red\", size=10))])\n\n        for k in range(N)]\n)\n\nfig.show()",
    "id": "a5587fed4ad3450f9ea8875a6d7be809",
    "idx": 2,
    "time": "2021-02-02T00:22:12.645Z",
    "type": "execution"
   },
   {
    "id": "a5587fed4ad3450f9ea8875a6d7be809",
    "time": "2021-02-02T00:22:12.897Z",
    "type": "completion"
   },
   {
    "code": "import plotly.graph_objects as go\n\nimport numpy as np\n\n# Generate curve data\nts = np.linspace(0, 2, 10)\nxs = np.linspace(0, 5, 1000)\n\ndef wave(f, phi, x, t):\n    return np.sin(2*np.pi*f*x + phi - t)\n\n# Create figure\nfig = go.Figure(\n    data=[go.Scatter(x=x, y=wave(1, 0, xs, ts),\n                     mode=\"lines\",\n                     line=dict(width=2, color=\"blue\")),\n          go.Scatter(x=x, y=wave(1, 0, xs, ts),\n                     mode=\"lines\",\n                     line=dict(width=2, color=\"blue\"))],\n    layout=go.Layout(\n        updatemenus=[dict(type=\"buttons\",\n                          buttons=[dict(label=\"Play\",\n                                        method=\"animate\",\n                                        args=[None])])]),\n    frames=[go.Frame(\n        data=[go.Scatter(\n            x=xs,\n            y=wave(1, 0, xs, ts[k]),\n            mode=\"lines\",)])\n\n        for k in range(len(ts))]\n)\n\nfig.show()",
    "id": "a5587fed4ad3450f9ea8875a6d7be809",
    "idx": 2,
    "time": "2021-02-02T00:24:55.775Z",
    "type": "execution"
   },
   {
    "id": "a5587fed4ad3450f9ea8875a6d7be809",
    "time": "2021-02-02T00:24:55.853Z",
    "type": "completion"
   },
   {
    "code": "import plotly.graph_objects as go\n\nimport numpy as np\n\n# Generate curve data\nts = np.linspace(0, 2, 10)\nxs = np.linspace(0, 5, 1000)\n\ndef wave(f, phi, x, t):\n    return np.sin(2*np.pi*f*x + phi - t)\n\n# Create figure\nfig = go.Figure(\n    data=[go.Scatter(x=x, y=wave(1, 0, xs, ts[0]),\n                     mode=\"lines\",\n                     line=dict(width=2, color=\"blue\")),\n          go.Scatter(x=x, y=wave(1, 0, xs, ts[0]),\n                     mode=\"lines\",\n                     line=dict(width=2, color=\"blue\"))],\n    layout=go.Layout(\n        updatemenus=[dict(type=\"buttons\",\n                          buttons=[dict(label=\"Play\",\n                                        method=\"animate\",\n                                        args=[None])])]),\n    frames=[go.Frame(\n        data=[go.Scatter(\n            x=xs,\n            y=wave(1, 0, xs, ts[k]),\n            mode=\"lines\",)])\n\n        for k in range(len(ts))]\n)\n\nfig.show()",
    "id": "a5587fed4ad3450f9ea8875a6d7be809",
    "idx": 2,
    "time": "2021-02-02T00:25:09.833Z",
    "type": "execution"
   },
   {
    "id": "a5587fed4ad3450f9ea8875a6d7be809",
    "time": "2021-02-02T00:25:10.482Z",
    "type": "completion"
   },
   {
    "code": "import plotly.graph_objects as go\n\nimport numpy as np\n\n# Generate curve data\nts = np.linspace(0, 2, 10)\nxs = np.linspace(0, 5, 1000)\n\ndef wave(f, phi, x, t):\n    return np.sin(2*np.pi*f*x + phi - t)\n\n# Create figure\nfig = go.Figure(\n    data=[go.Scatter(x=xs, y=wave(1, 0, xs, ts[0]),\n                     mode=\"lines\",\n                     line=dict(width=2, color=\"blue\")),\n          go.Scatter(x=xs, y=wave(1, 0, xs, ts[0]),\n                     mode=\"lines\",\n                     line=dict(width=2, color=\"blue\"))],\n    layout=go.Layout(\n        updatemenus=[dict(type=\"buttons\",\n                          buttons=[dict(label=\"Play\",\n                                        method=\"animate\",\n                                        args=[None])])]),\n    frames=[go.Frame(\n        data=[go.Scatter(\n            x=xs,\n            y=wave(1, 0, xs, ts[k]),\n            mode=\"lines\",)])\n\n        for k in range(len(ts))]\n)\n\nfig.show()",
    "id": "a5587fed4ad3450f9ea8875a6d7be809",
    "idx": 2,
    "time": "2021-02-02T00:25:23.365Z",
    "type": "execution"
   },
   {
    "id": "a5587fed4ad3450f9ea8875a6d7be809",
    "time": "2021-02-02T00:25:24.112Z",
    "type": "completion"
   },
   {
    "code": "import plotly.graph_objects as go\n\nimport numpy as np\n\n# Generate curve data\nts = np.linspace(0, 2, 10)\nxs = np.linspace(0, 5, 1000)\n\ndef wave(f, phi, x, t):\n    return np.sin(2*np.pi*f*x + phi - t)\n\n# Create figure\nfig = go.Figure(\n    data=[go.Scatter(x=xs, y=wave(1, 0, xs, ts[0]),\n                     mode=\"lines\",\n                     line=dict(width=2, color=\"blue\"))],\n    layout=go.Layout(\n        updatemenus=[dict(type=\"buttons\",\n                          buttons=[dict(label=\"Play\",\n                                        method=\"animate\",\n                                        args=[None])])]),\n    frames=[go.Frame(\n        data=[go.Scatter(\n            x=xs,\n            y=wave(1, 0, xs, ts[k]),\n            mode=\"lines\",)])\n\n        for k in range(len(ts))]\n)\n\nfig.show()",
    "id": "a5587fed4ad3450f9ea8875a6d7be809",
    "idx": 2,
    "time": "2021-02-02T00:25:47.400Z",
    "type": "execution"
   },
   {
    "id": "a5587fed4ad3450f9ea8875a6d7be809",
    "time": "2021-02-02T00:25:48.207Z",
    "type": "completion"
   },
   {
    "code": "import plotly.graph_objects as go\n\nimport numpy as np\n\n# Generate curve data\nts = np.linspace(0, 2, 10)\nxs = np.linspace(0, 5, 1000)\n\ndef wave(f, phi, x, t):\n    return np.sin(2*np.pi*f*x + phi - t)\n\n# Create figure\nfig = go.Figure(\n    data=[go.Scatter(x=xs, y=wave(1, 0, xs, ts[0]),\n                     mode=\"lines\",\n                     line=dict(width=2, color=\"blue\"))],\n    layout=go.Layout(\n        updatemenus=[dict(type=\"buttons\",\n                          buttons=[dict(label=\"Play\",\n                                        method=\"animate\",\n                                        args=[None])])]),\n    frames=[go.Frame(\n        data=[go.Scatter(\n            x=xs,\n            y=wave(1, 0, xs, ts[k]),\n            mode=\"lines\",)])\n\n        for k in range(len(ts))]\n)\n\n\n\nsliders_dict = {\n    \"active\": 0,\n    \"yanchor\": \"top\",\n    \"xanchor\": \"left\",\n    \"currentvalue\": {\n        \"font\": {\"size\": 20},\n        \"prefix\": \"Year:\",\n        \"visible\": True,\n        \"xanchor\": \"right\"\n    },\n    \"transition\": {\"duration\": 300, \"easing\": \"cubic-in-out\"},\n    \"pad\": {\"b\": 10, \"t\": 50},\n    \"len\": 0.9,\n    \"x\": 0.1,\n    \"y\": 0,\n    \"steps\": []\n}\n\nfig_dict[\"layout\"][\"sliders\"] = [sliders_dict]\n\nfig.show()",
    "id": "a5587fed4ad3450f9ea8875a6d7be809",
    "idx": 2,
    "time": "2021-02-02T00:28:09.310Z",
    "type": "execution"
   },
   {
    "id": "a5587fed4ad3450f9ea8875a6d7be809",
    "time": "2021-02-02T00:28:09.397Z",
    "type": "completion"
   },
   {
    "code": "import plotly.graph_objects as go\n\nimport numpy as np\n\n# Generate curve data\nts = np.linspace(0, 2, 10)\nxs = np.linspace(0, 5, 1000)\n\ndef wave(f, phi, x, t):\n    return np.sin(2*np.pi*f*x + phi - t)\n\n# Create figure\nfig = go.Figure(\n    data=[go.Scatter(x=xs, y=wave(1, 0, xs, ts[0]),\n                     mode=\"lines\",\n                     line=dict(width=2, color=\"blue\"))],\n    layout=go.Layout(\n        updatemenus=[dict(type=\"buttons\",\n                          buttons=[dict(label=\"Play\",\n                                        method=\"animate\",\n                                        args=[None])])]),\n    frames=[go.Frame(\n        data=[go.Scatter(\n            x=xs,\n            y=wave(1, 0, xs, ts[k]),\n            mode=\"lines\",)])\n\n        for k in range(len(ts))]\n)\n\n\n\nsliders_dict = {\n    \"active\": 0,\n    \"yanchor\": \"top\",\n    \"xanchor\": \"left\",\n    \"currentvalue\": {\n        \"font\": {\"size\": 20},\n        \"prefix\": \"Year:\",\n        \"visible\": True,\n        \"xanchor\": \"right\"\n    },\n    \"transition\": {\"duration\": 300, \"easing\": \"cubic-in-out\"},\n    \"pad\": {\"b\": 10, \"t\": 50},\n    \"len\": 0.9,\n    \"x\": 0.1,\n    \"y\": 0,\n    \"steps\": []\n}\n\nfig.dict[\"layout\"][\"sliders\"] = [sliders_dict]\n\nfig.show()",
    "id": "a5587fed4ad3450f9ea8875a6d7be809",
    "idx": 2,
    "time": "2021-02-02T00:28:19.732Z",
    "type": "execution"
   },
   {
    "id": "a5587fed4ad3450f9ea8875a6d7be809",
    "time": "2021-02-02T00:28:19.817Z",
    "type": "completion"
   },
   {
    "code": "import plotly.graph_objects as go\n\nimport numpy as np\n\n# Generate curve data\nts = np.linspace(0, 2, 10)\nxs = np.linspace(0, 5, 1000)\n\ndef wave(f, phi, x, t):\n    return np.sin(2*np.pi*f*x + phi - t)\n\n# Create figure\nfig = go.Figure(\n    data=[go.Scatter(x=xs, y=wave(1, 0, xs, ts[0]),\n                     mode=\"lines\",\n                     line=dict(width=2, color=\"blue\"))],\n    layout=go.Layout(\n        updatemenus=[dict(type=\"buttons\",\n                          buttons=[dict(label=\"Play\",\n                                        method=\"animate\",\n                                        args=[None])])]),\n    frames=[go.Frame(\n        data=[go.Scatter(\n            x=xs,\n            y=wave(1, 0, xs, ts[k]),\n            mode=\"lines\",)])\n\n        for k in range(len(ts))]\n)\n\n\n\nsliders_dict = {\n    \"active\": 0,\n    \"yanchor\": \"top\",\n    \"xanchor\": \"left\",\n    \"currentvalue\": {\n        \"font\": {\"size\": 20},\n        \"prefix\": \"Year:\",\n        \"visible\": True,\n        \"xanchor\": \"right\"\n    },\n    \"transition\": {\"duration\": 300, \"easing\": \"cubic-in-out\"},\n    \"pad\": {\"b\": 10, \"t\": 50},\n    \"len\": 0.9,\n    \"x\": 0.1,\n    \"y\": 0,\n    \"steps\": []\n}\n\nfig.dict.layout[\"sliders\"] = [sliders_dict]\n\nfig.show()",
    "id": "a5587fed4ad3450f9ea8875a6d7be809",
    "idx": 2,
    "time": "2021-02-02T00:28:28.375Z",
    "type": "execution"
   },
   {
    "id": "a5587fed4ad3450f9ea8875a6d7be809",
    "time": "2021-02-02T00:28:28.461Z",
    "type": "completion"
   },
   {
    "code": "import plotly.graph_objects as go\n\nimport numpy as np\n\n# Generate curve data\nts = np.linspace(0, 2, 10)\nxs = np.linspace(0, 5, 1000)\n\ndef wave(f, phi, x, t):\n    return np.sin(2*np.pi*f*x + phi - t)\n\n# Create figure\nfig = go.Figure(\n    data=[go.Scatter(x=xs, y=wave(1, 0, xs, ts[0]),\n                     mode=\"lines\",\n                     line=dict(width=2, color=\"blue\"))],\n    layout=go.Layout(\n        updatemenus=[dict(type=\"buttons\",\n                          buttons=[dict(label=\"Play\",\n                                        method=\"animate\",\n                                        args=[None])])]),\n    frames=[go.Frame(\n        data=[go.Scatter(\n            x=xs,\n            y=wave(1, 0, xs, ts[k]),\n            mode=\"lines\",)])\n\n        for k in range(len(ts))]\n)\n\n\n\nsliders_dict = {\n    \"active\": 0,\n    \"yanchor\": \"top\",\n    \"xanchor\": \"left\",\n    \"currentvalue\": {\n        \"font\": {\"size\": 20},\n        \"prefix\": \"Year:\",\n        \"visible\": True,\n        \"xanchor\": \"right\"\n    },\n    \"transition\": {\"duration\": 300, \"easing\": \"cubic-in-out\"},\n    \"pad\": {\"b\": 10, \"t\": 50},\n    \"len\": 0.9,\n    \"x\": 0.1,\n    \"y\": 0,\n    \"steps\": []\n}\n\nfig.dic.layout[\"sliders\"] = [sliders_dict]\n\nfig.show()",
    "id": "a5587fed4ad3450f9ea8875a6d7be809",
    "idx": 2,
    "time": "2021-02-02T00:28:32.388Z",
    "type": "execution"
   },
   {
    "id": "a5587fed4ad3450f9ea8875a6d7be809",
    "time": "2021-02-02T00:28:32.480Z",
    "type": "completion"
   },
   {
    "code": "import plotly.graph_objects as go\n\nimport numpy as np\n\n# Generate curve data\nts = np.linspace(0, 2, 10)\nxs = np.linspace(0, 5, 1000)\n\ndef wave(f, phi, x, t):\n    return np.sin(2*np.pi*f*x + phi - t)\n\n# Create figure\nfig = go.Figure(\n    data=[go.Scatter(x=xs, y=wave(1, 0, xs, ts[0]),\n                     mode=\"lines\",\n                     line=dict(width=2, color=\"blue\"))],\n    layout=go.Layout(\n        updatemenus=[dict(type=\"buttons\",\n                          buttons=[dict(label=\"Play\",\n                                        method=\"animate\",\n                                        args=[None])])]),\n    frames=[go.Frame(\n        data=[go.Scatter(\n            x=xs,\n            y=wave(1, 0, xs, ts[k]),\n            mode=\"lines\",)])\n\n        for k in range(len(ts))]\n)\n\n\n\nsliders_dict = {\n    \"active\": 0,\n    \"yanchor\": \"top\",\n    \"xanchor\": \"left\",\n    \"currentvalue\": {\n        \"font\": {\"size\": 20},\n        \"prefix\": \"Year:\",\n        \"visible\": True,\n        \"xanchor\": \"right\"\n    },\n    \"transition\": {\"duration\": 300, \"easing\": \"cubic-in-out\"},\n    \"pad\": {\"b\": 10, \"t\": 50},\n    \"len\": 0.9,\n    \"x\": 0.1,\n    \"y\": 0,\n    \"steps\": []\n}\n\nfig.layout[\"sliders\"] = [sliders_dict]\n\nfig.show()",
    "id": "a5587fed4ad3450f9ea8875a6d7be809",
    "idx": 2,
    "time": "2021-02-02T00:28:36.972Z",
    "type": "execution"
   },
   {
    "id": "a5587fed4ad3450f9ea8875a6d7be809",
    "time": "2021-02-02T00:28:37.853Z",
    "type": "completion"
   },
   {
    "code": "import plotly.graph_objects as go\n\nimport numpy as np\n\n# Generate curve data\nts = np.linspace(0, 5, 100)\nxs = np.linspace(0, 5, 1000)\n\ndef wave(f, phi, x, t):\n    return np.sin(2*np.pi*f*x + phi - t)\n\n# Create figure\nfig = go.Figure(\n    data=[go.Scatter(x=xs, y=wave(1, 0, xs, ts[0]),\n                     mode=\"lines\",\n                     line=dict(width=2, color=\"blue\"))],\n    layout=go.Layout(\n        updatemenus=[dict(type=\"buttons\",\n                          buttons=[dict(label=\"Play\",\n                                        method=\"animate\",\n                                        args=[None])])]),\n    frames=[go.Frame(\n        data=[go.Scatter(\n            x=xs,\n            y=wave(1, 0, xs, ts[k]),\n            mode=\"lines\",)])\n\n        for k in range(len(ts))]\n)\n\n\n\nfig.show()",
    "id": "a5587fed4ad3450f9ea8875a6d7be809",
    "idx": 2,
    "time": "2021-02-02T00:29:45.311Z",
    "type": "execution"
   },
   {
    "id": "a5587fed4ad3450f9ea8875a6d7be809",
    "time": "2021-02-02T00:29:50.562Z",
    "type": "completion"
   },
   {
    "code": "import plotly.graph_objects as go\n\nimport numpy as np\n\n# Generate curve data\nts = np.linspace(0, 5, 20)\nxs = np.linspace(0, 5, 1000)\n\ndef wave(f, phi, x, t):\n    return np.sin(2*np.pi*f*x + phi - t)\n\n# Create figure\nfig = go.Figure(\n    data=[go.Scatter(x=xs, y=wave(1, 0, xs, ts[0]),\n                     mode=\"lines\",\n                     line=dict(width=2, color=\"blue\"))],\n    layout=go.Layout(\n        updatemenus=[dict(type=\"buttons\",\n                          buttons=[dict(label=\"Play\",\n                                        method=\"animate\",\n                                        args=[None, {\"frame\": {\"duration\": 200, \"redraw\": False}}])])]),\n    frames=[go.Frame(\n        data=[go.Scatter(\n            x=xs,\n            y=wave(1, 0, xs, ts[k]),\n            mode=\"lines\",)])\n\n        for k in range(len(ts))]\n)\n\n\n\nfig.show()",
    "id": "a5587fed4ad3450f9ea8875a6d7be809",
    "idx": 2,
    "time": "2021-02-02T00:31:09.256Z",
    "type": "execution"
   },
   {
    "id": "a5587fed4ad3450f9ea8875a6d7be809",
    "time": "2021-02-02T00:31:10.563Z",
    "type": "completion"
   },
   {
    "code": "%%capture\nfig, ax = plt.subplots()\n\nax.set_xlim(( 0, 2))\nax.set_ylim((-2, 2))\n\nax.set_title(r\"$f(x, t) = \\sin(\\omega t - kx)$\")\nax.set_xlabel('$x$')\nax.set_ylabel('$f(x, t)$')\nline, = ax.plot([], [], lw=2);\n\ndef init():\n    line.set_data([], [])\n    \n    return (line,)\n\ndef animate(i):\n    x = np.linspace(0, 2, 1000)\n    y = np.sin(2 * np.pi * (x - 0.01 * i))\n    line.set_data(x, y)\n    return (line,)\n\nanim = animation.FuncAnimation(fig, animate, init_func=init,\n                               frames=100, interval=20, \n                               blit=True)",
    "id": "b867cdcce514443a9406fb127eed7e58",
    "idx": 3,
    "time": "2021-02-02T00:38:26.010Z",
    "type": "execution"
   },
   {
    "id": "b867cdcce514443a9406fb127eed7e58",
    "time": "2021-02-02T00:38:26.104Z",
    "type": "completion"
   },
   {
    "code": "import matplotlib.pyplot as plt\n\n%%capture\nfig, ax = plt.subplots()\n\nax.set_xlim(( 0, 2))\nax.set_ylim((-2, 2))\n\nax.set_title(r\"$f(x, t) = \\sin(\\omega t - kx)$\")\nax.set_xlabel('$x$')\nax.set_ylabel('$f(x, t)$')\nline, = ax.plot([], [], lw=2);\n\ndef init():\n    line.set_data([], [])\n    \n    return (line,)\n\ndef animate(i):\n    x = np.linspace(0, 2, 1000)\n    y = np.sin(2 * np.pi * (x - 0.01 * i))\n    line.set_data(x, y)\n    return (line,)\n\nanim = animation.FuncAnimation(fig, animate, init_func=init,\n                               frames=100, interval=20, \n                               blit=True)",
    "id": "b867cdcce514443a9406fb127eed7e58",
    "idx": 3,
    "time": "2021-02-02T00:38:36.384Z",
    "type": "execution"
   },
   {
    "id": "b867cdcce514443a9406fb127eed7e58",
    "time": "2021-02-02T00:38:36.686Z",
    "type": "completion"
   },
   {
    "code": "import matplotlib.pyplot as plt\n\nfig, ax = plt.subplots()\n\nax.set_xlim(( 0, 2))\nax.set_ylim((-2, 2))\n\nax.set_title(r\"$f(x, t) = \\sin(\\omega t - kx)$\")\nax.set_xlabel('$x$')\nax.set_ylabel('$f(x, t)$')\nline, = ax.plot([], [], lw=2);\n\ndef init():\n    line.set_data([], [])\n    \n    return (line,)\n\ndef animate(i):\n    x = np.linspace(0, 2, 1000)\n    y = np.sin(2 * np.pi * (x - 0.01 * i))\n    line.set_data(x, y)\n    return (line,)\n\nanim = animation.FuncAnimation(fig, animate, init_func=init,\n                               frames=100, interval=20, \n                               blit=True)",
    "id": "b867cdcce514443a9406fb127eed7e58",
    "idx": 3,
    "time": "2021-02-02T00:38:40.534Z",
    "type": "execution"
   },
   {
    "id": "b867cdcce514443a9406fb127eed7e58",
    "time": "2021-02-02T00:38:41.055Z",
    "type": "completion"
   },
   {
    "code": "import matplotlib.pyplot as plt\nfrom ipywidgets import interact, interactive, fixed, interact_manual\nfrom matplotlib import animation, rc\n\nfig, ax = plt.subplots()\n\nax.set_xlim(( 0, 2))\nax.set_ylim((-2, 2))\n\nax.set_title(r\"$f(x, t) = \\sin(\\omega t - kx)$\")\nax.set_xlabel('$x$')\nax.set_ylabel('$f(x, t)$')\nline, = ax.plot([], [], lw=2);\n\ndef init():\n    line.set_data([], [])\n    \n    return (line,)\n\ndef animate(i):\n    x = np.linspace(0, 2, 1000)\n    y = np.sin(2 * np.pi * (x - 0.01 * i))\n    line.set_data(x, y)\n    return (line,)\n\nanim = animation.FuncAnimation(fig, animate, init_func=init,\n                               frames=100, interval=20, \n                               blit=True)",
    "id": "b867cdcce514443a9406fb127eed7e58",
    "idx": 3,
    "time": "2021-02-02T00:38:57.029Z",
    "type": "execution"
   },
   {
    "id": "b867cdcce514443a9406fb127eed7e58",
    "time": "2021-02-02T00:38:57.317Z",
    "type": "completion"
   },
   {
    "code": "import plotly.graph_objects as go\n\nimport numpy as np\n\n# Generate curve data\nts = np.linspace(0, 5, 20)\nxs = np.linspace(0, 5, 1000)\n\ndef wave(f, phi, x, t):\n    return np.sin(2*np.pi*f*x - phi* t)\n\nslider2 = widgets.FloatSlider(\n    value = 0,\n    min=-3.14,\n    max=3.14,\n    step=0.01,\n    readout=True,\n    description=r'$\\phi$')\nslider2.layout.width = '400px'\n\n\n# Create figure\nfig = go.Figure(\n    data=[go.Scatter(x=xs, y=wave(1, 0, xs, ts[0]),\n                     mode=\"lines\",\n                     line=dict(width=2, color=\"blue\"))],\n    layout=go.Layout(\n        updatemenus=[dict(type=\"buttons\",\n                          buttons=[dict(label=\"Play\",\n                                        method=\"animate\",\n                                        args=[None, {\"frame\": {\"duration\": 200, \"redraw\": False}}])])]),\n    frames=[go.Frame(\n        data=[go.Scatter(\n            x=xs,\n            y=wave(1, 0, xs, ts[k]),\n            mode=\"lines\",)])\n\n        for k in range(len(ts))]\n)\n\n\ndef update_range(frequency, phi):\n    fig.data[0].y=wave(frequency, phi, xs)\n\n\nvb = VBox((fig, interactive(update_range, omega = slider2)))\nvb.layout.align_items = 'center'\nvb",
    "id": "a5587fed4ad3450f9ea8875a6d7be809",
    "idx": 2,
    "time": "2021-02-02T00:41:36.662Z",
    "type": "execution"
   },
   {
    "id": "a5587fed4ad3450f9ea8875a6d7be809",
    "time": "2021-02-02T00:41:36.797Z",
    "type": "completion"
   },
   {
    "code": "import plotly.graph_objects as go\n\nimport numpy as np\n\n# Generate curve data\nts = np.linspace(0, 5, 20)\nxs = np.linspace(0, 5, 1000)\n\ndef wave(f, phi, x, t):\n    return np.sin(2*np.pi*f*x - phi* t)\n\nslider2 = widgets.FloatSlider(\n    value = 0,\n    min=-3.14,\n    max=3.14,\n    step=0.01,\n    readout=True,\n    description=r'$\\phi$')\nslider2.layout.width = '400px'\n\n\n# Create figure\nfig = go.Figure(\n    data=[go.Scatter(x=xs, y=wave(1, 0, xs, ts[0]),\n                     mode=\"lines\",\n                     line=dict(width=2, color=\"blue\"))],\n    layout=go.Layout(\n        updatemenus=[dict(type=\"buttons\",\n                          buttons=[dict(label=\"Play\",\n                                        method=\"animate\",\n                                        args=[None, {\"frame\": {\"duration\": 200, \"redraw\": False}}])])]),\n    frames=[go.Frame(\n        data=[go.Scatter(\n            x=xs,\n            y=wave(1, 0, xs, ts[k]),\n            mode=\"lines\",)])\n\n        for k in range(len(ts))]\n)\n\n\ndef update_range(omega):\n    fig.data[0].y=wave(1, omega, xs, t[0])\n\n\nvb = VBox((fig, interactive(update_range, omega = slider2)))\nvb.layout.align_items = 'center'\nvb",
    "id": "a5587fed4ad3450f9ea8875a6d7be809",
    "idx": 2,
    "time": "2021-02-02T00:42:21.374Z",
    "type": "execution"
   },
   {
    "id": "a5587fed4ad3450f9ea8875a6d7be809",
    "time": "2021-02-02T00:42:23.355Z",
    "type": "completion"
   },
   {
    "code": "import plotly.graph_objects as go\n\nimport numpy as np\n\n# Generate curve data\nts = np.linspace(0, 5, 20)\nxs = np.linspace(0, 5, 1000)\n\ndef wave(f, phi, x, t):\n    return np.sin(2*np.pi*f*x - phi* t)\n\nslider2 = widgets.FloatSlider(\n    value = 0,\n    min=-3.14,\n    max=3.14,\n    step=0.01,\n    readout=True,\n    description=r'$\\phi$')\nslider2.layout.width = '400px'\n\n\n# Create figure\nfig = go.Figure(\n    data=[go.Scatter(x=xs, y=wave(1, 0, xs, ts[0]),\n                     mode=\"lines\",\n                     line=dict(width=2, color=\"blue\"))],\n    layout=go.Layout(\n        updatemenus=[dict(type=\"buttons\",\n                          buttons=[dict(label=\"Play\",\n                                        method=\"animate\",\n                                        args=[None, {\"frame\": {\"duration\": 200, \"redraw\": False}}])])]),\n    frames=[go.Frame(\n        data=[go.Scatter(\n            x=xs,\n            y=wave(1, 0, xs, ts[k]),\n            mode=\"lines\",)])\n\n        for k in range(len(ts))]\n)\n\n\ndef update_range(omega):\n    pass\n    #fig.data[0].y=wave(1, omega, xs, t[0])\n\n\nvb = VBox((fig, interactive(update_range, omega = slider2)))\nvb.layout.align_items = 'center'\nvb",
    "id": "a5587fed4ad3450f9ea8875a6d7be809",
    "idx": 2,
    "time": "2021-02-02T00:42:58.693Z",
    "type": "execution"
   },
   {
    "id": "a5587fed4ad3450f9ea8875a6d7be809",
    "time": "2021-02-02T00:43:00.611Z",
    "type": "completion"
   },
   {
    "code": "import plotly.graph_objects as go\n\nimport numpy as np\n\n# Generate curve data\nts = np.linspace(0, 5, 20)\nxs = np.linspace(0, 5, 1000)\n\ndef wave(f, phi, x, t):\n    return np.sin(2*np.pi*f*x - phi* t)\n\nslider2 = widgets.FloatSlider(\n    value = 0,\n    min=-3.14,\n    max=3.14,\n    step=0.01,\n    readout=True,\n    description=r'$\\phi$')\nslider2.layout.width = '400px'\n\n\n# Create figure\nfig = go.FigureWidget(\n    data=[go.Scatter(x=xs, y=wave(1, 0, xs, ts[0]),\n                     mode=\"lines\",\n                     line=dict(width=2, color=\"blue\"))],\n    layout=go.Layout(\n        updatemenus=[dict(type=\"buttons\",\n                          buttons=[dict(label=\"Play\",\n                                        method=\"animate\",\n                                        args=[None, {\"frame\": {\"duration\": 200, \"redraw\": False}}])])]),\n    frames=[go.Frame(\n        data=[go.Scatter(\n            x=xs,\n            y=wave(1, 0, xs, ts[k]),\n            mode=\"lines\",)])\n\n        for k in range(len(ts))]\n)\n\n\ndef update_range(omega):\n    pass\n    #fig.data[0].y=wave(1, omega, xs, t[0])\n\n\nvb = VBox((fig, interactive(update_range, omega = slider2)))\nvb.layout.align_items = 'center'\nvb",
    "id": "a5587fed4ad3450f9ea8875a6d7be809",
    "idx": 2,
    "time": "2021-02-02T00:43:17.611Z",
    "type": "execution"
   },
   {
    "id": "a5587fed4ad3450f9ea8875a6d7be809",
    "time": "2021-02-02T00:43:17.800Z",
    "type": "completion"
   },
   {
    "code": "import matplotlib.pyplot as plt\nfrom ipywidgets import interact, interactive, fixed, interact_manual\nfrom matplotlib import animation, rc\n%matplotlib inline\n\nfig, ax = plt.subplots()\n\nax.set_xlim(( 0, 2))\nax.set_ylim((-2, 2))\n\nax.set_title(r\"$f(x, t) = \\sin(\\omega t - kx)$\")\nax.set_xlabel('$x$')\nax.set_ylabel('$f(x, t)$')\nline, = ax.plot([], [], lw=2);\n\ndef init():\n    line.set_data([], [])\n    \n    return (line,)\n\ndef animate(i):\n    x = np.linspace(0, 2, 1000)\n    y = np.sin(2 * np.pi * (x - 0.01 * i))\n    line.set_data(x, y)\n    return (line,)\n\nanim = animation.FuncAnimation(fig, animate, init_func=init,\n                               frames=100, interval=20, \n                               blit=True)",
    "id": "b867cdcce514443a9406fb127eed7e58",
    "idx": 3,
    "time": "2021-02-02T00:44:30.937Z",
    "type": "execution"
   },
   {
    "id": "b867cdcce514443a9406fb127eed7e58",
    "time": "2021-02-02T00:44:31.852Z",
    "type": "completion"
   },
   {
    "code": "%matplotlib inline",
    "id": "a0d60fee7f8d4fb78b4508f2e6001f12",
    "idx": 4,
    "time": "2021-02-02T00:45:13.178Z",
    "type": "execution"
   },
   {
    "id": "a0d60fee7f8d4fb78b4508f2e6001f12",
    "time": "2021-02-02T00:45:13.241Z",
    "type": "completion"
   },
   {
    "code": "import matplotlib.pyplot as plt\nfrom ipywidgets import interact, interactive, fixed, interact_manual\nfrom matplotlib import animation, rc\n\n\nfig, ax = plt.subplots()\n\nax.set_xlim(( 0, 2))\nax.set_ylim((-2, 2))\n\nax.set_title(r\"$f(x, t) = \\sin(\\omega t - kx)$\")\nax.set_xlabel('$x$')\nax.set_ylabel('$f(x, t)$')\nline, = ax.plot([], [], lw=2);\n\ndef init():\n    line.set_data([], [])\n    \n    return (line,)\n\ndef animate(i):\n    x = np.linspace(0, 2, 1000)\n    y = np.sin(2 * np.pi * (x - 0.01 * i))\n    line.set_data(x, y)\n    return (line,)\n\nanim = animation.FuncAnimation(fig, animate, init_func=init,\n                               frames=100, interval=20, \n                               blit=True)\n\nanim",
    "id": "b867cdcce514443a9406fb127eed7e58",
    "idx": 3,
    "time": "2021-02-02T00:45:16.371Z",
    "type": "execution"
   },
   {
    "id": "b867cdcce514443a9406fb127eed7e58",
    "time": "2021-02-02T00:45:16.675Z",
    "type": "completion"
   },
   {
    "code": "import matplotlib.pyplot as plt\nfrom ipywidgets import interact, interactive, fixed, interact_manual\nfrom matplotlib import animation, rc\n\n\nfig, ax = plt.subplots()\n\nax.set_xlim(( 0, 2))\nax.set_ylim((-2, 2))\n\nax.set_title(r\"$f(x, t) = \\sin(\\omega t - kx)$\")\nax.set_xlabel('$x$')\nax.set_ylabel('$f(x, t)$')\nline, = ax.plot([], [], lw=2);\n\ndef init():\n    line.set_data([], [])\n    \n    return (line,)\n\ndef animate(i):\n    x = np.linspace(0, 2, 1000)\n    y = np.sin(2 * np.pi * (x - 0.01 * i))\n    line.set_data(x, y)\n    return (line,)\n\nanim = animation.FuncAnimation(fig, animate, init_func=init,\n                               frames=100, interval=20, \n                               blit=True)\n\nanim.show()",
    "id": "b867cdcce514443a9406fb127eed7e58",
    "idx": 3,
    "time": "2021-02-02T00:45:22.364Z",
    "type": "execution"
   },
   {
    "id": "b867cdcce514443a9406fb127eed7e58",
    "time": "2021-02-02T00:45:22.767Z",
    "type": "completion"
   },
   {
    "code": "import matplotlib.pyplot as plt\nfrom ipywidgets import interact, interactive, fixed, interact_manual\nfrom matplotlib import animation, rc\n\n\nfig, ax = plt.subplots()\n\nax.set_xlim(( 0, 2))\nax.set_ylim((-2, 2))\n\nax.set_title(r\"$f(x, t) = \\sin(\\omega t - kx)$\")\nax.set_xlabel('$x$')\nax.set_ylabel('$f(x, t)$')\nline, = ax.plot([], [], lw=2);\n\ndef init():\n    line.set_data([], [])\n    \n    return (line,)\n\ndef animate(i):\n    x = np.linspace(0, 2, 1000)\n    y = np.sin(2 * np.pi * (x - 0.01 * i))\n    line.set_data(x, y)\n    return (line,)\n\nanim = animation.FuncAnimation(fig, animate, init_func=init,\n                               frames=100, interval=20, \n                               blit=True)\n\nplt.show()",
    "id": "b867cdcce514443a9406fb127eed7e58",
    "idx": 3,
    "time": "2021-02-02T00:46:09.353Z",
    "type": "execution"
   },
   {
    "id": "b867cdcce514443a9406fb127eed7e58",
    "time": "2021-02-02T00:46:09.653Z",
    "type": "completion"
   },
   {
    "code": "%matplotlib notebook\nimport matplotlib.pyplot as plt\nfrom ipywidgets import interact, interactive, fixed, interact_manual\nfrom matplotlib import animation, rc\n\n\nfig, ax = plt.subplots()\n\nax.set_xlim(( 0, 2))\nax.set_ylim((-2, 2))\n\nax.set_title(r\"$f(x, t) = \\sin(\\omega t - kx)$\")\nax.set_xlabel('$x$')\nax.set_ylabel('$f(x, t)$')\nline, = ax.plot([], [], lw=2);\n\ndef init():\n    line.set_data([], [])\n    \n    return (line,)\n\ndef animate(i):\n    x = np.linspace(0, 2, 1000)\n    y = np.sin(2 * np.pi * (x - 0.01 * i))\n    line.set_data(x, y)\n    return (line,)\n\nanim = animation.FuncAnimation(fig, animate, init_func=init,\n                               frames=100, interval=20, \n                               blit=True)\n\nplt.show()",
    "id": "b867cdcce514443a9406fb127eed7e58",
    "idx": 3,
    "time": "2021-02-02T00:46:51.267Z",
    "type": "execution"
   },
   {
    "id": "b867cdcce514443a9406fb127eed7e58",
    "time": "2021-02-02T00:46:51.486Z",
    "type": "completion"
   },
   {
    "code": "%matplotlib notebook\nimport matplotlib.pyplot as plt\nfrom ipywidgets import interact, interactive, fixed, interact_manual\nfrom matplotlib import animation, rc\n\n\nfig, ax = plt.subplots()\n\nax.set_xlim(( 0, 2))\nax.set_ylim((-2, 2))\n\nax.set_title(r\"$f(x, t) = \\sin(\\omega t - kx)$\")\nax.set_xlabel('$x$')\nax.set_ylabel('$f(x, t)$')\nline, = ax.plot([], [], lw=2);\n\ndef init():\n    line.set_data([], [])\n    \n    return (line,)\n\ndef animate(i):\n    x = np.linspace(0, 2, 1000)\n    y = np.sin(2 * np.pi * (x - 0.01 * i))\n    line.set_data(x, y)\n    return (line,)\n\nanim = animation.FuncAnimation(fig, animate, init_func=init,\n                               frames=100, interval=20, \n                               blit=True)",
    "id": "b867cdcce514443a9406fb127eed7e58",
    "idx": 3,
    "time": "2021-02-02T00:47:07.055Z",
    "type": "execution"
   },
   {
    "id": "b867cdcce514443a9406fb127eed7e58",
    "time": "2021-02-02T00:47:07.224Z",
    "type": "completion"
   },
   {
    "code": "%% capture\nimport matplotlib.pyplot as plt\nfrom ipywidgets import interact, interactive, fixed, interact_manual\nfrom matplotlib import animation, rc\n\n\nfig, ax = plt.subplots()\n\nax.set_xlim(( 0, 2))\nax.set_ylim((-2, 2))\n\nax.set_title(r\"$f(x, t) = \\sin(\\omega t - kx)$\")\nax.set_xlabel('$x$')\nax.set_ylabel('$f(x, t)$')\nline, = ax.plot([], [], lw=2);\n\ndef init():\n    line.set_data([], [])\n    \n    return (line,)\n\ndef animate(i):\n    x = np.linspace(0, 2, 1000)\n    y = np.sin(2 * np.pi * (x - 0.01 * i))\n    line.set_data(x, y)\n    return (line,)\n\nanim = animation.FuncAnimation(fig, animate, init_func=init,\n                               frames=100, interval=20, \n                               blit=True)",
    "id": "b867cdcce514443a9406fb127eed7e58",
    "idx": 3,
    "time": "2021-02-02T00:47:40.601Z",
    "type": "execution"
   },
   {
    "id": "b867cdcce514443a9406fb127eed7e58",
    "time": "2021-02-02T00:47:40.681Z",
    "type": "completion"
   },
   {
    "code": "% capture\nimport matplotlib.pyplot as plt\nfrom ipywidgets import interact, interactive, fixed, interact_manual\nfrom matplotlib import animation, rc\n\n\nfig, ax = plt.subplots()\n\nax.set_xlim(( 0, 2))\nax.set_ylim((-2, 2))\n\nax.set_title(r\"$f(x, t) = \\sin(\\omega t - kx)$\")\nax.set_xlabel('$x$')\nax.set_ylabel('$f(x, t)$')\nline, = ax.plot([], [], lw=2);\n\ndef init():\n    line.set_data([], [])\n    \n    return (line,)\n\ndef animate(i):\n    x = np.linspace(0, 2, 1000)\n    y = np.sin(2 * np.pi * (x - 0.01 * i))\n    line.set_data(x, y)\n    return (line,)\n\nanim = animation.FuncAnimation(fig, animate, init_func=init,\n                               frames=100, interval=20, \n                               blit=True)",
    "id": "b867cdcce514443a9406fb127eed7e58",
    "idx": 3,
    "time": "2021-02-02T00:47:47.181Z",
    "type": "execution"
   },
   {
    "id": "b867cdcce514443a9406fb127eed7e58",
    "time": "2021-02-02T00:47:47.260Z",
    "type": "completion"
   },
   {
    "code": "import matplotlib.pyplot as plt\nfrom ipywidgets import interact, interactive, fixed, interact_manual\nfrom matplotlib import animation, rc\n\n\nfig, ax = plt.subplots()\n\nax.set_xlim(( 0, 2))\nax.set_ylim((-2, 2))\n\nax.set_title(r\"$f(x, t) = \\sin(\\omega t - kx)$\")\nax.set_xlabel('$x$')\nax.set_ylabel('$f(x, t)$')\nline, = ax.plot([], [], lw=2);\n\ndef init():\n    line.set_data([], [])\n    \n    return (line,)\n\ndef animate(i):\n    x = np.linspace(0, 2, 1000)\n    y = np.sin(2 * np.pi * (x - 0.01 * i))\n    line.set_data(x, y)\n    return (line,)\n\nanim = animation.FuncAnimation(fig, animate, init_func=init,\n                               frames=100, interval=20, \n                               blit=True)\n\nrc('animation', html='html5')\n\nanim",
    "id": "b867cdcce514443a9406fb127eed7e58",
    "idx": 3,
    "time": "2021-02-02T00:51:27.303Z",
    "type": "execution"
   },
   {
    "id": "b867cdcce514443a9406fb127eed7e58",
    "time": "2021-02-02T00:51:27.608Z",
    "type": "completion"
   },
   {
    "code": "import matplotlib.pyplot as plt\nfrom ipywidgets import interact, interactive, fixed, interact_manual\nfrom matplotlib import animation, rc\nimport numpy as np\n\nfig, ax = plt.subplots()\n\nax.set_xlim(( 0, 2))\nax.set_ylim((-2, 2))\n\nax.set_title(r\"$f(x, t) = \\sin(\\omega t - kx)$\")\nax.set_xlabel('$x$')\nax.set_ylabel('$f(x, t)$')\nline, = ax.plot([], [], lw=2);\n\ndef init():\n    line.set_data([], [])\n    \n    return (line,)\n\ndef animate(i):\n    x = np.linspace(0, 2, 1000)\n    y = np.sin(2 * np.pi * (x - 0.01 * i))\n    line.set_data(x, y)\n    return (line,)\n\nanim = animation.FuncAnimation(fig, animate, init_func=init,\n                               frames=100, interval=20, \n                               blit=True)\n\nrc('animation', html='html5')\n\nanim",
    "id": "b867cdcce514443a9406fb127eed7e58",
    "idx": 3,
    "time": "2021-02-02T00:51:39.778Z",
    "type": "execution"
   },
   {
    "id": "b867cdcce514443a9406fb127eed7e58",
    "time": "2021-02-02T00:51:42.780Z",
    "type": "completion"
   },
   {
    "code": "import matplotlib.pyplot as plt\nfrom ipywidgets import interact, interactive, fixed, interact_manual\nfrom matplotlib import animation, rc\nimport numpy as np\n\nfig, ax = plt.subplots()\n\nax.set_xlim(( 0, 2))\nax.set_ylim((-2, 2))\n\nax.set_title(r\"$f(x, t) = \\sin(\\omega t - kx)$\")\nax.set_xlabel('$x$')\nax.set_ylabel('$f(x, t)$')\nline, = ax.plot([], [], lw=2);\n\ndef init():\n    line.set_data([], [])\n    \n    return (line,)\n\ndef animate(i):\n    x = np.linspace(0, 2, 1000)\n    y = np.sin(2 * np.pi * (x - 0.01 * i))\n    line.set_data(x, y)\n    return (line,)\n\nanim = animation.FuncAnimation(fig, animate, init_func=init,\n                               frames=100, interval=20, \n                               blit=True)\n",
    "id": "b867cdcce514443a9406fb127eed7e58",
    "idx": 3,
    "time": "2021-02-02T00:51:56.832Z",
    "type": "execution"
   },
   {
    "id": "b867cdcce514443a9406fb127eed7e58",
    "time": "2021-02-02T00:51:56.965Z",
    "type": "completion"
   },
   {
    "code": "import matplotlib.pyplot as plt\nfrom ipywidgets import interact, interactive, fixed, interact_manual\nfrom matplotlib import animation, rc\nimport numpy as np\n\nfig, ax = plt.subplots()\n\nax.set_xlim(( 0, 2))\nax.set_ylim((-2, 2))\n\nax.set_title(r\"$f(x, t) = \\sin(\\omega t - kx)$\")\nax.set_xlabel('$x$')\nax.set_ylabel('$f(x, t)$')\nline, = ax.plot([], [], lw=2);\n\ndef init():\n    line.set_data([], [])\n    \n    return (line,)\n\ndef animate(i):\n    x = np.linspace(0, 2, 1000)\n    y = np.sin(2 * np.pi * (x - 0.01 * i))\n    line.set_data(x, y)\n    return (line,)\n\nanim = animation.FuncAnimation(fig, animate, init_func=init,\n                               frames=100, interval=20, \n                               blit=True)\n",
    "id": "b867cdcce514443a9406fb127eed7e58",
    "idx": 3,
    "time": "2021-02-02T00:52:08.871Z",
    "type": "execution"
   },
   {
    "id": "b867cdcce514443a9406fb127eed7e58",
    "time": "2021-02-02T00:52:09.781Z",
    "type": "completion"
   },
   {
    "code": "%matplotlib inline\nimport matplotlib.pyplot as plt\nfrom ipywidgets import interact, interactive, fixed, interact_manual\nfrom matplotlib import animation, rc\nimport numpy as np\n\nfig, ax = plt.subplots()\n\nax.set_xlim(( 0, 2))\nax.set_ylim((-2, 2))\n\nax.set_title(r\"$f(x, t) = \\sin(\\omega t - kx)$\")\nax.set_xlabel('$x$')\nax.set_ylabel('$f(x, t)$')\nline, = ax.plot([], [], lw=2);\n\ndef init():\n    line.set_data([], [])\n    \n    return (line,)\n\ndef animate(i):\n    x = np.linspace(0, 2, 1000)\n    y = np.sin(2 * np.pi * (x - 0.01 * i))\n    line.set_data(x, y)\n    return (line,)\n\nanim = animation.FuncAnimation(fig, animate, init_func=init,\n                               frames=100, interval=20, \n                               blit=True)\n",
    "id": "b867cdcce514443a9406fb127eed7e58",
    "idx": 3,
    "time": "2021-02-02T00:52:20.780Z",
    "type": "execution"
   },
   {
    "id": "b867cdcce514443a9406fb127eed7e58",
    "time": "2021-02-02T00:52:21.112Z",
    "type": "completion"
   },
   {
    "code": "%matplotlib inline\nimport matplotlib.pyplot as plt\nfrom ipywidgets import interact, interactive, fixed, interact_manual\nfrom matplotlib import animation, rc\nimport numpy as np\n\nfig, ax = plt.subplots()\n\nax.set_xlim(( 0, 2))\nax.set_ylim((-2, 2))\n\nax.set_title(r\"$f(x, t) = \\sin(\\omega t - kx)$\")\nax.set_xlabel('$x$')\nax.set_ylabel('$f(x, t)$')\nline, = ax.plot([], [], lw=2);\n\ndef init():\n    line.set_data([], [])\n    \n    return (line,)\n\ndef animate(i):\n    x = np.linspace(0, 2, 1000)\n    y = np.sin(2 * np.pi * (x - 0.01 * i))\n    line.set_data(x, y)\n    return (line,)\n\nanim = animation.FuncAnimation(fig, animate, init_func=init,\n                               frames=100, interval=20, \n                               blit=True)\nanim",
    "id": "b867cdcce514443a9406fb127eed7e58",
    "idx": 3,
    "time": "2021-02-02T00:52:26.081Z",
    "type": "execution"
   },
   {
    "id": "b867cdcce514443a9406fb127eed7e58",
    "time": "2021-02-02T00:52:26.395Z",
    "type": "completion"
   },
   {
    "code": "%matplotlib notebook\nimport matplotlib.pyplot as plt\nfrom ipywidgets import interact, interactive, fixed, interact_manual\nfrom matplotlib import animation, rc\nimport numpy as np\n\nfig, ax = plt.subplots()\n\nax.set_xlim(( 0, 2))\nax.set_ylim((-2, 2))\n\nax.set_title(r\"$f(x, t) = \\sin(\\omega t - kx)$\")\nax.set_xlabel('$x$')\nax.set_ylabel('$f(x, t)$')\nline, = ax.plot([], [], lw=2);\n\ndef init():\n    line.set_data([], [])\n    \n    return (line,)\n\ndef animate(i):\n    x = np.linspace(0, 2, 1000)\n    y = np.sin(2 * np.pi * (x - 0.01 * i))\n    line.set_data(x, y)\n    return (line,)\n\nanim = animation.FuncAnimation(fig, animate, init_func=init,\n                               frames=100, interval=20, \n                               blit=True)\nanim",
    "id": "b867cdcce514443a9406fb127eed7e58",
    "idx": 3,
    "time": "2021-02-02T00:52:33.495Z",
    "type": "execution"
   },
   {
    "id": "b867cdcce514443a9406fb127eed7e58",
    "time": "2021-02-02T00:52:33.725Z",
    "type": "completion"
   },
   {
    "code": "%matplotlib notebook\nimport matplotlib.pyplot as plt\nfrom ipywidgets import interact, interactive, fixed, interact_manual\nfrom matplotlib import animation, rc\nimport numpy as np\n\nfig, ax = plt.subplots()\n\nax.set_xlim(( 0, 2))\nax.set_ylim((-2, 2))\n\nax.set_title(r\"$f(x, t) = \\sin(\\omega t - kx)$\")\nax.set_xlabel('$x$')\nax.set_ylabel('$f(x, t)$')\nline, = ax.plot([], [], lw=2);\n\ndef init():\n    line.set_data([], [])\n    \n    return (line,)\n\ndef animate(i):\n    x = np.linspace(0, 2, 1000)\n    y = np.sin(2 * np.pi * (x - 0.01 * i))\n    line.set_data(x, y)\n    return (line,)\n\nanim = animation.FuncAnimation(fig, animate, init_func=init,\n                               frames=100, interval=20, \n                               blit=True)\nanim",
    "id": "b867cdcce514443a9406fb127eed7e58",
    "idx": 3,
    "time": "2021-02-02T00:52:42.745Z",
    "type": "execution"
   },
   {
    "id": "b867cdcce514443a9406fb127eed7e58",
    "time": "2021-02-02T00:52:42.930Z",
    "type": "completion"
   },
   {
    "code": "%matplotlib notebook\nimport matplotlib.pyplot as plt\nfrom ipywidgets import interact, interactive, fixed, interact_manual\nfrom matplotlib import animation, rc\nimport numpy as np\n\nfig, ax = plt.subplots()\n\nax.set_xlim(( 0, 2))\nax.set_ylim((-2, 2))\n\nax.set_title(r\"$f(x, t) = \\sin(kx - \\omega t)$\")\nax.set_xlabel('$x$')\nax.set_ylabel('$f(x, t)$')\nline, = ax.plot([], [], lw=2);\n\ndef init():\n    line.set_data([], [])\n    \n    return (line,)\n\ndef animate(i):\n    x = np.linspace(0, 2, 1000)\n    y = np.sin(2 * np.pi * (x - 0.01 * i))\n    line.set_data(x, y)\n    return (line,)\n\nanim = animation.FuncAnimation(fig, animate, init_func=init,\n                               frames=100, interval=20, \n                               blit=True)\nanim",
    "id": "b867cdcce514443a9406fb127eed7e58",
    "idx": 3,
    "time": "2021-02-02T00:53:27.337Z",
    "type": "execution"
   },
   {
    "id": "b867cdcce514443a9406fb127eed7e58",
    "time": "2021-02-02T00:53:27.465Z",
    "type": "completion"
   },
   {
    "code": "%matplotlib notebook\nimport matplotlib.pyplot as plt\nfrom ipywidgets import interact, interactive, fixed, interact_manual\nfrom matplotlib import animation, rc\nimport numpy as np\nimport ipywidgets as widgets\n\n\nfig, ax = plt.subplots()\n\nax.set_xlim(( 0, 2))\nax.set_ylim((-2, 2))\n\nax.set_title(r\"$f(x, t) = \\sin(kx - \\omega t)$\")\nax.set_xlabel('$x$')\nax.set_ylabel('$f(x, t)$')\nline, = ax.plot([], [], lw=2);\n\ndef init():\n    line.set_data([], [])\n    \n    return (line,)\n\ndef animate(i, omega):\n    x = np.linspace(0, 2, 1000)\n    y = np.sin(2 * np.pi * (x - omega * i/100))\n    line.set_data(x, y)\n    return (line,)\n\n\n\n\n\nomega = widgets.IntSlider(min = 1, max = 600, step = 1)\ndisplay(omega)\n\nbutton = widgets.Button(description='Play Animation')\nout = widgets.Output()\n\n\ndef on_button_clicked(_):\n    \n    anim = animation.FuncAnimation(fig, animate, init_func=init,\n                               frames=100, interval=20, \n                               blit=True)\n    anim\n\n\n          \n\n# linking button and function together using a button's method\nbutton.on_click(on_button_clicked)\n# displaying button and its output together\nwidgets.VBox([button,out,fig])",
    "id": "b867cdcce514443a9406fb127eed7e58",
    "idx": 3,
    "time": "2021-02-02T00:57:22.425Z",
    "type": "execution"
   },
   {
    "id": "b867cdcce514443a9406fb127eed7e58",
    "time": "2021-02-02T00:57:22.660Z",
    "type": "completion"
   },
   {
    "code": "%matplotlib notebook\nimport matplotlib.pyplot as plt\nfrom ipywidgets import interact, interactive, fixed, interact_manual\nfrom matplotlib import animation, rc\nimport numpy as np\nimport ipywidgets as widgets\n\n\nfig, ax = plt.subplots()\n\nax.set_xlim(( 0, 2))\nax.set_ylim((-2, 2))\n\nax.set_title(r\"$f(x, t) = \\sin(kx - \\omega t)$\")\nax.set_xlabel('$x$')\nax.set_ylabel('$f(x, t)$')\nline, = ax.plot([], [], lw=2);\n\ndef init():\n    line.set_data([], [])\n    \n    return (line,)\n\ndef animate(i, omega):\n    x = np.linspace(0, 2, 1000)\n    y = np.sin(2 * np.pi * (x - omega * i/100))\n    line.set_data(x, y)\n    return (line,)\n\n\n\n\n\nomega = widgets.IntSlider(min = 1, max = 600, step = 1)\ndisplay(omega)\n\nbutton = widgets.Button(description='Play Animation')\nout = widgets.Output()\n\n\ndef on_button_clicked(_):\n    \n    anim = animation.FuncAnimation(fig, animate, init_func=init,\n                               frames=100, interval=20, \n                               blit=True)\n    anim\n\n\n          \n\n# linking button and function together using a button's method\nbutton.on_click(on_button_clicked)\n# displaying button and its output together\nwidgets.VBox([button,out])",
    "id": "b867cdcce514443a9406fb127eed7e58",
    "idx": 3,
    "time": "2021-02-02T00:57:38.304Z",
    "type": "execution"
   },
   {
    "id": "b867cdcce514443a9406fb127eed7e58",
    "time": "2021-02-02T00:57:38.489Z",
    "type": "completion"
   },
   {
    "code": "%matplotlib notebook\nimport matplotlib.pyplot as plt\nfrom ipywidgets import interact, interactive, fixed, interact_manual\nfrom matplotlib import animation, rc\nimport numpy as np\nimport ipywidgets as widgets\n\n\nfig, ax = plt.subplots()\n\nax.set_xlim(( 0, 2))\nax.set_ylim((-2, 2))\n\nax.set_title(r\"$f(x, t) = \\sin(kx - \\omega t)$\")\nax.set_xlabel('$x$')\nax.set_ylabel('$f(x, t)$')\nline, = ax.plot([], [], lw=2);\n\ndef init():\n    line.set_data([], [])\n    \n    return (line,)\n\ndef animate(i, omega):\n    x = np.linspace(0, 2, 1000)\n    y = np.sin(2 * np.pi * (x - omega * i/100.))\n    line.set_data(x, y)\n    return (line,)\n\n\n\n\n\nomega = widgets.IntSlider(min = 1, max = 600, step = 1)\ndisplay(omega)\n\nbutton = widgets.Button(description='Play Animation')\nout = widgets.Output()\n\n\ndef on_button_clicked(_):\n    \n    anim = animation.FuncAnimation(fig, animate, init_func=init,\n                               frames=100, interval=20, \n                               blit=True)\n    anim\n\n\n          \n\n# linking button and function together using a button's method\nbutton.on_click(on_button_clicked)\n# displaying button and its output together\nwidgets.VBox([button,out])",
    "id": "b867cdcce514443a9406fb127eed7e58",
    "idx": 3,
    "time": "2021-02-02T00:58:36.410Z",
    "type": "execution"
   },
   {
    "id": "b867cdcce514443a9406fb127eed7e58",
    "time": "2021-02-02T00:58:36.599Z",
    "type": "completion"
   },
   {
    "code": "import numpy as np\nimport matplotlib.pyplot as plt\nfrom matplotlib.animation import FuncAnimation\nimport mpl_toolkits.axes_grid1\nimport matplotlib.widgets\n\nclass Player(FuncAnimation):\n    def __init__(self, fig, func, frames=None, init_func=None, fargs=None,\n                 save_count=None, mini=0, maxi=100, pos=(0.125, 0.92), **kwargs):\n        self.i = 0\n        self.min=mini\n        self.max=maxi\n        self.runs = True\n        self.forwards = True\n        self.fig = fig\n        self.func = func\n        self.setup(pos)\n        FuncAnimation.__init__(self,self.fig, self.func, frames=self.play(), \n                                           init_func=init_func, fargs=fargs,\n                                           save_count=save_count, **kwargs )    \n\n    def play(self):\n        while self.runs:\n            self.i = self.i+self.forwards-(not self.forwards)\n            if self.i > self.min and self.i < self.max:\n                yield self.i\n            else:\n                self.stop()\n                yield self.i\n\n    def start(self):\n        self.runs=True\n        self.event_source.start()\n\n    def stop(self, event=None):\n        self.runs = False\n        self.event_source.stop()\n\n    def forward(self, event=None):\n        self.forwards = True\n        self.start()\n    def backward(self, event=None):\n        self.forwards = False\n        self.start()\n    def oneforward(self, event=None):\n        self.forwards = True\n        self.onestep()\n    def onebackward(self, event=None):\n        self.forwards = False\n        self.onestep()\n\n    def onestep(self):\n        if self.i > self.min and self.i < self.max:\n            self.i = self.i+self.forwards-(not self.forwards)\n        elif self.i == self.min and self.forwards:\n            self.i+=1\n        elif self.i == self.max and not self.forwards:\n            self.i-=1\n        self.func(self.i)\n        self.fig.canvas.draw_idle()\n\n    def setup(self, pos):\n        playerax = self.fig.add_axes([pos[0],pos[1], 0.22, 0.04])\n        divider = mpl_toolkits.axes_grid1.make_axes_locatable(playerax)\n        bax = divider.append_axes(\"right\", size=\"80%\", pad=0.05)\n        sax = divider.append_axes(\"right\", size=\"80%\", pad=0.05)\n        fax = divider.append_axes(\"right\", size=\"80%\", pad=0.05)\n        ofax = divider.append_axes(\"right\", size=\"100%\", pad=0.05)\n        self.button_oneback = matplotlib.widgets.Button(playerax, label=ur'$\\u29CF$')\n        self.button_back = matplotlib.widgets.Button(bax, label=u'$\\u25C0$')\n        self.button_stop = matplotlib.widgets.Button(sax, label=u'$\\u25A0$')\n        self.button_forward = matplotlib.widgets.Button(fax, label=u'$\\u25B6$')\n        self.button_oneforward = matplotlib.widgets.Button(ofax, label=u'$\\u29D0$')\n        self.button_oneback.on_clicked(self.onebackward)\n        self.button_back.on_clicked(self.backward)\n        self.button_stop.on_clicked(self.stop)\n        self.button_forward.on_clicked(self.forward)\n        self.button_oneforward.on_clicked(self.oneforward)\n\n### using this class is as easy as using FuncAnimation:            \n\nfig, ax = plt.subplots()\nx = np.linspace(0,6*np.pi, num=100)\ny = np.sin(x)\n\nax.plot(x,y)\npoint, = ax.plot([],[], marker=\"o\", color=\"crimson\", ms=15)\n\ndef update(i):\n    point.set_data(x[i],y[i])\n\nani = Player(fig, update, maxi=len(y)-1)\n\nplt.show()",
    "id": "3aa5662cb2934131b75564caf9af9ad8",
    "idx": 5,
    "time": "2021-02-02T00:59:55.711Z",
    "type": "execution"
   },
   {
    "id": "3aa5662cb2934131b75564caf9af9ad8",
    "time": "2021-02-02T00:59:55.792Z",
    "type": "completion"
   },
   {
    "code": "import numpy as np\nimport matplotlib.pyplot as plt\nfrom matplotlib.animation import FuncAnimation\nimport mpl_toolkits.axes_grid1\nimport matplotlib.widgets\n\nclass Player(FuncAnimation):\n    def __init__(self, fig, func, frames=None, init_func=None, fargs=None,\n                 save_count=None, mini=0, maxi=100, pos=(0.125, 0.92), **kwargs):\n        self.i = 0\n        self.min=mini\n        self.max=maxi\n        self.runs = True\n        self.forwards = True\n        self.fig = fig\n        self.func = func\n        self.setup(pos)\n        FuncAnimation.__init__(self,self.fig, self.func, frames=self.play(), \n                                           init_func=init_func, fargs=fargs,\n                                           save_count=save_count, **kwargs )    \n\n    def play(self):\n        while self.runs:\n            self.i = self.i+self.forwards-(not self.forwards)\n            if self.i > self.min and self.i < self.max:\n                yield self.i\n            else:\n                self.stop()\n                yield self.i\n\n    def start(self):\n        self.runs=True\n        self.event_source.start()\n\n    def stop(self, event=None):\n        self.runs = False\n        self.event_source.stop()\n\n    def forward(self, event=None):\n        self.forwards = True\n        self.start()\n    def backward(self, event=None):\n        self.forwards = False\n        self.start()\n    def oneforward(self, event=None):\n        self.forwards = True\n        self.onestep()\n    def onebackward(self, event=None):\n        self.forwards = False\n        self.onestep()\n\n    def onestep(self):\n        if self.i > self.min and self.i < self.max:\n            self.i = self.i+self.forwards-(not self.forwards)\n        elif self.i == self.min and self.forwards:\n            self.i+=1\n        elif self.i == self.max and not self.forwards:\n            self.i-=1\n        self.func(self.i)\n        self.fig.canvas.draw_idle()\n\n    def setup(self, pos):\n        playerax = self.fig.add_axes([pos[0],pos[1], 0.22, 0.04])\n        divider = mpl_toolkits.axes_grid1.make_axes_locatable(playerax)\n        bax = divider.append_axes(\"right\", size=\"80%\", pad=0.05)\n        sax = divider.append_axes(\"right\", size=\"80%\", pad=0.05)\n        fax = divider.append_axes(\"right\", size=\"80%\", pad=0.05)\n        ofax = divider.append_axes(\"right\", size=\"100%\", pad=0.05)\n        self.button_oneback = matplotlib.widgets.Button(playerax, label=u'$\\u29CF$')\n        self.button_back = matplotlib.widgets.Button(bax, label=u'$\\u25C0$')\n        self.button_stop = matplotlib.widgets.Button(sax, label=u'$\\u25A0$')\n        self.button_forward = matplotlib.widgets.Button(fax, label=u'$\\u25B6$')\n        self.button_oneforward = matplotlib.widgets.Button(ofax, label=u'$\\u29D0$')\n        self.button_oneback.on_clicked(self.onebackward)\n        self.button_back.on_clicked(self.backward)\n        self.button_stop.on_clicked(self.stop)\n        self.button_forward.on_clicked(self.forward)\n        self.button_oneforward.on_clicked(self.oneforward)\n\n### using this class is as easy as using FuncAnimation:            \n\nfig, ax = plt.subplots()\nx = np.linspace(0,6*np.pi, num=100)\ny = np.sin(x)\n\nax.plot(x,y)\npoint, = ax.plot([],[], marker=\"o\", color=\"crimson\", ms=15)\n\ndef update(i):\n    point.set_data(x[i],y[i])\n\nani = Player(fig, update, maxi=len(y)-1)\n\nplt.show()",
    "id": "3aa5662cb2934131b75564caf9af9ad8",
    "idx": 5,
    "time": "2021-02-02T01:00:07.733Z",
    "type": "execution"
   },
   {
    "id": "3aa5662cb2934131b75564caf9af9ad8",
    "time": "2021-02-02T01:00:07.934Z",
    "type": "completion"
   },
   {
    "code": "import numpy as np\nimport matplotlib.pyplot as plt\nfrom matplotlib.animation import FuncAnimation\nimport mpl_toolkits.axes_grid1\nimport matplotlib.widgets\n\nclass Player(FuncAnimation):\n    def __init__(self, fig, func, frames=None, init_func=None, fargs=None,\n                 save_count=None, mini=0, maxi=100, pos=(0.125, 0.92), **kwargs):\n        self.i = 0\n        self.min=mini\n        self.max=maxi\n        self.runs = True\n        self.forwards = True\n        self.fig = fig\n        self.func = func\n        self.setup(pos)\n        FuncAnimation.__init__(self,self.fig, self.func, frames=self.play(), \n                                           init_func=init_func, fargs=fargs,\n                                           save_count=save_count, **kwargs )    \n\n    def play(self):\n        while self.runs:\n            self.i = self.i+self.forwards-(not self.forwards)\n            if self.i > self.min and self.i < self.max:\n                yield self.i\n            else:\n                self.stop()\n                yield self.i\n\n    def start(self):\n        self.runs=True\n        self.event_source.start()\n\n    def stop(self, event=None):\n        self.runs = False\n        self.event_source.stop()\n\n    def forward(self, event=None):\n        self.forwards = True\n        self.start()\n    def backward(self, event=None):\n        self.forwards = False\n        self.start()\n    def oneforward(self, event=None):\n        self.forwards = True\n        self.onestep()\n    def onebackward(self, event=None):\n        self.forwards = False\n        self.onestep()\n\n    def onestep(self):\n        if self.i > self.min and self.i < self.max:\n            self.i = self.i+self.forwards-(not self.forwards)\n        elif self.i == self.min and self.forwards:\n            self.i+=1\n        elif self.i == self.max and not self.forwards:\n            self.i-=1\n        self.func(self.i)\n        self.fig.canvas.draw_idle()\n\n    def setup(self, pos):\n        playerax = self.fig.add_axes([pos[0],pos[1], 0.22, 0.04])\n        divider = mpl_toolkits.axes_grid1.make_axes_locatable(playerax)\n        bax = divider.append_axes(\"right\", size=\"80%\", pad=0.05)\n        sax = divider.append_axes(\"right\", size=\"80%\", pad=0.05)\n        fax = divider.append_axes(\"right\", size=\"80%\", pad=0.05)\n        ofax = divider.append_axes(\"right\", size=\"100%\", pad=0.05)\n        self.button_oneback = matplotlib.widgets.Button(playerax, label=u'$\\u29CF$')\n        self.button_back = matplotlib.widgets.Button(bax, label=u'$\\u25C0$')\n        self.button_stop = matplotlib.widgets.Button(sax, label=u'$\\u25A0$')\n        self.button_forward = matplotlib.widgets.Button(fax, label=u'$\\u25B6$')\n        self.button_oneforward = matplotlib.widgets.Button(ofax, label=u'$\\u29D0$')\n        self.button_oneback.on_clicked(self.onebackward)\n        self.button_back.on_clicked(self.backward)\n        self.button_stop.on_clicked(self.stop)\n        self.button_forward.on_clicked(self.forward)\n        self.button_oneforward.on_clicked(self.oneforward)\n\n### using this class is as easy as using FuncAnimation:            \n\nfig, ax = plt.subplots()\nx = np.linspace(0,6*np.pi, num=100)\ny = np.sin(x)\n\nax.plot(x,y)\npoint, = ax.plot([],[], marker=\"o\", color=\"crimson\", ms=15)\n\ndef update(i):\n    point.set_data(x[i],y[i])\n\nani = Player(fig, update, maxi=len(y)-1)\n\nplt.show()",
    "id": "3aa5662cb2934131b75564caf9af9ad8",
    "idx": 5,
    "time": "2021-02-02T01:00:47.988Z",
    "type": "execution"
   },
   {
    "id": "3aa5662cb2934131b75564caf9af9ad8",
    "time": "2021-02-02T01:00:49.007Z",
    "type": "completion"
   },
   {
    "code": "%matplotlib notebook\n\nimport numpy as np\nimport matplotlib.pyplot as plt\nfrom matplotlib.animation import FuncAnimation\nimport mpl_toolkits.axes_grid1\nimport matplotlib.widgets\n\nclass Player(FuncAnimation):\n    def __init__(self, fig, func, frames=None, init_func=None, fargs=None,\n                 save_count=None, mini=0, maxi=100, pos=(0.125, 0.92), **kwargs):\n        self.i = 0\n        self.min=mini\n        self.max=maxi\n        self.runs = True\n        self.forwards = True\n        self.fig = fig\n        self.func = func\n        self.setup(pos)\n        FuncAnimation.__init__(self,self.fig, self.func, frames=self.play(), \n                                           init_func=init_func, fargs=fargs,\n                                           save_count=save_count, **kwargs )    \n\n    def play(self):\n        while self.runs:\n            self.i = self.i+self.forwards-(not self.forwards)\n            if self.i > self.min and self.i < self.max:\n                yield self.i\n            else:\n                self.stop()\n                yield self.i\n\n    def start(self):\n        self.runs=True\n        self.event_source.start()\n\n    def stop(self, event=None):\n        self.runs = False\n        self.event_source.stop()\n\n    def forward(self, event=None):\n        self.forwards = True\n        self.start()\n    def backward(self, event=None):\n        self.forwards = False\n        self.start()\n    def oneforward(self, event=None):\n        self.forwards = True\n        self.onestep()\n    def onebackward(self, event=None):\n        self.forwards = False\n        self.onestep()\n\n    def onestep(self):\n        if self.i > self.min and self.i < self.max:\n            self.i = self.i+self.forwards-(not self.forwards)\n        elif self.i == self.min and self.forwards:\n            self.i+=1\n        elif self.i == self.max and not self.forwards:\n            self.i-=1\n        self.func(self.i)\n        self.fig.canvas.draw_idle()\n\n    def setup(self, pos):\n        playerax = self.fig.add_axes([pos[0],pos[1], 0.22, 0.04])\n        divider = mpl_toolkits.axes_grid1.make_axes_locatable(playerax)\n        bax = divider.append_axes(\"right\", size=\"80%\", pad=0.05)\n        sax = divider.append_axes(\"right\", size=\"80%\", pad=0.05)\n        fax = divider.append_axes(\"right\", size=\"80%\", pad=0.05)\n        ofax = divider.append_axes(\"right\", size=\"100%\", pad=0.05)\n        self.button_oneback = matplotlib.widgets.Button(playerax, label=u'$\\u29CF$')\n        self.button_back = matplotlib.widgets.Button(bax, label=u'$\\u25C0$')\n        self.button_stop = matplotlib.widgets.Button(sax, label=u'$\\u25A0$')\n        self.button_forward = matplotlib.widgets.Button(fax, label=u'$\\u25B6$')\n        self.button_oneforward = matplotlib.widgets.Button(ofax, label=u'$\\u29D0$')\n        self.button_oneback.on_clicked(self.onebackward)\n        self.button_back.on_clicked(self.backward)\n        self.button_stop.on_clicked(self.stop)\n        self.button_forward.on_clicked(self.forward)\n        self.button_oneforward.on_clicked(self.oneforward)\n\n### using this class is as easy as using FuncAnimation:            \n\nfig, ax = plt.subplots()\nx = np.linspace(0,6*np.pi, num=100)\ny = np.sin(x)\n\nax.plot(x,y)\npoint, = ax.plot([],[], marker=\"o\", color=\"crimson\", ms=15)\n\ndef update(i):\n    point.set_data(x[i],y[i])\n\nani = Player(fig, update, maxi=len(y)-1)\n\nplt.show()",
    "id": "3aa5662cb2934131b75564caf9af9ad8",
    "idx": 5,
    "time": "2021-02-02T01:01:03.135Z",
    "type": "execution"
   },
   {
    "id": "3aa5662cb2934131b75564caf9af9ad8",
    "time": "2021-02-02T01:01:03.344Z",
    "type": "completion"
   },
   {
    "code": "%matplotlib notebook\n\nimport numpy as np\nimport matplotlib.pyplot as plt\nfrom matplotlib.animation import FuncAnimation\nimport mpl_toolkits.axes_grid1\nimport matplotlib.widgets\n\nclass Player(FuncAnimation):\n    def __init__(self, fig, func, frames=None, init_func=None, fargs=None,\n                 save_count=None, mini=0, maxi=100, pos=(0.125, 0.92), **kwargs):\n        self.i = 0\n        self.min=mini\n        self.max=maxi\n        self.runs = True\n        self.forwards = True\n        self.fig = fig\n        self.func = func\n        self.setup(pos)\n        FuncAnimation.__init__(self,self.fig, self.update, frames=self.play(), \n                                           init_func=init_func, fargs=fargs,\n                                           save_count=save_count, **kwargs )    \n\n    def play(self):\n        while self.runs:\n            self.i = self.i+self.forwards-(not self.forwards)\n            if self.i > self.min and self.i < self.max:\n                yield self.i\n            else:\n                self.stop()\n                yield self.i\n\n    def start(self):\n        self.runs=True\n        self.event_source.start()\n\n    def stop(self, event=None):\n        self.runs = False\n        self.event_source.stop()\n\n    def forward(self, event=None):\n        self.forwards = True\n        self.start()\n    def backward(self, event=None):\n        self.forwards = False\n        self.start()\n    def oneforward(self, event=None):\n        self.forwards = True\n        self.onestep()\n    def onebackward(self, event=None):\n        self.forwards = False\n        self.onestep()\n\n    def onestep(self):\n        if self.i > self.min and self.i < self.max:\n            self.i = self.i+self.forwards-(not self.forwards)\n        elif self.i == self.min and self.forwards:\n            self.i+=1\n        elif self.i == self.max and not self.forwards:\n            self.i-=1\n        self.func(self.i)\n        self.slider.set_val(self.i)\n        self.fig.canvas.draw_idle()\n\n    def setup(self, pos):\n        playerax = self.fig.add_axes([pos[0],pos[1], 0.64, 0.04])\n        divider = mpl_toolkits.axes_grid1.make_axes_locatable(playerax)\n        bax = divider.append_axes(\"right\", size=\"80%\", pad=0.05)\n        sax = divider.append_axes(\"right\", size=\"80%\", pad=0.05)\n        fax = divider.append_axes(\"right\", size=\"80%\", pad=0.05)\n        ofax = divider.append_axes(\"right\", size=\"100%\", pad=0.05)\n        sliderax = divider.append_axes(\"right\", size=\"500%\", pad=0.07)\n        self.button_oneback = matplotlib.widgets.Button(playerax, label='$\\u29CF$')\n        self.button_back = matplotlib.widgets.Button(bax, label='$\\u25C0$')\n        self.button_stop = matplotlib.widgets.Button(sax, label='$\\u25A0$')\n        self.button_forward = matplotlib.widgets.Button(fax, label='$\\u25B6$')\n        self.button_oneforward = matplotlib.widgets.Button(ofax, label='$\\u29D0$')\n        self.button_oneback.on_clicked(self.onebackward)\n        self.button_back.on_clicked(self.backward)\n        self.button_stop.on_clicked(self.stop)\n        self.button_forward.on_clicked(self.forward)\n        self.button_oneforward.on_clicked(self.oneforward)\n        self.slider = matplotlib.widgets.Slider(sliderax, '', \n                                                self.min, self.max, valinit=self.i)\n        self.slider.on_changed(self.set_pos)\n\n    def set_pos(self,i):\n        self.i = int(self.slider.val)\n        self.func(self.i)\n\n    def update(self,i):\n        self.slider.set_val(i)\n\n\n### using this class is as easy as using FuncAnimation:            \n\nfig, ax = plt.subplots()\nx = np.linspace(0,6*np.pi, num=100)\ny = np.sin(x)\n\nax.plot(x,y)\npoint, = ax.plot([],[], marker=\"o\", color=\"crimson\", ms=15)\n\ndef update(i):\n    point.set_data(x[i],y[i])\n\nani = Player(fig, update, maxi=len(y)-1)\n\nplt.show()",
    "id": "3aa5662cb2934131b75564caf9af9ad8",
    "idx": 5,
    "time": "2021-02-02T01:01:47.927Z",
    "type": "execution"
   },
   {
    "id": "3aa5662cb2934131b75564caf9af9ad8",
    "time": "2021-02-02T01:01:48.222Z",
    "type": "completion"
   },
   {
    "code": "%matplotlib notebook\nimport matplotlib.pyplot as plt\nfrom ipywidgets import interact, interactive, fixed, interact_manual\nfrom matplotlib import animation, rc\nimport numpy as np\nimport ipywidgets as widgets\n\n\nfig, ax = plt.subplots()\n\nax.set_xlim(( 0, 2))\nax.set_ylim((-2, 2))\n\nax.set_title(r\"$f(x, t) = \\sin(kx - \\omega t)$\")\nax.set_xlabel('$x$')\nax.set_ylabel('$f(x, t)$')\nline, = ax.plot([], [], lw=2);\n\ndef init():\n    line.set_data([], [])\n    \n    return (line,)\n\ndef animate(i, om):\n    x = np.linspace(0, 2, 1000)\n    y = np.sin(2 * np.pi * (x - om * i/100.))\n    line.set_data(x, y)\n    return (line,)\n\n\n\n\n\nomega = widgets.IntSlider(min = 1, max = 600, step = 1)\ndisplay(omega)\n\nbutton = widgets.Button(description='Play Animation')\nout = widgets.Output()\n\n\ndef on_button_clicked(_):\n    \n    anim = animation.FuncAnimation(fig, animate(omega.value), init_func=init,\n                               frames=100, interval=20, \n                               blit=True)\n    anim\n\n\n          \n\n# linking button and function together using a button's method\nbutton.on_click(on_button_clicked)\n# displaying button and its output together\nwidgets.VBox([button,out])",
    "id": "b867cdcce514443a9406fb127eed7e58",
    "idx": 3,
    "time": "2021-02-02T01:03:27.624Z",
    "type": "execution"
   },
   {
    "id": "b867cdcce514443a9406fb127eed7e58",
    "time": "2021-02-02T01:03:27.842Z",
    "type": "completion"
   },
   {
    "code": "%matplotlib notebook\nimport matplotlib.pyplot as plt\nfrom ipywidgets import interact, interactive, fixed, interact_manual\nfrom matplotlib import animation, rc\nimport numpy as np\nimport ipywidgets as widgets\n\n\nfig, ax = plt.subplots()\n\nax.set_xlim(( 0, 2))\nax.set_ylim((-2, 2))\n\nax.set_title(r\"$f(x, t) = \\sin(kx - \\omega t)$\")\nax.set_xlabel('$x$')\nax.set_ylabel('$f(x, t)$')\nline, = ax.plot([], [], lw=2);\n\ndef init():\n    line.set_data([], [])\n    \n    return (line,)\n\ndef animate(i, om):\n    x = np.linspace(0, 2, 1000)\n    y = np.sin(2 * np.pi * (x - om * i/100.))\n    line.set_data(x, y)\n    return (line,)\n\n\n\n\n\nomega = widgets.IntSlider(min = 1, max = 600, step = 1)\ndisplay(omega)\n\nbutton = widgets.Button(description='Play Animation')\nout = widgets.Output()\n\n\ndef on_button_clicked(_):\n    \n    anim = animation.FuncAnimation(fig, animate, init_func=init,\n                               frames=100, interval=20, \n                               blit=True, fargs=(omega.value,))\n    anim\n\n\n          \n\n# linking button and function together using a button's method\nbutton.on_click(on_button_clicked)\n# displaying button and its output together\nwidgets.VBox([button,out])",
    "id": "b867cdcce514443a9406fb127eed7e58",
    "idx": 3,
    "time": "2021-02-02T01:04:25.003Z",
    "type": "execution"
   },
   {
    "id": "b867cdcce514443a9406fb127eed7e58",
    "time": "2021-02-02T01:04:25.184Z",
    "type": "completion"
   },
   {
    "code": "%matplotlib notebook\nimport matplotlib.pyplot as plt\nfrom ipywidgets import interact, interactive, fixed, interact_manual\nfrom matplotlib import animation, rc\nimport numpy as np\nimport ipywidgets as widgets\n\n\nfig, ax = plt.subplots()\n\nax.set_xlim(( 0, 2))\nax.set_ylim((-2, 2))\n\nax.set_title(r\"$f(x, t) = \\sin(kx - \\omega t)$\")\nax.set_xlabel('$x$')\nax.set_ylabel('$f(x, t)$')\nline, = ax.plot([], [], lw=2);\n\ndef init():\n    line.set_data([], [])\n    \n    return (line,)\n\ndef animate(i, om):\n    print(om)\n    x = np.linspace(0, 2, 1000)\n    y = np.sin(2 * np.pi * (x - om * i/100.))\n    line.set_data(x, y)\n    return (line,)\n\n\n\n\n\nomega = widgets.IntSlider(min = 1, max = 600, step = 1)\ndisplay(omega)\n\nbutton = widgets.Button(description='Play Animation')\nout = widgets.Output()\n\n\ndef on_button_clicked(_):\n    \n    anim = animation.FuncAnimation(fig, animate, init_func=init,\n                               frames=100, interval=20, \n                               blit=True, fargs=(omega.value,))\n    anim\n\n\n          \n\n# linking button and function together using a button's method\nbutton.on_click(on_button_clicked)\n# displaying button and its output together\nwidgets.VBox([button,out])",
    "id": "b867cdcce514443a9406fb127eed7e58",
    "idx": 3,
    "time": "2021-02-02T01:04:33.989Z",
    "type": "execution"
   },
   {
    "id": "b867cdcce514443a9406fb127eed7e58",
    "time": "2021-02-02T01:04:34.660Z",
    "type": "completion"
   },
   {
    "code": "%matplotlib notebook\nimport matplotlib.pyplot as plt\nfrom ipywidgets import interact, interactive, fixed, interact_manual\nfrom matplotlib import animation, rc\nimport numpy as np\nimport ipywidgets as widgets\n\n\nfig, ax = plt.subplots()\n\nax.set_xlim(( 0, 2))\nax.set_ylim((-2, 2))\n\nax.set_title(r\"$f(x, t) = \\sin(kx - \\omega t)$\")\nax.set_xlabel('$x$')\nax.set_ylabel('$f(x, t)$')\nline, = ax.plot([], [], lw=2);\n\ndef init():\n    line.set_data([], [])\n    \n    return (line,)\n\ndef animate(i, om):\n    print(om)\n    x = np.linspace(0, 2, 1000)\n    y = np.sin(2 * np.pi * (x - om * i/100.))\n    line.set_data(x, y)\n    return (line,)\n\n\n\n\n\nomega = widgets.IntSlider(min = 1, max = 600, step = 1)\ndisplay(omega)\n\nbutton = widgets.Button(description='Play Animation')\nout = widgets.Output()\n\n\ndef on_button_clicked(_):\n    \n    anim = animation.FuncAnimation(fig, animate, init_func=init,\n                               frames=100, interval=20, \n                               blit=True, fargs=(omega.value,))\n    anim\n\n\n          \n\n# linking button and function together using a button's method\nbutton.on_click(on_button_clicked)\n# displaying button and its output together\nwidgets.VBox([fig,button,out])",
    "id": "b867cdcce514443a9406fb127eed7e58",
    "idx": 3,
    "time": "2021-02-02T01:05:04.150Z",
    "type": "execution"
   },
   {
    "id": "b867cdcce514443a9406fb127eed7e58",
    "time": "2021-02-02T01:05:04.820Z",
    "type": "completion"
   },
   {
    "code": "%matplotlib notebook\nimport matplotlib.pyplot as plt\nfrom ipywidgets import interact, interactive, fixed, interact_manual\nfrom matplotlib import animation, rc\nimport numpy as np\nimport ipywidgets as widgets\n\n\nfig, ax = plt.subplots()\n\nax.set_xlim(( 0, 2))\nax.set_ylim((-2, 2))\n\nax.set_title(r\"$f(x, t) = \\sin(kx - \\omega t)$\")\nax.set_xlabel('$x$')\nax.set_ylabel('$f(x, t)$')\nline, = ax.plot([], [], lw=2);\n\ndef init():\n    line.set_data([], [])\n    \n    return (line,)\n\ndef animate(i, om):\n    print(om)\n    x = np.linspace(0, 2, 1000)\n    y = np.sin(2 * np.pi * (x - om * i/100.))\n    line.set_data(x, y)\n    return (line,)\n\n\n\n\n\nomega = widgets.IntSlider(min = 1, max = 600, step = 1)\ndisplay(omega)\n\nbutton = widgets.Button(description='Play Animation')\nout = widgets.Output()\n\n\ndef update_range(omega):\n    \n    anim = animation.FuncAnimation(fig, animate, init_func=init,\n                               frames=100, interval=20, \n                               blit=True, fargs=(omega,))\n    anim\n\n\n          \n\n# linking button and function together using a button's method\nbutton.on_click(on_button_clicked)\n# displaying button and its output together\nvb = VBox((fig, interactive(update_range, omega = slider2)))\nvb.layout.align_items = 'center'\nvb",
    "id": "b867cdcce514443a9406fb127eed7e58",
    "idx": 3,
    "time": "2021-02-02T01:06:38.466Z",
    "type": "execution"
   },
   {
    "id": "b867cdcce514443a9406fb127eed7e58",
    "time": "2021-02-02T01:06:39.136Z",
    "type": "completion"
   },
   {
    "code": "%matplotlib notebook\nimport matplotlib.pyplot as plt\nfrom ipywidgets import interact, interactive, fixed, interact_manual\nfrom matplotlib import animation, rc\nimport numpy as np\nimport ipywidgets as widgets\n\n\nfig, ax = plt.subplots()\n\nax.set_xlim(( 0, 2))\nax.set_ylim((-2, 2))\n\nax.set_title(r\"$f(x, t) = \\sin(kx - \\omega t)$\")\nax.set_xlabel('$x$')\nax.set_ylabel('$f(x, t)$')\nline, = ax.plot([], [], lw=2);\n\ndef init():\n    line.set_data([], [])\n    \n    return (line,)\n\ndef animate(i, om):\n    print(om)\n    x = np.linspace(0, 2, 1000)\n    y = np.sin(2 * np.pi * (x - om * i/100.))\n    line.set_data(x, y)\n    return (line,)\n\n\n\n\n\nomega = widgets.IntSlider(min = 1, max = 600, step = 1)\ndisplay(omega)\n\nbutton = widgets.Button(description='Play Animation')\nout = widgets.Output()\n\n\ndef update_range(omega):\n    \n    anim = animation.FuncAnimation(fig, animate, init_func=init,\n                               frames=100, interval=20, \n                               blit=True, fargs=(omega,))\n    anim\n\n\n          \n\n# linking button and function together using a button's method\nbutton.on_click(on_button_clicked)\n# displaying button and its output together\nvb = widgets.VBox((fig, interactive(update_range, omega = slider2)))\nvb.layout.align_items = 'center'\nvb",
    "id": "b867cdcce514443a9406fb127eed7e58",
    "idx": 3,
    "time": "2021-02-02T01:06:59.391Z",
    "type": "execution"
   },
   {
    "id": "b867cdcce514443a9406fb127eed7e58",
    "time": "2021-02-02T01:06:59.578Z",
    "type": "completion"
   },
   {
    "code": "%matplotlib notebook\nimport matplotlib.pyplot as plt\nfrom ipywidgets import interact, interactive, fixed, interact_manual\nfrom matplotlib import animation, rc\nimport numpy as np\nimport ipywidgets as widgets\n\n\nfig, ax = plt.subplots()\n\nax.set_xlim(( 0, 2))\nax.set_ylim((-2, 2))\n\nax.set_title(r\"$f(x, t) = \\sin(kx - \\omega t)$\")\nax.set_xlabel('$x$')\nax.set_ylabel('$f(x, t)$')\nline, = ax.plot([], [], lw=2);\n\ndef init():\n    line.set_data([], [])\n    \n    return (line,)\n\ndef animate(i, om):\n    print(om)\n    x = np.linspace(0, 2, 1000)\n    y = np.sin(2 * np.pi * (x - om * i/100.))\n    line.set_data(x, y)\n    return (line,)\n\n\n\n\n\nslider2 = widgets.IntSlider(min = 1, max = 600, step = 1)\ndisplay(omega)\n\nbutton = widgets.Button(description='Play Animation')\nout = widgets.Output()\n\n\ndef update_range(omega):\n    \n    anim = animation.FuncAnimation(fig, animate, init_func=init,\n                               frames=100, interval=20, \n                               blit=True, fargs=(omega,))\n    anim\n\n\n          \n\n# linking button and function together using a button's method\nbutton.on_click(on_button_clicked)\n# displaying button and its output together\nvb = widgets.VBox((fig, interactive(update_range, omega = slider2)))\nvb.layout.align_items = 'center'\nvb",
    "id": "b867cdcce514443a9406fb127eed7e58",
    "idx": 3,
    "time": "2021-02-02T01:07:17.057Z",
    "type": "execution"
   },
   {
    "id": "b867cdcce514443a9406fb127eed7e58",
    "time": "2021-02-02T01:07:17.319Z",
    "type": "completion"
   },
   {
    "code": "import plotly.graph_objs as go\nfrom ipywidgets import interactive, HBox, VBox, widgets, interact\n\nxs = np.linspace(0, 5, 1000)\n\ndef wave(f, phi, x):\n    return np.sin(2*np.pi*f*x + phi)\n\nfig = go.FigureWidget()\n\nfig.layout = dict(yaxis=dict(range=[-1,1]), xaxis=dict(range=[0,5]),width = 1000)\n\nfig.update_layout(\n    title={\n        'text': r'$y = \\sin(2 \\pi f x + \\phi)$',\n        'y':0.85,\n        'x':0.5,\n        'xanchor': 'center',\n        'yanchor': 'top'})\n\nfig.update_xaxes(\n        title_text = r\"$x$\",\n        title_standoff = 15,\n        ticks = 'outside',\n        ticklen = 10,\n        tickcolor='white')\n\nfig.update_yaxes(\n        title_text = '',\n        title_standoff = 25,\n        ticks = 'outside',\n        ticklen = 10,\n        tickcolor = 'white')\n\n\nline = fig.add_trace(go.Scatter(x=xs, y=wave(1, 0, xs),\n                    mode='lines',\n                    name='lines'))\n\nslider = widgets.FloatSlider(\n    value = 1,\n    min=0.1,\n    max=10,\n    step=0.1,\n    readout=True,\n    description=r'$f$')\nslider.layout.width = '400px'\n\nslider2 = widgets.FloatSlider(\n    value = 0,\n    min=-3.14,\n    max=3.14,\n    step=0.01,\n    readout=True,\n    description=r'$\\phi$')\nslider2.layout.width = '400px'\n\n\n# our function that will modify the xaxis range\ndef update_range(frequency, phi):\n    fig.data[0].y=wave(frequency, phi, xs)\n\n\n# display the FigureWidget and slider with center justification\nvb = VBox((fig, interactive(update_range, frequency = slider, phi = slider2)))\nvb.layout.align_items = 'center'\nvb",
    "id": "85736820b6ba488296e745512b629dd0",
    "idx": 1,
    "time": "2021-02-02T01:08:13.210Z",
    "type": "execution"
   },
   {
    "id": "85736820b6ba488296e745512b629dd0",
    "time": "2021-02-02T01:08:13.713Z",
    "type": "completion"
   },
   {
    "code": "import plotly.graph_objs as go\nfrom ipywidgets import interactive, HBox, VBox, widgets, interact\n\nxs = np.linspace(0, 5, 1000)\n\ndef wave(f, phi, x, t):\n    return np.sin(2*np.pi*f*x + phi - t)\n\nfig = go.FigureWidget()\n\nfig.layout = dict(yaxis=dict(range=[-1,1]), xaxis=dict(range=[0,5]),width = 1000)\n\nfig.update_layout(\n    title={\n        'text': r'$y = \\sin(2 \\pi f x + \\phi)$',\n        'y':0.85,\n        'x':0.5,\n        'xanchor': 'center',\n        'yanchor': 'top'})\n\nfig.update_xaxes(\n        title_text = r\"$x$\",\n        title_standoff = 15,\n        ticks = 'outside',\n        ticklen = 10,\n        tickcolor='white')\n\nfig.update_yaxes(\n        title_text = '',\n        title_standoff = 25,\n        ticks = 'outside',\n        ticklen = 10,\n        tickcolor = 'white')\n\n\nline = fig.add_trace(go.Scatter(x=xs, y=wave(1, 0, xs),\n                    mode='lines',\n                    name='lines'))\n\nslider = widgets.FloatSlider(\n    value = 1,\n    min=0.1,\n    max=10,\n    step=0.1,\n    readout=True,\n    description=r'$f$')\nslider.layout.width = '400px'\n\nslider2 = widgets.FloatSlider(\n    value = 0,\n    min=-3.14,\n    max=3.14,\n    step=0.01,\n    readout=True,\n    description=r'$\\phi$')\nslider2.layout.width = '400px'\n\nslider3 = widgets.FloatSlider(\n    value = 0,\n    min= 0,\n    max= 10,\n    step=0.1,\n    readout=True,\n    description=r'$t$')\nslider3.layout.width = '400px'\n\n\n# our function that will modify the xaxis range\ndef update_range(frequency, phi, time):\n    fig.data[0].y=wave(frequency, phi, xs, time)\n\n\n# display the FigureWidget and slider with center justification\nvb = VBox((fig, interactive(update_range, frequency = slider, phi = slider2, time = slider3)))\nvb.layout.align_items = 'center'\nvb",
    "id": "f15e0fd280db4a56b7301dad0a4e1307",
    "idx": 2,
    "time": "2021-02-02T01:20:31.851Z",
    "type": "execution"
   },
   {
    "id": "f15e0fd280db4a56b7301dad0a4e1307",
    "time": "2021-02-02T01:20:32.161Z",
    "type": "completion"
   },
   {
    "code": "import plotly.graph_objs as go\nfrom ipywidgets import interactive, HBox, VBox, widgets, interact\n\nxs = np.linspace(0, 5, 1000)\n\ndef wave(f, phi, x, t):\n    return np.sin(2*np.pi*f*x + phi - t)\n\nfig = go.FigureWidget()\n\nfig.layout = dict(yaxis=dict(range=[-1,1]), xaxis=dict(range=[0,5]),width = 1000)\n\nfig.update_layout(\n    title={\n        'text': r'$y = \\sin(2 \\pi f x + \\phi)$',\n        'y':0.85,\n        'x':0.5,\n        'xanchor': 'center',\n        'yanchor': 'top'})\n\nfig.update_xaxes(\n        title_text = r\"$x$\",\n        title_standoff = 15,\n        ticks = 'outside',\n        ticklen = 10,\n        tickcolor='white')\n\nfig.update_yaxes(\n        title_text = '',\n        title_standoff = 25,\n        ticks = 'outside',\n        ticklen = 10,\n        tickcolor = 'white')\n\n\nline = fig.add_trace(go.Scatter(x=xs, y=wave(1, 0, xs, 0),\n                    mode='lines',\n                    name='lines'))\n\nslider = widgets.FloatSlider(\n    value = 1,\n    min=0.1,\n    max=10,\n    step=0.1,\n    readout=True,\n    description=r'$f$')\nslider.layout.width = '400px'\n\nslider2 = widgets.FloatSlider(\n    value = 0,\n    min=-3.14,\n    max=3.14,\n    step=0.01,\n    readout=True,\n    description=r'$\\phi$')\nslider2.layout.width = '400px'\n\nslider3 = widgets.FloatSlider(\n    value = 0,\n    min= 0,\n    max= 10,\n    step=0.1,\n    readout=True,\n    description=r'$t$')\nslider3.layout.width = '400px'\n\n\n# our function that will modify the xaxis range\ndef update_range(frequency, phi, time):\n    fig.data[0].y=wave(frequency, phi, xs, time)\n\n\n# display the FigureWidget and slider with center justification\nvb = VBox((fig, interactive(update_range, frequency = slider, phi = slider2, time = slider3)))\nvb.layout.align_items = 'center'\nvb",
    "id": "f15e0fd280db4a56b7301dad0a4e1307",
    "idx": 2,
    "time": "2021-02-02T01:20:39.108Z",
    "type": "execution"
   },
   {
    "id": "f15e0fd280db4a56b7301dad0a4e1307",
    "time": "2021-02-02T01:20:39.477Z",
    "type": "completion"
   },
   {
    "code": "import plotly.graph_objs as go\nfrom ipywidgets import interactive, HBox, VBox, widgets, interact\n\nxs = np.linspace(0, 5, 1000)\n\ndef wave(f, phi, x, t):\n    return np.sin(2*np.pi*f*x + phi - t)\n\nfig = go.FigureWidget()\n\nfig.layout = dict(yaxis=dict(range=[-1,1]), xaxis=dict(range=[0,5]),width = 1000)\n\nfig.update_layout(\n    title={\n        'text': r'$y = \\sin(2 \\pi f x + \\phi)$',\n        'y':0.85,\n        'x':0.5,\n        'xanchor': 'center',\n        'yanchor': 'top'})\n\nfig.update_xaxes(\n        title_text = r\"$x$\",\n        title_standoff = 15,\n        ticks = 'outside',\n        ticklen = 10,\n        tickcolor='white')\n\nfig.update_yaxes(\n        title_text = '',\n        title_standoff = 25,\n        ticks = 'outside',\n        ticklen = 10,\n        tickcolor = 'white')\n\n\nline = fig.add_trace(go.Scatter(x=xs, y=wave(1, 0, xs, 0),\n                    mode='lines',\n                    name='lines'))\n\nslider = widgets.FloatSlider(\n    value = 1,\n    min=0.1,\n    max=10,\n    step=0.1,\n    readout=True,\n    description=r'$f$')\nslider.layout.width = '400px'\n\nslider2 = widgets.FloatSlider(\n    value = 0,\n    min=-3.14,\n    max=3.14,\n    step=0.01,\n    readout=True,\n    description=r'$\\phi$')\nslider2.layout.width = '400px'\n\nslider3 = widgets.FloatSlider(\n    value = 0,\n    min= 0,\n    max= 10,\n    step=0.1,\n    readout=True,\n    description=r'$t$',\n    orientation=\"vertical\")\nslider3.layout.width = '400px'\n\n\n# our function that will modify the xaxis range\ndef update_range(frequency, phi, time):\n    fig.data[0].y=wave(frequency, phi, xs, time)\n\n\n# display the FigureWidget and slider with center justification\nvb = VBox((fig, interactive(update_range, frequency = slider, phi = slider2, time = slider3)))\nvb.layout.align_items = 'center'\nvb",
    "id": "f15e0fd280db4a56b7301dad0a4e1307",
    "idx": 2,
    "time": "2021-02-02T01:21:44.941Z",
    "type": "execution"
   },
   {
    "id": "f15e0fd280db4a56b7301dad0a4e1307",
    "time": "2021-02-02T01:21:45.289Z",
    "type": "completion"
   },
   {
    "code": "import plotly.graph_objs as go\nfrom ipywidgets import interactive, HBox, VBox, widgets, interact\n\nxs = np.linspace(0, 5, 1000)\n\ndef wave(f, phi, x, t):\n    return np.sin(2*np.pi*f*x + phi - t)\n\nfig = go.FigureWidget()\n\nfig.layout = dict(yaxis=dict(range=[-1,1]), xaxis=dict(range=[0,5]),width = 1000)\n\nfig.update_layout(\n    title={\n        'text': r'$y = \\sin(2 \\pi f x + \\phi)$',\n        'y':0.85,\n        'x':0.5,\n        'xanchor': 'center',\n        'yanchor': 'top'})\n\nfig.update_xaxes(\n        title_text = r\"$x$\",\n        title_standoff = 15,\n        ticks = 'outside',\n        ticklen = 10,\n        tickcolor='white')\n\nfig.update_yaxes(\n        title_text = '',\n        title_standoff = 25,\n        ticks = 'outside',\n        ticklen = 10,\n        tickcolor = 'white')\n\n\nline = fig.add_trace(go.Scatter(x=xs, y=wave(1, 0, xs, 0),\n                    mode='lines',\n                    name='lines'))\n\nslider = widgets.FloatSlider(\n    value = 1,\n    min=0.1,\n    max=10,\n    step=0.1,\n    readout=True,\n    description=r'$f$')\nslider.layout.width = '400px'\n\nslider2 = widgets.FloatSlider(\n    value = 0,\n    min=-3.14,\n    max=3.14,\n    step=0.01,\n    readout=True,\n    description=r'$\\phi$')\nslider2.layout.width = '400px'\n\nslider3 = widgets.FloatSlider(\n    value = 0,\n    min= 0,\n    max= 10,\n    step=0.1,\n    readout=True,\n    description=r'$t$')\nslider3.layout.width = '400px'\n\n\n# our function that will modify the xaxis range\ndef update_range(frequency, phi, time):\n    fig.data[0].y=wave(frequency, phi, xs, time)\n\n\n# display the FigureWidget and slider with center justification\nvb = VBox((fig, interactive(update_range, frequency = slider, phi = slider2, time = slider3)))\nvb.layout.align_items = 'center'\nvb",
    "id": "f15e0fd280db4a56b7301dad0a4e1307",
    "idx": 2,
    "time": "2021-02-02T01:22:29.700Z",
    "type": "execution"
   },
   {
    "id": "f15e0fd280db4a56b7301dad0a4e1307",
    "time": "2021-02-02T01:22:30.022Z",
    "type": "completion"
   },
   {
    "code": "import plotly.graph_objs as go\nfrom ipywidgets import interactive, HBox, VBox, widgets, interact\n\nxs = np.linspace(0, 5, 1000)\n\ndef wave(f, phi, x, t):\n    return np.sin(2*np.pi*f*x + phi - t)\n\nfig = go.FigureWidget()\n\nfig.layout = dict(yaxis=dict(range=[-1,1]), xaxis=dict(range=[0,5]),width = 1000)\n\nfig.update_layout(\n    title={\n        'text': r'$y = \\sin(2 \\pi f x + \\phi)$',\n        'y':0.85,\n        'x':0.5,\n        'xanchor': 'center',\n        'yanchor': 'top'})\n\nfig.update_xaxes(\n        title_text = r\"$x$\",\n        title_standoff = 15,\n        ticks = 'outside',\n        ticklen = 10,\n        tickcolor='white')\n\nfig.update_yaxes(\n        title_text = '',\n        title_standoff = 25,\n        ticks = 'outside',\n        ticklen = 10,\n        tickcolor = 'white')\n\n\nline = fig.add_trace(go.Scatter(x=xs, y=wave(1, 0, xs, 0),\n                    mode='lines',\n                    name='lines'))\n\nslider = widgets.FloatSlider(\n    value = 1,\n    min=0.1,\n    max=10,\n    step=0.1,\n    readout=True,\n    description=r'$f$')\nslider.layout.width = '400px'\n\nslider2 = widgets.FloatSlider(\n    value = 0,\n    min=-3.14,\n    max=3.14,\n    step=0.01,\n    readout=True,\n    description=r'$\\phi$')\nslider2.layout.width = '400px'\n\nslider3 = widgets.FloatSlider(\n    value = 0,\n    min= 0,\n    max= 10,\n    step=0.1,\n    readout=True,\n    description=r'$t$')\nslider3.layout.width = '400px'\n\nplay = widgets.Play(\n#     interval=10,\n    value=0,\n    min=0,\n    max=100,\n    step=1,\n    description=\"Press play\",\n    disabled=False\n)\n\n\n\n\n# our function that will modify the xaxis range\ndef update_range(frequency, phi, time):\n    fig.data[0].y=wave(frequency, phi, xs, time)\n\n\n# display the FigureWidget and slider with center justification\nvb = VBox((fig, interactive(update_range, frequency = slider, phi = slider2, time = play)))\nvb.layout.align_items = 'center'\nvb",
    "id": "f15e0fd280db4a56b7301dad0a4e1307",
    "idx": 2,
    "time": "2021-02-02T01:25:36.447Z",
    "type": "execution"
   },
   {
    "id": "f15e0fd280db4a56b7301dad0a4e1307",
    "time": "2021-02-02T01:25:36.812Z",
    "type": "completion"
   },
   {
    "code": "import plotly.graph_objs as go\nfrom ipywidgets import interactive, HBox, VBox, widgets, interact\n\nxs = np.linspace(0, 5, 1000)\n\ndef wave(f, phi, x, t):\n    return np.sin(2*np.pi*f*x + phi - t)\n\nfig = go.FigureWidget()\n\nfig.layout = dict(yaxis=dict(range=[-1,1]), xaxis=dict(range=[0,5]),width = 1000)\n\nfig.update_layout(\n    title={\n        'text': r'$y = \\sin(2 \\pi f x + \\phi)$',\n        'y':0.85,\n        'x':0.5,\n        'xanchor': 'center',\n        'yanchor': 'top'})\n\nfig.update_xaxes(\n        title_text = r\"$x$\",\n        title_standoff = 15,\n        ticks = 'outside',\n        ticklen = 10,\n        tickcolor='white')\n\nfig.update_yaxes(\n        title_text = '',\n        title_standoff = 25,\n        ticks = 'outside',\n        ticklen = 10,\n        tickcolor = 'white')\n\n\nline = fig.add_trace(go.Scatter(x=xs, y=wave(1, 0, xs, 0),\n                    mode='lines',\n                    name='lines'))\n\nslider = widgets.FloatSlider(\n    value = 1,\n    min=0.1,\n    max=10,\n    step=0.1,\n    readout=True,\n    description=r'$f$')\nslider.layout.width = '400px'\n\nslider2 = widgets.FloatSlider(\n    value = 0,\n    min=-3.14,\n    max=3.14,\n    step=0.01,\n    readout=True,\n    description=r'$\\phi$')\nslider2.layout.width = '400px'\n\nslider3 = widgets.FloatSlider(\n    value = 0,\n    min= 0,\n    max= 10,\n    step=0.1,\n    readout=True,\n    description=r'$t$')\nslider3.layout.width = '400px'\n\nplay = widgets.Play(\n#     interval=10,\n    value=0,\n    min=0,\n    max=100,\n    step=1,\n    description=\"Press play\",\n)\n\n\n\n\n# our function that will modify the xaxis range\ndef update_range(frequency, phi, time):\n    fig.data[0].y=wave(frequency, phi, xs, time)\n\n\n# display the FigureWidget and slider with center justification\nvb = VBox((fig, interactive(update_range, frequency = slider, phi = slider2, time = play)))\nvb.layout.align_items = 'center'\nvb",
    "id": "f15e0fd280db4a56b7301dad0a4e1307",
    "idx": 2,
    "time": "2021-02-02T01:25:48.039Z",
    "type": "execution"
   },
   {
    "id": "f15e0fd280db4a56b7301dad0a4e1307",
    "time": "2021-02-02T01:25:48.352Z",
    "type": "completion"
   },
   {
    "code": "import plotly.graph_objs as go\nfrom ipywidgets import interactive, HBox, VBox, widgets, interact\n\nxs = np.linspace(0, 5, 1000)\n\ndef wave(f, phi, x, t):\n    return np.sin(2*np.pi*f*x + phi - t)\n\nfig = go.FigureWidget()\n\nfig.layout = dict(yaxis=dict(range=[-1,1]), xaxis=dict(range=[0,5]),width = 1000)\n\nfig.update_layout(\n    title={\n        'text': r'$y = \\sin(2 \\pi f x + \\phi)$',\n        'y':0.85,\n        'x':0.5,\n        'xanchor': 'center',\n        'yanchor': 'top'})\n\nfig.update_xaxes(\n        title_text = r\"$x$\",\n        title_standoff = 15,\n        ticks = 'outside',\n        ticklen = 10,\n        tickcolor='white')\n\nfig.update_yaxes(\n        title_text = '',\n        title_standoff = 25,\n        ticks = 'outside',\n        ticklen = 10,\n        tickcolor = 'white')\n\n\nline = fig.add_trace(go.Scatter(x=xs, y=wave(1, 0, xs, 0),\n                    mode='lines',\n                    name='lines'))\n\nslider = widgets.FloatSlider(\n    value = 1,\n    min=0.1,\n    max=10,\n    step=0.1,\n    readout=True,\n    description=r'$f$')\nslider.layout.width = '400px'\n\nslider2 = widgets.FloatSlider(\n    value = 0,\n    min=-3.14,\n    max=3.14,\n    step=0.01,\n    readout=True,\n    description=r'$\\phi$')\nslider2.layout.width = '400px'\n\nslider3 = widgets.FloatSlider(\n    value = 0,\n    min= 0,\n    max= 10,\n    step=0.1,\n    readout=True,\n    description=r'$t$')\nslider3.layout.width = '400px'\n\nplay = widgets.Play(\n#     interval=10,\n    value=0,\n    min=0,\n    max=100,\n    step=1,\n    description=\"Press play\"\n)\n\n\n\n\n# our function that will modify the xaxis range\ndef update_range(frequency, phi, time):\n    fig.data[0].y=wave(frequency, phi, xs, time)\n\n\n# display the FigureWidget and slider with center justification\nvb = VBox((fig, interactive(update_range, frequency = slider, phi = slider2, time = play)))\nvb.layout.align_items = 'center'\nvb",
    "id": "f15e0fd280db4a56b7301dad0a4e1307",
    "idx": 2,
    "time": "2021-02-02T01:25:50.752Z",
    "type": "execution"
   },
   {
    "id": "f15e0fd280db4a56b7301dad0a4e1307",
    "time": "2021-02-02T01:25:51.121Z",
    "type": "completion"
   },
   {
    "code": "import plotly.graph_objs as go\nfrom ipywidgets import interactive, HBox, VBox, widgets, interact\n\nxs = np.linspace(0, 5, 1000)\n\ndef wave(f, phi, x, t):\n    return np.sin(2*np.pi*f*x + phi - t)\n\nfig = go.FigureWidget()\n\nfig.layout = dict(yaxis=dict(range=[-1,1]), xaxis=dict(range=[0,5]),width = 1000)\n\nfig.update_layout(\n    title={\n        'text': r'$y = \\sin(2 \\pi f x + \\phi)$',\n        'y':0.85,\n        'x':0.5,\n        'xanchor': 'center',\n        'yanchor': 'top'})\n\nfig.update_xaxes(\n        title_text = r\"$x$\",\n        title_standoff = 15,\n        ticks = 'outside',\n        ticklen = 10,\n        tickcolor='white')\n\nfig.update_yaxes(\n        title_text = '',\n        title_standoff = 25,\n        ticks = 'outside',\n        ticklen = 10,\n        tickcolor = 'white')\n\n\nline = fig.add_trace(go.Scatter(x=xs, y=wave(1, 0, xs, 0),\n                    mode='lines',\n                    name='lines'))\n\nslider = widgets.FloatSlider(\n    value = 1,\n    min=0.1,\n    max=10,\n    step=0.1,\n    readout=True,\n    description=r'$f$')\nslider.layout.width = '400px'\n\nslider2 = widgets.FloatSlider(\n    value = 0,\n    min=-3.14,\n    max=3.14,\n    step=0.01,\n    readout=True,\n    description=r'$\\phi$')\nslider2.layout.width = '400px'\n\nslider3 = widgets.FloatSlider(\n    value = 0,\n    min= 0,\n    max= 10,\n    step=0.1,\n    readout=True,\n    description=r'$t$')\nslider3.layout.width = '400px'\n\nplay = widgets.Play(\n#     interval=10,\n    value=0,\n    min=0,\n    max=100,\n    step=1,\n    description=\"Press play\",\n    disabled = False\n)\n\n\n\n\n# our function that will modify the xaxis range\ndef update_range(frequency, phi, time):\n    fig.data[0].y=wave(frequency, phi, xs, time)\n\n\n# display the FigureWidget and slider with center justification\nvb = VBox((fig, interactive(update_range, frequency = slider, phi = slider2, time = play)))\nvb.layout.align_items = 'center'\nvb",
    "id": "f15e0fd280db4a56b7301dad0a4e1307",
    "idx": 2,
    "time": "2021-02-02T01:26:01.676Z",
    "type": "execution"
   },
   {
    "id": "f15e0fd280db4a56b7301dad0a4e1307",
    "time": "2021-02-02T01:26:01.987Z",
    "type": "completion"
   },
   {
    "code": "import plotly.graph_objs as go\nfrom ipywidgets import interactive, HBox, VBox, widgets, interact\n\nxs = np.linspace(0, 5, 1000)\n\ndef wave(k, omega, x, t):\n    return np.sin(k*x - omega*t)\n\nfig = go.FigureWidget()\n\nfig.layout = dict(yaxis=dict(range=[-1,1]), xaxis=dict(range=[0,5]),width = 1000)\n\nfig.update_layout(\n    title={\n        'text': r'$y = \\sin(kx - \\omega t)$',\n        'y':0.85,\n        'x':0.5,\n        'xanchor': 'center',\n        'yanchor': 'top'})\n\nfig.update_xaxes(\n        title_text = r\"$x$\",\n        title_standoff = 15,\n        ticks = 'outside',\n        ticklen = 10,\n        tickcolor='white')\n\nfig.update_yaxes(\n        title_text = '',\n        title_standoff = 25,\n        ticks = 'outside',\n        ticklen = 10,\n        tickcolor = 'white')\n\n\nline = fig.add_trace(go.Scatter(x=xs, y=wave(1, 0, xs, 0),\n                    mode='lines',\n                    name='lines'))\n\nslider = widgets.FloatSlider(\n    value = 1,\n    min=0.1,\n    max=10,\n    step=0.1,\n    readout=True,\n    description=r'$k$')\nslider.layout.width = '400px'\n\nslider2 = widgets.FloatSlider(\n    value = 0,\n    min=-3.14,\n    max=3.14,\n    step=0.01,\n    readout=True,\n    description=r'$\\omega$')\nslider2.layout.width = '400px'\n\nslider3 = widgets.FloatSlider(\n    value = 0,\n    min= 0,\n    max= 10,\n    step=0.1,\n    readout=True,\n    description=r'$t$')\nslider3.layout.width = '400px'\n\nplay = widgets.Play(\n#     interval=10,\n    value=0,\n    min=0,\n    max=100,\n    step=1,\n    description=\"Press play\",\n    disabled = False\n)\n\n\n\n\n# our function that will modify the xaxis range\ndef update_range(k, omega, time):\n    fig.data[0].y=wave(k, omega, xs, time)\n\n\n# display the FigureWidget and slider with center justification\nvb = VBox((fig, interactive(update_range, k = slider, omega = slider2, time = play)))\nvb.layout.align_items = 'center'\nvb",
    "id": "f15e0fd280db4a56b7301dad0a4e1307",
    "idx": 2,
    "time": "2021-02-02T01:27:55.684Z",
    "type": "execution"
   },
   {
    "id": "f15e0fd280db4a56b7301dad0a4e1307",
    "time": "2021-02-02T01:27:56.099Z",
    "type": "completion"
   },
   {
    "code": "import plotly.graph_objs as go\nfrom ipywidgets import interactive, HBox, VBox, widgets, interact\n\nxs = np.linspace(0, 5, 1000)\n\ndef wave(k, omega, x, t):\n    return np.sin(k*x - omega*t)\n\nfig = go.FigureWidget()\n\nfig.layout = dict(yaxis=dict(range=[-1,1]), xaxis=dict(range=[0,5]),width = 1000)\n\nfig.update_layout(\n    title={\n        'text': r'$y = \\sin(kx - \\omega t)$',\n        'y':0.85,\n        'x':0.5,\n        'xanchor': 'center',\n        'yanchor': 'top'})\n\nfig.update_xaxes(\n        title_text = r\"$x$\",\n        title_standoff = 15,\n        ticks = 'outside',\n        ticklen = 10,\n        tickcolor='white')\n\nfig.update_yaxes(\n        title_text = '',\n        title_standoff = 25,\n        ticks = 'outside',\n        ticklen = 10,\n        tickcolor = 'white')\n\n\nline = fig.add_trace(go.Scatter(x=xs, y=wave(1, 0, xs, 0),\n                    mode='lines',\n                    name='lines'))\n\nslider = widgets.FloatSlider(\n    value = 1,\n    min=0.1,\n    max=10,\n    step=0.1,\n    readout=True,\n    description=r'$k$')\nslider.layout.width = '400px'\n\nslider2 = widgets.FloatSlider(\n    value = 0,\n    min=-3.14,\n    max=3.14,\n    step=0.01,\n    readout=True,\n    description=r'$\\omega$')\nslider2.layout.width = '400px'\n\nslider3 = widgets.FloatSlider(\n    value = 0,\n    min= 0,\n    max= 10,\n    step=0.1,\n    readout=True,\n    description=r'$t$')\nslider3.layout.width = '400px'\n\nplay = widgets.Play(\n#     interval=10,\n    value=0,\n    min=0,\n    max=100,\n    step=1,\n    description=\"Press play\",\n    disabled = False\n)\n\n\n\n\n# our function that will modify the xaxis range\ndef update_range(k, omega, time):\n    fig.data[0].y=wave(k, omega, xs, time)\n\n\n# display the FigureWidget and slider with center justification\nvb = VBox((fig, interactive(update_range, k = slider, omega = slider2, time = play/10)))\nvb.layout.align_items = 'center'\nvb",
    "id": "f15e0fd280db4a56b7301dad0a4e1307",
    "idx": 2,
    "time": "2021-02-02T01:28:28.554Z",
    "type": "execution"
   },
   {
    "id": "f15e0fd280db4a56b7301dad0a4e1307",
    "time": "2021-02-02T01:28:28.841Z",
    "type": "completion"
   },
   {
    "code": "import plotly.graph_objs as go\nfrom ipywidgets import interactive, HBox, VBox, widgets, interact\n\nxs = np.linspace(0, 5, 1000)\n\ndef wave(k, omega, x, t):\n    return np.sin(k*x - omega*t)\n\nfig = go.FigureWidget()\n\nfig.layout = dict(yaxis=dict(range=[-1,1]), xaxis=dict(range=[0,5]),width = 1000)\n\nfig.update_layout(\n    title={\n        'text': r'$y = \\sin(kx - \\omega t)$',\n        'y':0.85,\n        'x':0.5,\n        'xanchor': 'center',\n        'yanchor': 'top'})\n\nfig.update_xaxes(\n        title_text = r\"$x$\",\n        title_standoff = 15,\n        ticks = 'outside',\n        ticklen = 10,\n        tickcolor='white')\n\nfig.update_yaxes(\n        title_text = '',\n        title_standoff = 25,\n        ticks = 'outside',\n        ticklen = 10,\n        tickcolor = 'white')\n\n\nline = fig.add_trace(go.Scatter(x=xs, y=wave(1, 0, xs, 0),\n                    mode='lines',\n                    name='lines'))\n\nslider = widgets.FloatSlider(\n    value = 1,\n    min=0.1,\n    max=10,\n    step=0.1,\n    readout=True,\n    description=r'$k$')\nslider.layout.width = '400px'\n\nslider2 = widgets.FloatSlider(\n    value = 0,\n    min=-3.14,\n    max=3.14,\n    step=0.01,\n    readout=True,\n    description=r'$\\omega$')\nslider2.layout.width = '400px'\n\nslider3 = widgets.FloatSlider(\n    value = 0,\n    min= 0,\n    max= 10,\n    step=0.1,\n    readout=True,\n    description=r'$t$')\nslider3.layout.width = '400px'\n\nplay = widgets.Play(\n#     interval=10,\n    value=0,\n    min=0,\n    max=100,\n    step=1,\n    description=\"Press play\",\n    disabled = False\n)\n\n\n\n\n# our function that will modify the xaxis range\ndef update_range(k, omega, time):\n    fig.data[0].y=wave(k, omega, xs, time/10.)\n\n\n# display the FigureWidget and slider with center justification\nvb = VBox((fig, interactive(update_range, k = slider, omega = slider2, time = play)))\nvb.layout.align_items = 'center'\nvb",
    "id": "f15e0fd280db4a56b7301dad0a4e1307",
    "idx": 2,
    "time": "2021-02-02T01:28:41.955Z",
    "type": "execution"
   },
   {
    "id": "f15e0fd280db4a56b7301dad0a4e1307",
    "time": "2021-02-02T01:28:42.277Z",
    "type": "completion"
   },
   {
    "code": "import plotly.graph_objs as go\nfrom ipywidgets import interactive, HBox, VBox, widgets, interact\n\nxs = np.linspace(0, 5, 1000)\n\ndef wave(k, omega, x, t):\n    return np.sin(k*x - omega*t)\n\nfig = go.FigureWidget()\n\nfig.layout = dict(yaxis=dict(range=[-1,1]), xaxis=dict(range=[0,5]),width = 1000)\n\nfig.update_layout(\n    title={\n        'text': r'$y = \\sin(kx - \\omega t)$',\n        'y':0.85,\n        'x':0.5,\n        'xanchor': 'center',\n        'yanchor': 'top'})\n\nfig.update_xaxes(\n        title_text = r\"$x$\",\n        title_standoff = 15,\n        ticks = 'outside',\n        ticklen = 10,\n        tickcolor='white')\n\nfig.update_yaxes(\n        title_text = '',\n        title_standoff = 25,\n        ticks = 'outside',\n        ticklen = 10,\n        tickcolor = 'white')\n\n\nline = fig.add_trace(go.Scatter(x=xs, y=wave(1, 0, xs, 0),\n                    mode='lines',\n                    name='lines'))\n\nslider = widgets.FloatSlider(\n    value = 1,\n    min=0.1,\n    max=10,\n    step=0.1,\n    readout=True,\n    description=r'$k$')\nslider.layout.width = '400px'\n\nslider2 = widgets.FloatSlider(\n    value = 0,\n    min=-3.14,\n    max=3.14,\n    step=0.01,\n    readout=True,\n    description=r'$\\omega$')\nslider2.layout.width = '400px'\n\nslider3 = widgets.FloatSlider(\n    value = 0,\n    min= 0,\n    max= 10,\n    step=0.1,\n    readout=True,\n    description=r'$t$')\nslider3.layout.width = '400px'\n\nplay = widgets.Play(\n    interval=5,\n    value=0,\n    min=0,\n    max=100,\n    step=1,\n    description=\"Press play\",\n    disabled = False\n)\n\n\n\n\n# our function that will modify the xaxis range\ndef update_range(k, omega, time):\n    fig.data[0].y=wave(k, omega, xs, time/10.)\n\n\n# display the FigureWidget and slider with center justification\nvb = VBox((fig, interactive(update_range, k = slider, omega = slider2, time = play)))\nvb.layout.align_items = 'center'\nvb",
    "id": "f15e0fd280db4a56b7301dad0a4e1307",
    "idx": 2,
    "time": "2021-02-02T01:29:14.657Z",
    "type": "execution"
   },
   {
    "id": "f15e0fd280db4a56b7301dad0a4e1307",
    "time": "2021-02-02T01:29:14.947Z",
    "type": "completion"
   },
   {
    "code": "import plotly.graph_objs as go\nfrom ipywidgets import interactive, HBox, VBox, widgets, interact\n\nxs = np.linspace(0, 5, 1000)\n\ndef wave(k, omega, x, t):\n    return np.sin(k*x - omega*t)\n\nfig = go.FigureWidget()\n\nfig.layout = dict(yaxis=dict(range=[-1,1]), xaxis=dict(range=[0,5]),width = 1000)\n\nfig.update_layout(\n    title={\n        'text': r'$y = \\sin(kx - \\omega t)$',\n        'y':0.85,\n        'x':0.5,\n        'xanchor': 'center',\n        'yanchor': 'top'})\n\nfig.update_xaxes(\n        title_text = r\"$x$\",\n        title_standoff = 15,\n        ticks = 'outside',\n        ticklen = 10,\n        tickcolor='white')\n\nfig.update_yaxes(\n        title_text = '',\n        title_standoff = 25,\n        ticks = 'outside',\n        ticklen = 10,\n        tickcolor = 'white')\n\n\nline = fig.add_trace(go.Scatter(x=xs, y=wave(1, 0, xs, 0),\n                    mode='lines',\n                    name='lines'))\n\nslider = widgets.FloatSlider(\n    value = 1,\n    min=0.1,\n    max=10,\n    step=0.1,\n    readout=True,\n    description=r'$k$')\nslider.layout.width = '400px'\n\nslider2 = widgets.FloatSlider(\n    value = 0,\n    min=-3.14,\n    max=3.14,\n    step=0.01,\n    readout=True,\n    description=r'$\\omega$')\nslider2.layout.width = '400px'\n\nslider3 = widgets.FloatSlider(\n    value = 0,\n    min= 0,\n    max= 10,\n    step=0.1,\n    readout=True,\n    description=r'$t$')\nslider3.layout.width = '400px'\n\nplay = widgets.Play(\n    interval=50,\n    value=0,\n    min=0,\n    max=100,\n    step=1,\n    description=\"Press play\",\n    disabled = False\n)\n\n\n\n\n# our function that will modify the xaxis range\ndef update_range(k, omega, time):\n    fig.data[0].y=wave(k, omega, xs, time/10.)\n\n\n# display the FigureWidget and slider with center justification\nvb = VBox((fig, interactive(update_range, k = slider, omega = slider2, time = play)))\nvb.layout.align_items = 'center'\nvb",
    "id": "f15e0fd280db4a56b7301dad0a4e1307",
    "idx": 2,
    "time": "2021-02-02T01:29:39.143Z",
    "type": "execution"
   },
   {
    "id": "f15e0fd280db4a56b7301dad0a4e1307",
    "time": "2021-02-02T01:29:39.454Z",
    "type": "completion"
   },
   {
    "code": "import plotly.graph_objs as go\nfrom ipywidgets import interactive, HBox, VBox, widgets, interact\n\nxs = np.linspace(0, 5, 1000)\n\ndef wave(k, omega, x, t):\n    return np.sin(k*x - omega*t)\n\nfig = go.FigureWidget()\n\nfig.layout = dict(yaxis=dict(range=[-1,1]), xaxis=dict(range=[0,5]),width = 1000)\n\nfig.update_layout(\n    title={\n        'text': r'$y = \\sin(kx - \\omega t)$',\n        'y':0.85,\n        'x':0.5,\n        'xanchor': 'center',\n        'yanchor': 'top'})\n\nfig.update_xaxes(\n        title_text = r\"$x$\",\n        title_standoff = 15,\n        ticks = 'outside',\n        ticklen = 10,\n        tickcolor='white')\n\nfig.update_yaxes(\n        title_text = '',\n        title_standoff = 25,\n        ticks = 'outside',\n        ticklen = 10,\n        tickcolor = 'white')\n\n\nline = fig.add_trace(go.Scatter(x=xs, y=wave(1, 0, xs, 0),\n                    mode='lines',\n                    name='lines'))\n\nslider = widgets.FloatSlider(\n    value = 1,\n    min=0.1,\n    max=10,\n    step=0.1,\n    readout=True,\n    description=r'$k$')\nslider.layout.width = '400px'\n\nslider2 = widgets.FloatSlider(\n    value = 0,\n    min=-3.14,\n    max=3.14,\n    step=0.01,\n    readout=True,\n    description=r'$\\omega$')\nslider2.layout.width = '400px'\n\nslider3 = widgets.FloatSlider(\n    value = 0,\n    min= 0,\n    max= 10,\n    step=0.1,\n    readout=True,\n    description=r'$t$')\nslider3.layout.width = '400px'\n\nplay = widgets.Play(\n    interval=50,\n    value=0,\n    min=0,\n    max=100,\n    step=1,\n    description=\"Press play\",\n    disabled = False\n)\n\n\n\n\n# our function that will modify the xaxis range\ndef update_range(k, omega, time):\n    fig.data[0].y=wave(k, omega, xs, time/10.)\n\n\n# display the FigureWidget and slider with center justification\nvb = VBox((fig, interactive(update_range, k = slider, omega = slider2, time = play)))\nvb.layout.align_items = 'center'\nvb",
    "id": "f15e0fd280db4a56b7301dad0a4e1307",
    "idx": 2,
    "time": "2021-02-02T01:29:44.130Z",
    "type": "execution"
   },
   {
    "id": "f15e0fd280db4a56b7301dad0a4e1307",
    "time": "2021-02-02T01:29:44.462Z",
    "type": "completion"
   },
   {
    "code": "import plotly.graph_objs as go\nfrom ipywidgets import interactive, HBox, VBox, widgets, interact\n\nxs = np.linspace(0, 5, 1000)\n\ndef wave(k, omega, x, t):\n    return np.sin(k*x - omega*t)\n\nfig = go.FigureWidget()\n\nfig.layout = dict(yaxis=dict(range=[-1,1]), xaxis=dict(range=[0,5]),width = 1000)\n\nfig.update_layout(\n    title={\n        'text': r'$y = \\sin(kx - \\omega t)$',\n        'y':0.85,\n        'x':0.5,\n        'xanchor': 'center',\n        'yanchor': 'top'})\n\nfig.update_xaxes(\n        title_text = r\"$x$\",\n        title_standoff = 15,\n        ticks = 'outside',\n        ticklen = 10,\n        tickcolor='white')\n\nfig.update_yaxes(\n        title_text = '',\n        title_standoff = 25,\n        ticks = 'outside',\n        ticklen = 10,\n        tickcolor = 'white')\n\n\nline = fig.add_trace(go.Scatter(x=xs, y=wave(1, 0, xs, 0),\n                    mode='lines',\n                    name='lines'))\n\nslider = widgets.FloatSlider(\n    value = 1,\n    min=0.1,\n    max=10,\n    step=0.1,\n    readout=True,\n    description=r'$k$')\nslider.layout.width = '400px'\n\nslider2 = widgets.FloatSlider(\n    value = 0,\n    min=-3.14,\n    max=3.14,\n    step=0.01,\n    readout=True,\n    description=r'$\\omega$')\nslider2.layout.width = '400px'\n\nslider3 = widgets.FloatSlider(\n    value = 0,\n    min= 0,\n    max= 10,\n    step=0.1,\n    readout=True,\n    description=r'$t$')\nslider3.layout.width = '400px'\n\nplay = widgets.Play(\n    value=0,\n    min=0,\n    max=100,\n    step=1,\n    description=\"Press play\",\n    disabled = False\n)\n\n\n\n\n# our function that will modify the xaxis range\ndef update_range(k, omega, time):\n    fig.data[0].y=wave(k, omega, xs, time/10.)\n\n\n# display the FigureWidget and slider with center justification\nvb = VBox((fig, interactive(update_range, k = slider, omega = slider2, time = play)))\nvb.layout.align_items = 'center'\nvb",
    "id": "f15e0fd280db4a56b7301dad0a4e1307",
    "idx": 2,
    "time": "2021-02-02T01:29:55.325Z",
    "type": "execution"
   },
   {
    "id": "f15e0fd280db4a56b7301dad0a4e1307",
    "time": "2021-02-02T01:29:55.633Z",
    "type": "completion"
   },
   {
    "code": "import plotly.graph_objs as go\nfrom ipywidgets import interactive, HBox, VBox, widgets, interact\n\nxs = np.linspace(0, 5, 1000)\n\ndef wave(k, omega, x, t):\n    return np.sin(k*x - omega*t)\n\nfig = go.FigureWidget()\n\nfig.layout = dict(yaxis=dict(range=[-1,1]), xaxis=dict(range=[0,5]),width = 1000)\n\nfig.update_layout(\n    title={\n        'text': r'$y = \\sin(kx - \\omega t)$',\n        'y':0.85,\n        'x':0.5,\n        'xanchor': 'center',\n        'yanchor': 'top'})\n\nfig.update_xaxes(\n        title_text = r\"$x$\",\n        title_standoff = 15,\n        ticks = 'outside',\n        ticklen = 10,\n        tickcolor='white')\n\nfig.update_yaxes(\n        title_text = '',\n        title_standoff = 25,\n        ticks = 'outside',\n        ticklen = 10,\n        tickcolor = 'white')\n\n\nline = fig.add_trace(go.Scatter(x=xs, y=wave(1, 0, xs, 0),\n                    mode='lines',\n                    name='lines'))\n\nslider = widgets.FloatSlider(\n    value = 1,\n    min=0.1,\n    max=10,\n    step=0.1,\n    readout=True,\n    description=r'$k$')\nslider.layout.width = '400px'\n\nslider2 = widgets.FloatSlider(\n    value = 0,\n    min=-3.14,\n    max=3.14,\n    step=0.01,\n    readout=True,\n    description=r'$\\omega$')\nslider2.layout.width = '400px'\n\nslider3 = widgets.FloatSlider(\n    value = 0,\n    min= 0,\n    max= 10,\n    step=0.1,\n    readout=True,\n    description=r'$t$')\nslider3.layout.width = '400px'\n\nplay = widgets.Play(\n#interval=10,\n    value=0,\n    min=0,\n    max=100,\n    step=1,\n    description=\"Press play\",\n    disabled = False\n)\n\n\n\n\n# our function that will modify the xaxis range\ndef update_range(k, omega, time):\n    fig.data[0].y=wave(k, omega, xs, time)\n\n\n# display the FigureWidget and slider with center justification\nvb = VBox((fig, interactive(update_range, k = slider, omega = slider2, time = play)))\nvb.layout.align_items = 'center'\nvb",
    "id": "f15e0fd280db4a56b7301dad0a4e1307",
    "idx": 2,
    "time": "2021-02-02T01:30:16.212Z",
    "type": "execution"
   },
   {
    "id": "f15e0fd280db4a56b7301dad0a4e1307",
    "time": "2021-02-02T01:30:16.526Z",
    "type": "completion"
   },
   {
    "code": "import plotly.graph_objs as go\nfrom ipywidgets import interactive, HBox, VBox, widgets, interact\n\nxs = np.linspace(0, 5, 1000)\n\ndef wave(k, omega, x, t):\n    return np.sin(k*x - omega*t)\n\nfig = go.FigureWidget()\n\nfig.layout = dict(yaxis=dict(range=[-1,1]), xaxis=dict(range=[0,5]),width = 1000)\n\nfig.update_layout(\n    title={\n        'text': r'$y = \\sin(kx - \\omega t)$',\n        'y':0.85,\n        'x':0.5,\n        'xanchor': 'center',\n        'yanchor': 'top'})\n\nfig.update_xaxes(\n        title_text = r\"$x$\",\n        title_standoff = 15,\n        ticks = 'outside',\n        ticklen = 10,\n        tickcolor='white')\n\nfig.update_yaxes(\n        title_text = '',\n        title_standoff = 25,\n        ticks = 'outside',\n        ticklen = 10,\n        tickcolor = 'white')\n\n\nline = fig.add_trace(go.Scatter(x=xs, y=wave(1, 0, xs, 0),\n                    mode='lines',\n                    name='lines'))\n\nslider = widgets.FloatSlider(\n    value = 1,\n    min=0.1,\n    max=10,\n    step=0.1,\n    readout=True,\n    description=r'$k$')\nslider.layout.width = '400px'\n\nslider2 = widgets.FloatSlider(\n    value = 0,\n    min=-3.14,\n    max=3.14,\n    step=0.01,\n    readout=True,\n    description=r'$\\omega$')\nslider2.layout.width = '400px'\n\nslider3 = widgets.FloatSlider(\n    value = 0,\n    min= 0,\n    max= 10,\n    step=0.1,\n    readout=True,\n    description=r'$t$')\nslider3.layout.width = '400px'\n\nplay = widgets.Play(\n#interval=10,\n    value=0,\n    min=0,\n    max=100,\n    step=1,\n    description=\"Press play\",\n    disabled = False\n)\n\n\n\n\n# our function that will modify the xaxis range\ndef update_range(k, omega, time):\n    fig.data[0].y=wave(k, omega, xs, time)\n\n\n# display the FigureWidget and slider with center justification\nvb = VBox((fig, interactive(update_range, k = slider, omega = slider2, time = play)))\nvb.layout.align_items = 'center'\nvb",
    "id": "f15e0fd280db4a56b7301dad0a4e1307",
    "idx": 2,
    "time": "2021-02-02T01:30:39.918Z",
    "type": "execution"
   },
   {
    "id": "f15e0fd280db4a56b7301dad0a4e1307",
    "time": "2021-02-02T01:30:40.093Z",
    "type": "completion"
   },
   {
    "code": "import plotly.graph_objs as go\nfrom ipywidgets import interactive, HBox, VBox, widgets, interact\nimport numpy as np\n\nxs = np.linspace(0, 5, 1000)\n\ndef wave(k, omega, x, t):\n    return np.sin(k*x - omega*t)\n\nfig = go.FigureWidget()\n\nfig.layout = dict(yaxis=dict(range=[-1,1]), xaxis=dict(range=[0,5]),width = 1000)\n\nfig.update_layout(\n    title={\n        'text': r'$y = \\sin(kx - \\omega t)$',\n        'y':0.85,\n        'x':0.5,\n        'xanchor': 'center',\n        'yanchor': 'top'})\n\nfig.update_xaxes(\n        title_text = r\"$x$\",\n        title_standoff = 15,\n        ticks = 'outside',\n        ticklen = 10,\n        tickcolor='white')\n\nfig.update_yaxes(\n        title_text = '',\n        title_standoff = 25,\n        ticks = 'outside',\n        ticklen = 10,\n        tickcolor = 'white')\n\n\nline = fig.add_trace(go.Scatter(x=xs, y=wave(1, 0, xs, 0),\n                    mode='lines',\n                    name='lines'))\n\nslider = widgets.FloatSlider(\n    value = 1,\n    min=0.1,\n    max=10,\n    step=0.1,\n    readout=True,\n    description=r'$k$')\nslider.layout.width = '400px'\n\nslider2 = widgets.FloatSlider(\n    value = 0,\n    min=-3.14,\n    max=3.14,\n    step=0.01,\n    readout=True,\n    description=r'$\\omega$')\nslider2.layout.width = '400px'\n\nslider3 = widgets.FloatSlider(\n    value = 0,\n    min= 0,\n    max= 10,\n    step=0.1,\n    readout=True,\n    description=r'$t$')\nslider3.layout.width = '400px'\n\nplay = widgets.Play(\n#interval=10,\n    value=0,\n    min=0,\n    max=100,\n    step=1,\n    description=\"Press play\",\n    disabled = False\n)\n\n\n\n\n# our function that will modify the xaxis range\ndef update_range(k, omega, time):\n    fig.data[0].y=wave(k, omega, xs, time)\n\n\n# display the FigureWidget and slider with center justification\nvb = VBox((fig, interactive(update_range, k = slider, omega = slider2, time = play)))\nvb.layout.align_items = 'center'\nvb",
    "id": "f15e0fd280db4a56b7301dad0a4e1307",
    "idx": 2,
    "time": "2021-02-02T01:30:46.971Z",
    "type": "execution"
   },
   {
    "id": "f15e0fd280db4a56b7301dad0a4e1307",
    "time": "2021-02-02T01:30:47.731Z",
    "type": "completion"
   },
   {
    "code": "import plotly.graph_objs as go\nfrom ipywidgets import interactive, HBox, VBox, widgets, interact\nimport numpy as np\n\nxs = np.linspace(0, 5, 1000)\n\ndef wave(k, omega, x, t):\n    return np.sin(k*x - omega*t)\n\nfig = go.FigureWidget()\n\nfig.layout = dict(yaxis=dict(range=[-1,1]), xaxis=dict(range=[0,5]),width = 1000)\n\nfig.update_layout(\n    title={\n        'text': r'$y = \\sin(kx - \\omega t)$',\n        'y':0.85,\n        'x':0.5,\n        'xanchor': 'center',\n        'yanchor': 'top'})\n\nfig.update_xaxes(\n        title_text = r\"$x$\",\n        title_standoff = 15,\n        ticks = 'outside',\n        ticklen = 10,\n        tickcolor='white')\n\nfig.update_yaxes(\n        title_text = '',\n        title_standoff = 25,\n        ticks = 'outside',\n        ticklen = 10,\n        tickcolor = 'white')\n\n\nline = fig.add_trace(go.Scatter(x=xs, y=wave(1, 0, xs, 0),\n                    mode='lines',\n                    name='lines'))\n\nslider = widgets.FloatSlider(\n    value = 1,\n    min=0.1,\n    max=10,\n    step=0.1,\n    readout=True,\n    description=r'$k$')\nslider.layout.width = '400px'\n\nslider2 = widgets.FloatSlider(\n    value = 0,\n    min=-3.14,\n    max=3.14,\n    step=0.01,\n    readout=True,\n    description=r'$\\omega$')\nslider2.layout.width = '400px'\n\nslider3 = widgets.FloatSlider(\n    value = 0,\n    min= 0,\n    max= 10,\n    step=0.1,\n    readout=True,\n    description=r'$t$')\nslider3.layout.width = '400px'\n\nplay = widgets.Play(\n#interval=10,\n    value=0,\n    min=0,\n    max=100,\n    step=1,\n    description=\"Press play\",\n    disabled = False\n)\n\n\n\n\n# our function that will modify the xaxis range\ndef update_range(k, omega, time):\n    fig.data[0].y=wave(k, omega, xs, time)\n\n\n# display the FigureWidget and slider with center justification\nvb = VBox((fig, interactive(update_range, k = slider, omega = slider2, time = play)))\n#vb.layout.align_items = 'center'\nvb",
    "id": "f15e0fd280db4a56b7301dad0a4e1307",
    "idx": 2,
    "time": "2021-02-02T01:32:19.648Z",
    "type": "execution"
   },
   {
    "id": "f15e0fd280db4a56b7301dad0a4e1307",
    "time": "2021-02-02T01:32:20.041Z",
    "type": "completion"
   },
   {
    "code": "import plotly.graph_objs as go\nfrom ipywidgets import interactive, HBox, VBox, widgets, interact\nimport numpy as np\n\nxs = np.linspace(0, 5, 1000)\n\ndef wave(k, omega, x, t):\n    return np.sin(k*x - omega*t)\n\nfig = go.FigureWidget()\n\nfig.layout = dict(yaxis=dict(range=[-1,1]), xaxis=dict(range=[0,5]),width = 1000)\n\nfig.update_layout(\n    title={\n        'text': r'$y = \\sin(kx - \\omega t)$',\n        'y':0.85,\n        'x':0.5,\n        'xanchor': 'center',\n        'yanchor': 'top'})\n\nfig.update_xaxes(\n        title_text = r\"$x$\",\n        title_standoff = 15,\n        ticks = 'outside',\n        ticklen = 10,\n        tickcolor='white')\n\nfig.update_yaxes(\n        title_text = '',\n        title_standoff = 25,\n        ticks = 'outside',\n        ticklen = 10,\n        tickcolor = 'white')\n\n\nline = fig.add_trace(go.Scatter(x=xs, y=wave(1, 0, xs, 0),\n                    mode='lines',\n                    name='lines'))\n\nslider = widgets.FloatSlider(\n    value = 1,\n    min=0.1,\n    max=10,\n    step=0.1,\n    readout=True,\n    description=r'$k$')\nslider.layout.width = '400px'\n\nslider2 = widgets.FloatSlider(\n    value = 0,\n    min=-3.14,\n    max=3.14,\n    step=0.01,\n    readout=True,\n    description=r'$\\omega$')\nslider2.layout.width = '400px'\n\nslider3 = widgets.FloatSlider(\n    value = 0,\n    min= 0,\n    max= 10,\n    step=0.1,\n    readout=True,\n    description=r'$t$')\nslider3.layout.width = '400px'\n\nplay = widgets.Play(\n    min=0,\n    max=10,\n    step=0.1,\n    description=\"Press play\",\n    disabled = False\n)\n\n\n\n\n# our function that will modify the xaxis range\ndef update_range(k, omega, time):\n    fig.data[0].y=wave(k, omega, xs, time)\n\n\n# display the FigureWidget and slider with center justification\nvb = VBox((fig, interactive(update_range, k = slider, omega = slider2, time = play)))\n#vb.layout.align_items = 'center'\nvb",
    "id": "f15e0fd280db4a56b7301dad0a4e1307",
    "idx": 2,
    "time": "2021-02-02T01:33:00.173Z",
    "type": "execution"
   },
   {
    "id": "f15e0fd280db4a56b7301dad0a4e1307",
    "time": "2021-02-02T01:33:00.530Z",
    "type": "completion"
   },
   {
    "code": "import plotly.graph_objs as go\nfrom ipywidgets import interactive, HBox, VBox, widgets, interact\nimport numpy as np\n\nxs = np.linspace(0, 5, 1000)\n\ndef wave(k, omega, x, t):\n    return np.sin(k*x - omega*t)\n\nfig = go.FigureWidget()\n\nfig.layout = dict(yaxis=dict(range=[-1,1]), xaxis=dict(range=[0,5]),width = 1000)\n\nfig.update_layout(\n    title={\n        'text': r'$y = \\sin(kx - \\omega t)$',\n        'y':0.85,\n        'x':0.5,\n        'xanchor': 'center',\n        'yanchor': 'top'})\n\nfig.update_xaxes(\n        title_text = r\"$x$\",\n        title_standoff = 15,\n        ticks = 'outside',\n        ticklen = 10,\n        tickcolor='white')\n\nfig.update_yaxes(\n        title_text = '',\n        title_standoff = 25,\n        ticks = 'outside',\n        ticklen = 10,\n        tickcolor = 'white')\n\n\nline = fig.add_trace(go.Scatter(x=xs, y=wave(1, 0, xs, 0),\n                    mode='lines',\n                    name='lines'))\n\nslider = widgets.FloatSlider(\n    value = 1,\n    min=0.1,\n    max=10,\n    step=0.1,\n    readout=True,\n    description=r'$k$')\nslider.layout.width = '400px'\n\nslider2 = widgets.FloatSlider(\n    value = 0,\n    min=-3.14,\n    max=3.14,\n    step=0.01,\n    readout=True,\n    description=r'$\\omega$')\nslider2.layout.width = '400px'\n\nslider3 = widgets.FloatSlider(\n    value = 0,\n    min= 0,\n    max= 10,\n    step=0.1,\n    readout=True,\n    description=r'$t$')\nslider3.layout.width = '400px'\n\nplay = widgets.Play(\n    value = 0,\n    min=0,\n    max=10,\n    step=0.1,\n    description=\"Press play\",\n    disabled = False\n)\n\n\n\n\n# our function that will modify the xaxis range\ndef update_range(k, omega, time):\n    fig.data[0].y=wave(k, omega, xs, time)\n\n\n# display the FigureWidget and slider with center justification\nvb = VBox((fig, interactive(update_range, k = slider, omega = slider2, time = play)))\n#vb.layout.align_items = 'center'\nvb",
    "id": "f15e0fd280db4a56b7301dad0a4e1307",
    "idx": 2,
    "time": "2021-02-02T01:33:23.859Z",
    "type": "execution"
   },
   {
    "id": "f15e0fd280db4a56b7301dad0a4e1307",
    "time": "2021-02-02T01:33:24.238Z",
    "type": "completion"
   },
   {
    "code": "import plotly.graph_objs as go\nfrom ipywidgets import interactive, HBox, VBox, widgets, interact\nimport numpy as np\n\nxs = np.linspace(0, 5, 1000)\n\ndef wave(k, omega, x, t):\n    return np.sin(k*x - omega*t)\n\nfig = go.FigureWidget()\n\nfig.layout = dict(yaxis=dict(range=[-1,1]), xaxis=dict(range=[0,5]),width = 1000)\n\nfig.update_layout(\n    title={\n        'text': r'$y = \\sin(kx - \\omega t)$',\n        'y':0.85,\n        'x':0.5,\n        'xanchor': 'center',\n        'yanchor': 'top'})\n\nfig.update_xaxes(\n        title_text = r\"$x$\",\n        title_standoff = 15,\n        ticks = 'outside',\n        ticklen = 10,\n        tickcolor='white')\n\nfig.update_yaxes(\n        title_text = '',\n        title_standoff = 25,\n        ticks = 'outside',\n        ticklen = 10,\n        tickcolor = 'white')\n\n\nline = fig.add_trace(go.Scatter(x=xs, y=wave(1, 0, xs, 0),\n                    mode='lines',\n                    name='lines'))\n\nslider = widgets.FloatSlider(\n    value = 1,\n    min=0.1,\n    max=10,\n    step=0.1,\n    readout=True,\n    description=r'$k$')\nslider.layout.width = '400px'\n\nslider2 = widgets.FloatSlider(\n    value = 0,\n    min=-3.14,\n    max=3.14,\n    step=0.01,\n    readout=True,\n    description=r'$\\omega$')\nslider2.layout.width = '400px'\n\nslider3 = widgets.FloatSlider(\n    value = 0,\n    min= 0,\n    max= 10,\n    step=0.1,\n    readout=True,\n    description=r'$t$')\nslider3.layout.width = '400px'\n\nplay = widgets.Play(\n    value = 0,\n    min=0,\n    max=10,\n    step=1\n)\n\n\n\n\n# our function that will modify the xaxis range\ndef update_range(k, omega, time):\n    fig.data[0].y=wave(k, omega, xs, time)\n\n\n# display the FigureWidget and slider with center justification\nvb = VBox((fig, interactive(update_range, k = slider, omega = slider2, time = play)))\n#vb.layout.align_items = 'center'\nvb",
    "id": "f15e0fd280db4a56b7301dad0a4e1307",
    "idx": 2,
    "time": "2021-02-02T01:33:40.665Z",
    "type": "execution"
   },
   {
    "id": "f15e0fd280db4a56b7301dad0a4e1307",
    "time": "2021-02-02T01:33:41.439Z",
    "type": "completion"
   },
   {
    "code": "import plotly.graph_objs as go\nfrom ipywidgets import interactive, HBox, VBox, widgets, interact\nimport numpy as np\n\nxs = np.linspace(0, 5, 500)\n\ndef wave(k, omega, x, t):\n    return np.sin(k*x - omega*t/10.)\n\nfig = go.FigureWidget()\n\nfig.layout = dict(yaxis=dict(range=[-1,1]), xaxis=dict(range=[0,5]),width = 1000)\n\nfig.update_layout(\n    title={\n        'text': r'$y = \\sin(kx - \\omega t)$',\n        'y':0.85,\n        'x':0.5,\n        'xanchor': 'center',\n        'yanchor': 'top'})\n\nfig.update_xaxes(\n        title_text = r\"$x$\",\n        title_standoff = 15,\n        ticks = 'outside',\n        ticklen = 10,\n        tickcolor='white')\n\nfig.update_yaxes(\n        title_text = '',\n        title_standoff = 25,\n        ticks = 'outside',\n        ticklen = 10,\n        tickcolor = 'white')\n\n\nline = fig.add_trace(go.Scatter(x=xs, y=wave(1, 0, xs, 0),\n                    mode='lines',\n                    name='lines'))\n\nslider = widgets.FloatSlider(\n    value = 1,\n    min=0.1,\n    max=10,\n    step=0.1,\n    readout=True,\n    description=r'$k$')\nslider.layout.width = '400px'\n\nslider2 = widgets.FloatSlider(\n    value = 0,\n    min=-3.14,\n    max=3.14,\n    step=0.01,\n    readout=True,\n    description=r'$\\omega$')\nslider2.layout.width = '400px'\n\nslider3 = widgets.FloatSlider(\n    value = 0,\n    min= 0,\n    max= 10,\n    step=0.1,\n    readout=True,\n    description=r'$t$')\nslider3.layout.width = '400px'\n\nplay = widgets.Play(\n    value = 0,\n    min=0,\n    max=10,\n    step=1\n)\n\n\n\n\n# our function that will modify the xaxis range\ndef update_range(k, omega, time):\n    fig.data[0].y=wave(k, omega, xs, time)\n\n\n# display the FigureWidget and slider with center justification\nvb = VBox((fig, interactive(update_range, k = slider, omega = slider2, time = play)))\n#vb.layout.align_items = 'center'\nvb",
    "id": "f15e0fd280db4a56b7301dad0a4e1307",
    "idx": 2,
    "time": "2021-02-02T01:36:43.194Z",
    "type": "execution"
   },
   {
    "id": "f15e0fd280db4a56b7301dad0a4e1307",
    "time": "2021-02-02T01:36:43.575Z",
    "type": "completion"
   },
   {
    "code": "import plotly.graph_objs as go\nfrom ipywidgets import interactive, HBox, VBox, widgets, interact\nimport numpy as np\n\nxs = np.linspace(0, 5, 500)\n\ndef wave(k, omega, x, t):\n    return np.sin(k*x - omega*t/10.)\n\nfig = go.FigureWidget()\n\nfig.layout = dict(yaxis=dict(range=[-1,1]), xaxis=dict(range=[0,5]),width = 1000)\n\nfig.update_layout(\n    title={\n        'text': r'$y = \\sin(kx - \\omega t)$',\n        'y':0.85,\n        'x':0.5,\n        'xanchor': 'center',\n        'yanchor': 'top'})\n\nfig.update_xaxes(\n        title_text = r\"$x$\",\n        title_standoff = 15,\n        ticks = 'outside',\n        ticklen = 10,\n        tickcolor='white')\n\nfig.update_yaxes(\n        title_text = '',\n        title_standoff = 25,\n        ticks = 'outside',\n        ticklen = 10,\n        tickcolor = 'white')\n\n\nline = fig.add_trace(go.Scatter(x=xs, y=wave(1, 0, xs, 0),\n                    mode='lines',\n                    name='lines'))\n\nslider = widgets.FloatSlider(\n    value = 1,\n    min=0.1,\n    max=10,\n    step=0.1,\n    readout=True,\n    description=r'$k$')\nslider.layout.width = '400px'\n\nslider2 = widgets.FloatSlider(\n    value = 0,\n    min=-3.14,\n    max=3.14,\n    step=0.01,\n    readout=True,\n    description=r'$\\omega$')\nslider2.layout.width = '400px'\n\nslider3 = widgets.FloatSlider(\n    value = 0,\n    min= 0,\n    max= 10,\n    step=0.1,\n    readout=True,\n    description=r'$t$')\nslider3.layout.width = '400px'\n\nplay = widgets.Play(\n    value = 0,\n    min=0,\n    max=1000,\n    step=1\n)\n\n\n\n\n# our function that will modify the xaxis range\ndef update_range(k, omega, time):\n    fig.data[0].y=wave(k, omega, xs, time)\n\n\n# display the FigureWidget and slider with center justification\nvb = VBox((fig, interactive(update_range, k = slider, omega = slider2, time = play)))\n#vb.layout.align_items = 'center'\nvb",
    "id": "f15e0fd280db4a56b7301dad0a4e1307",
    "idx": 2,
    "time": "2021-02-02T01:37:12.721Z",
    "type": "execution"
   },
   {
    "id": "f15e0fd280db4a56b7301dad0a4e1307",
    "time": "2021-02-02T01:37:13.098Z",
    "type": "completion"
   },
   {
    "code": "import plotly.graph_objs as go\nfrom ipywidgets import interactive, HBox, VBox, widgets, interact\nimport numpy as np\n\nxs = np.linspace(0, 5, 500)\n\ndef wave(k, omega, x, t):\n    return np.sin(k*x - omega*t/10.)\n\nfig = go.FigureWidget()\n\nfig.layout = dict(yaxis=dict(range=[-1,1]), xaxis=dict(range=[0,5]),width = 1000)\n\nfig.update_layout(\n    title={\n        'text': r'$y = \\sin(kx - \\omega t)$',\n        'y':0.85,\n        'x':0.5,\n        'xanchor': 'center',\n        'yanchor': 'top'})\n\nfig.update_xaxes(\n        title_text = r\"$x$\",\n        title_standoff = 15,\n        ticks = 'outside',\n        ticklen = 10,\n        tickcolor='white')\n\nfig.update_yaxes(\n        title_text = '',\n        title_standoff = 25,\n        ticks = 'outside',\n        ticklen = 10,\n        tickcolor = 'white')\n\n\nline = fig.add_trace(go.Scatter(x=xs, y=wave(1, 0, xs, 0),\n                    mode='lines',\n                    name='lines'))\n\nslider = widgets.FloatSlider(\n    value = 1,\n    min=0.1,\n    max=10,\n    step=0.1,\n    readout=True,\n    description=r'$k$')\nslider.layout.width = '400px'\n\nslider2 = widgets.FloatSlider(\n    value = 0,\n    min=-1,\n    max=1,\n    step=0.1,\n    readout=True,\n    description=r'$\\omega$')\nslider2.layout.width = '400px'\n\nslider3 = widgets.FloatSlider(\n    value = 0,\n    min= 0,\n    max= 10,\n    step=0.1,\n    readout=True,\n    description=r'$t$')\nslider3.layout.width = '400px'\n\nplay = widgets.Play(\n    value = 0,\n    min=0,\n    max=1000,\n    step=1\n)\n\n\n\n\n# our function that will modify the xaxis range\ndef update_range(k, omega, time):\n    fig.data[0].y=wave(k, omega, xs, time)\n\n\n# display the FigureWidget and slider with center justification\nvb = VBox((fig, interactive(update_range, k = slider, omega = slider2, time = play)))\n#vb.layout.align_items = 'center'\nvb",
    "id": "f15e0fd280db4a56b7301dad0a4e1307",
    "idx": 2,
    "time": "2021-02-02T01:38:19.156Z",
    "type": "execution"
   },
   {
    "id": "f15e0fd280db4a56b7301dad0a4e1307",
    "time": "2021-02-02T01:38:19.457Z",
    "type": "completion"
   },
   {
    "code": "import plotly.graph_objs as go\nfrom ipywidgets import interactive, HBox, VBox, widgets, interact\nimport numpy as np\n\nxs = np.linspace(0, 5, 500)\n\ndef wave(k, omega, x, t):\n    return np.sin(k*x - omega*t/10.)\n\nfig = go.FigureWidget()\n\nfig.layout = dict(yaxis=dict(range=[-1,1]), xaxis=dict(range=[0,5]),width = 1000)\n\nfig.update_layout(\n    title={\n        'text': r'$y = \\sin(kx - \\omega t)$',\n        'y':0.85,\n        'x':0.5,\n        'xanchor': 'center',\n        'yanchor': 'top'})\n\nfig.update_xaxes(\n        title_text = r\"$x$\",\n        title_standoff = 15,\n        ticks = 'outside',\n        ticklen = 10,\n        tickcolor='white')\n\nfig.update_yaxes(\n        title_text = '',\n        title_standoff = 25,\n        ticks = 'outside',\n        ticklen = 10,\n        tickcolor = 'white')\n\n\nline = fig.add_trace(go.Scatter(x=xs, y=wave(1, 0, xs, 0),\n                    mode='lines',\n                    name='lines'))\n\nslider = widgets.FloatSlider(\n    value = 1,\n    min=0.1,\n    max=10,\n    step=0.1,\n    readout=True,\n    description=r'$k$')\nslider.layout.width = '400px'\n\nslider2 = widgets.FloatSlider(\n    value = 0,\n    min=-1,\n    max=1,\n    step=0.1,\n    readout=True,\n    description=r'$\\omega$')\nslider2.layout.width = '400px'\n\nslider3 = widgets.FloatSlider(\n    value = 0,\n    min= 0,\n    max= 10,\n    step=0.1,\n    readout=True,\n    description=r'$t$')\nslider3.layout.width = '400px'\n\nplay = widgets.Play(\n    value = 0,\n    min=0,\n    max=500,\n    step=1\n)\n\n\n\n\n# our function that will modify the xaxis range\ndef update_range(k, omega, time):\n    fig.data[0].y=wave(k, omega, xs, time)\n\n\n# display the FigureWidget and slider with center justification\nvb = VBox((fig, interactive(update_range, k = slider, omega = slider2, time = play)))\n#vb.layout.align_items = 'center'\nvb",
    "id": "f15e0fd280db4a56b7301dad0a4e1307",
    "idx": 2,
    "time": "2021-02-02T01:39:00.150Z",
    "type": "execution"
   },
   {
    "id": "f15e0fd280db4a56b7301dad0a4e1307",
    "time": "2021-02-02T01:39:00.469Z",
    "type": "completion"
   },
   {
    "code": "import plotly.graph_objs as go\nfrom ipywidgets import interactive, HBox, VBox, widgets, interact\nimport numpy as np\n\nxs = np.linspace(0, 5, 500)\n\ndef wave(k, omega, x, t):\n    return np.sin(k*x - omega*t/10.)\n\nfig = go.FigureWidget()\n\nfig.layout = dict(yaxis=dict(range=[-1,1]), xaxis=dict(range=[0,5]),width = 1000)\n\nfig.update_layout(\n    title={\n        'text': r'$y = \\sin(kx - \\omega t)$',\n        'y':0.85,\n        'x':0.5,\n        'xanchor': 'center',\n        'yanchor': 'top'})\n\nfig.update_xaxes(\n        title_text = r\"$x$\",\n        title_standoff = 15,\n        ticks = 'outside',\n        ticklen = 10,\n        tickcolor='white')\n\nfig.update_yaxes(\n        title_text = '',\n        title_standoff = 25,\n        ticks = 'outside',\n        ticklen = 10,\n        tickcolor = 'white')\n\n\nline = fig.add_trace(go.Scatter(x=xs, y=wave(1, 0, xs, 0),\n                    mode='lines',\n                    name='lines'))\n\nslider = widgets.FloatSlider(\n    value = 1,\n    min=0.1,\n    max=10,\n    step=0.1,\n    readout=True,\n    description=r'$k$')\nslider.layout.width = '400px'\n\nslider2 = widgets.FloatSlider(\n    value = 0,\n    min=-1,\n    max=1,\n    step=0.1,\n    readout=True,\n    description=r'$\\omega$')\nslider2.layout.width = '400px'\n\nslider3 = widgets.FloatSlider(\n    value = 0,\n    min= 0,\n    max= 10,\n    step=0.1,\n    readout=True,\n    description=r'$t$')\nslider3.layout.width = '400px'\n\nplay = widgets.Play(\n    value = 0,\n    min=0,\n    max=500,\n    step=1\n)\n\n\n\n\n# our function that will modify the xaxis range\ndef update_range(k, omega, time):\n    fig.data[0].y=wave(k, omega, xs, time)\n\n\n# display the FigureWidget and slider with center justification\nvb = VBox((fig, interactive(update_range, k = slider, omega = slider2, time = play)))\n#vb.layout.align_items = 'center'\nvb",
    "id": "f15e0fd280db4a56b7301dad0a4e1307",
    "idx": 2,
    "time": "2021-02-02T01:39:13.144Z",
    "type": "execution"
   },
   {
    "id": "f15e0fd280db4a56b7301dad0a4e1307",
    "time": "2021-02-02T01:39:13.755Z",
    "type": "completion"
   },
   {
    "code": "import plotly.graph_objs as go\nfrom ipywidgets import interactive, HBox, VBox, widgets, interact\n\nxs = np.linspace(0, 5, 1000)\n\ndef wave(f, phi, x):\n    return np.sin(2*np.pi*f*x + phi)\n\nfig = go.FigureWidget()\n\nfig.layout = dict(yaxis=dict(range=[-1,1]), xaxis=dict(range=[0,5]),width = 1000)\n\nfig.update_layout(\n    title={\n        'text': r'$y = \\sin(2 \\pi f x + \\phi)$',\n        'y':0.85,\n        'x':0.5,\n        'xanchor': 'center',\n        'yanchor': 'top'})\n\nfig.update_xaxes(\n        title_text = r\"$x$\",\n        title_standoff = 15,\n        ticks = 'outside',\n        ticklen = 10,\n        tickcolor='white')\n\nfig.update_yaxes(\n        title_text = '',\n        title_standoff = 25,\n        ticks = 'outside',\n        ticklen = 10,\n        tickcolor = 'white')\n\n\nline = fig.add_trace(go.Scatter(x=xs, y=wave(1, 0, xs),\n                    mode='lines',\n                    name='lines'))\n\nslider = widgets.FloatSlider(\n    value = 1,\n    min=0.1,\n    max=10,\n    step=0.1,\n    readout=True,\n    description=r'$f$')\nslider.layout.width = '400px'\n\nslider2 = widgets.FloatSlider(\n    value = 0,\n    min=-3.14,\n    max=3.14,\n    step=0.01,\n    readout=True,\n    description=r'$\\phi$')\nslider2.layout.width = '400px'\n\n\n# our function that will modify the xaxis range\ndef update_range(frequency, phi):\n    fig.data[0].y=wave(frequency, phi, xs)\n\n\n# display the FigureWidget and slider with center justification\nvb = VBox((fig, interactive(update_range, frequency = slider, phi = slider2)))\nvb.layout.align_items = 'center'\nvb",
    "id": "85736820b6ba488296e745512b629dd0",
    "idx": 1,
    "time": "2021-02-02T01:39:35.390Z",
    "type": "execution"
   },
   {
    "id": "85736820b6ba488296e745512b629dd0",
    "time": "2021-02-02T01:39:35.680Z",
    "type": "completion"
   },
   {
    "code": "import plotly.graph_objs as go\nfrom ipywidgets import interactive, HBox, VBox, widgets, interact\nimport numpy as np\n\nxs = np.linspace(0, 5, 1000)\n\ndef wave(f, phi, x):\n    return np.sin(2*np.pi*f*x + phi)\n\nfig = go.FigureWidget()\n\nfig.layout = dict(yaxis=dict(range=[-1,1]), xaxis=dict(range=[0,5]),width = 1000)\n\nfig.update_layout(\n    title={\n        'text': r'$y = \\sin(2 \\pi f x + \\phi)$',\n        'y':0.85,\n        'x':0.5,\n        'xanchor': 'center',\n        'yanchor': 'top'})\n\nfig.update_xaxes(\n        title_text = r\"$x$\",\n        title_standoff = 15,\n        ticks = 'outside',\n        ticklen = 10,\n        tickcolor='white')\n\nfig.update_yaxes(\n        title_text = '',\n        title_standoff = 25,\n        ticks = 'outside',\n        ticklen = 10,\n        tickcolor = 'white')\n\n\nline = fig.add_trace(go.Scatter(x=xs, y=wave(1, 0, xs),\n                    mode='lines',\n                    name='lines'))\n\nslider = widgets.FloatSlider(\n    value = 1,\n    min=0.1,\n    max=10,\n    step=0.1,\n    readout=True,\n    description=r'$f$')\nslider.layout.width = '400px'\n\nslider2 = widgets.FloatSlider(\n    value = 0,\n    min=-3.14,\n    max=3.14,\n    step=0.01,\n    readout=True,\n    description=r'$\\phi$')\nslider2.layout.width = '400px'\n\n\n# our function that will modify the xaxis range\ndef update_range(frequency, phi):\n    fig.data[0].y=wave(frequency, phi, xs)\n\n\n# display the FigureWidget and slider with center justification\nvb = VBox((fig, interactive(update_range, frequency = slider, phi = slider2)))\nvb.layout.align_items = 'center'\nvb",
    "id": "85736820b6ba488296e745512b629dd0",
    "idx": 1,
    "time": "2021-02-02T01:41:52.601Z",
    "type": "execution"
   },
   {
    "code": "xs = np.linspace(0, 5, 500)\n\ndef traveling_wave(k, omega, x, t):\n    return np.sin(k*x - omega*t/10.)\n\nfig = go.FigureWidget()\n\nfig.layout = dict(yaxis=dict(range=[-1,1]), xaxis=dict(range=[0,5]),width = 1000)\n\nfig.update_layout(\n    title={\n        'text': r'$y = \\sin(kx - \\omega t)$',\n        'y':0.85,\n        'x':0.5,\n        'xanchor': 'center',\n        'yanchor': 'top'})\n\nfig.update_xaxes(\n        title_text = r\"$x$\",\n        title_standoff = 15,\n        ticks = 'outside',\n        ticklen = 10,\n        tickcolor='white')\n\nfig.update_yaxes(\n        title_text = '',\n        title_standoff = 25,\n        ticks = 'outside',\n        ticklen = 10,\n        tickcolor = 'white')\n\n\nline = fig.add_trace(go.Scatter(x=xs, y=traveling_wave(1, 0, xs, 0),\n                    mode='lines',\n                    name='lines'))\n\nslider = widgets.FloatSlider(\n    value = 1,\n    min=0.1,\n    max=10,\n    step=0.1,\n    readout=True,\n    description=r'$k$')\nslider.layout.width = '400px'\n\nslider2 = widgets.FloatSlider(\n    value = 0,\n    min=-1,\n    max=1,\n    step=0.1,\n    readout=True,\n    description=r'$\\omega$')\nslider2.layout.width = '400px'\n\nslider3 = widgets.FloatSlider(\n    value = 0,\n    min= 0,\n    max= 10,\n    step=0.1,\n    readout=True,\n    description=r'$t$')\nslider3.layout.width = '400px'\n\nplay = widgets.Play(\n    value = 0,\n    min=0,\n    max=500,\n    step=1\n)\n\ndef update_range(k, omega, time):\n    fig.data[0].y=traveling_wave(k, omega, xs, time)\n\nvb = VBox((fig, interactive(update_range, k = slider, omega = slider2, time = play)))\nvb",
    "id": "f15e0fd280db4a56b7301dad0a4e1307",
    "idx": 2,
    "time": "2021-02-02T01:41:52.603Z",
    "type": "execution"
   },
   {
    "id": "85736820b6ba488296e745512b629dd0",
    "time": "2021-02-02T01:41:53.318Z",
    "type": "completion"
   },
   {
    "id": "f15e0fd280db4a56b7301dad0a4e1307",
    "time": "2021-02-02T01:41:53.615Z",
    "type": "completion"
   },
   {
    "code": "import plotly.graph_objs as go\nfrom ipywidgets import interactive, HBox, VBox, widgets, interact\nimport numpy as np\n\nxs = np.linspace(0, 5, 1000)\n\ndef wave(f, phi, x):\n    return np.sin(2*np.pi*f*x + phi)\n\nfig = go.FigureWidget()\n\nfig.layout = dict(yaxis=dict(range=[-1,1]), xaxis=dict(range=[0,5]),width = 1000)\n\nfig.update_layout(\n    title={\n        'text': r'$y = \\sin(2 \\pi f x + \\phi)$',\n        'y':0.85,\n        'x':0.5,\n        'xanchor': 'center',\n        'yanchor': 'top'})\n\nfig.update_xaxes(\n        title_text = r\"$x$\",\n        title_standoff = 15,\n        ticks = 'outside',\n        ticklen = 10,\n        tickcolor='white')\n\nfig.update_yaxes(\n        title_text = '',\n        title_standoff = 25,\n        ticks = 'outside',\n        ticklen = 10,\n        tickcolor = 'white')\n\n\nline = fig.add_trace(go.Scatter(x=xs, y=wave(1, 0, xs),\n                    mode='lines',\n                    name='lines'))\n\nslider = widgets.FloatSlider(\n    value = 1,\n    min=0.1,\n    max=10,\n    step=0.1,\n    readout=True,\n    description=r'$f$')\nslider.layout.width = '400px'\n\nslider2 = widgets.FloatSlider(\n    value = 0,\n    min=-3.14,\n    max=3.14,\n    step=0.01,\n    readout=True,\n    description=r'$\\phi$')\nslider2.layout.width = '400px'\n\n\n# our function that will modify the xaxis range\ndef update_range(frequency, phi):\n    fig.data[0].y=wave(frequency, phi, xs)\n\n\n# display the FigureWidget and slider with center justification\nvb = VBox((fig, interactive(update_range, frequency = slider, phi = slider2)))\nvb.layout.align_items = 'center'\nvb",
    "id": "85736820b6ba488296e745512b629dd0",
    "idx": 1,
    "time": "2021-02-02T01:43:07.548Z",
    "type": "execution"
   },
   {
    "code": "xs = np.linspace(0, 5, 500)\n\ndef traveling_wave(k, omega, x, t):\n    return np.sin(k*x - omega*t/10.)\n\nfig2 = go.FigureWidget()\n\nfig2.layout = dict(yaxis=dict(range=[-1,1]), xaxis=dict(range=[0,5]),width = 1000)\n\nfig2.update_layout(\n    title={\n        'text': r'$y = \\sin(kx - \\omega t)$',\n        'y':0.85,\n        'x':0.5,\n        'xanchor': 'center',\n        'yanchor': 'top'})\n\nfig2.update_xaxes(\n        title_text = r\"$x$\",\n        title_standoff = 15,\n        ticks = 'outside',\n        ticklen = 10,\n        tickcolor='white')\n\nfig2.update_yaxes(\n        title_text = '',\n        title_standoff = 25,\n        ticks = 'outside',\n        ticklen = 10,\n        tickcolor = 'white')\n\n\nline = fig.add_trace(go.Scatter(x=xs, y=traveling_wave(1, 0, xs, 0),\n                    mode='lines',\n                    name='lines'))\n\nslider = widgets.FloatSlider(\n    value = 1,\n    min=0.1,\n    max=10,\n    step=0.1,\n    readout=True,\n    description=r'$k$')\nslider.layout.width = '400px'\n\nslider2 = widgets.FloatSlider(\n    value = 0,\n    min=-1,\n    max=1,\n    step=0.1,\n    readout=True,\n    description=r'$\\omega$')\nslider2.layout.width = '400px'\n\nslider3 = widgets.FloatSlider(\n    value = 0,\n    min= 0,\n    max= 10,\n    step=0.1,\n    readout=True,\n    description=r'$t$')\nslider3.layout.width = '400px'\n\nplay = widgets.Play(\n    value = 0,\n    min=0,\n    max=500,\n    step=1\n)\n\ndef update_range(k, omega, time):\n    fig.data[0].y=traveling_wave(k, omega, xs, time)\n\nvb = VBox((fig, interactive(update_range, k = slider, omega = slider2, time = play)))\nvb",
    "id": "f15e0fd280db4a56b7301dad0a4e1307",
    "idx": 2,
    "time": "2021-02-02T01:43:07.552Z",
    "type": "execution"
   },
   {
    "id": "85736820b6ba488296e745512b629dd0",
    "time": "2021-02-02T01:43:08.324Z",
    "type": "completion"
   },
   {
    "id": "f15e0fd280db4a56b7301dad0a4e1307",
    "time": "2021-02-02T01:43:08.680Z",
    "type": "completion"
   },
   {
    "code": "import plotly.graph_objs as go\nfrom ipywidgets import interactive, HBox, VBox, widgets, interact\nimport numpy as np\n\nxs = np.linspace(0, 5, 1000)\n\ndef wave(f, phi, x):\n    return np.sin(2*np.pi*f*x + phi)\n\nfig = go.FigureWidget()\n\nfig.layout = dict(yaxis=dict(range=[-1,1]), xaxis=dict(range=[0,5]),width = 1000)\n\nfig.update_layout(\n    title={\n        'text': r'$y = \\sin(2 \\pi f x + \\phi)$',\n        'y':0.85,\n        'x':0.5,\n        'xanchor': 'center',\n        'yanchor': 'top'})\n\nfig.update_xaxes(\n        title_text = r\"$x$\",\n        title_standoff = 15,\n        ticks = 'outside',\n        ticklen = 10,\n        tickcolor='white')\n\nfig.update_yaxes(\n        title_text = '',\n        title_standoff = 25,\n        ticks = 'outside',\n        ticklen = 10,\n        tickcolor = 'white')\n\n\nline = fig.add_trace(go.Scatter(x=xs, y=wave(1, 0, xs),\n                    mode='lines',\n                    name='lines'))\n\nslider = widgets.FloatSlider(\n    value = 1,\n    min=0.1,\n    max=10,\n    step=0.1,\n    readout=True,\n    description=r'$f$')\nslider.layout.width = '400px'\n\nslider2 = widgets.FloatSlider(\n    value = 0,\n    min=-3.14,\n    max=3.14,\n    step=0.01,\n    readout=True,\n    description=r'$\\phi$')\nslider2.layout.width = '400px'\n\n\n# our function that will modify the xaxis range\ndef update_range(frequency, phi):\n    fig.data[0].y=wave(frequency, phi, xs)\n\n\n# display the FigureWidget and slider with center justification\nvb = VBox((fig, interactive(update_range, frequency = slider, phi = slider2)))\nvb.layout.align_items = 'center'\nvb",
    "id": "85736820b6ba488296e745512b629dd0",
    "idx": 1,
    "time": "2021-02-02T01:43:59.202Z",
    "type": "execution"
   },
   {
    "code": "xs = np.linspace(0, 5, 500)\n\ndef traveling_wave(k, omega, x, t):\n    return np.sin(k*x - omega*t/10.)\n\nfig2 = go.FigureWidget()\n\nfig2.layout = dict(yaxis=dict(range=[-1,1]), xaxis=dict(range=[0,5]),width = 1000)\n\nfig2.update_layout(\n    title={\n        'text': r'$y = \\sin(kx - \\omega t)$',\n        'y':0.85,\n        'x':0.5,\n        'xanchor': 'center',\n        'yanchor': 'top'})\n\nfig2.update_xaxes(\n        title_text = r\"$x$\",\n        title_standoff = 15,\n        ticks = 'outside',\n        ticklen = 10,\n        tickcolor='white')\n\nfig2.update_yaxes(\n        title_text = '',\n        title_standoff = 25,\n        ticks = 'outside',\n        ticklen = 10,\n        tickcolor = 'white')\n\n\nline = fig.add_trace(go.Scatter(x=xs, y=traveling_wave(1, 0, xs, 0),\n                    mode='lines',\n                    name='lines'))\n\nslider = widgets.FloatSlider(\n    value = 1,\n    min=0.1,\n    max=10,\n    step=0.1,\n    readout=True,\n    description=r'$k$')\nslider.layout.width = '400px'\n\nslider2 = widgets.FloatSlider(\n    value = 0,\n    min=-1,\n    max=1,\n    step=0.1,\n    readout=True,\n    description=r'$\\omega$')\nslider2.layout.width = '400px'\n\nslider3 = widgets.FloatSlider(\n    value = 0,\n    min= 0,\n    max= 10,\n    step=0.1,\n    readout=True,\n    description=r'$t$')\nslider3.layout.width = '400px'\n\nplay = widgets.Play(\n    value = 0,\n    min=0,\n    max=500,\n    step=1\n)\n\ndef update_range(k, omega, time):\n    fig2.data[0].y=traveling_wave(k, omega, xs, time)\n\nvb = VBox((fig2, interactive(update_range, k = slider, omega = slider2, time = play)))\nvb",
    "id": "f15e0fd280db4a56b7301dad0a4e1307",
    "idx": 2,
    "time": "2021-02-02T01:43:59.205Z",
    "type": "execution"
   },
   {
    "id": "85736820b6ba488296e745512b629dd0",
    "time": "2021-02-02T01:43:59.927Z",
    "type": "completion"
   },
   {
    "id": "f15e0fd280db4a56b7301dad0a4e1307",
    "time": "2021-02-02T01:44:00.222Z",
    "type": "completion"
   },
   {
    "code": "import plotly.graph_objs as go\nfrom ipywidgets import interactive, HBox, VBox, widgets, interact\nimport numpy as np\n\nxs = np.linspace(0, 5, 1000)\n\ndef wave(f, phi, x):\n    return np.sin(2*np.pi*f*x + phi)\n\nfig = go.FigureWidget()\n\nfig.layout = dict(yaxis=dict(range=[-1,1]), xaxis=dict(range=[0,5]),width = 1000)\n\nfig.update_layout(\n    title={\n        'text': r'$y = \\sin(2 \\pi f x + \\phi)$',\n        'y':0.85,\n        'x':0.5,\n        'xanchor': 'center',\n        'yanchor': 'top'})\n\nfig.update_xaxes(\n        title_text = r\"$x$\",\n        title_standoff = 15,\n        ticks = 'outside',\n        ticklen = 10,\n        tickcolor='white')\n\nfig.update_yaxes(\n        title_text = '',\n        title_standoff = 25,\n        ticks = 'outside',\n        ticklen = 10,\n        tickcolor = 'white')\n\n\nline = fig.add_trace(go.Scatter(x=xs, y=wave(1, 0, xs),\n                    mode='lines',\n                    name='lines'))\n\nslider = widgets.FloatSlider(\n    value = 1,\n    min=0.1,\n    max=10,\n    step=0.1,\n    readout=True,\n    description=r'$f$')\nslider.layout.width = '400px'\n\nslider2 = widgets.FloatSlider(\n    value = 0,\n    min=-3.14,\n    max=3.14,\n    step=0.01,\n    readout=True,\n    description=r'$\\phi$')\nslider2.layout.width = '400px'\n\n\n# our function that will modify the xaxis range\ndef update_range(frequency, phi):\n    fig.data[0].y=wave(frequency, phi, xs)\n\n\n# display the FigureWidget and slider with center justification\nvb = VBox((fig, interactive(update_range, frequency = slider, phi = slider2)))\nvb.layout.align_items = 'center'\nvb",
    "id": "85736820b6ba488296e745512b629dd0",
    "idx": 1,
    "time": "2021-02-02T01:45:40.468Z",
    "type": "execution"
   },
   {
    "code": "xs = np.linspace(0, 5, 500)\n\ndef traveling_wave(k, omega, x, t):\n    return np.sin(k*x - omega*t/10.)\n\nfig2 = go.FigureWidget()\n\nfig2.layout = dict(yaxis=dict(range=[-1,1]), xaxis=dict(range=[0,5]),width = 1000)\n\nfig2.update_layout(\n    title={\n        'text': r'$y = \\sin(kx - \\omega t)$',\n        'y':0.85,\n        'x':0.5,\n        'xanchor': 'center',\n        'yanchor': 'top'})\n\nfig2.update_xaxes(\n        title_text = r\"$x$\",\n        title_standoff = 15,\n        ticks = 'outside',\n        ticklen = 10,\n        tickcolor='white')\n\nfig2.update_yaxes(\n        title_text = '',\n        title_standoff = 25,\n        ticks = 'outside',\n        ticklen = 10,\n        tickcolor = 'white')\n\n\nline = fig.add_trace(go.Scatter(x=xs, y=traveling_wave(1, 0, xs, 0),\n                    mode='lines',\n                    name='lines'))\n\nbslider = widgets.FloatSlider(\n    value = 1,\n    min=0.1,\n    max=10,\n    step=0.1,\n    readout=True,\n    description=r'$k$')\nbslider.layout.width = '400px'\n\nbslider2 = widgets.FloatSlider(\n    value = 0,\n    min=-1,\n    max=1,\n    step=0.1,\n    readout=True,\n    description=r'$\\omega$')\nbslider2.layout.width = '400px'\n\nplay = widgets.Play(\n    value = 0,\n    min=0,\n    max=500,\n    step=1\n)\n\ndef update2(k, omega, time):\n    fig2.data[0].y=traveling_wave(k, omega, xs, time)\n\nvb2 = VBox((fig2, interactive(update2, k = bslider, omega = bslider2, time = play)))\nvb2",
    "id": "f15e0fd280db4a56b7301dad0a4e1307",
    "idx": 2,
    "time": "2021-02-02T01:45:40.471Z",
    "type": "execution"
   },
   {
    "id": "85736820b6ba488296e745512b629dd0",
    "time": "2021-02-02T01:45:41.129Z",
    "type": "completion"
   },
   {
    "id": "f15e0fd280db4a56b7301dad0a4e1307",
    "time": "2021-02-02T01:45:41.357Z",
    "type": "completion"
   },
   {
    "code": "import plotly.graph_objs as go\nfrom ipywidgets import interactive, HBox, VBox, widgets, interact\nimport numpy as np\n\nxs = np.linspace(0, 5, 1000)\n\ndef wave(f, phi, x):\n    return np.sin(2*np.pi*f*x + phi)\n\nfig = go.FigureWidget()\n\nfig.layout = dict(yaxis=dict(range=[-1,1]), xaxis=dict(range=[0,5]),width = 1000)\n\nfig.update_layout(\n    title={\n        'text': r'$y = \\sin(2 \\pi f x + \\phi)$',\n        'y':0.85,\n        'x':0.5,\n        'xanchor': 'center',\n        'yanchor': 'top'})\n\nfig.update_xaxes(\n        title_text = r\"$x$\",\n        title_standoff = 15,\n        ticks = 'outside',\n        ticklen = 10,\n        tickcolor='white')\n\nfig.update_yaxes(\n        title_text = '',\n        title_standoff = 25,\n        ticks = 'outside',\n        ticklen = 10,\n        tickcolor = 'white')\n\n\nline = fig.add_trace(go.Scatter(x=xs, y=wave(1, 0, xs),\n                    mode='lines',\n                    name='lines'))\n\nslider = widgets.FloatSlider(\n    value = 1,\n    min=0.1,\n    max=10,\n    step=0.1,\n    readout=True,\n    description=r'$f$')\nslider.layout.width = '400px'\n\nslider2 = widgets.FloatSlider(\n    value = 0,\n    min=-3.14,\n    max=3.14,\n    step=0.01,\n    readout=True,\n    description=r'$\\phi$')\nslider2.layout.width = '400px'\n\n\n# our function that will modify the xaxis range\ndef update_range(frequency, phi):\n    fig.data[0].y=wave(frequency, phi, xs)\n\n\n# display the FigureWidget and slider with center justification\nvb = VBox((fig, interactive(update_range, frequency = slider, phi = slider2)))\nvb.layout.align_items = 'center'\nvb",
    "id": "85736820b6ba488296e745512b629dd0",
    "idx": 1,
    "time": "2021-02-02T01:47:02.930Z",
    "type": "execution"
   },
   {
    "code": "xs2 = np.linspace(0, 5, 500)\n\ndef traveling_wave(k, omega, x, t):\n    return np.sin(k*x - omega*t/10.)\n\nfig2 = go.FigureWidget()\n\nfig2.layout = dict(yaxis=dict(range=[-1,1]), xaxis=dict(range=[0,5]),width = 1000)\n\nfig2.update_layout(\n    title={\n        'text': r'$y = \\sin(kx - \\omega t)$',\n        'y':0.85,\n        'x':0.5,\n        'xanchor': 'center',\n        'yanchor': 'top'})\n\nfig2.update_xaxes(\n        title_text = r\"$x$\",\n        title_standoff = 15,\n        ticks = 'outside',\n        ticklen = 10,\n        tickcolor='white')\n\nfig2.update_yaxes(\n        title_text = '',\n        title_standoff = 25,\n        ticks = 'outside',\n        ticklen = 10,\n        tickcolor = 'white')\n\n\nline2 = fig2.add_trace(go.Scatter(x=xs2, y=traveling_wave(1, 0, xs2, 0),\n                    mode='lines',\n                    name='lines'))\n\nbslider = widgets.FloatSlider(\n    value = 1,\n    min=0.1,\n    max=10,\n    step=0.1,\n    readout=True,\n    description=r'$k$')\nbslider.layout.width = '400px'\n\nbslider2 = widgets.FloatSlider(\n    value = 0,\n    min=-1,\n    max=1,\n    step=0.1,\n    readout=True,\n    description=r'$\\omega$')\nbslider2.layout.width = '400px'\n\nplay = widgets.Play(\n    value = 0,\n    min=0,\n    max=500,\n    step=1\n)\n\ndef update2(k, omega, time):\n    fig2.data[0].y=traveling_wave(k, omega, xs2, time)\n\nvb2 = VBox((fig2, interactive(update2, k = bslider, omega = bslider2, time = play)))\nvb2",
    "id": "f15e0fd280db4a56b7301dad0a4e1307",
    "idx": 2,
    "time": "2021-02-02T01:47:02.933Z",
    "type": "execution"
   },
   {
    "id": "85736820b6ba488296e745512b629dd0",
    "time": "2021-02-02T01:47:03.752Z",
    "type": "completion"
   },
   {
    "id": "f15e0fd280db4a56b7301dad0a4e1307",
    "time": "2021-02-02T01:47:04.075Z",
    "type": "completion"
   },
   {
    "code": "xs2 = np.linspace(0, 5, 500)\n\ndef traveling_wave(k, omega, x, t):\n    return np.sin(k*x - omega*t/10.)\n\nfig2 = go.FigureWidget()\n\nfig2.layout = dict(yaxis=dict(range=[-1,1]), xaxis=dict(range=[0,5]),width = 1000)\n\nfig2.update_layout(\n    title={\n        'text': r'$y = \\sin(kx - \\omega t)$',\n        'y':0.85,\n        'x':0.5,\n        'xanchor': 'center',\n        'yanchor': 'top'})\n\nfig2.update_xaxes(\n        title_text = r\"$x$\",\n        title_standoff = 15,\n        ticks = 'outside',\n        ticklen = 10,\n        tickcolor='white')\n\nfig2.update_yaxes(\n        title_text = '',\n        title_standoff = 25,\n        ticks = 'outside',\n        ticklen = 10,\n        tickcolor = 'white')\n\n\nline2 = fig2.add_trace(go.Scatter(x=xs2, y=traveling_wave(1, 0, xs2, 0),\n                    mode='lines',\n                    name='lines'))\n\nbslider = widgets.FloatSlider(\n    value = 0,\n    min=0.1,\n    max=10,\n    step=0.1,\n    readout=True,\n    description=r'$k$')\nbslider.layout.width = '400px'\n\nbslider2 = widgets.FloatSlider(\n    value = 0,\n    min=-1,\n    max=1,\n    step=0.1,\n    readout=True,\n    description=r'$\\omega$')\nbslider2.layout.width = '400px'\n\nplay = widgets.Play(\n    value = 0,\n    min=0,\n    max=500,\n    step=1\n)\n\ndef update2(k, omega, time):\n    fig2.data[0].y=traveling_wave(k, omega, xs2, time)\n\nvb2 = VBox((fig2, interactive(update2, k = bslider, omega = bslider2, time = play)))\nvb2",
    "id": "f15e0fd280db4a56b7301dad0a4e1307",
    "idx": 2,
    "time": "2021-02-02T01:51:51.714Z",
    "type": "execution"
   },
   {
    "id": "f15e0fd280db4a56b7301dad0a4e1307",
    "time": "2021-02-02T01:51:52.084Z",
    "type": "completion"
   },
   {
    "code": "xs2 = np.linspace(0, 5, 500)\n\ndef traveling_wave(k, omega, x, t):\n    return np.sin(k*x - omega*t/10.)\n\nfig2 = go.FigureWidget()\n\nfig2.layout = dict(yaxis=dict(range=[-1,1]), xaxis=dict(range=[0,5]),width = 1000)\n\nfig2.update_layout(\n    title={\n        'text': r'$y = \\sin(kx - \\omega t)$',\n        'y':0.85,\n        'x':0.5,\n        'xanchor': 'center',\n        'yanchor': 'top'})\n\nfig2.update_xaxes(\n        title_text = r\"$x$\",\n        title_standoff = 15,\n        ticks = 'outside',\n        ticklen = 10,\n        tickcolor='white')\n\nfig2.update_yaxes(\n        title_text = '',\n        title_standoff = 25,\n        ticks = 'outside',\n        ticklen = 10,\n        tickcolor = 'white')\n\n\nline2 = fig2.add_trace(go.Scatter(x=xs2, y=traveling_wave(1, 0, xs2, 0),\n                    mode='lines',\n                    name='lines'))\n\nbslider = widgets.FloatSlider(\n    value = 3.14,\n    min=0.1,\n    max=10,\n    step=0.01,\n    readout=True,\n    description=r'$k$')\nbslider.layout.width = '400px'\n\nbslider2 = widgets.FloatSlider(\n    value = 0,\n    min=-1,\n    max=1,\n    step=0.1,\n    readout=True,\n    description=r'$\\omega$')\nbslider2.layout.width = '400px'\n\nplay = widgets.Play(\n    value = 0,\n    min=0,\n    max=500,\n    step=1\n)\n\ndef update2(k, omega, time):\n    fig2.data[0].y=traveling_wave(k, omega, xs2, time)\n\nvb2 = VBox((fig2, interactive(update2, k = bslider, omega = bslider2, time = play)))\nvb2",
    "id": "f15e0fd280db4a56b7301dad0a4e1307",
    "idx": 2,
    "time": "2021-02-02T01:52:11.197Z",
    "type": "execution"
   },
   {
    "id": "f15e0fd280db4a56b7301dad0a4e1307",
    "time": "2021-02-02T01:52:11.552Z",
    "type": "completion"
   },
   {
    "code": "xs2 = np.linspace(0, 5, 500)\n\ndef traveling_wave(k, omega, x, t):\n    return np.sin(k*x - omega*t/10.)\n\nfig2 = go.FigureWidget()\n\nfig2.layout = dict(yaxis=dict(range=[-1,1]), xaxis=dict(range=[0,5]),width = 1000)\n\nfig2.update_layout(\n    title={\n        'text': r'$y = \\sin(kx - \\omega t)$',\n        'y':0.85,\n        'x':0.5,\n        'xanchor': 'center',\n        'yanchor': 'top'})\n\nfig2.update_xaxes(\n        title_text = r\"$x$\",\n        title_standoff = 15,\n        ticks = 'outside',\n        ticklen = 10,\n        tickcolor='white')\n\nfig2.update_yaxes(\n        title_text = '',\n        title_standoff = 25,\n        ticks = 'outside',\n        ticklen = 10,\n        tickcolor = 'white')\n\n\nline2 = fig2.add_trace(go.Scatter(x=xs2, y=traveling_wave(1, 0, xs2, 0),\n                    mode='lines',\n                    name='lines'))\n\nbslider = widgets.FloatSlider(\n    value = 3.14,\n    min=0.1,\n    max=10,\n    step=0.02,\n    readout=True,\n    description=r'$k$')\nbslider.layout.width = '400px'\n\nbslider2 = widgets.FloatSlider(\n    value = 0,\n    min=-1,\n    max=1,\n    step=0.1,\n    readout=True,\n    description=r'$\\omega$')\nbslider2.layout.width = '400px'\n\nplay = widgets.Play(\n    value = 0,\n    min=0,\n    max=500,\n    step=1\n)\n\ndef update2(k, omega, time):\n    fig2.data[0].y=traveling_wave(k, omega, xs2, time)\n\nvb2 = VBox((fig2, interactive(update2, k = bslider, omega = bslider2, time = play)))\nvb2",
    "id": "f15e0fd280db4a56b7301dad0a4e1307",
    "idx": 2,
    "time": "2021-02-02T01:52:34.358Z",
    "type": "execution"
   },
   {
    "id": "f15e0fd280db4a56b7301dad0a4e1307",
    "time": "2021-02-02T01:52:34.735Z",
    "type": "completion"
   },
   {
    "code": "from IPython.display import Audio,display\n\ndef play(f1, f2, sec=3):\n    framerate = 44100 # <- rate of sampling\n    t = np.linspace(0, sec, framerate * sec) # <- setup time values\n    data = np.sin(2 * np.pi * f1 * t) + np.sin(2 * np.pi * f2 * t) # <- sine function formula\n    display(InvisibleAudio(data, rate=framerate, autoplay=True)) # play the generated sound\n    return t[:2000], data[:2000]\n    \n\nclass InvisibleAudio(Audio):\n    def _repr_html_(self):\n        audio = super()._repr_html_()\n        audio = audio.replace('<audio', f'<audio onended=\"this.parentNode.removeChild(this)\"')\n        return f'<div style=\"display:none\">{audio}</div>'\n",
    "id": "8e8db8c14c3e4ae4a61493d5e26965a0",
    "idx": 3,
    "time": "2021-02-02T02:31:01.803Z",
    "type": "execution"
   },
   {
    "id": "8e8db8c14c3e4ae4a61493d5e26965a0",
    "time": "2021-02-02T02:31:01.878Z",
    "type": "completion"
   },
   {
    "code": "xs3 = np.linspace(0, 0.2, 1000)\n\nf1 = widgets.IntSlider(value = 80, min = 1, max = 600, step = 1, description = \"frequency 1\")\nf1.layout.width = '400px'\nf2 = widgets.IntSlider(value = 80, min = 1, max = 600, step = 1, description = \"frequency 2\")\nf2.layout.width = '400px'\n\n#xslider = widgets.FloatSlider(value = 0.05, min = 0.01, max = 1, step = 0.01, description = \"xrange\")\n#xslider.layout.width = '400px'\n\nbutton = widgets.Button(description='Play Sound')\nout3 = widgets.Output()\nfig3 = go.FigureWidget()\n\nfig3.add_trace(go.Scatter(x=xs3, y=np.sin(2*np.pi*80*xs3) + np.sin(2*np.pi*80*xs),\n                    mode='lines',\n                    name='sum'))\nfig3.add_trace(go.Scatter(x = xs3, y = np.sin(2*np.pi*80*xs3), mode = \"lines\", opacity = 0.2, name = \"frequency 1\"))\nfig3.add_trace(go.Scatter(x = xs3, y = np.sin(2*np.pi*80*xs3), mode = \"lines\", opacity = 0.2, name = \"frequency 2\"))\n\nfig3.layout = dict(yaxis=dict(range=[-2,2]), xaxis=dict(range=[0,0.2]),width = 800)\n\nfig3.update_layout(showlegend=False)\n\ndef on_button_clicked(_):\n\n    t, data = play(f1.value, f2.value)\n    \n\ndef update_trace(freq1, freq2):\n    \n    fig3.data[0].y = np.sin(2*np.pi*freq1*xs3) + np.sin(2*np.pi*freq2*xs3)\n    fig3.data[1].y = np.sin(2*np.pi*freq1*xs3)\n    fig3.data[2].y = np.sin(2*np.pi*freq2*xs3)\n\n# linking button and function together using a button's method\nbutton.on_click(on_button_clicked)\n# displaying button and its output together\nwidgets.VBox([fig,button,out])\n\nvb = widgets.VBox((fig, interactive(update_trace, freq1 = f1, freq2 = f2), button))\nvb.layout.align_items = 'center'\nvb\n",
    "id": "53842e5f970c4b1c8e8e199978a902c9",
    "idx": 4,
    "time": "2021-02-02T02:32:13.809Z",
    "type": "execution"
   },
   {
    "id": "53842e5f970c4b1c8e8e199978a902c9",
    "time": "2021-02-02T02:32:14.104Z",
    "type": "completion"
   },
   {
    "code": "xs3 = np.linspace(0, 0.2, 1000)\n\nf1 = widgets.IntSlider(value = 80, min = 1, max = 600, step = 1, description = \"frequency 1\")\nf1.layout.width = '400px'\nf2 = widgets.IntSlider(value = 80, min = 1, max = 600, step = 1, description = \"frequency 2\")\nf2.layout.width = '400px'\n\n#xslider = widgets.FloatSlider(value = 0.05, min = 0.01, max = 1, step = 0.01, description = \"xrange\")\n#xslider.layout.width = '400px'\n\nbutton = widgets.Button(description='Play Sound')\nout3 = widgets.Output()\nfig3 = go.FigureWidget()\n\nfig3.add_trace(go.Scatter(x=xs3, y=np.sin(2*np.pi*80*xs3) + np.sin(2*np.pi*80*xs),\n                    mode='lines',\n                    name='sum'))\nfig3.add_trace(go.Scatter(x = xs3, y = np.sin(2*np.pi*80*xs3), mode = \"lines\", opacity = 0.2, name = \"frequency 1\"))\nfig3.add_trace(go.Scatter(x = xs3, y = np.sin(2*np.pi*80*xs3), mode = \"lines\", opacity = 0.2, name = \"frequency 2\"))\n\nfig3.layout = dict(yaxis=dict(range=[-2,2]), xaxis=dict(range=[0,0.2]),width = 800)\n\nfig3.update_layout(showlegend=False)\n\ndef on_button_clicked(_):\n\n    t, data = play(f1.value, f2.value)\n    \n\ndef update_trace(freq1, freq2):\n    \n    fig3.data[0].y = np.sin(2*np.pi*freq1*xs3) + np.sin(2*np.pi*freq2*xs3)\n    fig3.data[1].y = np.sin(2*np.pi*freq1*xs3)\n    fig3.data[2].y = np.sin(2*np.pi*freq2*xs3)\n\n# linking button and function together using a button's method\nbutton.on_click(on_button_clicked)\n# displaying button and its output together\nwidgets.VBox([fig3,button,out3])\n\nvb = widgets.VBox((fig, interactive(update_trace, freq1 = f1, freq2 = f2), button))\nvb.layout.align_items = 'center'\nvb\n",
    "id": "53842e5f970c4b1c8e8e199978a902c9",
    "idx": 4,
    "time": "2021-02-02T02:32:23.900Z",
    "type": "execution"
   },
   {
    "id": "53842e5f970c4b1c8e8e199978a902c9",
    "time": "2021-02-02T02:32:24.417Z",
    "type": "completion"
   },
   {
    "code": "xs3 = np.linspace(0, 0.2, 1000)\n\nf1 = widgets.IntSlider(value = 80, min = 1, max = 600, step = 1, description = \"frequency 1\")\nf1.layout.width = '400px'\nf2 = widgets.IntSlider(value = 80, min = 1, max = 600, step = 1, description = \"frequency 2\")\nf2.layout.width = '400px'\n\n#xslider = widgets.FloatSlider(value = 0.05, min = 0.01, max = 1, step = 0.01, description = \"xrange\")\n#xslider.layout.width = '400px'\n\nbutton = widgets.Button(description='Play Sound')\nout3 = widgets.Output()\nfig3 = go.FigureWidget()\n\nfig3.add_trace(go.Scatter(x=xs3, y=np.sin(2*np.pi*80*xs3) + np.sin(2*np.pi*80*xs),\n                    mode='lines',\n                    name='sum'))\nfig3.add_trace(go.Scatter(x = xs3, y = np.sin(2*np.pi*80*xs3), mode = \"lines\", opacity = 0.2, name = \"frequency 1\"))\nfig3.add_trace(go.Scatter(x = xs3, y = np.sin(2*np.pi*80*xs3), mode = \"lines\", opacity = 0.2, name = \"frequency 2\"))\n\nfig3.layout = dict(yaxis=dict(range=[-2,2]), xaxis=dict(range=[0,0.2]),width = 800)\n\nfig3.update_layout(showlegend=False)\n\ndef on_button_clicked(_):\n\n    t, data = play(f1.value, f2.value)\n    \n\ndef update_trace(freq1, freq2):\n    \n    fig3.data[0].y = np.sin(2*np.pi*freq1*xs3) + np.sin(2*np.pi*freq2*xs3)\n    fig3.data[1].y = np.sin(2*np.pi*freq1*xs3)\n    fig3.data[2].y = np.sin(2*np.pi*freq2*xs3)\n\n# linking button and function together using a button's method\nbutton.on_click(on_button_clicked)\n# displaying button and its output together\nwidgets.VBox([fig3,button,out3])\n\nvb = widgets.VBox((fig, interactive(update_trace, freq1 = f1, freq2 = f2), button))\nvb.layout.align_items = 'center'\nvb\n",
    "id": "53842e5f970c4b1c8e8e199978a902c9",
    "idx": 4,
    "time": "2021-02-02T02:32:54.574Z",
    "type": "execution"
   },
   {
    "id": "53842e5f970c4b1c8e8e199978a902c9",
    "time": "2021-02-02T02:32:54.902Z",
    "type": "completion"
   },
   {
    "code": "xs3 = np.linspace(0, 0.2, 1000)\n\nf1 = widgets.IntSlider(value = 80, min = 1, max = 600, step = 1, description = \"frequency 1\")\nf1.layout.width = '400px'\nf2 = widgets.IntSlider(value = 80, min = 1, max = 600, step = 1, description = \"frequency 2\")\nf2.layout.width = '400px'\n\n#xslider = widgets.FloatSlider(value = 0.05, min = 0.01, max = 1, step = 0.01, description = \"xrange\")\n#xslider.layout.width = '400px'\n\nbutton = widgets.Button(description='Play Sound')\nout3 = widgets.Output()\nfig3 = go.FigureWidget()\n\nfig3.add_trace(go.Scatter(x=xs3, y=np.sin(2*np.pi*80*xs3) + np.sin(2*np.pi*80*xs),\n                    mode='lines',\n                    name='sum'))\nfig3.add_trace(go.Scatter(x = xs3, y = np.sin(2*np.pi*80*xs3), mode = \"lines\", opacity = 0.2, name = \"frequency 1\"))\nfig3.add_trace(go.Scatter(x = xs3, y = np.sin(2*np.pi*80*xs3), mode = \"lines\", opacity = 0.2, name = \"frequency 2\"))\n\nfig3.layout = dict(yaxis=dict(range=[-2,2]), xaxis=dict(range=[0,0.2]),width = 800)\n\nfig3.update_layout(showlegend=False)\n\ndef on_button_clicked(_):\n\n    t, data = play(f1.value, f2.value)\n    \n\ndef update_trace(freq1, freq2):\n    \n    fig3.data[0].y = np.sin(2*np.pi*freq1*xs3) + np.sin(2*np.pi*freq2*xs3)\n    fig3.data[1].y = np.sin(2*np.pi*freq1*xs3)\n    fig3.data[2].y = np.sin(2*np.pi*freq2*xs3)\n\n# linking button and function together using a button's method\nbutton.on_click(on_button_clicked)\n# displaying button and its output together\nwidgets.VBox([fig3,button,out3])\n\nvb = widgets.VBox((fig3, interactive(update_trace, freq1 = f1, freq2 = f2), button))\nvb.layout.align_items = 'center'\nvb\n",
    "id": "53842e5f970c4b1c8e8e199978a902c9",
    "idx": 4,
    "time": "2021-02-02T02:33:09.203Z",
    "type": "execution"
   },
   {
    "id": "53842e5f970c4b1c8e8e199978a902c9",
    "time": "2021-02-02T02:33:09.745Z",
    "type": "completion"
   },
   {
    "code": "xs3 = np.linspace(0, 0.2, 1000)\n\nf1 = widgets.IntSlider(value = 80, min = 1, max = 600, step = 1, description = \"frequency 1\")\nf1.layout.width = '400px'\nf2 = widgets.IntSlider(value = 80, min = 1, max = 600, step = 1, description = \"frequency 2\")\nf2.layout.width = '400px'\n\n#xslider = widgets.FloatSlider(value = 0.05, min = 0.01, max = 1, step = 0.01, description = \"xrange\")\n#xslider.layout.width = '400px'\n\nbutton = widgets.Button(description='Play Sound')\nout3 = widgets.Output()\nfig3 = go.FigureWidget()\n\nfig3.add_trace(go.Scatter(x=xs3, y=np.sin(2*np.pi*80*xs3) + np.sin(2*np.pi*80*xs),\n                    mode='lines',\n                    name='sum'))\nfig3.add_trace(go.Scatter(x = xs3, y = np.sin(2*np.pi*80*xs3), mode = \"lines\", opacity = 0.2, name = \"frequency 1\"))\nfig3.add_trace(go.Scatter(x = xs3, y = np.sin(2*np.pi*80*xs3), mode = \"lines\", opacity = 0.2, name = \"frequency 2\"))\n\nfig3.layout = dict(yaxis=dict(range=[-2,2]), xaxis=dict(range=[0,0.2]),width = 1000)\n\nfig3.update_layout(showlegend=False)\n\ndef on_button_clicked(_):\n\n    t, data = play(f1.value, f2.value)\n    \n\ndef update_trace(freq1, freq2):\n    \n    fig3.data[0].y = np.sin(2*np.pi*freq1*xs3) + np.sin(2*np.pi*freq2*xs3)\n    fig3.data[1].y = np.sin(2*np.pi*freq1*xs3)\n    fig3.data[2].y = np.sin(2*np.pi*freq2*xs3)\n\n# linking button and function together using a button's method\nbutton.on_click(on_button_clicked)\n# displaying button and its output together\nwidgets.VBox([fig3,button,out3])\n\nvb = widgets.VBox((fig3, interactive(update_trace, freq1 = f1, freq2 = f2), button))\nvb.layout.align_items = 'center'\nvb\n",
    "id": "53842e5f970c4b1c8e8e199978a902c9",
    "idx": 4,
    "time": "2021-02-02T02:33:34.305Z",
    "type": "execution"
   },
   {
    "id": "53842e5f970c4b1c8e8e199978a902c9",
    "time": "2021-02-02T02:33:34.776Z",
    "type": "completion"
   },
   {
    "code": "xs3 = np.linspace(0, 0.2, 1000)\n\nf1 = widgets.IntSlider(value = 80, min = 1, max = 600, step = 1, description = \"frequency 1\")\nf1.layout.width = '400px'\nf2 = widgets.IntSlider(value = 80, min = 1, max = 600, step = 1, description = \"frequency 2\")\nf2.layout.width = '400px'\n\n#xslider = widgets.FloatSlider(value = 0.05, min = 0.01, max = 1, step = 0.01, description = \"xrange\")\n#xslider.layout.width = '400px'\n\nbutton = widgets.Button(description='Play Sound')\nout3 = widgets.Output()\nfig3 = go.FigureWidget()\n\nfig3.add_trace(go.Scatter(x=xs3, y=np.sin(2*np.pi*80*xs3) + np.sin(2*np.pi*80*xs),\n                    mode='lines',\n                    name='sum'))\nfig3.add_trace(go.Scatter(x = xs3, y = np.sin(2*np.pi*80*xs3), mode = \"lines\", opacity = 0.2, name = \"frequency 1\"))\nfig3.add_trace(go.Scatter(x = xs3, y = np.sin(2*np.pi*80*xs3), mode = \"lines\", opacity = 0.2, name = \"frequency 2\"))\n\nfig3.layout = dict(yaxis=dict(range=[-2,2]), xaxis=dict(range=[0,0.2]),width = 900)\n\nfig3.update_layout(showlegend=False)\n\ndef on_button_clicked(_):\n\n    t, data = play(f1.value, f2.value)\n    \n\ndef update_trace(freq1, freq2):\n    \n    fig3.data[0].y = np.sin(2*np.pi*freq1*xs3) + np.sin(2*np.pi*freq2*xs3)\n    fig3.data[1].y = np.sin(2*np.pi*freq1*xs3)\n    fig3.data[2].y = np.sin(2*np.pi*freq2*xs3)\n\n# linking button and function together using a button's method\nbutton.on_click(on_button_clicked)\n# displaying button and its output together\nwidgets.VBox([fig3,button,out3])\n\nvb = widgets.VBox((fig3, interactive(update_trace, freq1 = f1, freq2 = f2), button))\nvb.layout.align_items = 'center'\nvb\n",
    "id": "53842e5f970c4b1c8e8e199978a902c9",
    "idx": 4,
    "time": "2021-02-02T02:33:43.290Z",
    "type": "execution"
   },
   {
    "id": "53842e5f970c4b1c8e8e199978a902c9",
    "time": "2021-02-02T02:33:43.848Z",
    "type": "completion"
   },
   {
    "code": "xs3 = np.linspace(0, 0.2, 1000)\n\nf1 = widgets.IntSlider(value = 80, min = 1, max = 600, step = 1, description = \"frequency 1\")\nf1.layout.width = '400px'\nf2 = widgets.IntSlider(value = 80, min = 1, max = 600, step = 1, description = \"frequency 2\")\nf2.layout.width = '400px'\n\n#xslider = widgets.FloatSlider(value = 0.05, min = 0.01, max = 1, step = 0.01, description = \"xrange\")\n#xslider.layout.width = '400px'\n\nbutton = widgets.Button(description='Play Sound')\nout3 = widgets.Output()\nfig3 = go.FigureWidget()\n\nfig3.add_trace(go.Scatter(x=xs3, y=np.sin(2*np.pi*80*xs3) + np.sin(2*np.pi*80*xs),\n                    mode='lines',\n                    name='sum'))\nfig3.add_trace(go.Scatter(x = xs3, y = np.sin(2*np.pi*80*xs3), mode = \"lines\", opacity = 0.2, name = \"frequency 1\"))\nfig3.add_trace(go.Scatter(x = xs3, y = np.sin(2*np.pi*80*xs3), mode = \"lines\", opacity = 0.2, name = \"frequency 2\"))\n\nfig3.layout = dict(yaxis=dict(range=[-2,2]), xaxis=dict(range=[0,0.2]),width = 900)\n\nfig3.update_layout(\n    title={\n        'text': r'$y = \\sin(2 \\pi f_1 t) + \\sin(2 \\pi f_2 t)$',\n        'y':0.85,\n        'x':0.5,\n        'xanchor': 'center',\n        'yanchor': 'top'})\n\nfig3.update_xaxes(\n        title_text = r\"$t$\",\n        title_standoff = 15,\n        ticks = 'outside',\n        ticklen = 10,\n        tickcolor='white')\n\nfig3.update_yaxes(\n        title_text = '',\n        title_standoff = 25,\n        ticks = 'outside',\n        ticklen = 10,\n        tickcolor = 'white')\n\nfig3.update_layout(showlegend=False)\n\ndef on_button_clicked(_):\n\n    t, data = play(f1.value, f2.value)\n    \n\ndef update_trace(freq1, freq2):\n    \n    fig3.data[0].y = np.sin(2*np.pi*freq1*xs3) + np.sin(2*np.pi*freq2*xs3)\n    fig3.data[1].y = np.sin(2*np.pi*freq1*xs3)\n    fig3.data[2].y = np.sin(2*np.pi*freq2*xs3)\n\n# linking button and function together using a button's method\nbutton.on_click(on_button_clicked)\n# displaying button and its output together\nwidgets.VBox([fig3,button,out3])\n\nvb = widgets.VBox((fig3, interactive(update_trace, freq1 = f1, freq2 = f2), button))\nvb.layout.align_items = 'center'\nvb\n",
    "id": "53842e5f970c4b1c8e8e199978a902c9",
    "idx": 4,
    "time": "2021-02-02T02:35:24.293Z",
    "type": "execution"
   },
   {
    "id": "53842e5f970c4b1c8e8e199978a902c9",
    "time": "2021-02-02T02:35:24.840Z",
    "type": "completion"
   },
   {
    "code": "from IPython.display import HTML\n\nHTML('''<script>\ncode_show=true; \nfunction code_toggle() {\n if (code_show){\n $('div.input').hide();\n } else {\n $('div.input').show();\n }\n code_show = !code_show\n} \n$( document ).ready(code_toggle);\n</script>\n<form action=\"javascript:code_toggle()\"><input type=\"submit\" value=\"Click here to toggle on/off the raw code.\"></form>''')",
    "id": "02a1f478f6854c2ea52b153d9409df9f",
    "idx": 1,
    "time": "2021-02-02T03:16:06.814Z",
    "type": "execution"
   },
   {
    "code": "import plotly.graph_objs as go\nfrom ipywidgets import interactive, HBox, VBox, widgets, interact\nimport numpy as np\n\nxs = np.linspace(0, 5, 1000)\n\ndef wave(f, phi, x):\n    return np.sin(2*np.pi*f*x + phi)\n\nfig = go.FigureWidget()\n\nfig.layout = dict(yaxis=dict(range=[-1,1]), xaxis=dict(range=[0,5]),width = 1000)\n\nfig.update_layout(\n    title={\n        'text': r'$y = \\sin(2 \\pi f x + \\phi)$',\n        'y':0.85,\n        'x':0.5,\n        'xanchor': 'center',\n        'yanchor': 'top'})\n\nfig.update_xaxes(\n        title_text = r\"$x$\",\n        title_standoff = 15,\n        ticks = 'outside',\n        ticklen = 10,\n        tickcolor='white')\n\nfig.update_yaxes(\n        title_text = '',\n        title_standoff = 25,\n        ticks = 'outside',\n        ticklen = 10,\n        tickcolor = 'white')\n\n\nline = fig.add_trace(go.Scatter(x=xs, y=wave(1, 0, xs),\n                    mode='lines',\n                    name='lines'))\n\nslider = widgets.FloatSlider(\n    value = 1,\n    min=0.1,\n    max=10,\n    step=0.1,\n    readout=True,\n    description=r'$f$')\nslider.layout.width = '400px'\n\nslider2 = widgets.FloatSlider(\n    value = 0,\n    min=-3.14,\n    max=3.14,\n    step=0.01,\n    readout=True,\n    description=r'$\\phi$')\nslider2.layout.width = '400px'\n\n\n# our function that will modify the xaxis range\ndef update_range(frequency, phi):\n    fig.data[0].y=wave(frequency, phi, xs)\n\n\n# display the FigureWidget and slider with center justification\nvb = VBox((fig, interactive(update_range, frequency = slider, phi = slider2)))\nvb.layout.align_items = 'center'\nvb",
    "id": "85736820b6ba488296e745512b629dd0",
    "idx": 2,
    "time": "2021-02-02T03:16:06.834Z",
    "type": "execution"
   },
   {
    "code": "xs2 = np.linspace(0, 5, 500)\n\ndef traveling_wave(k, omega, x, t):\n    return np.sin(k*x - omega*t/10.)\n\nfig2 = go.FigureWidget()\n\nfig2.layout = dict(yaxis=dict(range=[-1,1]), xaxis=dict(range=[0,5]),width = 1000)\n\nfig2.update_layout(\n    title={\n        'text': r'$y = \\sin(kx - \\omega t)$',\n        'y':0.85,\n        'x':0.5,\n        'xanchor': 'center',\n        'yanchor': 'top'})\n\nfig2.update_xaxes(\n        title_text = r\"$x$\",\n        title_standoff = 15,\n        ticks = 'outside',\n        ticklen = 10,\n        tickcolor='white')\n\nfig2.update_yaxes(\n        title_text = '',\n        title_standoff = 25,\n        ticks = 'outside',\n        ticklen = 10,\n        tickcolor = 'white')\n\n\nline2 = fig2.add_trace(go.Scatter(x=xs2, y=traveling_wave(1, 0, xs2, 0),\n                    mode='lines',\n                    name='lines'))\n\nbslider = widgets.FloatSlider(\n    value = 3.14,\n    min=0.1,\n    max=10,\n    step=0.02,\n    readout=True,\n    description=r'$k$')\nbslider.layout.width = '400px'\n\nbslider2 = widgets.FloatSlider(\n    value = 0,\n    min=-1,\n    max=1,\n    step=0.1,\n    readout=True,\n    description=r'$\\omega$')\nbslider2.layout.width = '400px'\n\nplay = widgets.Play(\n    value = 0,\n    min=0,\n    max=500,\n    step=1\n)\n\ndef update2(k, omega, time):\n    fig2.data[0].y=traveling_wave(k, omega, xs2, time)\n\nvb2 = VBox((fig2, interactive(update2, k = bslider, omega = bslider2, time = play)))\nvb2",
    "id": "f15e0fd280db4a56b7301dad0a4e1307",
    "idx": 3,
    "time": "2021-02-02T03:16:06.837Z",
    "type": "execution"
   },
   {
    "code": "from IPython.display import Audio,display\n\ndef play(f1, f2, sec=3):\n    framerate = 44100 # <- rate of sampling\n    t = np.linspace(0, sec, framerate * sec) # <- setup time values\n    data = np.sin(2 * np.pi * f1 * t) + np.sin(2 * np.pi * f2 * t) # <- sine function formula\n    display(InvisibleAudio(data, rate=framerate, autoplay=True)) # play the generated sound\n    return t[:2000], data[:2000]\n    \n\nclass InvisibleAudio(Audio):\n    def _repr_html_(self):\n        audio = super()._repr_html_()\n        audio = audio.replace('<audio', f'<audio onended=\"this.parentNode.removeChild(this)\"')\n        return f'<div style=\"display:none\">{audio}</div>'\n",
    "id": "8e8db8c14c3e4ae4a61493d5e26965a0",
    "idx": 4,
    "time": "2021-02-02T03:16:06.837Z",
    "type": "execution"
   },
   {
    "code": "xs3 = np.linspace(0, 0.2, 1000)\n\nf1 = widgets.IntSlider(value = 80, min = 1, max = 600, step = 1, description = \"frequency 1\")\nf1.layout.width = '400px'\nf2 = widgets.IntSlider(value = 80, min = 1, max = 600, step = 1, description = \"frequency 2\")\nf2.layout.width = '400px'\n\n#xslider = widgets.FloatSlider(value = 0.05, min = 0.01, max = 1, step = 0.01, description = \"xrange\")\n#xslider.layout.width = '400px'\n\nbutton = widgets.Button(description='Play Sound')\nout3 = widgets.Output()\nfig3 = go.FigureWidget()\n\nfig3.add_trace(go.Scatter(x=xs3, y=np.sin(2*np.pi*80*xs3) + np.sin(2*np.pi*80*xs),\n                    mode='lines',\n                    name='sum'))\nfig3.add_trace(go.Scatter(x = xs3, y = np.sin(2*np.pi*80*xs3), mode = \"lines\", opacity = 0.2, name = \"frequency 1\"))\nfig3.add_trace(go.Scatter(x = xs3, y = np.sin(2*np.pi*80*xs3), mode = \"lines\", opacity = 0.2, name = \"frequency 2\"))\n\nfig3.layout = dict(yaxis=dict(range=[-2,2]), xaxis=dict(range=[0,0.2]),width = 900)\n\nfig3.update_layout(\n    title={\n        'text': r'$y = \\sin(2 \\pi f_1 t) + \\sin(2 \\pi f_2 t)$',\n        'y':0.85,\n        'x':0.5,\n        'xanchor': 'center',\n        'yanchor': 'top'})\n\nfig3.update_xaxes(\n        title_text = r\"$t$\",\n        title_standoff = 15,\n        ticks = 'outside',\n        ticklen = 10,\n        tickcolor='white')\n\nfig3.update_yaxes(\n        title_text = '',\n        title_standoff = 25,\n        ticks = 'outside',\n        ticklen = 10,\n        tickcolor = 'white')\n\nfig3.update_layout(showlegend=False)\n\ndef on_button_clicked(_):\n\n    t, data = play(f1.value, f2.value)\n    \n\ndef update_trace(freq1, freq2):\n    \n    fig3.data[0].y = np.sin(2*np.pi*freq1*xs3) + np.sin(2*np.pi*freq2*xs3)\n    fig3.data[1].y = np.sin(2*np.pi*freq1*xs3)\n    fig3.data[2].y = np.sin(2*np.pi*freq2*xs3)\n\n# linking button and function together using a button's method\nbutton.on_click(on_button_clicked)\n# displaying button and its output together\nwidgets.VBox([fig3,button,out3])\n\nvb = widgets.VBox((fig3, interactive(update_trace, freq1 = f1, freq2 = f2), button))\nvb.layout.align_items = 'center'\nvb\n",
    "id": "53842e5f970c4b1c8e8e199978a902c9",
    "idx": 5,
    "time": "2021-02-02T03:16:06.840Z",
    "type": "execution"
   },
   {
    "id": "02a1f478f6854c2ea52b153d9409df9f",
    "time": "2021-02-02T03:16:06.893Z",
    "type": "completion"
   },
   {
    "id": "85736820b6ba488296e745512b629dd0",
    "time": "2021-02-02T03:16:07.535Z",
    "type": "completion"
   },
   {
    "id": "f15e0fd280db4a56b7301dad0a4e1307",
    "time": "2021-02-02T03:16:07.863Z",
    "type": "completion"
   },
   {
    "id": "8e8db8c14c3e4ae4a61493d5e26965a0",
    "time": "2021-02-02T03:16:07.863Z",
    "type": "completion"
   },
   {
    "id": "53842e5f970c4b1c8e8e199978a902c9",
    "time": "2021-02-02T03:16:08.085Z",
    "type": "completion"
   },
   {
    "code": "from IPython.display import HTML\n\nHTML('''<script>\ncode_show=true; \nfunction code_toggle() {\n if (code_show){\n $('div.input').hide();\n } else {\n $('div.input').show();\n }\n code_show = !code_show\n} \n$( document ).ready(code_toggle);\n</script>\n<form action=\"javascript:code_toggle()\"><input type=\"submit\" value=\"Click here to toggle on/off the raw code.\"></form>''')",
    "id": "02a1f478f6854c2ea52b153d9409df9f",
    "idx": 1,
    "time": "2021-02-02T03:48:34.802Z",
    "type": "execution"
   },
   {
    "code": "import plotly.graph_objs as go\nfrom ipywidgets import interactive, HBox, VBox, widgets, interact\nimport numpy as np\n\nxs = np.linspace(0, 5, 1000)\n\ndef wave(f, phi, x):\n    return np.sin(2*np.pi*f*x + phi)\n\nfig = go.FigureWidget()\n\nfig.layout = dict(yaxis=dict(range=[-1,1]), xaxis=dict(range=[0,5]),width = 1000)\n\nfig.update_layout(\n    title={\n        'text': r'$y = \\sin(2 \\pi f x + \\phi)$',\n        'y':0.85,\n        'x':0.5,\n        'xanchor': 'center',\n        'yanchor': 'top'})\n\nfig.update_xaxes(\n        title_text = r\"$x$\",\n        title_standoff = 15,\n        ticks = 'outside',\n        ticklen = 10,\n        tickcolor='white')\n\nfig.update_yaxes(\n        title_text = '',\n        title_standoff = 25,\n        ticks = 'outside',\n        ticklen = 10,\n        tickcolor = 'white')\n\n\nline = fig.add_trace(go.Scatter(x=xs, y=wave(1, 0, xs),\n                    mode='lines',\n                    name='lines'))\n\nslider = widgets.FloatSlider(\n    value = 1,\n    min=0.1,\n    max=10,\n    step=0.1,\n    readout=True,\n    description=r'$f$')\nslider.layout.width = '400px'\n\nslider2 = widgets.FloatSlider(\n    value = 0,\n    min=-3.14,\n    max=3.14,\n    step=0.01,\n    readout=True,\n    description=r'$\\phi$')\nslider2.layout.width = '400px'\n\n\n# our function that will modify the xaxis range\ndef update_range(frequency, phi):\n    fig.data[0].y=wave(frequency, phi, xs)\n\n\n# display the FigureWidget and slider with center justification\nvb = VBox((fig, interactive(update_range, frequency = slider, phi = slider2)))\nvb.layout.align_items = 'center'\nvb",
    "id": "85736820b6ba488296e745512b629dd0",
    "idx": 2,
    "time": "2021-02-02T03:48:34.822Z",
    "type": "execution"
   },
   {
    "code": "xs2 = np.linspace(0, 5, 500)\n\ndef traveling_wave(k, omega, x, t):\n    return np.sin(k*x - omega*t/10.)\n\nfig2 = go.FigureWidget()\n\nfig2.layout = dict(yaxis=dict(range=[-1,1]), xaxis=dict(range=[0,5]),width = 1000)\n\nfig2.update_layout(\n    title={\n        'text': r'$y = \\sin(kx - \\omega t)$',\n        'y':0.85,\n        'x':0.5,\n        'xanchor': 'center',\n        'yanchor': 'top'})\n\nfig2.update_xaxes(\n        title_text = r\"$x$\",\n        title_standoff = 15,\n        ticks = 'outside',\n        ticklen = 10,\n        tickcolor='white')\n\nfig2.update_yaxes(\n        title_text = '',\n        title_standoff = 25,\n        ticks = 'outside',\n        ticklen = 10,\n        tickcolor = 'white')\n\n\nline2 = fig2.add_trace(go.Scatter(x=xs2, y=traveling_wave(1, 0, xs2, 0),\n                    mode='lines',\n                    name='lines'))\n\nbslider = widgets.FloatSlider(\n    value = 3.14,\n    min=0.1,\n    max=10,\n    step=0.02,\n    readout=True,\n    description=r'$k$')\nbslider.layout.width = '400px'\n\nbslider2 = widgets.FloatSlider(\n    value = 0,\n    min=-1,\n    max=1,\n    step=0.1,\n    readout=True,\n    description=r'$\\omega$')\nbslider2.layout.width = '400px'\n\nplay = widgets.Play(\n    value = 0,\n    min=0,\n    max=500,\n    step=1\n)\n\ndef update2(k, omega, time):\n    fig2.data[0].y=traveling_wave(k, omega, xs2, time)\n\nvb2 = VBox((fig2, interactive(update2, k = bslider, omega = bslider2, time = play)))\nvb2",
    "id": "f15e0fd280db4a56b7301dad0a4e1307",
    "idx": 3,
    "time": "2021-02-02T03:48:34.824Z",
    "type": "execution"
   },
   {
    "code": "from IPython.display import Audio,display\n\ndef play(f1, f2, sec=3):\n    framerate = 44100 # <- rate of sampling\n    t = np.linspace(0, sec, framerate * sec) # <- setup time values\n    data = np.sin(2 * np.pi * f1 * t) + np.sin(2 * np.pi * f2 * t) # <- sine function formula\n    display(InvisibleAudio(data, rate=framerate, autoplay=True)) # play the generated sound\n    return t[:2000], data[:2000]\n    \n\nclass InvisibleAudio(Audio):\n    def _repr_html_(self):\n        audio = super()._repr_html_()\n        audio = audio.replace('<audio', f'<audio onended=\"this.parentNode.removeChild(this)\"')\n        return f'<div style=\"display:none\">{audio}</div>'\n",
    "id": "8e8db8c14c3e4ae4a61493d5e26965a0",
    "idx": 4,
    "time": "2021-02-02T03:48:34.824Z",
    "type": "execution"
   },
   {
    "code": "xs3 = np.linspace(0, 0.2, 1000)\n\nf1 = widgets.IntSlider(value = 80, min = 1, max = 600, step = 1, description = \"frequency 1\")\nf1.layout.width = '400px'\nf2 = widgets.IntSlider(value = 80, min = 1, max = 600, step = 1, description = \"frequency 2\")\nf2.layout.width = '400px'\n\n#xslider = widgets.FloatSlider(value = 0.05, min = 0.01, max = 1, step = 0.01, description = \"xrange\")\n#xslider.layout.width = '400px'\n\nbutton = widgets.Button(description='Play Sound')\nout3 = widgets.Output()\nfig3 = go.FigureWidget()\n\nfig3.add_trace(go.Scatter(x=xs3, y=np.sin(2*np.pi*80*xs3) + np.sin(2*np.pi*80*xs),\n                    mode='lines',\n                    name='sum'))\nfig3.add_trace(go.Scatter(x = xs3, y = np.sin(2*np.pi*80*xs3), mode = \"lines\", opacity = 0.2, name = \"frequency 1\"))\nfig3.add_trace(go.Scatter(x = xs3, y = np.sin(2*np.pi*80*xs3), mode = \"lines\", opacity = 0.2, name = \"frequency 2\"))\n\nfig3.layout = dict(yaxis=dict(range=[-2,2]), xaxis=dict(range=[0,0.2]),width = 900)\n\nfig3.update_layout(\n    title={\n        'text': r'$y = \\sin(2 \\pi f_1 t) + \\sin(2 \\pi f_2 t)$',\n        'y':0.85,\n        'x':0.5,\n        'xanchor': 'center',\n        'yanchor': 'top'})\n\nfig3.update_xaxes(\n        title_text = r\"$t$\",\n        title_standoff = 15,\n        ticks = 'outside',\n        ticklen = 10,\n        tickcolor='white')\n\nfig3.update_yaxes(\n        title_text = '',\n        title_standoff = 25,\n        ticks = 'outside',\n        ticklen = 10,\n        tickcolor = 'white')\n\nfig3.update_layout(showlegend=False)\n\ndef on_button_clicked(_):\n\n    t, data = play(f1.value, f2.value)\n    \n\ndef update_trace(freq1, freq2):\n    \n    fig3.data[0].y = np.sin(2*np.pi*freq1*xs3) + np.sin(2*np.pi*freq2*xs3)\n    fig3.data[1].y = np.sin(2*np.pi*freq1*xs3)\n    fig3.data[2].y = np.sin(2*np.pi*freq2*xs3)\n\n# linking button and function together using a button's method\nbutton.on_click(on_button_clicked)\n# displaying button and its output together\nwidgets.VBox([fig3,button,out3])\n\nvb = widgets.VBox((fig3, interactive(update_trace, freq1 = f1, freq2 = f2), button))\nvb.layout.align_items = 'center'\nvb\n",
    "id": "53842e5f970c4b1c8e8e199978a902c9",
    "idx": 5,
    "time": "2021-02-02T03:48:34.826Z",
    "type": "execution"
   },
   {
    "id": "02a1f478f6854c2ea52b153d9409df9f",
    "time": "2021-02-02T03:48:34.879Z",
    "type": "completion"
   },
   {
    "id": "85736820b6ba488296e745512b629dd0",
    "time": "2021-02-02T03:48:35.639Z",
    "type": "completion"
   },
   {
    "id": "f15e0fd280db4a56b7301dad0a4e1307",
    "time": "2021-02-02T03:48:35.910Z",
    "type": "completion"
   },
   {
    "id": "8e8db8c14c3e4ae4a61493d5e26965a0",
    "time": "2021-02-02T03:48:35.911Z",
    "type": "completion"
   },
   {
    "id": "53842e5f970c4b1c8e8e199978a902c9",
    "time": "2021-02-02T03:48:36.309Z",
    "type": "completion"
   },
   {
    "code": "from IPython.display import HTML\n\nHTML('''<script>\ncode_show=true; \nfunction code_toggle() {\n if (code_show){\n $('div.input').hide();\n } else {\n $('div.input').show();\n }\n code_show = !code_show\n} \n$( document ).ready(code_toggle);\n</script>\n<form action=\"javascript:code_toggle()\"><input type=\"submit\" value=\"Click here to toggle on/off the raw code.\"></form>''')",
    "id": "02a1f478f6854c2ea52b153d9409df9f",
    "idx": 1,
    "time": "2021-02-02T03:49:09.013Z",
    "type": "execution"
   },
   {
    "code": "import plotly.graph_objs as go\nfrom ipywidgets import interactive, HBox, VBox, widgets, interact\nimport numpy as np\n\nxs = np.linspace(0, 5, 1000)\n\ndef wave(f, phi, x):\n    return np.sin(2*np.pi*f*x + phi)\n\nfig = go.FigureWidget()\n\nfig.layout = dict(yaxis=dict(range=[-1,1]), xaxis=dict(range=[0,5]),width = 1000)\n\nfig.update_layout(\n    title={\n        'text': r'$y = \\sin(2 \\pi f x + \\phi)$',\n        'y':0.85,\n        'x':0.5,\n        'xanchor': 'center',\n        'yanchor': 'top'})\n\nfig.update_xaxes(\n        title_text = r\"$x$\",\n        title_standoff = 15,\n        ticks = 'outside',\n        ticklen = 10,\n        tickcolor='white')\n\nfig.update_yaxes(\n        title_text = '',\n        title_standoff = 25,\n        ticks = 'outside',\n        ticklen = 10,\n        tickcolor = 'white')\n\n\nline = fig.add_trace(go.Scatter(x=xs, y=wave(1, 0, xs),\n                    mode='lines',\n                    name='lines'))\n\nslider = widgets.FloatSlider(\n    value = 1,\n    min=0.1,\n    max=10,\n    step=0.1,\n    readout=True,\n    description=r'$f$')\nslider.layout.width = '400px'\n\nslider2 = widgets.FloatSlider(\n    value = 0,\n    min=-3.14,\n    max=3.14,\n    step=0.01,\n    readout=True,\n    description=r'$\\phi$')\nslider2.layout.width = '400px'\n\n\n# our function that will modify the xaxis range\ndef update_range(frequency, phi):\n    fig.data[0].y=wave(frequency, phi, xs)\n\n\n# display the FigureWidget and slider with center justification\nvb = VBox((fig, interactive(update_range, frequency = slider, phi = slider2)))\nvb.layout.align_items = 'center'\nvb",
    "id": "85736820b6ba488296e745512b629dd0",
    "idx": 2,
    "time": "2021-02-02T03:49:09.014Z",
    "type": "execution"
   },
   {
    "code": "xs2 = np.linspace(0, 5, 500)\n\ndef traveling_wave(k, omega, x, t):\n    return np.sin(k*x - omega*t/10.)\n\nfig2 = go.FigureWidget()\n\nfig2.layout = dict(yaxis=dict(range=[-1,1]), xaxis=dict(range=[0,5]),width = 1000)\n\nfig2.update_layout(\n    title={\n        'text': r'$y = \\sin(kx - \\omega t)$',\n        'y':0.85,\n        'x':0.5,\n        'xanchor': 'center',\n        'yanchor': 'top'})\n\nfig2.update_xaxes(\n        title_text = r\"$x$\",\n        title_standoff = 15,\n        ticks = 'outside',\n        ticklen = 10,\n        tickcolor='white')\n\nfig2.update_yaxes(\n        title_text = '',\n        title_standoff = 25,\n        ticks = 'outside',\n        ticklen = 10,\n        tickcolor = 'white')\n\n\nline2 = fig2.add_trace(go.Scatter(x=xs2, y=traveling_wave(1, 0, xs2, 0),\n                    mode='lines',\n                    name='lines'))\n\nbslider = widgets.FloatSlider(\n    value = 3.14,\n    min=0.1,\n    max=10,\n    step=0.02,\n    readout=True,\n    description=r'$k$')\nbslider.layout.width = '400px'\n\nbslider2 = widgets.FloatSlider(\n    value = 0,\n    min=-1,\n    max=1,\n    step=0.1,\n    readout=True,\n    description=r'$\\omega$')\nbslider2.layout.width = '400px'\n\nplay = widgets.Play(\n    value = 0,\n    min=0,\n    max=500,\n    step=1\n)\n\ndef update2(k, omega, time):\n    fig2.data[0].y=traveling_wave(k, omega, xs2, time)\n\nvb2 = VBox((fig2, interactive(update2, k = bslider, omega = bslider2, time = play)))\nvb2",
    "id": "f15e0fd280db4a56b7301dad0a4e1307",
    "idx": 3,
    "time": "2021-02-02T03:49:09.015Z",
    "type": "execution"
   },
   {
    "code": "from IPython.display import Audio,display\n\ndef play(f1, f2, sec=3):\n    framerate = 44100 # <- rate of sampling\n    t = np.linspace(0, sec, framerate * sec) # <- setup time values\n    data = np.sin(2 * np.pi * f1 * t) + np.sin(2 * np.pi * f2 * t) # <- sine function formula\n    display(InvisibleAudio(data, rate=framerate, autoplay=True)) # play the generated sound\n    return t[:2000], data[:2000]\n    \n\nclass InvisibleAudio(Audio):\n    def _repr_html_(self):\n        audio = super()._repr_html_()\n        audio = audio.replace('<audio', f'<audio onended=\"this.parentNode.removeChild(this)\"')\n        return f'<div style=\"display:none\">{audio}</div>'\n",
    "id": "8e8db8c14c3e4ae4a61493d5e26965a0",
    "idx": 4,
    "time": "2021-02-02T03:49:09.015Z",
    "type": "execution"
   },
   {
    "code": "xs3 = np.linspace(0, 0.2, 1000)\n\nf1 = widgets.IntSlider(value = 80, min = 1, max = 600, step = 1, description = \"frequency 1\")\nf1.layout.width = '400px'\nf2 = widgets.IntSlider(value = 80, min = 1, max = 600, step = 1, description = \"frequency 2\")\nf2.layout.width = '400px'\n\n#xslider = widgets.FloatSlider(value = 0.05, min = 0.01, max = 1, step = 0.01, description = \"xrange\")\n#xslider.layout.width = '400px'\n\nbutton = widgets.Button(description='Play Sound')\nout3 = widgets.Output()\nfig3 = go.FigureWidget()\n\nfig3.add_trace(go.Scatter(x=xs3, y=np.sin(2*np.pi*80*xs3) + np.sin(2*np.pi*80*xs),\n                    mode='lines',\n                    name='sum'))\nfig3.add_trace(go.Scatter(x = xs3, y = np.sin(2*np.pi*80*xs3), mode = \"lines\", opacity = 0.2, name = \"frequency 1\"))\nfig3.add_trace(go.Scatter(x = xs3, y = np.sin(2*np.pi*80*xs3), mode = \"lines\", opacity = 0.2, name = \"frequency 2\"))\n\nfig3.layout = dict(yaxis=dict(range=[-2,2]), xaxis=dict(range=[0,0.2]),width = 900)\n\nfig3.update_layout(\n    title={\n        'text': r'$y = \\sin(2 \\pi f_1 t) + \\sin(2 \\pi f_2 t)$',\n        'y':0.85,\n        'x':0.5,\n        'xanchor': 'center',\n        'yanchor': 'top'})\n\nfig3.update_xaxes(\n        title_text = r\"$t$\",\n        title_standoff = 15,\n        ticks = 'outside',\n        ticklen = 10,\n        tickcolor='white')\n\nfig3.update_yaxes(\n        title_text = '',\n        title_standoff = 25,\n        ticks = 'outside',\n        ticklen = 10,\n        tickcolor = 'white')\n\nfig3.update_layout(showlegend=False)\n\ndef on_button_clicked(_):\n\n    t, data = play(f1.value, f2.value)\n    \n\ndef update_trace(freq1, freq2):\n    \n    fig3.data[0].y = np.sin(2*np.pi*freq1*xs3) + np.sin(2*np.pi*freq2*xs3)\n    fig3.data[1].y = np.sin(2*np.pi*freq1*xs3)\n    fig3.data[2].y = np.sin(2*np.pi*freq2*xs3)\n\n# linking button and function together using a button's method\nbutton.on_click(on_button_clicked)\n# displaying button and its output together\nwidgets.VBox([fig3,button,out3])\n\nvb = widgets.VBox((fig3, interactive(update_trace, freq1 = f1, freq2 = f2), button))\nvb.layout.align_items = 'center'\nvb\n",
    "id": "53842e5f970c4b1c8e8e199978a902c9",
    "idx": 5,
    "time": "2021-02-02T03:49:09.016Z",
    "type": "execution"
   },
   {
    "id": "02a1f478f6854c2ea52b153d9409df9f",
    "time": "2021-02-02T03:49:09.089Z",
    "type": "completion"
   },
   {
    "id": "85736820b6ba488296e745512b629dd0",
    "time": "2021-02-02T03:49:09.735Z",
    "type": "completion"
   },
   {
    "id": "f15e0fd280db4a56b7301dad0a4e1307",
    "time": "2021-02-02T03:49:10.049Z",
    "type": "completion"
   },
   {
    "id": "8e8db8c14c3e4ae4a61493d5e26965a0",
    "time": "2021-02-02T03:49:10.050Z",
    "type": "completion"
   },
   {
    "id": "53842e5f970c4b1c8e8e199978a902c9",
    "time": "2021-02-02T03:49:10.398Z",
    "type": "completion"
   },
   {
    "code": "from IPython.display import HTML\n\nHTML('''<script>\ncode_show=true; \nfunction code_toggle() {\n if (code_show){\n $('div.input').hide();\n } else {\n $('div.input').show();\n }\n code_show = !code_show\n} \n$( document ).ready(code_toggle);\n</script>\n<form action=\"javascript:code_toggle()\"><input type=\"submit\" value=\"Click here to toggle on/off the raw code.\"></form>''')",
    "id": "02a1f478f6854c2ea52b153d9409df9f",
    "idx": 1,
    "time": "2021-02-02T04:12:41.405Z",
    "type": "execution"
   },
   {
    "code": "import plotly.graph_objs as go\nfrom ipywidgets import interactive, HBox, VBox, widgets, interact\nimport numpy as np\n\nxs = np.linspace(0, 5, 1000)\n\ndef wave(f, phi, x):\n    return np.sin(2*np.pi*f*x + phi)\n\nfig = go.FigureWidget()\n\nfig.layout = dict(yaxis=dict(range=[-1,1]), xaxis=dict(range=[0,5]),width = 1000)\n\nfig.update_layout(\n    title={\n        'text': r'$y = \\sin(2 \\pi f x + \\phi)$',\n        'y':0.85,\n        'x':0.5,\n        'xanchor': 'center',\n        'yanchor': 'top'})\n\nfig.update_xaxes(\n        title_text = r\"$x$\",\n        title_standoff = 15,\n        ticks = 'outside',\n        ticklen = 10,\n        tickcolor='white')\n\nfig.update_yaxes(\n        title_text = '',\n        title_standoff = 25,\n        ticks = 'outside',\n        ticklen = 10,\n        tickcolor = 'white')\n\n\nline = fig.add_trace(go.Scatter(x=xs, y=wave(1, 0, xs),\n                    mode='lines',\n                    name='lines'))\n\nslider = widgets.FloatSlider(\n    value = 1,\n    min=0.1,\n    max=10,\n    step=0.1,\n    readout=True,\n    description=r'$f$')\nslider.layout.width = '400px'\n\nslider2 = widgets.FloatSlider(\n    value = 0,\n    min=-3.14,\n    max=3.14,\n    step=0.01,\n    readout=True,\n    description=r'$\\phi$')\nslider2.layout.width = '400px'\n\n\n# our function that will modify the xaxis range\ndef update_range(frequency, phi):\n    fig.data[0].y=wave(frequency, phi, xs)\n\n\n# display the FigureWidget and slider with center justification\nvb = VBox((fig, interactive(update_range, frequency = slider, phi = slider2)))\nvb.layout.align_items = 'center'\nvb",
    "id": "85736820b6ba488296e745512b629dd0",
    "idx": 2,
    "time": "2021-02-02T04:12:41.407Z",
    "type": "execution"
   },
   {
    "code": "xs2 = np.linspace(0, 5, 500)\n\ndef traveling_wave(k, omega, x, t):\n    return np.sin(k*x - omega*t/10.)\n\nfig2 = go.FigureWidget()\n\nfig2.layout = dict(yaxis=dict(range=[-1,1]), xaxis=dict(range=[0,5]),width = 1000)\n\nfig2.update_layout(\n    title={\n        'text': r'$y = \\sin(kx - \\omega t)$',\n        'y':0.85,\n        'x':0.5,\n        'xanchor': 'center',\n        'yanchor': 'top'})\n\nfig2.update_xaxes(\n        title_text = r\"$x$\",\n        title_standoff = 15,\n        ticks = 'outside',\n        ticklen = 10,\n        tickcolor='white')\n\nfig2.update_yaxes(\n        title_text = '',\n        title_standoff = 25,\n        ticks = 'outside',\n        ticklen = 10,\n        tickcolor = 'white')\n\n\nline2 = fig2.add_trace(go.Scatter(x=xs2, y=traveling_wave(1, 0, xs2, 0),\n                    mode='lines',\n                    name='lines'))\n\nbslider = widgets.FloatSlider(\n    value = 3.14,\n    min=0.1,\n    max=10,\n    step=0.02,\n    readout=True,\n    description=r'$k$')\nbslider.layout.width = '400px'\n\nbslider2 = widgets.FloatSlider(\n    value = 0,\n    min=-1,\n    max=1,\n    step=0.1,\n    readout=True,\n    description=r'$\\omega$')\nbslider2.layout.width = '400px'\n\nplay = widgets.Play(\n    value = 0,\n    min=0,\n    max=500,\n    step=1\n)\n\ndef update2(k, omega, time):\n    fig2.data[0].y=traveling_wave(k, omega, xs2, time)\n\nvb2 = VBox((fig2, interactive(update2, k = bslider, omega = bslider2, time = play)))\nvb2",
    "id": "f15e0fd280db4a56b7301dad0a4e1307",
    "idx": 3,
    "time": "2021-02-02T04:12:41.407Z",
    "type": "execution"
   },
   {
    "code": "from IPython.display import Audio,display\n\ndef play(f1, f2, sec=3):\n    framerate = 44100 # <- rate of sampling\n    t = np.linspace(0, sec, framerate * sec) # <- setup time values\n    data = np.sin(2 * np.pi * f1 * t) + np.sin(2 * np.pi * f2 * t) # <- sine function formula\n    display(InvisibleAudio(data, rate=framerate, autoplay=True)) # play the generated sound\n    return t[:2000], data[:2000]\n    \n\nclass InvisibleAudio(Audio):\n    def _repr_html_(self):\n        audio = super()._repr_html_()\n        audio = audio.replace('<audio', f'<audio onended=\"this.parentNode.removeChild(this)\"')\n        return f'<div style=\"display:none\">{audio}</div>'\n",
    "id": "8e8db8c14c3e4ae4a61493d5e26965a0",
    "idx": 4,
    "time": "2021-02-02T04:12:41.408Z",
    "type": "execution"
   },
   {
    "code": "xs3 = np.linspace(0, 0.2, 1000)\n\nf1 = widgets.IntSlider(value = 80, min = 1, max = 600, step = 1, description = \"frequency 1\")\nf1.layout.width = '400px'\nf2 = widgets.IntSlider(value = 80, min = 1, max = 600, step = 1, description = \"frequency 2\")\nf2.layout.width = '400px'\n\n#xslider = widgets.FloatSlider(value = 0.05, min = 0.01, max = 1, step = 0.01, description = \"xrange\")\n#xslider.layout.width = '400px'\n\nbutton = widgets.Button(description='Play Sound')\nout3 = widgets.Output()\nfig3 = go.FigureWidget()\n\nfig3.add_trace(go.Scatter(x=xs3, y=np.sin(2*np.pi*80*xs3) + np.sin(2*np.pi*80*xs),\n                    mode='lines',\n                    name='sum'))\nfig3.add_trace(go.Scatter(x = xs3, y = np.sin(2*np.pi*80*xs3), mode = \"lines\", opacity = 0.2, name = \"frequency 1\"))\nfig3.add_trace(go.Scatter(x = xs3, y = np.sin(2*np.pi*80*xs3), mode = \"lines\", opacity = 0.2, name = \"frequency 2\"))\n\nfig3.layout = dict(yaxis=dict(range=[-2,2]), xaxis=dict(range=[0,0.2]),width = 900)\n\nfig3.update_layout(\n    title={\n        'text': r'$y = \\sin(2 \\pi f_1 t) + \\sin(2 \\pi f_2 t)$',\n        'y':0.85,\n        'x':0.5,\n        'xanchor': 'center',\n        'yanchor': 'top'})\n\nfig3.update_xaxes(\n        title_text = r\"$t$\",\n        title_standoff = 15,\n        ticks = 'outside',\n        ticklen = 10,\n        tickcolor='white')\n\nfig3.update_yaxes(\n        title_text = '',\n        title_standoff = 25,\n        ticks = 'outside',\n        ticklen = 10,\n        tickcolor = 'white')\n\nfig3.update_layout(showlegend=False)\n\ndef on_button_clicked(_):\n\n    t, data = play(f1.value, f2.value)\n    \n\ndef update_trace(freq1, freq2):\n    \n    fig3.data[0].y = np.sin(2*np.pi*freq1*xs3) + np.sin(2*np.pi*freq2*xs3)\n    fig3.data[1].y = np.sin(2*np.pi*freq1*xs3)\n    fig3.data[2].y = np.sin(2*np.pi*freq2*xs3)\n\n# linking button and function together using a button's method\nbutton.on_click(on_button_clicked)\n# displaying button and its output together\nwidgets.VBox([fig3,button,out3])\n\nvb = widgets.VBox((fig3, interactive(update_trace, freq1 = f1, freq2 = f2), button))\nvb.layout.align_items = 'center'\nvb\n",
    "id": "53842e5f970c4b1c8e8e199978a902c9",
    "idx": 5,
    "time": "2021-02-02T04:12:41.408Z",
    "type": "execution"
   },
   {
    "id": "02a1f478f6854c2ea52b153d9409df9f",
    "time": "2021-02-02T04:12:41.498Z",
    "type": "completion"
   },
   {
    "id": "85736820b6ba488296e745512b629dd0",
    "time": "2021-02-02T04:12:42.245Z",
    "type": "completion"
   },
   {
    "id": "f15e0fd280db4a56b7301dad0a4e1307",
    "time": "2021-02-02T04:12:42.597Z",
    "type": "completion"
   },
   {
    "id": "8e8db8c14c3e4ae4a61493d5e26965a0",
    "time": "2021-02-02T04:12:42.597Z",
    "type": "completion"
   },
   {
    "id": "53842e5f970c4b1c8e8e199978a902c9",
    "time": "2021-02-02T04:12:42.943Z",
    "type": "completion"
   },
   {
    "code": "from IPython.display import HTML\n\nHTML('''<script>\ncode_show=true; \nfunction code_toggle() {\n if (code_show){\n $('div.input').hide();\n } else {\n $('div.input').show();\n }\n code_show = !code_show\n} \n$( document ).ready(code_toggle);\n</script>\n<form action=\"javascript:code_toggle()\"><input type=\"submit\" value=\"Click here to toggle on/off the raw code.\"></form>''')",
    "id": "02a1f478f6854c2ea52b153d9409df9f",
    "idx": 1,
    "time": "2021-02-02T04:13:23.219Z",
    "type": "execution"
   },
   {
    "id": "02a1f478f6854c2ea52b153d9409df9f",
    "time": "2021-02-02T04:13:23.299Z",
    "type": "completion"
   },
   {
    "code": "xs2 = np.linspace(0, 5, 500)\n\ndef traveling_wave(k, omega, x, t):\n    return np.sin(k*x - omega*t/10.)\n\nfig2 = go.FigureWidget()\n\nfig2.layout = dict(yaxis=dict(range=[-1,1]), xaxis=dict(range=[0,5]),width = 1000)\n\nfig2.update_layout(\n    title={\n        'text': r'$y = \\sin(kx - \\omega t)$',\n        'y':0.85,\n        'x':0.5,\n        'xanchor': 'center',\n        'yanchor': 'top'})\n\nfig2.update_xaxes(\n        title_text = r\"$x$\",\n        title_standoff = 15,\n        ticks = 'outside',\n        ticklen = 10,\n        tickcolor='white')\n\nfig2.update_yaxes(\n        title_text = '',\n        title_standoff = 25,\n        ticks = 'outside',\n        ticklen = 10,\n        tickcolor = 'white')\n\n\nline2 = fig2.add_trace(go.Scatter(x=xs2, y=traveling_wave(1, 0, xs2, 0),\n                    mode='lines',\n                    name='lines'))\n\nbslider = widgets.FloatSlider(\n    value = 3.14,\n    min=0.1,\n    max=10,\n    step=0.02,\n    readout=True,\n    description=r'$k$')\nbslider.layout.width = '400px'\n\nbslider2 = widgets.FloatSlider(\n    value = 0,\n    min=-1,\n    max=1,\n    step=0.1,\n    readout=True,\n    description=r'$\\omega$')\nbslider2.layout.width = '400px'\n\nplay = widgets.Play(\n    value = 0,\n    min=0,\n    max=100,\n    step=1\n)\n\ndef update2(k, omega, time):\n    fig2.data[0].y=traveling_wave(k, omega, xs2, time)\n\nvb2 = VBox((fig2, interactive(update2, k = bslider, omega = bslider2, time = play)))\nvb2",
    "id": "f15e0fd280db4a56b7301dad0a4e1307",
    "idx": 3,
    "time": "2021-02-02T04:14:02.029Z",
    "type": "execution"
   },
   {
    "id": "f15e0fd280db4a56b7301dad0a4e1307",
    "time": "2021-02-02T04:14:02.166Z",
    "type": "completion"
   },
   {
    "code": "import plotly.graph_objs as go\nfrom ipywidgets import interactive, HBox, VBox, widgets, interact\nimport numpy as np\n\nxs = np.linspace(0, 5, 1000)\n\ndef wave(f, phi, x):\n    return np.sin(2*np.pi*f*x + phi)\n\nfig = go.FigureWidget()\n\nfig.layout = dict(yaxis=dict(range=[-1,1]), xaxis=dict(range=[0,5]),width = 1000)\n\nfig.update_layout(\n    title={\n        'text': r'$y = \\sin(2 \\pi f x + \\phi)$',\n        'y':0.85,\n        'x':0.5,\n        'xanchor': 'center',\n        'yanchor': 'top'})\n\nfig.update_xaxes(\n        title_text = r\"$x$\",\n        title_standoff = 15,\n        ticks = 'outside',\n        ticklen = 10,\n        tickcolor='white')\n\nfig.update_yaxes(\n        title_text = '',\n        title_standoff = 25,\n        ticks = 'outside',\n        ticklen = 10,\n        tickcolor = 'white')\n\n\nline = fig.add_trace(go.Scatter(x=xs, y=wave(1, 0, xs),\n                    mode='lines',\n                    name='lines'))\n\nslider = widgets.FloatSlider(\n    value = 1,\n    min=0.1,\n    max=10,\n    step=0.1,\n    readout=True,\n    description=r'$f$')\nslider.layout.width = '400px'\n\nslider2 = widgets.FloatSlider(\n    value = 0,\n    min=-3.14,\n    max=3.14,\n    step=0.01,\n    readout=True,\n    description=r'$\\phi$')\nslider2.layout.width = '400px'\n\n\n# our function that will modify the xaxis range\ndef update_range(frequency, phi):\n    fig.data[0].y=wave(frequency, phi, xs)\n\n\n# display the FigureWidget and slider with center justification\nvb = VBox((fig, interactive(update_range, frequency = slider, phi = slider2)))\nvb.layout.align_items = 'center'\nvb",
    "id": "85736820b6ba488296e745512b629dd0",
    "idx": 2,
    "time": "2021-02-02T04:14:09.094Z",
    "type": "execution"
   },
   {
    "code": "xs2 = np.linspace(0, 5, 500)\n\ndef traveling_wave(k, omega, x, t):\n    return np.sin(k*x - omega*t/10.)\n\nfig2 = go.FigureWidget()\n\nfig2.layout = dict(yaxis=dict(range=[-1,1]), xaxis=dict(range=[0,5]),width = 1000)\n\nfig2.update_layout(\n    title={\n        'text': r'$y = \\sin(kx - \\omega t)$',\n        'y':0.85,\n        'x':0.5,\n        'xanchor': 'center',\n        'yanchor': 'top'})\n\nfig2.update_xaxes(\n        title_text = r\"$x$\",\n        title_standoff = 15,\n        ticks = 'outside',\n        ticklen = 10,\n        tickcolor='white')\n\nfig2.update_yaxes(\n        title_text = '',\n        title_standoff = 25,\n        ticks = 'outside',\n        ticklen = 10,\n        tickcolor = 'white')\n\n\nline2 = fig2.add_trace(go.Scatter(x=xs2, y=traveling_wave(1, 0, xs2, 0),\n                    mode='lines',\n                    name='lines'))\n\nbslider = widgets.FloatSlider(\n    value = 3.14,\n    min=0.1,\n    max=10,\n    step=0.02,\n    readout=True,\n    description=r'$k$')\nbslider.layout.width = '400px'\n\nbslider2 = widgets.FloatSlider(\n    value = 0,\n    min=-1,\n    max=1,\n    step=0.1,\n    readout=True,\n    description=r'$\\omega$')\nbslider2.layout.width = '400px'\n\nplay = widgets.Play(\n    value = 0,\n    min=0,\n    max=100,\n    step=1\n)\n\ndef update2(k, omega, time):\n    fig2.data[0].y=traveling_wave(k, omega, xs2, time)\n\nvb2 = VBox((fig2, interactive(update2, k = bslider, omega = bslider2, time = play)))\nvb2",
    "id": "f15e0fd280db4a56b7301dad0a4e1307",
    "idx": 3,
    "time": "2021-02-02T04:14:09.676Z",
    "type": "execution"
   },
   {
    "id": "85736820b6ba488296e745512b629dd0",
    "time": "2021-02-02T04:14:09.829Z",
    "type": "completion"
   },
   {
    "id": "f15e0fd280db4a56b7301dad0a4e1307",
    "time": "2021-02-02T04:14:10.179Z",
    "type": "completion"
   },
   {
    "code": "import plotly.graph_objs as go\nfrom ipywidgets import interactive, HBox, VBox, widgets, interact\nimport numpy as np\n\nxs = np.linspace(0, 5, 1000)\n\ndef wave(f, phi, x):\n    return np.sin(2*np.pi*f*x + phi)\n\nfig = go.FigureWidget()\n\nfig.layout = dict(yaxis=dict(range=[-1,1]), xaxis=dict(range=[0,5]),width = 1000)\n\nfig.update_layout(\n    title={\n        'text': r'$y = \\sin(2 \\pi f x + \\phi)$',\n        'y':0.85,\n        'x':0.5,\n        'xanchor': 'center',\n        'yanchor': 'top'})\n\nfig.update_xaxes(\n        title_text = r\"$x$\",\n        title_standoff = 15,\n        ticks = 'outside',\n        ticklen = 10,\n        tickcolor='white')\n\nfig.update_yaxes(\n        title_text = '',\n        title_standoff = 25,\n        ticks = 'outside',\n        ticklen = 10,\n        tickcolor = 'white')\n\n\nline = fig.add_trace(go.Scatter(x=xs, y=wave(1, 0, xs),\n                    mode='lines',\n                    name='lines'))\n\nslider = widgets.FloatSlider(\n    value = 1,\n    min=0.1,\n    max=10,\n    step=0.1,\n    readout=True,\n    description=r'$f$')\nslider.layout.width = '400px'\n\nslider2 = widgets.FloatSlider(\n    value = 0,\n    min=-3.14,\n    max=3.14,\n    step=0.01,\n    readout=True,\n    description=r'$\\phi$')\nslider2.layout.width = '400px'\n\n\n# our function that will modify the xaxis range\ndef update_range(frequency, phi):\n    fig.data[0].y=wave(frequency, phi, xs)\n\n\n# display the FigureWidget and slider with center justification\nvb = VBox((fig, interactive(update_range, frequency = slider, phi = slider2)))\nvb.layout.align_items = 'center'\nvb",
    "id": "b3065459ada543af933d671b21c6f09c",
    "idx": 2,
    "time": "2021-02-02T04:16:38.607Z",
    "type": "execution"
   },
   {
    "code": "import plotly.graph_objs as go\nfrom ipywidgets import interactive, HBox, VBox, widgets, interact\nimport numpy as np\n\nxs2 = np.linspace(0, 5, 500)\n\ndef traveling_wave(k, omega, x, t):\n    return np.sin(k*x - omega*t/10.)\n\nfig2 = go.FigureWidget()\n\nfig2.layout = dict(yaxis=dict(range=[-1,1]), xaxis=dict(range=[0,5]),width = 1000)\n\nfig2.update_layout(\n    title={\n        'text': r'$y = \\sin(kx - \\omega t)$',\n        'y':0.85,\n        'x':0.5,\n        'xanchor': 'center',\n        'yanchor': 'top'})\n\nfig2.update_xaxes(\n        title_text = r\"$x$\",\n        title_standoff = 15,\n        ticks = 'outside',\n        ticklen = 10,\n        tickcolor='white')\n\nfig2.update_yaxes(\n        title_text = '',\n        title_standoff = 25,\n        ticks = 'outside',\n        ticklen = 10,\n        tickcolor = 'white')\n\n\nline2 = fig2.add_trace(go.Scatter(x=xs2, y=traveling_wave(1, 0, xs2, 0),\n                    mode='lines',\n                    name='lines'))\n\nbslider = widgets.FloatSlider(\n    value = 3.14,\n    min=0.1,\n    max=10,\n    step=0.02,\n    readout=True,\n    description=r'$k$')\nbslider.layout.width = '400px'\n\nbslider2 = widgets.FloatSlider(\n    value = 0,\n    min=-1,\n    max=1,\n    step=0.1,\n    readout=True,\n    description=r'$\\omega$')\nbslider2.layout.width = '400px'\n\nplay = widgets.Play(\n    value = 0,\n    min=0,\n    max=100,\n    step=1\n)\n\ndef update2(k, omega, time):\n    fig2.data[0].y=traveling_wave(k, omega, xs2, time)\n\nvb2 = VBox((fig2, interactive(update2, k = bslider, omega = bslider2, time = play)))\nvb2",
    "id": "cde025f1396843f49b20f50d2c720eef",
    "idx": 3,
    "time": "2021-02-02T04:18:54.608Z",
    "type": "execution"
   },
   {
    "code": "import plotly.graph_objs as go\nfrom ipywidgets import interactive, HBox, VBox, widgets, interact\nimport numpy as np\n\nxs2 = np.linspace(0, 5, 500)\n\ndef traveling_wave(k, omega, x, t):\n    return np.sin(k*x - omega*t/10.)\n\nfig2 = go.FigureWidget()\n\nfig2.layout = dict(yaxis=dict(range=[-1,1]), xaxis=dict(range=[0,5]),width = 1000)\n\nfig2.update_layout(\n    title={\n        'text': r'$y = \\sin(kx - \\omega t)$',\n        'y':0.85,\n        'x':0.5,\n        'xanchor': 'center',\n        'yanchor': 'top'})\n\nfig2.update_xaxes(\n        title_text = r\"$x$\",\n        title_standoff = 15,\n        ticks = 'outside',\n        ticklen = 10,\n        tickcolor='white')\n\nfig2.update_yaxes(\n        title_text = '',\n        title_standoff = 25,\n        ticks = 'outside',\n        ticklen = 10,\n        tickcolor = 'white')\n\n\nline2 = fig2.add_trace(go.Scatter(x=xs2, y=traveling_wave(1, 0, xs2, 0),\n                    mode='lines',\n                    name='lines'))\n\nbslider = widgets.FloatSlider(\n    value = 3.14,\n    min=0.1,\n    max=10,\n    step=0.02,\n    readout=True,\n    description=r'$k$')\nbslider.layout.width = '400px'\n\nbslider2 = widgets.FloatSlider(\n    value = 0,\n    min=-1,\n    max=1,\n    step=0.1,\n    readout=True,\n    description=r'$\\omega$')\nbslider2.layout.width = '400px'\n\nplay = widgets.Play(\n    value = 0,\n    min=0,\n    max=100,\n    step=1\n)\n\ndef update2(k, omega, time):\n    fig2.data[0].y=traveling_wave(k, omega, xs2, time)\n\nvb2 = VBox((fig2, interactive(update2, k = bslider, omega = bslider2, time = play)))\nvb2",
    "id": "a0800b6cfd994f3d9e23a09bced33d7a",
    "idx": 3,
    "time": "2021-02-02T04:34:54.142Z",
    "type": "execution"
   },
   {
    "id": "a0800b6cfd994f3d9e23a09bced33d7a",
    "time": "2021-02-02T04:34:54.551Z",
    "type": "completion"
   },
   {
    "code": "from IPython.display import HTML\n\nHTML('''<script>\ncode_show=true; \nfunction code_toggle() {\n if (code_show){\n $('div.input').hide();\n } else {\n $('div.input').show();\n }\n code_show = !code_show\n} \n$( document ).ready(code_toggle);\n</script>\n<form action=\"javascript:code_toggle()\"><input type=\"submit\" value=\"Click here to toggle on/off the raw code.\"></form>''')",
    "id": "b5d6f87c86de4fe49a0c73e2514f7a7d",
    "idx": 1,
    "time": "2021-02-02T04:35:21.797Z",
    "type": "execution"
   },
   {
    "code": "import plotly.graph_objs as go\nfrom ipywidgets import interactive, HBox, VBox, widgets, interact\nimport numpy as np\n\nxs = np.linspace(0, 5, 1000)\n\ndef wave(f, phi, x):\n    return np.sin(2*np.pi*f*x + phi)\n\nfig = go.FigureWidget()\n\nfig.layout = dict(yaxis=dict(range=[-1,1]), xaxis=dict(range=[0,5]),width = 1000)\n\nfig.update_layout(\n    title={\n        'text': r'$y = \\sin(2 \\pi f x + \\phi)$',\n        'y':0.85,\n        'x':0.5,\n        'xanchor': 'center',\n        'yanchor': 'top'})\n\nfig.update_xaxes(\n        title_text = r\"$x$\",\n        title_standoff = 15,\n        ticks = 'outside',\n        ticklen = 10,\n        tickcolor='white')\n\nfig.update_yaxes(\n        title_text = '',\n        title_standoff = 25,\n        ticks = 'outside',\n        ticklen = 10,\n        tickcolor = 'white')\n\n\nline = fig.add_trace(go.Scatter(x=xs, y=wave(1, 0, xs),\n                    mode='lines',\n                    name='lines'))\n\nslider = widgets.FloatSlider(\n    value = 1,\n    min=0.1,\n    max=10,\n    step=0.1,\n    readout=True,\n    description=r'$f$')\nslider.layout.width = '400px'\n\nslider2 = widgets.FloatSlider(\n    value = 0,\n    min=-3.14,\n    max=3.14,\n    step=0.01,\n    readout=True,\n    description=r'$\\phi$')\nslider2.layout.width = '400px'\n\n\n# our function that will modify the xaxis range\ndef update_range(frequency, phi):\n    fig.data[0].y=wave(frequency, phi, xs)\n\n\n# display the FigureWidget and slider with center justification\nvb = VBox((fig, interactive(update_range, frequency = slider, phi = slider2)))\nvb.layout.align_items = 'center'\nvb",
    "id": "f17bc4817dd74dcd999f38aabb0e0cad",
    "idx": 2,
    "time": "2021-02-02T04:35:21.798Z",
    "type": "execution"
   },
   {
    "code": "import plotly.graph_objs as go\nfrom ipywidgets import interactive, HBox, VBox, widgets, interact\nimport numpy as np\n\nxs2 = np.linspace(0, 5, 500)\n\ndef traveling_wave(k, omega, x, t):\n    return np.sin(k*x - omega*t/10.)\n\nfig2 = go.FigureWidget()\n\nfig2.layout = dict(yaxis=dict(range=[-1,1]), xaxis=dict(range=[0,5]),width = 1000)\n\nfig2.update_layout(\n    title={\n        'text': r'$y = \\sin(kx - \\omega t)$',\n        'y':0.85,\n        'x':0.5,\n        'xanchor': 'center',\n        'yanchor': 'top'})\n\nfig2.update_xaxes(\n        title_text = r\"$x$\",\n        title_standoff = 15,\n        ticks = 'outside',\n        ticklen = 10,\n        tickcolor='white')\n\nfig2.update_yaxes(\n        title_text = '',\n        title_standoff = 25,\n        ticks = 'outside',\n        ticklen = 10,\n        tickcolor = 'white')\n\n\nline2 = fig2.add_trace(go.Scatter(x=xs2, y=traveling_wave(1, 0, xs2, 0),\n                    mode='lines',\n                    name='lines'))\n\nbslider = widgets.FloatSlider(\n    value = 3.14,\n    min=0.1,\n    max=10,\n    step=0.02,\n    readout=True,\n    description=r'$k$')\nbslider.layout.width = '400px'\n\nbslider2 = widgets.FloatSlider(\n    value = 0,\n    min=-1,\n    max=1,\n    step=0.1,\n    readout=True,\n    description=r'$\\omega$')\nbslider2.layout.width = '400px'\n\nplay = widgets.Play(\n    value = 0,\n    min=0,\n    max=100,\n    step=1\n)\n\ndef update2(k, omega, time):\n    fig2.data[0].y=traveling_wave(k, omega, xs2, time)\n\nvb2 = VBox((fig2, interactive(update2, k = bslider, omega = bslider2, time = play)))\nvb2",
    "id": "a0800b6cfd994f3d9e23a09bced33d7a",
    "idx": 3,
    "time": "2021-02-02T04:35:21.817Z",
    "type": "execution"
   },
   {
    "code": "from IPython.display import Audio,display\n\ndef play(f1, f2, sec=3):\n    framerate = 44100 # <- rate of sampling\n    t = np.linspace(0, sec, framerate * sec) # <- setup time values\n    data = np.sin(2 * np.pi * f1 * t) + np.sin(2 * np.pi * f2 * t) # <- sine function formula\n    display(InvisibleAudio(data, rate=framerate, autoplay=True)) # play the generated sound\n    return t[:2000], data[:2000]\n    \n\nclass InvisibleAudio(Audio):\n    def _repr_html_(self):\n        audio = super()._repr_html_()\n        audio = audio.replace('<audio', f'<audio onended=\"this.parentNode.removeChild(this)\"')\n        return f'<div style=\"display:none\">{audio}</div>'\n",
    "id": "c0635bb4efb04b178de3220bb0a1b813",
    "idx": 4,
    "time": "2021-02-02T04:35:21.818Z",
    "type": "execution"
   },
   {
    "code": "xs3 = np.linspace(0, 0.2, 1000)\n\nf1 = widgets.IntSlider(value = 80, min = 1, max = 600, step = 1, description = \"frequency 1\")\nf1.layout.width = '400px'\nf2 = widgets.IntSlider(value = 80, min = 1, max = 600, step = 1, description = \"frequency 2\")\nf2.layout.width = '400px'\n\n#xslider = widgets.FloatSlider(value = 0.05, min = 0.01, max = 1, step = 0.01, description = \"xrange\")\n#xslider.layout.width = '400px'\n\nbutton = widgets.Button(description='Play Sound')\nout3 = widgets.Output()\nfig3 = go.FigureWidget()\n\nfig3.add_trace(go.Scatter(x=xs3, y=np.sin(2*np.pi*80*xs3) + np.sin(2*np.pi*80*xs),\n                    mode='lines',\n                    name='sum'))\nfig3.add_trace(go.Scatter(x = xs3, y = np.sin(2*np.pi*80*xs3), mode = \"lines\", opacity = 0.2, name = \"frequency 1\"))\nfig3.add_trace(go.Scatter(x = xs3, y = np.sin(2*np.pi*80*xs3), mode = \"lines\", opacity = 0.2, name = \"frequency 2\"))\n\nfig3.layout = dict(yaxis=dict(range=[-2,2]), xaxis=dict(range=[0,0.2]),width = 900)\n\nfig3.update_layout(\n    title={\n        'text': r'$y = \\sin(2 \\pi f_1 t) + \\sin(2 \\pi f_2 t)$',\n        'y':0.85,\n        'x':0.5,\n        'xanchor': 'center',\n        'yanchor': 'top'})\n\nfig3.update_xaxes(\n        title_text = r\"$t$\",\n        title_standoff = 15,\n        ticks = 'outside',\n        ticklen = 10,\n        tickcolor='white')\n\nfig3.update_yaxes(\n        title_text = '',\n        title_standoff = 25,\n        ticks = 'outside',\n        ticklen = 10,\n        tickcolor = 'white')\n\nfig3.update_layout(showlegend=False)\n\ndef on_button_clicked(_):\n\n    t, data = play(f1.value, f2.value)\n    \n\ndef update_trace(freq1, freq2):\n    \n    fig3.data[0].y = np.sin(2*np.pi*freq1*xs3) + np.sin(2*np.pi*freq2*xs3)\n    fig3.data[1].y = np.sin(2*np.pi*freq1*xs3)\n    fig3.data[2].y = np.sin(2*np.pi*freq2*xs3)\n\n# linking button and function together using a button's method\nbutton.on_click(on_button_clicked)\n# displaying button and its output together\nwidgets.VBox([fig3,button,out3])\n\nvb = widgets.VBox((fig3, interactive(update_trace, freq1 = f1, freq2 = f2), button))\nvb.layout.align_items = 'center'\nvb\n",
    "id": "6bc04016d16b4e6596a82868d891cf5b",
    "idx": 5,
    "time": "2021-02-02T04:35:21.818Z",
    "type": "execution"
   },
   {
    "id": "b5d6f87c86de4fe49a0c73e2514f7a7d",
    "time": "2021-02-02T04:35:21.876Z",
    "type": "completion"
   },
   {
    "id": "f17bc4817dd74dcd999f38aabb0e0cad",
    "time": "2021-02-02T04:35:22.437Z",
    "type": "completion"
   },
   {
    "id": "a0800b6cfd994f3d9e23a09bced33d7a",
    "time": "2021-02-02T04:35:22.696Z",
    "type": "completion"
   },
   {
    "id": "c0635bb4efb04b178de3220bb0a1b813",
    "time": "2021-02-02T04:35:22.696Z",
    "type": "completion"
   },
   {
    "id": "6bc04016d16b4e6596a82868d891cf5b",
    "time": "2021-02-02T04:35:23.009Z",
    "type": "completion"
   },
   {
    "code": "import plotly.graph_objs as go\nfrom ipywidgets import interactive, HBox, VBox, widgets, interact\nimport numpy as np\n\nxs2 = np.linspace(0, 5, 500)\n\ndef traveling_wave(k, omega, x, t):\n    return np.sin(k*x - omega*t/10.)\n\nfig2 = go.FigureWidget()\n\nfig2.layout = dict(yaxis=dict(range=[-1,1]), xaxis=dict(range=[0,5]),width = 1000)\n\nfig2.update_layout(\n    title={\n        'text': r'$y = \\sin(kx - \\omega t)$',\n        'y':0.85,\n        'x':0.5,\n        'xanchor': 'center',\n        'yanchor': 'top'})\n\nfig2.update_xaxes(\n        title_text = r\"$x$\",\n        title_standoff = 15,\n        ticks = 'outside',\n        ticklen = 10,\n        tickcolor='white')\n\nfig2.update_yaxes(\n        title_text = '',\n        title_standoff = 25,\n        ticks = 'outside',\n        ticklen = 10,\n        tickcolor = 'white')\n\n\nline2 = fig2.add_trace(go.Scatter(x=xs2, y=traveling_wave(1, 0, xs2, 0),\n                    mode='lines',\n                    name='lines'))\n\nbslider = widgets.FloatSlider(\n    value = 3.14,\n    min=0.1,\n    max=10,\n    step=0.02,\n    readout=True,\n    description=r'$k$')\nbslider.layout.width = '400px'\n\nbslider2 = widgets.FloatSlider(\n    value = 0,\n    min=-1,\n    max=1,\n    step=0.1,\n    readout=True,\n    description=r'$\\omega$')\nbslider2.layout.width = '400px'\n\nplay = widgets.Play(\n    interval = 5,\n    value = 0,\n    min=0,\n    max=100,\n    step=1\n)\n\ndef update2(k, omega, time):\n    fig2.data[0].y=traveling_wave(k, omega, xs2, time)\n\nvb2 = VBox((fig2, interactive(update2, k = bslider, omega = bslider2, time = play)))\nvb2",
    "id": "a0800b6cfd994f3d9e23a09bced33d7a",
    "idx": 3,
    "time": "2021-02-02T04:51:58.890Z",
    "type": "execution"
   },
   {
    "id": "a0800b6cfd994f3d9e23a09bced33d7a",
    "time": "2021-02-02T04:51:59.268Z",
    "type": "completion"
   },
   {
    "code": "import plotly.graph_objs as go\nfrom ipywidgets import interactive, HBox, VBox, widgets, interact\nimport numpy as np\n\nxs2 = np.linspace(0, 5, 500)\n\ndef traveling_wave(k, omega, x, t):\n    return np.sin(k*x - omega*t/10.)\n\nfig2 = go.FigureWidget()\n\nfig2.layout = dict(yaxis=dict(range=[-1,1]), xaxis=dict(range=[0,5]),width = 1000)\n\nfig2.update_layout(\n    title={\n        'text': r'$y = \\sin(kx - \\omega t)$',\n        'y':0.85,\n        'x':0.5,\n        'xanchor': 'center',\n        'yanchor': 'top'})\n\nfig2.update_xaxes(\n        title_text = r\"$x$\",\n        title_standoff = 15,\n        ticks = 'outside',\n        ticklen = 10,\n        tickcolor='white')\n\nfig2.update_yaxes(\n        title_text = '',\n        title_standoff = 25,\n        ticks = 'outside',\n        ticklen = 10,\n        tickcolor = 'white')\n\n\nline2 = fig2.add_trace(go.Scatter(x=xs2, y=traveling_wave(1, 0, xs2, 0),\n                    mode='lines',\n                    name='lines'))\n\nbslider = widgets.FloatSlider(\n    value = 3.14,\n    min=0.1,\n    max=10,\n    step=0.02,\n    readout=True,\n    description=r'$k$')\nbslider.layout.width = '400px'\n\nbslider2 = widgets.FloatSlider(\n    value = 0,\n    min=-1,\n    max=1,\n    step=0.1,\n    readout=True,\n    description=r'$\\omega$')\nbslider2.layout.width = '400px'\n\nplay = widgets.Play(\n    interval = 10,\n    value = 0,\n    min=0,\n    max=100,\n    step=1\n)\n\ndef update2(k, omega, time):\n    fig2.data[0].y=traveling_wave(k, omega, xs2, time)\n\nvb2 = VBox((fig2, interactive(update2, k = bslider, omega = bslider2, time = play)))\nvb2",
    "id": "a0800b6cfd994f3d9e23a09bced33d7a",
    "idx": 3,
    "time": "2021-02-02T04:52:40.307Z",
    "type": "execution"
   },
   {
    "id": "a0800b6cfd994f3d9e23a09bced33d7a",
    "time": "2021-02-02T04:52:40.691Z",
    "type": "completion"
   },
   {
    "code": "import plotly.graph_objs as go\nfrom ipywidgets import interactive, HBox, VBox, widgets, interact\nimport numpy as np\n\nxs2 = np.linspace(0, 5, 500)\n\ndef traveling_wave(k, omega, x, t):\n    return np.sin(k*x - omega*t/10.)\n\nfig2 = go.FigureWidget()\n\nfig2.layout = dict(yaxis=dict(range=[-1,1]), xaxis=dict(range=[0,5]),width = 1000)\n\nfig2.update_layout(\n    title={\n        'text': r'$y = \\sin(kx - \\omega t)$',\n        'y':0.85,\n        'x':0.5,\n        'xanchor': 'center',\n        'yanchor': 'top'})\n\nfig2.update_xaxes(\n        title_text = r\"$x$\",\n        title_standoff = 15,\n        ticks = 'outside',\n        ticklen = 10,\n        tickcolor='white')\n\nfig2.update_yaxes(\n        title_text = '',\n        title_standoff = 25,\n        ticks = 'outside',\n        ticklen = 10,\n        tickcolor = 'white')\n\n\nline2 = fig2.add_trace(go.Scatter(x=xs2, y=traveling_wave(1, 0, xs2, 0),\n                    mode='lines',\n                    name='lines'))\n\nbslider = widgets.FloatSlider(\n    value = 3.14,\n    min=0.1,\n    max=10,\n    step=0.02,\n    readout=True,\n    description=r'$k$')\nbslider.layout.width = '400px'\n\nbslider2 = widgets.FloatSlider(\n    value = 0,\n    min=-1,\n    max=1,\n    step=0.1,\n    readout=True,\n    description=r'$\\omega$')\nbslider2.layout.width = '400px'\n\nplay = widgets.Play(\n    interval = 5,\n    value = 0,\n    min=0,\n    max=100,\n    step=1\n)\n\ndef update2(k, omega, time):\n    fig2.data[0].y=traveling_wave(k, omega, xs2, time)\n\nvb2 = VBox((fig2, interactive(update2, k = bslider, omega = bslider2, time = play)))\nvb2",
    "id": "5e458b7955424e7a8375e069017d85a5",
    "idx": 3,
    "time": "2021-02-02T04:54:44.633Z",
    "type": "execution"
   },
   {
    "id": "5e458b7955424e7a8375e069017d85a5",
    "time": "2021-02-02T04:54:45.038Z",
    "type": "completion"
   },
   {
    "code": "import plotly.graph_objs as go\nfrom ipywidgets import interactive, HBox, VBox, widgets, interact\nimport numpy as np\n\nxs2 = np.linspace(0, 5, 500)\n\ndef traveling_wave(k, omega, x, t):\n    return np.sin(k*x - omega*t/10.)\n\nfig2 = go.FigureWidget()\n\nfig2.layout = dict(yaxis=dict(range=[-1,1]), xaxis=dict(range=[0,5]),width = 1000)\n\nfig2.update_layout(\n    title={\n        'text': r'$y = \\sin(kx - \\omega t)$',\n        'y':0.85,\n        'x':0.5,\n        'xanchor': 'center',\n        'yanchor': 'top'})\n\nfig2.update_xaxes(\n        title_text = r\"$x$\",\n        title_standoff = 15,\n        ticks = 'outside',\n        ticklen = 10,\n        tickcolor='white')\n\nfig2.update_yaxes(\n        title_text = '',\n        title_standoff = 25,\n        ticks = 'outside',\n        ticklen = 10,\n        tickcolor = 'white')\n\n\nline2 = fig2.add_trace(go.Scatter(x=xs2, y=traveling_wave(1, 0, xs2, 0),\n                    mode='lines',\n                    name='lines'))\n\nbslider = widgets.FloatSlider(\n    value = 3.14,\n    min=0.1,\n    max=10,\n    step=0.02,\n    readout=True,\n    description=r'$k$')\nbslider.layout.width = '400px'\n\nbslider2 = widgets.FloatSlider(\n    value = 0,\n    min=-1,\n    max=1,\n    step=0.1,\n    readout=True,\n    description=r'$\\omega$')\nbslider2.layout.width = '400px'\n\nplay = widgets.Play(\n    interval = 20,\n    value = 0,\n    min=0,\n    max=100,\n    step=1\n)\n\ndef update2(k, omega, time):\n    fig2.data[0].y=traveling_wave(k, omega, xs2, time)\n\nvb2 = VBox((fig2, interactive(update2, k = bslider, omega = bslider2, time = play)))\nvb2",
    "id": "5e458b7955424e7a8375e069017d85a5",
    "idx": 3,
    "time": "2021-02-02T04:56:20.726Z",
    "type": "execution"
   },
   {
    "id": "5e458b7955424e7a8375e069017d85a5",
    "time": "2021-02-02T04:56:21.125Z",
    "type": "completion"
   },
   {
    "code": "import plotly.graph_objs as go\nfrom ipywidgets import interactive, HBox, VBox, widgets, interact\nimport numpy as np\n\nxs2 = np.linspace(0, 5, 500)\n\ndef traveling_wave(k, omega, x, t):\n    return np.sin(k*x - omega*t/10.)\n\nfig2 = go.FigureWidget()\n\nfig2.layout = dict(yaxis=dict(range=[-1,1]), xaxis=dict(range=[0,5]),width = 1000)\n\nfig2.update_layout(\n    title={\n        'text': r'$y = \\sin(kx - \\omega t)$',\n        'y':0.85,\n        'x':0.5,\n        'xanchor': 'center',\n        'yanchor': 'top'})\n\nfig2.update_xaxes(\n        title_text = r\"$x$\",\n        title_standoff = 15,\n        ticks = 'outside',\n        ticklen = 10,\n        tickcolor='white')\n\nfig2.update_yaxes(\n        title_text = '',\n        title_standoff = 25,\n        ticks = 'outside',\n        ticklen = 10,\n        tickcolor = 'white')\n\n\nline2 = fig2.add_trace(go.Scatter(x=xs2, y=traveling_wave(1, 0, xs2, 0),\n                    mode='lines',\n                    name='lines'))\n\nbslider = widgets.FloatSlider(\n    value = 3.14,\n    min=0.1,\n    max=10,\n    step=0.02,\n    readout=True,\n    description=r'$k$')\nbslider.layout.width = '400px'\n\nbslider2 = widgets.FloatSlider(\n    value = 0,\n    min=-1,\n    max=1,\n    step=0.1,\n    readout=True,\n    description=r'$\\omega$')\nbslider2.layout.width = '400px'\n\nplay = widgets.Play(\n    interval = 5,\n    value = 0,\n    min=0,\n    max=500,\n    step=1\n)\n\ndef update2(k, omega, time):\n    fig2.data[0].y=traveling_wave(k, omega, xs2, time)\n\nvb2 = VBox((fig2, interactive(update2, k = bslider, omega = bslider2, time = play)))\nvb2",
    "id": "5e458b7955424e7a8375e069017d85a5",
    "idx": 3,
    "time": "2021-02-02T04:56:47.564Z",
    "type": "execution"
   },
   {
    "id": "5e458b7955424e7a8375e069017d85a5",
    "time": "2021-02-02T04:56:47.922Z",
    "type": "completion"
   },
   {
    "code": "from IPython.display import HTML\n\nHTML('''<script>\ncode_show=true; \nfunction code_toggle() {\n if (code_show){\n $('div.input').hide();\n } else {\n $('div.input').show();\n }\n code_show = !code_show\n} \n$( document ).ready(code_toggle);\n</script>\n<form action=\"javascript:code_toggle()\"><input type=\"submit\" value=\"Click here to toggle on/off the raw code.\"></form>''')",
    "id": "14ecfad3ca344ae181ca5b2ef5fc8090",
    "idx": 1,
    "time": "2021-02-02T05:34:18.695Z",
    "type": "execution"
   },
   {
    "code": "import plotly.graph_objs as go\nfrom ipywidgets import interactive, HBox, VBox, widgets, interact\nimport numpy as np\n\nxs = np.linspace(0, 5, 1000)\n\ndef wave(f, phi, x):\n    return np.sin(2*np.pi*f*x + phi)\n\nfig = go.FigureWidget()\n\nfig.layout = dict(yaxis=dict(range=[-1,1]), xaxis=dict(range=[0,5]),width = 1000)\n\nfig.update_layout(\n    title={\n        'text': r'$y = \\sin(2 \\pi f x + \\phi)$',\n        'y':0.85,\n        'x':0.5,\n        'xanchor': 'center',\n        'yanchor': 'top'})\n\nfig.update_xaxes(\n        title_text = r\"$x$\",\n        title_standoff = 15,\n        ticks = 'outside',\n        ticklen = 10,\n        tickcolor='white')\n\nfig.update_yaxes(\n        title_text = '',\n        title_standoff = 25,\n        ticks = 'outside',\n        ticklen = 10,\n        tickcolor = 'white')\n\n\nline = fig.add_trace(go.Scatter(x=xs, y=wave(1, 0, xs),\n                    mode='lines',\n                    name='lines'))\n\nslider = widgets.FloatSlider(\n    value = 1,\n    min=0.1,\n    max=10,\n    step=0.1,\n    readout=True,\n    description=r'$f$')\nslider.layout.width = '400px'\n\nslider2 = widgets.FloatSlider(\n    value = 0,\n    min=-3.14,\n    max=3.14,\n    step=0.01,\n    readout=True,\n    description=r'$\\phi$')\nslider2.layout.width = '400px'\n\n\n# our function that will modify the xaxis range\ndef update_range(frequency, phi):\n    fig.data[0].y=wave(frequency, phi, xs)\n\n\n# display the FigureWidget and slider with center justification\nvb = VBox((fig, interactive(update_range, frequency = slider, phi = slider2)))\nvb.layout.align_items = 'center'\nvb",
    "id": "e0da0e6c560148f290abcf2a2deee6bb",
    "idx": 2,
    "time": "2021-02-02T05:34:18.700Z",
    "type": "execution"
   },
   {
    "code": "import plotly.graph_objs as go\nfrom ipywidgets import interactive, HBox, VBox, widgets, interact\nimport numpy as np\n\nxs2 = np.linspace(0, 5, 500)\n\ndef traveling_wave(k, omega, x, t):\n    return np.sin(k*x - omega*t/10.)\n\nfig2 = go.FigureWidget()\n\nfig2.layout = dict(yaxis=dict(range=[-1,1]), xaxis=dict(range=[0,5]),width = 1000)\n\nfig2.update_layout(\n    title={\n        'text': r'$y = \\sin(kx - \\omega t)$',\n        'y':0.85,\n        'x':0.5,\n        'xanchor': 'center',\n        'yanchor': 'top'})\n\nfig2.update_xaxes(\n        title_text = r\"$x$\",\n        title_standoff = 15,\n        ticks = 'outside',\n        ticklen = 10,\n        tickcolor='white')\n\nfig2.update_yaxes(\n        title_text = '',\n        title_standoff = 25,\n        ticks = 'outside',\n        ticklen = 10,\n        tickcolor = 'white')\n\n\nline2 = fig2.add_trace(go.Scatter(x=xs2, y=traveling_wave(1, 0, xs2, 0),\n                    mode='lines',\n                    name='lines'))\n\nbslider = widgets.FloatSlider(\n    value = 3.14,\n    min=0.1,\n    max=10,\n    step=0.02,\n    readout=True,\n    description=r'$k$')\nbslider.layout.width = '400px'\n\nbslider2 = widgets.FloatSlider(\n    value = 0,\n    min=-1,\n    max=1,\n    step=0.1,\n    readout=True,\n    description=r'$\\omega$')\nbslider2.layout.width = '400px'\n\nplay = widgets.Play(\n    interval = 5,\n    value = 0,\n    min=0,\n    max=500,\n    step=1\n)\n\ndef update2(k, omega, time):\n    fig2.data[0].y=traveling_wave(k, omega, xs2, time)\n\nvb2 = VBox((fig2, interactive(update2, k = bslider, omega = bslider2, time = play)))\nvb2",
    "id": "1af8e08f7af9455e8968110dd91aca5f",
    "idx": 3,
    "time": "2021-02-02T05:34:18.702Z",
    "type": "execution"
   },
   {
    "code": "from IPython.display import Audio,display\n\ndef play(f1, f2, sec=3):\n    framerate = 44100 # <- rate of sampling\n    t = np.linspace(0, sec, framerate * sec) # <- setup time values\n    data = np.sin(2 * np.pi * f1 * t) + np.sin(2 * np.pi * f2 * t) # <- sine function formula\n    display(InvisibleAudio(data, rate=framerate, autoplay=True)) # play the generated sound\n    return t[:2000], data[:2000]\n    \n\nclass InvisibleAudio(Audio):\n    def _repr_html_(self):\n        audio = super()._repr_html_()\n        audio = audio.replace('<audio', f'<audio onended=\"this.parentNode.removeChild(this)\"')\n        return f'<div style=\"display:none\">{audio}</div>'\n",
    "id": "297ed9e6ebdb4d2683a2230b6d1c4b18",
    "idx": 4,
    "time": "2021-02-02T05:34:18.703Z",
    "type": "execution"
   },
   {
    "code": "xs3 = np.linspace(0, 0.2, 1000)\n\nf1 = widgets.IntSlider(value = 80, min = 1, max = 600, step = 1, description = \"frequency 1\")\nf1.layout.width = '400px'\nf2 = widgets.IntSlider(value = 80, min = 1, max = 600, step = 1, description = \"frequency 2\")\nf2.layout.width = '400px'\n\n#xslider = widgets.FloatSlider(value = 0.05, min = 0.01, max = 1, step = 0.01, description = \"xrange\")\n#xslider.layout.width = '400px'\n\nbutton = widgets.Button(description='Play Sound')\nout3 = widgets.Output()\nfig3 = go.FigureWidget()\n\nfig3.add_trace(go.Scatter(x=xs3, y=np.sin(2*np.pi*80*xs3) + np.sin(2*np.pi*80*xs),\n                    mode='lines',\n                    name='sum'))\nfig3.add_trace(go.Scatter(x = xs3, y = np.sin(2*np.pi*80*xs3), mode = \"lines\", opacity = 0.2, name = \"frequency 1\"))\nfig3.add_trace(go.Scatter(x = xs3, y = np.sin(2*np.pi*80*xs3), mode = \"lines\", opacity = 0.2, name = \"frequency 2\"))\n\nfig3.layout = dict(yaxis=dict(range=[-2,2]), xaxis=dict(range=[0,0.2]),width = 900)\n\nfig3.update_layout(\n    title={\n        'text': r'$y = \\sin(2 \\pi f_1 t) + \\sin(2 \\pi f_2 t)$',\n        'y':0.85,\n        'x':0.5,\n        'xanchor': 'center',\n        'yanchor': 'top'})\n\nfig3.update_xaxes(\n        title_text = r\"$t$\",\n        title_standoff = 15,\n        ticks = 'outside',\n        ticklen = 10,\n        tickcolor='white')\n\nfig3.update_yaxes(\n        title_text = '',\n        title_standoff = 25,\n        ticks = 'outside',\n        ticklen = 10,\n        tickcolor = 'white')\n\nfig3.update_layout(showlegend=False)\n\ndef on_button_clicked(_):\n\n    t, data = play(f1.value, f2.value)\n    \n\ndef update_trace(freq1, freq2):\n    \n    fig3.data[0].y = np.sin(2*np.pi*freq1*xs3) + np.sin(2*np.pi*freq2*xs3)\n    fig3.data[1].y = np.sin(2*np.pi*freq1*xs3)\n    fig3.data[2].y = np.sin(2*np.pi*freq2*xs3)\n\n# linking button and function together using a button's method\nbutton.on_click(on_button_clicked)\n# displaying button and its output together\nwidgets.VBox([fig3,button,out3])\n\nvb = widgets.VBox((fig3, interactive(update_trace, freq1 = f1, freq2 = f2), button))\nvb.layout.align_items = 'center'\nvb\n",
    "id": "f326e375158445f6a60ddb4cecbe027b",
    "idx": 5,
    "time": "2021-02-02T05:34:18.706Z",
    "type": "execution"
   },
   {
    "code": "import plotly.graph_objs as go\nfrom ipywidgets import interactive, HBox, VBox, widgets, interact\nimport numpy as np\n\nxs = np.linspace(0, 5, 1000)\n\ndef wave(f, phi, x):\n    return np.sin(2*np.pi*f*x + phi)\n\nfig = go.FigureWidget()\n\nfig.layout = dict(yaxis=dict(range=[-1,1]), xaxis=dict(range=[0,5]),width = 1000)\n\nfig.update_layout(\n    title={\n        'text': r'$y = \\sin(2 \\pi f x + \\phi)$',\n        'y':0.85,\n        'x':0.5,\n        'xanchor': 'center',\n        'yanchor': 'top'})\n\nfig.update_xaxes(\n        title_text = r\"$x$\",\n        title_standoff = 15,\n        ticks = 'outside',\n        ticklen = 10,\n        tickcolor='white')\n\nfig.update_yaxes(\n        title_text = '',\n        title_standoff = 25,\n        ticks = 'outside',\n        ticklen = 10,\n        tickcolor = 'white')\n\n\nline = fig.add_trace(go.Scatter(x=xs, y=wave(1, 0, xs),\n                    mode='lines',\n                    name='lines'))\n\nslider = widgets.FloatSlider(\n    value = 1,\n    min=0.1,\n    max=10,\n    step=0.1,\n    readout=True,\n    description=r'$f$')\nslider.layout.width = '400px'\n\nslider2 = widgets.FloatSlider(\n    value = 0,\n    min=-3.14,\n    max=3.14,\n    step=0.01,\n    readout=True,\n    description=r'$\\phi$')\nslider2.layout.width = '400px'\n\n\n# our function that will modify the xaxis range\ndef update_range(frequency, phi):\n    fig.data[0].y=wave(frequency, phi, xs)\n\n\n# display the FigureWidget and slider with center justification\nvb = VBox((fig, interactive(update_range, frequency = slider, phi = slider2)))\nvb.layout.align_items = 'center'\nvb",
    "id": "af8c8e92de30497d890af9671c4d2c57",
    "idx": 1,
    "time": "2021-02-02T05:43:00.245Z",
    "type": "execution"
   },
   {
    "code": "import plotly.graph_objs as go\nfrom ipywidgets import interactive, HBox, VBox, widgets, interact\nimport numpy as np\n\nxs2 = np.linspace(0, 5, 500)\n\ndef traveling_wave(k, omega, x, t):\n    return np.sin(k*x - omega*t/10.)\n\nfig2 = go.FigureWidget()\n\nfig2.layout = dict(yaxis=dict(range=[-1,1]), xaxis=dict(range=[0,5]),width = 1000)\n\nfig2.update_layout(\n    title={\n        'text': r'$y = \\sin(kx - \\omega t)$',\n        'y':0.85,\n        'x':0.5,\n        'xanchor': 'center',\n        'yanchor': 'top'})\n\nfig2.update_xaxes(\n        title_text = r\"$x$\",\n        title_standoff = 15,\n        ticks = 'outside',\n        ticklen = 10,\n        tickcolor='white')\n\nfig2.update_yaxes(\n        title_text = '',\n        title_standoff = 25,\n        ticks = 'outside',\n        ticklen = 10,\n        tickcolor = 'white')\n\n\nline2 = fig2.add_trace(go.Scatter(x=xs2, y=traveling_wave(1, 0, xs2, 0),\n                    mode='lines',\n                    name='lines'))\n\nbslider = widgets.FloatSlider(\n    value = 3.14,\n    min=0.1,\n    max=10,\n    step=0.02,\n    readout=True,\n    description=r'$k$')\nbslider.layout.width = '400px'\n\nbslider2 = widgets.FloatSlider(\n    value = 0,\n    min=-1,\n    max=1,\n    step=0.1,\n    readout=True,\n    description=r'$\\omega$')\nbslider2.layout.width = '400px'\n\nplay = widgets.Play(\n    interval = 5,\n    value = 0,\n    min=0,\n    max=500,\n    step=1\n)\n\ndef update2(k, omega, time):\n    fig2.data[0].y=traveling_wave(k, omega, xs2, time)\n\nvb2 = VBox((fig2, interactive(update2, k = bslider, omega = bslider2, time = play)))\nvb2",
    "id": "79e82abebd21463fb086a773dac44ebf",
    "idx": 2,
    "time": "2021-02-02T05:43:00.851Z",
    "type": "execution"
   },
   {
    "id": "af8c8e92de30497d890af9671c4d2c57",
    "time": "2021-02-02T05:43:01.160Z",
    "type": "completion"
   },
   {
    "id": "79e82abebd21463fb086a773dac44ebf",
    "time": "2021-02-02T05:43:01.377Z",
    "type": "completion"
   },
   {
    "code": "from IPython.display import Audio,display\n\ndef play(f1, f2, sec=3):\n    framerate = 44100 # <- rate of sampling\n    t = np.linspace(0, sec, framerate * sec) # <- setup time values\n    data = np.sin(2 * np.pi * f1 * t) + np.sin(2 * np.pi * f2 * t) # <- sine function formula\n    display(InvisibleAudio(data, rate=framerate, autoplay=True)) # play the generated sound\n    return t[:2000], data[:2000]\n    \n\nclass InvisibleAudio(Audio):\n    def _repr_html_(self):\n        audio = super()._repr_html_()\n        audio = audio.replace('<audio', f'<audio onended=\"this.parentNode.removeChild(this)\"')\n        return f'<div style=\"display:none\">{audio}</div>'\n",
    "id": "6300720a71bb4915944e609a424da9d8",
    "idx": 3,
    "time": "2021-02-02T05:43:03.748Z",
    "type": "execution"
   },
   {
    "id": "6300720a71bb4915944e609a424da9d8",
    "time": "2021-02-02T05:43:03.811Z",
    "type": "completion"
   },
   {
    "code": "xs3 = np.linspace(0, 0.2, 1000)\n\nf1 = widgets.IntSlider(value = 80, min = 1, max = 600, step = 1, description = \"frequency 1\")\nf1.layout.width = '400px'\nf2 = widgets.IntSlider(value = 80, min = 1, max = 600, step = 1, description = \"frequency 2\")\nf2.layout.width = '400px'\n\n#xslider = widgets.FloatSlider(value = 0.05, min = 0.01, max = 1, step = 0.01, description = \"xrange\")\n#xslider.layout.width = '400px'\n\nbutton = widgets.Button(description='Play Sound')\nout3 = widgets.Output()\nfig3 = go.FigureWidget()\n\nfig3.add_trace(go.Scatter(x=xs3, y=np.sin(2*np.pi*80*xs3) + np.sin(2*np.pi*80*xs),\n                    mode='lines',\n                    name='sum'))\nfig3.add_trace(go.Scatter(x = xs3, y = np.sin(2*np.pi*80*xs3), mode = \"lines\", opacity = 0.2, name = \"frequency 1\"))\nfig3.add_trace(go.Scatter(x = xs3, y = np.sin(2*np.pi*80*xs3), mode = \"lines\", opacity = 0.2, name = \"frequency 2\"))\n\nfig3.layout = dict(yaxis=dict(range=[-2,2]), xaxis=dict(range=[0,0.2]),width = 900)\n\nfig3.update_layout(\n    title={\n        'text': r'$y = \\sin(2 \\pi f_1 t) + \\sin(2 \\pi f_2 t)$',\n        'y':0.85,\n        'x':0.5,\n        'xanchor': 'center',\n        'yanchor': 'top'})\n\nfig3.update_xaxes(\n        title_text = r\"$t$\",\n        title_standoff = 15,\n        ticks = 'outside',\n        ticklen = 10,\n        tickcolor='white')\n\nfig3.update_yaxes(\n        title_text = '',\n        title_standoff = 25,\n        ticks = 'outside',\n        ticklen = 10,\n        tickcolor = 'white')\n\nfig3.update_layout(showlegend=False)\n\ndef on_button_clicked(_):\n\n    t, data = play(f1.value, f2.value)\n    \n\ndef update_trace(freq1, freq2):\n    \n    fig3.data[0].y = np.sin(2*np.pi*freq1*xs3) + np.sin(2*np.pi*freq2*xs3)\n    fig3.data[1].y = np.sin(2*np.pi*freq1*xs3)\n    fig3.data[2].y = np.sin(2*np.pi*freq2*xs3)\n\n# linking button and function together using a button's method\nbutton.on_click(on_button_clicked)\n# displaying button and its output together\nwidgets.VBox([fig3,button,out3])\n\nvb = widgets.VBox((fig3, interactive(update_trace, freq1 = f1, freq2 = f2), button))\nvb.layout.align_items = 'center'\nvb\n",
    "id": "05aa2354f6b041578bb78feaed587b81",
    "idx": 4,
    "time": "2021-02-02T05:43:04.440Z",
    "type": "execution"
   },
   {
    "id": "05aa2354f6b041578bb78feaed587b81",
    "time": "2021-02-02T05:43:05.043Z",
    "type": "completion"
   },
   {
    "code": "xs3 = np.linspace(0, 0.2, 1000)\n\nf1 = widgets.IntSlider(value = 1, min = 1, max = 600, step = 1, description = \"frequency 1\")\nf1.layout.width = '400px'\nf2 = widgets.IntSlider(value = 1, min = 1, max = 600, step = 1, description = \"frequency 2\")\nf2.layout.width = '400px'\n\n#xslider = widgets.FloatSlider(value = 0.05, min = 0.01, max = 1, step = 0.01, description = \"xrange\")\n#xslider.layout.width = '400px'\n\nbutton = widgets.Button(description='Play Sound')\nout3 = widgets.Output()\nfig3 = go.FigureWidget()\n\nfig3.add_trace(go.Scatter(x=xs3, y=np.sin(2*np.pi*1*xs3) + np.sin(2*np.pi*1*xs),\n                    mode='lines',\n                    name='sum'))\nfig3.add_trace(go.Scatter(x = xs3, y = np.sin(2*np.pi*80*xs3), mode = \"lines\", opacity = 0.2, name = \"frequency 1\"))\nfig3.add_trace(go.Scatter(x = xs3, y = np.sin(2*np.pi*80*xs3), mode = \"lines\", opacity = 0.2, name = \"frequency 2\"))\n\nfig3.layout = dict(yaxis=dict(range=[-2,2]), xaxis=dict(range=[0,0.2]),width = 900)\n\nfig3.update_layout(\n    title={\n        'text': r'$y = \\sin(2 \\pi f_1 t) + \\sin(2 \\pi f_2 t)$',\n        'y':0.85,\n        'x':0.5,\n        'xanchor': 'center',\n        'yanchor': 'top'})\n\nfig3.update_xaxes(\n        title_text = r\"$t$\",\n        title_standoff = 15,\n        ticks = 'outside',\n        ticklen = 10,\n        tickcolor='white')\n\nfig3.update_yaxes(\n        title_text = '',\n        title_standoff = 25,\n        ticks = 'outside',\n        ticklen = 10,\n        tickcolor = 'white')\n\nfig3.update_layout(showlegend=False)\n\ndef on_button_clicked(_):\n\n    t, data = play(f1.value, f2.value)\n    \n\ndef update_trace(freq1, freq2):\n    \n    fig3.data[0].y = np.sin(2*np.pi*freq1*xs3) + np.sin(2*np.pi*freq2*xs3)\n    fig3.data[1].y = np.sin(2*np.pi*freq1*xs3)\n    fig3.data[2].y = np.sin(2*np.pi*freq2*xs3)\n\n# linking button and function together using a button's method\nbutton.on_click(on_button_clicked)\n# displaying button and its output together\nwidgets.VBox([fig3,button,out3])\n\nvb = widgets.VBox((fig3, interactive(update_trace, freq1 = f1, freq2 = f2), button))\nvb.layout.align_items = 'center'\nvb",
    "id": "05aa2354f6b041578bb78feaed587b81",
    "idx": 4,
    "time": "2021-02-02T05:44:27.427Z",
    "type": "execution"
   },
   {
    "code": "import plotly.graph_objs as go\nfrom ipywidgets import interactive, HBox, VBox, widgets, interact\nimport numpy as np\n\nxs = np.linspace(0, 5, 1000)\n\ndef wave(f, phi, x):\n    return np.sin(2*np.pi*f*x + phi)\n\nfig = go.FigureWidget()\n\nfig.layout = dict(yaxis=dict(range=[-1,1]), xaxis=dict(range=[0,5]),width = 1000)\n\nfig.update_layout(\n    title={\n        'text': r'$y = \\sin(2 \\pi f x + \\phi)$',\n        'y':0.85,\n        'x':0.5,\n        'xanchor': 'center',\n        'yanchor': 'top'})\n\nfig.update_xaxes(\n        title_text = r\"$x$\",\n        title_standoff = 15,\n        ticks = 'outside',\n        ticklen = 10,\n        tickcolor='white')\n\nfig.update_yaxes(\n        title_text = '',\n        title_standoff = 25,\n        ticks = 'outside',\n        ticklen = 10,\n        tickcolor = 'white')\n\n\nline = fig.add_trace(go.Scatter(x=xs, y=wave(1, 0, xs),\n                    mode='lines',\n                    name='lines'))\n\nslider = widgets.FloatSlider(\n    value = 1,\n    min=0.1,\n    max=10,\n    step=0.1,\n    readout=True,\n    description=r'$f$')\nslider.layout.width = '400px'\n\nslider2 = widgets.FloatSlider(\n    value = 0,\n    min=-3.14,\n    max=3.14,\n    step=0.01,\n    readout=True,\n    description=r'$\\phi$')\nslider2.layout.width = '400px'\n\n\n# our function that will modify the xaxis range\ndef update_range(frequency, phi):\n    fig.data[0].y=wave(frequency, phi, xs)\n\n\n# display the FigureWidget and slider with center justification\nvb = VBox((fig, interactive(update_range, frequency = slider, phi = slider2)))\nvb.layout.align_items = 'center'\nvb",
    "id": "a284ad5e5c9a49b78c46d0908227ce85",
    "idx": 1,
    "time": "2021-02-02T05:45:03.594Z",
    "type": "execution"
   },
   {
    "code": "import plotly.graph_objs as go\nfrom ipywidgets import interactive, HBox, VBox, widgets, interact\nimport numpy as np\n\nxs2 = np.linspace(0, 5, 500)\n\ndef traveling_wave(k, omega, x, t):\n    return np.sin(k*x - omega*t/10.)\n\nfig2 = go.FigureWidget()\n\nfig2.layout = dict(yaxis=dict(range=[-1,1]), xaxis=dict(range=[0,5]),width = 1000)\n\nfig2.update_layout(\n    title={\n        'text': r'$y = \\sin(kx - \\omega t)$',\n        'y':0.85,\n        'x':0.5,\n        'xanchor': 'center',\n        'yanchor': 'top'})\n\nfig2.update_xaxes(\n        title_text = r\"$x$\",\n        title_standoff = 15,\n        ticks = 'outside',\n        ticklen = 10,\n        tickcolor='white')\n\nfig2.update_yaxes(\n        title_text = '',\n        title_standoff = 25,\n        ticks = 'outside',\n        ticklen = 10,\n        tickcolor = 'white')\n\n\nline2 = fig2.add_trace(go.Scatter(x=xs2, y=traveling_wave(1, 0, xs2, 0),\n                    mode='lines',\n                    name='lines'))\n\nbslider = widgets.FloatSlider(\n    value = 3.14,\n    min=0.1,\n    max=10,\n    step=0.02,\n    readout=True,\n    description=r'$k$')\nbslider.layout.width = '400px'\n\nbslider2 = widgets.FloatSlider(\n    value = 0,\n    min=-1,\n    max=1,\n    step=0.1,\n    readout=True,\n    description=r'$\\omega$')\nbslider2.layout.width = '400px'\n\nplay = widgets.Play(\n    interval = 5,\n    value = 0,\n    min=0,\n    max=500,\n    step=1\n)\n\ndef update2(k, omega, time):\n    fig2.data[0].y=traveling_wave(k, omega, xs2, time)\n\nvb2 = VBox((fig2, interactive(update2, k = bslider, omega = bslider2, time = play)))\nvb2",
    "id": "391ceb18689f40fd8c8686c393d2953d",
    "idx": 2,
    "time": "2021-02-02T05:45:03.597Z",
    "type": "execution"
   },
   {
    "code": "from IPython.display import Audio,display\n\ndef play(f1, f2, sec=3):\n    framerate = 44100 # <- rate of sampling\n    t = np.linspace(0, sec, framerate * sec) # <- setup time values\n    data = np.sin(2 * np.pi * f1 * t) + np.sin(2 * np.pi * f2 * t) # <- sine function formula\n    display(InvisibleAudio(data, rate=framerate, autoplay=True)) # play the generated sound\n    return t[:2000], data[:2000]\n    \n\nclass InvisibleAudio(Audio):\n    def _repr_html_(self):\n        audio = super()._repr_html_()\n        audio = audio.replace('<audio', f'<audio onended=\"this.parentNode.removeChild(this)\"')\n        return f'<div style=\"display:none\">{audio}</div>'\n",
    "id": "27db138884bb440c9eece3282d23fef2",
    "idx": 3,
    "time": "2021-02-02T05:45:03.598Z",
    "type": "execution"
   },
   {
    "code": "xs3 = np.linspace(0, 0.2, 1000)\n\nf1 = widgets.IntSlider(value = 1, min = 1, max = 600, step = 1, description = \"frequency 1\")\nf1.layout.width = '400px'\nf2 = widgets.IntSlider(value = 1, min = 1, max = 600, step = 1, description = \"frequency 2\")\nf2.layout.width = '400px'\n\n#xslider = widgets.FloatSlider(value = 0.05, min = 0.01, max = 1, step = 0.01, description = \"xrange\")\n#xslider.layout.width = '400px'\n\nbutton = widgets.Button(description='Play Sound')\nout3 = widgets.Output()\nfig3 = go.FigureWidget()\n\nfig3.add_trace(go.Scatter(x=xs3, y=np.sin(2*np.pi*1*xs3) + np.sin(2*np.pi*1*xs),\n                    mode='lines',\n                    name='sum'))\nfig3.add_trace(go.Scatter(x = xs3, y = np.sin(2*np.pi*80*xs3), mode = \"lines\", opacity = 0.2, name = \"frequency 1\"))\nfig3.add_trace(go.Scatter(x = xs3, y = np.sin(2*np.pi*80*xs3), mode = \"lines\", opacity = 0.2, name = \"frequency 2\"))\n\nfig3.layout = dict(yaxis=dict(range=[-2,2]), xaxis=dict(range=[0,0.2]),width = 900)\n\nfig3.update_layout(\n    title={\n        'text': r'$y = \\sin(2 \\pi f_1 t) + \\sin(2 \\pi f_2 t)$',\n        'y':0.85,\n        'x':0.5,\n        'xanchor': 'center',\n        'yanchor': 'top'})\n\nfig3.update_xaxes(\n        title_text = r\"$t$\",\n        title_standoff = 15,\n        ticks = 'outside',\n        ticklen = 10,\n        tickcolor='white')\n\nfig3.update_yaxes(\n        title_text = '',\n        title_standoff = 25,\n        ticks = 'outside',\n        ticklen = 10,\n        tickcolor = 'white')\n\nfig3.update_layout(showlegend=False)\n\ndef on_button_clicked(_):\n\n    t, data = play(f1.value, f2.value)\n    \n\ndef update_trace(freq1, freq2):\n    \n    fig3.data[0].y = np.sin(2*np.pi*freq1*xs3) + np.sin(2*np.pi*freq2*xs3)\n    fig3.data[1].y = np.sin(2*np.pi*freq1*xs3)\n    fig3.data[2].y = np.sin(2*np.pi*freq2*xs3)\n\n# linking button and function together using a button's method\nbutton.on_click(on_button_clicked)\n# displaying button and its output together\nwidgets.VBox([fig3,button,out3])\n\nvb = widgets.VBox((fig3, interactive(update_trace, freq1 = f1, freq2 = f2), button))\nvb.layout.align_items = 'center'\nvb",
    "id": "1b833608364a4d3d89ceb45d116c7b73",
    "idx": 4,
    "time": "2021-02-02T05:45:03.599Z",
    "type": "execution"
   },
   {
    "id": "a284ad5e5c9a49b78c46d0908227ce85",
    "time": "2021-02-02T05:45:04.323Z",
    "type": "completion"
   },
   {
    "id": "391ceb18689f40fd8c8686c393d2953d",
    "time": "2021-02-02T05:45:04.642Z",
    "type": "completion"
   },
   {
    "id": "27db138884bb440c9eece3282d23fef2",
    "time": "2021-02-02T05:45:04.643Z",
    "type": "completion"
   },
   {
    "id": "1b833608364a4d3d89ceb45d116c7b73",
    "time": "2021-02-02T05:45:05.023Z",
    "type": "completion"
   },
   {
    "code": "from IPython.display import HTML\n\nHTML('''<script>\ncode_show=true; \nfunction code_toggle() {\n if (code_show){\n $('div.input').hide();\n } else {\n $('div.input').show();\n }\n code_show = !code_show\n} \n$( document ).ready(code_toggle);\n</script>\n<form action=\"javascript:code_toggle()\"><input type=\"submit\" value=\"Click here to toggle on/off the raw code.\"></form>''')",
    "id": "4e941f0a72f04b799d557d1ccb19ad6e",
    "idx": 1,
    "time": "2021-02-02T05:46:37.951Z",
    "type": "execution"
   },
   {
    "code": "import plotly.graph_objs as go\nfrom ipywidgets import interactive, HBox, VBox, widgets, interact\nimport numpy as np\n\nxs = np.linspace(0, 5, 1000)\n\ndef wave(f, phi, x):\n    return np.sin(2*np.pi*f*x + phi)\n\nfig = go.FigureWidget()\n\nfig.layout = dict(yaxis=dict(range=[-1,1]), xaxis=dict(range=[0,5]),width = 1000)\n\nfig.update_layout(\n    title={\n        'text': r'$y = \\sin(2 \\pi f x + \\phi)$',\n        'y':0.85,\n        'x':0.5,\n        'xanchor': 'center',\n        'yanchor': 'top'})\n\nfig.update_xaxes(\n        title_text = r\"$x$\",\n        title_standoff = 15,\n        ticks = 'outside',\n        ticklen = 10,\n        tickcolor='white')\n\nfig.update_yaxes(\n        title_text = '',\n        title_standoff = 25,\n        ticks = 'outside',\n        ticklen = 10,\n        tickcolor = 'white')\n\n\nline = fig.add_trace(go.Scatter(x=xs, y=wave(1, 0, xs),\n                    mode='lines',\n                    name='lines'))\n\nslider = widgets.FloatSlider(\n    value = 1,\n    min=0.1,\n    max=10,\n    step=0.1,\n    readout=True,\n    description=r'$f$')\nslider.layout.width = '400px'\n\nslider2 = widgets.FloatSlider(\n    value = 0,\n    min=-3.14,\n    max=3.14,\n    step=0.01,\n    readout=True,\n    description=r'$\\phi$')\nslider2.layout.width = '400px'\n\n\n# our function that will modify the xaxis range\ndef update_range(frequency, phi):\n    fig.data[0].y=wave(frequency, phi, xs)\n\n\n# display the FigureWidget and slider with center justification\nvb = VBox((fig, interactive(update_range, frequency = slider, phi = slider2)))\nvb.layout.align_items = 'center'\nvb",
    "id": "552921d68107496095b56b790172e57e",
    "idx": 2,
    "time": "2021-02-02T05:46:37.955Z",
    "type": "execution"
   },
   {
    "code": "import plotly.graph_objs as go\nfrom ipywidgets import interactive, HBox, VBox, widgets, interact\nimport numpy as np\n\nxs2 = np.linspace(0, 5, 500)\n\ndef traveling_wave(k, omega, x, t):\n    return np.sin(k*x - omega*t/10.)\n\nfig2 = go.FigureWidget()\n\nfig2.layout = dict(yaxis=dict(range=[-1,1]), xaxis=dict(range=[0,5]),width = 1000)\n\nfig2.update_layout(\n    title={\n        'text': r'$y = \\sin(kx - \\omega t)$',\n        'y':0.85,\n        'x':0.5,\n        'xanchor': 'center',\n        'yanchor': 'top'})\n\nfig2.update_xaxes(\n        title_text = r\"$x$\",\n        title_standoff = 15,\n        ticks = 'outside',\n        ticklen = 10,\n        tickcolor='white')\n\nfig2.update_yaxes(\n        title_text = '',\n        title_standoff = 25,\n        ticks = 'outside',\n        ticklen = 10,\n        tickcolor = 'white')\n\n\nline2 = fig2.add_trace(go.Scatter(x=xs2, y=traveling_wave(1, 0, xs2, 0),\n                    mode='lines',\n                    name='lines'))\n\nbslider = widgets.FloatSlider(\n    value = 3.14,\n    min=0.1,\n    max=10,\n    step=0.02,\n    readout=True,\n    description=r'$k$')\nbslider.layout.width = '400px'\n\nbslider2 = widgets.FloatSlider(\n    value = 0,\n    min=-1,\n    max=1,\n    step=0.1,\n    readout=True,\n    description=r'$\\omega$')\nbslider2.layout.width = '400px'\n\nplay = widgets.Play(\n    interval = 5,\n    value = 0,\n    min=0,\n    max=500,\n    step=1\n)\n\ndef update2(k, omega, time):\n    fig2.data[0].y=traveling_wave(k, omega, xs2, time)\n\nvb2 = VBox((fig2, interactive(update2, k = bslider, omega = bslider2, time = play)))\nvb2",
    "id": "b31341bc55a9400d8ac64b4446d030fa",
    "idx": 3,
    "time": "2021-02-02T05:46:37.957Z",
    "type": "execution"
   },
   {
    "code": "from IPython.display import Audio,display\n\ndef play(f1, f2, sec=3):\n    framerate = 44100 # <- rate of sampling\n    t = np.linspace(0, sec, framerate * sec) # <- setup time values\n    data = np.sin(2 * np.pi * f1 * t) + np.sin(2 * np.pi * f2 * t) # <- sine function formula\n    display(InvisibleAudio(data, rate=framerate, autoplay=True)) # play the generated sound\n    return t[:2000], data[:2000]\n    \n\nclass InvisibleAudio(Audio):\n    def _repr_html_(self):\n        audio = super()._repr_html_()\n        audio = audio.replace('<audio', f'<audio onended=\"this.parentNode.removeChild(this)\"')\n        return f'<div style=\"display:none\">{audio}</div>'\n",
    "id": "2c0a38623723448f846cf99e2cacd65b",
    "idx": 4,
    "time": "2021-02-02T05:46:37.959Z",
    "type": "execution"
   },
   {
    "code": "xs3 = np.linspace(0, 0.2, 1000)\n\nf1 = widgets.IntSlider(value = 1, min = 1, max = 600, step = 1, description = \"frequency 1\")\nf1.layout.width = '400px'\nf2 = widgets.IntSlider(value = 1, min = 1, max = 600, step = 1, description = \"frequency 2\")\nf2.layout.width = '400px'\n\n#xslider = widgets.FloatSlider(value = 0.05, min = 0.01, max = 1, step = 0.01, description = \"xrange\")\n#xslider.layout.width = '400px'\n\nbutton = widgets.Button(description='Play Sound')\nout3 = widgets.Output()\nfig3 = go.FigureWidget()\n\nfig3.add_trace(go.Scatter(x=xs3, y=np.sin(2*np.pi*1*xs3) + np.sin(2*np.pi*1*xs),\n                    mode='lines',\n                    name='sum'))\nfig3.add_trace(go.Scatter(x = xs3, y = np.sin(2*np.pi*80*xs3), mode = \"lines\", opacity = 0.2, name = \"frequency 1\"))\nfig3.add_trace(go.Scatter(x = xs3, y = np.sin(2*np.pi*80*xs3), mode = \"lines\", opacity = 0.2, name = \"frequency 2\"))\n\nfig3.layout = dict(yaxis=dict(range=[-2,2]), xaxis=dict(range=[0,0.2]),width = 900)\n\nfig3.update_layout(\n    title={\n        'text': r'$y = \\sin(2 \\pi f_1 t) + \\sin(2 \\pi f_2 t)$',\n        'y':0.85,\n        'x':0.5,\n        'xanchor': 'center',\n        'yanchor': 'top'})\n\nfig3.update_xaxes(\n        title_text = r\"$t$\",\n        title_standoff = 15,\n        ticks = 'outside',\n        ticklen = 10,\n        tickcolor='white')\n\nfig3.update_yaxes(\n        title_text = '',\n        title_standoff = 25,\n        ticks = 'outside',\n        ticklen = 10,\n        tickcolor = 'white')\n\nfig3.update_layout(showlegend=False)\n\ndef on_button_clicked(_):\n\n    t, data = play(f1.value, f2.value)\n    \n\ndef update_trace(freq1, freq2):\n    \n    fig3.data[0].y = np.sin(2*np.pi*freq1*xs3) + np.sin(2*np.pi*freq2*xs3)\n    fig3.data[1].y = np.sin(2*np.pi*freq1*xs3)\n    fig3.data[2].y = np.sin(2*np.pi*freq2*xs3)\n\n# linking button and function together using a button's method\nbutton.on_click(on_button_clicked)\n# displaying button and its output together\nwidgets.VBox([fig3,button,out3])\n\nvb = widgets.VBox((fig3, interactive(update_trace, freq1 = f1, freq2 = f2), button))\nvb.layout.align_items = 'center'\nvb",
    "id": "0da8ae90ba2a4dc48dd67f8065cb65e7",
    "idx": 5,
    "time": "2021-02-02T05:46:37.961Z",
    "type": "execution"
   },
   {
    "id": "4e941f0a72f04b799d557d1ccb19ad6e",
    "time": "2021-02-02T05:46:38.029Z",
    "type": "completion"
   },
   {
    "id": "552921d68107496095b56b790172e57e",
    "time": "2021-02-02T05:46:38.683Z",
    "type": "completion"
   },
   {
    "id": "b31341bc55a9400d8ac64b4446d030fa",
    "time": "2021-02-02T05:46:38.999Z",
    "type": "completion"
   },
   {
    "id": "2c0a38623723448f846cf99e2cacd65b",
    "time": "2021-02-02T05:46:39.008Z",
    "type": "completion"
   },
   {
    "id": "0da8ae90ba2a4dc48dd67f8065cb65e7",
    "time": "2021-02-02T05:46:39.362Z",
    "type": "completion"
   },
   {
    "code": "# linking button and function together using a button's method\nbutton.on_click(on_button_clicked)\n# displaying button and its output together\nwidgets.VBox([fig3,button,out3])\n\nvb = widgets.VBox((fig3, interactive(update_trace, freq1 = f1, freq2 = f2), button))\nvb.layout.align_items = 'center'\nvb",
    "id": "136e5a20d41a46378563bcec02cd7e7e",
    "idx": 6,
    "time": "2021-02-02T05:49:20.945Z",
    "type": "execution"
   },
   {
    "id": "136e5a20d41a46378563bcec02cd7e7e",
    "time": "2021-02-02T05:49:21.215Z",
    "type": "completion"
   },
   {
    "code": "from IPython.display import HTML\n\nHTML('''<script>\ncode_show=true; \nfunction code_toggle() {\n if (code_show){\n $('div.input').hide();\n } else {\n $('div.input').show();\n }\n code_show = !code_show\n} \n$( document ).ready(code_toggle);\n</script>\n<form action=\"javascript:code_toggle()\"><input type=\"submit\" value=\"Click here to toggle on/off the raw code.\"></form>''')",
    "id": "27e3dc05b7774d998fa458eaaa9b263c",
    "idx": 1,
    "time": "2021-02-02T05:49:32.402Z",
    "type": "execution"
   },
   {
    "code": "import plotly.graph_objs as go\nfrom ipywidgets import interactive, HBox, VBox, widgets, interact\nimport numpy as np\n\nxs = np.linspace(0, 5, 1000)\n\ndef wave(f, phi, x):\n    return np.sin(2*np.pi*f*x + phi)\n\nfig = go.FigureWidget()\n\nfig.layout = dict(yaxis=dict(range=[-1,1]), xaxis=dict(range=[0,5]),width = 1000)\n\nfig.update_layout(\n    title={\n        'text': r'$y = \\sin(2 \\pi f x + \\phi)$',\n        'y':0.85,\n        'x':0.5,\n        'xanchor': 'center',\n        'yanchor': 'top'})\n\nfig.update_xaxes(\n        title_text = r\"$x$\",\n        title_standoff = 15,\n        ticks = 'outside',\n        ticklen = 10,\n        tickcolor='white')\n\nfig.update_yaxes(\n        title_text = '',\n        title_standoff = 25,\n        ticks = 'outside',\n        ticklen = 10,\n        tickcolor = 'white')\n\n\nline = fig.add_trace(go.Scatter(x=xs, y=wave(1, 0, xs),\n                    mode='lines',\n                    name='lines'))\n\nslider = widgets.FloatSlider(\n    value = 1,\n    min=0.1,\n    max=10,\n    step=0.1,\n    readout=True,\n    description=r'$f$')\nslider.layout.width = '400px'\n\nslider2 = widgets.FloatSlider(\n    value = 0,\n    min=-3.14,\n    max=3.14,\n    step=0.01,\n    readout=True,\n    description=r'$\\phi$')\nslider2.layout.width = '400px'\n\n\n# our function that will modify the xaxis range\ndef update_range(frequency, phi):\n    fig.data[0].y=wave(frequency, phi, xs)\n\n\n# display the FigureWidget and slider with center justification\nvb = VBox((fig, interactive(update_range, frequency = slider, phi = slider2)))\nvb.layout.align_items = 'center'\nvb",
    "id": "c37b28669fdf46c088476876e501e71c",
    "idx": 2,
    "time": "2021-02-02T05:49:32.420Z",
    "type": "execution"
   },
   {
    "code": "import plotly.graph_objs as go\nfrom ipywidgets import interactive, HBox, VBox, widgets, interact\nimport numpy as np\n\nxs2 = np.linspace(0, 5, 500)\n\ndef traveling_wave(k, omega, x, t):\n    return np.sin(k*x - omega*t/10.)\n\nfig2 = go.FigureWidget()\n\nfig2.layout = dict(yaxis=dict(range=[-1,1]), xaxis=dict(range=[0,5]),width = 1000)\n\nfig2.update_layout(\n    title={\n        'text': r'$y = \\sin(kx - \\omega t)$',\n        'y':0.85,\n        'x':0.5,\n        'xanchor': 'center',\n        'yanchor': 'top'})\n\nfig2.update_xaxes(\n        title_text = r\"$x$\",\n        title_standoff = 15,\n        ticks = 'outside',\n        ticklen = 10,\n        tickcolor='white')\n\nfig2.update_yaxes(\n        title_text = '',\n        title_standoff = 25,\n        ticks = 'outside',\n        ticklen = 10,\n        tickcolor = 'white')\n\n\nline2 = fig2.add_trace(go.Scatter(x=xs2, y=traveling_wave(1, 0, xs2, 0),\n                    mode='lines',\n                    name='lines'))\n\nbslider = widgets.FloatSlider(\n    value = 3.14,\n    min=0.1,\n    max=10,\n    step=0.02,\n    readout=True,\n    description=r'$k$')\nbslider.layout.width = '400px'\n\nbslider2 = widgets.FloatSlider(\n    value = 0,\n    min=-1,\n    max=1,\n    step=0.1,\n    readout=True,\n    description=r'$\\omega$')\nbslider2.layout.width = '400px'\n\nplay = widgets.Play(\n    interval = 5,\n    value = 0,\n    min=0,\n    max=500,\n    step=1\n)\n\ndef update2(k, omega, time):\n    fig2.data[0].y=traveling_wave(k, omega, xs2, time)\n\nvb2 = VBox((fig2, interactive(update2, k = bslider, omega = bslider2, time = play)))\nvb2",
    "id": "16e08c9eee5d411a804ae8c47a38f240",
    "idx": 3,
    "time": "2021-02-02T05:49:32.422Z",
    "type": "execution"
   },
   {
    "code": "from IPython.display import Audio,display\n\ndef play(f1, f2, sec=3):\n    framerate = 44100 # <- rate of sampling\n    t = np.linspace(0, sec, framerate * sec) # <- setup time values\n    data = np.sin(2 * np.pi * f1 * t) + np.sin(2 * np.pi * f2 * t) # <- sine function formula\n    display(InvisibleAudio(data, rate=framerate, autoplay=True)) # play the generated sound\n    return t[:2000], data[:2000]\n    \n\nclass InvisibleAudio(Audio):\n    def _repr_html_(self):\n        audio = super()._repr_html_()\n        audio = audio.replace('<audio', f'<audio onended=\"this.parentNode.removeChild(this)\"')\n        return f'<div style=\"display:none\">{audio}</div>'\n",
    "id": "e1439e76e7cb4172b87d46d4a2dffe5c",
    "idx": 4,
    "time": "2021-02-02T05:49:32.423Z",
    "type": "execution"
   },
   {
    "code": "xs3 = np.linspace(0, 0.2, 1000)\n\nf1 = widgets.IntSlider(value = 1, min = 1, max = 600, step = 1, description = \"frequency 1\")\nf1.layout.width = '400px'\nf2 = widgets.IntSlider(value = 1, min = 1, max = 600, step = 1, description = \"frequency 2\")\nf2.layout.width = '400px'\n\n#xslider = widgets.FloatSlider(value = 0.05, min = 0.01, max = 1, step = 0.01, description = \"xrange\")\n#xslider.layout.width = '400px'\n\nbutton = widgets.Button(description='Play Sound')\nout3 = widgets.Output()\nfig3 = go.FigureWidget()\n\nfig3.add_trace(go.Scatter(x=xs3, y=np.sin(2*np.pi*1*xs3) + np.sin(2*np.pi*1*xs),\n                    mode='lines',\n                    name='sum'))\nfig3.add_trace(go.Scatter(x = xs3, y = np.sin(2*np.pi*80*xs3), mode = \"lines\", opacity = 0.2, name = \"frequency 1\"))\nfig3.add_trace(go.Scatter(x = xs3, y = np.sin(2*np.pi*80*xs3), mode = \"lines\", opacity = 0.2, name = \"frequency 2\"))\n\nfig3.layout = dict(yaxis=dict(range=[-2,2]), xaxis=dict(range=[0,0.2]),width = 900)\n\nfig3.update_layout(\n    title={\n        'text': r'$y = \\sin(2 \\pi f_1 t) + \\sin(2 \\pi f_2 t)$',\n        'y':0.85,\n        'x':0.5,\n        'xanchor': 'center',\n        'yanchor': 'top'})\n\nfig3.update_xaxes(\n        title_text = r\"$t$\",\n        title_standoff = 15,\n        ticks = 'outside',\n        ticklen = 10,\n        tickcolor='white')\n\nfig3.update_yaxes(\n        title_text = '',\n        title_standoff = 25,\n        ticks = 'outside',\n        ticklen = 10,\n        tickcolor = 'white')\n\nfig3.update_layout(showlegend=False)\n\ndef on_button_clicked(_):\n\n    t, data = play(f1.value, f2.value)\n    \n\ndef update_trace(freq1, freq2):\n    \n    fig3.data[0].y = np.sin(2*np.pi*freq1*xs3) + np.sin(2*np.pi*freq2*xs3)\n    fig3.data[1].y = np.sin(2*np.pi*freq1*xs3)\n    fig3.data[2].y = np.sin(2*np.pi*freq2*xs3)\n\n",
    "id": "7cf47e32cc2144ef8898341836c6b89b",
    "idx": 5,
    "time": "2021-02-02T05:49:32.425Z",
    "type": "execution"
   },
   {
    "code": "# linking button and function together using a button's method\nbutton.on_click(on_button_clicked)\n# displaying button and its output together\nwidgets.VBox([fig3,button,out3])\n\nvb = widgets.VBox((fig3, interactive(update_trace, freq1 = f1, freq2 = f2), button))\nvb.layout.align_items = 'center'\nvb",
    "id": "136e5a20d41a46378563bcec02cd7e7e",
    "idx": 6,
    "time": "2021-02-02T05:49:32.427Z",
    "type": "execution"
   },
   {
    "id": "27e3dc05b7774d998fa458eaaa9b263c",
    "time": "2021-02-02T05:49:32.473Z",
    "type": "completion"
   },
   {
    "id": "c37b28669fdf46c088476876e501e71c",
    "time": "2021-02-02T05:49:33.050Z",
    "type": "completion"
   },
   {
    "id": "16e08c9eee5d411a804ae8c47a38f240",
    "time": "2021-02-02T05:49:33.296Z",
    "type": "completion"
   },
   {
    "id": "e1439e76e7cb4172b87d46d4a2dffe5c",
    "time": "2021-02-02T05:49:33.297Z",
    "type": "completion"
   },
   {
    "id": "7cf47e32cc2144ef8898341836c6b89b",
    "time": "2021-02-02T05:49:33.386Z",
    "type": "completion"
   },
   {
    "id": "136e5a20d41a46378563bcec02cd7e7e",
    "time": "2021-02-02T05:49:33.601Z",
    "type": "completion"
   },
   {
    "code": "from IPython.display import HTML\n\nHTML('''<script>\ncode_show=true; \nfunction code_toggle() {\n if (code_show){\n $('div.input').hide();\n } else {\n $('div.input').show();\n }\n code_show = !code_show\n} \n$( document ).ready(code_toggle);\n</script>\n<form action=\"javascript:code_toggle()\"><input type=\"submit\" value=\"Click here to toggle on/off the raw code.\"></form>''')",
    "id": "8967387dbca64bb48f5e729e5feac073",
    "idx": 1,
    "time": "2021-02-02T05:50:04.630Z",
    "type": "execution"
   },
   {
    "code": "import plotly.graph_objs as go\nfrom ipywidgets import interactive, HBox, VBox, widgets, interact\nimport numpy as np\n\nxs = np.linspace(0, 5, 1000)\n\ndef wave(f, phi, x):\n    return np.sin(2*np.pi*f*x + phi)\n\nfig = go.FigureWidget()\n\nfig.layout = dict(yaxis=dict(range=[-1,1]), xaxis=dict(range=[0,5]),width = 1000)\n\nfig.update_layout(\n    title={\n        'text': r'$y = \\sin(2 \\pi f x + \\phi)$',\n        'y':0.85,\n        'x':0.5,\n        'xanchor': 'center',\n        'yanchor': 'top'})\n\nfig.update_xaxes(\n        title_text = r\"$x$\",\n        title_standoff = 15,\n        ticks = 'outside',\n        ticklen = 10,\n        tickcolor='white')\n\nfig.update_yaxes(\n        title_text = '',\n        title_standoff = 25,\n        ticks = 'outside',\n        ticklen = 10,\n        tickcolor = 'white')\n\n\nline = fig.add_trace(go.Scatter(x=xs, y=wave(1, 0, xs),\n                    mode='lines',\n                    name='lines'))\n\nslider = widgets.FloatSlider(\n    value = 1,\n    min=0.1,\n    max=10,\n    step=0.1,\n    readout=True,\n    description=r'$f$')\nslider.layout.width = '400px'\n\nslider2 = widgets.FloatSlider(\n    value = 0,\n    min=-3.14,\n    max=3.14,\n    step=0.01,\n    readout=True,\n    description=r'$\\phi$')\nslider2.layout.width = '400px'\n\n\n# our function that will modify the xaxis range\ndef update_range(frequency, phi):\n    fig.data[0].y=wave(frequency, phi, xs)\n\n\n# display the FigureWidget and slider with center justification\nvb = VBox((fig, interactive(update_range, frequency = slider, phi = slider2)))\nvb.layout.align_items = 'center'\nvb",
    "id": "f03d0be107f14d648dea4bfd9b50c196",
    "idx": 2,
    "time": "2021-02-02T05:50:04.632Z",
    "type": "execution"
   },
   {
    "code": "import plotly.graph_objs as go\nfrom ipywidgets import interactive, HBox, VBox, widgets, interact\nimport numpy as np\n\nxs2 = np.linspace(0, 5, 500)\n\ndef traveling_wave(k, omega, x, t):\n    return np.sin(k*x - omega*t/10.)\n\nfig2 = go.FigureWidget()\n\nfig2.layout = dict(yaxis=dict(range=[-1,1]), xaxis=dict(range=[0,5]),width = 1000)\n\nfig2.update_layout(\n    title={\n        'text': r'$y = \\sin(kx - \\omega t)$',\n        'y':0.85,\n        'x':0.5,\n        'xanchor': 'center',\n        'yanchor': 'top'})\n\nfig2.update_xaxes(\n        title_text = r\"$x$\",\n        title_standoff = 15,\n        ticks = 'outside',\n        ticklen = 10,\n        tickcolor='white')\n\nfig2.update_yaxes(\n        title_text = '',\n        title_standoff = 25,\n        ticks = 'outside',\n        ticklen = 10,\n        tickcolor = 'white')\n\n\nline2 = fig2.add_trace(go.Scatter(x=xs2, y=traveling_wave(1, 0, xs2, 0),\n                    mode='lines',\n                    name='lines'))\n\nbslider = widgets.FloatSlider(\n    value = 3.14,\n    min=0.1,\n    max=10,\n    step=0.02,\n    readout=True,\n    description=r'$k$')\nbslider.layout.width = '400px'\n\nbslider2 = widgets.FloatSlider(\n    value = 0,\n    min=-1,\n    max=1,\n    step=0.1,\n    readout=True,\n    description=r'$\\omega$')\nbslider2.layout.width = '400px'\n\nplay = widgets.Play(\n    interval = 5,\n    value = 0,\n    min=0,\n    max=500,\n    step=1\n)\n\ndef update2(k, omega, time):\n    fig2.data[0].y=traveling_wave(k, omega, xs2, time)\n\nvb2 = VBox((fig2, interactive(update2, k = bslider, omega = bslider2, time = play)))\nvb2",
    "id": "1042b143521443d4806e31a8b79aa7c3",
    "idx": 3,
    "time": "2021-02-02T05:50:04.633Z",
    "type": "execution"
   },
   {
    "code": "from IPython.display import Audio,display\n\ndef play(f1, f2, sec=3):\n    framerate = 44100 # <- rate of sampling\n    t = np.linspace(0, sec, framerate * sec) # <- setup time values\n    data = np.sin(2 * np.pi * f1 * t) + np.sin(2 * np.pi * f2 * t) # <- sine function formula\n    display(InvisibleAudio(data, rate=framerate, autoplay=True)) # play the generated sound\n    return t[:2000], data[:2000]\n    \n\nclass InvisibleAudio(Audio):\n    def _repr_html_(self):\n        audio = super()._repr_html_()\n        audio = audio.replace('<audio', f'<audio onended=\"this.parentNode.removeChild(this)\"')\n        return f'<div style=\"display:none\">{audio}</div>'\n",
    "id": "9efd526fae6b47a4a9a8f69a1d47ed61",
    "idx": 4,
    "time": "2021-02-02T05:50:04.634Z",
    "type": "execution"
   },
   {
    "code": "xs3 = np.linspace(0, 0.2, 1000)\n\nf1 = widgets.IntSlider(value = 1, min = 1, max = 600, step = 1, description = \"frequency 1\")\nf1.layout.width = '400px'\nf2 = widgets.IntSlider(value = 1, min = 1, max = 600, step = 1, description = \"frequency 2\")\nf2.layout.width = '400px'\n\n#xslider = widgets.FloatSlider(value = 0.05, min = 0.01, max = 1, step = 0.01, description = \"xrange\")\n#xslider.layout.width = '400px'\n\nbutton = widgets.Button(description='Play Sound')\nout3 = widgets.Output()\nfig3 = go.FigureWidget()\n\nfig3.add_trace(go.Scatter(x=xs3, y=np.sin(2*np.pi*1*xs3) + np.sin(2*np.pi*1*xs),\n                    mode='lines',\n                    name='sum'))\nfig3.add_trace(go.Scatter(x = xs3, y = np.sin(2*np.pi*80*xs3), mode = \"lines\", opacity = 0.2, name = \"frequency 1\"))\nfig3.add_trace(go.Scatter(x = xs3, y = np.sin(2*np.pi*80*xs3), mode = \"lines\", opacity = 0.2, name = \"frequency 2\"))\n\nfig3.layout = dict(yaxis=dict(range=[-2,2]), xaxis=dict(range=[0,0.2]),width = 900)\n\nfig3.update_layout(\n    title={\n        'text': r'$y = \\sin(2 \\pi f_1 t) + \\sin(2 \\pi f_2 t)$',\n        'y':0.85,\n        'x':0.5,\n        'xanchor': 'center',\n        'yanchor': 'top'})\n\nfig3.update_xaxes(\n        title_text = r\"$t$\",\n        title_standoff = 15,\n        ticks = 'outside',\n        ticklen = 10,\n        tickcolor='white')\n\nfig3.update_yaxes(\n        title_text = '',\n        title_standoff = 25,\n        ticks = 'outside',\n        ticklen = 10,\n        tickcolor = 'white')\n\nfig3.update_layout(showlegend=False)\n\ndef on_button_clicked(_):\n\n    t, data = play(f1.value, f2.value)\n    \n\ndef update_trace(freq1, freq2):\n    \n    fig3.data[0].y = np.sin(2*np.pi*freq1*xs3) + np.sin(2*np.pi*freq2*xs3)\n    fig3.data[1].y = np.sin(2*np.pi*freq1*xs3)\n    fig3.data[2].y = np.sin(2*np.pi*freq2*xs3)\n\n",
    "id": "fb4cef76ca5940adb6341e98f4a2b4da",
    "idx": 5,
    "time": "2021-02-02T05:50:04.635Z",
    "type": "execution"
   },
   {
    "code": "# linking button and function together using a button's method\nbutton.on_click(on_button_clicked)\n# displaying button and its output together\nwidgets.VBox([fig3,button,out3])\n\nvb = widgets.VBox((fig3, interactive(update_trace, freq1 = f1, freq2 = f2), button))\nvb.layout.align_items = 'center'\nvb",
    "id": "f4308b062a85488e9088a0b4db1b4f9b",
    "idx": 6,
    "time": "2021-02-02T05:50:04.635Z",
    "type": "execution"
   },
   {
    "code": "from IPython.display import HTML\n\nHTML('''<script>\ncode_show=true; \nfunction code_toggle() {\n if (code_show){\n $('div.input').hide();\n } else {\n $('div.input').show();\n }\n code_show = !code_show\n} \n$( document ).ready(code_toggle);\n</script>\n<form action=\"javascript:code_toggle()\"><input type=\"submit\" value=\"Click here to toggle on/off the raw code.\"></form>''')",
    "id": "98c07317bed244939d9b1e682f59c269",
    "idx": 1,
    "time": "2021-02-02T05:50:50.869Z",
    "type": "execution"
   },
   {
    "code": "import plotly.graph_objs as go\nfrom ipywidgets import interactive, HBox, VBox, widgets, interact\nimport numpy as np\n\nxs = np.linspace(0, 5, 1000)\n\ndef wave(f, phi, x):\n    return np.sin(2*np.pi*f*x + phi)\n\nfig = go.FigureWidget()\n\nfig.layout = dict(yaxis=dict(range=[-1,1]), xaxis=dict(range=[0,5]),width = 1000)\n\nfig.update_layout(\n    title={\n        'text': r'$y = \\sin(2 \\pi f x + \\phi)$',\n        'y':0.85,\n        'x':0.5,\n        'xanchor': 'center',\n        'yanchor': 'top'})\n\nfig.update_xaxes(\n        title_text = r\"$x$\",\n        title_standoff = 15,\n        ticks = 'outside',\n        ticklen = 10,\n        tickcolor='white')\n\nfig.update_yaxes(\n        title_text = '',\n        title_standoff = 25,\n        ticks = 'outside',\n        ticklen = 10,\n        tickcolor = 'white')\n\n\nline = fig.add_trace(go.Scatter(x=xs, y=wave(1, 0, xs),\n                    mode='lines',\n                    name='lines'))\n\nslider = widgets.FloatSlider(\n    value = 1,\n    min=0.1,\n    max=10,\n    step=0.1,\n    readout=True,\n    description=r'$f$')\nslider.layout.width = '400px'\n\nslider2 = widgets.FloatSlider(\n    value = 0,\n    min=-3.14,\n    max=3.14,\n    step=0.01,\n    readout=True,\n    description=r'$\\phi$')\nslider2.layout.width = '400px'\n\n\n# our function that will modify the xaxis range\ndef update_range(frequency, phi):\n    fig.data[0].y=wave(frequency, phi, xs)\n\n\n# display the FigureWidget and slider with center justification\nvb = VBox((fig, interactive(update_range, frequency = slider, phi = slider2)))\nvb.layout.align_items = 'center'\nvb",
    "id": "79cdf22d5da1459caaeea4ac127097de",
    "idx": 2,
    "time": "2021-02-02T05:50:50.871Z",
    "type": "execution"
   },
   {
    "code": "import plotly.graph_objs as go\nfrom ipywidgets import interactive, HBox, VBox, widgets, interact\nimport numpy as np\n\nxs2 = np.linspace(0, 5, 500)\n\ndef traveling_wave(k, omega, x, t):\n    return np.sin(k*x - omega*t/10.)\n\nfig2 = go.FigureWidget()\n\nfig2.layout = dict(yaxis=dict(range=[-1,1]), xaxis=dict(range=[0,5]),width = 1000)\n\nfig2.update_layout(\n    title={\n        'text': r'$y = \\sin(kx - \\omega t)$',\n        'y':0.85,\n        'x':0.5,\n        'xanchor': 'center',\n        'yanchor': 'top'})\n\nfig2.update_xaxes(\n        title_text = r\"$x$\",\n        title_standoff = 15,\n        ticks = 'outside',\n        ticklen = 10,\n        tickcolor='white')\n\nfig2.update_yaxes(\n        title_text = '',\n        title_standoff = 25,\n        ticks = 'outside',\n        ticklen = 10,\n        tickcolor = 'white')\n\n\nline2 = fig2.add_trace(go.Scatter(x=xs2, y=traveling_wave(1, 0, xs2, 0),\n                    mode='lines',\n                    name='lines'))\n\nbslider = widgets.FloatSlider(\n    value = 3.14,\n    min=0.1,\n    max=10,\n    step=0.02,\n    readout=True,\n    description=r'$k$')\nbslider.layout.width = '400px'\n\nbslider2 = widgets.FloatSlider(\n    value = 0,\n    min=-1,\n    max=1,\n    step=0.1,\n    readout=True,\n    description=r'$\\omega$')\nbslider2.layout.width = '400px'\n\nplay = widgets.Play(\n    interval = 5,\n    value = 0,\n    min=0,\n    max=500,\n    step=1\n)\n\ndef update2(k, omega, time):\n    fig2.data[0].y=traveling_wave(k, omega, xs2, time)\n\nvb2 = VBox((fig2, interactive(update2, k = bslider, omega = bslider2, time = play)))\nvb2",
    "id": "91d5676f9c894f669643b57fb9b43d85",
    "idx": 3,
    "time": "2021-02-02T05:50:50.872Z",
    "type": "execution"
   },
   {
    "code": "from IPython.display import Audio,display\n\ndef play(f1, f2, sec=3):\n    framerate = 44100 # <- rate of sampling\n    t = np.linspace(0, sec, framerate * sec) # <- setup time values\n    data = np.sin(2 * np.pi * f1 * t) + np.sin(2 * np.pi * f2 * t) # <- sine function formula\n    display(InvisibleAudio(data, rate=framerate, autoplay=True)) # play the generated sound\n    return t[:2000], data[:2000]\n    \n\nclass InvisibleAudio(Audio):\n    def _repr_html_(self):\n        audio = super()._repr_html_()\n        audio = audio.replace('<audio', f'<audio onended=\"this.parentNode.removeChild(this)\"')\n        return f'<div style=\"display:none\">{audio}</div>'\n",
    "id": "805998f6d89f4a4683dbfbe140eb229a",
    "idx": 4,
    "time": "2021-02-02T05:50:50.873Z",
    "type": "execution"
   },
   {
    "code": "xs3 = np.linspace(0, 0.2, 1000)\n\nf1 = widgets.IntSlider(value = 1, min = 1, max = 600, step = 1, description = \"frequency 1\")\nf1.layout.width = '400px'\nf2 = widgets.IntSlider(value = 1, min = 1, max = 600, step = 1, description = \"frequency 2\")\nf2.layout.width = '400px'\n\n#xslider = widgets.FloatSlider(value = 0.05, min = 0.01, max = 1, step = 0.01, description = \"xrange\")\n#xslider.layout.width = '400px'\n\nbutton = widgets.Button(description='Play Sound')\nout3 = widgets.Output()\nfig3 = go.FigureWidget()\n\nfig3.add_trace(go.Scatter(x=xs3, y=np.sin(2*np.pi*1*xs3) + np.sin(2*np.pi*1*xs),\n                    mode='lines',\n                    name='sum'))\nfig3.add_trace(go.Scatter(x = xs3, y = np.sin(2*np.pi*80*xs3), mode = \"lines\", opacity = 0.2, name = \"frequency 1\"))\nfig3.add_trace(go.Scatter(x = xs3, y = np.sin(2*np.pi*80*xs3), mode = \"lines\", opacity = 0.2, name = \"frequency 2\"))\n\nfig3.layout = dict(yaxis=dict(range=[-2,2]), xaxis=dict(range=[0,0.2]),width = 900)\n\nfig3.update_layout(\n    title={\n        'text': r'$y = \\sin(2 \\pi f_1 t) + \\sin(2 \\pi f_2 t)$',\n        'y':0.85,\n        'x':0.5,\n        'xanchor': 'center',\n        'yanchor': 'top'})\n\nfig3.update_xaxes(\n        title_text = r\"$t$\",\n        title_standoff = 15,\n        ticks = 'outside',\n        ticklen = 10,\n        tickcolor='white')\n\nfig3.update_yaxes(\n        title_text = '',\n        title_standoff = 25,\n        ticks = 'outside',\n        ticklen = 10,\n        tickcolor = 'white')\n\nfig3.update_layout(showlegend=False)\n\ndef on_button_clicked(_):\n\n    t, data = play(f1.value, f2.value)\n    \n\ndef update_trace(freq1, freq2):\n    \n    fig3.data[0].y = np.sin(2*np.pi*freq1*xs3) + np.sin(2*np.pi*freq2*xs3)\n    fig3.data[1].y = np.sin(2*np.pi*freq1*xs3)\n    fig3.data[2].y = np.sin(2*np.pi*freq2*xs3)\n\n",
    "id": "fbf9742d48934fcb9e5bca2d32899e24",
    "idx": 5,
    "time": "2021-02-02T05:50:50.874Z",
    "type": "execution"
   },
   {
    "code": "# linking button and function together using a button's method\nbutton.on_click(on_button_clicked)\n# displaying button and its output together\nwidgets.VBox([fig3,button,out3])\n\nvb = widgets.VBox((fig3, interactive(update_trace, freq1 = f1, freq2 = f2), button))\nvb.layout.align_items = 'center'\nvb",
    "id": "f01bd52cef7a45ddb060a8a82ec0fd27",
    "idx": 6,
    "time": "2021-02-02T05:50:50.874Z",
    "type": "execution"
   },
   {
    "code": "from IPython.display import HTML\n\nHTML('''<script>\ncode_show=true; \nfunction code_toggle() {\n if (code_show){\n $('div.input').hide();\n } else {\n $('div.input').show();\n }\n code_show = !code_show\n} \n$( document ).ready(code_toggle);\n</script>\n<form action=\"javascript:code_toggle()\"><input type=\"submit\" value=\"Click here to toggle on/off the raw code.\"></form>''')",
    "id": "b94be232b9de4f91a101a21dafe9fd53",
    "idx": 1,
    "time": "2021-02-02T05:51:18.365Z",
    "type": "execution"
   },
   {
    "code": "import plotly.graph_objs as go\nfrom ipywidgets import interactive, HBox, VBox, widgets, interact\nimport numpy as np\n\nxs = np.linspace(0, 5, 1000)\n\ndef wave(f, phi, x):\n    return np.sin(2*np.pi*f*x + phi)\n\nfig = go.FigureWidget()\n\nfig.layout = dict(yaxis=dict(range=[-1,1]), xaxis=dict(range=[0,5]),width = 1000)\n\nfig.update_layout(\n    title={\n        'text': r'$y = \\sin(2 \\pi f x + \\phi)$',\n        'y':0.85,\n        'x':0.5,\n        'xanchor': 'center',\n        'yanchor': 'top'})\n\nfig.update_xaxes(\n        title_text = r\"$x$\",\n        title_standoff = 15,\n        ticks = 'outside',\n        ticklen = 10,\n        tickcolor='white')\n\nfig.update_yaxes(\n        title_text = '',\n        title_standoff = 25,\n        ticks = 'outside',\n        ticklen = 10,\n        tickcolor = 'white')\n\n\nline = fig.add_trace(go.Scatter(x=xs, y=wave(1, 0, xs),\n                    mode='lines',\n                    name='lines'))\n\nslider = widgets.FloatSlider(\n    value = 1,\n    min=0.1,\n    max=10,\n    step=0.1,\n    readout=True,\n    description=r'$f$')\nslider.layout.width = '400px'\n\nslider2 = widgets.FloatSlider(\n    value = 0,\n    min=-3.14,\n    max=3.14,\n    step=0.01,\n    readout=True,\n    description=r'$\\phi$')\nslider2.layout.width = '400px'\n\n\n# our function that will modify the xaxis range\ndef update_range(frequency, phi):\n    fig.data[0].y=wave(frequency, phi, xs)\n\n\n# display the FigureWidget and slider with center justification\nvb = VBox((fig, interactive(update_range, frequency = slider, phi = slider2)))\nvb.layout.align_items = 'center'\nvb",
    "id": "9d68da942c4f4ca781234e890e3c1945",
    "idx": 2,
    "time": "2021-02-02T05:51:18.367Z",
    "type": "execution"
   },
   {
    "code": "import plotly.graph_objs as go\nfrom ipywidgets import interactive, HBox, VBox, widgets, interact\nimport numpy as np\n\nxs2 = np.linspace(0, 5, 500)\n\ndef traveling_wave(k, omega, x, t):\n    return np.sin(k*x - omega*t/10.)\n\nfig2 = go.FigureWidget()\n\nfig2.layout = dict(yaxis=dict(range=[-1,1]), xaxis=dict(range=[0,5]),width = 1000)\n\nfig2.update_layout(\n    title={\n        'text': r'$y = \\sin(kx - \\omega t)$',\n        'y':0.85,\n        'x':0.5,\n        'xanchor': 'center',\n        'yanchor': 'top'})\n\nfig2.update_xaxes(\n        title_text = r\"$x$\",\n        title_standoff = 15,\n        ticks = 'outside',\n        ticklen = 10,\n        tickcolor='white')\n\nfig2.update_yaxes(\n        title_text = '',\n        title_standoff = 25,\n        ticks = 'outside',\n        ticklen = 10,\n        tickcolor = 'white')\n\n\nline2 = fig2.add_trace(go.Scatter(x=xs2, y=traveling_wave(1, 0, xs2, 0),\n                    mode='lines',\n                    name='lines'))\n\nbslider = widgets.FloatSlider(\n    value = 3.14,\n    min=0.1,\n    max=10,\n    step=0.02,\n    readout=True,\n    description=r'$k$')\nbslider.layout.width = '400px'\n\nbslider2 = widgets.FloatSlider(\n    value = 0,\n    min=-1,\n    max=1,\n    step=0.1,\n    readout=True,\n    description=r'$\\omega$')\nbslider2.layout.width = '400px'\n\nplay = widgets.Play(\n    interval = 5,\n    value = 0,\n    min=0,\n    max=500,\n    step=1\n)\n\ndef update2(k, omega, time):\n    fig2.data[0].y=traveling_wave(k, omega, xs2, time)\n\nvb2 = VBox((fig2, interactive(update2, k = bslider, omega = bslider2, time = play)))\nvb2",
    "id": "2962fc6f71a34f5c89ac5ca6f5dcc138",
    "idx": 3,
    "time": "2021-02-02T05:51:18.367Z",
    "type": "execution"
   },
   {
    "code": "from IPython.display import Audio,display\n\ndef play(f1, f2, sec=3):\n    framerate = 44100 # <- rate of sampling\n    t = np.linspace(0, sec, framerate * sec) # <- setup time values\n    data = np.sin(2 * np.pi * f1 * t) + np.sin(2 * np.pi * f2 * t) # <- sine function formula\n    display(InvisibleAudio(data, rate=framerate, autoplay=True)) # play the generated sound\n    return t[:2000], data[:2000]\n    \n\nclass InvisibleAudio(Audio):\n    def _repr_html_(self):\n        audio = super()._repr_html_()\n        audio = audio.replace('<audio', f'<audio onended=\"this.parentNode.removeChild(this)\"')\n        return f'<div style=\"display:none\">{audio}</div>'\n",
    "id": "11ee9d07c4fb4f2987b0c35a1f9840bf",
    "idx": 4,
    "time": "2021-02-02T05:51:18.368Z",
    "type": "execution"
   },
   {
    "code": "xs3 = np.linspace(0, 0.2, 1000)\n\nf1 = widgets.IntSlider(value = 1, min = 1, max = 600, step = 1, description = \"frequency 1\")\nf1.layout.width = '400px'\nf2 = widgets.IntSlider(value = 1, min = 1, max = 600, step = 1, description = \"frequency 2\")\nf2.layout.width = '400px'\n\n#xslider = widgets.FloatSlider(value = 0.05, min = 0.01, max = 1, step = 0.01, description = \"xrange\")\n#xslider.layout.width = '400px'\n\nbutton = widgets.Button(description='Play Sound')\nout3 = widgets.Output()\nfig3 = go.FigureWidget()\n\nfig3.add_trace(go.Scatter(x=xs3, y=np.sin(2*np.pi*1*xs3) + np.sin(2*np.pi*1*xs),\n                    mode='lines',\n                    name='sum'))\nfig3.add_trace(go.Scatter(x = xs3, y = np.sin(2*np.pi*80*xs3), mode = \"lines\", opacity = 0.2, name = \"frequency 1\"))\nfig3.add_trace(go.Scatter(x = xs3, y = np.sin(2*np.pi*80*xs3), mode = \"lines\", opacity = 0.2, name = \"frequency 2\"))\n\nfig3.layout = dict(yaxis=dict(range=[-2,2]), xaxis=dict(range=[0,0.2]),width = 900)\n\nfig3.update_layout(\n    title={\n        'text': r'$y = \\sin(2 \\pi f_1 t) + \\sin(2 \\pi f_2 t)$',\n        'y':0.85,\n        'x':0.5,\n        'xanchor': 'center',\n        'yanchor': 'top'})\n\nfig3.update_xaxes(\n        title_text = r\"$t$\",\n        title_standoff = 15,\n        ticks = 'outside',\n        ticklen = 10,\n        tickcolor='white')\n\nfig3.update_yaxes(\n        title_text = '',\n        title_standoff = 25,\n        ticks = 'outside',\n        ticklen = 10,\n        tickcolor = 'white')\n\nfig3.update_layout(showlegend=False)\n\ndef on_button_clicked(_):\n\n    t, data = play(f1.value, f2.value)\n    \n\ndef update_trace(freq1, freq2):\n    \n    fig3.data[0].y = np.sin(2*np.pi*freq1*xs3) + np.sin(2*np.pi*freq2*xs3)\n    fig3.data[1].y = np.sin(2*np.pi*freq1*xs3)\n    fig3.data[2].y = np.sin(2*np.pi*freq2*xs3)\n\n",
    "id": "097188c817dc415489517ea9560f1673",
    "idx": 5,
    "time": "2021-02-02T05:51:18.369Z",
    "type": "execution"
   },
   {
    "code": "# linking button and function together using a button's method\nbutton.on_click(on_button_clicked)\n# displaying button and its output together\nwidgets.VBox([fig3,button,out3])\n\nvb = widgets.VBox((fig3, interactive(update_trace, freq1 = f1, freq2 = f2), button))\nvb.layout.align_items = 'center'\nvb",
    "id": "c4b60e466ca9434696a3a7ce4e2610d0",
    "idx": 6,
    "time": "2021-02-02T05:51:18.369Z",
    "type": "execution"
   },
   {
    "id": "b94be232b9de4f91a101a21dafe9fd53",
    "time": "2021-02-02T05:51:18.447Z",
    "type": "completion"
   },
   {
    "id": "9d68da942c4f4ca781234e890e3c1945",
    "time": "2021-02-02T05:51:19.221Z",
    "type": "completion"
   },
   {
    "id": "2962fc6f71a34f5c89ac5ca6f5dcc138",
    "time": "2021-02-02T05:51:19.493Z",
    "type": "completion"
   },
   {
    "id": "11ee9d07c4fb4f2987b0c35a1f9840bf",
    "time": "2021-02-02T05:51:19.493Z",
    "type": "completion"
   },
   {
    "id": "097188c817dc415489517ea9560f1673",
    "time": "2021-02-02T05:51:19.730Z",
    "type": "completion"
   },
   {
    "id": "c4b60e466ca9434696a3a7ce4e2610d0",
    "time": "2021-02-02T05:51:19.874Z",
    "type": "completion"
   },
   {
    "code": "from IPython.display import HTML\n\nHTML('''<script>\ncode_show=true; \nfunction code_toggle() {\n if (code_show){\n $('div.input').hide();\n } else {\n $('div.input').show();\n }\n code_show = !code_show\n} \n$( document ).ready(code_toggle);\n</script>\n<form action=\"javascript:code_toggle()\"><input type=\"submit\" value=\"Click here to toggle on/off the raw code.\"></form>''')",
    "id": "f50b4ce571174bff883bb7eac7a55563",
    "idx": 1,
    "time": "2021-02-02T05:55:05.715Z",
    "type": "execution"
   },
   {
    "code": "import plotly.graph_objs as go\nfrom ipywidgets import interactive, HBox, VBox, widgets, interact\nimport numpy as np\n\nxs = np.linspace(0, 5, 1000)\n\ndef wave(f, phi, x):\n    return np.sin(2*np.pi*f*x + phi)\n\nfig = go.FigureWidget()\n\nfig.layout = dict(yaxis=dict(range=[-1,1]), xaxis=dict(range=[0,5]),width = 1000)\n\nfig.update_layout(\n    title={\n        'text': r'$y = \\sin(2 \\pi f x + \\phi)$',\n        'y':0.85,\n        'x':0.5,\n        'xanchor': 'center',\n        'yanchor': 'top'})\n\nfig.update_xaxes(\n        title_text = r\"$x$\",\n        title_standoff = 15,\n        ticks = 'outside',\n        ticklen = 10,\n        tickcolor='white')\n\nfig.update_yaxes(\n        title_text = '',\n        title_standoff = 25,\n        ticks = 'outside',\n        ticklen = 10,\n        tickcolor = 'white')\n\n\nline = fig.add_trace(go.Scatter(x=xs, y=wave(1, 0, xs),\n                    mode='lines',\n                    name='lines'))\n\nslider = widgets.FloatSlider(\n    value = 1,\n    min=0.1,\n    max=10,\n    step=0.1,\n    readout=True,\n    description=r'$f$')\nslider.layout.width = '400px'\n\nslider2 = widgets.FloatSlider(\n    value = 0,\n    min=-3.14,\n    max=3.14,\n    step=0.01,\n    readout=True,\n    description=r'$\\phi$')\nslider2.layout.width = '400px'\n\n\n# our function that will modify the xaxis range\ndef update_range(frequency, phi):\n    fig.data[0].y=wave(frequency, phi, xs)\n\n\n# display the FigureWidget and slider with center justification\nvb = VBox((fig, interactive(update_range, frequency = slider, phi = slider2)))\nvb.layout.align_items = 'center'\nvb",
    "id": "fdfee9e3f77c4ccb87d163214b3e52e0",
    "idx": 2,
    "time": "2021-02-02T05:55:05.717Z",
    "type": "execution"
   },
   {
    "code": "import plotly.graph_objs as go\nfrom ipywidgets import interactive, HBox, VBox, widgets, interact\nimport numpy as np\n\nxs2 = np.linspace(0, 5, 500)\n\ndef traveling_wave(k, omega, x, t):\n    return np.sin(k*x - omega*t/10.)\n\nfig2 = go.FigureWidget()\n\nfig2.layout = dict(yaxis=dict(range=[-1,1]), xaxis=dict(range=[0,5]),width = 1000)\n\nfig2.update_layout(\n    title={\n        'text': r'$y = \\sin(kx - \\omega t)$',\n        'y':0.85,\n        'x':0.5,\n        'xanchor': 'center',\n        'yanchor': 'top'})\n\nfig2.update_xaxes(\n        title_text = r\"$x$\",\n        title_standoff = 15,\n        ticks = 'outside',\n        ticklen = 10,\n        tickcolor='white')\n\nfig2.update_yaxes(\n        title_text = '',\n        title_standoff = 25,\n        ticks = 'outside',\n        ticklen = 10,\n        tickcolor = 'white')\n\n\nline2 = fig2.add_trace(go.Scatter(x=xs2, y=traveling_wave(1, 0, xs2, 0),\n                    mode='lines',\n                    name='lines'))\n\nbslider = widgets.FloatSlider(\n    value = 3.14,\n    min=0.1,\n    max=10,\n    step=0.02,\n    readout=True,\n    description=r'$k$')\nbslider.layout.width = '400px'\n\nbslider2 = widgets.FloatSlider(\n    value = 0,\n    min=-1,\n    max=1,\n    step=0.1,\n    readout=True,\n    description=r'$\\omega$')\nbslider2.layout.width = '400px'\n\nplay = widgets.Play(\n    interval = 5,\n    value = 0,\n    min=0,\n    max=500,\n    step=1\n)\n\ndef update2(k, omega, time):\n    fig2.data[0].y=traveling_wave(k, omega, xs2, time)\n\nvb2 = VBox((fig2, interactive(update2, k = bslider, omega = bslider2, time = play)))\nvb2",
    "id": "07e8738aad414b1799b6e63020447b09",
    "idx": 3,
    "time": "2021-02-02T05:55:05.719Z",
    "type": "execution"
   },
   {
    "code": "from IPython.display import Audio,display\n\ndef play(f1, f2, sec=3):\n    framerate = 44100 # <- rate of sampling\n    t = np.linspace(0, sec, framerate * sec) # <- setup time values\n    data = np.sin(2 * np.pi * f1 * t) + np.sin(2 * np.pi * f2 * t) # <- sine function formula\n    display(InvisibleAudio(data, rate=framerate, autoplay=True)) # play the generated sound\n    return t[:2000], data[:2000]\n    \n\nclass InvisibleAudio(Audio):\n    def _repr_html_(self):\n        audio = super()._repr_html_()\n        audio = audio.replace('<audio', f'<audio onended=\"this.parentNode.removeChild(this)\"')\n        return f'<div style=\"display:none\">{audio}</div>'\n",
    "id": "1468aacd9f2945bb86391980badaaa12",
    "idx": 4,
    "time": "2021-02-02T05:55:05.719Z",
    "type": "execution"
   },
   {
    "code": "xs3 = np.linspace(0, 0.2, 1000)\n\nf1 = widgets.IntSlider(value = 1, min = 1, max = 600, step = 1, description = \"frequency 1\")\nf1.layout.width = '400px'\nf2 = widgets.IntSlider(value = 1, min = 1, max = 600, step = 1, description = \"frequency 2\")\nf2.layout.width = '400px'\n\n#xslider = widgets.FloatSlider(value = 0.05, min = 0.01, max = 1, step = 0.01, description = \"xrange\")\n#xslider.layout.width = '400px'\n\nbutton = widgets.Button(description='Play Sound')\nout3 = widgets.Output()\nfig3 = go.FigureWidget()\n\nfig3.add_trace(go.Scatter(x=xs3, y=np.sin(2*np.pi*1*xs3) + np.sin(2*np.pi*1*xs),\n                    mode='lines',\n                    name='sum'))\nfig3.add_trace(go.Scatter(x = xs3, y = np.sin(2*np.pi*80*xs3), mode = \"lines\", opacity = 0.2, name = \"frequency 1\"))\nfig3.add_trace(go.Scatter(x = xs3, y = np.sin(2*np.pi*80*xs3), mode = \"lines\", opacity = 0.2, name = \"frequency 2\"))\n\nfig3.layout = dict(yaxis=dict(range=[-2,2]), xaxis=dict(range=[0,0.2]),width = 900)\n\nfig3.update_layout(\n    title={\n        'text': r'$y = \\sin(2 \\pi f_1 t) + \\sin(2 \\pi f_2 t)$',\n        'y':0.85,\n        'x':0.5,\n        'xanchor': 'center',\n        'yanchor': 'top'})\n\nfig3.update_xaxes(\n        title_text = r\"$t$\",\n        title_standoff = 15,\n        ticks = 'outside',\n        ticklen = 10,\n        tickcolor='white')\n\nfig3.update_yaxes(\n        title_text = '',\n        title_standoff = 25,\n        ticks = 'outside',\n        ticklen = 10,\n        tickcolor = 'white')\n\nfig3.update_layout(showlegend=False)\n\ndef on_button_clicked(_):\n\n    t, data = play(f1.value, f2.value)\n    \n\ndef update_trace(freq1, freq2):\n    \n    fig3.data[0].y = np.sin(2*np.pi*freq1*xs3) + np.sin(2*np.pi*freq2*xs3)\n    fig3.data[1].y = np.sin(2*np.pi*freq1*xs3)\n    fig3.data[2].y = np.sin(2*np.pi*freq2*xs3)\n\n",
    "id": "cd3cc91c02a845259a730f1d6f10c356",
    "idx": 5,
    "time": "2021-02-02T05:55:05.720Z",
    "type": "execution"
   },
   {
    "code": "# linking button and function together using a button's method\nbutton.on_click(on_button_clicked)\n# displaying button and its output together\nwidgets.VBox([fig3,button,out3])\n\nvb = widgets.VBox((fig3, interactive(update_trace, freq1 = f1, freq2 = f2), button))\nvb.layout.align_items = 'center'\nvb",
    "id": "9e811a40373a49859d7dd0ce13feb475",
    "idx": 6,
    "time": "2021-02-02T05:55:05.721Z",
    "type": "execution"
   },
   {
    "id": "f50b4ce571174bff883bb7eac7a55563",
    "time": "2021-02-02T05:55:05.798Z",
    "type": "completion"
   },
   {
    "id": "fdfee9e3f77c4ccb87d163214b3e52e0",
    "time": "2021-02-02T05:55:06.766Z",
    "type": "completion"
   },
   {
    "id": "07e8738aad414b1799b6e63020447b09",
    "time": "2021-02-02T05:55:06.902Z",
    "type": "completion"
   },
   {
    "id": "1468aacd9f2945bb86391980badaaa12",
    "time": "2021-02-02T05:55:06.902Z",
    "type": "completion"
   },
   {
    "id": "cd3cc91c02a845259a730f1d6f10c356",
    "time": "2021-02-02T05:55:06.923Z",
    "type": "completion"
   },
   {
    "id": "9e811a40373a49859d7dd0ce13feb475",
    "time": "2021-02-02T05:55:07.048Z",
    "type": "completion"
   },
   {
    "code": "<html><head>\n\n\n<!-- Load require.js. Delete this if your page already loads require.js -->\n<script src=\"https://cdnjs.cloudflare.com/ajax/libs/require.js/2.3.4/require.min.js\" integrity=\"sha256-Ae2Vz/4ePdIu6ZyI/5ZGsYnb+m0JlOmKPjt6XZ9JJkA=\" crossorigin=\"anonymous\"></script>\n<script src=\"https://unpkg.com/@jupyter-widgets/html-manager@*/dist/embed-amd.js\" crossorigin=\"anonymous\"></script>\n<script type=\"application/vnd.jupyter.widget-state+json\">\n{\n    \"version_major\": 2,\n    \"version_minor\": 0,\n    \"state\": {}\n}\n</script>\n</head>\n<body>\n\n\n</body>\n</html>\n",
    "id": "64e32de65e1144548a93526d2772c36c",
    "idx": 2,
    "time": "2021-02-02T05:56:17.294Z",
    "type": "execution"
   },
   {
    "id": "64e32de65e1144548a93526d2772c36c",
    "time": "2021-02-02T05:56:17.368Z",
    "type": "completion"
   },
   {
    "code": "from IPython.display import HTML\n\nHTML('''<script>\ncode_show=true; \nfunction code_toggle() {\n if (code_show){\n $('div.input').hide();\n } else {\n $('div.input').show();\n }\n code_show = !code_show\n} \n$( document ).ready(code_toggle);\n</script>\n<form action=\"javascript:code_toggle()\"><input type=\"submit\" value=\"Click here to toggle on/off the raw code.\"></form>''')",
    "id": "dff5314af00c438fb50b08befb5e91e4",
    "idx": 1,
    "time": "2021-02-02T05:56:47.001Z",
    "type": "execution"
   },
   {
    "code": "import plotly.graph_objs as go\nfrom ipywidgets import interactive, HBox, VBox, widgets, interact\nimport numpy as np\n\nxs = np.linspace(0, 5, 1000)\n\ndef wave(f, phi, x):\n    return np.sin(2*np.pi*f*x + phi)\n\nfig = go.FigureWidget()\n\nfig.layout = dict(yaxis=dict(range=[-1,1]), xaxis=dict(range=[0,5]),width = 1000)\n\nfig.update_layout(\n    title={\n        'text': r'$y = \\sin(2 \\pi f x + \\phi)$',\n        'y':0.85,\n        'x':0.5,\n        'xanchor': 'center',\n        'yanchor': 'top'})\n\nfig.update_xaxes(\n        title_text = r\"$x$\",\n        title_standoff = 15,\n        ticks = 'outside',\n        ticklen = 10,\n        tickcolor='white')\n\nfig.update_yaxes(\n        title_text = '',\n        title_standoff = 25,\n        ticks = 'outside',\n        ticklen = 10,\n        tickcolor = 'white')\n\n\nline = fig.add_trace(go.Scatter(x=xs, y=wave(1, 0, xs),\n                    mode='lines',\n                    name='lines'))\n\nslider = widgets.FloatSlider(\n    value = 1,\n    min=0.1,\n    max=10,\n    step=0.1,\n    readout=True,\n    description=r'$f$')\nslider.layout.width = '400px'\n\nslider2 = widgets.FloatSlider(\n    value = 0,\n    min=-3.14,\n    max=3.14,\n    step=0.01,\n    readout=True,\n    description=r'$\\phi$')\nslider2.layout.width = '400px'\n\n\n# our function that will modify the xaxis range\ndef update_range(frequency, phi):\n    fig.data[0].y=wave(frequency, phi, xs)\n\n\n# display the FigureWidget and slider with center justification\nvb = VBox((fig, interactive(update_range, frequency = slider, phi = slider2)))\nvb.layout.align_items = 'center'\nvb",
    "id": "6ac6dbefdb7d4d2a8077739047003f7e",
    "idx": 2,
    "time": "2021-02-02T05:56:47.002Z",
    "type": "execution"
   },
   {
    "code": "import plotly.graph_objs as go\nfrom ipywidgets import interactive, HBox, VBox, widgets, interact\nimport numpy as np\n\nxs2 = np.linspace(0, 5, 500)\n\ndef traveling_wave(k, omega, x, t):\n    return np.sin(k*x - omega*t/10.)\n\nfig2 = go.FigureWidget()\n\nfig2.layout = dict(yaxis=dict(range=[-1,1]), xaxis=dict(range=[0,5]),width = 1000)\n\nfig2.update_layout(\n    title={\n        'text': r'$y = \\sin(kx - \\omega t)$',\n        'y':0.85,\n        'x':0.5,\n        'xanchor': 'center',\n        'yanchor': 'top'})\n\nfig2.update_xaxes(\n        title_text = r\"$x$\",\n        title_standoff = 15,\n        ticks = 'outside',\n        ticklen = 10,\n        tickcolor='white')\n\nfig2.update_yaxes(\n        title_text = '',\n        title_standoff = 25,\n        ticks = 'outside',\n        ticklen = 10,\n        tickcolor = 'white')\n\n\nline2 = fig2.add_trace(go.Scatter(x=xs2, y=traveling_wave(1, 0, xs2, 0),\n                    mode='lines',\n                    name='lines'))\n\nbslider = widgets.FloatSlider(\n    value = 3.14,\n    min=0.1,\n    max=10,\n    step=0.02,\n    readout=True,\n    description=r'$k$')\nbslider.layout.width = '400px'\n\nbslider2 = widgets.FloatSlider(\n    value = 0,\n    min=-1,\n    max=1,\n    step=0.1,\n    readout=True,\n    description=r'$\\omega$')\nbslider2.layout.width = '400px'\n\nplay = widgets.Play(\n    interval = 5,\n    value = 0,\n    min=0,\n    max=500,\n    step=1\n)\n\ndef update2(k, omega, time):\n    fig2.data[0].y=traveling_wave(k, omega, xs2, time)\n\nvb2 = VBox((fig2, interactive(update2, k = bslider, omega = bslider2, time = play)))\nvb2",
    "id": "6fd5c579be934418ac919be9f0b02713",
    "idx": 3,
    "time": "2021-02-02T05:56:47.003Z",
    "type": "execution"
   },
   {
    "code": "from IPython.display import Audio,display\n\ndef play(f1, f2, sec=3):\n    framerate = 44100 # <- rate of sampling\n    t = np.linspace(0, sec, framerate * sec) # <- setup time values\n    data = np.sin(2 * np.pi * f1 * t) + np.sin(2 * np.pi * f2 * t) # <- sine function formula\n    display(InvisibleAudio(data, rate=framerate, autoplay=True)) # play the generated sound\n    return t[:2000], data[:2000]\n    \n\nclass InvisibleAudio(Audio):\n    def _repr_html_(self):\n        audio = super()._repr_html_()\n        audio = audio.replace('<audio', f'<audio onended=\"this.parentNode.removeChild(this)\"')\n        return f'<div style=\"display:none\">{audio}</div>'\n",
    "id": "d6bc447c1f014b71a0d5a5d1201b565c",
    "idx": 4,
    "time": "2021-02-02T05:56:47.003Z",
    "type": "execution"
   },
   {
    "code": "xs3 = np.linspace(0, 0.2, 1000)\n\nf1 = widgets.IntSlider(value = 1, min = 1, max = 600, step = 1, description = \"frequency 1\")\nf1.layout.width = '400px'\nf2 = widgets.IntSlider(value = 1, min = 1, max = 600, step = 1, description = \"frequency 2\")\nf2.layout.width = '400px'\n\n#xslider = widgets.FloatSlider(value = 0.05, min = 0.01, max = 1, step = 0.01, description = \"xrange\")\n#xslider.layout.width = '400px'\n\nbutton = widgets.Button(description='Play Sound')\nout3 = widgets.Output()\nfig3 = go.FigureWidget()\n\nfig3.add_trace(go.Scatter(x=xs3, y=np.sin(2*np.pi*1*xs3) + np.sin(2*np.pi*1*xs),\n                    mode='lines',\n                    name='sum'))\nfig3.add_trace(go.Scatter(x = xs3, y = np.sin(2*np.pi*80*xs3), mode = \"lines\", opacity = 0.2, name = \"frequency 1\"))\nfig3.add_trace(go.Scatter(x = xs3, y = np.sin(2*np.pi*80*xs3), mode = \"lines\", opacity = 0.2, name = \"frequency 2\"))\n\nfig3.layout = dict(yaxis=dict(range=[-2,2]), xaxis=dict(range=[0,0.2]),width = 900)\n\nfig3.update_layout(\n    title={\n        'text': r'$y = \\sin(2 \\pi f_1 t) + \\sin(2 \\pi f_2 t)$',\n        'y':0.85,\n        'x':0.5,\n        'xanchor': 'center',\n        'yanchor': 'top'})\n\nfig3.update_xaxes(\n        title_text = r\"$t$\",\n        title_standoff = 15,\n        ticks = 'outside',\n        ticklen = 10,\n        tickcolor='white')\n\nfig3.update_yaxes(\n        title_text = '',\n        title_standoff = 25,\n        ticks = 'outside',\n        ticklen = 10,\n        tickcolor = 'white')\n\nfig3.update_layout(showlegend=False)\n\ndef on_button_clicked(_):\n\n    t, data = play(f1.value, f2.value)\n    \n\ndef update_trace(freq1, freq2):\n    \n    fig3.data[0].y = np.sin(2*np.pi*freq1*xs3) + np.sin(2*np.pi*freq2*xs3)\n    fig3.data[1].y = np.sin(2*np.pi*freq1*xs3)\n    fig3.data[2].y = np.sin(2*np.pi*freq2*xs3)\n\n",
    "id": "25e801475d854b51a586c92c09bbfb8f",
    "idx": 5,
    "time": "2021-02-02T05:56:47.004Z",
    "type": "execution"
   },
   {
    "code": "# linking button and function together using a button's method\nbutton.on_click(on_button_clicked)\n# displaying button and its output together\nwidgets.VBox([fig3,button,out3])\n\nvb = widgets.VBox((fig3, interactive(update_trace, freq1 = f1, freq2 = f2), button))\nvb.layout.align_items = 'center'\nvb",
    "id": "f846d66bf87c429489bd87d94b6fad96",
    "idx": 6,
    "time": "2021-02-02T05:56:47.005Z",
    "type": "execution"
   },
   {
    "id": "dff5314af00c438fb50b08befb5e91e4",
    "time": "2021-02-02T05:56:47.088Z",
    "type": "completion"
   },
   {
    "id": "6ac6dbefdb7d4d2a8077739047003f7e",
    "time": "2021-02-02T05:56:47.756Z",
    "type": "completion"
   },
   {
    "id": "6fd5c579be934418ac919be9f0b02713",
    "time": "2021-02-02T05:56:48.078Z",
    "type": "completion"
   },
   {
    "id": "d6bc447c1f014b71a0d5a5d1201b565c",
    "time": "2021-02-02T05:56:48.079Z",
    "type": "completion"
   },
   {
    "id": "25e801475d854b51a586c92c09bbfb8f",
    "time": "2021-02-02T05:56:48.170Z",
    "type": "completion"
   },
   {
    "id": "f846d66bf87c429489bd87d94b6fad96",
    "time": "2021-02-02T05:56:48.462Z",
    "type": "completion"
   },
   {
    "code": "import plotly.graph_objs as go\nfrom ipywidgets import interactive, HBox, VBox, widgets, interact\nimport numpy as np\n\nxs = np.linspace(0, 5, 1000)\n\ndef wave(f, phi, x):\n    return np.sin(2*np.pi*f*x + phi)\n\nfig = go.FigureWidget()\n\nfig.layout = dict(yaxis=dict(range=[-1,1]), xaxis=dict(range=[0,5]),width = 1000)\n\nfig.update_layout(\n    title={\n        'text': r'$y = \\sin(2 \\pi f x + \\phi)$',\n        'y':0.85,\n        'x':0.5,\n        'xanchor': 'center',\n        'yanchor': 'top'})\n\nfig.update_xaxes(\n        title_text = r\"$x$\",\n        title_standoff = 15,\n        ticks = 'outside',\n        ticklen = 10,\n        tickcolor='white')\n\nfig.update_yaxes(\n        title_text = '',\n        title_standoff = 25,\n        ticks = 'outside',\n        ticklen = 10,\n        tickcolor = 'white')\n\n\nline = fig.add_trace(go.Scatter(x=xs, y=wave(1, 0, xs),\n                    mode='lines',\n                    name='lines'))\n\nslider = widgets.FloatSlider(\n    value = 1,\n    min=0.1,\n    max=10,\n    step=0.1,\n    readout=True,\n    description=r'$f$')\nslider.layout.width = '400px'\n\nslider2 = widgets.FloatSlider(\n    value = 0,\n    min=-3.14,\n    max=3.14,\n    step=0.01,\n    readout=True,\n    description=r'$\\phi$')\nslider2.layout.width = '400px'\n\n\n# our function that will modify the xaxis range\ndef update_range(frequency, phi):\n    fig.data[0].y=wave(frequency, phi, xs)\n\n\n# display the FigureWidget and slider with center justification\nvb = VBox((fig, interactive(update_range, frequency = slider, phi = slider2)))\nvb.layout.align_items = 'center'\nvb",
    "id": "6ac6dbefdb7d4d2a8077739047003f7e",
    "idx": 1,
    "time": "2021-02-02T05:57:59.806Z",
    "type": "execution"
   },
   {
    "code": "import plotly.graph_objs as go\nfrom ipywidgets import interactive, HBox, VBox, widgets, interact\nimport numpy as np\n\nxs2 = np.linspace(0, 5, 500)\n\ndef traveling_wave(k, omega, x, t):\n    return np.sin(k*x - omega*t/10.)\n\nfig2 = go.FigureWidget()\n\nfig2.layout = dict(yaxis=dict(range=[-1,1]), xaxis=dict(range=[0,5]),width = 1000)\n\nfig2.update_layout(\n    title={\n        'text': r'$y = \\sin(kx - \\omega t)$',\n        'y':0.85,\n        'x':0.5,\n        'xanchor': 'center',\n        'yanchor': 'top'})\n\nfig2.update_xaxes(\n        title_text = r\"$x$\",\n        title_standoff = 15,\n        ticks = 'outside',\n        ticklen = 10,\n        tickcolor='white')\n\nfig2.update_yaxes(\n        title_text = '',\n        title_standoff = 25,\n        ticks = 'outside',\n        ticklen = 10,\n        tickcolor = 'white')\n\n\nline2 = fig2.add_trace(go.Scatter(x=xs2, y=traveling_wave(1, 0, xs2, 0),\n                    mode='lines',\n                    name='lines'))\n\nbslider = widgets.FloatSlider(\n    value = 3.14,\n    min=0.1,\n    max=10,\n    step=0.02,\n    readout=True,\n    description=r'$k$')\nbslider.layout.width = '400px'\n\nbslider2 = widgets.FloatSlider(\n    value = 0,\n    min=-1,\n    max=1,\n    step=0.1,\n    readout=True,\n    description=r'$\\omega$')\nbslider2.layout.width = '400px'\n\nplay = widgets.Play(\n    interval = 5,\n    value = 0,\n    min=0,\n    max=500,\n    step=1\n)\n\ndef update2(k, omega, time):\n    fig2.data[0].y=traveling_wave(k, omega, xs2, time)\n\nvb2 = VBox((fig2, interactive(update2, k = bslider, omega = bslider2, time = play)))\nvb2",
    "id": "6fd5c579be934418ac919be9f0b02713",
    "idx": 2,
    "time": "2021-02-02T05:57:59.809Z",
    "type": "execution"
   },
   {
    "code": "from IPython.display import Audio,display\n\ndef play(f1, f2, sec=3):\n    framerate = 44100 # <- rate of sampling\n    t = np.linspace(0, sec, framerate * sec) # <- setup time values\n    data = np.sin(2 * np.pi * f1 * t) + np.sin(2 * np.pi * f2 * t) # <- sine function formula\n    display(InvisibleAudio(data, rate=framerate, autoplay=True)) # play the generated sound\n    return t[:2000], data[:2000]\n    \n\nclass InvisibleAudio(Audio):\n    def _repr_html_(self):\n        audio = super()._repr_html_()\n        audio = audio.replace('<audio', f'<audio onended=\"this.parentNode.removeChild(this)\"')\n        return f'<div style=\"display:none\">{audio}</div>'\n",
    "id": "d6bc447c1f014b71a0d5a5d1201b565c",
    "idx": 3,
    "time": "2021-02-02T05:57:59.810Z",
    "type": "execution"
   },
   {
    "code": "xs3 = np.linspace(0, 0.2, 1000)\n\nf1 = widgets.IntSlider(value = 1, min = 1, max = 600, step = 1, description = \"frequency 1\")\nf1.layout.width = '400px'\nf2 = widgets.IntSlider(value = 1, min = 1, max = 600, step = 1, description = \"frequency 2\")\nf2.layout.width = '400px'\n\n#xslider = widgets.FloatSlider(value = 0.05, min = 0.01, max = 1, step = 0.01, description = \"xrange\")\n#xslider.layout.width = '400px'\n\nbutton = widgets.Button(description='Play Sound')\nout3 = widgets.Output()\nfig3 = go.FigureWidget()\n\nfig3.add_trace(go.Scatter(x=xs3, y=np.sin(2*np.pi*1*xs3) + np.sin(2*np.pi*1*xs),\n                    mode='lines',\n                    name='sum'))\nfig3.add_trace(go.Scatter(x = xs3, y = np.sin(2*np.pi*80*xs3), mode = \"lines\", opacity = 0.2, name = \"frequency 1\"))\nfig3.add_trace(go.Scatter(x = xs3, y = np.sin(2*np.pi*80*xs3), mode = \"lines\", opacity = 0.2, name = \"frequency 2\"))\n\nfig3.layout = dict(yaxis=dict(range=[-2,2]), xaxis=dict(range=[0,0.2]),width = 900)\n\nfig3.update_layout(\n    title={\n        'text': r'$y = \\sin(2 \\pi f_1 t) + \\sin(2 \\pi f_2 t)$',\n        'y':0.85,\n        'x':0.5,\n        'xanchor': 'center',\n        'yanchor': 'top'})\n\nfig3.update_xaxes(\n        title_text = r\"$t$\",\n        title_standoff = 15,\n        ticks = 'outside',\n        ticklen = 10,\n        tickcolor='white')\n\nfig3.update_yaxes(\n        title_text = '',\n        title_standoff = 25,\n        ticks = 'outside',\n        ticklen = 10,\n        tickcolor = 'white')\n\nfig3.update_layout(showlegend=False)\n\ndef on_button_clicked(_):\n\n    t, data = play(f1.value, f2.value)\n    \n\ndef update_trace(freq1, freq2):\n    \n    fig3.data[0].y = np.sin(2*np.pi*freq1*xs3) + np.sin(2*np.pi*freq2*xs3)\n    fig3.data[1].y = np.sin(2*np.pi*freq1*xs3)\n    fig3.data[2].y = np.sin(2*np.pi*freq2*xs3)\n\n",
    "id": "25e801475d854b51a586c92c09bbfb8f",
    "idx": 4,
    "time": "2021-02-02T05:57:59.811Z",
    "type": "execution"
   },
   {
    "code": "# linking button and function together using a button's method\nbutton.on_click(on_button_clicked)\n# displaying button and its output together\nwidgets.VBox([fig3,button,out3])\n\nvb = widgets.VBox((fig3, interactive(update_trace, freq1 = f1, freq2 = f2), button))\nvb.layout.align_items = 'center'\nvb",
    "id": "f846d66bf87c429489bd87d94b6fad96",
    "idx": 5,
    "time": "2021-02-02T05:57:59.813Z",
    "type": "execution"
   },
   {
    "id": "6ac6dbefdb7d4d2a8077739047003f7e",
    "time": "2021-02-02T05:58:00.470Z",
    "type": "completion"
   },
   {
    "id": "6fd5c579be934418ac919be9f0b02713",
    "time": "2021-02-02T05:58:00.756Z",
    "type": "completion"
   },
   {
    "id": "d6bc447c1f014b71a0d5a5d1201b565c",
    "time": "2021-02-02T05:58:00.756Z",
    "type": "completion"
   },
   {
    "id": "25e801475d854b51a586c92c09bbfb8f",
    "time": "2021-02-02T05:58:00.900Z",
    "type": "completion"
   },
   {
    "id": "f846d66bf87c429489bd87d94b6fad96",
    "time": "2021-02-02T05:58:01.120Z",
    "type": "completion"
   },
   {
    "code": "xs2 = np.linspace(0, 5, 500)\n\ndef traveling_wave(k, omega, x, t):\n    return np.sin(k*x - omega*t/10.)\n\nfig2 = go.FigureWidget()\n\nfig2.layout = dict(yaxis=dict(range=[-1,1]), xaxis=dict(range=[0,5]),width = 1000)\n\nfig2.update_layout(\n    title={\n        'text': r'$y = \\sin(kx - \\omega t)$',\n        'y':0.85,\n        'x':0.5,\n        'xanchor': 'center',\n        'yanchor': 'top'})\n\nfig2.update_xaxes(\n        title_text = r\"$x$\",\n        title_standoff = 15,\n        ticks = 'outside',\n        ticklen = 10,\n        tickcolor='white')\n\nfig2.update_yaxes(\n        title_text = '',\n        title_standoff = 25,\n        ticks = 'outside',\n        ticklen = 10,\n        tickcolor = 'white')\n\n\nline2 = fig2.add_trace(go.Scatter(x=xs2, y=traveling_wave(1, 0, xs2, 0),\n                    mode='lines',\n                    name='lines'))\n\nbslider = widgets.FloatSlider(\n    value = 3.14,\n    min=0.1,\n    max=10,\n    step=0.02,\n    readout=True,\n    description=r'$k$')\nbslider.layout.width = '400px'\n\nbslider2 = widgets.FloatSlider(\n    value = 0,\n    min=-1,\n    max=1,\n    step=0.1,\n    readout=True,\n    description=r'$\\omega$')\nbslider2.layout.width = '400px'\n\nplay = widgets.Play(\n    interval = 5,\n    value = 0,\n    min=0,\n    max=500,\n    step=1\n)\n\ndef update2(k, omega, time):\n    fig2.data[0].y=traveling_wave(k, omega, xs2, time)\n\nvb2 = VBox((fig2, interactive(update2, k = bslider, omega = bslider2, time = play)))\nvb2",
    "id": "a546bad561704c4281c781c3c6fc4d01",
    "idx": 2,
    "time": "2021-02-02T06:01:08.083Z",
    "type": "execution"
   },
   {
    "id": "a546bad561704c4281c781c3c6fc4d01",
    "time": "2021-02-02T06:01:08.515Z",
    "type": "completion"
   },
   {
    "code": "from IPython.display import Audio,display\n\ndef play(f1, f2, sec=3):\n    framerate = 44100 # <- rate of sampling\n    t = np.linspace(0, sec, framerate * sec) # <- setup time values\n    data = np.sin(2 * np.pi * f1 * t) + np.sin(2 * np.pi * f2 * t) # <- sine function formula\n    display(InvisibleAudio(data, rate=framerate, autoplay=False)) # play the generated sound\n    \n\nclass InvisibleAudio(Audio):\n    def _repr_html_(self):\n        audio = super()._repr_html_()\n        audio = audio.replace('<audio', f'<audio onended=\"this.parentNode.removeChild(this)\"')\n        return f'<div style=\"display:none\">{audio}</div>'\n",
    "id": "8697a1b026044c028fa276d5f397d887",
    "idx": 3,
    "time": "2021-02-02T06:01:38.532Z",
    "type": "execution"
   },
   {
    "id": "8697a1b026044c028fa276d5f397d887",
    "time": "2021-02-02T06:01:38.596Z",
    "type": "completion"
   },
   {
    "code": "xs3 = np.linspace(0, 0.2, 1000)\n\nf1 = widgets.IntSlider(value = 1, min = 1, max = 600, step = 1, description = \"frequency 1\")\nf1.layout.width = '400px'\nf2 = widgets.IntSlider(value = 1, min = 1, max = 600, step = 1, description = \"frequency 2\")\nf2.layout.width = '400px'\n\n#xslider = widgets.FloatSlider(value = 0.05, min = 0.01, max = 1, step = 0.01, description = \"xrange\")\n#xslider.layout.width = '400px'\n\nbutton = widgets.Button(description='Play Sound')\nout3 = widgets.Output()\nfig3 = go.FigureWidget()\n\nfig3.add_trace(go.Scatter(x=xs3, y=np.sin(2*np.pi*1*xs3) + np.sin(2*np.pi*1*xs),\n                    mode='lines',\n                    name='sum'))\nfig3.add_trace(go.Scatter(x = xs3, y = np.sin(2*np.pi*80*xs3), mode = \"lines\", opacity = 0.2, name = \"frequency 1\"))\nfig3.add_trace(go.Scatter(x = xs3, y = np.sin(2*np.pi*80*xs3), mode = \"lines\", opacity = 0.2, name = \"frequency 2\"))\n\nfig3.layout = dict(yaxis=dict(range=[-2,2]), xaxis=dict(range=[0,0.2]),width = 900)\n\nfig3.update_layout(\n    title={\n        'text': r'$y = \\sin(2 \\pi f_1 t) + \\sin(2 \\pi f_2 t)$',\n        'y':0.85,\n        'x':0.5,\n        'xanchor': 'center',\n        'yanchor': 'top'})\n\nfig3.update_xaxes(\n        title_text = r\"$t$\",\n        title_standoff = 15,\n        ticks = 'outside',\n        ticklen = 10,\n        tickcolor='white')\n\nfig3.update_yaxes(\n        title_text = '',\n        title_standoff = 25,\n        ticks = 'outside',\n        ticklen = 10,\n        tickcolor = 'white')\n\nfig3.update_layout(showlegend=False)\n\ndef on_button_clicked(_):\n\n    t, data = play(f1.value, f2.value)\n    \n\ndef update_trace(freq1, freq2):\n    \n    fig3.data[0].y = np.sin(2*np.pi*freq1*xs3) + np.sin(2*np.pi*freq2*xs3)\n    fig3.data[1].y = np.sin(2*np.pi*freq1*xs3)\n    fig3.data[2].y = np.sin(2*np.pi*freq2*xs3)\n\n",
    "id": "93ce7fce2cf94ed9894d776f16e42fc4",
    "idx": 4,
    "time": "2021-02-02T06:01:39.551Z",
    "type": "execution"
   },
   {
    "id": "93ce7fce2cf94ed9894d776f16e42fc4",
    "time": "2021-02-02T06:01:39.892Z",
    "type": "completion"
   },
   {
    "code": "# linking button and function together using a button's method\nbutton.on_click(on_button_clicked)\n# displaying button and its output together\nwidgets.VBox([fig3,button,out3])\n\nvb = widgets.VBox((fig3, interactive(update_trace, freq1 = f1, freq2 = f2), button))\nvb.layout.align_items = 'center'\nvb",
    "id": "0225711ea84548089b08fa46854eebd3",
    "idx": 5,
    "time": "2021-02-02T06:01:40.685Z",
    "type": "execution"
   },
   {
    "id": "0225711ea84548089b08fa46854eebd3",
    "time": "2021-02-02T06:01:41.045Z",
    "type": "completion"
   },
   {
    "code": "xs3 = np.linspace(0, 0.2, 1000)\n\nf1 = widgets.IntSlider(value = 1, min = 1, max = 600, step = 1, description = \"frequency 1\")\nf1.layout.width = '400px'\nf2 = widgets.IntSlider(value = 1, min = 1, max = 600, step = 1, description = \"frequency 2\")\nf2.layout.width = '400px'\n\n#xslider = widgets.FloatSlider(value = 0.05, min = 0.01, max = 1, step = 0.01, description = \"xrange\")\n#xslider.layout.width = '400px'\n\nbutton = widgets.Button(description='Play Sound')\nout3 = widgets.Output()\nfig3 = go.FigureWidget()\n\nfig3.add_trace(go.Scatter(x=xs3, y=np.sin(2*np.pi*1*xs3) + np.sin(2*np.pi*1*xs),\n                    mode='lines',\n                    name='sum'))\nfig3.add_trace(go.Scatter(x = xs3, y = np.sin(2*np.pi*80*xs3), mode = \"lines\", opacity = 0.2, name = \"frequency 1\"))\nfig3.add_trace(go.Scatter(x = xs3, y = np.sin(2*np.pi*80*xs3), mode = \"lines\", opacity = 0.2, name = \"frequency 2\"))\n\nfig3.layout = dict(yaxis=dict(range=[-2,2]), xaxis=dict(range=[0,0.2]),width = 900)\n\nfig3.update_layout(\n    title={\n        'text': r'$y = \\sin(2 \\pi f_1 t) + \\sin(2 \\pi f_2 t)$',\n        'y':0.85,\n        'x':0.5,\n        'xanchor': 'center',\n        'yanchor': 'top'})\n\nfig3.update_xaxes(\n        title_text = r\"$t$\",\n        title_standoff = 15,\n        ticks = 'outside',\n        ticklen = 10,\n        tickcolor='white')\n\nfig3.update_yaxes(\n        title_text = '',\n        title_standoff = 25,\n        ticks = 'outside',\n        ticklen = 10,\n        tickcolor = 'white')\n\nfig3.update_layout(showlegend=False)\n\ndef on_button_clicked(_):\n\n    play(f1.value, f2.value)\n    \n\ndef update_trace(freq1, freq2):\n    \n    fig3.data[0].y = np.sin(2*np.pi*freq1*xs3) + np.sin(2*np.pi*freq2*xs3)\n    fig3.data[1].y = np.sin(2*np.pi*freq1*xs3)\n    fig3.data[2].y = np.sin(2*np.pi*freq2*xs3)\n\n",
    "id": "93ce7fce2cf94ed9894d776f16e42fc4",
    "idx": 4,
    "time": "2021-02-02T06:01:55.288Z",
    "type": "execution"
   },
   {
    "id": "93ce7fce2cf94ed9894d776f16e42fc4",
    "time": "2021-02-02T06:01:55.624Z",
    "type": "completion"
   },
   {
    "code": "# linking button and function together using a button's method\nbutton.on_click(on_button_clicked)\n# displaying button and its output together\nwidgets.VBox([fig3,button,out3])\n\nvb = widgets.VBox((fig3, interactive(update_trace, freq1 = f1, freq2 = f2), button))\nvb.layout.align_items = 'center'\nvb",
    "id": "0225711ea84548089b08fa46854eebd3",
    "idx": 5,
    "time": "2021-02-02T06:01:59.977Z",
    "type": "execution"
   },
   {
    "id": "0225711ea84548089b08fa46854eebd3",
    "time": "2021-02-02T06:02:00.368Z",
    "type": "completion"
   },
   {
    "code": "from IPython.display import Audio,display\n\ndef play(f1, f2, sec=3):\n    framerate = 44100 # <- rate of sampling\n    t = np.linspace(0, sec, framerate * sec) # <- setup time values\n    data = np.sin(2 * np.pi * f1 * t) + np.sin(2 * np.pi * f2 * t) # <- sine function formula\n    display(Audio(data, rate=framerate, autoplay=False)) # play the generated sound\n    \n\nclass InvisibleAudio(Audio):\n    def _repr_html_(self):\n        audio = super()._repr_html_()\n        audio = audio.replace('<audio', f'<audio onended=\"this.parentNode.removeChild(this)\"')\n        return f'<div style=\"display:none\">{audio}</div>'\n",
    "id": "8697a1b026044c028fa276d5f397d887",
    "idx": 3,
    "time": "2021-02-02T06:02:17.033Z",
    "type": "execution"
   },
   {
    "id": "8697a1b026044c028fa276d5f397d887",
    "time": "2021-02-02T06:02:17.108Z",
    "type": "completion"
   },
   {
    "code": "xs3 = np.linspace(0, 0.2, 1000)\n\nf1 = widgets.IntSlider(value = 1, min = 1, max = 600, step = 1, description = \"frequency 1\")\nf1.layout.width = '400px'\nf2 = widgets.IntSlider(value = 1, min = 1, max = 600, step = 1, description = \"frequency 2\")\nf2.layout.width = '400px'\n\n#xslider = widgets.FloatSlider(value = 0.05, min = 0.01, max = 1, step = 0.01, description = \"xrange\")\n#xslider.layout.width = '400px'\n\nbutton = widgets.Button(description='Play Sound')\nout3 = widgets.Output()\nfig3 = go.FigureWidget()\n\nfig3.add_trace(go.Scatter(x=xs3, y=np.sin(2*np.pi*1*xs3) + np.sin(2*np.pi*1*xs),\n                    mode='lines',\n                    name='sum'))\nfig3.add_trace(go.Scatter(x = xs3, y = np.sin(2*np.pi*80*xs3), mode = \"lines\", opacity = 0.2, name = \"frequency 1\"))\nfig3.add_trace(go.Scatter(x = xs3, y = np.sin(2*np.pi*80*xs3), mode = \"lines\", opacity = 0.2, name = \"frequency 2\"))\n\nfig3.layout = dict(yaxis=dict(range=[-2,2]), xaxis=dict(range=[0,0.2]),width = 900)\n\nfig3.update_layout(\n    title={\n        'text': r'$y = \\sin(2 \\pi f_1 t) + \\sin(2 \\pi f_2 t)$',\n        'y':0.85,\n        'x':0.5,\n        'xanchor': 'center',\n        'yanchor': 'top'})\n\nfig3.update_xaxes(\n        title_text = r\"$t$\",\n        title_standoff = 15,\n        ticks = 'outside',\n        ticklen = 10,\n        tickcolor='white')\n\nfig3.update_yaxes(\n        title_text = '',\n        title_standoff = 25,\n        ticks = 'outside',\n        ticklen = 10,\n        tickcolor = 'white')\n\nfig3.update_layout(showlegend=False)\n\ndef on_button_clicked(_):\n\n    play(f1.value, f2.value)\n    \n\ndef update_trace(freq1, freq2):\n    \n    fig3.data[0].y = np.sin(2*np.pi*freq1*xs3) + np.sin(2*np.pi*freq2*xs3)\n    fig3.data[1].y = np.sin(2*np.pi*freq1*xs3)\n    fig3.data[2].y = np.sin(2*np.pi*freq2*xs3)\n\n",
    "id": "93ce7fce2cf94ed9894d776f16e42fc4",
    "idx": 4,
    "time": "2021-02-02T06:02:17.658Z",
    "type": "execution"
   },
   {
    "id": "93ce7fce2cf94ed9894d776f16e42fc4",
    "time": "2021-02-02T06:02:17.972Z",
    "type": "completion"
   },
   {
    "code": "# linking button and function together using a button's method\nbutton.on_click(on_button_clicked)\n# displaying button and its output together\nwidgets.VBox([fig3,button,out3])\n\nvb = widgets.VBox((fig3, interactive(update_trace, freq1 = f1, freq2 = f2), button))\nvb.layout.align_items = 'center'\nvb",
    "id": "0225711ea84548089b08fa46854eebd3",
    "idx": 5,
    "time": "2021-02-02T06:02:18.208Z",
    "type": "execution"
   },
   {
    "id": "0225711ea84548089b08fa46854eebd3",
    "time": "2021-02-02T06:02:18.555Z",
    "type": "completion"
   },
   {
    "code": "from IPython.display import Audio,display\n\ndef play(f1, f2, sec=3):\n    framerate = 44100 # <- rate of sampling\n    t = np.linspace(0, sec, framerate * sec) # <- setup time values\n    data = np.sin(2 * np.pi * f1 * t) + np.sin(2 * np.pi * f2 * t) # <- sine function formula\n    display(Audio(data, rate=framerate, autoplay=True)) # play the generated sound\n    \n\nclass InvisibleAudio(Audio):\n    def _repr_html_(self):\n        audio = super()._repr_html_()\n        audio = audio.replace('<audio', f'<audio onended=\"this.parentNode.removeChild(this)\"')\n        return f'<div style=\"display:none\">{audio}</div>'\n",
    "id": "1db31c59d59a4dd288dc2ce7bc443b02",
    "idx": 3,
    "time": "2021-02-02T06:03:19.987Z",
    "type": "execution"
   },
   {
    "id": "1db31c59d59a4dd288dc2ce7bc443b02",
    "time": "2021-02-02T06:03:20.053Z",
    "type": "completion"
   },
   {
    "code": "xs3 = np.linspace(0, 0.2, 1000)\n\nf1 = widgets.IntSlider(value = 1, min = 1, max = 600, step = 1, description = \"frequency 1\")\nf1.layout.width = '400px'\nf2 = widgets.IntSlider(value = 1, min = 1, max = 600, step = 1, description = \"frequency 2\")\nf2.layout.width = '400px'\n\n#xslider = widgets.FloatSlider(value = 0.05, min = 0.01, max = 1, step = 0.01, description = \"xrange\")\n#xslider.layout.width = '400px'\n\nbutton = widgets.Button(description='Play Sound')\nout3 = widgets.Output()\nfig3 = go.FigureWidget()\n\nfig3.add_trace(go.Scatter(x=xs3, y=np.sin(2*np.pi*1*xs3) + np.sin(2*np.pi*1*xs),\n                    mode='lines',\n                    name='sum'))\nfig3.add_trace(go.Scatter(x = xs3, y = np.sin(2*np.pi*80*xs3), mode = \"lines\", opacity = 0.2, name = \"frequency 1\"))\nfig3.add_trace(go.Scatter(x = xs3, y = np.sin(2*np.pi*80*xs3), mode = \"lines\", opacity = 0.2, name = \"frequency 2\"))\n\nfig3.layout = dict(yaxis=dict(range=[-2,2]), xaxis=dict(range=[0,0.2]),width = 900)\n\nfig3.update_layout(\n    title={\n        'text': r'$y = \\sin(2 \\pi f_1 t) + \\sin(2 \\pi f_2 t)$',\n        'y':0.85,\n        'x':0.5,\n        'xanchor': 'center',\n        'yanchor': 'top'})\n\nfig3.update_xaxes(\n        title_text = r\"$t$\",\n        title_standoff = 15,\n        ticks = 'outside',\n        ticklen = 10,\n        tickcolor='white')\n\nfig3.update_yaxes(\n        title_text = '',\n        title_standoff = 25,\n        ticks = 'outside',\n        ticklen = 10,\n        tickcolor = 'white')\n\nfig3.update_layout(showlegend=False)\n\ndef on_button_clicked(_):\n\n    play(f1.value, f2.value)\n    \n\ndef update_trace(freq1, freq2):\n    \n    fig3.data[0].y = np.sin(2*np.pi*freq1*xs3) + np.sin(2*np.pi*freq2*xs3)\n    fig3.data[1].y = np.sin(2*np.pi*freq1*xs3)\n    fig3.data[2].y = np.sin(2*np.pi*freq2*xs3)\n\n",
    "id": "35b6418e43274b52ad4679ea38f50636",
    "idx": 4,
    "time": "2021-02-02T06:03:21.381Z",
    "type": "execution"
   },
   {
    "id": "35b6418e43274b52ad4679ea38f50636",
    "time": "2021-02-02T06:03:21.675Z",
    "type": "completion"
   },
   {
    "code": "# linking button and function together using a button's method\nbutton.on_click(on_button_clicked)\n# displaying button and its output together\nwidgets.VBox([fig3,button,out3])\n\nvb = widgets.VBox((fig3, interactive(update_trace, freq1 = f1, freq2 = f2), button))\nvb.layout.align_items = 'center'\nvb",
    "id": "d2e5df42e5e343ec97824216ece3252d",
    "idx": 5,
    "time": "2021-02-02T06:03:22.985Z",
    "type": "execution"
   },
   {
    "id": "d2e5df42e5e343ec97824216ece3252d",
    "time": "2021-02-02T06:03:23.386Z",
    "type": "completion"
   },
   {
    "code": "from IPython.display import Audio,display, clear_output\n\ndef play(f1, f2, sec=3):\n    framerate = 44100 # <- rate of sampling\n    t = np.linspace(0, sec, framerate * sec) # <- setup time values\n    data = np.sin(2 * np.pi * f1 * t) + np.sin(2 * np.pi * f2 * t) # <- sine function formula\n    display(Audio(data, rate=framerate, autoplay=True)) # play the generated sound\n    clear_output\n    \n\nclass InvisibleAudio(Audio):\n    def _repr_html_(self):\n        audio = super()._repr_html_()\n        audio = audio.replace('<audio', f'<audio onended=\"this.parentNode.removeChild(this)\"')\n        return f'<div style=\"display:none\">{audio}</div>'\n",
    "id": "d74b805225e140f1a0af60f97b4a9854",
    "idx": 3,
    "time": "2021-02-02T06:05:25.963Z",
    "type": "execution"
   },
   {
    "id": "d74b805225e140f1a0af60f97b4a9854",
    "time": "2021-02-02T06:05:26.031Z",
    "type": "completion"
   },
   {
    "code": "xs3 = np.linspace(0, 0.2, 1000)\n\nf1 = widgets.IntSlider(value = 1, min = 1, max = 600, step = 1, description = \"frequency 1\")\nf1.layout.width = '400px'\nf2 = widgets.IntSlider(value = 1, min = 1, max = 600, step = 1, description = \"frequency 2\")\nf2.layout.width = '400px'\n\n#xslider = widgets.FloatSlider(value = 0.05, min = 0.01, max = 1, step = 0.01, description = \"xrange\")\n#xslider.layout.width = '400px'\n\nbutton = widgets.Button(description='Play Sound')\nout3 = widgets.Output()\nfig3 = go.FigureWidget()\n\nfig3.add_trace(go.Scatter(x=xs3, y=np.sin(2*np.pi*1*xs3) + np.sin(2*np.pi*1*xs),\n                    mode='lines',\n                    name='sum'))\nfig3.add_trace(go.Scatter(x = xs3, y = np.sin(2*np.pi*80*xs3), mode = \"lines\", opacity = 0.2, name = \"frequency 1\"))\nfig3.add_trace(go.Scatter(x = xs3, y = np.sin(2*np.pi*80*xs3), mode = \"lines\", opacity = 0.2, name = \"frequency 2\"))\n\nfig3.layout = dict(yaxis=dict(range=[-2,2]), xaxis=dict(range=[0,0.2]),width = 900)\n\nfig3.update_layout(\n    title={\n        'text': r'$y = \\sin(2 \\pi f_1 t) + \\sin(2 \\pi f_2 t)$',\n        'y':0.85,\n        'x':0.5,\n        'xanchor': 'center',\n        'yanchor': 'top'})\n\nfig3.update_xaxes(\n        title_text = r\"$t$\",\n        title_standoff = 15,\n        ticks = 'outside',\n        ticklen = 10,\n        tickcolor='white')\n\nfig3.update_yaxes(\n        title_text = '',\n        title_standoff = 25,\n        ticks = 'outside',\n        ticklen = 10,\n        tickcolor = 'white')\n\nfig3.update_layout(showlegend=False)\n\ndef on_button_clicked(_):\n\n    play(f1.value, f2.value)\n    \n\ndef update_trace(freq1, freq2):\n    \n    fig3.data[0].y = np.sin(2*np.pi*freq1*xs3) + np.sin(2*np.pi*freq2*xs3)\n    fig3.data[1].y = np.sin(2*np.pi*freq1*xs3)\n    fig3.data[2].y = np.sin(2*np.pi*freq2*xs3)\n\n",
    "id": "cc30a902146449ec85dafc69adc410bc",
    "idx": 4,
    "time": "2021-02-02T06:05:27.857Z",
    "type": "execution"
   },
   {
    "id": "cc30a902146449ec85dafc69adc410bc",
    "time": "2021-02-02T06:05:28.242Z",
    "type": "completion"
   },
   {
    "code": "# linking button and function together using a button's method\nbutton.on_click(on_button_clicked)\n# displaying button and its output together\nwidgets.VBox([fig3,button,out3])\n\nvb = widgets.VBox((fig3, interactive(update_trace, freq1 = f1, freq2 = f2), button))\nvb.layout.align_items = 'center'\nvb",
    "id": "07f74df17ed142408a4296d1460106d9",
    "idx": 5,
    "time": "2021-02-02T06:05:30.310Z",
    "type": "execution"
   },
   {
    "id": "07f74df17ed142408a4296d1460106d9",
    "time": "2021-02-02T06:05:30.738Z",
    "type": "completion"
   },
   {
    "code": "from IPython.display import Audio,display, clear_output\n\ndef play(f1, f2, sec=3):\n    framerate = 44100 # <- rate of sampling\n    t = np.linspace(0, sec, framerate * sec) # <- setup time values\n    data = np.sin(2 * np.pi * f1 * t) + np.sin(2 * np.pi * f2 * t) # <- sine function formula\n    display(Audio(data, rate=framerate, autoplay=True)) # play the generated sound\n    clear_output()\n    \n\nclass InvisibleAudio(Audio):\n    def _repr_html_(self):\n        audio = super()._repr_html_()\n        audio = audio.replace('<audio', f'<audio onended=\"this.parentNode.removeChild(this)\"')\n        return f'<div style=\"display:none\">{audio}</div>'\n",
    "id": "d74b805225e140f1a0af60f97b4a9854",
    "idx": 3,
    "time": "2021-02-02T06:05:51.119Z",
    "type": "execution"
   },
   {
    "id": "d74b805225e140f1a0af60f97b4a9854",
    "time": "2021-02-02T06:05:51.187Z",
    "type": "completion"
   },
   {
    "code": "xs3 = np.linspace(0, 0.2, 1000)\n\nf1 = widgets.IntSlider(value = 1, min = 1, max = 600, step = 1, description = \"frequency 1\")\nf1.layout.width = '400px'\nf2 = widgets.IntSlider(value = 1, min = 1, max = 600, step = 1, description = \"frequency 2\")\nf2.layout.width = '400px'\n\n#xslider = widgets.FloatSlider(value = 0.05, min = 0.01, max = 1, step = 0.01, description = \"xrange\")\n#xslider.layout.width = '400px'\n\nbutton = widgets.Button(description='Play Sound')\nout3 = widgets.Output()\nfig3 = go.FigureWidget()\n\nfig3.add_trace(go.Scatter(x=xs3, y=np.sin(2*np.pi*1*xs3) + np.sin(2*np.pi*1*xs),\n                    mode='lines',\n                    name='sum'))\nfig3.add_trace(go.Scatter(x = xs3, y = np.sin(2*np.pi*80*xs3), mode = \"lines\", opacity = 0.2, name = \"frequency 1\"))\nfig3.add_trace(go.Scatter(x = xs3, y = np.sin(2*np.pi*80*xs3), mode = \"lines\", opacity = 0.2, name = \"frequency 2\"))\n\nfig3.layout = dict(yaxis=dict(range=[-2,2]), xaxis=dict(range=[0,0.2]),width = 900)\n\nfig3.update_layout(\n    title={\n        'text': r'$y = \\sin(2 \\pi f_1 t) + \\sin(2 \\pi f_2 t)$',\n        'y':0.85,\n        'x':0.5,\n        'xanchor': 'center',\n        'yanchor': 'top'})\n\nfig3.update_xaxes(\n        title_text = r\"$t$\",\n        title_standoff = 15,\n        ticks = 'outside',\n        ticklen = 10,\n        tickcolor='white')\n\nfig3.update_yaxes(\n        title_text = '',\n        title_standoff = 25,\n        ticks = 'outside',\n        ticklen = 10,\n        tickcolor = 'white')\n\nfig3.update_layout(showlegend=False)\n\ndef on_button_clicked(_):\n\n    play(f1.value, f2.value)\n    \n\ndef update_trace(freq1, freq2):\n    \n    fig3.data[0].y = np.sin(2*np.pi*freq1*xs3) + np.sin(2*np.pi*freq2*xs3)\n    fig3.data[1].y = np.sin(2*np.pi*freq1*xs3)\n    fig3.data[2].y = np.sin(2*np.pi*freq2*xs3)\n\n",
    "id": "cc30a902146449ec85dafc69adc410bc",
    "idx": 4,
    "time": "2021-02-02T06:05:51.503Z",
    "type": "execution"
   },
   {
    "id": "cc30a902146449ec85dafc69adc410bc",
    "time": "2021-02-02T06:05:51.777Z",
    "type": "completion"
   },
   {
    "code": "# linking button and function together using a button's method\nbutton.on_click(on_button_clicked)\n# displaying button and its output together\nwidgets.VBox([fig3,button,out3])\n\nvb = widgets.VBox((fig3, interactive(update_trace, freq1 = f1, freq2 = f2), button))\nvb.layout.align_items = 'center'\nvb",
    "id": "07f74df17ed142408a4296d1460106d9",
    "idx": 5,
    "time": "2021-02-02T06:05:52.341Z",
    "type": "execution"
   },
   {
    "id": "07f74df17ed142408a4296d1460106d9",
    "time": "2021-02-02T06:05:52.686Z",
    "type": "completion"
   },
   {
    "code": "# linking button and function together using a button's method\nbutton.on_click(on_button_clicked)\n# displaying button and its output together\nwidgets.VBox([fig3,button,out3])\n\nvb = widgets.VBox((fig3, interactive(update_trace, freq1 = f1, freq2 = f2), button))\nvb.layout.align_items = 'center'\nvb",
    "id": "07f74df17ed142408a4296d1460106d9",
    "idx": 5,
    "time": "2021-02-02T06:05:57.926Z",
    "type": "execution"
   },
   {
    "id": "07f74df17ed142408a4296d1460106d9",
    "time": "2021-02-02T06:05:58.166Z",
    "type": "completion"
   },
   {
    "code": "from IPython.display import Audio,display, clear_output\n\ndef play(f1, f2, sec=3):\n    framerate = 44100 # <- rate of sampling\n    t = np.linspace(0, sec, framerate * sec) # <- setup time values\n    data = np.sin(2 * np.pi * f1 * t) + np.sin(2 * np.pi * f2 * t) # <- sine function formula\n    clip = display(Audio(data, rate=framerate, autoplay=True)) # play the generated sound\n    clip.clear_output()\n    \n\nclass InvisibleAudio(Audio):\n    def _repr_html_(self):\n        audio = super()._repr_html_()\n        audio = audio.replace('<audio', f'<audio onended=\"this.parentNode.removeChild(this)\"')\n        return f'<div style=\"display:none\">{audio}</div>'\n",
    "id": "d74b805225e140f1a0af60f97b4a9854",
    "idx": 3,
    "time": "2021-02-02T06:09:05.128Z",
    "type": "execution"
   },
   {
    "id": "d74b805225e140f1a0af60f97b4a9854",
    "time": "2021-02-02T06:09:05.198Z",
    "type": "completion"
   },
   {
    "code": "xs3 = np.linspace(0, 0.2, 1000)\n\nf1 = widgets.IntSlider(value = 1, min = 1, max = 600, step = 1, description = \"frequency 1\")\nf1.layout.width = '400px'\nf2 = widgets.IntSlider(value = 1, min = 1, max = 600, step = 1, description = \"frequency 2\")\nf2.layout.width = '400px'\n\n#xslider = widgets.FloatSlider(value = 0.05, min = 0.01, max = 1, step = 0.01, description = \"xrange\")\n#xslider.layout.width = '400px'\n\nbutton = widgets.Button(description='Play Sound')\nout3 = widgets.Output()\nfig3 = go.FigureWidget()\n\nfig3.add_trace(go.Scatter(x=xs3, y=np.sin(2*np.pi*1*xs3) + np.sin(2*np.pi*1*xs),\n                    mode='lines',\n                    name='sum'))\nfig3.add_trace(go.Scatter(x = xs3, y = np.sin(2*np.pi*80*xs3), mode = \"lines\", opacity = 0.2, name = \"frequency 1\"))\nfig3.add_trace(go.Scatter(x = xs3, y = np.sin(2*np.pi*80*xs3), mode = \"lines\", opacity = 0.2, name = \"frequency 2\"))\n\nfig3.layout = dict(yaxis=dict(range=[-2,2]), xaxis=dict(range=[0,0.2]),width = 900)\n\nfig3.update_layout(\n    title={\n        'text': r'$y = \\sin(2 \\pi f_1 t) + \\sin(2 \\pi f_2 t)$',\n        'y':0.85,\n        'x':0.5,\n        'xanchor': 'center',\n        'yanchor': 'top'})\n\nfig3.update_xaxes(\n        title_text = r\"$t$\",\n        title_standoff = 15,\n        ticks = 'outside',\n        ticklen = 10,\n        tickcolor='white')\n\nfig3.update_yaxes(\n        title_text = '',\n        title_standoff = 25,\n        ticks = 'outside',\n        ticklen = 10,\n        tickcolor = 'white')\n\nfig3.update_layout(showlegend=False)\n\ndef on_button_clicked(_):\n\n    play(f1.value, f2.value)\n    \n\ndef update_trace(freq1, freq2):\n    \n    fig3.data[0].y = np.sin(2*np.pi*freq1*xs3) + np.sin(2*np.pi*freq2*xs3)\n    fig3.data[1].y = np.sin(2*np.pi*freq1*xs3)\n    fig3.data[2].y = np.sin(2*np.pi*freq2*xs3)\n\n",
    "id": "cc30a902146449ec85dafc69adc410bc",
    "idx": 4,
    "time": "2021-02-02T06:09:05.627Z",
    "type": "execution"
   },
   {
    "id": "cc30a902146449ec85dafc69adc410bc",
    "time": "2021-02-02T06:09:05.958Z",
    "type": "completion"
   },
   {
    "code": "# linking button and function together using a button's method\nbutton.on_click(on_button_clicked)\n# displaying button and its output together\nwidgets.VBox([fig3,button,out3])\n\nvb = widgets.VBox((fig3, interactive(update_trace, freq1 = f1, freq2 = f2), button))\nvb.layout.align_items = 'center'\nvb",
    "id": "07f74df17ed142408a4296d1460106d9",
    "idx": 5,
    "time": "2021-02-02T06:09:06.061Z",
    "type": "execution"
   },
   {
    "id": "07f74df17ed142408a4296d1460106d9",
    "time": "2021-02-02T06:09:06.414Z",
    "type": "completion"
   },
   {
    "code": "from IPython.display import Audio,display, clear_output\n\ndef play(f1, f2, sec=3):\n    framerate = 44100 # <- rate of sampling\n    t = np.linspace(0, sec, framerate * sec) # <- setup time values\n    data = np.sin(2 * np.pi * f1 * t) + np.sin(2 * np.pi * f2 * t) # <- sine function formula\n    display(Audio(data, rate=framerate, autoplay=True)) # play the generated sound\n    clear_output(wait=3)\n    \n\nclass InvisibleAudio(Audio):\n    def _repr_html_(self):\n        audio = super()._repr_html_()\n        audio = audio.replace('<audio', f'<audio onended=\"this.parentNode.removeChild(this)\"')\n        return f'<div style=\"display:none\">{audio}</div>'\n",
    "id": "d74b805225e140f1a0af60f97b4a9854",
    "idx": 3,
    "time": "2021-02-02T06:12:25.222Z",
    "type": "execution"
   },
   {
    "id": "d74b805225e140f1a0af60f97b4a9854",
    "time": "2021-02-02T06:12:25.309Z",
    "type": "completion"
   },
   {
    "code": "xs3 = np.linspace(0, 0.2, 1000)\n\nf1 = widgets.IntSlider(value = 1, min = 1, max = 600, step = 1, description = \"frequency 1\")\nf1.layout.width = '400px'\nf2 = widgets.IntSlider(value = 1, min = 1, max = 600, step = 1, description = \"frequency 2\")\nf2.layout.width = '400px'\n\n#xslider = widgets.FloatSlider(value = 0.05, min = 0.01, max = 1, step = 0.01, description = \"xrange\")\n#xslider.layout.width = '400px'\n\nbutton = widgets.Button(description='Play Sound')\nout3 = widgets.Output()\nfig3 = go.FigureWidget()\n\nfig3.add_trace(go.Scatter(x=xs3, y=np.sin(2*np.pi*1*xs3) + np.sin(2*np.pi*1*xs),\n                    mode='lines',\n                    name='sum'))\nfig3.add_trace(go.Scatter(x = xs3, y = np.sin(2*np.pi*80*xs3), mode = \"lines\", opacity = 0.2, name = \"frequency 1\"))\nfig3.add_trace(go.Scatter(x = xs3, y = np.sin(2*np.pi*80*xs3), mode = \"lines\", opacity = 0.2, name = \"frequency 2\"))\n\nfig3.layout = dict(yaxis=dict(range=[-2,2]), xaxis=dict(range=[0,0.2]),width = 900)\n\nfig3.update_layout(\n    title={\n        'text': r'$y = \\sin(2 \\pi f_1 t) + \\sin(2 \\pi f_2 t)$',\n        'y':0.85,\n        'x':0.5,\n        'xanchor': 'center',\n        'yanchor': 'top'})\n\nfig3.update_xaxes(\n        title_text = r\"$t$\",\n        title_standoff = 15,\n        ticks = 'outside',\n        ticklen = 10,\n        tickcolor='white')\n\nfig3.update_yaxes(\n        title_text = '',\n        title_standoff = 25,\n        ticks = 'outside',\n        ticklen = 10,\n        tickcolor = 'white')\n\nfig3.update_layout(showlegend=False)\n\ndef on_button_clicked(_):\n\n    play(f1.value, f2.value)\n    \n\ndef update_trace(freq1, freq2):\n    \n    fig3.data[0].y = np.sin(2*np.pi*freq1*xs3) + np.sin(2*np.pi*freq2*xs3)\n    fig3.data[1].y = np.sin(2*np.pi*freq1*xs3)\n    fig3.data[2].y = np.sin(2*np.pi*freq2*xs3)\n\n",
    "id": "cc30a902146449ec85dafc69adc410bc",
    "idx": 4,
    "time": "2021-02-02T06:12:25.761Z",
    "type": "execution"
   },
   {
    "id": "cc30a902146449ec85dafc69adc410bc",
    "time": "2021-02-02T06:12:26.105Z",
    "type": "completion"
   },
   {
    "code": "# linking button and function together using a button's method\nbutton.on_click(on_button_clicked)\n# displaying button and its output together\nwidgets.VBox([fig3,button,out3])\n\nvb = widgets.VBox((fig3, interactive(update_trace, freq1 = f1, freq2 = f2), button))\nvb.layout.align_items = 'center'\nvb",
    "id": "07f74df17ed142408a4296d1460106d9",
    "idx": 5,
    "time": "2021-02-02T06:12:27.049Z",
    "type": "execution"
   },
   {
    "id": "07f74df17ed142408a4296d1460106d9",
    "time": "2021-02-02T06:12:27.421Z",
    "type": "completion"
   },
   {
    "code": "from IPython.display import Audio,display, clear_output\n\ndef play(f1, f2, sec=3):\n    framerate = 44100 # <- rate of sampling\n    t = np.linspace(0, sec, framerate * sec) # <- setup time values\n    data = np.sin(2 * np.pi * f1 * t) + np.sin(2 * np.pi * f2 * t) # <- sine function formula\n    display(Audio(data, rate=framerate, autoplay=True)) # play the generated sound\n    clear_output(wait=3)\n    \n\nclass InvisibleAudio(Audio):\n    def _repr_html_(self):\n        audio = super()._repr_html_()\n        audio = audio.replace('<audio', f'<audio onended=\"this.parentNode.removeChild(this)\"')\n        return f'<div style=\"display:none\">{audio}</div>'\n",
    "id": "d74b805225e140f1a0af60f97b4a9854",
    "idx": 3,
    "time": "2021-02-02T06:12:38.026Z",
    "type": "execution"
   },
   {
    "id": "d74b805225e140f1a0af60f97b4a9854",
    "time": "2021-02-02T06:12:38.092Z",
    "type": "completion"
   },
   {
    "code": "xs3 = np.linspace(0, 0.2, 1000)\n\nf1 = widgets.IntSlider(value = 1, min = 1, max = 600, step = 1, description = \"frequency 1\")\nf1.layout.width = '400px'\nf2 = widgets.IntSlider(value = 1, min = 1, max = 600, step = 1, description = \"frequency 2\")\nf2.layout.width = '400px'\n\n#xslider = widgets.FloatSlider(value = 0.05, min = 0.01, max = 1, step = 0.01, description = \"xrange\")\n#xslider.layout.width = '400px'\n\nbutton = widgets.Button(description='Play Sound')\nout3 = widgets.Output()\nfig3 = go.FigureWidget()\n\nfig3.add_trace(go.Scatter(x=xs3, y=np.sin(2*np.pi*1*xs3) + np.sin(2*np.pi*1*xs),\n                    mode='lines',\n                    name='sum'))\nfig3.add_trace(go.Scatter(x = xs3, y = np.sin(2*np.pi*80*xs3), mode = \"lines\", opacity = 0.2, name = \"frequency 1\"))\nfig3.add_trace(go.Scatter(x = xs3, y = np.sin(2*np.pi*80*xs3), mode = \"lines\", opacity = 0.2, name = \"frequency 2\"))\n\nfig3.layout = dict(yaxis=dict(range=[-2,2]), xaxis=dict(range=[0,0.2]),width = 900)\n\nfig3.update_layout(\n    title={\n        'text': r'$y = \\sin(2 \\pi f_1 t) + \\sin(2 \\pi f_2 t)$',\n        'y':0.85,\n        'x':0.5,\n        'xanchor': 'center',\n        'yanchor': 'top'})\n\nfig3.update_xaxes(\n        title_text = r\"$t$\",\n        title_standoff = 15,\n        ticks = 'outside',\n        ticklen = 10,\n        tickcolor='white')\n\nfig3.update_yaxes(\n        title_text = '',\n        title_standoff = 25,\n        ticks = 'outside',\n        ticklen = 10,\n        tickcolor = 'white')\n\nfig3.update_layout(showlegend=False)\n\ndef on_button_clicked(_):\n\n    play(f1.value, f2.value)\n    \n\ndef update_trace(freq1, freq2):\n    \n    fig3.data[0].y = np.sin(2*np.pi*freq1*xs3) + np.sin(2*np.pi*freq2*xs3)\n    fig3.data[1].y = np.sin(2*np.pi*freq1*xs3)\n    fig3.data[2].y = np.sin(2*np.pi*freq2*xs3)\n\n",
    "id": "cc30a902146449ec85dafc69adc410bc",
    "idx": 4,
    "time": "2021-02-02T06:12:38.546Z",
    "type": "execution"
   },
   {
    "id": "cc30a902146449ec85dafc69adc410bc",
    "time": "2021-02-02T06:12:38.795Z",
    "type": "completion"
   },
   {
    "code": "# linking button and function together using a button's method\nbutton.on_click(on_button_clicked)\n# displaying button and its output together\nwidgets.VBox([fig3,button,out3])\n\nvb = widgets.VBox((fig3, interactive(update_trace, freq1 = f1, freq2 = f2), button))\nvb.layout.align_items = 'center'\nvb",
    "id": "07f74df17ed142408a4296d1460106d9",
    "idx": 5,
    "time": "2021-02-02T06:12:39.179Z",
    "type": "execution"
   },
   {
    "id": "07f74df17ed142408a4296d1460106d9",
    "time": "2021-02-02T06:12:39.506Z",
    "type": "completion"
   },
   {
    "code": "from IPython.display import Audio,display, clear_output\n\ndef play(f1, f2, sec=3):\n    framerate = 44100 # <- rate of sampling\n    t = np.linspace(0, sec, framerate * sec) # <- setup time values\n    data = np.sin(2 * np.pi * f1 * t) + np.sin(2 * np.pi * f2 * t) # <- sine function formula\n    display(InvisibleAudio(data, rate=framerate, autoplay=True)) # play the generated sound\n    \n\nclass InvisibleAudio(Audio):\n    def _repr_html_(self):\n        audio = super()._repr_html_()\n        audio = audio.replace('<audio', f'<audio onended=\"this.parentNode.removeChild(this)\"')\n        return f'<div style=\"display:none\">{audio}</div>'\n",
    "id": "d74b805225e140f1a0af60f97b4a9854",
    "idx": 3,
    "time": "2021-02-02T06:13:39.567Z",
    "type": "execution"
   },
   {
    "id": "d74b805225e140f1a0af60f97b4a9854",
    "time": "2021-02-02T06:13:39.646Z",
    "type": "completion"
   },
   {
    "code": "xs3 = np.linspace(0, 0.2, 1000)\n\nf1 = widgets.IntSlider(value = 1, min = 1, max = 600, step = 1, description = \"frequency 1\")\nf1.layout.width = '400px'\nf2 = widgets.IntSlider(value = 1, min = 1, max = 600, step = 1, description = \"frequency 2\")\nf2.layout.width = '400px'\n\n#xslider = widgets.FloatSlider(value = 0.05, min = 0.01, max = 1, step = 0.01, description = \"xrange\")\n#xslider.layout.width = '400px'\n\nbutton = widgets.Button(description='Play Sound')\nout3 = widgets.Output()\nfig3 = go.FigureWidget()\n\nfig3.add_trace(go.Scatter(x=xs3, y=np.sin(2*np.pi*1*xs3) + np.sin(2*np.pi*1*xs),\n                    mode='lines',\n                    name='sum'))\nfig3.add_trace(go.Scatter(x = xs3, y = np.sin(2*np.pi*80*xs3), mode = \"lines\", opacity = 0.2, name = \"frequency 1\"))\nfig3.add_trace(go.Scatter(x = xs3, y = np.sin(2*np.pi*80*xs3), mode = \"lines\", opacity = 0.2, name = \"frequency 2\"))\n\nfig3.layout = dict(yaxis=dict(range=[-2,2]), xaxis=dict(range=[0,0.2]),width = 900)\n\nfig3.update_layout(\n    title={\n        'text': r'$y = \\sin(2 \\pi f_1 t) + \\sin(2 \\pi f_2 t)$',\n        'y':0.85,\n        'x':0.5,\n        'xanchor': 'center',\n        'yanchor': 'top'})\n\nfig3.update_xaxes(\n        title_text = r\"$t$\",\n        title_standoff = 15,\n        ticks = 'outside',\n        ticklen = 10,\n        tickcolor='white')\n\nfig3.update_yaxes(\n        title_text = '',\n        title_standoff = 25,\n        ticks = 'outside',\n        ticklen = 10,\n        tickcolor = 'white')\n\nfig3.update_layout(showlegend=False)\n\ndef on_button_clicked(_):\n\n    play(f1.value, f2.value)\n    \n\ndef update_trace(freq1, freq2):\n    \n    fig3.data[0].y = np.sin(2*np.pi*freq1*xs3) + np.sin(2*np.pi*freq2*xs3)\n    fig3.data[1].y = np.sin(2*np.pi*freq1*xs3)\n    fig3.data[2].y = np.sin(2*np.pi*freq2*xs3)\n\n",
    "id": "cc30a902146449ec85dafc69adc410bc",
    "idx": 4,
    "time": "2021-02-02T06:13:40.057Z",
    "type": "execution"
   },
   {
    "id": "cc30a902146449ec85dafc69adc410bc",
    "time": "2021-02-02T06:13:40.353Z",
    "type": "completion"
   },
   {
    "code": "# linking button and function together using a button's method\nbutton.on_click(on_button_clicked)\n# displaying button and its output together\nwidgets.VBox([fig3,button,out3])\n\nvb = widgets.VBox((fig3, interactive(update_trace, freq1 = f1, freq2 = f2), button))\nvb.layout.align_items = 'center'\nvb",
    "id": "07f74df17ed142408a4296d1460106d9",
    "idx": 5,
    "time": "2021-02-02T06:13:40.826Z",
    "type": "execution"
   },
   {
    "id": "07f74df17ed142408a4296d1460106d9",
    "time": "2021-02-02T06:13:41.228Z",
    "type": "completion"
   },
   {
    "code": "# @hidden_cell\n\nimport plotly.graph_objs as go\nfrom ipywidgets import interactive, HBox, VBox, widgets, interact\nimport numpy as np\n\nxs = np.linspace(0, 5, 1000)\n\ndef wave(f, phi, x):\n    return np.sin(2*np.pi*f*x + phi)\n\nfig = go.FigureWidget()\n\nfig.layout = dict(yaxis=dict(range=[-1,1]), xaxis=dict(range=[0,5]),width = 1000)\n\nfig.update_layout(\n    title={\n        'text': r'$y = \\sin(2 \\pi f x + \\phi)$',\n        'y':0.85,\n        'x':0.5,\n        'xanchor': 'center',\n        'yanchor': 'top'})\n\nfig.update_xaxes(\n        title_text = r\"$x$\",\n        title_standoff = 15,\n        ticks = 'outside',\n        ticklen = 10,\n        tickcolor='white')\n\nfig.update_yaxes(\n        title_text = '',\n        title_standoff = 25,\n        ticks = 'outside',\n        ticklen = 10,\n        tickcolor = 'white')\n\n\nline = fig.add_trace(go.Scatter(x=xs, y=wave(1, 0, xs),\n                    mode='lines',\n                    name='lines'))\n\nslider = widgets.FloatSlider(\n    value = 1,\n    min=0.1,\n    max=10,\n    step=0.1,\n    readout=True,\n    description=r'$f$')\nslider.layout.width = '400px'\n\nslider2 = widgets.FloatSlider(\n    value = 0,\n    min=-3.14,\n    max=3.14,\n    step=0.01,\n    readout=True,\n    description=r'$\\phi$')\nslider2.layout.width = '400px'\n\n\n# our function that will modify the xaxis range\ndef update_range(frequency, phi):\n    fig.data[0].y=wave(frequency, phi, xs)\n\n\n# display the FigureWidget and slider with center justification\nvb = VBox((fig, interactive(update_range, frequency = slider, phi = slider2)))\nvb.layout.align_items = 'center'\nvb",
    "id": "fc4f33b0ca3b4f4b8917e9f79b297884",
    "idx": 1,
    "time": "2021-02-02T06:15:06.842Z",
    "type": "execution"
   },
   {
    "id": "fc4f33b0ca3b4f4b8917e9f79b297884",
    "time": "2021-02-02T06:15:07.554Z",
    "type": "completion"
   },
   {
    "code": "#@hidden_cell\n\nimport plotly.graph_objs as go\nfrom ipywidgets import interactive, HBox, VBox, widgets, interact\nimport numpy as np\n\nxs = np.linspace(0, 5, 1000)\n\ndef wave(f, phi, x):\n    return np.sin(2*np.pi*f*x + phi)\n\nfig = go.FigureWidget()\n\nfig.layout = dict(yaxis=dict(range=[-1,1]), xaxis=dict(range=[0,5]),width = 1000)\n\nfig.update_layout(\n    title={\n        'text': r'$y = \\sin(2 \\pi f x + \\phi)$',\n        'y':0.85,\n        'x':0.5,\n        'xanchor': 'center',\n        'yanchor': 'top'})\n\nfig.update_xaxes(\n        title_text = r\"$x$\",\n        title_standoff = 15,\n        ticks = 'outside',\n        ticklen = 10,\n        tickcolor='white')\n\nfig.update_yaxes(\n        title_text = '',\n        title_standoff = 25,\n        ticks = 'outside',\n        ticklen = 10,\n        tickcolor = 'white')\n\n\nline = fig.add_trace(go.Scatter(x=xs, y=wave(1, 0, xs),\n                    mode='lines',\n                    name='lines'))\n\nslider = widgets.FloatSlider(\n    value = 1,\n    min=0.1,\n    max=10,\n    step=0.1,\n    readout=True,\n    description=r'$f$')\nslider.layout.width = '400px'\n\nslider2 = widgets.FloatSlider(\n    value = 0,\n    min=-3.14,\n    max=3.14,\n    step=0.01,\n    readout=True,\n    description=r'$\\phi$')\nslider2.layout.width = '400px'\n\n\n# our function that will modify the xaxis range\ndef update_range(frequency, phi):\n    fig.data[0].y=wave(frequency, phi, xs)\n\n\n# display the FigureWidget and slider with center justification\nvb = VBox((fig, interactive(update_range, frequency = slider, phi = slider2)))\nvb.layout.align_items = 'center'\nvb",
    "id": "fc4f33b0ca3b4f4b8917e9f79b297884",
    "idx": 1,
    "time": "2021-02-02T06:15:16.158Z",
    "type": "execution"
   },
   {
    "id": "fc4f33b0ca3b4f4b8917e9f79b297884",
    "time": "2021-02-02T06:15:16.606Z",
    "type": "completion"
   },
   {
    "code": "@hidden_cell\n\nimport plotly.graph_objs as go\nfrom ipywidgets import interactive, HBox, VBox, widgets, interact\nimport numpy as np\n\nxs = np.linspace(0, 5, 1000)\n\ndef wave(f, phi, x):\n    return np.sin(2*np.pi*f*x + phi)\n\nfig = go.FigureWidget()\n\nfig.layout = dict(yaxis=dict(range=[-1,1]), xaxis=dict(range=[0,5]),width = 1000)\n\nfig.update_layout(\n    title={\n        'text': r'$y = \\sin(2 \\pi f x + \\phi)$',\n        'y':0.85,\n        'x':0.5,\n        'xanchor': 'center',\n        'yanchor': 'top'})\n\nfig.update_xaxes(\n        title_text = r\"$x$\",\n        title_standoff = 15,\n        ticks = 'outside',\n        ticklen = 10,\n        tickcolor='white')\n\nfig.update_yaxes(\n        title_text = '',\n        title_standoff = 25,\n        ticks = 'outside',\n        ticklen = 10,\n        tickcolor = 'white')\n\n\nline = fig.add_trace(go.Scatter(x=xs, y=wave(1, 0, xs),\n                    mode='lines',\n                    name='lines'))\n\nslider = widgets.FloatSlider(\n    value = 1,\n    min=0.1,\n    max=10,\n    step=0.1,\n    readout=True,\n    description=r'$f$')\nslider.layout.width = '400px'\n\nslider2 = widgets.FloatSlider(\n    value = 0,\n    min=-3.14,\n    max=3.14,\n    step=0.01,\n    readout=True,\n    description=r'$\\phi$')\nslider2.layout.width = '400px'\n\n\n# our function that will modify the xaxis range\ndef update_range(frequency, phi):\n    fig.data[0].y=wave(frequency, phi, xs)\n\n\n# display the FigureWidget and slider with center justification\nvb = VBox((fig, interactive(update_range, frequency = slider, phi = slider2)))\nvb.layout.align_items = 'center'\nvb",
    "id": "fc4f33b0ca3b4f4b8917e9f79b297884",
    "idx": 1,
    "time": "2021-02-02T06:15:25.742Z",
    "type": "execution"
   },
   {
    "id": "fc4f33b0ca3b4f4b8917e9f79b297884",
    "time": "2021-02-02T06:15:25.817Z",
    "type": "completion"
   },
   {
    "code": "{\n    \"tags\": [\n        \"hide-input\",\n    ]\n}\nimport plotly.graph_objs as go\nfrom ipywidgets import interactive, HBox, VBox, widgets, interact\nimport numpy as np\n\nxs = np.linspace(0, 5, 1000)\n\ndef wave(f, phi, x):\n    return np.sin(2*np.pi*f*x + phi)\n\nfig = go.FigureWidget()\n\nfig.layout = dict(yaxis=dict(range=[-1,1]), xaxis=dict(range=[0,5]),width = 1000)\n\nfig.update_layout(\n    title={\n        'text': r'$y = \\sin(2 \\pi f x + \\phi)$',\n        'y':0.85,\n        'x':0.5,\n        'xanchor': 'center',\n        'yanchor': 'top'})\n\nfig.update_xaxes(\n        title_text = r\"$x$\",\n        title_standoff = 15,\n        ticks = 'outside',\n        ticklen = 10,\n        tickcolor='white')\n\nfig.update_yaxes(\n        title_text = '',\n        title_standoff = 25,\n        ticks = 'outside',\n        ticklen = 10,\n        tickcolor = 'white')\n\n\nline = fig.add_trace(go.Scatter(x=xs, y=wave(1, 0, xs),\n                    mode='lines',\n                    name='lines'))\n\nslider = widgets.FloatSlider(\n    value = 1,\n    min=0.1,\n    max=10,\n    step=0.1,\n    readout=True,\n    description=r'$f$')\nslider.layout.width = '400px'\n\nslider2 = widgets.FloatSlider(\n    value = 0,\n    min=-3.14,\n    max=3.14,\n    step=0.01,\n    readout=True,\n    description=r'$\\phi$')\nslider2.layout.width = '400px'\n\n\n# our function that will modify the xaxis range\ndef update_range(frequency, phi):\n    fig.data[0].y=wave(frequency, phi, xs)\n\n\n# display the FigureWidget and slider with center justification\nvb = VBox((fig, interactive(update_range, frequency = slider, phi = slider2)))\nvb.layout.align_items = 'center'\nvb",
    "id": "fc4f33b0ca3b4f4b8917e9f79b297884",
    "idx": 1,
    "time": "2021-02-02T06:16:00.791Z",
    "type": "execution"
   },
   {
    "id": "fc4f33b0ca3b4f4b8917e9f79b297884",
    "time": "2021-02-02T06:16:01.422Z",
    "type": "completion"
   },
   {
    "code": "{\n    \"tags\": [\n        \"hide-output\",\n    ]\n}\nimport plotly.graph_objs as go\nfrom ipywidgets import interactive, HBox, VBox, widgets, interact\nimport numpy as np\n\nxs = np.linspace(0, 5, 1000)\n\ndef wave(f, phi, x):\n    return np.sin(2*np.pi*f*x + phi)\n\nfig = go.FigureWidget()\n\nfig.layout = dict(yaxis=dict(range=[-1,1]), xaxis=dict(range=[0,5]),width = 1000)\n\nfig.update_layout(\n    title={\n        'text': r'$y = \\sin(2 \\pi f x + \\phi)$',\n        'y':0.85,\n        'x':0.5,\n        'xanchor': 'center',\n        'yanchor': 'top'})\n\nfig.update_xaxes(\n        title_text = r\"$x$\",\n        title_standoff = 15,\n        ticks = 'outside',\n        ticklen = 10,\n        tickcolor='white')\n\nfig.update_yaxes(\n        title_text = '',\n        title_standoff = 25,\n        ticks = 'outside',\n        ticklen = 10,\n        tickcolor = 'white')\n\n\nline = fig.add_trace(go.Scatter(x=xs, y=wave(1, 0, xs),\n                    mode='lines',\n                    name='lines'))\n\nslider = widgets.FloatSlider(\n    value = 1,\n    min=0.1,\n    max=10,\n    step=0.1,\n    readout=True,\n    description=r'$f$')\nslider.layout.width = '400px'\n\nslider2 = widgets.FloatSlider(\n    value = 0,\n    min=-3.14,\n    max=3.14,\n    step=0.01,\n    readout=True,\n    description=r'$\\phi$')\nslider2.layout.width = '400px'\n\n\n# our function that will modify the xaxis range\ndef update_range(frequency, phi):\n    fig.data[0].y=wave(frequency, phi, xs)\n\n\n# display the FigureWidget and slider with center justification\nvb = VBox((fig, interactive(update_range, frequency = slider, phi = slider2)))\nvb.layout.align_items = 'center'\nvb",
    "id": "fc4f33b0ca3b4f4b8917e9f79b297884",
    "idx": 1,
    "time": "2021-02-02T06:16:48.120Z",
    "type": "execution"
   },
   {
    "id": "fc4f33b0ca3b4f4b8917e9f79b297884",
    "time": "2021-02-02T06:16:48.543Z",
    "type": "completion"
   },
   {
    "code": "{\n    \"tags\": [\n        \"hide-input\",\n    ]\n}\nimport plotly.graph_objs as go\nfrom ipywidgets import interactive, HBox, VBox, widgets, interact\nimport numpy as np\n\nxs = np.linspace(0, 5, 1000)\n\ndef wave(f, phi, x):\n    return np.sin(2*np.pi*f*x + phi)\n\nfig = go.FigureWidget()\n\nfig.layout = dict(yaxis=dict(range=[-1,1]), xaxis=dict(range=[0,5]),width = 1000)\n\nfig.update_layout(\n    title={\n        'text': r'$y = \\sin(2 \\pi f x + \\phi)$',\n        'y':0.85,\n        'x':0.5,\n        'xanchor': 'center',\n        'yanchor': 'top'})\n\nfig.update_xaxes(\n        title_text = r\"$x$\",\n        title_standoff = 15,\n        ticks = 'outside',\n        ticklen = 10,\n        tickcolor='white')\n\nfig.update_yaxes(\n        title_text = '',\n        title_standoff = 25,\n        ticks = 'outside',\n        ticklen = 10,\n        tickcolor = 'white')\n\n\nline = fig.add_trace(go.Scatter(x=xs, y=wave(1, 0, xs),\n                    mode='lines',\n                    name='lines'))\n\nslider = widgets.FloatSlider(\n    value = 1,\n    min=0.1,\n    max=10,\n    step=0.1,\n    readout=True,\n    description=r'$f$')\nslider.layout.width = '400px'\n\nslider2 = widgets.FloatSlider(\n    value = 0,\n    min=-3.14,\n    max=3.14,\n    step=0.01,\n    readout=True,\n    description=r'$\\phi$')\nslider2.layout.width = '400px'\n\n\n# our function that will modify the xaxis range\ndef update_range(frequency, phi):\n    fig.data[0].y=wave(frequency, phi, xs)\n\n\n# display the FigureWidget and slider with center justification\nvb = VBox((fig, interactive(update_range, frequency = slider, phi = slider2)))\nvb.layout.align_items = 'center'\nvb",
    "id": "fc4f33b0ca3b4f4b8917e9f79b297884",
    "idx": 1,
    "time": "2021-02-02T06:16:58.165Z",
    "type": "execution"
   },
   {
    "id": "fc4f33b0ca3b4f4b8917e9f79b297884",
    "time": "2021-02-02T06:16:58.500Z",
    "type": "completion"
   },
   {
    "code": "# linking button and function together using a button's method\nbutton.on_click(on_button_clicked)\n# displaying button and its output together\nwidgets.VBox([fig3,button,out3])\n\nvb = widgets.VBox((fig3, interactive(update_trace, freq1 = f1, freq2 = f2), button))\nvb.layout.align_items = 'center'\nvb",
    "id": "07f74df17ed142408a4296d1460106d9",
    "idx": 5,
    "time": "2021-02-02T06:17:07.526Z",
    "type": "execution"
   },
   {
    "id": "07f74df17ed142408a4296d1460106d9",
    "time": "2021-02-02T06:17:07.705Z",
    "type": "completion"
   },
   {
    "code": "from IPython.display import Audio,display, clear_output\n\ndef play(f1, f2, sec=3):\n    framerate = 44100 # <- rate of sampling\n    t = np.linspace(0, sec, framerate * sec) # <- setup time values\n    data = np.sin(2 * np.pi * f1 * t) + np.sin(2 * np.pi * f2 * t) # <- sine function formula\n    display(InvisibleAudio(data, rate=framerate, autoplay=True)) # play the generated sound\n    \n\nclass InvisibleAudio(Audio):\n    def _repr_html_(self):\n        audio = super()._repr_html_()\n        audio = audio.replace('<audio', f'<audio onended=\"this.parentNode.removeChild(this)\"')\n        return f'<div style=\"display:none\">{audio}</div>'\n",
    "id": "d74b805225e140f1a0af60f97b4a9854",
    "idx": 3,
    "time": "2021-02-02T06:17:10.161Z",
    "type": "execution"
   },
   {
    "id": "d74b805225e140f1a0af60f97b4a9854",
    "time": "2021-02-02T06:17:10.228Z",
    "type": "completion"
   },
   {
    "code": "xs3 = np.linspace(0, 0.2, 1000)\n\nf1 = widgets.IntSlider(value = 1, min = 1, max = 600, step = 1, description = \"frequency 1\")\nf1.layout.width = '400px'\nf2 = widgets.IntSlider(value = 1, min = 1, max = 600, step = 1, description = \"frequency 2\")\nf2.layout.width = '400px'\n\n#xslider = widgets.FloatSlider(value = 0.05, min = 0.01, max = 1, step = 0.01, description = \"xrange\")\n#xslider.layout.width = '400px'\n\nbutton = widgets.Button(description='Play Sound')\nout3 = widgets.Output()\nfig3 = go.FigureWidget()\n\nfig3.add_trace(go.Scatter(x=xs3, y=np.sin(2*np.pi*1*xs3) + np.sin(2*np.pi*1*xs),\n                    mode='lines',\n                    name='sum'))\nfig3.add_trace(go.Scatter(x = xs3, y = np.sin(2*np.pi*80*xs3), mode = \"lines\", opacity = 0.2, name = \"frequency 1\"))\nfig3.add_trace(go.Scatter(x = xs3, y = np.sin(2*np.pi*80*xs3), mode = \"lines\", opacity = 0.2, name = \"frequency 2\"))\n\nfig3.layout = dict(yaxis=dict(range=[-2,2]), xaxis=dict(range=[0,0.2]),width = 900)\n\nfig3.update_layout(\n    title={\n        'text': r'$y = \\sin(2 \\pi f_1 t) + \\sin(2 \\pi f_2 t)$',\n        'y':0.85,\n        'x':0.5,\n        'xanchor': 'center',\n        'yanchor': 'top'})\n\nfig3.update_xaxes(\n        title_text = r\"$t$\",\n        title_standoff = 15,\n        ticks = 'outside',\n        ticklen = 10,\n        tickcolor='white')\n\nfig3.update_yaxes(\n        title_text = '',\n        title_standoff = 25,\n        ticks = 'outside',\n        ticklen = 10,\n        tickcolor = 'white')\n\nfig3.update_layout(showlegend=False)\n\ndef on_button_clicked(_):\n\n    play(f1.value, f2.value)\n    \n\ndef update_trace(freq1, freq2):\n    \n    fig3.data[0].y = np.sin(2*np.pi*freq1*xs3) + np.sin(2*np.pi*freq2*xs3)\n    fig3.data[1].y = np.sin(2*np.pi*freq1*xs3)\n    fig3.data[2].y = np.sin(2*np.pi*freq2*xs3)\n\n",
    "id": "cc30a902146449ec85dafc69adc410bc",
    "idx": 4,
    "time": "2021-02-02T06:17:10.609Z",
    "type": "execution"
   },
   {
    "id": "cc30a902146449ec85dafc69adc410bc",
    "time": "2021-02-02T06:17:10.885Z",
    "type": "completion"
   },
   {
    "code": "# linking button and function together using a button's method\nbutton.on_click(on_button_clicked)\n# displaying button and its output together\nwidgets.VBox([fig3,button,out3])\n\nvb = widgets.VBox((fig3, interactive(update_trace, freq1 = f1, freq2 = f2), button))\nvb.layout.align_items = 'center'\nvb",
    "id": "07f74df17ed142408a4296d1460106d9",
    "idx": 5,
    "time": "2021-02-02T06:17:11.254Z",
    "type": "execution"
   },
   {
    "id": "07f74df17ed142408a4296d1460106d9",
    "time": "2021-02-02T06:17:11.690Z",
    "type": "completion"
   },
   {
    "code": "from IPython.display import HTML\n\nHTML('''<script>\ncode_show=true; \nfunction code_toggle() {\n if (code_show){\n $('div.input').hide();\n } else {\n $('div.input').show();\n }\n code_show = !code_show\n} \n$( document ).ready(code_toggle);\n</script>\n<form action=\"javascript:code_toggle()\"><input type=\"submit\" value=\"Click here to toggle on/off the raw code.\"></form>''')",
    "id": "643fbdd6fab1438a8dc2796703141051",
    "idx": 1,
    "time": "2021-02-02T06:17:46.205Z",
    "type": "execution"
   },
   {
    "id": "643fbdd6fab1438a8dc2796703141051",
    "time": "2021-02-02T06:17:46.279Z",
    "type": "completion"
   },
   {
    "code": "from IPython.display import HTML\n\nHTML('''<script>\ncode_show=true; \nfunction code_toggle() {\n if (code_show){\n $('div.input').hide();\n } else {\n $('div.input').show();\n }\n code_show = !code_show\n} \n$( document ).ready(code_toggle);\n</script>\n<form action=\"javascript:code_toggle()\"><input type=\"submit\" value=\"Click here to toggle on/off the raw code.\"></form>''')",
    "id": "643fbdd6fab1438a8dc2796703141051",
    "idx": 1,
    "time": "2021-02-02T06:17:50.859Z",
    "type": "execution"
   },
   {
    "code": "import plotly.graph_objs as go\nfrom ipywidgets import interactive, HBox, VBox, widgets, interact\nimport numpy as np\n\nxs = np.linspace(0, 5, 1000)\n\ndef wave(f, phi, x):\n    return np.sin(2*np.pi*f*x + phi)\n\nfig = go.FigureWidget()\n\nfig.layout = dict(yaxis=dict(range=[-1,1]), xaxis=dict(range=[0,5]),width = 1000)\n\nfig.update_layout(\n    title={\n        'text': r'$y = \\sin(2 \\pi f x + \\phi)$',\n        'y':0.85,\n        'x':0.5,\n        'xanchor': 'center',\n        'yanchor': 'top'})\n\nfig.update_xaxes(\n        title_text = r\"$x$\",\n        title_standoff = 15,\n        ticks = 'outside',\n        ticklen = 10,\n        tickcolor='white')\n\nfig.update_yaxes(\n        title_text = '',\n        title_standoff = 25,\n        ticks = 'outside',\n        ticklen = 10,\n        tickcolor = 'white')\n\n\nline = fig.add_trace(go.Scatter(x=xs, y=wave(1, 0, xs),\n                    mode='lines',\n                    name='lines'))\n\nslider = widgets.FloatSlider(\n    value = 1,\n    min=0.1,\n    max=10,\n    step=0.1,\n    readout=True,\n    description=r'$f$')\nslider.layout.width = '400px'\n\nslider2 = widgets.FloatSlider(\n    value = 0,\n    min=-3.14,\n    max=3.14,\n    step=0.01,\n    readout=True,\n    description=r'$\\phi$')\nslider2.layout.width = '400px'\n\n\n# our function that will modify the xaxis range\ndef update_range(frequency, phi):\n    fig.data[0].y=wave(frequency, phi, xs)\n\n\n# display the FigureWidget and slider with center justification\nvb = VBox((fig, interactive(update_range, frequency = slider, phi = slider2)))\nvb.layout.align_items = 'center'\nvb",
    "id": "fc4f33b0ca3b4f4b8917e9f79b297884",
    "idx": 2,
    "time": "2021-02-02T06:17:50.880Z",
    "type": "execution"
   },
   {
    "code": "xs2 = np.linspace(0, 5, 500)\n\ndef traveling_wave(k, omega, x, t):\n    return np.sin(k*x - omega*t/10.)\n\nfig2 = go.FigureWidget()\n\nfig2.layout = dict(yaxis=dict(range=[-1,1]), xaxis=dict(range=[0,5]),width = 1000)\n\nfig2.update_layout(\n    title={\n        'text': r'$y = \\sin(kx - \\omega t)$',\n        'y':0.85,\n        'x':0.5,\n        'xanchor': 'center',\n        'yanchor': 'top'})\n\nfig2.update_xaxes(\n        title_text = r\"$x$\",\n        title_standoff = 15,\n        ticks = 'outside',\n        ticklen = 10,\n        tickcolor='white')\n\nfig2.update_yaxes(\n        title_text = '',\n        title_standoff = 25,\n        ticks = 'outside',\n        ticklen = 10,\n        tickcolor = 'white')\n\n\nline2 = fig2.add_trace(go.Scatter(x=xs2, y=traveling_wave(1, 0, xs2, 0),\n                    mode='lines',\n                    name='lines'))\n\nbslider = widgets.FloatSlider(\n    value = 3.14,\n    min=0.1,\n    max=10,\n    step=0.02,\n    readout=True,\n    description=r'$k$')\nbslider.layout.width = '400px'\n\nbslider2 = widgets.FloatSlider(\n    value = 0,\n    min=-1,\n    max=1,\n    step=0.1,\n    readout=True,\n    description=r'$\\omega$')\nbslider2.layout.width = '400px'\n\nplay = widgets.Play(\n    interval = 5,\n    value = 0,\n    min=0,\n    max=500,\n    step=1\n)\n\ndef update2(k, omega, time):\n    fig2.data[0].y=traveling_wave(k, omega, xs2, time)\n\nvb2 = VBox((fig2, interactive(update2, k = bslider, omega = bslider2, time = play)))\nvb2",
    "id": "2a197e3bc3e047f98b4d7c4f4e224776",
    "idx": 3,
    "time": "2021-02-02T06:17:50.880Z",
    "type": "execution"
   },
   {
    "code": "from IPython.display import Audio,display, clear_output\n\ndef play(f1, f2, sec=3):\n    framerate = 44100 # <- rate of sampling\n    t = np.linspace(0, sec, framerate * sec) # <- setup time values\n    data = np.sin(2 * np.pi * f1 * t) + np.sin(2 * np.pi * f2 * t) # <- sine function formula\n    display(InvisibleAudio(data, rate=framerate, autoplay=True)) # play the generated sound\n    \n\nclass InvisibleAudio(Audio):\n    def _repr_html_(self):\n        audio = super()._repr_html_()\n        audio = audio.replace('<audio', f'<audio onended=\"this.parentNode.removeChild(this)\"')\n        return f'<div style=\"display:none\">{audio}</div>'\n",
    "id": "d74b805225e140f1a0af60f97b4a9854",
    "idx": 4,
    "time": "2021-02-02T06:17:50.881Z",
    "type": "execution"
   },
   {
    "code": "xs3 = np.linspace(0, 0.2, 1000)\n\nf1 = widgets.IntSlider(value = 1, min = 1, max = 600, step = 1, description = \"frequency 1\")\nf1.layout.width = '400px'\nf2 = widgets.IntSlider(value = 1, min = 1, max = 600, step = 1, description = \"frequency 2\")\nf2.layout.width = '400px'\n\n#xslider = widgets.FloatSlider(value = 0.05, min = 0.01, max = 1, step = 0.01, description = \"xrange\")\n#xslider.layout.width = '400px'\n\nbutton = widgets.Button(description='Play Sound')\nout3 = widgets.Output()\nfig3 = go.FigureWidget()\n\nfig3.add_trace(go.Scatter(x=xs3, y=np.sin(2*np.pi*1*xs3) + np.sin(2*np.pi*1*xs),\n                    mode='lines',\n                    name='sum'))\nfig3.add_trace(go.Scatter(x = xs3, y = np.sin(2*np.pi*80*xs3), mode = \"lines\", opacity = 0.2, name = \"frequency 1\"))\nfig3.add_trace(go.Scatter(x = xs3, y = np.sin(2*np.pi*80*xs3), mode = \"lines\", opacity = 0.2, name = \"frequency 2\"))\n\nfig3.layout = dict(yaxis=dict(range=[-2,2]), xaxis=dict(range=[0,0.2]),width = 900)\n\nfig3.update_layout(\n    title={\n        'text': r'$y = \\sin(2 \\pi f_1 t) + \\sin(2 \\pi f_2 t)$',\n        'y':0.85,\n        'x':0.5,\n        'xanchor': 'center',\n        'yanchor': 'top'})\n\nfig3.update_xaxes(\n        title_text = r\"$t$\",\n        title_standoff = 15,\n        ticks = 'outside',\n        ticklen = 10,\n        tickcolor='white')\n\nfig3.update_yaxes(\n        title_text = '',\n        title_standoff = 25,\n        ticks = 'outside',\n        ticklen = 10,\n        tickcolor = 'white')\n\nfig3.update_layout(showlegend=False)\n\ndef on_button_clicked(_):\n\n    play(f1.value, f2.value)\n    \n\ndef update_trace(freq1, freq2):\n    \n    fig3.data[0].y = np.sin(2*np.pi*freq1*xs3) + np.sin(2*np.pi*freq2*xs3)\n    fig3.data[1].y = np.sin(2*np.pi*freq1*xs3)\n    fig3.data[2].y = np.sin(2*np.pi*freq2*xs3)\n\n",
    "id": "cc30a902146449ec85dafc69adc410bc",
    "idx": 5,
    "time": "2021-02-02T06:17:50.882Z",
    "type": "execution"
   },
   {
    "code": "# linking button and function together using a button's method\nbutton.on_click(on_button_clicked)\n# displaying button and its output together\nwidgets.VBox([fig3,button,out3])\n\nvb = widgets.VBox((fig3, interactive(update_trace, freq1 = f1, freq2 = f2), button))\nvb.layout.align_items = 'center'\nvb",
    "id": "07f74df17ed142408a4296d1460106d9",
    "idx": 6,
    "time": "2021-02-02T06:17:50.884Z",
    "type": "execution"
   },
   {
    "id": "643fbdd6fab1438a8dc2796703141051",
    "time": "2021-02-02T06:17:50.936Z",
    "type": "completion"
   },
   {
    "id": "fc4f33b0ca3b4f4b8917e9f79b297884",
    "time": "2021-02-02T06:17:51.621Z",
    "type": "completion"
   },
   {
    "code": "from IPython.display import HTML\n\nHTML('''<script>\ncode_show=true; \nfunction code_toggle() {\n if (code_show){\n $('div.input').hide();\n } else {\n $('div.input').show();\n }\n code_show = !code_show\n} \n$( document ).ready(code_toggle);\n</script>\n<form action=\"javascript:code_toggle()\"><input type=\"submit\" value=\"Click here to toggle on/off the raw code.\"></form>''')",
    "id": "2959eb57fa3146d68e46e3b55cba2c2e",
    "idx": 1,
    "time": "2021-02-02T06:19:04.047Z",
    "type": "execution"
   },
   {
    "code": "import plotly.graph_objs as go\nfrom ipywidgets import interactive, HBox, VBox, widgets, interact\nimport numpy as np\n\nxs = np.linspace(0, 5, 1000)\n\ndef wave(f, phi, x):\n    return np.sin(2*np.pi*f*x + phi)\n\nfig = go.FigureWidget()\n\nfig.layout = dict(yaxis=dict(range=[-1,1]), xaxis=dict(range=[0,5]),width = 1000)\n\nfig.update_layout(\n    title={\n        'text': r'$y = \\sin(2 \\pi f x + \\phi)$',\n        'y':0.85,\n        'x':0.5,\n        'xanchor': 'center',\n        'yanchor': 'top'})\n\nfig.update_xaxes(\n        title_text = r\"$x$\",\n        title_standoff = 15,\n        ticks = 'outside',\n        ticklen = 10,\n        tickcolor='white')\n\nfig.update_yaxes(\n        title_text = '',\n        title_standoff = 25,\n        ticks = 'outside',\n        ticklen = 10,\n        tickcolor = 'white')\n\n\nline = fig.add_trace(go.Scatter(x=xs, y=wave(1, 0, xs),\n                    mode='lines',\n                    name='lines'))\n\nslider = widgets.FloatSlider(\n    value = 1,\n    min=0.1,\n    max=10,\n    step=0.1,\n    readout=True,\n    description=r'$f$')\nslider.layout.width = '400px'\n\nslider2 = widgets.FloatSlider(\n    value = 0,\n    min=-3.14,\n    max=3.14,\n    step=0.01,\n    readout=True,\n    description=r'$\\phi$')\nslider2.layout.width = '400px'\n\n\n# our function that will modify the xaxis range\ndef update_range(frequency, phi):\n    fig.data[0].y=wave(frequency, phi, xs)\n\n\n# display the FigureWidget and slider with center justification\nvb = VBox((fig, interactive(update_range, frequency = slider, phi = slider2)))\nvb.layout.align_items = 'center'\nvb",
    "id": "ac6a2bbec20c4b3f8431af030c6d977b",
    "idx": 2,
    "time": "2021-02-02T06:19:04.049Z",
    "type": "execution"
   },
   {
    "code": "xs2 = np.linspace(0, 5, 500)\n\ndef traveling_wave(k, omega, x, t):\n    return np.sin(k*x - omega*t/10.)\n\nfig2 = go.FigureWidget()\n\nfig2.layout = dict(yaxis=dict(range=[-1,1]), xaxis=dict(range=[0,5]),width = 1000)\n\nfig2.update_layout(\n    title={\n        'text': r'$y = \\sin(kx - \\omega t)$',\n        'y':0.85,\n        'x':0.5,\n        'xanchor': 'center',\n        'yanchor': 'top'})\n\nfig2.update_xaxes(\n        title_text = r\"$x$\",\n        title_standoff = 15,\n        ticks = 'outside',\n        ticklen = 10,\n        tickcolor='white')\n\nfig2.update_yaxes(\n        title_text = '',\n        title_standoff = 25,\n        ticks = 'outside',\n        ticklen = 10,\n        tickcolor = 'white')\n\n\nline2 = fig2.add_trace(go.Scatter(x=xs2, y=traveling_wave(1, 0, xs2, 0),\n                    mode='lines',\n                    name='lines'))\n\nbslider = widgets.FloatSlider(\n    value = 3.14,\n    min=0.1,\n    max=10,\n    step=0.02,\n    readout=True,\n    description=r'$k$')\nbslider.layout.width = '400px'\n\nbslider2 = widgets.FloatSlider(\n    value = 0,\n    min=-1,\n    max=1,\n    step=0.1,\n    readout=True,\n    description=r'$\\omega$')\nbslider2.layout.width = '400px'\n\nplay = widgets.Play(\n    interval = 5,\n    value = 0,\n    min=0,\n    max=500,\n    step=1\n)\n\ndef update2(k, omega, time):\n    fig2.data[0].y=traveling_wave(k, omega, xs2, time)\n\nvb2 = VBox((fig2, interactive(update2, k = bslider, omega = bslider2, time = play)))\nvb2",
    "id": "fa6035d43f9d477482f2aa3251a18a4d",
    "idx": 3,
    "time": "2021-02-02T06:19:04.050Z",
    "type": "execution"
   },
   {
    "code": "from IPython.display import Audio,display, clear_output\n\ndef play(f1, f2, sec=3):\n    framerate = 44100 # <- rate of sampling\n    t = np.linspace(0, sec, framerate * sec) # <- setup time values\n    data = np.sin(2 * np.pi * f1 * t) + np.sin(2 * np.pi * f2 * t) # <- sine function formula\n    display(InvisibleAudio(data, rate=framerate, autoplay=True)) # play the generated sound\n    \n\nclass InvisibleAudio(Audio):\n    def _repr_html_(self):\n        audio = super()._repr_html_()\n        audio = audio.replace('<audio', f'<audio onended=\"this.parentNode.removeChild(this)\"')\n        return f'<div style=\"display:none\">{audio}</div>'\n",
    "id": "2542389f1daa4cf5863e8b7d20eac8f2",
    "idx": 4,
    "time": "2021-02-02T06:19:04.050Z",
    "type": "execution"
   },
   {
    "code": "xs3 = np.linspace(0, 0.2, 1000)\n\nf1 = widgets.IntSlider(value = 1, min = 1, max = 600, step = 1, description = \"frequency 1\")\nf1.layout.width = '400px'\nf2 = widgets.IntSlider(value = 1, min = 1, max = 600, step = 1, description = \"frequency 2\")\nf2.layout.width = '400px'\n\n#xslider = widgets.FloatSlider(value = 0.05, min = 0.01, max = 1, step = 0.01, description = \"xrange\")\n#xslider.layout.width = '400px'\n\nbutton = widgets.Button(description='Play Sound')\nout3 = widgets.Output()\nfig3 = go.FigureWidget()\n\nfig3.add_trace(go.Scatter(x=xs3, y=np.sin(2*np.pi*1*xs3) + np.sin(2*np.pi*1*xs),\n                    mode='lines',\n                    name='sum'))\nfig3.add_trace(go.Scatter(x = xs3, y = np.sin(2*np.pi*80*xs3), mode = \"lines\", opacity = 0.2, name = \"frequency 1\"))\nfig3.add_trace(go.Scatter(x = xs3, y = np.sin(2*np.pi*80*xs3), mode = \"lines\", opacity = 0.2, name = \"frequency 2\"))\n\nfig3.layout = dict(yaxis=dict(range=[-2,2]), xaxis=dict(range=[0,0.2]),width = 900)\n\nfig3.update_layout(\n    title={\n        'text': r'$y = \\sin(2 \\pi f_1 t) + \\sin(2 \\pi f_2 t)$',\n        'y':0.85,\n        'x':0.5,\n        'xanchor': 'center',\n        'yanchor': 'top'})\n\nfig3.update_xaxes(\n        title_text = r\"$t$\",\n        title_standoff = 15,\n        ticks = 'outside',\n        ticklen = 10,\n        tickcolor='white')\n\nfig3.update_yaxes(\n        title_text = '',\n        title_standoff = 25,\n        ticks = 'outside',\n        ticklen = 10,\n        tickcolor = 'white')\n\nfig3.update_layout(showlegend=False)\n\ndef on_button_clicked(_):\n\n    play(f1.value, f2.value)\n    \n\ndef update_trace(freq1, freq2):\n    \n    fig3.data[0].y = np.sin(2*np.pi*freq1*xs3) + np.sin(2*np.pi*freq2*xs3)\n    fig3.data[1].y = np.sin(2*np.pi*freq1*xs3)\n    fig3.data[2].y = np.sin(2*np.pi*freq2*xs3)\n\n",
    "id": "4599b0db1d2a4a72ab886f0271c97705",
    "idx": 5,
    "time": "2021-02-02T06:19:04.051Z",
    "type": "execution"
   },
   {
    "code": "# linking button and function together using a button's method\nbutton.on_click(on_button_clicked)\n# displaying button and its output together\nwidgets.VBox([fig3,button,out3])\n\nvb = widgets.VBox((fig3, interactive(update_trace, freq1 = f1, freq2 = f2), button))\nvb.layout.align_items = 'center'\nvb",
    "id": "415583dffc904cfebc24310e592c1519",
    "idx": 6,
    "time": "2021-02-02T06:19:04.052Z",
    "type": "execution"
   },
   {
    "id": "2959eb57fa3146d68e46e3b55cba2c2e",
    "time": "2021-02-02T06:19:04.126Z",
    "type": "completion"
   },
   {
    "id": "ac6a2bbec20c4b3f8431af030c6d977b",
    "time": "2021-02-02T06:19:05.354Z",
    "type": "completion"
   },
   {
    "id": "fa6035d43f9d477482f2aa3251a18a4d",
    "time": "2021-02-02T06:19:05.497Z",
    "type": "completion"
   },
   {
    "id": "2542389f1daa4cf5863e8b7d20eac8f2",
    "time": "2021-02-02T06:19:05.497Z",
    "type": "completion"
   },
   {
    "id": "4599b0db1d2a4a72ab886f0271c97705",
    "time": "2021-02-02T06:19:05.512Z",
    "type": "completion"
   },
   {
    "id": "415583dffc904cfebc24310e592c1519",
    "time": "2021-02-02T06:19:05.634Z",
    "type": "completion"
   },
   {
    "code": "from IPython.display import HTML\n\nHTML('''<script>\ncode_show=true; \nfunction code_toggle() {\n if (code_show){\n $('div.input').hide();\n } else {\n $('div.input').show();\n }\n code_show = !code_show\n} \n$( document ).ready(code_toggle);\n</script>\n<form action=\"javascript:code_toggle()\"><input type=\"submit\" value=\"Click here to toggle on/off the raw code.\"></form>''')",
    "id": "2959eb57fa3146d68e46e3b55cba2c2e",
    "idx": 1,
    "time": "2021-02-02T06:19:25.605Z",
    "type": "execution"
   },
   {
    "code": "import plotly.graph_objs as go\nfrom ipywidgets import interactive, HBox, VBox, widgets, interact\nimport numpy as np\n\nxs = np.linspace(0, 5, 1000)\n\ndef wave(f, phi, x):\n    return np.sin(2*np.pi*f*x + phi)\n\nfig = go.FigureWidget()\n\nfig.layout = dict(yaxis=dict(range=[-1,1]), xaxis=dict(range=[0,5]),width = 1000)\n\nfig.update_layout(\n    title={\n        'text': r'$y = \\sin(2 \\pi f x + \\phi)$',\n        'y':0.85,\n        'x':0.5,\n        'xanchor': 'center',\n        'yanchor': 'top'})\n\nfig.update_xaxes(\n        title_text = r\"$x$\",\n        title_standoff = 15,\n        ticks = 'outside',\n        ticklen = 10,\n        tickcolor='white')\n\nfig.update_yaxes(\n        title_text = '',\n        title_standoff = 25,\n        ticks = 'outside',\n        ticklen = 10,\n        tickcolor = 'white')\n\n\nline = fig.add_trace(go.Scatter(x=xs, y=wave(1, 0, xs),\n                    mode='lines',\n                    name='lines'))\n\nslider = widgets.FloatSlider(\n    value = 1,\n    min=0.1,\n    max=10,\n    step=0.1,\n    readout=True,\n    description=r'$f$')\nslider.layout.width = '400px'\n\nslider2 = widgets.FloatSlider(\n    value = 0,\n    min=-3.14,\n    max=3.14,\n    step=0.01,\n    readout=True,\n    description=r'$\\phi$')\nslider2.layout.width = '400px'\n\n\n# our function that will modify the xaxis range\ndef update_range(frequency, phi):\n    fig.data[0].y=wave(frequency, phi, xs)\n\n\n# display the FigureWidget and slider with center justification\nvb = VBox((fig, interactive(update_range, frequency = slider, phi = slider2)))\nvb.layout.align_items = 'center'\nvb",
    "id": "ac6a2bbec20c4b3f8431af030c6d977b",
    "idx": 2,
    "time": "2021-02-02T06:19:25.607Z",
    "type": "execution"
   },
   {
    "code": "xs2 = np.linspace(0, 5, 500)\n\ndef traveling_wave(k, omega, x, t):\n    return np.sin(k*x - omega*t/10.)\n\nfig2 = go.FigureWidget()\n\nfig2.layout = dict(yaxis=dict(range=[-1,1]), xaxis=dict(range=[0,5]),width = 1000)\n\nfig2.update_layout(\n    title={\n        'text': r'$y = \\sin(kx - \\omega t)$',\n        'y':0.85,\n        'x':0.5,\n        'xanchor': 'center',\n        'yanchor': 'top'})\n\nfig2.update_xaxes(\n        title_text = r\"$x$\",\n        title_standoff = 15,\n        ticks = 'outside',\n        ticklen = 10,\n        tickcolor='white')\n\nfig2.update_yaxes(\n        title_text = '',\n        title_standoff = 25,\n        ticks = 'outside',\n        ticklen = 10,\n        tickcolor = 'white')\n\n\nline2 = fig2.add_trace(go.Scatter(x=xs2, y=traveling_wave(1, 0, xs2, 0),\n                    mode='lines',\n                    name='lines'))\n\nbslider = widgets.FloatSlider(\n    value = 3.14,\n    min=0.1,\n    max=10,\n    step=0.02,\n    readout=True,\n    description=r'$k$')\nbslider.layout.width = '400px'\n\nbslider2 = widgets.FloatSlider(\n    value = 0,\n    min=-1,\n    max=1,\n    step=0.1,\n    readout=True,\n    description=r'$\\omega$')\nbslider2.layout.width = '400px'\n\nplay = widgets.Play(\n    interval = 5,\n    value = 0,\n    min=0,\n    max=500,\n    step=1\n)\n\ndef update2(k, omega, time):\n    fig2.data[0].y=traveling_wave(k, omega, xs2, time)\n\nvb2 = VBox((fig2, interactive(update2, k = bslider, omega = bslider2, time = play)))\nvb2",
    "id": "fa6035d43f9d477482f2aa3251a18a4d",
    "idx": 3,
    "time": "2021-02-02T06:19:25.609Z",
    "type": "execution"
   },
   {
    "code": "from IPython.display import Audio,display, clear_output\n\ndef play(f1, f2, sec=3):\n    framerate = 44100 # <- rate of sampling\n    t = np.linspace(0, sec, framerate * sec) # <- setup time values\n    data = np.sin(2 * np.pi * f1 * t) + np.sin(2 * np.pi * f2 * t) # <- sine function formula\n    display(InvisibleAudio(data, rate=framerate, autoplay=True)) # play the generated sound\n    \n\nclass InvisibleAudio(Audio):\n    def _repr_html_(self):\n        audio = super()._repr_html_()\n        audio = audio.replace('<audio', f'<audio onended=\"this.parentNode.removeChild(this)\"')\n        return f'<div style=\"display:none\">{audio}</div>'\n",
    "id": "2542389f1daa4cf5863e8b7d20eac8f2",
    "idx": 4,
    "time": "2021-02-02T06:19:25.610Z",
    "type": "execution"
   },
   {
    "code": "xs3 = np.linspace(0, 0.2, 1000)\n\nf1 = widgets.IntSlider(value = 1, min = 1, max = 600, step = 1, description = \"frequency 1\")\nf1.layout.width = '400px'\nf2 = widgets.IntSlider(value = 1, min = 1, max = 600, step = 1, description = \"frequency 2\")\nf2.layout.width = '400px'\n\n#xslider = widgets.FloatSlider(value = 0.05, min = 0.01, max = 1, step = 0.01, description = \"xrange\")\n#xslider.layout.width = '400px'\n\nbutton = widgets.Button(description='Play Sound')\nout3 = widgets.Output()\nfig3 = go.FigureWidget()\n\nfig3.add_trace(go.Scatter(x=xs3, y=np.sin(2*np.pi*1*xs3) + np.sin(2*np.pi*1*xs),\n                    mode='lines',\n                    name='sum'))\nfig3.add_trace(go.Scatter(x = xs3, y = np.sin(2*np.pi*80*xs3), mode = \"lines\", opacity = 0.2, name = \"frequency 1\"))\nfig3.add_trace(go.Scatter(x = xs3, y = np.sin(2*np.pi*80*xs3), mode = \"lines\", opacity = 0.2, name = \"frequency 2\"))\n\nfig3.layout = dict(yaxis=dict(range=[-2,2]), xaxis=dict(range=[0,0.2]),width = 900)\n\nfig3.update_layout(\n    title={\n        'text': r'$y = \\sin(2 \\pi f_1 t) + \\sin(2 \\pi f_2 t)$',\n        'y':0.85,\n        'x':0.5,\n        'xanchor': 'center',\n        'yanchor': 'top'})\n\nfig3.update_xaxes(\n        title_text = r\"$t$\",\n        title_standoff = 15,\n        ticks = 'outside',\n        ticklen = 10,\n        tickcolor='white')\n\nfig3.update_yaxes(\n        title_text = '',\n        title_standoff = 25,\n        ticks = 'outside',\n        ticklen = 10,\n        tickcolor = 'white')\n\nfig3.update_layout(showlegend=False)\n\ndef on_button_clicked(_):\n\n    play(f1.value, f2.value)\n    \n\ndef update_trace(freq1, freq2):\n    \n    fig3.data[0].y = np.sin(2*np.pi*freq1*xs3) + np.sin(2*np.pi*freq2*xs3)\n    fig3.data[1].y = np.sin(2*np.pi*freq1*xs3)\n    fig3.data[2].y = np.sin(2*np.pi*freq2*xs3)\n\n# linking button and function together using a button's method\nbutton.on_click(on_button_clicked)\n# displaying button and its output together\nwidgets.VBox([fig3,button,out3])\n\nvb = widgets.VBox((fig3, interactive(update_trace, freq1 = f1, freq2 = f2), button))\nvb.layout.align_items = 'center'\nvb",
    "id": "4599b0db1d2a4a72ab886f0271c97705",
    "idx": 5,
    "time": "2021-02-02T06:19:25.611Z",
    "type": "execution"
   },
   {
    "id": "2959eb57fa3146d68e46e3b55cba2c2e",
    "time": "2021-02-02T06:19:25.681Z",
    "type": "completion"
   },
   {
    "id": "ac6a2bbec20c4b3f8431af030c6d977b",
    "time": "2021-02-02T06:19:26.322Z",
    "type": "completion"
   },
   {
    "id": "fa6035d43f9d477482f2aa3251a18a4d",
    "time": "2021-02-02T06:19:26.626Z",
    "type": "completion"
   },
   {
    "id": "2542389f1daa4cf5863e8b7d20eac8f2",
    "time": "2021-02-02T06:19:26.626Z",
    "type": "completion"
   },
   {
    "id": "4599b0db1d2a4a72ab886f0271c97705",
    "time": "2021-02-02T06:19:26.964Z",
    "type": "completion"
   },
   {
    "code": "from IPython.display import HTML\n\nHTML('''<script>\ncode_show=true; \nfunction code_toggle() {\n if (code_show){\n $('div.input').hide();\n } else {\n $('div.input').show();\n }\n code_show = !code_show\n} \n$( document ).ready(code_toggle);\n</script>\n<form action=\"javascript:code_toggle()\"><input type=\"submit\" value=\"Click here to toggle on/off the raw code.\"></form>''')",
    "id": "2959eb57fa3146d68e46e3b55cba2c2e",
    "idx": 1,
    "time": "2021-02-02T06:21:23.480Z",
    "type": "execution"
   },
   {
    "code": "import plotly.graph_objs as go\nfrom ipywidgets import interactive, HBox, VBox, widgets, interact\nimport numpy as np\n\nxs = np.linspace(0, 5, 1000)\n\ndef wave(f, phi, x):\n    return np.sin(2*np.pi*f*x + phi)\n\nfig = go.FigureWidget()\n\nfig.layout = dict(yaxis=dict(range=[-1,1]), xaxis=dict(range=[0,5]),width = 1000)\n\nfig.update_layout(\n    title={\n        'text': r'$y = \\sin(2 \\pi f x + \\phi)$',\n        'y':0.85,\n        'x':0.5,\n        'xanchor': 'center',\n        'yanchor': 'top'})\n\nfig.update_xaxes(\n        title_text = r\"$x$\",\n        title_standoff = 15,\n        ticks = 'outside',\n        ticklen = 10,\n        tickcolor='white')\n\nfig.update_yaxes(\n        title_text = '',\n        title_standoff = 25,\n        ticks = 'outside',\n        ticklen = 10,\n        tickcolor = 'white')\n\n\nline = fig.add_trace(go.Scatter(x=xs, y=wave(1, 0, xs),\n                    mode='lines',\n                    name='lines'))\n\nslider = widgets.FloatSlider(\n    value = 1,\n    min=0.1,\n    max=10,\n    step=0.1,\n    readout=True,\n    description=r'$f$')\nslider.layout.width = '400px'\n\nslider2 = widgets.FloatSlider(\n    value = 0,\n    min=-3.14,\n    max=3.14,\n    step=0.01,\n    readout=True,\n    description=r'$\\phi$')\nslider2.layout.width = '400px'\n\n\n# our function that will modify the xaxis range\ndef update_range(frequency, phi):\n    fig.data[0].y=wave(frequency, phi, xs)\n\n\n# display the FigureWidget and slider with center justification\nvb = VBox((fig, interactive(update_range, frequency = slider, phi = slider2)))\nvb.layout.align_items = 'center'\nvb",
    "id": "ac6a2bbec20c4b3f8431af030c6d977b",
    "idx": 2,
    "time": "2021-02-02T06:21:23.501Z",
    "type": "execution"
   },
   {
    "code": "xs2 = np.linspace(0, 5, 500)\n\ndef traveling_wave(k, omega, x, t):\n    return np.sin(k*x - omega*t/10.)\n\nfig2 = go.FigureWidget()\n\nfig2.layout = dict(yaxis=dict(range=[-1,1]), xaxis=dict(range=[0,5]),width = 1000)\n\nfig2.update_layout(\n    title={\n        'text': r'$y = \\sin(kx - \\omega t)$',\n        'y':0.85,\n        'x':0.5,\n        'xanchor': 'center',\n        'yanchor': 'top'})\n\nfig2.update_xaxes(\n        title_text = r\"$x$\",\n        title_standoff = 15,\n        ticks = 'outside',\n        ticklen = 10,\n        tickcolor='white')\n\nfig2.update_yaxes(\n        title_text = '',\n        title_standoff = 25,\n        ticks = 'outside',\n        ticklen = 10,\n        tickcolor = 'white')\n\n\nline2 = fig2.add_trace(go.Scatter(x=xs2, y=traveling_wave(1, 0, xs2, 0),\n                    mode='lines',\n                    name='lines'))\n\nbslider = widgets.FloatSlider(\n    value = 3.14,\n    min=0.1,\n    max=10,\n    step=0.02,\n    readout=True,\n    description=r'$k$')\nbslider.layout.width = '400px'\n\nbslider2 = widgets.FloatSlider(\n    value = 0,\n    min=-1,\n    max=1,\n    step=0.1,\n    readout=True,\n    description=r'$\\omega$')\nbslider2.layout.width = '400px'\n\nplay = widgets.Play(\n    interval = 5,\n    value = 0,\n    min=0,\n    max=500,\n    step=1\n)\n\ndef update2(k, omega, time):\n    fig2.data[0].y=traveling_wave(k, omega, xs2, time)\n\nvb2 = VBox((fig2, interactive(update2, k = bslider, omega = bslider2, time = play)))\nvb2",
    "id": "fa6035d43f9d477482f2aa3251a18a4d",
    "idx": 3,
    "time": "2021-02-02T06:21:23.503Z",
    "type": "execution"
   },
   {
    "code": "from IPython.display import Audio,display, clear_output\n\ndef play(f1, f2, sec=3):\n    framerate = 44100 # <- rate of sampling\n    t = np.linspace(0, sec, framerate * sec) # <- setup time values\n    data = np.sin(2 * np.pi * f1 * t) + np.sin(2 * np.pi * f2 * t) # <- sine function formula\n    display(InvisibleAudio(data, rate=framerate, autoplay=True)) # play the generated sound\n    \n\nclass InvisibleAudio(Audio):\n    def _repr_html_(self):\n        audio = super()._repr_html_()\n        audio = audio.replace('<audio', f'<audio onended=\"this.parentNode.removeChild(this)\"')\n        return f'<div style=\"display:none\">{audio}</div>'\n",
    "id": "2542389f1daa4cf5863e8b7d20eac8f2",
    "idx": 4,
    "time": "2021-02-02T06:21:23.504Z",
    "type": "execution"
   },
   {
    "code": "xs3 = np.linspace(0, 0.2, 1000)\n\nf1 = widgets.IntSlider(value = 1, min = 1, max = 600, step = 1, description = \"frequency 1\")\nf1.layout.width = '400px'\nf2 = widgets.IntSlider(value = 1, min = 1, max = 600, step = 1, description = \"frequency 2\")\nf2.layout.width = '400px'\n\n#xslider = widgets.FloatSlider(value = 0.05, min = 0.01, max = 1, step = 0.01, description = \"xrange\")\n#xslider.layout.width = '400px'\n\nbutton = widgets.Button(description='Play Sound')\nout3 = widgets.Output()\nfig3 = go.FigureWidget()\n\nfig3.add_trace(go.Scatter(x=xs3, y=np.sin(2*np.pi*1*xs3) + np.sin(2*np.pi*1*xs),\n                    mode='lines',\n                    name='sum'))\nfig3.add_trace(go.Scatter(x = xs3, y = np.sin(2*np.pi*80*xs3), mode = \"lines\", opacity = 0.2, name = \"frequency 1\"))\nfig3.add_trace(go.Scatter(x = xs3, y = np.sin(2*np.pi*80*xs3), mode = \"lines\", opacity = 0.2, name = \"frequency 2\"))\n\nfig3.layout = dict(yaxis=dict(range=[-2,2]), xaxis=dict(range=[0,0.2]),width = 900)\n\nfig3.update_layout(\n    title={\n        'text': r'$y = \\sin(2 \\pi f_1 t) + \\sin(2 \\pi f_2 t)$',\n        'y':0.85,\n        'x':0.5,\n        'xanchor': 'center',\n        'yanchor': 'top'})\n\nfig3.update_xaxes(\n        title_text = r\"$t$\",\n        title_standoff = 15,\n        ticks = 'outside',\n        ticklen = 10,\n        tickcolor='white')\n\nfig3.update_yaxes(\n        title_text = '',\n        title_standoff = 25,\n        ticks = 'outside',\n        ticklen = 10,\n        tickcolor = 'white')\n\nfig3.update_layout(showlegend=False)\n\ndef on_button_clicked(_):\n    with out:\n\n        play(f1.value, f2.value)\n    \n\ndef update_trace(freq1, freq2):\n    \n    fig3.data[0].y = np.sin(2*np.pi*freq1*xs3) + np.sin(2*np.pi*freq2*xs3)\n    fig3.data[1].y = np.sin(2*np.pi*freq1*xs3)\n    fig3.data[2].y = np.sin(2*np.pi*freq2*xs3)\n\n# linking button and function together using a button's method\nbutton.on_click(on_button_clicked)\n# displaying button and its output together\nwidgets.VBox([fig3,button,out3])\n\nvb = widgets.VBox((fig3, interactive(update_trace, freq1 = f1, freq2 = f2), button))\nvb.layout.align_items = 'center'\nvb",
    "id": "4599b0db1d2a4a72ab886f0271c97705",
    "idx": 5,
    "time": "2021-02-02T06:21:23.506Z",
    "type": "execution"
   },
   {
    "id": "2959eb57fa3146d68e46e3b55cba2c2e",
    "time": "2021-02-02T06:21:23.577Z",
    "type": "completion"
   },
   {
    "id": "ac6a2bbec20c4b3f8431af030c6d977b",
    "time": "2021-02-02T06:21:24.244Z",
    "type": "completion"
   },
   {
    "id": "fa6035d43f9d477482f2aa3251a18a4d",
    "time": "2021-02-02T06:21:24.515Z",
    "type": "completion"
   },
   {
    "id": "2542389f1daa4cf5863e8b7d20eac8f2",
    "time": "2021-02-02T06:21:24.515Z",
    "type": "completion"
   },
   {
    "id": "4599b0db1d2a4a72ab886f0271c97705",
    "time": "2021-02-02T06:21:24.913Z",
    "type": "completion"
   },
   {
    "code": "import plotly.graph_objs as go\nfrom ipywidgets import interactive, HBox, VBox, widgets, interact\nimport numpy as np\n\nxs = np.linspace(0, 5, 1000)\n\ndef wave(f, phi, x):\n    return np.sin(2*np.pi*f*x + phi)\n\nfig = go.FigureWidget()\n\nfig.layout = dict(yaxis=dict(range=[-1,1]), xaxis=dict(range=[0,5]),width = 1000)\n\nfig.update_layout(\n    title={\n        'text': r'$y = \\sin(2 \\pi f x + \\phi)$',\n        'y':0.85,\n        'x':0.5,\n        'xanchor': 'center',\n        'yanchor': 'top'})\n\nfig.update_xaxes(\n        title_text = r\"$x$\",\n        title_standoff = 15,\n        ticks = 'outside',\n        ticklen = 10,\n        tickcolor='white')\n\nfig.update_yaxes(\n        title_text = '',\n        title_standoff = 25,\n        ticks = 'outside',\n        ticklen = 10,\n        tickcolor = 'white')\n\n\nline = fig.add_trace(go.Scatter(x=xs, y=wave(1, 0, xs),\n                    mode='lines',\n                    name='lines'))\n\nslider = widgets.FloatSlider(\n    value = 1,\n    min=0.1,\n    max=10,\n    step=0.1,\n    readout=True,\n    description=r'$f$')\nslider.layout.width = '400px'\n\nslider2 = widgets.FloatSlider(\n    value = 0,\n    min=-3.14,\n    max=3.14,\n    step=0.01,\n    readout=True,\n    description=r'$\\phi$')\nslider2.layout.width = '400px'\n\n\n# our function that will modify the xaxis range\ndef update_range(frequency, phi):\n    fig.data[0].y=wave(frequency, phi, xs)\n\n\n# display the FigureWidget and slider with center justification\nvb = VBox((fig, interactive(update_range, frequency = slider, phi = slider2)))\nvb.layout.align_items = 'center'\nvb",
    "id": "ac6a2bbec20c4b3f8431af030c6d977b",
    "idx": 1,
    "time": "2021-02-02T06:22:09.101Z",
    "type": "execution"
   },
   {
    "code": "xs2 = np.linspace(0, 5, 500)\n\ndef traveling_wave(k, omega, x, t):\n    return np.sin(k*x - omega*t/10.)\n\nfig2 = go.FigureWidget()\n\nfig2.layout = dict(yaxis=dict(range=[-1,1]), xaxis=dict(range=[0,5]),width = 1000)\n\nfig2.update_layout(\n    title={\n        'text': r'$y = \\sin(kx - \\omega t)$',\n        'y':0.85,\n        'x':0.5,\n        'xanchor': 'center',\n        'yanchor': 'top'})\n\nfig2.update_xaxes(\n        title_text = r\"$x$\",\n        title_standoff = 15,\n        ticks = 'outside',\n        ticklen = 10,\n        tickcolor='white')\n\nfig2.update_yaxes(\n        title_text = '',\n        title_standoff = 25,\n        ticks = 'outside',\n        ticklen = 10,\n        tickcolor = 'white')\n\n\nline2 = fig2.add_trace(go.Scatter(x=xs2, y=traveling_wave(1, 0, xs2, 0),\n                    mode='lines',\n                    name='lines'))\n\nbslider = widgets.FloatSlider(\n    value = 3.14,\n    min=0.1,\n    max=10,\n    step=0.02,\n    readout=True,\n    description=r'$k$')\nbslider.layout.width = '400px'\n\nbslider2 = widgets.FloatSlider(\n    value = 0,\n    min=-1,\n    max=1,\n    step=0.1,\n    readout=True,\n    description=r'$\\omega$')\nbslider2.layout.width = '400px'\n\nplay = widgets.Play(\n    interval = 5,\n    value = 0,\n    min=0,\n    max=500,\n    step=1\n)\n\ndef update2(k, omega, time):\n    fig2.data[0].y=traveling_wave(k, omega, xs2, time)\n\nvb2 = VBox((fig2, interactive(update2, k = bslider, omega = bslider2, time = play)))\nvb2",
    "id": "fa6035d43f9d477482f2aa3251a18a4d",
    "idx": 2,
    "time": "2021-02-02T06:22:09.104Z",
    "type": "execution"
   },
   {
    "code": "from IPython.display import Audio,display, clear_output\n\ndef play(f1, f2, sec=3):\n    framerate = 44100 # <- rate of sampling\n    t = np.linspace(0, sec, framerate * sec) # <- setup time values\n    data = np.sin(2 * np.pi * f1 * t) + np.sin(2 * np.pi * f2 * t) # <- sine function formula\n    display(InvisibleAudio(data, rate=framerate, autoplay=True)) # play the generated sound\n    \n\nclass InvisibleAudio(Audio):\n    def _repr_html_(self):\n        audio = super()._repr_html_()\n        audio = audio.replace('<audio', f'<audio onended=\"this.parentNode.removeChild(this)\"')\n        return f'<div style=\"display:none\">{audio}</div>'\n",
    "id": "2542389f1daa4cf5863e8b7d20eac8f2",
    "idx": 3,
    "time": "2021-02-02T06:22:09.105Z",
    "type": "execution"
   },
   {
    "code": "xs3 = np.linspace(0, 0.2, 1000)\n\nf1 = widgets.IntSlider(value = 1, min = 1, max = 600, step = 1, description = \"frequency 1\")\nf1.layout.width = '400px'\nf2 = widgets.IntSlider(value = 1, min = 1, max = 600, step = 1, description = \"frequency 2\")\nf2.layout.width = '400px'\n\n#xslider = widgets.FloatSlider(value = 0.05, min = 0.01, max = 1, step = 0.01, description = \"xrange\")\n#xslider.layout.width = '400px'\n\nbutton = widgets.Button(description='Play Sound')\nout3 = widgets.Output()\nfig3 = go.FigureWidget()\n\nfig3.add_trace(go.Scatter(x=xs3, y=np.sin(2*np.pi*1*xs3) + np.sin(2*np.pi*1*xs),\n                    mode='lines',\n                    name='sum'))\nfig3.add_trace(go.Scatter(x = xs3, y = np.sin(2*np.pi*80*xs3), mode = \"lines\", opacity = 0.2, name = \"frequency 1\"))\nfig3.add_trace(go.Scatter(x = xs3, y = np.sin(2*np.pi*80*xs3), mode = \"lines\", opacity = 0.2, name = \"frequency 2\"))\n\nfig3.layout = dict(yaxis=dict(range=[-2,2]), xaxis=dict(range=[0,0.2]),width = 900)\n\nfig3.update_layout(\n    title={\n        'text': r'$y = \\sin(2 \\pi f_1 t) + \\sin(2 \\pi f_2 t)$',\n        'y':0.85,\n        'x':0.5,\n        'xanchor': 'center',\n        'yanchor': 'top'})\n\nfig3.update_xaxes(\n        title_text = r\"$t$\",\n        title_standoff = 15,\n        ticks = 'outside',\n        ticklen = 10,\n        tickcolor='white')\n\nfig3.update_yaxes(\n        title_text = '',\n        title_standoff = 25,\n        ticks = 'outside',\n        ticklen = 10,\n        tickcolor = 'white')\n\nfig3.update_layout(showlegend=False)\n\ndef on_button_clicked(_):\n    with out3:\n\n        play(f1.value, f2.value)\n    \n\ndef update_trace(freq1, freq2):\n    \n    fig3.data[0].y = np.sin(2*np.pi*freq1*xs3) + np.sin(2*np.pi*freq2*xs3)\n    fig3.data[1].y = np.sin(2*np.pi*freq1*xs3)\n    fig3.data[2].y = np.sin(2*np.pi*freq2*xs3)\n\n# linking button and function together using a button's method\nbutton.on_click(on_button_clicked)\n# displaying button and its output together\nwidgets.VBox([fig3,button,out3])\n\nvb = widgets.VBox((fig3, interactive(update_trace, freq1 = f1, freq2 = f2), button))\nvb.layout.align_items = 'center'\nvb",
    "id": "4599b0db1d2a4a72ab886f0271c97705",
    "idx": 4,
    "time": "2021-02-02T06:22:09.107Z",
    "type": "execution"
   },
   {
    "id": "ac6a2bbec20c4b3f8431af030c6d977b",
    "time": "2021-02-02T06:22:09.750Z",
    "type": "completion"
   },
   {
    "id": "fa6035d43f9d477482f2aa3251a18a4d",
    "time": "2021-02-02T06:22:10.052Z",
    "type": "completion"
   },
   {
    "id": "2542389f1daa4cf5863e8b7d20eac8f2",
    "time": "2021-02-02T06:22:10.052Z",
    "type": "completion"
   },
   {
    "id": "4599b0db1d2a4a72ab886f0271c97705",
    "time": "2021-02-02T06:22:10.418Z",
    "type": "completion"
   },
   {
    "code": "from IPython.display import Audio,display, clear_output\n\ndef play(f1, f2, sec=3):\n    framerate = 44100 # <- rate of sampling\n    t = np.linspace(0, sec, framerate * sec) # <- setup time values\n    data = np.sin(2 * np.pi * f1 * t) + np.sin(2 * np.pi * f2 * t) # <- sine function formula\n    display(Audio(data, rate=framerate, autoplay=True)) # play the generated sound\n    \n\nclass InvisibleAudio(Audio):\n    def _repr_html_(self):\n        audio = super()._repr_html_()\n        audio = audio.replace('<audio', f'<audio onended=\"this.parentNode.removeChild(this)\"')\n        return f'<div style=\"display:none\">{audio}</div>'\n",
    "id": "2542389f1daa4cf5863e8b7d20eac8f2",
    "idx": 3,
    "time": "2021-02-02T06:25:15.479Z",
    "type": "execution"
   },
   {
    "id": "2542389f1daa4cf5863e8b7d20eac8f2",
    "time": "2021-02-02T06:25:15.546Z",
    "type": "completion"
   },
   {
    "code": "xs3 = np.linspace(0, 0.2, 1000)\n\nf1 = widgets.IntSlider(value = 1, min = 1, max = 600, step = 1, description = \"frequency 1\")\nf1.layout.width = '400px'\nf2 = widgets.IntSlider(value = 1, min = 1, max = 600, step = 1, description = \"frequency 2\")\nf2.layout.width = '400px'\n\n#xslider = widgets.FloatSlider(value = 0.05, min = 0.01, max = 1, step = 0.01, description = \"xrange\")\n#xslider.layout.width = '400px'\n\nbutton = widgets.Button(description='Play Sound')\nout3 = widgets.Output()\nfig3 = go.FigureWidget()\n\nfig3.add_trace(go.Scatter(x=xs3, y=np.sin(2*np.pi*1*xs3) + np.sin(2*np.pi*1*xs),\n                    mode='lines',\n                    name='sum'))\nfig3.add_trace(go.Scatter(x = xs3, y = np.sin(2*np.pi*80*xs3), mode = \"lines\", opacity = 0.2, name = \"frequency 1\"))\nfig3.add_trace(go.Scatter(x = xs3, y = np.sin(2*np.pi*80*xs3), mode = \"lines\", opacity = 0.2, name = \"frequency 2\"))\n\nfig3.layout = dict(yaxis=dict(range=[-2,2]), xaxis=dict(range=[0,0.2]),width = 900)\n\nfig3.update_layout(\n    title={\n        'text': r'$y = \\sin(2 \\pi f_1 t) + \\sin(2 \\pi f_2 t)$',\n        'y':0.85,\n        'x':0.5,\n        'xanchor': 'center',\n        'yanchor': 'top'})\n\nfig3.update_xaxes(\n        title_text = r\"$t$\",\n        title_standoff = 15,\n        ticks = 'outside',\n        ticklen = 10,\n        tickcolor='white')\n\nfig3.update_yaxes(\n        title_text = '',\n        title_standoff = 25,\n        ticks = 'outside',\n        ticklen = 10,\n        tickcolor = 'white')\n\nfig3.update_layout(showlegend=False)\n\ndef on_button_clicked(_):\n    with out3:\n\n        play(f1.value, f2.value)\n    \n\ndef update_trace(freq1, freq2):\n    \n    fig3.data[0].y = np.sin(2*np.pi*freq1*xs3) + np.sin(2*np.pi*freq2*xs3)\n    fig3.data[1].y = np.sin(2*np.pi*freq1*xs3)\n    fig3.data[2].y = np.sin(2*np.pi*freq2*xs3)\n\n# linking button and function together using a button's method\nbutton.on_click(on_button_clicked)\n# displaying button and its output together\nwidgets.VBox([fig3,button,out3])\n\nvb = widgets.VBox((fig3, interactive(update_trace, freq1 = f1, freq2 = f2), button))\nvb.layout.align_items = 'center'\nvb",
    "id": "4599b0db1d2a4a72ab886f0271c97705",
    "idx": 4,
    "time": "2021-02-02T06:25:15.962Z",
    "type": "execution"
   },
   {
    "id": "4599b0db1d2a4a72ab886f0271c97705",
    "time": "2021-02-02T06:25:16.519Z",
    "type": "completion"
   },
   {
    "code": "xs3 = np.linspace(0, 0.2, 1000)\n\nf1 = widgets.IntSlider(value = 1, min = 1, max = 600, step = 1, description = \"frequency 1\")\nf1.layout.width = '400px'\nf2 = widgets.IntSlider(value = 1, min = 1, max = 600, step = 1, description = \"frequency 2\")\nf2.layout.width = '400px'\n\n#xslider = widgets.FloatSlider(value = 0.05, min = 0.01, max = 1, step = 0.01, description = \"xrange\")\n#xslider.layout.width = '400px'\n\nbutton = widgets.Button(description='Play Sound')\nout3 = widgets.Output()\nfig3 = go.FigureWidget()\n\nfig3.add_trace(go.Scatter(x=xs3, y=np.sin(2*np.pi*1*xs3) + np.sin(2*np.pi*1*xs),\n                    mode='lines',\n                    name='sum'))\nfig3.add_trace(go.Scatter(x = xs3, y = np.sin(2*np.pi*80*xs3), mode = \"lines\", opacity = 0.2, name = \"frequency 1\"))\nfig3.add_trace(go.Scatter(x = xs3, y = np.sin(2*np.pi*80*xs3), mode = \"lines\", opacity = 0.2, name = \"frequency 2\"))\n\nfig3.layout = dict(yaxis=dict(range=[-2,2]), xaxis=dict(range=[0,0.2]),width = 900)\n\nfig3.update_layout(\n    title={\n        'text': r'$y = \\sin(2 \\pi f_1 t) + \\sin(2 \\pi f_2 t)$',\n        'y':0.85,\n        'x':0.5,\n        'xanchor': 'center',\n        'yanchor': 'top'})\n\nfig3.update_xaxes(\n        title_text = r\"$t$\",\n        title_standoff = 15,\n        ticks = 'outside',\n        ticklen = 10,\n        tickcolor='white')\n\nfig3.update_yaxes(\n        title_text = '',\n        title_standoff = 25,\n        ticks = 'outside',\n        ticklen = 10,\n        tickcolor = 'white')\n\nfig3.update_layout(showlegend=False)\n\ndef on_button_clicked(_):\n    with widgets.Output():\n\n        play(f1.value, f2.value)\n    \n\ndef update_trace(freq1, freq2):\n    \n    fig3.data[0].y = np.sin(2*np.pi*freq1*xs3) + np.sin(2*np.pi*freq2*xs3)\n    fig3.data[1].y = np.sin(2*np.pi*freq1*xs3)\n    fig3.data[2].y = np.sin(2*np.pi*freq2*xs3)\n\n# linking button and function together using a button's method\nbutton.on_click(on_button_clicked)\n# displaying button and its output together\nwidgets.VBox([fig3,button,out3])\n\nvb = widgets.VBox((fig3, interactive(update_trace, freq1 = f1, freq2 = f2), button))\nvb.layout.align_items = 'center'\nvb",
    "id": "4599b0db1d2a4a72ab886f0271c97705",
    "idx": 4,
    "time": "2021-02-02T06:26:33.365Z",
    "type": "execution"
   },
   {
    "id": "4599b0db1d2a4a72ab886f0271c97705",
    "time": "2021-02-02T06:26:33.904Z",
    "type": "completion"
   },
   {
    "code": "from IPython.display import Audio,display, clear_output\nfrom functools import partial\n\ndef play(f1, f2, sec=3):\n    framerate = 44100 # <- rate of sampling\n    t = np.linspace(0, sec, framerate * sec) # <- setup time values\n    data = np.sin(2 * np.pi * f1 * t) + np.sin(2 * np.pi * f2 * t) # <- sine function formula\n    display(Audio(data, rate=framerate, autoplay=True)) # play the generated sound\n    \n\nclass InvisibleAudio(Audio):\n    def _repr_html_(self):\n        audio = super()._repr_html_()\n        audio = audio.replace('<audio', f'<audio onended=\"this.parentNode.removeChild(this)\"')\n        return f'<div style=\"display:none\">{audio}</div>'\n",
    "id": "2542389f1daa4cf5863e8b7d20eac8f2",
    "idx": 3,
    "time": "2021-02-02T06:27:15.017Z",
    "type": "execution"
   },
   {
    "id": "2542389f1daa4cf5863e8b7d20eac8f2",
    "time": "2021-02-02T06:27:15.084Z",
    "type": "completion"
   },
   {
    "code": "xs3 = np.linspace(0, 0.2, 1000)\n\nf1 = widgets.IntSlider(value = 1, min = 1, max = 600, step = 1, description = \"frequency 1\")\nf1.layout.width = '400px'\nf2 = widgets.IntSlider(value = 1, min = 1, max = 600, step = 1, description = \"frequency 2\")\nf2.layout.width = '400px'\n\n#xslider = widgets.FloatSlider(value = 0.05, min = 0.01, max = 1, step = 0.01, description = \"xrange\")\n#xslider.layout.width = '400px'\n\nbutton = widgets.Button(description='Play Sound')\nout3 = widgets.Output()\nfig3 = go.FigureWidget()\n\nfig3.add_trace(go.Scatter(x=xs3, y=np.sin(2*np.pi*1*xs3) + np.sin(2*np.pi*1*xs),\n                    mode='lines',\n                    name='sum'))\nfig3.add_trace(go.Scatter(x = xs3, y = np.sin(2*np.pi*80*xs3), mode = \"lines\", opacity = 0.2, name = \"frequency 1\"))\nfig3.add_trace(go.Scatter(x = xs3, y = np.sin(2*np.pi*80*xs3), mode = \"lines\", opacity = 0.2, name = \"frequency 2\"))\n\nfig3.layout = dict(yaxis=dict(range=[-2,2]), xaxis=dict(range=[0,0.2]),width = 900)\n\nfig3.update_layout(\n    title={\n        'text': r'$y = \\sin(2 \\pi f_1 t) + \\sin(2 \\pi f_2 t)$',\n        'y':0.85,\n        'x':0.5,\n        'xanchor': 'center',\n        'yanchor': 'top'})\n\nfig3.update_xaxes(\n        title_text = r\"$t$\",\n        title_standoff = 15,\n        ticks = 'outside',\n        ticklen = 10,\n        tickcolor='white')\n\nfig3.update_yaxes(\n        title_text = '',\n        title_standoff = 25,\n        ticks = 'outside',\n        ticklen = 10,\n        tickcolor = 'white')\n\nfig3.update_layout(showlegend=False)\n\ndef on_button_clicked(f, b):\n    with widgets.Output():\n\n        play(f, f)\n    \n\ndef update_trace(freq1, freq2):\n    \n    fig3.data[0].y = np.sin(2*np.pi*freq1*xs3) + np.sin(2*np.pi*freq2*xs3)\n    fig3.data[1].y = np.sin(2*np.pi*freq1*xs3)\n    fig3.data[2].y = np.sin(2*np.pi*freq2*xs3)\n\n# linking button and function together using a button's method\nbutton.on_click(partial(on_button_clicked, 200))\n#button.on_click(on_button_clicked)\n# displaying button and its output together\nwidgets.VBox([fig3,button,out3])\n\nvb = widgets.VBox((fig3, interactive(update_trace, freq1 = f1, freq2 = f2), button))\nvb.layout.align_items = 'center'\nvb",
    "id": "4599b0db1d2a4a72ab886f0271c97705",
    "idx": 4,
    "time": "2021-02-02T06:29:32.869Z",
    "type": "execution"
   },
   {
    "id": "4599b0db1d2a4a72ab886f0271c97705",
    "time": "2021-02-02T06:29:33.443Z",
    "type": "completion"
   },
   {
    "code": "from IPython.display import Audio,display, clear_output\nfrom functools import partial\nfrom ipywidgets import widgets\n\ndef play(f1, f2, sec=3):\n    framerate = 44100 # <- rate of sampling\n    t = np.linspace(0, sec, framerate * sec) # <- setup time values\n    data = np.sin(2 * np.pi * f1 * t) + np.sin(2 * np.pi * f2 * t) # <- sine function formula\n    display(Audio(data, rate=framerate, autoplay=True)) # play the generated sound\n    \n\nclass InvisibleAudio(Audio):\n    def _repr_html_(self):\n        audio = super()._repr_html_()\n        audio = audio.replace('<audio', f'<audio onended=\"this.parentNode.removeChild(this)\"')\n        return f'<div style=\"display:none\">{audio}</div>'\n",
    "id": "2542389f1daa4cf5863e8b7d20eac8f2",
    "idx": 3,
    "time": "2021-02-02T06:30:06.308Z",
    "type": "execution"
   },
   {
    "id": "2542389f1daa4cf5863e8b7d20eac8f2",
    "time": "2021-02-02T06:30:06.374Z",
    "type": "completion"
   },
   {
    "code": "xs3 = np.linspace(0, 0.2, 1000)\n\nf1 = widgets.IntSlider(value = 1, min = 1, max = 600, step = 1, description = \"frequency 1\")\nf1.layout.width = '400px'\nf2 = widgets.IntSlider(value = 1, min = 1, max = 600, step = 1, description = \"frequency 2\")\nf2.layout.width = '400px'\n\n#xslider = widgets.FloatSlider(value = 0.05, min = 0.01, max = 1, step = 0.01, description = \"xrange\")\n#xslider.layout.width = '400px'\n\nbutton = widgets.Button(description='Play Sound')\nout3 = widgets.Output()\nfig3 = go.FigureWidget()\n\nfig3.add_trace(go.Scatter(x=xs3, y=np.sin(2*np.pi*1*xs3) + np.sin(2*np.pi*1*xs),\n                    mode='lines',\n                    name='sum'))\nfig3.add_trace(go.Scatter(x = xs3, y = np.sin(2*np.pi*80*xs3), mode = \"lines\", opacity = 0.2, name = \"frequency 1\"))\nfig3.add_trace(go.Scatter(x = xs3, y = np.sin(2*np.pi*80*xs3), mode = \"lines\", opacity = 0.2, name = \"frequency 2\"))\n\nfig3.layout = dict(yaxis=dict(range=[-2,2]), xaxis=dict(range=[0,0.2]),width = 900)\n\nfig3.update_layout(\n    title={\n        'text': r'$y = \\sin(2 \\pi f_1 t) + \\sin(2 \\pi f_2 t)$',\n        'y':0.85,\n        'x':0.5,\n        'xanchor': 'center',\n        'yanchor': 'top'})\n\nfig3.update_xaxes(\n        title_text = r\"$t$\",\n        title_standoff = 15,\n        ticks = 'outside',\n        ticklen = 10,\n        tickcolor='white')\n\nfig3.update_yaxes(\n        title_text = '',\n        title_standoff = 25,\n        ticks = 'outside',\n        ticklen = 10,\n        tickcolor = 'white')\n\nfig3.update_layout(showlegend=False)\n\ndef on_button_clicked(f, b):\n    with widgets.Output():\n\n        play(f, f)\n    \n\ndef update_trace(freq1, freq2):\n    \n    fig3.data[0].y = np.sin(2*np.pi*freq1*xs3) + np.sin(2*np.pi*freq2*xs3)\n    fig3.data[1].y = np.sin(2*np.pi*freq1*xs3)\n    fig3.data[2].y = np.sin(2*np.pi*freq2*xs3)\n\n# linking button and function together using a button's method\nbutton.on_click(partial(on_button_clicked, 200))\n#button.on_click(on_button_clicked)\n# displaying button and its output together\nwidgets.VBox([fig3,button,out3])\n\nvb = widgets.VBox((fig3, interactive(update_trace, freq1 = f1, freq2 = f2), button))\nvb.layout.align_items = 'center'\nvb",
    "id": "4599b0db1d2a4a72ab886f0271c97705",
    "idx": 4,
    "time": "2021-02-02T06:30:06.867Z",
    "type": "execution"
   },
   {
    "id": "4599b0db1d2a4a72ab886f0271c97705",
    "time": "2021-02-02T06:30:07.345Z",
    "type": "completion"
   },
   {
    "code": "xs3 = np.linspace(0, 0.2, 1000)\n\nf1 = widgets.IntSlider(value = 1, min = 1, max = 600, step = 1, description = \"frequency 1\")\nf1.layout.width = '400px'\nf2 = widgets.IntSlider(value = 1, min = 1, max = 600, step = 1, description = \"frequency 2\")\nf2.layout.width = '400px'\n\n#xslider = widgets.FloatSlider(value = 0.05, min = 0.01, max = 1, step = 0.01, description = \"xrange\")\n#xslider.layout.width = '400px'\n\nbutton = widgets.Button(description='Play Sound')\nout3 = widgets.Output()\nfig3 = go.FigureWidget()\n\nfig3.add_trace(go.Scatter(x=xs3, y=np.sin(2*np.pi*1*xs3) + np.sin(2*np.pi*1*xs),\n                    mode='lines',\n                    name='sum'))\nfig3.add_trace(go.Scatter(x = xs3, y = np.sin(2*np.pi*80*xs3), mode = \"lines\", opacity = 0.2, name = \"frequency 1\"))\nfig3.add_trace(go.Scatter(x = xs3, y = np.sin(2*np.pi*80*xs3), mode = \"lines\", opacity = 0.2, name = \"frequency 2\"))\n\nfig3.layout = dict(yaxis=dict(range=[-2,2]), xaxis=dict(range=[0,0.2]),width = 900)\n\nfig3.update_layout(\n    title={\n        'text': r'$y = \\sin(2 \\pi f_1 t) + \\sin(2 \\pi f_2 t)$',\n        'y':0.85,\n        'x':0.5,\n        'xanchor': 'center',\n        'yanchor': 'top'})\n\nfig3.update_xaxes(\n        title_text = r\"$t$\",\n        title_standoff = 15,\n        ticks = 'outside',\n        ticklen = 10,\n        tickcolor='white')\n\nfig3.update_yaxes(\n        title_text = '',\n        title_standoff = 25,\n        ticks = 'outside',\n        ticklen = 10,\n        tickcolor = 'white')\n\nfig3.update_layout(showlegend=False)\n\ndef on_button_clicked(f, b):\n\n\n    play(f, f)\n    \n\ndef update_trace(freq1, freq2):\n    \n    fig3.data[0].y = np.sin(2*np.pi*freq1*xs3) + np.sin(2*np.pi*freq2*xs3)\n    fig3.data[1].y = np.sin(2*np.pi*freq1*xs3)\n    fig3.data[2].y = np.sin(2*np.pi*freq2*xs3)\n\n# linking button and function together using a button's method\nbutton.on_click(partial(on_button_clicked, 200))\n#button.on_click(on_button_clicked)\n# displaying button and its output together\nwidgets.VBox([fig3,button,out3])\n\nvb = widgets.VBox((fig3, interactive(update_trace, freq1 = f1, freq2 = f2), button))\nvb.layout.align_items = 'center'\nvb",
    "id": "4599b0db1d2a4a72ab886f0271c97705",
    "idx": 4,
    "time": "2021-02-02T06:30:56.688Z",
    "type": "execution"
   },
   {
    "id": "4599b0db1d2a4a72ab886f0271c97705",
    "time": "2021-02-02T06:30:57.278Z",
    "type": "completion"
   },
   {
    "code": "xs3 = np.linspace(0, 0.2, 1000)\n\nf1 = widgets.IntSlider(value = 1, min = 1, max = 600, step = 1, description = \"frequency 1\")\nf1.layout.width = '400px'\nf2 = widgets.IntSlider(value = 1, min = 1, max = 600, step = 1, description = \"frequency 2\")\nf2.layout.width = '400px'\n\n#xslider = widgets.FloatSlider(value = 0.05, min = 0.01, max = 1, step = 0.01, description = \"xrange\")\n#xslider.layout.width = '400px'\n\nbutton = widgets.Button(description='Play Sound')\nout3 = widgets.Output()\nfig3 = go.FigureWidget()\n\nfig3.add_trace(go.Scatter(x=xs3, y=np.sin(2*np.pi*1*xs3) + np.sin(2*np.pi*1*xs),\n                    mode='lines',\n                    name='sum'))\nfig3.add_trace(go.Scatter(x = xs3, y = np.sin(2*np.pi*80*xs3), mode = \"lines\", opacity = 0.2, name = \"frequency 1\"))\nfig3.add_trace(go.Scatter(x = xs3, y = np.sin(2*np.pi*80*xs3), mode = \"lines\", opacity = 0.2, name = \"frequency 2\"))\n\nfig3.layout = dict(yaxis=dict(range=[-2,2]), xaxis=dict(range=[0,0.2]),width = 900)\n\nfig3.update_layout(\n    title={\n        'text': r'$y = \\sin(2 \\pi f_1 t) + \\sin(2 \\pi f_2 t)$',\n        'y':0.85,\n        'x':0.5,\n        'xanchor': 'center',\n        'yanchor': 'top'})\n\nfig3.update_xaxes(\n        title_text = r\"$t$\",\n        title_standoff = 15,\n        ticks = 'outside',\n        ticklen = 10,\n        tickcolor='white')\n\nfig3.update_yaxes(\n        title_text = '',\n        title_standoff = 25,\n        ticks = 'outside',\n        ticklen = 10,\n        tickcolor = 'white')\n\nfig3.update_layout(showlegend=False)\n\ndef on_button_clicked(_):\n\n    play(f1.value, f2.value)\n    \n\ndef update_trace(freq1, freq2):\n    \n    fig3.data[0].y = np.sin(2*np.pi*freq1*xs3) + np.sin(2*np.pi*freq2*xs3)\n    fig3.data[1].y = np.sin(2*np.pi*freq1*xs3)\n    fig3.data[2].y = np.sin(2*np.pi*freq2*xs3)\n\n# linking button and function together using a button's method\nbutton.on_click(on_button_clicked)\n# displaying button and its output together\nwidgets.VBox([fig3,button,out3])\n\nvb = widgets.VBox((fig3, interactive(update_trace, freq1 = f1, freq2 = f2), button))\nvb.layout.align_items = 'center'\nvb",
    "id": "4599b0db1d2a4a72ab886f0271c97705",
    "idx": 4,
    "time": "2021-02-02T06:31:42.672Z",
    "type": "execution"
   },
   {
    "id": "4599b0db1d2a4a72ab886f0271c97705",
    "time": "2021-02-02T06:31:43.223Z",
    "type": "completion"
   },
   {
    "code": "from IPython.display import Audio,display, clear_output\n\ndef play(f1, f2, sec=3):\n    framerate = 44100 # <- rate of sampling\n    t = np.linspace(0, sec, framerate * sec) # <- setup time values\n    data = np.sin(2 * np.pi * f1 * t) + np.sin(2 * np.pi * f2 * t) # <- sine function formula\n    display(InvisibleAudio(data, rate=framerate, autoplay=True)) # play the generated sound\n    \n\nclass InvisibleAudio(Audio):\n    def _repr_html_(self):\n        audio = super()._repr_html_()\n        audio = audio.replace('<audio', f'<audio onended=\"this.parentNode.removeChild(this)\"')\n        return f'<div style=\"display:none\">{audio}</div>'\n",
    "id": "2542389f1daa4cf5863e8b7d20eac8f2",
    "idx": 3,
    "time": "2021-02-02T06:31:52.125Z",
    "type": "execution"
   },
   {
    "id": "2542389f1daa4cf5863e8b7d20eac8f2",
    "time": "2021-02-02T06:31:52.192Z",
    "type": "completion"
   },
   {
    "code": "from IPython.display import Audio,display, clear_output\n\ndef play(f1, f2, sec=2):\n    framerate = 44100 # <- rate of sampling\n    t = np.linspace(0, sec, framerate * sec) # <- setup time values\n    data = np.sin(2 * np.pi * f1 * t) + np.sin(2 * np.pi * f2 * t) # <- sine function formula\n    display(InvisibleAudio(data, rate=framerate, autoplay=True)) # play the generated sound\n    \n\nclass InvisibleAudio(Audio):\n    def _repr_html_(self):\n        audio = super()._repr_html_()\n        audio = audio.replace('<audio', f'<audio onended=\"this.parentNode.removeChild(this)\"')\n        return f'<div style=\"display:none\">{audio}</div>'\n",
    "id": "2542389f1daa4cf5863e8b7d20eac8f2",
    "idx": 3,
    "time": "2021-02-02T06:31:58.033Z",
    "type": "execution"
   },
   {
    "id": "2542389f1daa4cf5863e8b7d20eac8f2",
    "time": "2021-02-02T06:31:58.096Z",
    "type": "completion"
   },
   {
    "code": "xs3 = np.linspace(0, 0.2, 1000)\n\nf1 = widgets.IntSlider(value = 1, min = 1, max = 600, step = 1, description = \"frequency 1\")\nf1.layout.width = '400px'\nf2 = widgets.IntSlider(value = 1, min = 1, max = 600, step = 1, description = \"frequency 2\")\nf2.layout.width = '400px'\n\n#xslider = widgets.FloatSlider(value = 0.05, min = 0.01, max = 1, step = 0.01, description = \"xrange\")\n#xslider.layout.width = '400px'\n\nbutton = widgets.Button(description='Play Sound')\nout3 = widgets.Output()\nfig3 = go.FigureWidget()\n\nfig3.add_trace(go.Scatter(x=xs3, y=np.sin(2*np.pi*1*xs3) + np.sin(2*np.pi*1*xs),\n                    mode='lines',\n                    name='sum'))\nfig3.add_trace(go.Scatter(x = xs3, y = np.sin(2*np.pi*80*xs3), mode = \"lines\", opacity = 0.2, name = \"frequency 1\"))\nfig3.add_trace(go.Scatter(x = xs3, y = np.sin(2*np.pi*80*xs3), mode = \"lines\", opacity = 0.2, name = \"frequency 2\"))\n\nfig3.layout = dict(yaxis=dict(range=[-2,2]), xaxis=dict(range=[0,0.2]),width = 900)\n\nfig3.update_layout(\n    title={\n        'text': r'$y = \\sin(2 \\pi f_1 t) + \\sin(2 \\pi f_2 t)$',\n        'y':0.85,\n        'x':0.5,\n        'xanchor': 'center',\n        'yanchor': 'top'})\n\nfig3.update_xaxes(\n        title_text = r\"$t$\",\n        title_standoff = 15,\n        ticks = 'outside',\n        ticklen = 10,\n        tickcolor='white')\n\nfig3.update_yaxes(\n        title_text = '',\n        title_standoff = 25,\n        ticks = 'outside',\n        ticklen = 10,\n        tickcolor = 'white')\n\nfig3.update_layout(showlegend=False)\n\ndef on_button_clicked(_):\n\n    play(f1.value, f2.value)\n    \n\ndef update_trace(freq1, freq2):\n    \n    fig3.data[0].y = np.sin(2*np.pi*freq1*xs3) + np.sin(2*np.pi*freq2*xs3)\n    fig3.data[1].y = np.sin(2*np.pi*freq1*xs3)\n    fig3.data[2].y = np.sin(2*np.pi*freq2*xs3)\n\n# linking button and function together using a button's method\nbutton.on_click(on_button_clicked)\n# displaying button and its output together\nwidgets.VBox([fig3,button,out3])\n\nvb = widgets.VBox((fig3, interactive(update_trace, freq1 = f1, freq2 = f2), button))\nvb.layout.align_items = 'center'\nvb",
    "id": "4599b0db1d2a4a72ab886f0271c97705",
    "idx": 4,
    "time": "2021-02-02T06:31:58.455Z",
    "type": "execution"
   },
   {
    "id": "4599b0db1d2a4a72ab886f0271c97705",
    "time": "2021-02-02T06:31:59.028Z",
    "type": "completion"
   },
   {
    "code": "from IPython.display import HTML\n\nHTML('''<script>\ncode_show=true; \nfunction code_toggle() {\n if (code_show){\n $('div.input').hide();\n } else {\n $('div.input').show();\n }\n code_show = !code_show\n} \n$( document ).ready(code_toggle);\n</script>\n<form action=\"javascript:code_toggle()\"><input type=\"submit\" value=\"Click here to toggle on/off the raw code.\"></form>''')",
    "id": "60dd88458107478d8dbbaacbda798922",
    "idx": 1,
    "time": "2021-02-02T06:33:58.144Z",
    "type": "execution"
   },
   {
    "code": "import plotly.graph_objs as go\nfrom ipywidgets import interactive, HBox, VBox, widgets, interact\nimport numpy as np\n\nxs = np.linspace(0, 5, 1000)\n\ndef wave(f, phi, x):\n    return np.sin(2*np.pi*f*x + phi)\n\nfig = go.FigureWidget()\n\nfig.layout = dict(yaxis=dict(range=[-1,1]), xaxis=dict(range=[0,5]),width = 1000)\n\nfig.update_layout(\n    title={\n        'text': r'$y = \\sin(2 \\pi f x + \\phi)$',\n        'y':0.85,\n        'x':0.5,\n        'xanchor': 'center',\n        'yanchor': 'top'})\n\nfig.update_xaxes(\n        title_text = r\"$x$\",\n        title_standoff = 15,\n        ticks = 'outside',\n        ticklen = 10,\n        tickcolor='white')\n\nfig.update_yaxes(\n        title_text = '',\n        title_standoff = 25,\n        ticks = 'outside',\n        ticklen = 10,\n        tickcolor = 'white')\n\n\nline = fig.add_trace(go.Scatter(x=xs, y=wave(1, 0, xs),\n                    mode='lines',\n                    name='lines'))\n\nslider = widgets.FloatSlider(\n    value = 1,\n    min=0.1,\n    max=10,\n    step=0.1,\n    readout=True,\n    description=r'$f$')\nslider.layout.width = '400px'\n\nslider2 = widgets.FloatSlider(\n    value = 0,\n    min=-3.14,\n    max=3.14,\n    step=0.01,\n    readout=True,\n    description=r'$\\phi$')\nslider2.layout.width = '400px'\n\n\n# our function that will modify the xaxis range\ndef update_range(frequency, phi):\n    fig.data[0].y=wave(frequency, phi, xs)\n\n\n# display the FigureWidget and slider with center justification\nvb = VBox((fig, interactive(update_range, frequency = slider, phi = slider2)))\nvb.layout.align_items = 'center'\nvb",
    "id": "ac6a2bbec20c4b3f8431af030c6d977b",
    "idx": 2,
    "time": "2021-02-02T06:33:58.164Z",
    "type": "execution"
   },
   {
    "code": "xs2 = np.linspace(0, 5, 500)\n\ndef traveling_wave(k, omega, x, t):\n    return np.sin(k*x - omega*t/10.)\n\nfig2 = go.FigureWidget()\n\nfig2.layout = dict(yaxis=dict(range=[-1,1]), xaxis=dict(range=[0,5]),width = 1000)\n\nfig2.update_layout(\n    title={\n        'text': r'$y = \\sin(kx - \\omega t)$',\n        'y':0.85,\n        'x':0.5,\n        'xanchor': 'center',\n        'yanchor': 'top'})\n\nfig2.update_xaxes(\n        title_text = r\"$x$\",\n        title_standoff = 15,\n        ticks = 'outside',\n        ticklen = 10,\n        tickcolor='white')\n\nfig2.update_yaxes(\n        title_text = '',\n        title_standoff = 25,\n        ticks = 'outside',\n        ticklen = 10,\n        tickcolor = 'white')\n\n\nline2 = fig2.add_trace(go.Scatter(x=xs2, y=traveling_wave(1, 0, xs2, 0),\n                    mode='lines',\n                    name='lines'))\n\nbslider = widgets.FloatSlider(\n    value = 3.14,\n    min=0.1,\n    max=10,\n    step=0.02,\n    readout=True,\n    description=r'$k$')\nbslider.layout.width = '400px'\n\nbslider2 = widgets.FloatSlider(\n    value = 0,\n    min=-1,\n    max=1,\n    step=0.1,\n    readout=True,\n    description=r'$\\omega$')\nbslider2.layout.width = '400px'\n\nplay = widgets.Play(\n    interval = 5,\n    value = 0,\n    min=0,\n    max=500,\n    step=1\n)\n\ndef update2(k, omega, time):\n    fig2.data[0].y=traveling_wave(k, omega, xs2, time)\n\nvb2 = VBox((fig2, interactive(update2, k = bslider, omega = bslider2, time = play)))\nvb2",
    "id": "fa6035d43f9d477482f2aa3251a18a4d",
    "idx": 3,
    "time": "2021-02-02T06:33:58.167Z",
    "type": "execution"
   },
   {
    "code": "from IPython.display import Audio,display, clear_output\n\ndef play(f1, f2, sec=2):\n    framerate = 44100 # <- rate of sampling\n    t = np.linspace(0, sec, framerate * sec) # <- setup time values\n    data = np.sin(2 * np.pi * f1 * t) + np.sin(2 * np.pi * f2 * t) # <- sine function formula\n    display(InvisibleAudio(data, rate=framerate, autoplay=True)) # play the generated sound\n    \n\nclass InvisibleAudio(Audio):\n    def _repr_html_(self):\n        audio = super()._repr_html_()\n        audio = audio.replace('<audio', f'<audio onended=\"this.parentNode.removeChild(this)\"')\n        return f'<div style=\"display:none\">{audio}</div>'\n",
    "id": "2542389f1daa4cf5863e8b7d20eac8f2",
    "idx": 4,
    "time": "2021-02-02T06:33:58.167Z",
    "type": "execution"
   },
   {
    "code": "xs3 = np.linspace(0, 0.2, 1000)\n\nf1 = widgets.IntSlider(value = 1, min = 1, max = 600, step = 1, description = \"frequency 1\")\nf1.layout.width = '400px'\nf2 = widgets.IntSlider(value = 1, min = 1, max = 600, step = 1, description = \"frequency 2\")\nf2.layout.width = '400px'\n\n#xslider = widgets.FloatSlider(value = 0.05, min = 0.01, max = 1, step = 0.01, description = \"xrange\")\n#xslider.layout.width = '400px'\n\nbutton = widgets.Button(description='Play Sound')\nout3 = widgets.Output()\nfig3 = go.FigureWidget()\n\nfig3.add_trace(go.Scatter(x=xs3, y=np.sin(2*np.pi*1*xs3) + np.sin(2*np.pi*1*xs),\n                    mode='lines',\n                    name='sum'))\nfig3.add_trace(go.Scatter(x = xs3, y = np.sin(2*np.pi*80*xs3), mode = \"lines\", opacity = 0.2, name = \"frequency 1\"))\nfig3.add_trace(go.Scatter(x = xs3, y = np.sin(2*np.pi*80*xs3), mode = \"lines\", opacity = 0.2, name = \"frequency 2\"))\n\nfig3.layout = dict(yaxis=dict(range=[-2,2]), xaxis=dict(range=[0,0.2]),width = 900)\n\nfig3.update_layout(\n    title={\n        'text': r'$y = \\sin(2 \\pi f_1 t) + \\sin(2 \\pi f_2 t)$',\n        'y':0.85,\n        'x':0.5,\n        'xanchor': 'center',\n        'yanchor': 'top'})\n\nfig3.update_xaxes(\n        title_text = r\"$t$\",\n        title_standoff = 15,\n        ticks = 'outside',\n        ticklen = 10,\n        tickcolor='white')\n\nfig3.update_yaxes(\n        title_text = '',\n        title_standoff = 25,\n        ticks = 'outside',\n        ticklen = 10,\n        tickcolor = 'white')\n\nfig3.update_layout(showlegend=False)\n\ndef on_button_clicked(_):\n\n    play(f1.value, f2.value)\n    \n\ndef update_trace(freq1, freq2):\n    \n    fig3.data[0].y = np.sin(2*np.pi*freq1*xs3) + np.sin(2*np.pi*freq2*xs3)\n    fig3.data[1].y = np.sin(2*np.pi*freq1*xs3)\n    fig3.data[2].y = np.sin(2*np.pi*freq2*xs3)\n\n# linking button and function together using a button's method\nbutton.on_click(on_button_clicked)\n# displaying button and its output together\nwidgets.VBox([fig3,button,out3])\n\nvb = widgets.VBox((fig3, interactive(update_trace, freq1 = f1, freq2 = f2), button))\nvb.layout.align_items = 'center'\nvb",
    "id": "4599b0db1d2a4a72ab886f0271c97705",
    "idx": 5,
    "time": "2021-02-02T06:33:58.169Z",
    "type": "execution"
   },
   {
    "id": "60dd88458107478d8dbbaacbda798922",
    "time": "2021-02-02T06:33:58.232Z",
    "type": "completion"
   },
   {
    "id": "ac6a2bbec20c4b3f8431af030c6d977b",
    "time": "2021-02-02T06:33:58.810Z",
    "type": "completion"
   },
   {
    "id": "fa6035d43f9d477482f2aa3251a18a4d",
    "time": "2021-02-02T06:33:59.070Z",
    "type": "completion"
   },
   {
    "id": "2542389f1daa4cf5863e8b7d20eac8f2",
    "time": "2021-02-02T06:33:59.071Z",
    "type": "completion"
   },
   {
    "id": "4599b0db1d2a4a72ab886f0271c97705",
    "time": "2021-02-02T06:33:59.426Z",
    "type": "completion"
   },
   {
    "code": "from IPython.display import HTML\n\nHTML('''<script>\ncode_show=true; \nfunction code_toggle() {\n if (code_show){\n $('div.input').hide();\n } else {\n $('div.input').show();\n }\n code_show = !code_show\n} \n$( document ).ready(code_toggle);\n</script>\n<form action=\"javascript:code_toggle()\"><input type=\"submit\" value=\"Click here to toggle on/off the raw code.\"></form>''')",
    "id": "d6f8e3b4b6f94a289f9905bae91443bf",
    "idx": 1,
    "time": "2021-02-02T06:34:33.962Z",
    "type": "execution"
   },
   {
    "code": "import plotly.graph_objs as go\nfrom ipywidgets import interactive, HBox, VBox, widgets, interact\nimport numpy as np\n\nxs = np.linspace(0, 5, 1000)\n\ndef wave(f, phi, x):\n    return np.sin(2*np.pi*f*x + phi)\n\nfig = go.FigureWidget()\n\nfig.layout = dict(yaxis=dict(range=[-1,1]), xaxis=dict(range=[0,5]),width = 1000)\n\nfig.update_layout(\n    title={\n        'text': r'$y = \\sin(2 \\pi f x + \\phi)$',\n        'y':0.85,\n        'x':0.5,\n        'xanchor': 'center',\n        'yanchor': 'top'})\n\nfig.update_xaxes(\n        title_text = r\"$x$\",\n        title_standoff = 15,\n        ticks = 'outside',\n        ticklen = 10,\n        tickcolor='white')\n\nfig.update_yaxes(\n        title_text = '',\n        title_standoff = 25,\n        ticks = 'outside',\n        ticklen = 10,\n        tickcolor = 'white')\n\n\nline = fig.add_trace(go.Scatter(x=xs, y=wave(1, 0, xs),\n                    mode='lines',\n                    name='lines'))\n\nslider = widgets.FloatSlider(\n    value = 1,\n    min=0.1,\n    max=10,\n    step=0.1,\n    readout=True,\n    description=r'$f$')\nslider.layout.width = '400px'\n\nslider2 = widgets.FloatSlider(\n    value = 0,\n    min=-3.14,\n    max=3.14,\n    step=0.01,\n    readout=True,\n    description=r'$\\phi$')\nslider2.layout.width = '400px'\n\n\n# our function that will modify the xaxis range\ndef update_range(frequency, phi):\n    fig.data[0].y=wave(frequency, phi, xs)\n\n\n# display the FigureWidget and slider with center justification\nvb = VBox((fig, interactive(update_range, frequency = slider, phi = slider2)))\nvb.layout.align_items = 'center'\nvb",
    "id": "4a2f950c41ca410f82e54d33325e7dc5",
    "idx": 2,
    "time": "2021-02-02T06:34:33.965Z",
    "type": "execution"
   },
   {
    "code": "xs2 = np.linspace(0, 5, 500)\n\ndef traveling_wave(k, omega, x, t):\n    return np.sin(k*x - omega*t/10.)\n\nfig2 = go.FigureWidget()\n\nfig2.layout = dict(yaxis=dict(range=[-1,1]), xaxis=dict(range=[0,5]),width = 1000)\n\nfig2.update_layout(\n    title={\n        'text': r'$y = \\sin(kx - \\omega t)$',\n        'y':0.85,\n        'x':0.5,\n        'xanchor': 'center',\n        'yanchor': 'top'})\n\nfig2.update_xaxes(\n        title_text = r\"$x$\",\n        title_standoff = 15,\n        ticks = 'outside',\n        ticklen = 10,\n        tickcolor='white')\n\nfig2.update_yaxes(\n        title_text = '',\n        title_standoff = 25,\n        ticks = 'outside',\n        ticklen = 10,\n        tickcolor = 'white')\n\n\nline2 = fig2.add_trace(go.Scatter(x=xs2, y=traveling_wave(1, 0, xs2, 0),\n                    mode='lines',\n                    name='lines'))\n\nbslider = widgets.FloatSlider(\n    value = 3.14,\n    min=0.1,\n    max=10,\n    step=0.02,\n    readout=True,\n    description=r'$k$')\nbslider.layout.width = '400px'\n\nbslider2 = widgets.FloatSlider(\n    value = 0,\n    min=-1,\n    max=1,\n    step=0.1,\n    readout=True,\n    description=r'$\\omega$')\nbslider2.layout.width = '400px'\n\nplay = widgets.Play(\n    interval = 5,\n    value = 0,\n    min=0,\n    max=500,\n    step=1\n)\n\ndef update2(k, omega, time):\n    fig2.data[0].y=traveling_wave(k, omega, xs2, time)\n\nvb2 = VBox((fig2, interactive(update2, k = bslider, omega = bslider2, time = play)))\nvb2",
    "id": "71244622f4f842d7b17ff72968f31d1d",
    "idx": 3,
    "time": "2021-02-02T06:34:33.965Z",
    "type": "execution"
   },
   {
    "code": "from IPython.display import Audio,display, clear_output\n\ndef play(f1, f2, sec=2):\n    framerate = 44100 # <- rate of sampling\n    t = np.linspace(0, sec, framerate * sec) # <- setup time values\n    data = np.sin(2 * np.pi * f1 * t) + np.sin(2 * np.pi * f2 * t) # <- sine function formula\n    display(InvisibleAudio(data, rate=framerate, autoplay=True)) # play the generated sound\n    \n\nclass InvisibleAudio(Audio):\n    def _repr_html_(self):\n        audio = super()._repr_html_()\n        audio = audio.replace('<audio', f'<audio onended=\"this.parentNode.removeChild(this)\"')\n        return f'<div style=\"display:none\">{audio}</div>'\n",
    "id": "9255ab1aad774f458bfe3ad54d2e81e7",
    "idx": 4,
    "time": "2021-02-02T06:34:33.966Z",
    "type": "execution"
   },
   {
    "code": "xs3 = np.linspace(0, 0.2, 1000)\n\nf1 = widgets.IntSlider(value = 1, min = 1, max = 600, step = 1, description = \"frequency 1\")\nf1.layout.width = '400px'\nf2 = widgets.IntSlider(value = 1, min = 1, max = 600, step = 1, description = \"frequency 2\")\nf2.layout.width = '400px'\n\n#xslider = widgets.FloatSlider(value = 0.05, min = 0.01, max = 1, step = 0.01, description = \"xrange\")\n#xslider.layout.width = '400px'\n\nbutton = widgets.Button(description='Play Sound')\nout3 = widgets.Output()\nfig3 = go.FigureWidget()\n\nfig3.add_trace(go.Scatter(x=xs3, y=np.sin(2*np.pi*1*xs3) + np.sin(2*np.pi*1*xs),\n                    mode='lines',\n                    name='sum'))\nfig3.add_trace(go.Scatter(x = xs3, y = np.sin(2*np.pi*80*xs3), mode = \"lines\", opacity = 0.2, name = \"frequency 1\"))\nfig3.add_trace(go.Scatter(x = xs3, y = np.sin(2*np.pi*80*xs3), mode = \"lines\", opacity = 0.2, name = \"frequency 2\"))\n\nfig3.layout = dict(yaxis=dict(range=[-2,2]), xaxis=dict(range=[0,0.2]),width = 900)\n\nfig3.update_layout(\n    title={\n        'text': r'$y = \\sin(2 \\pi f_1 t) + \\sin(2 \\pi f_2 t)$',\n        'y':0.85,\n        'x':0.5,\n        'xanchor': 'center',\n        'yanchor': 'top'})\n\nfig3.update_xaxes(\n        title_text = r\"$t$\",\n        title_standoff = 15,\n        ticks = 'outside',\n        ticklen = 10,\n        tickcolor='white')\n\nfig3.update_yaxes(\n        title_text = '',\n        title_standoff = 25,\n        ticks = 'outside',\n        ticklen = 10,\n        tickcolor = 'white')\n\nfig3.update_layout(showlegend=False)\n\ndef on_button_clicked(_):\n\n    play(f1.value, f2.value)\n    \n\ndef update_trace(freq1, freq2):\n    \n    fig3.data[0].y = np.sin(2*np.pi*freq1*xs3) + np.sin(2*np.pi*freq2*xs3)\n    fig3.data[1].y = np.sin(2*np.pi*freq1*xs3)\n    fig3.data[2].y = np.sin(2*np.pi*freq2*xs3)\n\n# linking button and function together using a button's method\nbutton.on_click(on_button_clicked)\n# displaying button and its output together\nwidgets.VBox([fig3,button,out3])\n\nvb = widgets.VBox((fig3, interactive(update_trace, freq1 = f1, freq2 = f2), button))\nvb.layout.align_items = 'center'\nvb",
    "id": "cecd3880e67c413d873e0c4856803e6c",
    "idx": 5,
    "time": "2021-02-02T06:34:33.967Z",
    "type": "execution"
   },
   {
    "id": "d6f8e3b4b6f94a289f9905bae91443bf",
    "time": "2021-02-02T06:34:34.040Z",
    "type": "completion"
   },
   {
    "id": "4a2f950c41ca410f82e54d33325e7dc5",
    "time": "2021-02-02T06:34:35.158Z",
    "type": "completion"
   },
   {
    "id": "71244622f4f842d7b17ff72968f31d1d",
    "time": "2021-02-02T06:34:35.285Z",
    "type": "completion"
   },
   {
    "id": "9255ab1aad774f458bfe3ad54d2e81e7",
    "time": "2021-02-02T06:34:35.286Z",
    "type": "completion"
   },
   {
    "id": "cecd3880e67c413d873e0c4856803e6c",
    "time": "2021-02-02T06:34:35.427Z",
    "type": "completion"
   },
   {
    "code": "from IPython.display import HTML\n\nHTML('''<script>\ncode_show=true; \nfunction code_toggle() {\n if (code_show){\n $('div.input').hide();\n } else {\n $('div.input').show();\n }\n code_show = !code_show\n} \n$( document ).ready(code_toggle);\n</script>\n<form action=\"javascript:code_toggle()\"><input type=\"submit\" value=\"Click here to toggle on/off the raw code.\"></form>''')",
    "id": "ca2fc2a63ae64bba8006de4f86524194",
    "idx": 1,
    "time": "2021-02-02T06:35:19.635Z",
    "type": "execution"
   },
   {
    "code": "import plotly.graph_objs as go\nfrom ipywidgets import interactive, HBox, VBox, widgets, interact\nimport numpy as np\n\nxs = np.linspace(0, 5, 1000)\n\ndef wave(f, phi, x):\n    return np.sin(2*np.pi*f*x + phi)\n\nfig = go.FigureWidget()\n\nfig.layout = dict(yaxis=dict(range=[-1,1]), xaxis=dict(range=[0,5]),width = 1000)\n\nfig.update_layout(\n    title={\n        'text': r'$y = \\sin(2 \\pi f x + \\phi)$',\n        'y':0.85,\n        'x':0.5,\n        'xanchor': 'center',\n        'yanchor': 'top'})\n\nfig.update_xaxes(\n        title_text = r\"$x$\",\n        title_standoff = 15,\n        ticks = 'outside',\n        ticklen = 10,\n        tickcolor='white')\n\nfig.update_yaxes(\n        title_text = '',\n        title_standoff = 25,\n        ticks = 'outside',\n        ticklen = 10,\n        tickcolor = 'white')\n\n\nline = fig.add_trace(go.Scatter(x=xs, y=wave(1, 0, xs),\n                    mode='lines',\n                    name='lines'))\n\nslider = widgets.FloatSlider(\n    value = 1,\n    min=0.1,\n    max=10,\n    step=0.1,\n    readout=True,\n    description=r'$f$')\nslider.layout.width = '400px'\n\nslider2 = widgets.FloatSlider(\n    value = 0,\n    min=-3.14,\n    max=3.14,\n    step=0.01,\n    readout=True,\n    description=r'$\\phi$')\nslider2.layout.width = '400px'\n\n\n# our function that will modify the xaxis range\ndef update_range(frequency, phi):\n    fig.data[0].y=wave(frequency, phi, xs)\n\n\n# display the FigureWidget and slider with center justification\nvb = VBox((fig, interactive(update_range, frequency = slider, phi = slider2)))\nvb.layout.align_items = 'center'\nvb",
    "id": "7cfc47b6166f4ce5bf1c1719792efb33",
    "idx": 2,
    "time": "2021-02-02T06:35:19.655Z",
    "type": "execution"
   },
   {
    "code": "xs2 = np.linspace(0, 5, 500)\n\ndef traveling_wave(k, omega, x, t):\n    return np.sin(k*x - omega*t/10.)\n\nfig2 = go.FigureWidget()\n\nfig2.layout = dict(yaxis=dict(range=[-1,1]), xaxis=dict(range=[0,5]),width = 1000)\n\nfig2.update_layout(\n    title={\n        'text': r'$y = \\sin(kx - \\omega t)$',\n        'y':0.85,\n        'x':0.5,\n        'xanchor': 'center',\n        'yanchor': 'top'})\n\nfig2.update_xaxes(\n        title_text = r\"$x$\",\n        title_standoff = 15,\n        ticks = 'outside',\n        ticklen = 10,\n        tickcolor='white')\n\nfig2.update_yaxes(\n        title_text = '',\n        title_standoff = 25,\n        ticks = 'outside',\n        ticklen = 10,\n        tickcolor = 'white')\n\n\nline2 = fig2.add_trace(go.Scatter(x=xs2, y=traveling_wave(1, 0, xs2, 0),\n                    mode='lines',\n                    name='lines'))\n\nbslider = widgets.FloatSlider(\n    value = 3.14,\n    min=0.1,\n    max=10,\n    step=0.02,\n    readout=True,\n    description=r'$k$')\nbslider.layout.width = '400px'\n\nbslider2 = widgets.FloatSlider(\n    value = 0,\n    min=-1,\n    max=1,\n    step=0.1,\n    readout=True,\n    description=r'$\\omega$')\nbslider2.layout.width = '400px'\n\nplay = widgets.Play(\n    interval = 5,\n    value = 0,\n    min=0,\n    max=500,\n    step=1\n)\n\ndef update2(k, omega, time):\n    fig2.data[0].y=traveling_wave(k, omega, xs2, time)\n\nvb2 = VBox((fig2, interactive(update2, k = bslider, omega = bslider2, time = play)))\nvb2",
    "id": "bbc828555236403a8c9b65042d63c7fb",
    "idx": 3,
    "time": "2021-02-02T06:35:19.657Z",
    "type": "execution"
   },
   {
    "code": "from IPython.display import Audio,display, clear_output\n\ndef play(f1, f2, sec=2):\n    framerate = 44100 # <- rate of sampling\n    t = np.linspace(0, sec, framerate * sec) # <- setup time values\n    data = np.sin(2 * np.pi * f1 * t) + np.sin(2 * np.pi * f2 * t) # <- sine function formula\n    display(InvisibleAudio(data, rate=framerate, autoplay=True)) # play the generated sound\n    \n\nclass InvisibleAudio(Audio):\n    def _repr_html_(self):\n        audio = super()._repr_html_()\n        audio = audio.replace('<audio', f'<audio onended=\"this.parentNode.removeChild(this)\"')\n        return f'<div style=\"display:none\">{audio}</div>'\n",
    "id": "7631ce0e10354f1684d6d1465adb9855",
    "idx": 4,
    "time": "2021-02-02T06:35:19.658Z",
    "type": "execution"
   },
   {
    "code": "xs3 = np.linspace(0, 0.2, 1000)\n\nf1 = widgets.IntSlider(value = 1, min = 1, max = 600, step = 1, description = \"frequency 1\")\nf1.layout.width = '400px'\nf2 = widgets.IntSlider(value = 1, min = 1, max = 600, step = 1, description = \"frequency 2\")\nf2.layout.width = '400px'\n\n#xslider = widgets.FloatSlider(value = 0.05, min = 0.01, max = 1, step = 0.01, description = \"xrange\")\n#xslider.layout.width = '400px'\n\nbutton = widgets.Button(description='Play Sound')\nout3 = widgets.Output()\nfig3 = go.FigureWidget()\n\nfig3.add_trace(go.Scatter(x=xs3, y=np.sin(2*np.pi*1*xs3) + np.sin(2*np.pi*1*xs),\n                    mode='lines',\n                    name='sum'))\nfig3.add_trace(go.Scatter(x = xs3, y = np.sin(2*np.pi*80*xs3), mode = \"lines\", opacity = 0.2, name = \"frequency 1\"))\nfig3.add_trace(go.Scatter(x = xs3, y = np.sin(2*np.pi*80*xs3), mode = \"lines\", opacity = 0.2, name = \"frequency 2\"))\n\nfig3.layout = dict(yaxis=dict(range=[-2,2]), xaxis=dict(range=[0,0.2]),width = 900)\n\nfig3.update_layout(\n    title={\n        'text': r'$y = \\sin(2 \\pi f_1 t) + \\sin(2 \\pi f_2 t)$',\n        'y':0.85,\n        'x':0.5,\n        'xanchor': 'center',\n        'yanchor': 'top'})\n\nfig3.update_xaxes(\n        title_text = r\"$t$\",\n        title_standoff = 15,\n        ticks = 'outside',\n        ticklen = 10,\n        tickcolor='white')\n\nfig3.update_yaxes(\n        title_text = '',\n        title_standoff = 25,\n        ticks = 'outside',\n        ticklen = 10,\n        tickcolor = 'white')\n\nfig3.update_layout(showlegend=False)\n\ndef on_button_clicked(_):\n\n    play(f1.value, f2.value)\n    \n\ndef update_trace(freq1, freq2):\n    \n    fig3.data[0].y = np.sin(2*np.pi*freq1*xs3) + np.sin(2*np.pi*freq2*xs3)\n    fig3.data[1].y = np.sin(2*np.pi*freq1*xs3)\n    fig3.data[2].y = np.sin(2*np.pi*freq2*xs3)\n\n# linking button and function together using a button's method\nbutton.on_click(on_button_clicked)\n# displaying button and its output together\nwidgets.VBox([fig3,button,out3])\n\nvb = widgets.VBox((fig3, interactive(update_trace, freq1 = f1, freq2 = f2), button))\nvb.layout.align_items = 'center'\nvb",
    "id": "cdbd990c34fc462f8fa1156ea0ecb33b",
    "idx": 5,
    "time": "2021-02-02T06:35:19.661Z",
    "type": "execution"
   },
   {
    "id": "ca2fc2a63ae64bba8006de4f86524194",
    "time": "2021-02-02T06:35:19.714Z",
    "type": "completion"
   },
   {
    "id": "7cfc47b6166f4ce5bf1c1719792efb33",
    "time": "2021-02-02T06:35:20.439Z",
    "type": "completion"
   },
   {
    "id": "bbc828555236403a8c9b65042d63c7fb",
    "time": "2021-02-02T06:35:20.804Z",
    "type": "completion"
   },
   {
    "id": "7631ce0e10354f1684d6d1465adb9855",
    "time": "2021-02-02T06:35:20.805Z",
    "type": "completion"
   },
   {
    "id": "cdbd990c34fc462f8fa1156ea0ecb33b",
    "time": "2021-02-02T06:35:21.194Z",
    "type": "completion"
   },
   {
    "code": "import plotly.graph_objs as go\nfrom ipywidgets import interactive, HBox, VBox, widgets, interact\nimport numpy as np\n\nxs = np.linspace(0, 5, 1000)\n\ndef wave(f, phi, x):\n    return np.sin(2*np.pi*f*x + phi)\n\nfig = go.FigureWidget()\n\nfig.layout = dict(yaxis=dict(range=[-1,1]), xaxis=dict(range=[0,5]),width = 1000)\n\nfig.update_layout(\n    title={\n        'text': r'$y = \\sin(2 \\pi f x + \\phi)$',\n        'y':0.85,\n        'x':0.5,\n        'xanchor': 'center',\n        'yanchor': 'top'})\n\nfig.update_xaxes(\n        title_text = r\"$x$\",\n        title_standoff = 15,\n        ticks = 'outside',\n        ticklen = 10,\n        tickcolor='white')\n\nfig.update_yaxes(\n        title_text = '',\n        title_standoff = 25,\n        ticks = 'outside',\n        ticklen = 10,\n        tickcolor = 'white')\n\n\nline = fig.add_trace(go.Scatter(x=xs, y=wave(1, 0, xs),\n                    mode='lines',\n                    name='lines'))\n\nslider = widgets.FloatSlider(\n    value = 1,\n    min=0.1,\n    max=10,\n    step=0.1,\n    readout=True,\n    description=r'$f$')\nslider.layout.width = '400px'\n\nslider2 = widgets.FloatSlider(\n    value = 0,\n    min=-3.14,\n    max=3.14,\n    step=0.01,\n    readout=True,\n    description=r'$\\phi$')\nslider2.layout.width = '400px'\n\n\n# our function that will modify the xaxis range\ndef update_range(frequency, phi):\n    fig.data[0].y=wave(frequency, phi, xs)\n\n\n# display the FigureWidget and slider with center justification\nvb = VBox((fig, interactive(update_range, frequency = slider, phi = slider2)))\nvb.layout.align_items = 'center'\nvb",
    "id": "7cfc47b6166f4ce5bf1c1719792efb33",
    "idx": 1,
    "time": "2021-02-02T06:52:02.106Z",
    "type": "execution"
   },
   {
    "code": "xs2 = np.linspace(0, 5, 500)\n\ndef traveling_wave(k, omega, x, t):\n    return np.sin(k*x - omega*t/10.)\n\nfig2 = go.FigureWidget()\n\nfig2.layout = dict(yaxis=dict(range=[-1,1]), xaxis=dict(range=[0,5]),width = 1000)\n\nfig2.update_layout(\n    title={\n        'text': r'$y = \\sin(kx - \\omega t)$',\n        'y':0.85,\n        'x':0.5,\n        'xanchor': 'center',\n        'yanchor': 'top'})\n\nfig2.update_xaxes(\n        title_text = r\"$x$\",\n        title_standoff = 15,\n        ticks = 'outside',\n        ticklen = 10,\n        tickcolor='white')\n\nfig2.update_yaxes(\n        title_text = '',\n        title_standoff = 25,\n        ticks = 'outside',\n        ticklen = 10,\n        tickcolor = 'white')\n\n\nline2 = fig2.add_trace(go.Scatter(x=xs2, y=traveling_wave(1, 0, xs2, 0),\n                    mode='lines',\n                    name='lines'))\n\nbslider = widgets.FloatSlider(\n    value = 3.14,\n    min=0.1,\n    max=10,\n    step=0.02,\n    readout=True,\n    description=r'$k$')\nbslider.layout.width = '400px'\n\nbslider2 = widgets.FloatSlider(\n    value = 0,\n    min=-1,\n    max=1,\n    step=0.1,\n    readout=True,\n    description=r'$\\omega$')\nbslider2.layout.width = '400px'\n\nplay = widgets.Play(\n    interval = 5,\n    value = 0,\n    min=0,\n    max=500,\n    step=1\n)\n\ndef update2(k, omega, time):\n    fig2.data[0].y=traveling_wave(k, omega, xs2, time)\n\nvb2 = VBox((fig2, interactive(update2, k = bslider, omega = bslider2, time = play)))\nvb2",
    "id": "bbc828555236403a8c9b65042d63c7fb",
    "idx": 2,
    "time": "2021-02-02T06:52:02.108Z",
    "type": "execution"
   },
   {
    "code": "from IPython.display import Audio,display, clear_output\n\ndef play(f1, f2, sec=2):\n    framerate = 44100 # <- rate of sampling\n    t = np.linspace(0, sec, framerate * sec) # <- setup time values\n    data = np.sin(2 * np.pi * f1 * t) + np.sin(2 * np.pi * f2 * t) # <- sine function formula\n    display(InvisibleAudio(data, rate=framerate, autoplay=True)) # play the generated sound\n    \n\nclass InvisibleAudio(Audio):\n    def _repr_html_(self):\n        audio = super()._repr_html_()\n        audio = audio.replace('<audio', f'<audio onended=\"this.parentNode.removeChild(this)\"')\n        return f'<div style=\"display:none\">{audio}</div>'\n",
    "id": "7631ce0e10354f1684d6d1465adb9855",
    "idx": 3,
    "time": "2021-02-02T06:52:02.109Z",
    "type": "execution"
   },
   {
    "code": "xs3 = np.linspace(0, 0.2, 1000)\n\nf1 = widgets.IntSlider(value = 1, min = 1, max = 600, step = 1, description = \"frequency 1\")\nf1.layout.width = '400px'\nf2 = widgets.IntSlider(value = 1, min = 1, max = 600, step = 1, description = \"frequency 2\")\nf2.layout.width = '400px'\n\n#xslider = widgets.FloatSlider(value = 0.05, min = 0.01, max = 1, step = 0.01, description = \"xrange\")\n#xslider.layout.width = '400px'\n\nbutton = widgets.Button(description='Play Sound')\nout3 = widgets.Output()\nfig3 = go.FigureWidget()\n\nfig3.add_trace(go.Scatter(x=xs3, y=np.sin(2*np.pi*1*xs3) + np.sin(2*np.pi*1*xs),\n                    mode='lines',\n                    name='sum'))\nfig3.add_trace(go.Scatter(x = xs3, y = np.sin(2*np.pi*80*xs3), mode = \"lines\", opacity = 0.2, name = \"frequency 1\"))\nfig3.add_trace(go.Scatter(x = xs3, y = np.sin(2*np.pi*80*xs3), mode = \"lines\", opacity = 0.2, name = \"frequency 2\"))\n\nfig3.layout = dict(yaxis=dict(range=[-2,2]), xaxis=dict(range=[0,0.2]),width = 900)\n\nfig3.update_layout(\n    title={\n        'text': r'$y = \\sin(2 \\pi f_1 t) + \\sin(2 \\pi f_2 t)$',\n        'y':0.85,\n        'x':0.5,\n        'xanchor': 'center',\n        'yanchor': 'top'})\n\nfig3.update_xaxes(\n        title_text = r\"$t$\",\n        title_standoff = 15,\n        ticks = 'outside',\n        ticklen = 10,\n        tickcolor='white')\n\nfig3.update_yaxes(\n        title_text = '',\n        title_standoff = 25,\n        ticks = 'outside',\n        ticklen = 10,\n        tickcolor = 'white')\n\nfig3.update_layout(showlegend=False)\n\ndef on_button_clicked(_):\n\n    play(f1.value, f2.value)\n    \n\ndef update_trace(freq1, freq2):\n    \n    fig3.data[0].y = np.sin(2*np.pi*freq1*xs3) + np.sin(2*np.pi*freq2*xs3)\n    fig3.data[1].y = np.sin(2*np.pi*freq1*xs3)\n    fig3.data[2].y = np.sin(2*np.pi*freq2*xs3)\n\n# linking button and function together using a button's method\nbutton.on_click(on_button_clicked)\n# displaying button and its output together\nwidgets.VBox([fig3,button,out3])\n\nvb = widgets.VBox((fig3, interactive(update_trace, freq1 = f1, freq2 = f2), button))\nvb.layout.align_items = 'center'\nvb",
    "id": "cdbd990c34fc462f8fa1156ea0ecb33b",
    "idx": 4,
    "time": "2021-02-02T06:52:02.109Z",
    "type": "execution"
   },
   {
    "id": "7cfc47b6166f4ce5bf1c1719792efb33",
    "time": "2021-02-02T06:52:02.774Z",
    "type": "completion"
   },
   {
    "id": "bbc828555236403a8c9b65042d63c7fb",
    "time": "2021-02-02T06:52:03.038Z",
    "type": "completion"
   },
   {
    "id": "7631ce0e10354f1684d6d1465adb9855",
    "time": "2021-02-02T06:52:03.039Z",
    "type": "completion"
   },
   {
    "id": "cdbd990c34fc462f8fa1156ea0ecb33b",
    "time": "2021-02-02T06:52:03.356Z",
    "type": "completion"
   },
   {
    "code": "from IPython.display import Audio,display, clear_output\n\ndef play(f1, f2, sec=2):\n    framerate = 44100 # <- rate of sampling\n    t = np.linspace(0, sec, framerate * sec) # <- setup time values\n    data = np.sin(2 * np.pi * f1 * t) + np.sin(2 * np.pi * f2 * t) # <- sine function formula\n    display(Audio(data, rate=framerate, autoplay=True)) # play the generated sound\n    \n\nclass InvisibleAudio(Audio):\n    def _repr_html_(self):\n        audio = super()._repr_html_()\n        audio = audio.replace('<audio', f'<audio onended=\"this.parentNode.removeChild(this)\"')\n        return f'<div style=\"display:none\">{audio}</div>'\n",
    "id": "7631ce0e10354f1684d6d1465adb9855",
    "idx": 3,
    "time": "2021-02-02T06:53:24.601Z",
    "type": "execution"
   },
   {
    "id": "7631ce0e10354f1684d6d1465adb9855",
    "time": "2021-02-02T06:53:24.679Z",
    "type": "completion"
   },
   {
    "code": "xs3 = np.linspace(0, 0.2, 1000)\n\ndef create_fig():\n    button = widgets.Button(description='Play Sound')\n    f1 = widgets.IntSlider(value = 1, min = 1, max = 600, step = 1, description = \"frequency 1\")\n    f1.layout.width = '400px'\n    f2 = widgets.IntSlider(value = 1, min = 1, max = 600, step = 1, description = \"frequency 2\")\n    f2.layout.width = '400px'\n    \n    fig3 = go.FigureWidget()\n    fig3.add_trace(go.Scatter(x=xs3, y=np.sin(2*np.pi*1*xs3) + np.sin(2*np.pi*1*xs),\n                        mode='lines',\n                        name='sum'))\n    fig3.add_trace(go.Scatter(x = xs3, y = np.sin(2*np.pi*80*xs3), mode = \"lines\", opacity = 0.2, name = \"frequency 1\"))\n    fig3.add_trace(go.Scatter(x = xs3, y = np.sin(2*np.pi*80*xs3), mode = \"lines\", opacity = 0.2, name = \"frequency 2\"))\n\n    fig3.layout = dict(yaxis=dict(range=[-2,2]), xaxis=dict(range=[0,0.2]),width = 900)\n\n    fig3.update_layout(\n        title={\n            'text': r'$y = \\sin(2 \\pi f_1 t) + \\sin(2 \\pi f_2 t)$',\n            'y':0.85,\n            'x':0.5,\n            'xanchor': 'center',\n            'yanchor': 'top'})\n\n    fig3.update_xaxes(\n            title_text = r\"$t$\",\n            title_standoff = 15,\n            ticks = 'outside',\n            ticklen = 10,\n            tickcolor='white')\n\n    fig3.update_yaxes(\n            title_text = '',\n            title_standoff = 25,\n            ticks = 'outside',\n            ticklen = 10,\n            tickcolor = 'white')\n\n    fig3.update_layout(showlegend=False)\n    \n    # linking button and function together using a button's method\n    button.on_click(on_button_clicked)\n    # displaying button and its output together\n    widgets.VBox([fig3,button,out3])\n\n    vb = widgets.VBox((fig3, interactive(update_trace, freq1 = f1, freq2 = f2), button))\n    vb.layout.align_items = 'center'\n    vb\n\ndef on_button_clicked(_):\n    play(f1.value, f2.value)\n    clear_output(wait=True)\n    create_fig()\n    \n\ndef update_trace(freq1, freq2):  \n    fig3.data[0].y = np.sin(2*np.pi*freq1*xs3) + np.sin(2*np.pi*freq2*xs3)\n    fig3.data[1].y = np.sin(2*np.pi*freq1*xs3)\n    fig3.data[2].y = np.sin(2*np.pi*freq2*xs3)\n\ncreate_fig()",
    "id": "cdbd990c34fc462f8fa1156ea0ecb33b",
    "idx": 4,
    "time": "2021-02-02T06:56:42.991Z",
    "type": "execution"
   },
   {
    "id": "cdbd990c34fc462f8fa1156ea0ecb33b",
    "time": "2021-02-02T06:56:43.281Z",
    "type": "completion"
   },
   {
    "code": "from IPython.display import Audio,display, clear_output\n\ndef play(f1, f2, sec=2):\n    framerate = 44100 # <- rate of sampling\n    t = np.linspace(0, sec, framerate * sec) # <- setup time values\n    data = np.sin(2 * np.pi * f1 * t) + np.sin(2 * np.pi * f2 * t) # <- sine function formula\n    display(Audio(data, rate=framerate, autoplay=True)) # play the generated sound\n    \n\nclass InvisibleAudio(Audio):\n    def _repr_html_(self):\n        audio = super()._repr_html_()\n        audio = audio.replace('<audio', f'<audio onended=\"this.parentNode.removeChild(this)\"')\n        return f'<div style=\"display:none\">{audio}</div>'\n",
    "id": "7631ce0e10354f1684d6d1465adb9855",
    "idx": 3,
    "time": "2021-02-02T06:56:48.894Z",
    "type": "execution"
   },
   {
    "id": "7631ce0e10354f1684d6d1465adb9855",
    "time": "2021-02-02T06:56:48.960Z",
    "type": "completion"
   },
   {
    "code": "xs3 = np.linspace(0, 0.2, 1000)\n\ndef create_fig():\n    button = widgets.Button(description='Play Sound')\n    f1 = widgets.IntSlider(value = 1, min = 1, max = 600, step = 1, description = \"frequency 1\")\n    f1.layout.width = '400px'\n    f2 = widgets.IntSlider(value = 1, min = 1, max = 600, step = 1, description = \"frequency 2\")\n    f2.layout.width = '400px'\n    \n    fig3 = go.FigureWidget()\n    fig3.add_trace(go.Scatter(x=xs3, y=np.sin(2*np.pi*1*xs3) + np.sin(2*np.pi*1*xs),\n                        mode='lines',\n                        name='sum'))\n    fig3.add_trace(go.Scatter(x = xs3, y = np.sin(2*np.pi*80*xs3), mode = \"lines\", opacity = 0.2, name = \"frequency 1\"))\n    fig3.add_trace(go.Scatter(x = xs3, y = np.sin(2*np.pi*80*xs3), mode = \"lines\", opacity = 0.2, name = \"frequency 2\"))\n\n    fig3.layout = dict(yaxis=dict(range=[-2,2]), xaxis=dict(range=[0,0.2]),width = 900)\n\n    fig3.update_layout(\n        title={\n            'text': r'$y = \\sin(2 \\pi f_1 t) + \\sin(2 \\pi f_2 t)$',\n            'y':0.85,\n            'x':0.5,\n            'xanchor': 'center',\n            'yanchor': 'top'})\n\n    fig3.update_xaxes(\n            title_text = r\"$t$\",\n            title_standoff = 15,\n            ticks = 'outside',\n            ticklen = 10,\n            tickcolor='white')\n\n    fig3.update_yaxes(\n            title_text = '',\n            title_standoff = 25,\n            ticks = 'outside',\n            ticklen = 10,\n            tickcolor = 'white')\n\n    fig3.update_layout(showlegend=False)\n    \n    # linking button and function together using a button's method\n    button.on_click(on_button_clicked)\n    # displaying button and its output together\n    widgets.VBox([fig3,button,out3])\n\n    vb = widgets.VBox((fig3, interactive(update_trace, freq1 = f1, freq2 = f2), button))\n    vb.layout.align_items = 'center'\n    vb\n\ndef on_button_clicked(_):\n    play(f1.value, f2.value)\n    clear_output(wait=True)\n    create_fig()\n    \n\ndef update_trace(freq1, freq2):  \n    fig3.data[0].y = np.sin(2*np.pi*freq1*xs3) + np.sin(2*np.pi*freq2*xs3)\n    fig3.data[1].y = np.sin(2*np.pi*freq1*xs3)\n    fig3.data[2].y = np.sin(2*np.pi*freq2*xs3)\n\ncreate_fig()",
    "id": "cdbd990c34fc462f8fa1156ea0ecb33b",
    "idx": 4,
    "time": "2021-02-02T06:56:49.631Z",
    "type": "execution"
   },
   {
    "id": "cdbd990c34fc462f8fa1156ea0ecb33b",
    "time": "2021-02-02T06:56:49.929Z",
    "type": "completion"
   },
   {
    "code": "from IPython.display import Audio,display, clear_output\n\ndef play(f1, f2, sec=2):\n    framerate = 44100 # <- rate of sampling\n    t = np.linspace(0, sec, framerate * sec) # <- setup time values\n    data = np.sin(2 * np.pi * f1 * t) + np.sin(2 * np.pi * f2 * t) # <- sine function formula\n    display(Audio(data, rate=framerate, autoplay=True)) # play the generated sound\n    \n\nclass InvisibleAudio(Audio):\n    def _repr_html_(self):\n        audio = super()._repr_html_()\n        audio = audio.replace('<audio', f'<audio onended=\"this.parentNode.removeChild(this)\"')\n        return f'<div style=\"display:none\">{audio}</div>'\n",
    "id": "7631ce0e10354f1684d6d1465adb9855",
    "idx": 3,
    "time": "2021-02-02T06:57:02.756Z",
    "type": "execution"
   },
   {
    "id": "7631ce0e10354f1684d6d1465adb9855",
    "time": "2021-02-02T06:57:02.819Z",
    "type": "completion"
   },
   {
    "code": "xs3 = np.linspace(0, 0.2, 1000)\n\ndef create_fig():\n    button = widgets.Button(description='Play Sound')\n    f1 = widgets.IntSlider(value = 1, min = 1, max = 600, step = 1, description = \"frequency 1\")\n    f1.layout.width = '400px'\n    f2 = widgets.IntSlider(value = 1, min = 1, max = 600, step = 1, description = \"frequency 2\")\n    f2.layout.width = '400px'\n    \n    fig3 = go.FigureWidget()\n    fig3.add_trace(go.Scatter(x=xs3, y=np.sin(2*np.pi*1*xs3) + np.sin(2*np.pi*1*xs),\n                        mode='lines',\n                        name='sum'))\n    fig3.add_trace(go.Scatter(x = xs3, y = np.sin(2*np.pi*80*xs3), mode = \"lines\", opacity = 0.2, name = \"frequency 1\"))\n    fig3.add_trace(go.Scatter(x = xs3, y = np.sin(2*np.pi*80*xs3), mode = \"lines\", opacity = 0.2, name = \"frequency 2\"))\n\n    fig3.layout = dict(yaxis=dict(range=[-2,2]), xaxis=dict(range=[0,0.2]),width = 900)\n\n    fig3.update_layout(\n        title={\n            'text': r'$y = \\sin(2 \\pi f_1 t) + \\sin(2 \\pi f_2 t)$',\n            'y':0.85,\n            'x':0.5,\n            'xanchor': 'center',\n            'yanchor': 'top'})\n\n    fig3.update_xaxes(\n            title_text = r\"$t$\",\n            title_standoff = 15,\n            ticks = 'outside',\n            ticklen = 10,\n            tickcolor='white')\n\n    fig3.update_yaxes(\n            title_text = '',\n            title_standoff = 25,\n            ticks = 'outside',\n            ticklen = 10,\n            tickcolor = 'white')\n\n    fig3.update_layout(showlegend=False)\n    \n    # linking button and function together using a button's method\n    button.on_click(on_button_clicked)\n    # displaying button and its output together\n    widgets.VBox([fig3,button,out3])\n\n    vb = widgets.VBox((fig3, interactive(update_trace, freq1 = f1, freq2 = f2), button))\n    vb.layout.align_items = 'center'\n    vb\n\ndef on_button_clicked(_):\n    play(f1.value, f2.value)\n    clear_output(wait=True)\n    create_fig()\n    \n\ndef update_trace(freq1, freq2):  \n    fig3.data[0].y = np.sin(2*np.pi*freq1*xs3) + np.sin(2*np.pi*freq2*xs3)\n    fig3.data[1].y = np.sin(2*np.pi*freq1*xs3)\n    fig3.data[2].y = np.sin(2*np.pi*freq2*xs3)\n\ncreate_fig()",
    "id": "cdbd990c34fc462f8fa1156ea0ecb33b",
    "idx": 4,
    "time": "2021-02-02T06:57:03.105Z",
    "type": "execution"
   },
   {
    "id": "cdbd990c34fc462f8fa1156ea0ecb33b",
    "time": "2021-02-02T06:57:03.412Z",
    "type": "completion"
   },
   {
    "code": "xs3 = np.linspace(0, 0.2, 1000)\n\ndef create_fig():\n    button = widgets.Button(description='Play Sound')\n    f1 = widgets.IntSlider(value = 1, min = 1, max = 600, step = 1, description = \"frequency 1\")\n    f1.layout.width = '400px'\n    f2 = widgets.IntSlider(value = 1, min = 1, max = 600, step = 1, description = \"frequency 2\")\n    f2.layout.width = '400px'\n    \n    fig3 = go.FigureWidget()\n    fig3.add_trace(go.Scatter(x=xs3, y=np.sin(2*np.pi*1*xs3) + np.sin(2*np.pi*1*xs),\n                        mode='lines',\n                        name='sum'))\n    fig3.add_trace(go.Scatter(x = xs3, y = np.sin(2*np.pi*80*xs3), mode = \"lines\", opacity = 0.2, name = \"frequency 1\"))\n    fig3.add_trace(go.Scatter(x = xs3, y = np.sin(2*np.pi*80*xs3), mode = \"lines\", opacity = 0.2, name = \"frequency 2\"))\n\n    fig3.layout = dict(yaxis=dict(range=[-2,2]), xaxis=dict(range=[0,0.2]),width = 900)\n\n    fig3.update_layout(\n        title={\n            'text': r'$y = \\sin(2 \\pi f_1 t) + \\sin(2 \\pi f_2 t)$',\n            'y':0.85,\n            'x':0.5,\n            'xanchor': 'center',\n            'yanchor': 'top'})\n\n    fig3.update_xaxes(\n            title_text = r\"$t$\",\n            title_standoff = 15,\n            ticks = 'outside',\n            ticklen = 10,\n            tickcolor='white')\n\n    fig3.update_yaxes(\n            title_text = '',\n            title_standoff = 25,\n            ticks = 'outside',\n            ticklen = 10,\n            tickcolor = 'white')\n\n    fig3.update_layout(showlegend=False)\n    \n    # linking button and function together using a button's method\n    button.on_click(on_button_clicked)\n    # displaying button and its output together\n    widgets.VBox([fig3,button,out3])\n\n    vb = widgets.VBox((fig3, interactive(update_trace, freq1 = f1, freq2 = f2), button))\n    vb.layout.align_items = 'center'\n    return vb\n\ndef on_button_clicked(_):\n    play(f1.value, f2.value)\n    clear_output(wait=True)\n    create_fig()\n    \n\ndef update_trace(freq1, freq2):  \n    fig3.data[0].y = np.sin(2*np.pi*freq1*xs3) + np.sin(2*np.pi*freq2*xs3)\n    fig3.data[1].y = np.sin(2*np.pi*freq1*xs3)\n    fig3.data[2].y = np.sin(2*np.pi*freq2*xs3)\n\ncreate_fig()",
    "id": "cdbd990c34fc462f8fa1156ea0ecb33b",
    "idx": 4,
    "time": "2021-02-02T06:57:16.325Z",
    "type": "execution"
   },
   {
    "id": "cdbd990c34fc462f8fa1156ea0ecb33b",
    "time": "2021-02-02T06:57:16.909Z",
    "type": "completion"
   },
   {
    "code": "xs3 = np.linspace(0, 0.2, 1000)\n\ndef create_fig():\n    button = widgets.Button(description='Play Sound')\n    f1 = widgets.IntSlider(value = 1, min = 1, max = 600, step = 1, description = \"frequency 1\")\n    f1.layout.width = '400px'\n    f2 = widgets.IntSlider(value = 1, min = 1, max = 600, step = 1, description = \"frequency 2\")\n    f2.layout.width = '400px'\n    \n    fig3 = go.FigureWidget()\n    fig3.add_trace(go.Scatter(x=xs3, y=np.sin(2*np.pi*1*xs3) + np.sin(2*np.pi*1*xs),\n                        mode='lines',\n                        name='sum'))\n    fig3.add_trace(go.Scatter(x = xs3, y = np.sin(2*np.pi*80*xs3), mode = \"lines\", opacity = 0.2, name = \"frequency 1\"))\n    fig3.add_trace(go.Scatter(x = xs3, y = np.sin(2*np.pi*80*xs3), mode = \"lines\", opacity = 0.2, name = \"frequency 2\"))\n\n    fig3.layout = dict(yaxis=dict(range=[-2,2]), xaxis=dict(range=[0,0.2]),width = 900)\n\n    fig3.update_layout(\n        title={\n            'text': r'$y = \\sin(2 \\pi f_1 t) + \\sin(2 \\pi f_2 t)$',\n            'y':0.85,\n            'x':0.5,\n            'xanchor': 'center',\n            'yanchor': 'top'})\n\n    fig3.update_xaxes(\n            title_text = r\"$t$\",\n            title_standoff = 15,\n            ticks = 'outside',\n            ticklen = 10,\n            tickcolor='white')\n\n    fig3.update_yaxes(\n            title_text = '',\n            title_standoff = 25,\n            ticks = 'outside',\n            ticklen = 10,\n            tickcolor = 'white')\n\n    fig3.update_layout(showlegend=False)\n    \n    # linking button and function together using a button's method\n    button.on_click(on_button_clicked)\n    # displaying button and its output together\n    widgets.VBox([fig3,button,out3])\n\n    vb = widgets.VBox((fig3, interactive(update_trace, freq1 = f1, freq2 = f2), button))\n    vb.layout.align_items = 'center'\n    return vb\n\ndef on_button_clicked(_):\n    play(f1.value, f2.value)\n    clear_output(wait=True)\n    create_fig()\n    \n\ndef update_trace(freq1, freq2):  \n    fig3.data[0].y = np.sin(2*np.pi*freq1*xs3) + np.sin(2*np.pi*freq2*xs3)\n    fig3.data[1].y = np.sin(2*np.pi*freq1*xs3)\n    fig3.data[2].y = np.sin(2*np.pi*freq2*xs3)\n\ncreate_fig()",
    "id": "cdbd990c34fc462f8fa1156ea0ecb33b",
    "idx": 4,
    "time": "2021-02-02T06:58:23.456Z",
    "type": "execution"
   },
   {
    "id": "cdbd990c34fc462f8fa1156ea0ecb33b",
    "time": "2021-02-02T06:58:23.914Z",
    "type": "completion"
   },
   {
    "code": "xs3 = np.linspace(0, 0.2, 1000)\n\ndef create_fig():\n    button = widgets.Button(description='Play Sound')\n    f1 = widgets.IntSlider(value = 1, min = 1, max = 600, step = 1, description = \"frequency 1\")\n    f1.layout.width = '400px'\n    f2 = widgets.IntSlider(value = 1, min = 1, max = 600, step = 1, description = \"frequency 2\")\n    f2.layout.width = '400px'\n    \n    fig3 = go.FigureWidget()\n    fig3.add_trace(go.Scatter(x=xs3, y=np.sin(2*np.pi*1*xs3) + np.sin(2*np.pi*1*xs),\n                        mode='lines',\n                        name='sum'))\n    fig3.add_trace(go.Scatter(x = xs3, y = np.sin(2*np.pi*80*xs3), mode = \"lines\", opacity = 0.2, name = \"frequency 1\"))\n    fig3.add_trace(go.Scatter(x = xs3, y = np.sin(2*np.pi*80*xs3), mode = \"lines\", opacity = 0.2, name = \"frequency 2\"))\n\n    fig3.layout = dict(yaxis=dict(range=[-2,2]), xaxis=dict(range=[0,0.2]),width = 900)\n\n    fig3.update_layout(\n        title={\n            'text': r'$y = \\sin(2 \\pi f_1 t) + \\sin(2 \\pi f_2 t)$',\n            'y':0.85,\n            'x':0.5,\n            'xanchor': 'center',\n            'yanchor': 'top'})\n\n    fig3.update_xaxes(\n            title_text = r\"$t$\",\n            title_standoff = 15,\n            ticks = 'outside',\n            ticklen = 10,\n            tickcolor='white')\n\n    fig3.update_yaxes(\n            title_text = '',\n            title_standoff = 25,\n            ticks = 'outside',\n            ticklen = 10,\n            tickcolor = 'white')\n\n    fig3.update_layout(showlegend=False)\n    \n    # linking button and function together using a button's method\n    button.on_click(on_button_clicked)\n    # displaying button and its output together\n    widgets.VBox([fig3,button,out3])\n\n    vb = widgets.VBox((fig3, interactive(update_trace, freq1 = f1, freq2 = f2), button))\n    vb.layout.align_items = 'center'\n    return vb\n\ndef on_button_clicked(_):\n    play(f1.value, f2.value)\n    clear_output(wait=True)\n    create_fig()\n    \n\ndef update_trace(freq1, freq2):  \n    fig3.data[0].y = np.sin(2*np.pi*freq1*xs3) + np.sin(2*np.pi*freq2*xs3)\n    fig3.data[1].y = np.sin(2*np.pi*freq1*xs3)\n    fig3.data[2].y = np.sin(2*np.pi*freq2*xs3)\n\nvb = create_fig()",
    "id": "cdbd990c34fc462f8fa1156ea0ecb33b",
    "idx": 4,
    "time": "2021-02-02T06:58:35.456Z",
    "type": "execution"
   },
   {
    "id": "cdbd990c34fc462f8fa1156ea0ecb33b",
    "time": "2021-02-02T06:58:35.763Z",
    "type": "completion"
   },
   {
    "code": "xs3 = np.linspace(0, 0.2, 1000)\n\ndef create_fig():\n    button = widgets.Button(description='Play Sound')\n    f1 = widgets.IntSlider(value = 1, min = 1, max = 600, step = 1, description = \"frequency 1\")\n    f1.layout.width = '400px'\n    f2 = widgets.IntSlider(value = 1, min = 1, max = 600, step = 1, description = \"frequency 2\")\n    f2.layout.width = '400px'\n    \n    fig3 = go.FigureWidget()\n    fig3.add_trace(go.Scatter(x=xs3, y=np.sin(2*np.pi*1*xs3) + np.sin(2*np.pi*1*xs),\n                        mode='lines',\n                        name='sum'))\n    fig3.add_trace(go.Scatter(x = xs3, y = np.sin(2*np.pi*80*xs3), mode = \"lines\", opacity = 0.2, name = \"frequency 1\"))\n    fig3.add_trace(go.Scatter(x = xs3, y = np.sin(2*np.pi*80*xs3), mode = \"lines\", opacity = 0.2, name = \"frequency 2\"))\n\n    fig3.layout = dict(yaxis=dict(range=[-2,2]), xaxis=dict(range=[0,0.2]),width = 900)\n\n    fig3.update_layout(\n        title={\n            'text': r'$y = \\sin(2 \\pi f_1 t) + \\sin(2 \\pi f_2 t)$',\n            'y':0.85,\n            'x':0.5,\n            'xanchor': 'center',\n            'yanchor': 'top'})\n\n    fig3.update_xaxes(\n            title_text = r\"$t$\",\n            title_standoff = 15,\n            ticks = 'outside',\n            ticklen = 10,\n            tickcolor='white')\n\n    fig3.update_yaxes(\n            title_text = '',\n            title_standoff = 25,\n            ticks = 'outside',\n            ticklen = 10,\n            tickcolor = 'white')\n\n    fig3.update_layout(showlegend=False)\n    \n    # linking button and function together using a button's method\n    button.on_click(on_button_clicked)\n    # displaying button and its output together\n    widgets.VBox([fig3,button,out3])\n\n    vb = widgets.VBox((fig3, interactive(update_trace, freq1 = f1, freq2 = f2), button))\n    vb.layout.align_items = 'center'\n    return vb\n\ndef on_button_clicked(_):\n    play(f1.value, f2.value)\n    clear_output(wait=True)\n    create_fig()\n    \n\ndef update_trace(freq1, freq2):  \n    fig3.data[0].y = np.sin(2*np.pi*freq1*xs3) + np.sin(2*np.pi*freq2*xs3)\n    fig3.data[1].y = np.sin(2*np.pi*freq1*xs3)\n    fig3.data[2].y = np.sin(2*np.pi*freq2*xs3)\n\nvb = create_fig()\nvb",
    "id": "cdbd990c34fc462f8fa1156ea0ecb33b",
    "idx": 4,
    "time": "2021-02-02T06:58:39.265Z",
    "type": "execution"
   },
   {
    "id": "cdbd990c34fc462f8fa1156ea0ecb33b",
    "time": "2021-02-02T06:58:39.823Z",
    "type": "completion"
   },
   {
    "code": "xs3 = np.linspace(0, 0.2, 1000)\n\ndef update_trace(freq1, freq2):  \n    fig3.data[0].y = np.sin(2*np.pi*freq1*xs3) + np.sin(2*np.pi*freq2*xs3)\n    fig3.data[1].y = np.sin(2*np.pi*freq1*xs3)\n    fig3.data[2].y = np.sin(2*np.pi*freq2*xs3)\n    \ndef on_button_clicked(_):\n    play(f1.value, f2.value)\n    clear_output(wait=True)\n    create_fig()\n\ndef create_fig():\n    button = widgets.Button(description='Play Sound')\n    f1 = widgets.IntSlider(value = 1, min = 1, max = 600, step = 1, description = \"frequency 1\")\n    f1.layout.width = '400px'\n    f2 = widgets.IntSlider(value = 1, min = 1, max = 600, step = 1, description = \"frequency 2\")\n    f2.layout.width = '400px'\n    \n    fig3 = go.FigureWidget()\n    fig3.add_trace(go.Scatter(x=xs3, y=np.sin(2*np.pi*1*xs3) + np.sin(2*np.pi*1*xs),\n                        mode='lines',\n                        name='sum'))\n    fig3.add_trace(go.Scatter(x = xs3, y = np.sin(2*np.pi*80*xs3), mode = \"lines\", opacity = 0.2, name = \"frequency 1\"))\n    fig3.add_trace(go.Scatter(x = xs3, y = np.sin(2*np.pi*80*xs3), mode = \"lines\", opacity = 0.2, name = \"frequency 2\"))\n\n    fig3.layout = dict(yaxis=dict(range=[-2,2]), xaxis=dict(range=[0,0.2]),width = 900)\n\n    fig3.update_layout(\n        title={\n            'text': r'$y = \\sin(2 \\pi f_1 t) + \\sin(2 \\pi f_2 t)$',\n            'y':0.85,\n            'x':0.5,\n            'xanchor': 'center',\n            'yanchor': 'top'})\n\n    fig3.update_xaxes(\n            title_text = r\"$t$\",\n            title_standoff = 15,\n            ticks = 'outside',\n            ticklen = 10,\n            tickcolor='white')\n\n    fig3.update_yaxes(\n            title_text = '',\n            title_standoff = 25,\n            ticks = 'outside',\n            ticklen = 10,\n            tickcolor = 'white')\n\n    fig3.update_layout(showlegend=False)\n    \n    # linking button and function together using a button's method\n    button.on_click(on_button_clicked)\n    # displaying button and its output together\n    widgets.VBox([fig3,button,out3])\n\n    vb = widgets.VBox((fig3, interactive(update_trace, freq1 = f1, freq2 = f2), button))\n    vb.layout.align_items = 'center'\n    return vb\n\n\n    \n\n\n\nvb = create_fig()\nvb",
    "id": "cdbd990c34fc462f8fa1156ea0ecb33b",
    "idx": 4,
    "time": "2021-02-02T06:59:50.562Z",
    "type": "execution"
   },
   {
    "id": "cdbd990c34fc462f8fa1156ea0ecb33b",
    "time": "2021-02-02T06:59:51.075Z",
    "type": "completion"
   },
   {
    "code": "xs3 = np.linspace(0, 0.2, 1000)\n\ndef update_trace(freq1, freq2):  \n    fig3.data[0].y = np.sin(2*np.pi*freq1*xs3) + np.sin(2*np.pi*freq2*xs3)\n    fig3.data[1].y = np.sin(2*np.pi*freq1*xs3)\n    fig3.data[2].y = np.sin(2*np.pi*freq2*xs3)\n    \ndef on_button_clicked(_):\n    play(f1.value, f2.value)\n    clear_output(wait=True)\n    create_fig()\n\ndef create_fig():\n    button = widgets.Button(description='Play Sound')\n    f1 = widgets.IntSlider(value = 1, min = 1, max = 600, step = 1, description = \"frequency 1\")\n    f1.layout.width = '400px'\n    f2 = widgets.IntSlider(value = 1, min = 1, max = 600, step = 1, description = \"frequency 2\")\n    f2.layout.width = '400px'\n    \n    fig3 = go.FigureWidget()\n    fig3.add_trace(go.Scatter(x=xs3, y=np.sin(2*np.pi*1*xs3) + np.sin(2*np.pi*1*xs),\n                        mode='lines',\n                        name='sum'))\n    fig3.add_trace(go.Scatter(x = xs3, y = np.sin(2*np.pi*80*xs3), mode = \"lines\", opacity = 0.2, name = \"frequency 1\"))\n    fig3.add_trace(go.Scatter(x = xs3, y = np.sin(2*np.pi*80*xs3), mode = \"lines\", opacity = 0.2, name = \"frequency 2\"))\n\n    fig3.layout = dict(yaxis=dict(range=[-2,2]), xaxis=dict(range=[0,0.2]),width = 900)\n\n    fig3.update_layout(\n        title={\n            'text': r'$y = \\sin(2 \\pi f_1 t) + \\sin(2 \\pi f_2 t)$',\n            'y':0.85,\n            'x':0.5,\n            'xanchor': 'center',\n            'yanchor': 'top'})\n\n    fig3.update_xaxes(\n            title_text = r\"$t$\",\n            title_standoff = 15,\n            ticks = 'outside',\n            ticklen = 10,\n            tickcolor='white')\n\n    fig3.update_yaxes(\n            title_text = '',\n            title_standoff = 25,\n            ticks = 'outside',\n            ticklen = 10,\n            tickcolor = 'white')\n\n    fig3.update_layout(showlegend=False)\n    \n    # linking button and function together using a button's method\n    button.on_click(on_button_clicked)\n    # displaying button and its output together\n    widgets.VBox([fig3,button,out3])\n\n    vb = widgets.VBox((fig3, interactive(update_trace, freq1 = f1, freq2 = f2), button))\n    vb.layout.align_items = 'center'\n    return vb\ncreate_fig()",
    "id": "cdbd990c34fc462f8fa1156ea0ecb33b",
    "idx": 4,
    "time": "2021-02-02T07:00:03.452Z",
    "type": "execution"
   },
   {
    "id": "cdbd990c34fc462f8fa1156ea0ecb33b",
    "time": "2021-02-02T07:00:03.905Z",
    "type": "completion"
   },
   {
    "code": "xs3 = np.linspace(0, 0.2, 1000)\n\nf1 = widgets.IntSlider(value = 1, min = 1, max = 600, step = 1, description = \"frequency 1\")\nf1.layout.width = '400px'\nf2 = widgets.IntSlider(value = 1, min = 1, max = 600, step = 1, description = \"frequency 2\")\nf2.layout.width = '400px'\n\n#xslider = widgets.FloatSlider(value = 0.05, min = 0.01, max = 1, step = 0.01, description = \"xrange\")\n#xslider.layout.width = '400px'\n\nbutton = widgets.Button(description='Play Sound')\nout3 = widgets.Output()\nfig3 = go.FigureWidget()\n\nfig3.add_trace(go.Scatter(x=xs3, y=np.sin(2*np.pi*1*xs3) + np.sin(2*np.pi*1*xs),\n                    mode='lines',\n                    name='sum'))\nfig3.add_trace(go.Scatter(x = xs3, y = np.sin(2*np.pi*80*xs3), mode = \"lines\", opacity = 0.2, name = \"frequency 1\"))\nfig3.add_trace(go.Scatter(x = xs3, y = np.sin(2*np.pi*80*xs3), mode = \"lines\", opacity = 0.2, name = \"frequency 2\"))\n\nfig3.layout = dict(yaxis=dict(range=[-2,2]), xaxis=dict(range=[0,0.2]),width = 900)\n\nfig3.update_layout(\n    title={\n        'text': r'$y = \\sin(2 \\pi f_1 t) + \\sin(2 \\pi f_2 t)$',\n        'y':0.85,\n        'x':0.5,\n        'xanchor': 'center',\n        'yanchor': 'top'})\n\nfig3.update_xaxes(\n        title_text = r\"$t$\",\n        title_standoff = 15,\n        ticks = 'outside',\n        ticklen = 10,\n        tickcolor='white')\n\nfig3.update_yaxes(\n        title_text = '',\n        title_standoff = 25,\n        ticks = 'outside',\n        ticklen = 10,\n        tickcolor = 'white')\n\nfig3.update_layout(showlegend=False)\n\ndef on_button_clicked(_):\n\n    play(f1.value, f2.value)\n    \n\ndef update_trace(freq1, freq2):\n    \n    fig3.data[0].y = np.sin(2*np.pi*freq1*xs3) + np.sin(2*np.pi*freq2*xs3)\n    fig3.data[1].y = np.sin(2*np.pi*freq1*xs3)\n    fig3.data[2].y = np.sin(2*np.pi*freq2*xs3)\n\n# linking button and function together using a button's method\nbutton.on_click(on_button_clicked)\n# displaying button and its output together\nwidgets.VBox([fig3,button,out3])\n\nvb = widgets.VBox((fig3, interactive(update_trace, freq1 = f1, freq2 = f2), button))\nvb.layout.align_items = 'center'\nvb",
    "id": "cdbd990c34fc462f8fa1156ea0ecb33b",
    "idx": 4,
    "time": "2021-02-02T07:03:12.807Z",
    "type": "execution"
   },
   {
    "id": "cdbd990c34fc462f8fa1156ea0ecb33b",
    "time": "2021-02-02T07:03:13.468Z",
    "type": "completion"
   },
   {
    "code": "from IPython.display import Audio,display, clear_output\n\ndef play(f1, f2, sec=2):\n    framerate = 44100 # <- rate of sampling\n    t = np.linspace(0, sec, framerate * sec) # <- setup time values\n    data = np.sin(2 * np.pi * f1 * t) + np.sin(2 * np.pi * f2 * t) # <- sine function formula\n    display(InvisibleAudio(data, rate=framerate, autoplay=True)) # play the generated sound\n    \n\nclass InvisibleAudio(Audio):\n    def _repr_html_(self):\n        audio = super()._repr_html_()\n        audio = audio.replace('<audio', f'<audio onended=\"this.parentNode.removeChild(this)\"')\n        return f'<div style=\"display:none\">{audio}</div>'\n",
    "id": "144e324a3298427082fc452a69d3e880",
    "idx": 3,
    "time": "2021-02-02T07:04:16.126Z",
    "type": "execution"
   },
   {
    "code": "xs3 = np.linspace(0, 0.2, 1000)\n\nf1 = widgets.IntSlider(value = 1, min = 1, max = 600, step = 1, description = \"frequency 1\")\nf1.layout.width = '400px'\nf2 = widgets.IntSlider(value = 1, min = 1, max = 600, step = 1, description = \"frequency 2\")\nf2.layout.width = '400px'\n\n#xslider = widgets.FloatSlider(value = 0.05, min = 0.01, max = 1, step = 0.01, description = \"xrange\")\n#xslider.layout.width = '400px'\n\nbutton = widgets.Button(description='Play Sound')\nout3 = widgets.Output()\nfig3 = go.FigureWidget()\n\nfig3.add_trace(go.Scatter(x=xs3, y=np.sin(2*np.pi*1*xs3) + np.sin(2*np.pi*1*xs),\n                    mode='lines',\n                    name='sum'))\nfig3.add_trace(go.Scatter(x = xs3, y = np.sin(2*np.pi*80*xs3), mode = \"lines\", opacity = 0.2, name = \"frequency 1\"))\nfig3.add_trace(go.Scatter(x = xs3, y = np.sin(2*np.pi*80*xs3), mode = \"lines\", opacity = 0.2, name = \"frequency 2\"))\n\nfig3.layout = dict(yaxis=dict(range=[-2,2]), xaxis=dict(range=[0,0.2]),width = 900)\n\nfig3.update_layout(\n    title={\n        'text': r'$y = \\sin(2 \\pi f_1 t) + \\sin(2 \\pi f_2 t)$',\n        'y':0.85,\n        'x':0.5,\n        'xanchor': 'center',\n        'yanchor': 'top'})\n\nfig3.update_xaxes(\n        title_text = r\"$t$\",\n        title_standoff = 15,\n        ticks = 'outside',\n        ticklen = 10,\n        tickcolor='white')\n\nfig3.update_yaxes(\n        title_text = '',\n        title_standoff = 25,\n        ticks = 'outside',\n        ticklen = 10,\n        tickcolor = 'white')\n\nfig3.update_layout(showlegend=False)\n\ndef on_button_clicked(_):\n\n    play(f1.value, f2.value)\n    \n\ndef update_trace(freq1, freq2):\n    \n    fig3.data[0].y = np.sin(2*np.pi*freq1*xs3) + np.sin(2*np.pi*freq2*xs3)\n    fig3.data[1].y = np.sin(2*np.pi*freq1*xs3)\n    fig3.data[2].y = np.sin(2*np.pi*freq2*xs3)\n\n# linking button and function together using a button's method\nbutton.on_click(on_button_clicked)\n# displaying button and its output together\nwidgets.VBox([fig3,button,out3])\n\nvb3 = widgets.VBox((fig3, interactive(update_trace, freq1 = f1, freq2 = f2), button))\nvb3.layout.align_items = 'center'\nvb3",
    "id": "c5450169ebad4a9fad8f0f31cc8e32bd",
    "idx": 4,
    "time": "2021-02-02T07:35:55.437Z",
    "type": "execution"
   },
   {
    "id": "c5450169ebad4a9fad8f0f31cc8e32bd",
    "time": "2021-02-02T07:35:55.562Z",
    "type": "completion"
   },
   {
    "code": "from IPython.display import Audio,display, clear_output\n\ndef play(f1, f2, sec=2):\n    framerate = 44100 # <- rate of sampling\n    t = np.linspace(0, sec, framerate * sec) # <- setup time values\n    data = np.sin(2 * np.pi * f1 * t) + np.sin(2 * np.pi * f2 * t) # <- sine function formula\n    display(InvisibleAudio(data, rate=framerate, autoplay=True)) # play the generated sound\n    \n\nclass InvisibleAudio(Audio):\n    def _repr_html_(self):\n        audio = super()._repr_html_()\n        audio = audio.replace('<audio', f'<audio onended=\"this.parentNode.removeChild(this)\"')\n        return f'<div style=\"display:none\">{audio}</div>'\n",
    "id": "34ffe370313b41eb8eb9eb442b69e1ea",
    "idx": 3,
    "time": "2021-02-02T07:35:57.875Z",
    "type": "execution"
   },
   {
    "id": "34ffe370313b41eb8eb9eb442b69e1ea",
    "time": "2021-02-02T07:35:57.942Z",
    "type": "completion"
   },
   {
    "code": "xs3 = np.linspace(0, 0.2, 1000)\n\nf1 = widgets.IntSlider(value = 1, min = 1, max = 600, step = 1, description = \"frequency 1\")\nf1.layout.width = '400px'\nf2 = widgets.IntSlider(value = 1, min = 1, max = 600, step = 1, description = \"frequency 2\")\nf2.layout.width = '400px'\n\n#xslider = widgets.FloatSlider(value = 0.05, min = 0.01, max = 1, step = 0.01, description = \"xrange\")\n#xslider.layout.width = '400px'\n\nbutton = widgets.Button(description='Play Sound')\nout3 = widgets.Output()\nfig3 = go.FigureWidget()\n\nfig3.add_trace(go.Scatter(x=xs3, y=np.sin(2*np.pi*1*xs3) + np.sin(2*np.pi*1*xs),\n                    mode='lines',\n                    name='sum'))\nfig3.add_trace(go.Scatter(x = xs3, y = np.sin(2*np.pi*80*xs3), mode = \"lines\", opacity = 0.2, name = \"frequency 1\"))\nfig3.add_trace(go.Scatter(x = xs3, y = np.sin(2*np.pi*80*xs3), mode = \"lines\", opacity = 0.2, name = \"frequency 2\"))\n\nfig3.layout = dict(yaxis=dict(range=[-2,2]), xaxis=dict(range=[0,0.2]),width = 900)\n\nfig3.update_layout(\n    title={\n        'text': r'$y = \\sin(2 \\pi f_1 t) + \\sin(2 \\pi f_2 t)$',\n        'y':0.85,\n        'x':0.5,\n        'xanchor': 'center',\n        'yanchor': 'top'})\n\nfig3.update_xaxes(\n        title_text = r\"$t$\",\n        title_standoff = 15,\n        ticks = 'outside',\n        ticklen = 10,\n        tickcolor='white')\n\nfig3.update_yaxes(\n        title_text = '',\n        title_standoff = 25,\n        ticks = 'outside',\n        ticklen = 10,\n        tickcolor = 'white')\n\nfig3.update_layout(showlegend=False)\n\ndef on_button_clicked(_):\n\n    play(f1.value, f2.value)\n    \n\ndef update_trace(freq1, freq2):\n    \n    fig3.data[0].y = np.sin(2*np.pi*freq1*xs3) + np.sin(2*np.pi*freq2*xs3)\n    fig3.data[1].y = np.sin(2*np.pi*freq1*xs3)\n    fig3.data[2].y = np.sin(2*np.pi*freq2*xs3)\n\n# linking button and function together using a button's method\nbutton.on_click(on_button_clicked)\n# displaying button and its output together\nwidgets.VBox([fig3,button,out3])\n\nvb3 = widgets.VBox((fig3, interactive(update_trace, freq1 = f1, freq2 = f2), button))\nvb3.layout.align_items = 'center'\nvb3",
    "id": "c5450169ebad4a9fad8f0f31cc8e32bd",
    "idx": 4,
    "time": "2021-02-02T07:35:58.599Z",
    "type": "execution"
   },
   {
    "id": "c5450169ebad4a9fad8f0f31cc8e32bd",
    "time": "2021-02-02T07:35:58.676Z",
    "type": "completion"
   },
   {
    "code": "import plotly.graph_objs as go\nfrom ipywidgets import interactive, HBox, VBox, widgets, interact\nimport numpy as np\\\n\nxs = np.linspace(0, 5, 1000)\n\ndef wave(f, phi, x):\n    return np.sin(2*np.pi*f*x + phi)\n\nfig = go.FigureWidget()\n\nfig.layout = dict(yaxis=dict(range=[-1,1]), xaxis=dict(range=[0,5]),width = 1000)\n\nfig.update_layout(\n    title={\n        'text': r'$y = \\sin(2 \\pi f x + \\phi)$',\n        'y':0.85,\n        'x':0.5,\n        'xanchor': 'center',\n        'yanchor': 'top'})\n\nfig.update_xaxes(\n        title_text = r\"$x$\",\n        title_standoff = 15,\n        ticks = 'outside',\n        ticklen = 10,\n        tickcolor='white')\n\nfig.update_yaxes(\n        title_text = '',\n        title_standoff = 25,\n        ticks = 'outside',\n        ticklen = 10,\n        tickcolor = 'white')\n\n\nline = fig.add_trace(go.Scatter(x=xs, y=wave(1, 0, xs),\n                    mode='lines',\n                    name='lines'))\n\nslider = widgets.FloatSlider(\n    value = 1,\n    min=0.1,\n    max=10,\n    step=0.1,\n    readout=True,\n    description=r'$f$')\nslider.layout.width = '400px'\n\nslider2 = widgets.FloatSlider(\n    value = 0,\n    min=-3.14,\n    max=3.14,\n    step=0.01,\n    readout=True,\n    description=r'$\\phi$')\nslider2.layout.width = '400px'\n\n\n# our function that will modify the xaxis range\ndef update_range(frequency, phi):\n    fig.data[0].y=wave(frequency, phi, xs)\n\n\n# display the FigureWidget and slider with center justification\nvb = VBox((fig, interactive(update_range, frequency = slider, phi = slider2)))\nvb.layout.align_items = 'center'\nvb",
    "id": "6fc5a392446547e79ea4736441470174",
    "idx": 1,
    "time": "2021-02-02T07:36:03.778Z",
    "type": "execution"
   },
   {
    "id": "6fc5a392446547e79ea4736441470174",
    "time": "2021-02-02T07:36:04.493Z",
    "type": "completion"
   },
   {
    "code": "from IPython.display import Audio,display, clear_output\n\ndef play(f1, f2, sec=2):\n    framerate = 44100 # <- rate of sampling\n    t = np.linspace(0, sec, framerate * sec) # <- setup time values\n    data = np.sin(2 * np.pi * f1 * t) + np.sin(2 * np.pi * f2 * t) # <- sine function formula\n    display(InvisibleAudio(data, rate=framerate, autoplay=True)) # play the generated sound\n    \n\nclass InvisibleAudio(Audio):\n    def _repr_html_(self):\n        audio = super()._repr_html_()\n        audio = audio.replace('<audio', f'<audio onended=\"this.parentNode.removeChild(this)\"')\n        return f'<div style=\"display:none\">{audio}</div>'\n",
    "id": "34ffe370313b41eb8eb9eb442b69e1ea",
    "idx": 3,
    "time": "2021-02-02T07:36:07.984Z",
    "type": "execution"
   },
   {
    "id": "34ffe370313b41eb8eb9eb442b69e1ea",
    "time": "2021-02-02T07:36:08.053Z",
    "type": "completion"
   },
   {
    "code": "xs3 = np.linspace(0, 0.2, 1000)\n\nf1 = widgets.IntSlider(value = 1, min = 1, max = 600, step = 1, description = \"frequency 1\")\nf1.layout.width = '400px'\nf2 = widgets.IntSlider(value = 1, min = 1, max = 600, step = 1, description = \"frequency 2\")\nf2.layout.width = '400px'\n\n#xslider = widgets.FloatSlider(value = 0.05, min = 0.01, max = 1, step = 0.01, description = \"xrange\")\n#xslider.layout.width = '400px'\n\nbutton = widgets.Button(description='Play Sound')\nout3 = widgets.Output()\nfig3 = go.FigureWidget()\n\nfig3.add_trace(go.Scatter(x=xs3, y=np.sin(2*np.pi*1*xs3) + np.sin(2*np.pi*1*xs),\n                    mode='lines',\n                    name='sum'))\nfig3.add_trace(go.Scatter(x = xs3, y = np.sin(2*np.pi*80*xs3), mode = \"lines\", opacity = 0.2, name = \"frequency 1\"))\nfig3.add_trace(go.Scatter(x = xs3, y = np.sin(2*np.pi*80*xs3), mode = \"lines\", opacity = 0.2, name = \"frequency 2\"))\n\nfig3.layout = dict(yaxis=dict(range=[-2,2]), xaxis=dict(range=[0,0.2]),width = 900)\n\nfig3.update_layout(\n    title={\n        'text': r'$y = \\sin(2 \\pi f_1 t) + \\sin(2 \\pi f_2 t)$',\n        'y':0.85,\n        'x':0.5,\n        'xanchor': 'center',\n        'yanchor': 'top'})\n\nfig3.update_xaxes(\n        title_text = r\"$t$\",\n        title_standoff = 15,\n        ticks = 'outside',\n        ticklen = 10,\n        tickcolor='white')\n\nfig3.update_yaxes(\n        title_text = '',\n        title_standoff = 25,\n        ticks = 'outside',\n        ticklen = 10,\n        tickcolor = 'white')\n\nfig3.update_layout(showlegend=False)\n\ndef on_button_clicked(_):\n\n    play(f1.value, f2.value)\n    \n\ndef update_trace(freq1, freq2):\n    \n    fig3.data[0].y = np.sin(2*np.pi*freq1*xs3) + np.sin(2*np.pi*freq2*xs3)\n    fig3.data[1].y = np.sin(2*np.pi*freq1*xs3)\n    fig3.data[2].y = np.sin(2*np.pi*freq2*xs3)\n\n# linking button and function together using a button's method\nbutton.on_click(on_button_clicked)\n# displaying button and its output together\nwidgets.VBox([fig3,button,out3])\n\nvb3 = widgets.VBox((fig3, interactive(update_trace, freq1 = f1, freq2 = f2), button))\nvb3.layout.align_items = 'center'\nvb3",
    "id": "c5450169ebad4a9fad8f0f31cc8e32bd",
    "idx": 4,
    "time": "2021-02-02T07:36:08.260Z",
    "type": "execution"
   },
   {
    "id": "c5450169ebad4a9fad8f0f31cc8e32bd",
    "time": "2021-02-02T07:36:08.867Z",
    "type": "completion"
   },
   {
    "code": "xs3 = np.linspace(0, 0.2, 1000)\n\nf1 = widgets.IntSlider(value = 1, min = 1, max = 600, step = 1, description = \"frequency 1\")\nf1.layout.width = '400px'\nf2 = widgets.IntSlider(value = 1, min = 1, max = 600, step = 1, description = \"frequency 2\")\nf2.layout.width = '400px'\n\n#xslider = widgets.FloatSlider(value = 0.05, min = 0.01, max = 1, step = 0.01, description = \"xrange\")\n#xslider.layout.width = '400px'\n\nbutton = widgets.Button(description='Play Sound')\nout3 = widgets.Output()\nfig3 = go.FigureWidget()\n\nfig3.add_trace(go.Scatter(x=xs3, y=np.sin(2*np.pi*1*xs3) + np.sin(2*np.pi*1*xs),\n                    mode='lines',\n                    name='sum'))\nfig3.add_trace(go.Scatter(x = xs3, y = np.sin(2*np.pi*80*xs3), mode = \"lines\", opacity = 0.2, name = \"frequency 1\"))\nfig3.add_trace(go.Scatter(x = xs3, y = np.sin(2*np.pi*80*xs3), mode = \"lines\", opacity = 0.2, name = \"frequency 2\"))\n\nfig3.layout = dict(yaxis=dict(range=[-2,2]), xaxis=dict(range=[0,0.2]),width = 900)\n\nfig3.update_layout(\n    title={\n        'text': r'$y = \\sin(2 \\pi f_1 t) + \\sin(2 \\pi f_2 t)$',\n        'y':0.85,\n        'x':0.5,\n        'xanchor': 'center',\n        'yanchor': 'top'})\n\nfig3.update_xaxes(\n        title_text = r\"$t$\",\n        title_standoff = 15,\n        ticks = 'outside',\n        ticklen = 10,\n        tickcolor='white')\n\nfig3.update_yaxes(\n        title_text = '',\n        title_standoff = 25,\n        ticks = 'outside',\n        ticklen = 10,\n        tickcolor = 'white')\n\nfig3.update_layout(showlegend=False)\n\ndef on_button_clicked(_):\n    \n    with widgets.Output():\n        play(f1.value, f2.value)\n    \n\ndef update_trace(freq1, freq2):\n    \n    fig3.data[0].y = np.sin(2*np.pi*freq1*xs3) + np.sin(2*np.pi*freq2*xs3)\n    fig3.data[1].y = np.sin(2*np.pi*freq1*xs3)\n    fig3.data[2].y = np.sin(2*np.pi*freq2*xs3)\n\n# linking button and function together using a button's method\nbutton.on_click(on_button_clicked)\n# displaying button and its output together\nwidgets.VBox([fig3,button,out3])\n\nvb3 = widgets.VBox((fig3, interactive(update_trace, freq1 = f1, freq2 = f2), button))\nvb3.layout.align_items = 'center'\nvb3",
    "id": "c5450169ebad4a9fad8f0f31cc8e32bd",
    "idx": 4,
    "time": "2021-02-02T07:38:43.036Z",
    "type": "execution"
   },
   {
    "id": "c5450169ebad4a9fad8f0f31cc8e32bd",
    "time": "2021-02-02T07:38:43.621Z",
    "type": "completion"
   },
   {
    "code": "xs2 = np.linspace(0, 5, 500)\n\ndef traveling_wave(k, omega, x, t):\n    return np.sin(k*x - omega*t/10.)\n\nfig2 = go.FigureWidget()\n\nfig2.layout = dict(yaxis=dict(range=[-1,1]), xaxis=dict(range=[0,5]),width = 1000)\n\nfig2.update_layout(\n    title={\n        'text': r'$y = \\sin(kx - \\omega t)$',\n        'y':0.85,\n        'x':0.5,\n        'xanchor': 'center',\n        'yanchor': 'top'})\n\nfig2.update_xaxes(\n        title_text = r\"$x$\",\n        title_standoff = 15,\n        ticks = 'outside',\n        ticklen = 10,\n        tickcolor='white')\n\nfig2.update_yaxes(\n        title_text = '',\n        title_standoff = 25,\n        ticks = 'outside',\n        ticklen = 10,\n        tickcolor = 'white')\n\n\nline2 = fig2.add_trace(go.Scatter(x=xs2, y=traveling_wave(1, 0, xs2, 0),\n                    mode='lines',\n                    name='lines'))\n\nbslider = widgets.FloatSlider(\n    value = 3.14,\n    min=0.1,\n    max=10,\n    step=0.02,\n    readout=True,\n    description=r'$k$')\nbslider.layout.width = '400px'\n\nbslider2 = widgets.FloatSlider(\n    value = 0,\n    min=-1,\n    max=1,\n    step=0.1,\n    readout=True,\n    description=r'$\\omega$')\nbslider2.layout.width = '400px'\n\nplay = widgets.Play(\n    interval = 5,\n    value = 0,\n    min=0,\n    max=500,\n    step=1\n)\n\ndef update2(k, omega, time):\n    fig2.data[0].y=traveling_wave(k, omega, xs2, time)\n\nvb2 = VBox((fig2, interactive(update2, k = bslider, omega = bslider2, time = play)))\nvb2.layout.align_items = 'center'\nvb2",
    "id": "cc3216c6ea7a4f8989a86e1102b657b8",
    "idx": 2,
    "time": "2021-02-02T07:39:08.181Z",
    "type": "execution"
   },
   {
    "id": "cc3216c6ea7a4f8989a86e1102b657b8",
    "time": "2021-02-02T07:39:08.560Z",
    "type": "completion"
   },
   {
    "code": "xs3 = np.linspace(0, 0.2, 1000)\n\nf1 = widgets.IntSlider(value = 1, min = 1, max = 600, step = 1, description = \"frequency 1\")\nf1.layout.width = '400px'\nf2 = widgets.IntSlider(value = 1, min = 1, max = 600, step = 1, description = \"frequency 2\")\nf2.layout.width = '400px'\n\n#xslider = widgets.FloatSlider(value = 0.05, min = 0.01, max = 1, step = 0.01, description = \"xrange\")\n#xslider.layout.width = '400px'\n\nbutton = widgets.Button(description='Play Sound')\nout3 = widgets.Output()\nfig3 = go.FigureWidget()\n\nfig3.add_trace(go.Scatter(x=xs3, y=np.sin(2*np.pi*1*xs3) + np.sin(2*np.pi*1*xs),\n                    mode='lines',\n                    name='sum'))\nfig3.add_trace(go.Scatter(x = xs3, y = np.sin(2*np.pi*80*xs3), mode = \"lines\", opacity = 0.2, name = \"frequency 1\"))\nfig3.add_trace(go.Scatter(x = xs3, y = np.sin(2*np.pi*80*xs3), mode = \"lines\", opacity = 0.2, name = \"frequency 2\"))\n\nfig3.layout = dict(yaxis=dict(range=[-2,2]), xaxis=dict(range=[0,0.2]),width = 900)\n\nfig3.update_layout(\n    title={\n        'text': r'$y = \\sin(2 \\pi f_1 t) + \\sin(2 \\pi f_2 t)$',\n        'y':0.85,\n        'x':0.5,\n        'xanchor': 'center',\n        'yanchor': 'top'})\n\nfig3.update_xaxes(\n        title_text = r\"$t$\",\n        title_standoff = 15,\n        ticks = 'outside',\n        ticklen = 10,\n        tickcolor='white')\n\nfig3.update_yaxes(\n        title_text = '',\n        title_standoff = 25,\n        ticks = 'outside',\n        ticklen = 10,\n        tickcolor = 'white')\n\nfig3.update_layout(showlegend=False)\n\ndef on_button_clicked(_):\n    \n    with widgets.Output():\n        play(f1.value, f2.value)\n    \n\ndef update_trace(freq1, freq2):\n    \n    fig3.data[0].y = np.sin(2*np.pi*freq1*xs3) + np.sin(2*np.pi*freq2*xs3)\n    fig3.data[1].y = np.sin(2*np.pi*freq1*xs3)\n    fig3.data[2].y = np.sin(2*np.pi*freq2*xs3)\n\n# linking button and function together using a button's method\nbutton.on_click(on_button_clicked)\n# displaying button and its output together\nwidgets.VBox([fig3,button])\n\nvb3 = widgets.VBox((fig3, interactive(update_trace, freq1 = f1, freq2 = f2), button))\nvb3.layout.align_items = 'center'\nvb3",
    "id": "c5450169ebad4a9fad8f0f31cc8e32bd",
    "idx": 4,
    "time": "2021-02-02T07:42:40.177Z",
    "type": "execution"
   },
   {
    "id": "c5450169ebad4a9fad8f0f31cc8e32bd",
    "time": "2021-02-02T07:42:40.717Z",
    "type": "completion"
   },
   {
    "code": "xs3 = np.linspace(0, 0.2, 1000)\n\nf1 = widgets.IntSlider(value = 1, min = 1, max = 600, step = 1, description = \"frequency 1\")\nf1.layout.width = '400px'\nf2 = widgets.IntSlider(value = 1, min = 1, max = 600, step = 1, description = \"frequency 2\")\nf2.layout.width = '400px'\n\n#xslider = widgets.FloatSlider(value = 0.05, min = 0.01, max = 1, step = 0.01, description = \"xrange\")\n#xslider.layout.width = '400px'\n\nbutton = widgets.Button(description='Play Sound')\nout3 = widgets.Output()\nfig3 = go.FigureWidget()\n\nfig3.add_trace(go.Scatter(x=xs3, y=np.sin(2*np.pi*1*xs3) + np.sin(2*np.pi*1*xs),\n                    mode='lines',\n                    name='sum'))\nfig3.add_trace(go.Scatter(x = xs3, y = np.sin(2*np.pi*80*xs3), mode = \"lines\", opacity = 0.2, name = \"frequency 1\"))\nfig3.add_trace(go.Scatter(x = xs3, y = np.sin(2*np.pi*80*xs3), mode = \"lines\", opacity = 0.2, name = \"frequency 2\"))\n\nfig3.layout = dict(yaxis=dict(range=[-2,2]), xaxis=dict(range=[0,0.2]),width = 900)\n\nfig3.update_layout(\n    title={\n        'text': r'$y = \\sin(2 \\pi f_1 t) + \\sin(2 \\pi f_2 t)$',\n        'y':0.85,\n        'x':0.5,\n        'xanchor': 'center',\n        'yanchor': 'top'})\n\nfig3.update_xaxes(\n        title_text = r\"$t$\",\n        title_standoff = 15,\n        ticks = 'outside',\n        ticklen = 10,\n        tickcolor='white')\n\nfig3.update_yaxes(\n        title_text = '',\n        title_standoff = 25,\n        ticks = 'outside',\n        ticklen = 10,\n        tickcolor = 'white')\n\nfig3.update_layout(showlegend=False)\n\ndef on_button_clicked(_):\n    \n    play(f1.value, f2.value)\n    \n\ndef update_trace(freq1, freq2):\n    \n    fig3.data[0].y = np.sin(2*np.pi*freq1*xs3) + np.sin(2*np.pi*freq2*xs3)\n    fig3.data[1].y = np.sin(2*np.pi*freq1*xs3)\n    fig3.data[2].y = np.sin(2*np.pi*freq2*xs3)\n\n# linking button and function together using a button's method\nbutton.on_click(on_button_clicked)\n# displaying button and its output together\nwidgets.VBox([fig3,button])\n\nvb3 = widgets.VBox((fig3, interactive(update_trace, freq1 = f1, freq2 = f2), button))\nvb3.layout.align_items = 'center'\nvb3",
    "id": "c5450169ebad4a9fad8f0f31cc8e32bd",
    "idx": 4,
    "time": "2021-02-02T07:42:51.210Z",
    "type": "execution"
   },
   {
    "id": "c5450169ebad4a9fad8f0f31cc8e32bd",
    "time": "2021-02-02T07:42:51.729Z",
    "type": "completion"
   },
   {
    "code": "xs3 = np.linspace(0, 0.2, 1000)\n\nf1 = widgets.IntSlider(value = 1, min = 1, max = 600, step = 1, description = \"frequency 1\")\nf1.layout.width = '400px'\nf2 = widgets.IntSlider(value = 1, min = 1, max = 600, step = 1, description = \"frequency 2\")\nf2.layout.width = '400px'\n\n#xslider = widgets.FloatSlider(value = 0.05, min = 0.01, max = 1, step = 0.01, description = \"xrange\")\n#xslider.layout.width = '400px'\n\nbutton = widgets.Button(description='Play Sound')\nout3 = widgets.Output()\nfig3 = go.FigureWidget()\n\nfig3.add_trace(go.Scatter(x=xs3, y=np.sin(2*np.pi*1*xs3) + np.sin(2*np.pi*1*xs),\n                    mode='lines',\n                    name='sum'))\nfig3.add_trace(go.Scatter(x = xs3, y = np.sin(2*np.pi*80*xs3), mode = \"lines\", opacity = 0.2, name = \"frequency 1\"))\nfig3.add_trace(go.Scatter(x = xs3, y = np.sin(2*np.pi*80*xs3), mode = \"lines\", opacity = 0.2, name = \"frequency 2\"))\n\nfig3.layout = dict(yaxis=dict(range=[-2,2]), xaxis=dict(range=[0,0.2]),width = 900)\n\nfig3.update_layout(\n    title={\n        'text': r'$y = \\sin(2 \\pi f_1 t) + \\sin(2 \\pi f_2 t)$',\n        'y':0.85,\n        'x':0.5,\n        'xanchor': 'center',\n        'yanchor': 'top'})\n\nfig3.update_xaxes(\n        title_text = r\"$t$\",\n        title_standoff = 15,\n        ticks = 'outside',\n        ticklen = 10,\n        tickcolor='white')\n\nfig3.update_yaxes(\n        title_text = '',\n        title_standoff = 25,\n        ticks = 'outside',\n        ticklen = 10,\n        tickcolor = 'white')\n\nfig3.update_layout(showlegend=False)\n\ndef on_button_clicked(_):\n    \n    play(f1.value, f2.value)\n    \n\ndef update_trace(freq1, freq2):\n    \n    fig3.data[0].y = np.sin(2*np.pi*freq1*xs3) + np.sin(2*np.pi*freq2*xs3)\n    fig3.data[1].y = np.sin(2*np.pi*freq1*xs3)\n    fig3.data[2].y = np.sin(2*np.pi*freq2*xs3)\n\n# linking button and function together using a button's method\nbutton.on_click(on_button_clicked)\n# displaying button and its output together\nwidgets.VBox([fig3,button])\n\nvb3 = widgets.VBox((fig3, interactive(update_trace, freq1 = f1, freq2 = f2), button))\nvb3.layout.align_items = 'center'\nvb3",
    "id": "c5450169ebad4a9fad8f0f31cc8e32bd",
    "idx": 4,
    "time": "2021-02-02T07:43:07.369Z",
    "type": "execution"
   },
   {
    "id": "c5450169ebad4a9fad8f0f31cc8e32bd",
    "time": "2021-02-02T07:43:07.869Z",
    "type": "completion"
   },
   {
    "code": "xs3 = np.linspace(0, 0.2, 1000)\n\nf1 = widgets.IntSlider(value = 1, min = 1, max = 600, step = 1, description = \"frequency 1\")\nf1.layout.width = '400px'\nf2 = widgets.IntSlider(value = 1, min = 1, max = 600, step = 1, description = \"frequency 2\")\nf2.layout.width = '400px'\n\n#xslider = widgets.FloatSlider(value = 0.05, min = 0.01, max = 1, step = 0.01, description = \"xrange\")\n#xslider.layout.width = '400px'\n\nbutton = widgets.Button(description='Play Sound')\nout3 = widgets.Output()\nfig3 = go.FigureWidget()\n\nfig3.add_trace(go.Scatter(x=xs3, y=np.sin(2*np.pi*1*xs3) + np.sin(2*np.pi*1*xs),\n                    mode='lines',\n                    name='sum'))\nfig3.add_trace(go.Scatter(x = xs3, y = np.sin(2*np.pi*80*xs3), mode = \"lines\", opacity = 0.2, name = \"frequency 1\"))\nfig3.add_trace(go.Scatter(x = xs3, y = np.sin(2*np.pi*80*xs3), mode = \"lines\", opacity = 0.2, name = \"frequency 2\"))\n\nfig3.layout = dict(yaxis=dict(range=[-2,2]), xaxis=dict(range=[0,0.2]),width = 900)\n\nfig3.update_layout(\n    title={\n        'text': r'$y = \\sin(2 \\pi f_1 t) + \\sin(2 \\pi f_2 t)$',\n        'y':0.85,\n        'x':0.5,\n        'xanchor': 'center',\n        'yanchor': 'top'})\n\nfig3.update_xaxes(\n        title_text = r\"$t$\",\n        title_standoff = 15,\n        ticks = 'outside',\n        ticklen = 10,\n        tickcolor='white')\n\nfig3.update_yaxes(\n        title_text = '',\n        title_standoff = 25,\n        ticks = 'outside',\n        ticklen = 10,\n        tickcolor = 'white')\n\nfig3.update_layout(showlegend=False)\n\ndef on_button_clicked(_):\n    \n    play(f1.value, f2.value)\n    \n\ndef update_trace(freq1, freq2):\n    \n    fig3.data[0].y = np.sin(2*np.pi*freq1*xs3) + np.sin(2*np.pi*freq2*xs3)\n    fig3.data[1].y = np.sin(2*np.pi*freq1*xs3)\n    fig3.data[2].y = np.sin(2*np.pi*freq2*xs3)\n\n# linking button and function together using a button's method\nbutton.on_click(on_button_clicked)\n# displaying button and its output together\nwidgets.VBox([fig3,button, widgets.Output()])\n\nvb3 = widgets.VBox((fig3, interactive(update_trace, freq1 = f1, freq2 = f2), button))\nvb3.layout.align_items = 'center'\nvb3",
    "id": "c5450169ebad4a9fad8f0f31cc8e32bd",
    "idx": 4,
    "time": "2021-02-02T07:43:35.433Z",
    "type": "execution"
   },
   {
    "id": "c5450169ebad4a9fad8f0f31cc8e32bd",
    "time": "2021-02-02T07:43:35.930Z",
    "type": "completion"
   },
   {
    "code": "xs3 = np.linspace(0, 0.2, 1000)\n\nf1 = widgets.IntSlider(value = 1, min = 1, max = 600, step = 1, description = \"frequency 1\")\nf1.layout.width = '400px'\nf2 = widgets.IntSlider(value = 1, min = 1, max = 600, step = 1, description = \"frequency 2\")\nf2.layout.width = '400px'\n\n#xslider = widgets.FloatSlider(value = 0.05, min = 0.01, max = 1, step = 0.01, description = \"xrange\")\n#xslider.layout.width = '400px'\n\nbutton = widgets.Button(description='Play Sound')\nout3 = widgets.Output()\nfig3 = go.FigureWidget()\n\nfig3.add_trace(go.Scatter(x=xs3, y=np.sin(2*np.pi*1*xs3) + np.sin(2*np.pi*1*xs),\n                    mode='lines',\n                    name='sum'))\nfig3.add_trace(go.Scatter(x = xs3, y = np.sin(2*np.pi*80*xs3), mode = \"lines\", opacity = 0.2, name = \"frequency 1\"))\nfig3.add_trace(go.Scatter(x = xs3, y = np.sin(2*np.pi*80*xs3), mode = \"lines\", opacity = 0.2, name = \"frequency 2\"))\n\nfig3.layout = dict(yaxis=dict(range=[-2,2]), xaxis=dict(range=[0,0.2]),width = 900)\n\nfig3.update_layout(\n    title={\n        'text': r'$y = \\sin(2 \\pi f_1 t) + \\sin(2 \\pi f_2 t)$',\n        'y':0.85,\n        'x':0.5,\n        'xanchor': 'center',\n        'yanchor': 'top'})\n\nfig3.update_xaxes(\n        title_text = r\"$t$\",\n        title_standoff = 15,\n        ticks = 'outside',\n        ticklen = 10,\n        tickcolor='white')\n\nfig3.update_yaxes(\n        title_text = '',\n        title_standoff = 25,\n        ticks = 'outside',\n        ticklen = 10,\n        tickcolor = 'white')\n\nfig3.update_layout(showlegend=False)\n\ndef on_button_clicked(_):\n    with widgets.Output()\n    \n        play(f1.value, f2.value)\n    \n\ndef update_trace(freq1, freq2):\n    \n    fig3.data[0].y = np.sin(2*np.pi*freq1*xs3) + np.sin(2*np.pi*freq2*xs3)\n    fig3.data[1].y = np.sin(2*np.pi*freq1*xs3)\n    fig3.data[2].y = np.sin(2*np.pi*freq2*xs3)\n\n# linking button and function together using a button's method\nbutton.on_click(on_button_clicked)\n# displaying button and its output together\nwidgets.VBox([fig3,button, widgets.Output()])\n\nvb3 = widgets.VBox((fig3, interactive(update_trace, freq1 = f1, freq2 = f2), button))\nvb3.layout.align_items = 'center'\nvb3",
    "id": "c5450169ebad4a9fad8f0f31cc8e32bd",
    "idx": 4,
    "time": "2021-02-02T07:44:04.131Z",
    "type": "execution"
   },
   {
    "id": "c5450169ebad4a9fad8f0f31cc8e32bd",
    "time": "2021-02-02T07:44:04.238Z",
    "type": "completion"
   },
   {
    "code": "xs3 = np.linspace(0, 0.2, 1000)\n\nf1 = widgets.IntSlider(value = 1, min = 1, max = 600, step = 1, description = \"frequency 1\")\nf1.layout.width = '400px'\nf2 = widgets.IntSlider(value = 1, min = 1, max = 600, step = 1, description = \"frequency 2\")\nf2.layout.width = '400px'\n\n#xslider = widgets.FloatSlider(value = 0.05, min = 0.01, max = 1, step = 0.01, description = \"xrange\")\n#xslider.layout.width = '400px'\n\nbutton = widgets.Button(description='Play Sound')\nout3 = widgets.Output()\nfig3 = go.FigureWidget()\n\nfig3.add_trace(go.Scatter(x=xs3, y=np.sin(2*np.pi*1*xs3) + np.sin(2*np.pi*1*xs),\n                    mode='lines',\n                    name='sum'))\nfig3.add_trace(go.Scatter(x = xs3, y = np.sin(2*np.pi*80*xs3), mode = \"lines\", opacity = 0.2, name = \"frequency 1\"))\nfig3.add_trace(go.Scatter(x = xs3, y = np.sin(2*np.pi*80*xs3), mode = \"lines\", opacity = 0.2, name = \"frequency 2\"))\n\nfig3.layout = dict(yaxis=dict(range=[-2,2]), xaxis=dict(range=[0,0.2]),width = 900)\n\nfig3.update_layout(\n    title={\n        'text': r'$y = \\sin(2 \\pi f_1 t) + \\sin(2 \\pi f_2 t)$',\n        'y':0.85,\n        'x':0.5,\n        'xanchor': 'center',\n        'yanchor': 'top'})\n\nfig3.update_xaxes(\n        title_text = r\"$t$\",\n        title_standoff = 15,\n        ticks = 'outside',\n        ticklen = 10,\n        tickcolor='white')\n\nfig3.update_yaxes(\n        title_text = '',\n        title_standoff = 25,\n        ticks = 'outside',\n        ticklen = 10,\n        tickcolor = 'white')\n\nfig3.update_layout(showlegend=False)\n\ndef on_button_clicked(_):\n    with widgets.Output():\n    \n        play(f1.value, f2.value)\n    \n\ndef update_trace(freq1, freq2):\n    \n    fig3.data[0].y = np.sin(2*np.pi*freq1*xs3) + np.sin(2*np.pi*freq2*xs3)\n    fig3.data[1].y = np.sin(2*np.pi*freq1*xs3)\n    fig3.data[2].y = np.sin(2*np.pi*freq2*xs3)\n\n# linking button and function together using a button's method\nbutton.on_click(on_button_clicked)\n# displaying button and its output together\nwidgets.VBox([fig3,button, widgets.Output()])\n\nvb3 = widgets.VBox((fig3, interactive(update_trace, freq1 = f1, freq2 = f2), button))\nvb3.layout.align_items = 'center'\nvb3",
    "id": "c5450169ebad4a9fad8f0f31cc8e32bd",
    "idx": 4,
    "time": "2021-02-02T07:44:10.255Z",
    "type": "execution"
   },
   {
    "id": "c5450169ebad4a9fad8f0f31cc8e32bd",
    "time": "2021-02-02T07:44:10.763Z",
    "type": "completion"
   },
   {
    "code": "import numpy as np\nimport matplotlib.pyplot as plt\nfrom IPython.display import (\n    Audio, display, clear_output)\nfrom ipywidgets import widgets\nfrom functools import partial\n%matplotlib inline\n\nrate = 16000.\nduration = .25\nt = np.linspace(\n    0., duration, int(rate * duration))\n\ndef synth(f):\n    x = np.sin(f * 2. * np.pi * t)\n    display(Audio(x, rate=rate, autoplay=True))\n    \nsynth(440)\n    \nnotes = 'C,C#,D,D#,E,F,F#,G,G#,A,A#,B,C'.split(',')\nfreqs = 440. * 2**(np.arange(3, 3 + len(notes)) / 12.)\nnotes = list(zip(notes, freqs))\n\nlayout = widgets.Layout(\n    width='30px', height='60px',\n    border='1px solid black')\n\nbuttons = []\nfor note, f in notes:\n    button = widgets.Button(\n        description=note, layout=layout)\n\n    def on_button_clicked(f, b):\n        # When a button is clicked, we play the sound\n        # in a dedicated Output widget.\n        with widgets.Output():\n            synth(f)\n\n    button.on_click(partial(on_button_clicked, f))\n    buttons.append(button)\n\n# We place all buttons horizontally.\nwidgets.Box(children=buttons)",
    "id": "a11e1f83e1c8486f93943a29641d658c",
    "idx": 6,
    "time": "2021-02-02T07:45:56.405Z",
    "type": "execution"
   },
   {
    "id": "a11e1f83e1c8486f93943a29641d658c",
    "time": "2021-02-02T07:45:56.889Z",
    "type": "completion"
   },
   {
    "code": "xs3 = np.linspace(0, 0.2, 1000)\n\nf1 = widgets.IntSlider(value = 1, min = 1, max = 600, step = 1, description = \"frequency 1\")\nf1.layout.width = '400px'\nf2 = widgets.IntSlider(value = 1, min = 1, max = 600, step = 1, description = \"frequency 2\")\nf2.layout.width = '400px'\n\n#xslider = widgets.FloatSlider(value = 0.05, min = 0.01, max = 1, step = 0.01, description = \"xrange\")\n#xslider.layout.width = '400px'\n\nbutton = widgets.Button(description='Play Sound')\nout3 = widgets.Output()\nfig3 = go.FigureWidget()\n\nfig3.add_trace(go.Scatter(x=xs3, y=np.sin(2*np.pi*1*xs3) + np.sin(2*np.pi*1*xs),\n                    mode='lines',\n                    name='sum'))\nfig3.add_trace(go.Scatter(x = xs3, y = np.sin(2*np.pi*80*xs3), mode = \"lines\", opacity = 0.2, name = \"frequency 1\"))\nfig3.add_trace(go.Scatter(x = xs3, y = np.sin(2*np.pi*80*xs3), mode = \"lines\", opacity = 0.2, name = \"frequency 2\"))\n\nfig3.layout = dict(yaxis=dict(range=[-2,2]), xaxis=dict(range=[0,0.2]),width = 900)\n\nfig3.update_layout(\n    title={\n        'text': r'$y = \\sin(2 \\pi f_1 t) + \\sin(2 \\pi f_2 t)$',\n        'y':0.85,\n        'x':0.5,\n        'xanchor': 'center',\n        'yanchor': 'top'})\n\nfig3.update_xaxes(\n        title_text = r\"$t$\",\n        title_standoff = 15,\n        ticks = 'outside',\n        ticklen = 10,\n        tickcolor='white')\n\nfig3.update_yaxes(\n        title_text = '',\n        title_standoff = 25,\n        ticks = 'outside',\n        ticklen = 10,\n        tickcolor = 'white')\n\nfig3.update_layout(showlegend=False)\n\ndef on_button_clicked(_):\n   \n    play(f1.value, f2.value)\n    \n\ndef update_trace(freq1, freq2):\n    \n    fig3.data[0].y = np.sin(2*np.pi*freq1*xs3) + np.sin(2*np.pi*freq2*xs3)\n    fig3.data[1].y = np.sin(2*np.pi*freq1*xs3)\n    fig3.data[2].y = np.sin(2*np.pi*freq2*xs3)\n\n# linking button and function together using a button's method\nbutton.on_click(on_button_clicked)\n# displaying button and its output together\nwidgets.VBox([fig3,button, widgets.Output()])\n\nvb3 = widgets.VBox((fig3, interactive(update_trace, freq1 = f1, freq2 = f2), button))\nvb3.layout.align_items = 'center'\nvb3",
    "id": "c5450169ebad4a9fad8f0f31cc8e32bd",
    "idx": 4,
    "time": "2021-02-02T07:55:38.615Z",
    "type": "execution"
   },
   {
    "id": "c5450169ebad4a9fad8f0f31cc8e32bd",
    "time": "2021-02-02T07:55:39.173Z",
    "type": "completion"
   },
   {
    "code": "xs3 = np.linspace(0, 0.2, 1000)\n\nf1 = widgets.IntSlider(value = 1, min = 1, max = 600, step = 1, description = \"frequency 1\")\nf1.layout.width = '400px'\nf2 = widgets.IntSlider(value = 1, min = 1, max = 600, step = 1, description = \"frequency 2\")\nf2.layout.width = '400px'\n\n#xslider = widgets.FloatSlider(value = 0.05, min = 0.01, max = 1, step = 0.01, description = \"xrange\")\n#xslider.layout.width = '400px'\n\nbutton = widgets.Button(description='Play Sound')\nout3 = widgets.Output()\nfig3 = go.FigureWidget()\n\nfig3.add_trace(go.Scatter(x=xs3, y=np.sin(2*np.pi*1*xs3) + np.sin(2*np.pi*1*xs),\n                    mode='lines',\n                    name='sum'))\nfig3.add_trace(go.Scatter(x = xs3, y = np.sin(2*np.pi*80*xs3), mode = \"lines\", opacity = 0.2, name = \"frequency 1\"))\nfig3.add_trace(go.Scatter(x = xs3, y = np.sin(2*np.pi*80*xs3), mode = \"lines\", opacity = 0.2, name = \"frequency 2\"))\n\nfig3.layout = dict(yaxis=dict(range=[-2,2]), xaxis=dict(range=[0,0.2]),width = 900)\n\nfig3.update_layout(\n    title={\n        'text': r'$y = \\sin(2 \\pi f_1 t) + \\sin(2 \\pi f_2 t)$',\n        'y':0.85,\n        'x':0.5,\n        'xanchor': 'center',\n        'yanchor': 'top'})\n\nfig3.update_xaxes(\n        title_text = r\"$t$\",\n        title_standoff = 15,\n        ticks = 'outside',\n        ticklen = 10,\n        tickcolor='white')\n\nfig3.update_yaxes(\n        title_text = '',\n        title_standoff = 25,\n        ticks = 'outside',\n        ticklen = 10,\n        tickcolor = 'white')\n\nfig3.update_layout(showlegend=False)\n\ndef on_button_clicked(_):\n   \n    play(f1.value, f2.value)\n    \n\ndef update_trace(freq1, freq2):\n    \n    fig3.data[0].y = np.sin(2*np.pi*freq1*xs3) + np.sin(2*np.pi*freq2*xs3)\n    fig3.data[1].y = np.sin(2*np.pi*freq1*xs3)\n    fig3.data[2].y = np.sin(2*np.pi*freq2*xs3)\n\n# linking button and function together using a button's method\nbutton.on_click(on_button_clicked)\n# displaying button and its output together\nwidgets.VBox([fig3,button, out3])\n\nvb3 = widgets.VBox((fig3, interactive(update_trace, freq1 = f1, freq2 = f2), button))\nvb3.layout.align_items = 'center'\nvb3",
    "id": "c5450169ebad4a9fad8f0f31cc8e32bd",
    "idx": 4,
    "time": "2021-02-02T07:55:48.313Z",
    "type": "execution"
   },
   {
    "id": "c5450169ebad4a9fad8f0f31cc8e32bd",
    "time": "2021-02-02T07:55:48.801Z",
    "type": "completion"
   },
   {
    "code": "xs3 = np.linspace(0, 0.2, 1000)\n\nf1 = widgets.IntSlider(value = 1, min = 1, max = 600, step = 1, description = \"frequency 1\")\nf1.layout.width = '400px'\nf2 = widgets.IntSlider(value = 1, min = 1, max = 600, step = 1, description = \"frequency 2\")\nf2.layout.width = '400px'\n\n#xslider = widgets.FloatSlider(value = 0.05, min = 0.01, max = 1, step = 0.01, description = \"xrange\")\n#xslider.layout.width = '400px'\n\nbutton = widgets.Button(description='Play Sound')\nout3 = widgets.Output()\nfig3 = go.FigureWidget()\n\nfig3.add_trace(go.Scatter(x=xs3, y=np.sin(2*np.pi*1*xs3) + np.sin(2*np.pi*1*xs),\n                    mode='lines',\n                    name='sum'))\nfig3.add_trace(go.Scatter(x = xs3, y = np.sin(2*np.pi*80*xs3), mode = \"lines\", opacity = 0.2, name = \"frequency 1\"))\nfig3.add_trace(go.Scatter(x = xs3, y = np.sin(2*np.pi*80*xs3), mode = \"lines\", opacity = 0.2, name = \"frequency 2\"))\n\nfig3.layout = dict(yaxis=dict(range=[-2,2]), xaxis=dict(range=[0,0.2]),width = 900)\n\nfig3.update_layout(\n    title={\n        'text': r'$y = \\sin(2 \\pi f_1 t) + \\sin(2 \\pi f_2 t)$',\n        'y':0.85,\n        'x':0.5,\n        'xanchor': 'center',\n        'yanchor': 'top'})\n\nfig3.update_xaxes(\n        title_text = r\"$t$\",\n        title_standoff = 15,\n        ticks = 'outside',\n        ticklen = 10,\n        tickcolor='white')\n\nfig3.update_yaxes(\n        title_text = '',\n        title_standoff = 25,\n        ticks = 'outside',\n        ticklen = 10,\n        tickcolor = 'white')\n\nfig3.update_layout(showlegend=False)\n\ndef on_button_clicked(_):\n\n    play(f1.value, f2.value)\n    \n\ndef update_trace(freq1, freq2):\n    \n    fig3.data[0].y = np.sin(2*np.pi*freq1*xs3) + np.sin(2*np.pi*freq2*xs3)\n    fig3.data[1].y = np.sin(2*np.pi*freq1*xs3)\n    fig3.data[2].y = np.sin(2*np.pi*freq2*xs3)\n\n# linking button and function together using a button's method\nbutton.on_click(on_button_clicked)\n# displaying button and its output together\nwidgets.VBox([fig3,button,out3])\n\nvb = widgets.VBox((fig3, interactive(update_trace, freq1 = f1, freq2 = f2), button))\nvb.layout.align_items = 'center'\nvb",
    "id": "c5450169ebad4a9fad8f0f31cc8e32bd",
    "idx": 4,
    "time": "2021-02-02T07:56:11.576Z",
    "type": "execution"
   },
   {
    "id": "c5450169ebad4a9fad8f0f31cc8e32bd",
    "time": "2021-02-02T07:56:12.054Z",
    "type": "completion"
   },
   {
    "code": "import plotly.graph_objs as go\nfrom ipywidgets import interactive, HBox, VBox, widgets, interact\nimport numpy as np\n\nxs = np.linspace(0, 5, 1000)\n\ndef wave(f, phi, x):\n    return np.sin(2*np.pi*f*x + phi)\n\nfig = go.FigureWidget()\n\nfig.layout = dict(yaxis=dict(range=[-1,1]), xaxis=dict(range=[0,5]),width = 1000)\n\nfig.update_layout(\n    title={\n        'text': r'$y = \\sin(2 \\pi f x + \\phi)$',\n        'y':0.85,\n        'x':0.5,\n        'xanchor': 'center',\n        'yanchor': 'top'})\n\nfig.update_xaxes(\n        title_text = r\"$x$\",\n        title_standoff = 15,\n        ticks = 'outside',\n        ticklen = 10,\n        tickcolor='white')\n\nfig.update_yaxes(\n        title_text = '',\n        title_standoff = 25,\n        ticks = 'outside',\n        ticklen = 10,\n        tickcolor = 'white')\n\n\nline = fig.add_trace(go.Scatter(x=xs, y=wave(1, 0, xs),\n                    mode='lines',\n                    name='lines'))\n\nslider = widgets.FloatSlider(\n    value = 1,\n    min=0.1,\n    max=10,\n    step=0.1,\n    readout=True,\n    description=r'$f$')\nslider.layout.width = '400px'\n\nslider2 = widgets.FloatSlider(\n    value = 0,\n    min=-3.14,\n    max=3.14,\n    step=0.01,\n    readout=True,\n    description=r'$\\phi$')\nslider2.layout.width = '400px'\n\n\n# our function that will modify the xaxis range\ndef update_range(frequency, phi):\n    fig.data[0].y=wave(frequency, phi, xs)\n\n\n# display the FigureWidget and slider with center justification\nvb = VBox((fig, interactive(update_range, frequency = slider, phi = slider2)))\nvb.layout.align_items = 'center'\nvb",
    "id": "6fc5a392446547e79ea4736441470174",
    "idx": 1,
    "time": "2021-02-02T07:56:29.548Z",
    "type": "execution"
   },
   {
    "id": "6fc5a392446547e79ea4736441470174",
    "time": "2021-02-02T07:56:30.196Z",
    "type": "completion"
   },
   {
    "code": "xs2 = np.linspace(0, 5, 500)\n\ndef traveling_wave(k, omega, x, t):\n    return np.sin(k*x - omega*t/10.)\n\nfig2 = go.FigureWidget()\n\nfig2.layout = dict(yaxis=dict(range=[-1,1]), xaxis=dict(range=[0,5]),width = 1000)\n\nfig2.update_layout(\n    title={\n        'text': r'$y = \\sin(kx - \\omega t)$',\n        'y':0.85,\n        'x':0.5,\n        'xanchor': 'center',\n        'yanchor': 'top'})\n\nfig2.update_xaxes(\n        title_text = r\"$x$\",\n        title_standoff = 15,\n        ticks = 'outside',\n        ticklen = 10,\n        tickcolor='white')\n\nfig2.update_yaxes(\n        title_text = '',\n        title_standoff = 25,\n        ticks = 'outside',\n        ticklen = 10,\n        tickcolor = 'white')\n\n\nline2 = fig2.add_trace(go.Scatter(x=xs2, y=traveling_wave(1, 0, xs2, 0),\n                    mode='lines',\n                    name='lines'))\n\nbslider = widgets.FloatSlider(\n    value = 3.14,\n    min=0.1,\n    max=10,\n    step=0.02,\n    readout=True,\n    description=r'$k$')\nbslider.layout.width = '400px'\n\nbslider2 = widgets.FloatSlider(\n    value = 0,\n    min=-1,\n    max=1,\n    step=0.1,\n    readout=True,\n    description=r'$\\omega$')\nbslider2.layout.width = '400px'\n\nplay = widgets.Play(\n    interval = 5,\n    value = 0,\n    min=0,\n    max=500,\n    step=1\n)\n\ndef update2(k, omega, time):\n    fig2.data[0].y=traveling_wave(k, omega, xs2, time)\n\nvb2 = VBox((fig2, interactive(update2, k = bslider, omega = bslider2, time = play)))\nvb2.layout.align_items = 'center'\nvb2",
    "id": "cc3216c6ea7a4f8989a86e1102b657b8",
    "idx": 2,
    "time": "2021-02-02T07:56:30.358Z",
    "type": "execution"
   },
   {
    "id": "cc3216c6ea7a4f8989a86e1102b657b8",
    "time": "2021-02-02T07:56:30.710Z",
    "type": "completion"
   },
   {
    "code": "from IPython.display import Audio,display, clear_output\n\ndef play(f1, f2, sec=2):\n    framerate = 44100 # <- rate of sampling\n    t = np.linspace(0, sec, framerate * sec) # <- setup time values\n    data = np.sin(2 * np.pi * f1 * t) + np.sin(2 * np.pi * f2 * t) # <- sine function formula\n    display(InvisibleAudio(data, rate=framerate, autoplay=True)) # play the generated sound\n    \n\nclass InvisibleAudio(Audio):\n    def _repr_html_(self):\n        audio = super()._repr_html_()\n        audio = audio.replace('<audio', f'<audio onended=\"this.parentNode.removeChild(this)\"')\n        return f'<div style=\"display:none\">{audio}</div>'\n",
    "id": "34ffe370313b41eb8eb9eb442b69e1ea",
    "idx": 3,
    "time": "2021-02-02T07:56:31.772Z",
    "type": "execution"
   },
   {
    "id": "34ffe370313b41eb8eb9eb442b69e1ea",
    "time": "2021-02-02T07:56:31.834Z",
    "type": "completion"
   },
   {
    "code": "xs3 = np.linspace(0, 0.2, 1000)\n\nf1 = widgets.IntSlider(value = 1, min = 1, max = 600, step = 1, description = \"frequency 1\")\nf1.layout.width = '400px'\nf2 = widgets.IntSlider(value = 1, min = 1, max = 600, step = 1, description = \"frequency 2\")\nf2.layout.width = '400px'\n\n#xslider = widgets.FloatSlider(value = 0.05, min = 0.01, max = 1, step = 0.01, description = \"xrange\")\n#xslider.layout.width = '400px'\n\nbutton = widgets.Button(description='Play Sound')\nout3 = widgets.Output()\nfig3 = go.FigureWidget()\n\nfig3.add_trace(go.Scatter(x=xs3, y=np.sin(2*np.pi*1*xs3) + np.sin(2*np.pi*1*xs),\n                    mode='lines',\n                    name='sum'))\nfig3.add_trace(go.Scatter(x = xs3, y = np.sin(2*np.pi*80*xs3), mode = \"lines\", opacity = 0.2, name = \"frequency 1\"))\nfig3.add_trace(go.Scatter(x = xs3, y = np.sin(2*np.pi*80*xs3), mode = \"lines\", opacity = 0.2, name = \"frequency 2\"))\n\nfig3.layout = dict(yaxis=dict(range=[-2,2]), xaxis=dict(range=[0,0.2]),width = 900)\n\nfig3.update_layout(\n    title={\n        'text': r'$y = \\sin(2 \\pi f_1 t) + \\sin(2 \\pi f_2 t)$',\n        'y':0.85,\n        'x':0.5,\n        'xanchor': 'center',\n        'yanchor': 'top'})\n\nfig3.update_xaxes(\n        title_text = r\"$t$\",\n        title_standoff = 15,\n        ticks = 'outside',\n        ticklen = 10,\n        tickcolor='white')\n\nfig3.update_yaxes(\n        title_text = '',\n        title_standoff = 25,\n        ticks = 'outside',\n        ticklen = 10,\n        tickcolor = 'white')\n\nfig3.update_layout(showlegend=False)\n\ndef on_button_clicked(_):\n\n    play(f1.value, f2.value)\n    \n\ndef update_trace(freq1, freq2):\n    \n    fig3.data[0].y = np.sin(2*np.pi*freq1*xs3) + np.sin(2*np.pi*freq2*xs3)\n    fig3.data[1].y = np.sin(2*np.pi*freq1*xs3)\n    fig3.data[2].y = np.sin(2*np.pi*freq2*xs3)\n\n# linking button and function together using a button's method\nbutton.on_click(on_button_clicked)\n# displaying button and its output together\nwidgets.VBox([fig3,button,out3])\n\nvb = widgets.VBox((fig3, interactive(update_trace, freq1 = f1, freq2 = f2), button))\nvb.layout.align_items = 'center'\nvb",
    "id": "c5450169ebad4a9fad8f0f31cc8e32bd",
    "idx": 4,
    "time": "2021-02-02T07:56:32.597Z",
    "type": "execution"
   },
   {
    "id": "c5450169ebad4a9fad8f0f31cc8e32bd",
    "time": "2021-02-02T07:56:33.136Z",
    "type": "completion"
   },
   {
    "code": "out=widgets.Output()\ndisplay(widgets.HBox([f1,f2]))\ndisplay(button)\ndisplay(out)",
    "id": "7c31516f18f6442f80e17e8a3c2b2b2b",
    "idx": 5,
    "time": "2021-02-02T08:01:02.598Z",
    "type": "execution"
   },
   {
    "id": "7c31516f18f6442f80e17e8a3c2b2b2b",
    "time": "2021-02-02T08:01:02.723Z",
    "type": "completion"
   },
   {
    "code": "xs3 = np.linspace(0, 0.2, 1000)\n\nf1 = widgets.IntSlider(value = 1, min = 1, max = 600, step = 1, description = \"frequency 1\")\nf1.layout.width = '400px'\nf2 = widgets.IntSlider(value = 1, min = 1, max = 600, step = 1, description = \"frequency 2\")\nf2.layout.width = '400px'\n\n#xslider = widgets.FloatSlider(value = 0.05, min = 0.01, max = 1, step = 0.01, description = \"xrange\")\n#xslider.layout.width = '400px'\n\nbutton = widgets.Button(description='Play Sound')\nout3 = widgets.Output()\nfig3 = go.FigureWidget()\n\nfig3.add_trace(go.Scatter(x=xs3, y=np.sin(2*np.pi*1*xs3) + np.sin(2*np.pi*1*xs),\n                    mode='lines',\n                    name='sum'))\nfig3.add_trace(go.Scatter(x = xs3, y = np.sin(2*np.pi*80*xs3), mode = \"lines\", opacity = 0.2, name = \"frequency 1\"))\nfig3.add_trace(go.Scatter(x = xs3, y = np.sin(2*np.pi*80*xs3), mode = \"lines\", opacity = 0.2, name = \"frequency 2\"))\n\nfig3.layout = dict(yaxis=dict(range=[-2,2]), xaxis=dict(range=[0,0.2]),width = 900)\n\nfig3.update_layout(\n    title={\n        'text': r'$y = \\sin(2 \\pi f_1 t) + \\sin(2 \\pi f_2 t)$',\n        'y':0.85,\n        'x':0.5,\n        'xanchor': 'center',\n        'yanchor': 'top'})\n\nfig3.update_xaxes(\n        title_text = r\"$t$\",\n        title_standoff = 15,\n        ticks = 'outside',\n        ticklen = 10,\n        tickcolor='white')\n\nfig3.update_yaxes(\n        title_text = '',\n        title_standoff = 25,\n        ticks = 'outside',\n        ticklen = 10,\n        tickcolor = 'white')\n\nfig3.update_layout(showlegend=False)\n\ndef on_button_clicked(_):\n\n    play(f1.value, f2.value)\n    \ndef click(b):\n    fig = visualize_climate_graph()\n    with out:\n        clear_output(wait=True)\n        fig.show()\n    \n\ndef update_trace(freq1, freq2):\n    \n    fig3.data[0].y = np.sin(2*np.pi*freq1*xs3) + np.sin(2*np.pi*freq2*xs3)\n    fig3.data[1].y = np.sin(2*np.pi*freq1*xs3)\n    fig3.data[2].y = np.sin(2*np.pi*freq2*xs3)\n\n# linking button and function together using a button's method\nbutton.on_click(on_button_clicked)\n# displaying button and its output together\n",
    "id": "c5450169ebad4a9fad8f0f31cc8e32bd",
    "idx": 4,
    "time": "2021-02-02T08:03:11.536Z",
    "type": "execution"
   },
   {
    "id": "c5450169ebad4a9fad8f0f31cc8e32bd",
    "time": "2021-02-02T08:03:11.822Z",
    "type": "completion"
   },
   {
    "code": "out=widgets.Output()\ndisplay(widgets.VBox((fig3, interactive(update_trace, freq1 = f1, freq2 = f2), button)))\ndisplay(button)\ndisplay(out)",
    "id": "7c31516f18f6442f80e17e8a3c2b2b2b",
    "idx": 5,
    "time": "2021-02-02T08:03:14.159Z",
    "type": "execution"
   },
   {
    "id": "7c31516f18f6442f80e17e8a3c2b2b2b",
    "time": "2021-02-02T08:03:14.575Z",
    "type": "completion"
   },
   {
    "code": "xs3 = np.linspace(0, 0.2, 1000)\n\nf1 = widgets.IntSlider(value = 1, min = 1, max = 600, step = 1, description = \"frequency 1\")\nf1.layout.width = '400px'\nf2 = widgets.IntSlider(value = 1, min = 1, max = 600, step = 1, description = \"frequency 2\")\nf2.layout.width = '400px'\n\n#xslider = widgets.FloatSlider(value = 0.05, min = 0.01, max = 1, step = 0.01, description = \"xrange\")\n#xslider.layout.width = '400px'\n\nbutton = widgets.Button(description='Play Sound')\nout3 = widgets.Output()\nfig3 = go.FigureWidget()\n\nfig3.add_trace(go.Scatter(x=xs3, y=np.sin(2*np.pi*1*xs3) + np.sin(2*np.pi*1*xs),\n                    mode='lines',\n                    name='sum'))\nfig3.add_trace(go.Scatter(x = xs3, y = np.sin(2*np.pi*80*xs3), mode = \"lines\", opacity = 0.2, name = \"frequency 1\"))\nfig3.add_trace(go.Scatter(x = xs3, y = np.sin(2*np.pi*80*xs3), mode = \"lines\", opacity = 0.2, name = \"frequency 2\"))\n\nfig3.layout = dict(yaxis=dict(range=[-2,2]), xaxis=dict(range=[0,0.2]),width = 900)\n\nfig3.update_layout(\n    title={\n        'text': r'$y = \\sin(2 \\pi f_1 t) + \\sin(2 \\pi f_2 t)$',\n        'y':0.85,\n        'x':0.5,\n        'xanchor': 'center',\n        'yanchor': 'top'})\n\nfig3.update_xaxes(\n        title_text = r\"$t$\",\n        title_standoff = 15,\n        ticks = 'outside',\n        ticklen = 10,\n        tickcolor='white')\n\nfig3.update_yaxes(\n        title_text = '',\n        title_standoff = 25,\n        ticks = 'outside',\n        ticklen = 10,\n        tickcolor = 'white')\n\nfig3.update_layout(showlegend=False)\n\ndef on_button_clicked(_):\n\n    play(f1.value, f2.value)\n    \ndef click(b):\n    fig = visualize_climate_graph()\n    with out:\n        clear_output(wait=True)\n        fig.show()\n    \ndef visualize_climate_graph():  \n    fig3 = go.FigureWidget()\n\n    fig3.add_trace(go.Scatter(x=xs3, y=np.sin(2*np.pi*1*xs3) + np.sin(2*np.pi*1*xs),\n                        mode='lines',\n                        name='sum'))\n    fig3.add_trace(go.Scatter(x = xs3, y = np.sin(2*np.pi*80*xs3), mode = \"lines\", opacity = 0.2, name = \"frequency 1\"))\n    fig3.add_trace(go.Scatter(x = xs3, y = np.sin(2*np.pi*80*xs3), mode = \"lines\", opacity = 0.2, name = \"frequency 2\"))\n\n    fig3.layout = dict(yaxis=dict(range=[-2,2]), xaxis=dict(range=[0,0.2]),width = 900)\n\n    fig3.update_layout(\n        title={\n            'text': r'$y = \\sin(2 \\pi f_1 t) + \\sin(2 \\pi f_2 t)$',\n            'y':0.85,\n            'x':0.5,\n            'xanchor': 'center',\n            'yanchor': 'top'})\n\n    fig3.update_xaxes(\n            title_text = r\"$t$\",\n            title_standoff = 15,\n            ticks = 'outside',\n            ticklen = 10,\n            tickcolor='white')\n\n    fig3.update_yaxes(\n            title_text = '',\n            title_standoff = 25,\n            ticks = 'outside',\n            ticklen = 10,\n            tickcolor = 'white')\n\n    fig3.update_layout(showlegend=False)\n    return fig3\n\ndef update_trace(freq1, freq2):\n    \n    fig3.data[0].y = np.sin(2*np.pi*freq1*xs3) + np.sin(2*np.pi*freq2*xs3)\n    fig3.data[1].y = np.sin(2*np.pi*freq1*xs3)\n    fig3.data[2].y = np.sin(2*np.pi*freq2*xs3)\n\n# linking button and function together using a button's method\nbutton.on_click(click)\n# displaying button and its output together\n",
    "id": "c5450169ebad4a9fad8f0f31cc8e32bd",
    "idx": 4,
    "time": "2021-02-02T08:06:12.312Z",
    "type": "execution"
   },
   {
    "id": "c5450169ebad4a9fad8f0f31cc8e32bd",
    "time": "2021-02-02T08:06:12.923Z",
    "type": "completion"
   },
   {
    "code": "out=widgets.Output()\ndisplay(widgets.VBox((fig3, interactive(update_trace, freq1 = f1, freq2 = f2), button)))\ndisplay(button)\ndisplay(out)",
    "id": "7c31516f18f6442f80e17e8a3c2b2b2b",
    "idx": 5,
    "time": "2021-02-02T08:06:13.935Z",
    "type": "execution"
   },
   {
    "id": "7c31516f18f6442f80e17e8a3c2b2b2b",
    "time": "2021-02-02T08:06:14.379Z",
    "type": "completion"
   },
   {
    "code": "xs3 = np.linspace(0, 0.2, 1000)\n\nf1 = widgets.IntSlider(value = 1, min = 1, max = 600, step = 1, description = \"frequency 1\")\nf1.layout.width = '400px'\nf2 = widgets.IntSlider(value = 1, min = 1, max = 600, step = 1, description = \"frequency 2\")\nf2.layout.width = '400px'\n\n#xslider = widgets.FloatSlider(value = 0.05, min = 0.01, max = 1, step = 0.01, description = \"xrange\")\n#xslider.layout.width = '400px'\n\nbutton = widgets.Button(description='Play Sound')\nout3 = widgets.Output()\nfig3 = go.FigureWidget()\n\nfig3.add_trace(go.Scatter(x=xs3, y=np.sin(2*np.pi*1*xs3) + np.sin(2*np.pi*1*xs),\n                    mode='lines',\n                    name='sum'))\nfig3.add_trace(go.Scatter(x = xs3, y = np.sin(2*np.pi*80*xs3), mode = \"lines\", opacity = 0.2, name = \"frequency 1\"))\nfig3.add_trace(go.Scatter(x = xs3, y = np.sin(2*np.pi*80*xs3), mode = \"lines\", opacity = 0.2, name = \"frequency 2\"))\n\nfig3.layout = dict(yaxis=dict(range=[-2,2]), xaxis=dict(range=[0,0.2]),width = 900)\n\nfig3.update_layout(\n    title={\n        'text': r'$y = \\sin(2 \\pi f_1 t) + \\sin(2 \\pi f_2 t)$',\n        'y':0.85,\n        'x':0.5,\n        'xanchor': 'center',\n        'yanchor': 'top'})\n\nfig3.update_xaxes(\n        title_text = r\"$t$\",\n        title_standoff = 15,\n        ticks = 'outside',\n        ticklen = 10,\n        tickcolor='white')\n\nfig3.update_yaxes(\n        title_text = '',\n        title_standoff = 25,\n        ticks = 'outside',\n        ticklen = 10,\n        tickcolor = 'white')\n\nfig3.update_layout(showlegend=False)\n\ndef on_button_clicked(_):\n\n    play(f1.value, f2.value)\n    \n\ndef update_trace(freq1, freq2):\n    \n    fig3.data[0].y = np.sin(2*np.pi*freq1*xs3) + np.sin(2*np.pi*freq2*xs3)\n    fig3.data[1].y = np.sin(2*np.pi*freq1*xs3)\n    fig3.data[2].y = np.sin(2*np.pi*freq2*xs3)\n\n# linking button and function together using a button's method\nbutton.on_click(on_button_clicked)\n# displaying button and its output together\nwidgets.VBox([fig3,button,out3])\n\nvb = widgets.VBox((fig3, interactive(update_trace, freq1 = f1, freq2 = f2), button))\nvb.layout.align_items = 'center'\nvb",
    "id": "c5450169ebad4a9fad8f0f31cc8e32bd",
    "idx": 4,
    "time": "2021-02-02T08:07:41.137Z",
    "type": "execution"
   },
   {
    "code": "import plotly.graph_objs as go\nfrom ipywidgets import interactive, HBox, VBox, widgets, interact\nimport numpy as np\n\nxs = np.linspace(0, 5, 1000)\n\ndef wave(f, phi, x):\n    return np.sin(2*np.pi*f*x + phi)\n\nfig = go.FigureWidget()\n\nfig.layout = dict(yaxis=dict(range=[-1,1]), xaxis=dict(range=[0,5]),width = 1000)\n\nfig.update_layout(\n    title={\n        'text': r'$y = \\sin(2 \\pi f x + \\phi)$',\n        'y':0.85,\n        'x':0.5,\n        'xanchor': 'center',\n        'yanchor': 'top'})\n\nfig.update_xaxes(\n        title_text = r\"$x$\",\n        title_standoff = 15,\n        ticks = 'outside',\n        ticklen = 10,\n        tickcolor='white')\n\nfig.update_yaxes(\n        title_text = '',\n        title_standoff = 25,\n        ticks = 'outside',\n        ticklen = 10,\n        tickcolor = 'white')\n\n\nline = fig.add_trace(go.Scatter(x=xs, y=wave(1, 0, xs),\n                    mode='lines',\n                    name='lines'))\n\nslider = widgets.FloatSlider(\n    value = 1,\n    min=0.1,\n    max=10,\n    step=0.1,\n    readout=True,\n    description=r'$f$')\nslider.layout.width = '400px'\n\nslider2 = widgets.FloatSlider(\n    value = 0,\n    min=-3.14,\n    max=3.14,\n    step=0.01,\n    readout=True,\n    description=r'$\\phi$')\nslider2.layout.width = '400px'\n\n\n# our function that will modify the xaxis range\ndef update_range(frequency, phi):\n    fig.data[0].y=wave(frequency, phi, xs)\n\n\n# display the FigureWidget and slider with center justification\nvb = VBox((fig, interactive(update_range, frequency = slider, phi = slider2)))\nvb.layout.align_items = 'center'\nvb",
    "id": "ae32d172a4894b1b934757ae2aa29371",
    "idx": 1,
    "time": "2021-02-02T17:54:24.587Z",
    "type": "execution"
   },
   {
    "code": "xs2 = np.linspace(0, 5, 500)\n\ndef traveling_wave(k, omega, x, t):\n    return np.sin(k*x - omega*t/10.)\n\nfig2 = go.FigureWidget()\n\nfig2.layout = dict(yaxis=dict(range=[-1,1]), xaxis=dict(range=[0,5]),width = 1000)\n\nfig2.update_layout(\n    title={\n        'text': r'$y = \\sin(kx - \\omega t)$',\n        'y':0.85,\n        'x':0.5,\n        'xanchor': 'center',\n        'yanchor': 'top'})\n\nfig2.update_xaxes(\n        title_text = r\"$x$\",\n        title_standoff = 15,\n        ticks = 'outside',\n        ticklen = 10,\n        tickcolor='white')\n\nfig2.update_yaxes(\n        title_text = '',\n        title_standoff = 25,\n        ticks = 'outside',\n        ticklen = 10,\n        tickcolor = 'white')\n\n\nline2 = fig2.add_trace(go.Scatter(x=xs2, y=traveling_wave(1, 0, xs2, 0),\n                    mode='lines',\n                    name='lines'))\n\nbslider = widgets.FloatSlider(\n    value = 3.14,\n    min=0.1,\n    max=10,\n    step=0.02,\n    readout=True,\n    description=r'$k$')\nbslider.layout.width = '400px'\n\nbslider2 = widgets.FloatSlider(\n    value = 0,\n    min=-1,\n    max=1,\n    step=0.1,\n    readout=True,\n    description=r'$\\omega$')\nbslider2.layout.width = '400px'\n\nplay = widgets.Play(\n    interval = 5,\n    value = 0,\n    min=0,\n    max=500,\n    step=1\n)\n\ndef update2(k, omega, time):\n    fig2.data[0].y=traveling_wave(k, omega, xs2, time)\n\nvb2 = VBox((fig2, interactive(update2, k = bslider, omega = bslider2, time = play)))\nvb2.layout.align_items = 'center'\nvb2",
    "id": "654ad17f77434c0c85ea0445adf81e4c",
    "idx": 2,
    "time": "2021-02-02T17:54:24.589Z",
    "type": "execution"
   },
   {
    "code": "from IPython.display import Audio,display, clear_output\n\ndef play(f1, f2, sec=2):\n    framerate = 44100 # <- rate of sampling\n    t = np.linspace(0, sec, framerate * sec) # <- setup time values\n    data = np.sin(2 * np.pi * f1 * t) + np.sin(2 * np.pi * f2 * t) # <- sine function formula\n    display(InvisibleAudio(data, rate=framerate, autoplay=True)) # play the generated sound\n    \n\nclass InvisibleAudio(Audio):\n    def _repr_html_(self):\n        audio = super()._repr_html_()\n        audio = audio.replace('<audio', f'<audio onended=\"this.parentNode.removeChild(this)\"')\n        return f'<div style=\"display:none\">{audio}</div>'\n",
    "id": "74cd8cbb9ecf4c9987851be3875e274f",
    "idx": 3,
    "time": "2021-02-02T17:54:24.589Z",
    "type": "execution"
   },
   {
    "code": "xs3 = np.linspace(0, 0.2, 1000)\n\nf1 = widgets.IntSlider(value = 1, min = 1, max = 600, step = 1, description = \"frequency 1\")\nf1.layout.width = '400px'\nf2 = widgets.IntSlider(value = 1, min = 1, max = 600, step = 1, description = \"frequency 2\")\nf2.layout.width = '400px'\n\n#xslider = widgets.FloatSlider(value = 0.05, min = 0.01, max = 1, step = 0.01, description = \"xrange\")\n#xslider.layout.width = '400px'\n\nbutton = widgets.Button(description='Play Sound')\nout3 = widgets.Output()\nfig3 = go.FigureWidget()\n\nfig3.add_trace(go.Scatter(x=xs3, y=np.sin(2*np.pi*1*xs3) + np.sin(2*np.pi*1*xs),\n                    mode='lines',\n                    name='sum'))\nfig3.add_trace(go.Scatter(x = xs3, y = np.sin(2*np.pi*80*xs3), mode = \"lines\", opacity = 0.2, name = \"frequency 1\"))\nfig3.add_trace(go.Scatter(x = xs3, y = np.sin(2*np.pi*80*xs3), mode = \"lines\", opacity = 0.2, name = \"frequency 2\"))\n\nfig3.layout = dict(yaxis=dict(range=[-2,2]), xaxis=dict(range=[0,0.2]),width = 900)\n\nfig3.update_layout(\n    title={\n        'text': r'$y = \\sin(2 \\pi f_1 t) + \\sin(2 \\pi f_2 t)$',\n        'y':0.85,\n        'x':0.5,\n        'xanchor': 'center',\n        'yanchor': 'top'})\n\nfig3.update_xaxes(\n        title_text = r\"$t$\",\n        title_standoff = 15,\n        ticks = 'outside',\n        ticklen = 10,\n        tickcolor='white')\n\nfig3.update_yaxes(\n        title_text = '',\n        title_standoff = 25,\n        ticks = 'outside',\n        ticklen = 10,\n        tickcolor = 'white')\n\nfig3.update_layout(showlegend=False)\n\ndef on_button_clicked(_):\n\n    play(f1.value, f2.value)\n    \n\ndef update_trace(freq1, freq2):\n    \n    fig3.data[0].y = np.sin(2*np.pi*freq1*xs3) + np.sin(2*np.pi*freq2*xs3)\n    fig3.data[1].y = np.sin(2*np.pi*freq1*xs3)\n    fig3.data[2].y = np.sin(2*np.pi*freq2*xs3)\n\n# linking button and function together using a button's method\nbutton.on_click(on_button_clicked)\n# displaying button and its output together\nwidgets.VBox([fig3,button,out3])\n\nvb = widgets.VBox((fig3, interactive(update_trace, freq1 = f1, freq2 = f2), button))\nvb.layout.align_items = 'center'\nvb",
    "id": "bb6b3318cecf4a1782c87587561d5935",
    "idx": 4,
    "time": "2021-02-02T17:54:24.590Z",
    "type": "execution"
   },
   {
    "code": "out=widgets.Output()\ndisplay(widgets.VBox((fig3, interactive(update_trace, freq1 = f1, freq2 = f2), button)))\ndisplay(button)\ndisplay(out)",
    "id": "c431e522b0844ac7890573362ea4d234",
    "idx": 5,
    "time": "2021-02-02T17:54:24.591Z",
    "type": "execution"
   },
   {
    "code": "import numpy as np\nimport matplotlib.pyplot as plt\nfrom IPython.display import (\n    Audio, display, clear_output)\nfrom ipywidgets import widgets\nfrom functools import partial\n%matplotlib inline\n\nrate = 16000.\nduration = .25\nt = np.linspace(\n    0., duration, int(rate * duration))\n\ndef synth(f):\n    x = np.sin(f * 2. * np.pi * t)\n    display(Audio(x, rate=rate, autoplay=True))\n    \nsynth(440)\n    \nnotes = 'C,C#,D,D#,E,F,F#,G,G#,A,A#,B,C'.split(',')\nfreqs = 440. * 2**(np.arange(3, 3 + len(notes)) / 12.)\nnotes = list(zip(notes, freqs))\n\nlayout = widgets.Layout(\n    width='30px', height='60px',\n    border='1px solid black')\n\nbuttons = []\nfor note, f in notes:\n    button = widgets.Button(\n        description=note, layout=layout)\n\n    def on_button_clicked(f, b):\n        # When a button is clicked, we play the sound\n        # in a dedicated Output widget.\n        with widgets.Output():\n            synth(f)\n\n    button.on_click(partial(on_button_clicked, f))\n    buttons.append(button)\n\n# We place all buttons horizontally.\nwidgets.Box(children=buttons)",
    "id": "22c32b1cea6b4ebc8430e5ebcbddb34f",
    "idx": 6,
    "time": "2021-02-02T17:54:24.591Z",
    "type": "execution"
   },
   {
    "id": "ae32d172a4894b1b934757ae2aa29371",
    "time": "2021-02-02T17:54:30.736Z",
    "type": "completion"
   },
   {
    "id": "654ad17f77434c0c85ea0445adf81e4c",
    "time": "2021-02-02T17:54:30.894Z",
    "type": "completion"
   },
   {
    "id": "74cd8cbb9ecf4c9987851be3875e274f",
    "time": "2021-02-02T17:54:30.895Z",
    "type": "completion"
   },
   {
    "id": "bb6b3318cecf4a1782c87587561d5935",
    "time": "2021-02-02T17:54:31.060Z",
    "type": "completion"
   },
   {
    "id": "c431e522b0844ac7890573362ea4d234",
    "time": "2021-02-02T17:54:31.077Z",
    "type": "completion"
   },
   {
    "id": "22c32b1cea6b4ebc8430e5ebcbddb34f",
    "time": "2021-02-02T17:54:31.083Z",
    "type": "completion"
   },
   {
    "code": "xs3 = np.linspace(0, 0.2, 1000)\n\nf1 = widgets.IntSlider(value = 1, min = 1, max = 600, step = 1, description = \"frequency 1\")\nf1.layout.width = '400px'\nf2 = widgets.IntSlider(value = 1, min = 1, max = 600, step = 1, description = \"frequency 2\")\nf2.layout.width = '400px'\n\n#xslider = widgets.FloatSlider(value = 0.05, min = 0.01, max = 1, step = 0.01, description = \"xrange\")\n#xslider.layout.width = '400px'\n\nbutton = widgets.Button(description='Play Sound')\nout3 = widgets.Output()\nfig3 = go.FigureWidget()\n\nfig3.add_trace(go.Scatter(x=xs3, y=np.sin(2*np.pi*1*xs3) + np.sin(2*np.pi*1*xs),\n                    mode='lines',\n                    name='sum'))\nfig3.add_trace(go.Scatter(x = xs3, y = np.sin(2*np.pi*80*xs3), mode = \"lines\", opacity = 0.2, name = \"frequency 1\"))\nfig3.add_trace(go.Scatter(x = xs3, y = np.sin(2*np.pi*80*xs3), mode = \"lines\", opacity = 0.2, name = \"frequency 2\"))\n\nfig3.layout = dict(yaxis=dict(range=[-2,2]), xaxis=dict(range=[0,0.2]),width = 900)\n\nfig3.update_layout(\n    title={\n        'text': r'$y = \\sin(2 \\pi f_1 t) + \\sin(2 \\pi f_2 t)$',\n        'y':0.85,\n        'x':0.5,\n        'xanchor': 'center',\n        'yanchor': 'top'})\n\nfig3.update_xaxes(\n        title_text = r\"$t$\",\n        title_standoff = 15,\n        ticks = 'outside',\n        ticklen = 10,\n        tickcolor='white')\n\nfig3.update_yaxes(\n        title_text = '',\n        title_standoff = 25,\n        ticks = 'outside',\n        ticklen = 10,\n        tickcolor = 'white')\n\nfig3.update_layout(showlegend=False)\n\ndef on_button_clicked(_):\n\n    play(f1.value, f2.value)\n    \n\ndef update_trace(freq1, freq2):\n    \n    fig3.data[0].y = np.sin(2*np.pi*freq1*xs3) + np.sin(2*np.pi*freq2*xs3)\n    fig3.data[1].y = np.sin(2*np.pi*freq1*xs3)\n    fig3.data[2].y = np.sin(2*np.pi*freq2*xs3)\n\n# linking button and function together using a button's method\nbutton.on_click(on_button_clicked)\n# displaying button and its output together\nwidgets.VBox([fig3,button,out3])\n\nvb = widgets.VBox((fig3, interactive(update_trace, freq1 = f1, freq2 = f2), button))\nvb.layout.align_items = 'center'\nvb",
    "id": "bb6b3318cecf4a1782c87587561d5935",
    "idx": 4,
    "time": "2021-02-02T17:54:46.521Z",
    "type": "execution"
   },
   {
    "id": "bb6b3318cecf4a1782c87587561d5935",
    "time": "2021-02-02T17:54:47.169Z",
    "type": "completion"
   },
   {
    "code": "import plotly.graph_objs as go\nfrom ipywidgets import interactive, HBox, VBox, widgets, interact\nimport numpy as np\n\nxs = np.linspace(0, 5, 1000)\n\ndef wave(f, phi, x):\n    return np.sin(2*np.pi*f*x + phi)\n\nfig = go.FigureWidget()\n\nfig.layout = dict(yaxis=dict(range=[-1,1]), xaxis=dict(range=[0,5]),width = 1000)\n\nfig.update_layout(\n    title={\n        'text': r'$y = \\sin(2 \\pi F x + \\phi)$',\n        'y':0.85,\n        'x':0.5,\n        'xanchor': 'center',\n        'yanchor': 'top'})\n\nfig.update_xaxes(\n        title_text = r\"$x$\",\n        title_standoff = 15,\n        ticks = 'outside',\n        ticklen = 10,\n        tickcolor='white')\n\nfig.update_yaxes(\n        title_text = '',\n        title_standoff = 25,\n        ticks = 'outside',\n        ticklen = 10,\n        tickcolor = 'white')\n\n\nline = fig.add_trace(go.Scatter(x=xs, y=wave(1, 0, xs),\n                    mode='lines',\n                    name='lines'))\n\nslider = widgets.FloatSlider(\n    value = 1,\n    min=0.1,\n    max=10,\n    step=0.1,\n    readout=True,\n    description=r'$F$')\nslider.layout.width = '400px'\n\nslider2 = widgets.FloatSlider(\n    value = 0,\n    min=-3.14,\n    max=3.14,\n    step=0.01,\n    readout=True,\n    description=r'$\\phi$')\nslider2.layout.width = '400px'\n\n\n# our function that will modify the xaxis range\ndef update_range(frequency, phi):\n    fig.data[0].y=wave(frequency, phi, xs)\n\n\n# display the FigureWidget and slider with center justification\nvb = VBox((fig, interactive(update_range, frequency = slider, phi = slider2)))\nvb.layout.align_items = 'center'\nvb",
    "id": "ae32d172a4894b1b934757ae2aa29371",
    "idx": 2,
    "time": "2021-02-02T17:57:34.696Z",
    "type": "execution"
   },
   {
    "id": "ae32d172a4894b1b934757ae2aa29371",
    "time": "2021-02-02T17:57:35.090Z",
    "type": "completion"
   },
   {
    "code": "import plotly.graph_objs as go\nfrom ipywidgets import interactive, HBox, VBox, widgets, interact\nimport numpy as np\n\nxs = np.linspace(0, 5, 1000)\n\ndef wave(f, phi, x):\n    return np.sin(2*np.pi*f*x + phi)\n\nfig = go.FigureWidget()\n\nfig.layout = dict(yaxis=dict(range=[-1,1]), xaxis=dict(range=[0,5]),width = 1000)\n\nfig.update_layout(\n    title={\n        'text': r'$y = \\sin(2 \\pi \\nu x + \\phi)$',\n        'y':0.85,\n        'x':0.5,\n        'xanchor': 'center',\n        'yanchor': 'top'})\n\nfig.update_xaxes(\n        title_text = r\"$x$\",\n        title_standoff = 15,\n        ticks = 'outside',\n        ticklen = 10,\n        tickcolor='white')\n\nfig.update_yaxes(\n        title_text = '',\n        title_standoff = 25,\n        ticks = 'outside',\n        ticklen = 10,\n        tickcolor = 'white')\n\n\nline = fig.add_trace(go.Scatter(x=xs, y=wave(1, 0, xs),\n                    mode='lines',\n                    name='lines'))\n\nslider = widgets.FloatSlider(\n    value = 1,\n    min=0.1,\n    max=10,\n    step=0.1,\n    readout=True,\n    description=r'$\\nu$')\nslider.layout.width = '400px'\n\nslider2 = widgets.FloatSlider(\n    value = 0,\n    min=-3.14,\n    max=3.14,\n    step=0.01,\n    readout=True,\n    description=r'$\\phi$')\nslider2.layout.width = '400px'\n\n\n# our function that will modify the xaxis range\ndef update_range(frequency, phi):\n    fig.data[0].y=wave(frequency, phi, xs)\n\n\n# display the FigureWidget and slider with center justification\nvb = VBox((fig, interactive(update_range, frequency = slider, phi = slider2)))\nvb.layout.align_items = 'center'\nvb",
    "id": "ae32d172a4894b1b934757ae2aa29371",
    "idx": 2,
    "time": "2021-02-02T17:58:39.677Z",
    "type": "execution"
   },
   {
    "id": "ae32d172a4894b1b934757ae2aa29371",
    "time": "2021-02-02T17:58:40.080Z",
    "type": "completion"
   },
   {
    "code": "[Intro](#intro)",
    "id": "77ea18bb18d0467c899eb1c517d7b97c",
    "idx": 1,
    "time": "2021-02-02T18:12:49.734Z",
    "type": "execution"
   },
   {
    "id": "77ea18bb18d0467c899eb1c517d7b97c",
    "time": "2021-02-02T18:12:49.823Z",
    "type": "completion"
   },
   {
    "code": "import plotly.graph_objs as go\nfrom ipywidgets import interactive, HBox, VBox, widgets, interact\nimport numpy as np\n\nxs = np.linspace(0, 5, 1000)\n\ndef wave(f, phi, x):\n    return np.sin(2*np.pi*f*x + phi)\n\nfig = go.FigureWidget()\n\nfig.layout = dict(yaxis=dict(range=[-1,1]), xaxis=dict(range=[0,5]),width = 1000)\n\nfig.update_layout(\n    title={\n        'text': r'$y = \\sin(2 \\pi  x / \\lambda + \\phi)$',\n        'y':0.85,\n        'x':0.5,\n        'xanchor': 'center',\n        'yanchor': 'top'})\n\nfig.update_xaxes(\n        title_text = r\"$x$\",\n        title_standoff = 15,\n        ticks = 'outside',\n        ticklen = 10,\n        tickcolor='white')\n\nfig.update_yaxes(\n        title_text = '',\n        title_standoff = 25,\n        ticks = 'outside',\n        ticklen = 10,\n        tickcolor = 'white')\n\n\nline = fig.add_trace(go.Scatter(x=xs, y=wave(1, 0, xs),\n                    mode='lines',\n                    name='lines'))\n\nslider = widgets.FloatSlider(\n    value = 1,\n    min=0.1,\n    max=10,\n    step=0.1,\n    readout=True,\n    description=r'$\\nu$')\nslider.layout.width = '400px'\n\nslider2 = widgets.FloatSlider(\n    value = 0,\n    min=-3.14,\n    max=3.14,\n    step=0.01,\n    readout=True,\n    description=r'$\\phi$')\nslider2.layout.width = '400px'\n\n\n# our function that will modify the xaxis range\ndef update_range(frequency, phi):\n    fig.data[0].y=wave(frequency, phi, xs)\n\n\n# display the FigureWidget and slider with center justification\nvb = VBox((fig, interactive(update_range, frequency = slider, phi = slider2)))\nvb.layout.align_items = 'center'\nvb",
    "id": "ae32d172a4894b1b934757ae2aa29371",
    "idx": 10,
    "time": "2021-02-02T19:28:47.899Z",
    "type": "execution"
   },
   {
    "id": "ae32d172a4894b1b934757ae2aa29371",
    "time": "2021-02-02T19:28:48.244Z",
    "type": "completion"
   },
   {
    "code": "import plotly.graph_objs as go\nfrom ipywidgets import interactive, HBox, VBox, widgets, interact\nimport numpy as np\n\nxs = np.linspace(0, 5, 1000)\n\ndef wave(f, phi, x):\n    return np.sin(2*np.pi*f*x + phi)\n\nfig = go.FigureWidget()\n\nfig.layout = dict(yaxis=dict(range=[-1,1]), xaxis=dict(range=[0,5]),width = 1000)\n\nfig.update_layout(\n    title={\n        'text': r'$y = \\sin(\\frac{2 \\pi  x}{\\lambda} + \\phi)$',\n        'y':0.85,\n        'x':0.5,\n        'xanchor': 'center',\n        'yanchor': 'top'})\n\nfig.update_xaxes(\n        title_text = r\"$x$\",\n        title_standoff = 15,\n        ticks = 'outside',\n        ticklen = 10,\n        tickcolor='white')\n\nfig.update_yaxes(\n        title_text = '',\n        title_standoff = 25,\n        ticks = 'outside',\n        ticklen = 10,\n        tickcolor = 'white')\n\n\nline = fig.add_trace(go.Scatter(x=xs, y=wave(1, 0, xs),\n                    mode='lines',\n                    name='lines'))\n\nslider = widgets.FloatSlider(\n    value = 1,\n    min=0.1,\n    max=10,\n    step=0.1,\n    readout=True,\n    description=r'$\\nu$')\nslider.layout.width = '400px'\n\nslider2 = widgets.FloatSlider(\n    value = 0,\n    min=-3.14,\n    max=3.14,\n    step=0.01,\n    readout=True,\n    description=r'$\\phi$')\nslider2.layout.width = '400px'\n\n\n# our function that will modify the xaxis range\ndef update_range(frequency, phi):\n    fig.data[0].y=wave(frequency, phi, xs)\n\n\n# display the FigureWidget and slider with center justification\nvb = VBox((fig, interactive(update_range, frequency = slider, phi = slider2)))\nvb.layout.align_items = 'center'\nvb",
    "id": "ae32d172a4894b1b934757ae2aa29371",
    "idx": 10,
    "time": "2021-02-02T19:29:01.836Z",
    "type": "execution"
   },
   {
    "id": "ae32d172a4894b1b934757ae2aa29371",
    "time": "2021-02-02T19:29:02.130Z",
    "type": "completion"
   },
   {
    "code": "import plotly.graph_objs as go\nfrom ipywidgets import interactive, HBox, VBox, widgets, interact\nimport numpy as np\n\nxs = np.linspace(0, 5, 1000)\n\ndef wave(lam, phi, x):\n    return np.sin(2*np.pi*x/lam + phi)\n\nfig = go.FigureWidget()\n\nfig.layout = dict(yaxis=dict(range=[-1,1]), xaxis=dict(range=[0,5]),width = 1000)\n\nfig.update_layout(\n    title={\n        'text': r'$y = \\sin(\\frac{2 \\pi  x}{\\lambda} + \\phi)$',\n        'y':0.85,\n        'x':0.5,\n        'xanchor': 'center',\n        'yanchor': 'top'})\n\nfig.update_xaxes(\n        title_text = r\"$x$\",\n        title_standoff = 15,\n        ticks = 'outside',\n        ticklen = 10,\n        tickcolor='white')\n\nfig.update_yaxes(\n        title_text = '',\n        title_standoff = 25,\n        ticks = 'outside',\n        ticklen = 10,\n        tickcolor = 'white')\n\n\nline = fig.add_trace(go.Scatter(x=xs, y=wave(1, 0, xs),\n                    mode='lines',\n                    name='lines'))\n\nslider = widgets.FloatSlider(\n    value = 1,\n    min=0.1,\n    max=10,\n    step=0.1,\n    readout=True,\n    description=r'$\\lambda$')\nslider.layout.width = '400px'\n\nslider2 = widgets.FloatSlider(\n    value = 0,\n    min=-3.14,\n    max=3.14,\n    step=0.01,\n    readout=True,\n    description=r'$\\phi$')\nslider2.layout.width = '400px'\n\n\n# our function that will modify the xaxis range\ndef update_range(lam, phi):\n    fig.data[0].y=wave(lam, phi, xs)\n\n\n# display the FigureWidget and slider with center justification\nvb = VBox((fig, interactive(update_range, lam = slider, phi = slider2)))\nvb.layout.align_items = 'center'\nvb",
    "id": "ae32d172a4894b1b934757ae2aa29371",
    "idx": 10,
    "time": "2021-02-02T19:29:53.137Z",
    "type": "execution"
   },
   {
    "id": "ae32d172a4894b1b934757ae2aa29371",
    "time": "2021-02-02T19:29:53.427Z",
    "type": "completion"
   },
   {
    "code": "import plotly.graph_objs as go\nfrom ipywidgets import interactive, HBox, VBox, widgets, interact\nimport numpy as np\n\nxs = np.linspace(0, 5, 1000)\n\ndef wave(lam, phi, x):\n    return np.sin(2*np.pi*x/lam + phi)\n\nfig = go.FigureWidget()\n\nfig.layout = dict(yaxis=dict(range=[-1,1]), xaxis=dict(range=[0,5]),width = 1000)\n\nfig.update_layout(\n    title={\n        'text': r'$y = \\sin\\Big(\\frac{2 \\pi  x}{\\lambda} + \\phi\\Big)$',\n        'y':0.85,\n        'x':0.5,\n        'xanchor': 'center',\n        'yanchor': 'top'})\n\nfig.update_xaxes(\n        title_text = r\"$x$\",\n        title_standoff = 15,\n        ticks = 'outside',\n        ticklen = 10,\n        tickcolor='white')\n\nfig.update_yaxes(\n        title_text = '',\n        title_standoff = 25,\n        ticks = 'outside',\n        ticklen = 10,\n        tickcolor = 'white')\n\n\nline = fig.add_trace(go.Scatter(x=xs, y=wave(1, 0, xs),\n                    mode='lines',\n                    name='lines'))\n\nslider = widgets.FloatSlider(\n    value = 1,\n    min=0.1,\n    max=10,\n    step=0.1,\n    readout=True,\n    description=r'$\\lambda$')\nslider.layout.width = '400px'\n\nslider2 = widgets.FloatSlider(\n    value = 0,\n    min=-3.14,\n    max=3.14,\n    step=0.01,\n    readout=True,\n    description=r'$\\phi$')\nslider2.layout.width = '400px'\n\n\n# our function that will modify the xaxis range\ndef update_range(lam, phi):\n    fig.data[0].y=wave(lam, phi, xs)\n\n\n# display the FigureWidget and slider with center justification\nvb = VBox((fig, interactive(update_range, lam = slider, phi = slider2)))\nvb.layout.align_items = 'center'\nvb",
    "id": "ae32d172a4894b1b934757ae2aa29371",
    "idx": 10,
    "time": "2021-02-02T19:32:55.440Z",
    "type": "execution"
   },
   {
    "id": "ae32d172a4894b1b934757ae2aa29371",
    "time": "2021-02-02T19:32:55.781Z",
    "type": "completion"
   },
   {
    "code": "import plotly.graph_objs as go\nfrom ipywidgets import interactive, HBox, VBox, widgets, interact\nimport numpy as np\n\nxs = np.linspace(0, 5, 1000)\n\ndef wave(lam, phi, x):\n    return np.sin(2*np.pi*x/lam + phi)\n\nfig = go.FigureWidget()\n\nfig.layout = dict(yaxis=dict(range=[-1,1]), xaxis=dict(range=[0,5]),width = 1000)\n\nfig.update_layout(\n    title={\n        'text': r'$y = \\sin \\Big(\\frac{2 \\pi  x}{\\lambda} + \\phi \\Big)$',\n        'y':0.85,\n        'x':0.5,\n        'xanchor': 'center',\n        'yanchor': 'top'})\n\nfig.update_xaxes(\n        title_text = r\"$x$\",\n        title_standoff = 15,\n        ticks = 'outside',\n        ticklen = 10,\n        tickcolor='white')\n\nfig.update_yaxes(\n        title_text = '',\n        title_standoff = 25,\n        ticks = 'outside',\n        ticklen = 10,\n        tickcolor = 'white')\n\n\nline = fig.add_trace(go.Scatter(x=xs, y=wave(1, 0, xs),\n                    mode='lines',\n                    name='lines'))\n\nslider = widgets.FloatSlider(\n    value = 1,\n    min=0.1,\n    max=10,\n    step=0.1,\n    readout=True,\n    description=r'$\\lambda$')\nslider.layout.width = '400px'\n\nslider2 = widgets.FloatSlider(\n    value = 0,\n    min=-3.14,\n    max=3.14,\n    step=0.01,\n    readout=True,\n    description=r'$\\phi$')\nslider2.layout.width = '400px'\n\n\n# our function that will modify the xaxis range\ndef update_range(lam, phi):\n    fig.data[0].y=wave(lam, phi, xs)\n\n\n# display the FigureWidget and slider with center justification\nvb = VBox((fig, interactive(update_range, lam = slider, phi = slider2)))\nvb.layout.align_items = 'center'\nvb",
    "id": "ae32d172a4894b1b934757ae2aa29371",
    "idx": 10,
    "time": "2021-02-02T19:33:00.919Z",
    "type": "execution"
   },
   {
    "id": "ae32d172a4894b1b934757ae2aa29371",
    "time": "2021-02-02T19:33:01.217Z",
    "type": "completion"
   },
   {
    "code": "import plotly.graph_objs as go\nfrom ipywidgets import interactive, HBox, VBox, widgets, interact\nimport numpy as np\n\nxs = np.linspace(0, 5, 1000)\n\ndef wave(lam, phi, x):\n    return np.sin(2*np.pi*x/lam + phi)\n\nfig = go.FigureWidget()\n\nfig.layout = dict(yaxis=dict(range=[-1,1]), xaxis=dict(range=[0,5]),width = 1000)\n\nfig.update_layout(\n    title={\n        'text': r'$y = \\sin \\Big(\\frac{2 \\pi  x}{\\lambda} + \\phi \\Big)$',\n        'y':0.85,\n        'x':0.5,\n        'xanchor': 'center',\n        'yanchor': 'top'})\n\nfig.update_xaxes(\n        title_text = r\"$x$\",\n        title_standoff = 15,\n        ticks = 'outside',\n        ticklen = 10,\n        tickcolor='white')\n\nfig.update_yaxes(\n        title_text = '',\n        title_standoff = 25,\n        ticks = 'outside',\n        ticklen = 10,\n        tickcolor = 'white')\n\n\nline = fig.add_trace(go.Scatter(x=xs, y=wave(1, 0, xs),\n                    mode='lines',\n                    name='lines'))\n\nslider = widgets.FloatSlider(\n    value = 1,\n    min=0.1,\n    max=10,\n    step=0.1,\n    readout=True,\n    description=r'$\\lambda$')\nslider.layout.width = '400px'\n\nslider2 = widgets.FloatSlider(\n    value = 0,\n    min=-3.14,\n    max=3.14,\n    step=0.01,\n    readout=True,\n    description=r'$\\phi$')\nslider2.layout.width = '400px'\n\n\n# our function that will modify the xaxis range\ndef update_range(lam, phi):\n    fig.data[0].y=wave(lam, phi, xs)\n\n\n# display the FigureWidget and slider with center justification\nvb = VBox((fig, interactive(update_range, lam = slider, phi = slider2)))\nvb.layout.align_items = 'center'\nvb",
    "id": "ae32d172a4894b1b934757ae2aa29371",
    "idx": 10,
    "time": "2021-02-02T19:34:52.572Z",
    "type": "execution"
   },
   {
    "id": "ae32d172a4894b1b934757ae2aa29371",
    "time": "2021-02-02T19:34:52.884Z",
    "type": "completion"
   },
   {
    "code": "from IPython.display import Audio,display, clear_output\n\ndef play(f1, f2, sec=2):\n    framerate = 44100 # <- rate of sampling\n    t = np.linspace(0, sec, framerate * sec) # <- setup time values\n    data = np.sin(2 * np.pi * f1 * t) + np.sin(2 * np.pi * f2 * t) # <- sine function formula\n    display(InvisibleAudio(data, rate=framerate, autoplay=True)) # play the generated sound\n    \n\nclass InvisibleAudio(Audio):\n    def _repr_html_(self):\n        audio = super()._repr_html_()\n        audio = audio.replace('<audio', f'<audio onended=\"this.parentNode.removeChild(this)\"')\n        return f'<div style=\"display:none\">{audio}</div>'\n",
    "id": "74cd8cbb9ecf4c9987851be3875e274f",
    "idx": 20,
    "time": "2021-02-02T20:52:54.194Z",
    "type": "execution"
   },
   {
    "id": "74cd8cbb9ecf4c9987851be3875e274f",
    "time": "2021-02-02T20:52:54.263Z",
    "type": "completion"
   },
   {
    "code": "xs3 = np.linspace(0, 0.2, 1000)\n\nf1 = widgets.IntSlider(value = 1, min = 1, max = 600, step = 1, description = \"frequency 1\")\nf1.layout.width = '400px'\nf2 = widgets.IntSlider(value = 1, min = 1, max = 600, step = 1, description = \"frequency 2\")\nf2.layout.width = '400px'\n\n#xslider = widgets.FloatSlider(value = 0.05, min = 0.01, max = 1, step = 0.01, description = \"xrange\")\n#xslider.layout.width = '400px'\n\nbutton = widgets.Button(description='Play Sound')\nout3 = widgets.Output()\nfig3 = go.FigureWidget()\n\nfig3.add_trace(go.Scatter(x=xs3, y=np.sin(2*np.pi*1*xs3) + np.sin(2*np.pi*1*xs),\n                    mode='lines',\n                    name='sum'))\nfig3.add_trace(go.Scatter(x = xs3, y = np.sin(2*np.pi*80*xs3), mode = \"lines\", opacity = 0.2, name = \"frequency 1\"))\nfig3.add_trace(go.Scatter(x = xs3, y = np.sin(2*np.pi*80*xs3), mode = \"lines\", opacity = 0.2, name = \"frequency 2\"))\n\nfig3.layout = dict(yaxis=dict(range=[-2,2]), xaxis=dict(range=[0,0.2]),width = 900)\n\nfig3.update_layout(\n    title={\n        'text': r'$y = \\sin(2 \\pi f_1 t) + \\sin(2 \\pi f_2 t)$',\n        'y':0.85,\n        'x':0.5,\n        'xanchor': 'center',\n        'yanchor': 'top'})\n\nfig3.update_xaxes(\n        title_text = r\"$t$\",\n        title_standoff = 15,\n        ticks = 'outside',\n        ticklen = 10,\n        tickcolor='white')\n\nfig3.update_yaxes(\n        title_text = '',\n        title_standoff = 25,\n        ticks = 'outside',\n        ticklen = 10,\n        tickcolor = 'white')\n\nfig3.update_layout(showlegend=False)\n\ndef on_button_clicked(_):\n\n    play(f1.value, f2.value)\n    \n\ndef update_trace(freq1, freq2):\n    \n    fig3.data[0].y = np.sin(2*np.pi*freq1*xs3) + np.sin(2*np.pi*freq2*xs3)\n    fig3.data[1].y = np.sin(2*np.pi*freq1*xs3)\n    fig3.data[2].y = np.sin(2*np.pi*freq2*xs3)\n\n# linking button and function together using a button's method\nbutton.on_click(on_button_clicked)\n# displaying button and its output together\nwidgets.VBox([fig3,button,out3])\n\nvb = widgets.VBox((fig3, interactive(update_trace, freq1 = f1, freq2 = f2), button))\nvb.layout.align_items = 'center'\nvb",
    "id": "bb6b3318cecf4a1782c87587561d5935",
    "idx": 21,
    "time": "2021-02-02T20:52:54.733Z",
    "type": "execution"
   },
   {
    "id": "bb6b3318cecf4a1782c87587561d5935",
    "time": "2021-02-02T20:52:55.306Z",
    "type": "completion"
   },
   {
    "code": "xs3 = np.linspace(0, 0.2, 1000)\n\nf1 = widgets.IntSlider(value = 1, min = 1, max = 600, step = 1, description = \"frequency 1\")\nf1.layout.width = '400px'\nf2 = widgets.IntSlider(value = 1, min = 1, max = 600, step = 1, description = \"frequency 2\")\nf2.layout.width = '400px'\n\nbutton = widgets.Button(description='Play Sound')\nout3 = widgets.Output()\nfig3 = go.FigureWidget()\n\nfig3.add_trace(go.Scatter(x=xs3, y=np.sin(2*np.pi*1*xs3) + np.sin(2*np.pi*1*xs),\n                    mode='lines',\n                    name='sum'))\nfig3.add_trace(go.Scatter(x = xs3, y = np.sin(2*np.pi*80*xs3), mode = \"lines\", opacity = 0.2, name = \"frequency 1\"))\nfig3.add_trace(go.Scatter(x = xs3, y = np.sin(2*np.pi*80*xs3), mode = \"lines\", opacity = 0.2, name = \"frequency 2\"))\n\nfig3.layout = dict(yaxis=dict(range=[-2,2]), xaxis=dict(range=[0,0.2]),width = 900)\n\nfig3.update_layout(\n    title={\n        'text': r'$y = \\sin(2 \\pi f_1 t) + \\sin(2 \\pi f_2 t)$',\n        'y':0.85,\n        'x':0.5,\n        'xanchor': 'center',\n        'yanchor': 'top'})\n\nfig3.update_xaxes(\n        title_text = r\"$t$ (seconds)\",\n        title_standoff = 15,\n        ticks = 'outside',\n        ticklen = 10,\n        tickcolor='white')\n\nfig3.update_yaxes(\n        title_text = '',\n        title_standoff = 25,\n        ticks = 'outside',\n        ticklen = 10,\n        tickcolor = 'white')\n\nfig3.update_layout(showlegend=False)\n\ndef on_button_clicked(_):\n\n    play(f1.value, f2.value)\n    \n\ndef update_trace(freq1, freq2):\n    \n    fig3.data[0].y = np.sin(2*np.pi*freq1*xs3) + np.sin(2*np.pi*freq2*xs3)\n    fig3.data[1].y = np.sin(2*np.pi*freq1*xs3)\n    fig3.data[2].y = np.sin(2*np.pi*freq2*xs3)\n\nbutton.on_click(on_button_clicked)\n\nwidgets.VBox([fig3,button,out3])\nvb = widgets.VBox((fig3, interactive(update_trace, freq1 = f1, freq2 = f2), button))\nvb.layout.align_items = 'center'\nvb",
    "id": "bb6b3318cecf4a1782c87587561d5935",
    "idx": 21,
    "time": "2021-02-02T21:06:13.004Z",
    "type": "execution"
   },
   {
    "id": "bb6b3318cecf4a1782c87587561d5935",
    "time": "2021-02-02T21:06:13.523Z",
    "type": "completion"
   },
   {
    "code": "xs3 = np.linspace(0, 0.2, 1000)\n\nf1 = widgets.IntSlider(value = 1, min = 1, max = 600, step = 1, description = \"frequency 1\")\nf1.layout.width = '400px'\nf2 = widgets.IntSlider(value = 1, min = 1, max = 600, step = 1, description = \"frequency 2\")\nf2.layout.width = '400px'\n\nbutton = widgets.Button(description='Play Sound')\nout3 = widgets.Output()\nfig3 = go.FigureWidget()\n\nfig3.add_trace(go.Scatter(x=xs3, y=np.sin(2*np.pi*1*xs3) + np.sin(2*np.pi*1*xs),\n                    mode='lines',\n                    name='sum'))\nfig3.add_trace(go.Scatter(x = xs3, y = np.sin(2*np.pi*80*xs3), mode = \"lines\", opacity = 0.2, name = \"frequency 1\"))\nfig3.add_trace(go.Scatter(x = xs3, y = np.sin(2*np.pi*80*xs3), mode = \"lines\", opacity = 0.2, name = \"frequency 2\"))\n\nfig3.layout = dict(yaxis=dict(range=[-2,2]), xaxis=dict(range=[0,0.2]),width = 900)\n\nfig3.update_layout(\n    title={\n        'text': r'$y = \\sin(2 \\pi f_1 t) + \\sin(2 \\pi f_2 t)$',\n        'y':0.85,\n        'x':0.5,\n        'xanchor': 'center',\n        'yanchor': 'top'})\n\nfig3.update_xaxes(\n        title_text = r\"$t (\\text{seconds})$\",\n        title_standoff = 15,\n        ticks = 'outside',\n        ticklen = 10,\n        tickcolor='white')\n\nfig3.update_yaxes(\n        title_text = '',\n        title_standoff = 25,\n        ticks = 'outside',\n        ticklen = 10,\n        tickcolor = 'white')\n\nfig3.update_layout(showlegend=False)\n\ndef on_button_clicked(_):\n\n    play(f1.value, f2.value)\n    \n\ndef update_trace(freq1, freq2):\n    \n    fig3.data[0].y = np.sin(2*np.pi*freq1*xs3) + np.sin(2*np.pi*freq2*xs3)\n    fig3.data[1].y = np.sin(2*np.pi*freq1*xs3)\n    fig3.data[2].y = np.sin(2*np.pi*freq2*xs3)\n\nbutton.on_click(on_button_clicked)\n\nwidgets.VBox([fig3,button,out3])\nvb = widgets.VBox((fig3, interactive(update_trace, freq1 = f1, freq2 = f2), button))\nvb.layout.align_items = 'center'\nvb",
    "id": "bb6b3318cecf4a1782c87587561d5935",
    "idx": 21,
    "time": "2021-02-02T21:06:33.657Z",
    "type": "execution"
   },
   {
    "id": "bb6b3318cecf4a1782c87587561d5935",
    "time": "2021-02-02T21:06:34.236Z",
    "type": "completion"
   },
   {
    "code": "xs3 = np.linspace(0, 0.2, 1000)\n\nf1 = widgets.IntSlider(value = 1, min = 1, max = 600, step = 1, description = \"frequency 1\")\nf1.layout.width = '400px'\nf2 = widgets.IntSlider(value = 1, min = 1, max = 600, step = 1, description = \"frequency 2\")\nf2.layout.width = '400px'\n\nbutton = widgets.Button(description='Play Sound')\nout3 = widgets.Output()\nfig3 = go.FigureWidget()\n\nfig3.add_trace(go.Scatter(x=xs3, y=np.sin(2*np.pi*1*xs3) + np.sin(2*np.pi*1*xs),\n                    mode='lines',\n                    name='sum'))\nfig3.add_trace(go.Scatter(x = xs3, y = np.sin(2*np.pi*80*xs3), mode = \"lines\", opacity = 0.2, name = \"frequency 1\"))\nfig3.add_trace(go.Scatter(x = xs3, y = np.sin(2*np.pi*80*xs3), mode = \"lines\", opacity = 0.2, name = \"frequency 2\"))\n\nfig3.layout = dict(yaxis=dict(range=[-2,2]), xaxis=dict(range=[0,0.2]),width = 900)\n\nfig3.update_layout(\n    title={\n        'text': r'$y = \\sin(2 \\pi f_1 t) + \\sin(2 \\pi f_2 t)$',\n        'y':0.85,\n        'x':0.5,\n        'xanchor': 'center',\n        'yanchor': 'top'})\n\nfig3.update_xaxes(\n        title_text = r\"$t \\text{ (seconds})$\",\n        title_standoff = 15,\n        ticks = 'outside',\n        ticklen = 10,\n        tickcolor='white')\n\nfig3.update_yaxes(\n        title_text = '',\n        title_standoff = 25,\n        ticks = 'outside',\n        ticklen = 10,\n        tickcolor = 'white')\n\nfig3.update_layout(showlegend=False)\n\ndef on_button_clicked(_):\n\n    play(f1.value, f2.value)\n    \n\ndef update_trace(freq1, freq2):\n    \n    fig3.data[0].y = np.sin(2*np.pi*freq1*xs3) + np.sin(2*np.pi*freq2*xs3)\n    fig3.data[1].y = np.sin(2*np.pi*freq1*xs3)\n    fig3.data[2].y = np.sin(2*np.pi*freq2*xs3)\n\nbutton.on_click(on_button_clicked)\n\nwidgets.VBox([fig3,button,out3])\nvb = widgets.VBox((fig3, interactive(update_trace, freq1 = f1, freq2 = f2), button))\nvb.layout.align_items = 'center'\nvb",
    "id": "bb6b3318cecf4a1782c87587561d5935",
    "idx": 21,
    "time": "2021-02-02T21:06:48.086Z",
    "type": "execution"
   },
   {
    "id": "bb6b3318cecf4a1782c87587561d5935",
    "time": "2021-02-02T21:06:48.598Z",
    "type": "completion"
   },
   {
    "code": "from IPython.display import HTML\n\nHTML('''<script>\ncode_show=true; \nfunction code_toggle() {\n if (code_show){\n $('div.input').hide();\n } else {\n $('div.input').show();\n }\n code_show = !code_show\n} \n$( document ).ready(code_toggle);\n</script>\n<form action=\"javascript:code_toggle()\"><input type=\"submit\" value=\"Click here to toggle on/off the raw code.\"></form>''')",
    "id": "1fef5c1f4ff94f15821c0b20b7bdd00e",
    "idx": 10,
    "time": "2021-02-02T21:27:48.811Z",
    "type": "execution"
   },
   {
    "code": "import plotly.graph_objs as go\nfrom ipywidgets import interactive, HBox, VBox, widgets, interact\nimport numpy as np\n\nxs = np.linspace(0, 5, 1000)\n\ndef wave(lam, phi, x):\n    \n    return np.sin(2*np.pi*x/lam + phi)\n\nfig = go.FigureWidget()\n\nfig.layout = dict(yaxis=dict(range=[-1,1]), xaxis=dict(range=[0,5]),width = 1000)\n\nfig.update_layout(\n    title={\n        'text': r'$y = \\sin \\Big(\\frac{2 \\pi  x}{\\lambda} + \\phi \\Big)$',\n        'y':0.85,\n        'x':0.5,\n        'xanchor': 'center',\n        'yanchor': 'top'})\n\nfig.update_xaxes(\n        title_text = r\"$x$\",\n        title_standoff = 15,\n        ticks = 'outside',\n        ticklen = 10,\n        tickcolor='white')\n\nfig.update_yaxes(\n        title_text = '',\n        title_standoff = 25,\n        ticks = 'outside',\n        ticklen = 10,\n        tickcolor = 'white')\n\n\nline = fig.add_trace(go.Scatter(x=xs, y=wave(1, 0, xs),\n                    mode='lines',\n                    name='lines'))\n\nslider = widgets.FloatSlider(\n    value = 1,\n    min=0.1,\n    max=10,\n    step=0.1,\n    readout=True,\n    description=r'$\\lambda$')\nslider.layout.width = '400px'\n\nslider2 = widgets.FloatSlider(\n    value = 0,\n    min=-3.14,\n    max=3.14,\n    step=0.01,\n    readout=True,\n    description=r'$\\phi$')\nslider2.layout.width = '400px'\n\ndef update_range(lam, phi):\n    fig.data[0].y=wave(lam, phi, xs)\n\nvb = VBox((fig, interactive(update_range, lam = slider, phi = slider2)))\nvb.layout.align_items = 'center'\nvb",
    "id": "ae32d172a4894b1b934757ae2aa29371",
    "idx": 11,
    "time": "2021-02-02T21:27:48.832Z",
    "type": "execution"
   },
   {
    "code": "xs2 = np.linspace(0, 5, 500)\n\ndef traveling_wave(k, omega, x, t):\n    return np.sin(k*x - omega*t/10.)\n\nfig2 = go.FigureWidget()\n\nfig2.layout = dict(yaxis=dict(range=[-1,1]), xaxis=dict(range=[0,5]),width = 1000)\n\nfig2.update_layout(\n    title={\n        'text': r'$y = \\sin(kx - \\omega t)$',\n        'y':0.85,\n        'x':0.5,\n        'xanchor': 'center',\n        'yanchor': 'top'})\n\nfig2.update_xaxes(\n        title_text = r\"$x$\",\n        title_standoff = 15,\n        ticks = 'outside',\n        ticklen = 10,\n        tickcolor='white')\n\nfig2.update_yaxes(\n        title_text = '',\n        title_standoff = 25,\n        ticks = 'outside',\n        ticklen = 10,\n        tickcolor = 'white')\n\n\nline2 = fig2.add_trace(go.Scatter(x=xs2, y=traveling_wave(1, 0, xs2, 0),\n                    mode='lines',\n                    name='lines'))\n\nbslider = widgets.FloatSlider(\n    value = 3.14,\n    min=0.1,\n    max=10,\n    step=0.02,\n    readout=True,\n    description=r'$k$')\nbslider.layout.width = '400px'\n\nbslider2 = widgets.FloatSlider(\n    value = 0,\n    min=-1,\n    max=1,\n    step=0.1,\n    readout=True,\n    description=r'$\\omega$')\nbslider2.layout.width = '400px'\n\nplay = widgets.Play(\n    interval = 5,\n    value = 0,\n    min=0,\n    max=500,\n    step=1\n)\n\ndef update2(k, omega, time):\n    \n    fig2.data[0].y=traveling_wave(k, omega, xs2, time)\n\nvb2 = VBox((fig2, interactive(update2, k = bslider, omega = bslider2, time = play)))\nvb2.layout.align_items = 'center'\nvb2",
    "id": "654ad17f77434c0c85ea0445adf81e4c",
    "idx": 16,
    "time": "2021-02-02T21:27:48.836Z",
    "type": "execution"
   },
   {
    "code": "from IPython.display import Audio,display, clear_output\n\ndef play(f1, f2, sec=2):\n    \n    framerate = 44100\n    t = np.linspace(0, sec, framerate * sec)\n    data = np.sin(2 * np.pi * f1 * t) + np.sin(2 * np.pi * f2 * t)\n    display(InvisibleAudio(data, rate=framerate, autoplay=True))\n    \n\nclass InvisibleAudio(Audio):\n    \n    def _repr_html_(self):\n        audio = super()._repr_html_()\n        audio = audio.replace('<audio', f'<audio onended=\"this.parentNode.removeChild(this)\"')\n        return f'<div style=\"display:none\">{audio}</div>'",
    "id": "74cd8cbb9ecf4c9987851be3875e274f",
    "idx": 21,
    "time": "2021-02-02T21:27:48.839Z",
    "type": "execution"
   },
   {
    "code": "xs3 = np.linspace(0, 0.2, 1000)\n\nf1 = widgets.IntSlider(value = 1, min = 1, max = 600, step = 1, description = \"frequency 1\")\nf1.layout.width = '400px'\nf2 = widgets.IntSlider(value = 1, min = 1, max = 600, step = 1, description = \"frequency 2\")\nf2.layout.width = '400px'\n\nbutton = widgets.Button(description='Play Sound')\nout3 = widgets.Output()\nfig3 = go.FigureWidget()\n\nfig3.add_trace(go.Scatter(x=xs3, y=np.sin(2*np.pi*1*xs3) + np.sin(2*np.pi*1*xs),\n                    mode='lines',\n                    name='sum'))\nfig3.add_trace(go.Scatter(x = xs3, y = np.sin(2*np.pi*80*xs3), mode = \"lines\", opacity = 0.2, name = \"frequency 1\"))\nfig3.add_trace(go.Scatter(x = xs3, y = np.sin(2*np.pi*80*xs3), mode = \"lines\", opacity = 0.2, name = \"frequency 2\"))\n\nfig3.layout = dict(yaxis=dict(range=[-2,2]), xaxis=dict(range=[0,0.2]),width = 900)\n\nfig3.update_layout(\n    title={\n        'text': r'$y = \\sin(2 \\pi f_1 t) + \\sin(2 \\pi f_2 t)$',\n        'y':0.85,\n        'x':0.5,\n        'xanchor': 'center',\n        'yanchor': 'top'})\n\nfig3.update_xaxes(\n        title_text = r\"$t \\text{ (seconds})$\",\n        title_standoff = 15,\n        ticks = 'outside',\n        ticklen = 10,\n        tickcolor='white')\n\nfig3.update_yaxes(\n        title_text = '',\n        title_standoff = 25,\n        ticks = 'outside',\n        ticklen = 10,\n        tickcolor = 'white')\n\nfig3.update_layout(showlegend=False)\n\ndef on_button_clicked(_):\n\n    play(f1.value, f2.value)\n    \n\ndef update_trace(freq1, freq2):\n    \n    fig3.data[0].y = np.sin(2*np.pi*freq1*xs3) + np.sin(2*np.pi*freq2*xs3)\n    fig3.data[1].y = np.sin(2*np.pi*freq1*xs3)\n    fig3.data[2].y = np.sin(2*np.pi*freq2*xs3)\n\nbutton.on_click(on_button_clicked)\n\nwidgets.VBox([fig3,button,out3])\nvb = widgets.VBox((fig3, interactive(update_trace, freq1 = f1, freq2 = f2), button))\nvb.layout.align_items = 'center'\nvb",
    "id": "bb6b3318cecf4a1782c87587561d5935",
    "idx": 22,
    "time": "2021-02-02T21:27:48.841Z",
    "type": "execution"
   },
   {
    "id": "1fef5c1f4ff94f15821c0b20b7bdd00e",
    "time": "2021-02-02T21:27:48.930Z",
    "type": "completion"
   },
   {
    "id": "ae32d172a4894b1b934757ae2aa29371",
    "time": "2021-02-02T21:27:49.539Z",
    "type": "completion"
   },
   {
    "id": "654ad17f77434c0c85ea0445adf81e4c",
    "time": "2021-02-02T21:27:49.830Z",
    "type": "completion"
   },
   {
    "id": "74cd8cbb9ecf4c9987851be3875e274f",
    "time": "2021-02-02T21:27:49.831Z",
    "type": "completion"
   },
   {
    "id": "bb6b3318cecf4a1782c87587561d5935",
    "time": "2021-02-02T21:27:50.184Z",
    "type": "completion"
   },
   {
    "code": "from IPython.display import HTML\n\nHTML('''<script>\ncode_show=true; \nfunction code_toggle() {\n if (code_show){\n $('div.input').hide();\n } else {\n $('div.input').show();\n }\n code_show = !code_show\n} \n$( document ).ready(code_toggle);\n</script>\n<form action=\"javascript:code_toggle()\"><input type=\"submit\" value=\"Click here to toggle on/off the raw code.\"></form>''')",
    "id": "1fef5c1f4ff94f15821c0b20b7bdd00e",
    "idx": 9,
    "time": "2021-02-02T21:28:07.377Z",
    "type": "execution"
   },
   {
    "code": "import plotly.graph_objs as go\nfrom ipywidgets import interactive, HBox, VBox, widgets, interact\nimport numpy as np\n\nxs = np.linspace(0, 5, 1000)\n\ndef wave(lam, phi, x):\n    \n    return np.sin(2*np.pi*x/lam + phi)\n\nfig = go.FigureWidget()\n\nfig.layout = dict(yaxis=dict(range=[-1,1]), xaxis=dict(range=[0,5]),width = 1000)\n\nfig.update_layout(\n    title={\n        'text': r'$y = \\sin \\Big(\\frac{2 \\pi  x}{\\lambda} + \\phi \\Big)$',\n        'y':0.85,\n        'x':0.5,\n        'xanchor': 'center',\n        'yanchor': 'top'})\n\nfig.update_xaxes(\n        title_text = r\"$x$\",\n        title_standoff = 15,\n        ticks = 'outside',\n        ticklen = 10,\n        tickcolor='white')\n\nfig.update_yaxes(\n        title_text = '',\n        title_standoff = 25,\n        ticks = 'outside',\n        ticklen = 10,\n        tickcolor = 'white')\n\n\nline = fig.add_trace(go.Scatter(x=xs, y=wave(1, 0, xs),\n                    mode='lines',\n                    name='lines'))\n\nslider = widgets.FloatSlider(\n    value = 1,\n    min=0.1,\n    max=10,\n    step=0.1,\n    readout=True,\n    description=r'$\\lambda$')\nslider.layout.width = '400px'\n\nslider2 = widgets.FloatSlider(\n    value = 0,\n    min=-3.14,\n    max=3.14,\n    step=0.01,\n    readout=True,\n    description=r'$\\phi$')\nslider2.layout.width = '400px'\n\ndef update_range(lam, phi):\n    fig.data[0].y=wave(lam, phi, xs)\n\nvb = VBox((fig, interactive(update_range, lam = slider, phi = slider2)))\nvb.layout.align_items = 'center'\nvb",
    "id": "ae32d172a4894b1b934757ae2aa29371",
    "idx": 10,
    "time": "2021-02-02T21:28:07.380Z",
    "type": "execution"
   },
   {
    "code": "xs2 = np.linspace(0, 5, 500)\n\ndef traveling_wave(k, omega, x, t):\n    return np.sin(k*x - omega*t/10.)\n\nfig2 = go.FigureWidget()\n\nfig2.layout = dict(yaxis=dict(range=[-1,1]), xaxis=dict(range=[0,5]),width = 1000)\n\nfig2.update_layout(\n    title={\n        'text': r'$y = \\sin(kx - \\omega t)$',\n        'y':0.85,\n        'x':0.5,\n        'xanchor': 'center',\n        'yanchor': 'top'})\n\nfig2.update_xaxes(\n        title_text = r\"$x$\",\n        title_standoff = 15,\n        ticks = 'outside',\n        ticklen = 10,\n        tickcolor='white')\n\nfig2.update_yaxes(\n        title_text = '',\n        title_standoff = 25,\n        ticks = 'outside',\n        ticklen = 10,\n        tickcolor = 'white')\n\n\nline2 = fig2.add_trace(go.Scatter(x=xs2, y=traveling_wave(1, 0, xs2, 0),\n                    mode='lines',\n                    name='lines'))\n\nbslider = widgets.FloatSlider(\n    value = 3.14,\n    min=0.1,\n    max=10,\n    step=0.02,\n    readout=True,\n    description=r'$k$')\nbslider.layout.width = '400px'\n\nbslider2 = widgets.FloatSlider(\n    value = 0,\n    min=-1,\n    max=1,\n    step=0.1,\n    readout=True,\n    description=r'$\\omega$')\nbslider2.layout.width = '400px'\n\nplay = widgets.Play(\n    interval = 5,\n    value = 0,\n    min=0,\n    max=500,\n    step=1\n)\n\ndef update2(k, omega, time):\n    \n    fig2.data[0].y=traveling_wave(k, omega, xs2, time)\n\nvb2 = VBox((fig2, interactive(update2, k = bslider, omega = bslider2, time = play)))\nvb2.layout.align_items = 'center'\nvb2",
    "id": "654ad17f77434c0c85ea0445adf81e4c",
    "idx": 15,
    "time": "2021-02-02T21:28:07.382Z",
    "type": "execution"
   },
   {
    "code": "from IPython.display import Audio,display, clear_output\n\ndef play(f1, f2, sec=2):\n    \n    framerate = 44100\n    t = np.linspace(0, sec, framerate * sec)\n    data = np.sin(2 * np.pi * f1 * t) + np.sin(2 * np.pi * f2 * t)\n    display(InvisibleAudio(data, rate=framerate, autoplay=True))\n    \n\nclass InvisibleAudio(Audio):\n    \n    def _repr_html_(self):\n        audio = super()._repr_html_()\n        audio = audio.replace('<audio', f'<audio onended=\"this.parentNode.removeChild(this)\"')\n        return f'<div style=\"display:none\">{audio}</div>'",
    "id": "74cd8cbb9ecf4c9987851be3875e274f",
    "idx": 20,
    "time": "2021-02-02T21:28:07.383Z",
    "type": "execution"
   },
   {
    "code": "xs3 = np.linspace(0, 0.2, 1000)\n\nf1 = widgets.IntSlider(value = 1, min = 1, max = 600, step = 1, description = \"frequency 1\")\nf1.layout.width = '400px'\nf2 = widgets.IntSlider(value = 1, min = 1, max = 600, step = 1, description = \"frequency 2\")\nf2.layout.width = '400px'\n\nbutton = widgets.Button(description='Play Sound')\nout3 = widgets.Output()\nfig3 = go.FigureWidget()\n\nfig3.add_trace(go.Scatter(x=xs3, y=np.sin(2*np.pi*1*xs3) + np.sin(2*np.pi*1*xs),\n                    mode='lines',\n                    name='sum'))\nfig3.add_trace(go.Scatter(x = xs3, y = np.sin(2*np.pi*80*xs3), mode = \"lines\", opacity = 0.2, name = \"frequency 1\"))\nfig3.add_trace(go.Scatter(x = xs3, y = np.sin(2*np.pi*80*xs3), mode = \"lines\", opacity = 0.2, name = \"frequency 2\"))\n\nfig3.layout = dict(yaxis=dict(range=[-2,2]), xaxis=dict(range=[0,0.2]),width = 900)\n\nfig3.update_layout(\n    title={\n        'text': r'$y = \\sin(2 \\pi f_1 t) + \\sin(2 \\pi f_2 t)$',\n        'y':0.85,\n        'x':0.5,\n        'xanchor': 'center',\n        'yanchor': 'top'})\n\nfig3.update_xaxes(\n        title_text = r\"$t \\text{ (seconds})$\",\n        title_standoff = 15,\n        ticks = 'outside',\n        ticklen = 10,\n        tickcolor='white')\n\nfig3.update_yaxes(\n        title_text = '',\n        title_standoff = 25,\n        ticks = 'outside',\n        ticklen = 10,\n        tickcolor = 'white')\n\nfig3.update_layout(showlegend=False)\n\ndef on_button_clicked(_):\n\n    play(f1.value, f2.value)\n    \n\ndef update_trace(freq1, freq2):\n    \n    fig3.data[0].y = np.sin(2*np.pi*freq1*xs3) + np.sin(2*np.pi*freq2*xs3)\n    fig3.data[1].y = np.sin(2*np.pi*freq1*xs3)\n    fig3.data[2].y = np.sin(2*np.pi*freq2*xs3)\n\nbutton.on_click(on_button_clicked)\n\nwidgets.VBox([fig3,button,out3])\nvb = widgets.VBox((fig3, interactive(update_trace, freq1 = f1, freq2 = f2), button))\nvb.layout.align_items = 'center'\nvb",
    "id": "bb6b3318cecf4a1782c87587561d5935",
    "idx": 21,
    "time": "2021-02-02T21:28:07.385Z",
    "type": "execution"
   },
   {
    "id": "1fef5c1f4ff94f15821c0b20b7bdd00e",
    "time": "2021-02-02T21:28:07.454Z",
    "type": "completion"
   },
   {
    "id": "ae32d172a4894b1b934757ae2aa29371",
    "time": "2021-02-02T21:28:08.019Z",
    "type": "completion"
   },
   {
    "id": "654ad17f77434c0c85ea0445adf81e4c",
    "time": "2021-02-02T21:28:08.282Z",
    "type": "completion"
   },
   {
    "id": "74cd8cbb9ecf4c9987851be3875e274f",
    "time": "2021-02-02T21:28:08.282Z",
    "type": "completion"
   },
   {
    "id": "bb6b3318cecf4a1782c87587561d5935",
    "time": "2021-02-02T21:28:08.632Z",
    "type": "completion"
   },
   {
    "code": "from IPython.display import HTML\n\nHTML('''<script>\ncode_show=true; \nfunction code_toggle() {\n if (code_show){\n $('div.input').hide();\n } else {\n $('div.input').show();\n }\n code_show = !code_show\n} \n$( document ).ready(code_toggle);\n</script>\n<form action=\"javascript:code_toggle()\"><input type=\"submit\" value=\"Click here to toggle on/off the raw code.\"></form>''')",
    "id": "1fef5c1f4ff94f15821c0b20b7bdd00e",
    "idx": 9,
    "time": "2021-02-02T21:35:00.272Z",
    "type": "execution"
   },
   {
    "code": "import plotly.graph_objs as go\nfrom ipywidgets import interactive, HBox, VBox, widgets, interact\nimport numpy as np\n\nxs = np.linspace(0, 5, 1000)\n\ndef wave(lam, phi, x):\n    \n    return np.sin(2*np.pi*x/lam + phi)\n\nfig = go.FigureWidget()\n\nfig.layout = dict(yaxis=dict(range=[-1,1]), xaxis=dict(range=[0,5]),width = 1000)\n\nfig.update_layout(\n    title={\n        'text': r'$y = \\sin \\Big(\\frac{2 \\pi  x}{\\lambda} + \\phi \\Big)$',\n        'y':0.85,\n        'x':0.5,\n        'xanchor': 'center',\n        'yanchor': 'top'})\n\nfig.update_xaxes(\n        title_text = r\"$x$\",\n        title_standoff = 15,\n        ticks = 'outside',\n        ticklen = 10,\n        tickcolor='white')\n\nfig.update_yaxes(\n        title_text = '',\n        title_standoff = 25,\n        ticks = 'outside',\n        ticklen = 10,\n        tickcolor = 'white')\n\n\nline = fig.add_trace(go.Scatter(x=xs, y=wave(1, 0, xs),\n                    mode='lines',\n                    name='lines'))\n\nslider = widgets.FloatSlider(\n    value = 1,\n    min=0.1,\n    max=10,\n    step=0.1,\n    readout=True,\n    description=r'$\\lambda$')\nslider.layout.width = '400px'\n\nslider2 = widgets.FloatSlider(\n    value = 0,\n    min=-3.14,\n    max=3.14,\n    step=0.01,\n    readout=True,\n    description=r'$\\phi$')\nslider2.layout.width = '400px'\n\ndef update_range(lam, phi):\n    fig.data[0].y=wave(lam, phi, xs)\n\nvb = VBox((fig, interactive(update_range, lam = slider, phi = slider2)))\nvb.layout.align_items = 'center'\nvb",
    "id": "ae32d172a4894b1b934757ae2aa29371",
    "idx": 10,
    "time": "2021-02-02T21:35:00.292Z",
    "type": "execution"
   },
   {
    "code": "xs2 = np.linspace(0, 5, 500)\n\ndef traveling_wave(k, omega, x, t):\n    return np.sin(k*x - omega*t/10.)\n\nfig2 = go.FigureWidget()\n\nfig2.layout = dict(yaxis=dict(range=[-1,1]), xaxis=dict(range=[0,5]),width = 1000)\n\nfig2.update_layout(\n    title={\n        'text': r'$y = \\sin(kx - \\omega t)$',\n        'y':0.85,\n        'x':0.5,\n        'xanchor': 'center',\n        'yanchor': 'top'})\n\nfig2.update_xaxes(\n        title_text = r\"$x$\",\n        title_standoff = 15,\n        ticks = 'outside',\n        ticklen = 10,\n        tickcolor='white')\n\nfig2.update_yaxes(\n        title_text = '',\n        title_standoff = 25,\n        ticks = 'outside',\n        ticklen = 10,\n        tickcolor = 'white')\n\n\nline2 = fig2.add_trace(go.Scatter(x=xs2, y=traveling_wave(1, 0, xs2, 0),\n                    mode='lines',\n                    name='lines'))\n\nbslider = widgets.FloatSlider(\n    value = 3.14,\n    min=0.1,\n    max=10,\n    step=0.02,\n    readout=True,\n    description=r'$k$')\nbslider.layout.width = '400px'\n\nbslider2 = widgets.FloatSlider(\n    value = 0,\n    min=-1,\n    max=1,\n    step=0.1,\n    readout=True,\n    description=r'$\\omega$')\nbslider2.layout.width = '400px'\n\nplay = widgets.Play(\n    interval = 5,\n    value = 0,\n    min=0,\n    max=500,\n    step=1\n)\n\ndef update2(k, omega, time):\n    \n    fig2.data[0].y=traveling_wave(k, omega, xs2, time)\n\nvb2 = VBox((fig2, interactive(update2, k = bslider, omega = bslider2, time = play)))\nvb2.layout.align_items = 'center'\nvb2",
    "id": "654ad17f77434c0c85ea0445adf81e4c",
    "idx": 15,
    "time": "2021-02-02T21:35:00.296Z",
    "type": "execution"
   },
   {
    "code": "from IPython.display import Audio,display, clear_output\n\ndef play(f1, f2, sec=2):\n    \n    framerate = 44100\n    t = np.linspace(0, sec, framerate * sec)\n    data = np.sin(2 * np.pi * f1 * t) + np.sin(2 * np.pi * f2 * t)\n    display(InvisibleAudio(data, rate=framerate, autoplay=True))\n    \n\nclass InvisibleAudio(Audio):\n    \n    def _repr_html_(self):\n        audio = super()._repr_html_()\n        audio = audio.replace('<audio', f'<audio onended=\"this.parentNode.removeChild(this)\"')\n        return f'<div style=\"display:none\">{audio}</div>'",
    "id": "74cd8cbb9ecf4c9987851be3875e274f",
    "idx": 20,
    "time": "2021-02-02T21:35:00.297Z",
    "type": "execution"
   },
   {
    "code": "xs3 = np.linspace(0, 0.2, 1000)\n\nf1 = widgets.IntSlider(value = 1, min = 1, max = 600, step = 1, description = \"frequency 1\")\nf1.layout.width = '400px'\nf2 = widgets.IntSlider(value = 1, min = 1, max = 600, step = 1, description = \"frequency 2\")\nf2.layout.width = '400px'\n\nbutton = widgets.Button(description='Play Sound')\nout3 = widgets.Output()\nfig3 = go.FigureWidget()\n\nfig3.add_trace(go.Scatter(x=xs3, y=np.sin(2*np.pi*1*xs3) + np.sin(2*np.pi*1*xs),\n                    mode='lines',\n                    name='sum'))\nfig3.add_trace(go.Scatter(x = xs3, y = np.sin(2*np.pi*80*xs3), mode = \"lines\", opacity = 0.2, name = \"frequency 1\"))\nfig3.add_trace(go.Scatter(x = xs3, y = np.sin(2*np.pi*80*xs3), mode = \"lines\", opacity = 0.2, name = \"frequency 2\"))\n\nfig3.layout = dict(yaxis=dict(range=[-2,2]), xaxis=dict(range=[0,0.2]),width = 900)\n\nfig3.update_layout(\n    title={\n        'text': r'$y = \\sin(2 \\pi f_1 t) + \\sin(2 \\pi f_2 t)$',\n        'y':0.85,\n        'x':0.5,\n        'xanchor': 'center',\n        'yanchor': 'top'})\n\nfig3.update_xaxes(\n        title_text = r\"$t \\text{ (seconds})$\",\n        title_standoff = 15,\n        ticks = 'outside',\n        ticklen = 10,\n        tickcolor='white')\n\nfig3.update_yaxes(\n        title_text = '',\n        title_standoff = 25,\n        ticks = 'outside',\n        ticklen = 10,\n        tickcolor = 'white')\n\nfig3.update_layout(showlegend=False)\n\ndef on_button_clicked(_):\n\n    play(f1.value, f2.value)\n    \n\ndef update_trace(freq1, freq2):\n    \n    fig3.data[0].y = np.sin(2*np.pi*freq1*xs3) + np.sin(2*np.pi*freq2*xs3)\n    fig3.data[1].y = np.sin(2*np.pi*freq1*xs3)\n    fig3.data[2].y = np.sin(2*np.pi*freq2*xs3)\n\nbutton.on_click(on_button_clicked)\n\nwidgets.VBox([fig3,button,out3])\nvb = widgets.VBox((fig3, interactive(update_trace, freq1 = f1, freq2 = f2), button))\nvb.layout.align_items = 'center'\nvb",
    "id": "bb6b3318cecf4a1782c87587561d5935",
    "idx": 21,
    "time": "2021-02-02T21:35:00.300Z",
    "type": "execution"
   },
   {
    "id": "1fef5c1f4ff94f15821c0b20b7bdd00e",
    "time": "2021-02-02T21:35:00.359Z",
    "type": "completion"
   },
   {
    "id": "ae32d172a4894b1b934757ae2aa29371",
    "time": "2021-02-02T21:35:00.700Z",
    "type": "completion"
   },
   {
    "id": "654ad17f77434c0c85ea0445adf81e4c",
    "time": "2021-02-02T21:35:00.836Z",
    "type": "completion"
   },
   {
    "id": "74cd8cbb9ecf4c9987851be3875e274f",
    "time": "2021-02-02T21:35:00.837Z",
    "type": "completion"
   },
   {
    "id": "bb6b3318cecf4a1782c87587561d5935",
    "time": "2021-02-02T21:35:01.210Z",
    "type": "completion"
   },
   {
    "code": "from IPython.display import HTML\n\nHTML('''<script>\ncode_show=true; \nfunction code_toggle() {\n if (code_show){\n $('div.input').hide();\n } else {\n $('div.input').show();\n }\n code_show = !code_show\n} \n$( document ).ready(code_toggle);\n</script>\n<form action=\"javascript:code_toggle()\"><input type=\"submit\" value=\"Click here to toggle on/off the raw code.\"></form>''')",
    "id": "1fef5c1f4ff94f15821c0b20b7bdd00e",
    "idx": 9,
    "time": "2021-02-02T21:35:43.555Z",
    "type": "execution"
   },
   {
    "code": "import plotly.graph_objs as go\nfrom ipywidgets import interactive, HBox, VBox, widgets, interact\nimport numpy as np\n\nxs = np.linspace(0, 5, 1000)\n\ndef wave(lam, phi, x):\n    \n    return np.sin(2*np.pi*x/lam + phi)\n\nfig = go.FigureWidget()\n\nfig.layout = dict(yaxis=dict(range=[-1,1]), xaxis=dict(range=[0,5]),width = 1000)\n\nfig.update_layout(\n    title={\n        'text': r'$y = \\sin \\Big(\\frac{2 \\pi  x}{\\lambda} + \\phi \\Big)$',\n        'y':0.85,\n        'x':0.5,\n        'xanchor': 'center',\n        'yanchor': 'top'})\n\nfig.update_xaxes(\n        title_text = r\"$x$\",\n        title_standoff = 15,\n        ticks = 'outside',\n        ticklen = 10,\n        tickcolor='white')\n\nfig.update_yaxes(\n        title_text = '',\n        title_standoff = 25,\n        ticks = 'outside',\n        ticklen = 10,\n        tickcolor = 'white')\n\n\nline = fig.add_trace(go.Scatter(x=xs, y=wave(1, 0, xs),\n                    mode='lines',\n                    name='lines'))\n\nslider = widgets.FloatSlider(\n    value = 1,\n    min=0.1,\n    max=10,\n    step=0.1,\n    readout=True,\n    description=r'$\\lambda$')\nslider.layout.width = '400px'\n\nslider2 = widgets.FloatSlider(\n    value = 0,\n    min=-3.14,\n    max=3.14,\n    step=0.01,\n    readout=True,\n    description=r'$\\phi$')\nslider2.layout.width = '400px'\n\ndef update_range(lam, phi):\n    fig.data[0].y=wave(lam, phi, xs)\n\nvb = VBox((fig, interactive(update_range, lam = slider, phi = slider2)))\nvb.layout.align_items = 'center'\nvb",
    "id": "ae32d172a4894b1b934757ae2aa29371",
    "idx": 10,
    "time": "2021-02-02T21:35:43.558Z",
    "type": "execution"
   },
   {
    "code": "xs2 = np.linspace(0, 5, 500)\n\ndef traveling_wave(k, omega, x, t):\n    return np.sin(k*x - omega*t/10.)\n\nfig2 = go.FigureWidget()\n\nfig2.layout = dict(yaxis=dict(range=[-1,1]), xaxis=dict(range=[0,5]),width = 1000)\n\nfig2.update_layout(\n    title={\n        'text': r'$y = \\sin(kx - \\omega t)$',\n        'y':0.85,\n        'x':0.5,\n        'xanchor': 'center',\n        'yanchor': 'top'})\n\nfig2.update_xaxes(\n        title_text = r\"$x$\",\n        title_standoff = 15,\n        ticks = 'outside',\n        ticklen = 10,\n        tickcolor='white')\n\nfig2.update_yaxes(\n        title_text = '',\n        title_standoff = 25,\n        ticks = 'outside',\n        ticklen = 10,\n        tickcolor = 'white')\n\n\nline2 = fig2.add_trace(go.Scatter(x=xs2, y=traveling_wave(1, 0, xs2, 0),\n                    mode='lines',\n                    name='lines'))\n\nbslider = widgets.FloatSlider(\n    value = 3.14,\n    min=0.1,\n    max=10,\n    step=0.02,\n    readout=True,\n    description=r'$k$')\nbslider.layout.width = '400px'\n\nbslider2 = widgets.FloatSlider(\n    value = 0,\n    min=-1,\n    max=1,\n    step=0.1,\n    readout=True,\n    description=r'$\\omega$')\nbslider2.layout.width = '400px'\n\nplay = widgets.Play(\n    interval = 5,\n    value = 0,\n    min=0,\n    max=500,\n    step=1\n)\n\ndef update2(k, omega, time):\n    \n    fig2.data[0].y=traveling_wave(k, omega, xs2, time)\n\nvb2 = VBox((fig2, interactive(update2, k = bslider, omega = bslider2, time = play)))\nvb2.layout.align_items = 'center'\nvb2",
    "id": "654ad17f77434c0c85ea0445adf81e4c",
    "idx": 15,
    "time": "2021-02-02T21:35:43.561Z",
    "type": "execution"
   },
   {
    "code": "from IPython.display import Audio,display, clear_output\n\ndef play(f1, f2, sec=2):\n    \n    framerate = 44100\n    t = np.linspace(0, sec, framerate * sec)\n    data = np.sin(2 * np.pi * f1 * t) + np.sin(2 * np.pi * f2 * t)\n    display(InvisibleAudio(data, rate=framerate, autoplay=True))\n    \n\nclass InvisibleAudio(Audio):\n    \n    def _repr_html_(self):\n        audio = super()._repr_html_()\n        audio = audio.replace('<audio', f'<audio onended=\"this.parentNode.removeChild(this)\"')\n        return f'<div style=\"display:none\">{audio}</div>'",
    "id": "74cd8cbb9ecf4c9987851be3875e274f",
    "idx": 20,
    "time": "2021-02-02T21:35:43.562Z",
    "type": "execution"
   },
   {
    "code": "xs3 = np.linspace(0, 0.2, 1000)\n\nf1 = widgets.IntSlider(value = 1, min = 1, max = 600, step = 1, description = \"frequency 1\")\nf1.layout.width = '400px'\nf2 = widgets.IntSlider(value = 1, min = 1, max = 600, step = 1, description = \"frequency 2\")\nf2.layout.width = '400px'\n\nbutton = widgets.Button(description='Play Sound')\nout3 = widgets.Output()\nfig3 = go.FigureWidget()\n\nfig3.add_trace(go.Scatter(x=xs3, y=np.sin(2*np.pi*1*xs3) + np.sin(2*np.pi*1*xs),\n                    mode='lines',\n                    name='sum'))\nfig3.add_trace(go.Scatter(x = xs3, y = np.sin(2*np.pi*80*xs3), mode = \"lines\", opacity = 0.2, name = \"frequency 1\"))\nfig3.add_trace(go.Scatter(x = xs3, y = np.sin(2*np.pi*80*xs3), mode = \"lines\", opacity = 0.2, name = \"frequency 2\"))\n\nfig3.layout = dict(yaxis=dict(range=[-2,2]), xaxis=dict(range=[0,0.2]),width = 900)\n\nfig3.update_layout(\n    title={\n        'text': r'$y = \\sin(2 \\pi f_1 t) + \\sin(2 \\pi f_2 t)$',\n        'y':0.85,\n        'x':0.5,\n        'xanchor': 'center',\n        'yanchor': 'top'})\n\nfig3.update_xaxes(\n        title_text = r\"$t \\text{ (seconds})$\",\n        title_standoff = 15,\n        ticks = 'outside',\n        ticklen = 10,\n        tickcolor='white')\n\nfig3.update_yaxes(\n        title_text = '',\n        title_standoff = 25,\n        ticks = 'outside',\n        ticklen = 10,\n        tickcolor = 'white')\n\nfig3.update_layout(showlegend=False)\n\ndef on_button_clicked(_):\n\n    play(f1.value, f2.value)\n    \n\ndef update_trace(freq1, freq2):\n    \n    fig3.data[0].y = np.sin(2*np.pi*freq1*xs3) + np.sin(2*np.pi*freq2*xs3)\n    fig3.data[1].y = np.sin(2*np.pi*freq1*xs3)\n    fig3.data[2].y = np.sin(2*np.pi*freq2*xs3)\n\nbutton.on_click(on_button_clicked)\n\nwidgets.VBox([fig3,button,out3])\nvb = widgets.VBox((fig3, interactive(update_trace, freq1 = f1, freq2 = f2), button))\nvb.layout.align_items = 'center'\nvb",
    "id": "bb6b3318cecf4a1782c87587561d5935",
    "idx": 21,
    "time": "2021-02-02T21:35:43.564Z",
    "type": "execution"
   },
   {
    "id": "1fef5c1f4ff94f15821c0b20b7bdd00e",
    "time": "2021-02-02T21:35:43.623Z",
    "type": "completion"
   },
   {
    "id": "ae32d172a4894b1b934757ae2aa29371",
    "time": "2021-02-02T21:35:43.904Z",
    "type": "completion"
   },
   {
    "id": "654ad17f77434c0c85ea0445adf81e4c",
    "time": "2021-02-02T21:35:44.075Z",
    "type": "completion"
   },
   {
    "id": "74cd8cbb9ecf4c9987851be3875e274f",
    "time": "2021-02-02T21:35:44.076Z",
    "type": "completion"
   },
   {
    "id": "bb6b3318cecf4a1782c87587561d5935",
    "time": "2021-02-02T21:35:44.411Z",
    "type": "completion"
   },
   {
    "code": "from IPython.display import HTML\n\nHTML('''<script>\ncode_show=true; \nfunction code_toggle() {\n if (code_show){\n $('div.input').hide();\n } else {\n $('div.input').show();\n }\n code_show = !code_show\n} \n$( document ).ready(code_toggle);\n</script>\n<form action=\"javascript:code_toggle()\"><input type=\"submit\" value=\"Click here to toggle on/off the raw code.\"></form>''')",
    "id": "1fef5c1f4ff94f15821c0b20b7bdd00e",
    "idx": 9,
    "time": "2021-02-02T21:35:49.832Z",
    "type": "execution"
   },
   {
    "code": "import plotly.graph_objs as go\nfrom ipywidgets import interactive, HBox, VBox, widgets, interact\nimport numpy as np\n\nxs = np.linspace(0, 5, 1000)\n\ndef wave(lam, phi, x):\n    \n    return np.sin(2*np.pi*x/lam + phi)\n\nfig = go.FigureWidget()\n\nfig.layout = dict(yaxis=dict(range=[-1,1]), xaxis=dict(range=[0,5]),width = 1000)\n\nfig.update_layout(\n    title={\n        'text': r'$y = \\sin \\Big(\\frac{2 \\pi  x}{\\lambda} + \\phi \\Big)$',\n        'y':0.85,\n        'x':0.5,\n        'xanchor': 'center',\n        'yanchor': 'top'})\n\nfig.update_xaxes(\n        title_text = r\"$x$\",\n        title_standoff = 15,\n        ticks = 'outside',\n        ticklen = 10,\n        tickcolor='white')\n\nfig.update_yaxes(\n        title_text = '',\n        title_standoff = 25,\n        ticks = 'outside',\n        ticklen = 10,\n        tickcolor = 'white')\n\n\nline = fig.add_trace(go.Scatter(x=xs, y=wave(1, 0, xs),\n                    mode='lines',\n                    name='lines'))\n\nslider = widgets.FloatSlider(\n    value = 1,\n    min=0.1,\n    max=10,\n    step=0.1,\n    readout=True,\n    description=r'$\\lambda$')\nslider.layout.width = '400px'\n\nslider2 = widgets.FloatSlider(\n    value = 0,\n    min=-3.14,\n    max=3.14,\n    step=0.01,\n    readout=True,\n    description=r'$\\phi$')\nslider2.layout.width = '400px'\n\ndef update_range(lam, phi):\n    fig.data[0].y=wave(lam, phi, xs)\n\nvb = VBox((fig, interactive(update_range, lam = slider, phi = slider2)))\nvb.layout.align_items = 'center'\nvb",
    "id": "ae32d172a4894b1b934757ae2aa29371",
    "idx": 10,
    "time": "2021-02-02T21:35:49.834Z",
    "type": "execution"
   },
   {
    "code": "xs2 = np.linspace(0, 5, 500)\n\ndef traveling_wave(k, omega, x, t):\n    return np.sin(k*x - omega*t/10.)\n\nfig2 = go.FigureWidget()\n\nfig2.layout = dict(yaxis=dict(range=[-1,1]), xaxis=dict(range=[0,5]),width = 1000)\n\nfig2.update_layout(\n    title={\n        'text': r'$y = \\sin(kx - \\omega t)$',\n        'y':0.85,\n        'x':0.5,\n        'xanchor': 'center',\n        'yanchor': 'top'})\n\nfig2.update_xaxes(\n        title_text = r\"$x$\",\n        title_standoff = 15,\n        ticks = 'outside',\n        ticklen = 10,\n        tickcolor='white')\n\nfig2.update_yaxes(\n        title_text = '',\n        title_standoff = 25,\n        ticks = 'outside',\n        ticklen = 10,\n        tickcolor = 'white')\n\n\nline2 = fig2.add_trace(go.Scatter(x=xs2, y=traveling_wave(1, 0, xs2, 0),\n                    mode='lines',\n                    name='lines'))\n\nbslider = widgets.FloatSlider(\n    value = 3.14,\n    min=0.1,\n    max=10,\n    step=0.02,\n    readout=True,\n    description=r'$k$')\nbslider.layout.width = '400px'\n\nbslider2 = widgets.FloatSlider(\n    value = 0,\n    min=-1,\n    max=1,\n    step=0.1,\n    readout=True,\n    description=r'$\\omega$')\nbslider2.layout.width = '400px'\n\nplay = widgets.Play(\n    interval = 5,\n    value = 0,\n    min=0,\n    max=500,\n    step=1\n)\n\ndef update2(k, omega, time):\n    \n    fig2.data[0].y=traveling_wave(k, omega, xs2, time)\n\nvb2 = VBox((fig2, interactive(update2, k = bslider, omega = bslider2, time = play)))\nvb2.layout.align_items = 'center'\nvb2",
    "id": "654ad17f77434c0c85ea0445adf81e4c",
    "idx": 15,
    "time": "2021-02-02T21:35:49.836Z",
    "type": "execution"
   },
   {
    "code": "from IPython.display import Audio,display, clear_output\n\ndef play(f1, f2, sec=2):\n    \n    framerate = 44100\n    t = np.linspace(0, sec, framerate * sec)\n    data = np.sin(2 * np.pi * f1 * t) + np.sin(2 * np.pi * f2 * t)\n    display(InvisibleAudio(data, rate=framerate, autoplay=True))\n    \n\nclass InvisibleAudio(Audio):\n    \n    def _repr_html_(self):\n        audio = super()._repr_html_()\n        audio = audio.replace('<audio', f'<audio onended=\"this.parentNode.removeChild(this)\"')\n        return f'<div style=\"display:none\">{audio}</div>'",
    "id": "74cd8cbb9ecf4c9987851be3875e274f",
    "idx": 20,
    "time": "2021-02-02T21:35:49.837Z",
    "type": "execution"
   },
   {
    "code": "xs3 = np.linspace(0, 0.2, 1000)\n\nf1 = widgets.IntSlider(value = 1, min = 1, max = 600, step = 1, description = \"frequency 1\")\nf1.layout.width = '400px'\nf2 = widgets.IntSlider(value = 1, min = 1, max = 600, step = 1, description = \"frequency 2\")\nf2.layout.width = '400px'\n\nbutton = widgets.Button(description='Play Sound')\nout3 = widgets.Output()\nfig3 = go.FigureWidget()\n\nfig3.add_trace(go.Scatter(x=xs3, y=np.sin(2*np.pi*1*xs3) + np.sin(2*np.pi*1*xs),\n                    mode='lines',\n                    name='sum'))\nfig3.add_trace(go.Scatter(x = xs3, y = np.sin(2*np.pi*80*xs3), mode = \"lines\", opacity = 0.2, name = \"frequency 1\"))\nfig3.add_trace(go.Scatter(x = xs3, y = np.sin(2*np.pi*80*xs3), mode = \"lines\", opacity = 0.2, name = \"frequency 2\"))\n\nfig3.layout = dict(yaxis=dict(range=[-2,2]), xaxis=dict(range=[0,0.2]),width = 900)\n\nfig3.update_layout(\n    title={\n        'text': r'$y = \\sin(2 \\pi f_1 t) + \\sin(2 \\pi f_2 t)$',\n        'y':0.85,\n        'x':0.5,\n        'xanchor': 'center',\n        'yanchor': 'top'})\n\nfig3.update_xaxes(\n        title_text = r\"$t \\text{ (seconds})$\",\n        title_standoff = 15,\n        ticks = 'outside',\n        ticklen = 10,\n        tickcolor='white')\n\nfig3.update_yaxes(\n        title_text = '',\n        title_standoff = 25,\n        ticks = 'outside',\n        ticklen = 10,\n        tickcolor = 'white')\n\nfig3.update_layout(showlegend=False)\n\ndef on_button_clicked(_):\n\n    play(f1.value, f2.value)\n    \n\ndef update_trace(freq1, freq2):\n    \n    fig3.data[0].y = np.sin(2*np.pi*freq1*xs3) + np.sin(2*np.pi*freq2*xs3)\n    fig3.data[1].y = np.sin(2*np.pi*freq1*xs3)\n    fig3.data[2].y = np.sin(2*np.pi*freq2*xs3)\n\nbutton.on_click(on_button_clicked)\n\nwidgets.VBox([fig3,button,out3])\nvb = widgets.VBox((fig3, interactive(update_trace, freq1 = f1, freq2 = f2), button))\nvb.layout.align_items = 'center'\nvb",
    "id": "bb6b3318cecf4a1782c87587561d5935",
    "idx": 21,
    "time": "2021-02-02T21:35:49.839Z",
    "type": "execution"
   },
   {
    "id": "1fef5c1f4ff94f15821c0b20b7bdd00e",
    "time": "2021-02-02T21:35:49.895Z",
    "type": "completion"
   },
   {
    "id": "ae32d172a4894b1b934757ae2aa29371",
    "time": "2021-02-02T21:35:50.134Z",
    "type": "completion"
   },
   {
    "id": "654ad17f77434c0c85ea0445adf81e4c",
    "time": "2021-02-02T21:35:50.362Z",
    "type": "completion"
   },
   {
    "id": "74cd8cbb9ecf4c9987851be3875e274f",
    "time": "2021-02-02T21:35:50.362Z",
    "type": "completion"
   },
   {
    "id": "bb6b3318cecf4a1782c87587561d5935",
    "time": "2021-02-02T21:35:50.712Z",
    "type": "completion"
   },
   {
    "code": "from IPython.display import HTML\n\nHTML('''<script>\ncode_show=true; \nfunction code_toggle() {\n if (code_show){\n $('div.input').hide();\n } else {\n $('div.input').show();\n }\n code_show = !code_show\n} \n$( document ).ready(code_toggle);\n</script>\n<form action=\"javascript:code_toggle()\"><input type=\"submit\" value=\"Click here to toggle on/off the raw code.\"></form>''')",
    "id": "1fef5c1f4ff94f15821c0b20b7bdd00e",
    "idx": 10,
    "time": "2021-02-02T21:37:35.020Z",
    "type": "execution"
   },
   {
    "code": "import plotly.graph_objs as go\nfrom ipywidgets import interactive, HBox, VBox, widgets, interact\nimport numpy as np\n\nxs = np.linspace(0, 5, 1000)\n\ndef wave(lam, phi, x):\n    \n    return np.sin(2*np.pi*x/lam + phi)\n\nfig = go.FigureWidget()\n\nfig.layout = dict(yaxis=dict(range=[-1,1]), xaxis=dict(range=[0,5]),width = 1000)\n\nfig.update_layout(\n    title={\n        'text': r'$y = \\sin \\Big(\\frac{2 \\pi  x}{\\lambda} + \\phi \\Big)$',\n        'y':0.85,\n        'x':0.5,\n        'xanchor': 'center',\n        'yanchor': 'top'})\n\nfig.update_xaxes(\n        title_text = r\"$x$\",\n        title_standoff = 15,\n        ticks = 'outside',\n        ticklen = 10,\n        tickcolor='white')\n\nfig.update_yaxes(\n        title_text = '',\n        title_standoff = 25,\n        ticks = 'outside',\n        ticklen = 10,\n        tickcolor = 'white')\n\n\nline = fig.add_trace(go.Scatter(x=xs, y=wave(1, 0, xs),\n                    mode='lines',\n                    name='lines'))\n\nslider = widgets.FloatSlider(\n    value = 1,\n    min=0.1,\n    max=10,\n    step=0.1,\n    readout=True,\n    description=r'$\\lambda$')\nslider.layout.width = '400px'\n\nslider2 = widgets.FloatSlider(\n    value = 0,\n    min=-3.14,\n    max=3.14,\n    step=0.01,\n    readout=True,\n    description=r'$\\phi$')\nslider2.layout.width = '400px'\n\ndef update_range(lam, phi):\n    fig.data[0].y=wave(lam, phi, xs)\n\nvb = VBox((fig, interactive(update_range, lam = slider, phi = slider2)))\nvb.layout.align_items = 'center'\nvb",
    "id": "ae32d172a4894b1b934757ae2aa29371",
    "idx": 11,
    "time": "2021-02-02T21:37:35.040Z",
    "type": "execution"
   },
   {
    "code": "xs2 = np.linspace(0, 5, 500)\n\ndef traveling_wave(k, omega, x, t):\n    return np.sin(k*x - omega*t/10.)\n\nfig2 = go.FigureWidget()\n\nfig2.layout = dict(yaxis=dict(range=[-1,1]), xaxis=dict(range=[0,5]),width = 1000)\n\nfig2.update_layout(\n    title={\n        'text': r'$y = \\sin(kx - \\omega t)$',\n        'y':0.85,\n        'x':0.5,\n        'xanchor': 'center',\n        'yanchor': 'top'})\n\nfig2.update_xaxes(\n        title_text = r\"$x$\",\n        title_standoff = 15,\n        ticks = 'outside',\n        ticklen = 10,\n        tickcolor='white')\n\nfig2.update_yaxes(\n        title_text = '',\n        title_standoff = 25,\n        ticks = 'outside',\n        ticklen = 10,\n        tickcolor = 'white')\n\n\nline2 = fig2.add_trace(go.Scatter(x=xs2, y=traveling_wave(1, 0, xs2, 0),\n                    mode='lines',\n                    name='lines'))\n\nbslider = widgets.FloatSlider(\n    value = 3.14,\n    min=0.1,\n    max=10,\n    step=0.02,\n    readout=True,\n    description=r'$k$')\nbslider.layout.width = '400px'\n\nbslider2 = widgets.FloatSlider(\n    value = 0,\n    min=-1,\n    max=1,\n    step=0.1,\n    readout=True,\n    description=r'$\\omega$')\nbslider2.layout.width = '400px'\n\nplay = widgets.Play(\n    interval = 5,\n    value = 0,\n    min=0,\n    max=500,\n    step=1\n)\n\ndef update2(k, omega, time):\n    \n    fig2.data[0].y=traveling_wave(k, omega, xs2, time)\n\nvb2 = VBox((fig2, interactive(update2, k = bslider, omega = bslider2, time = play)))\nvb2.layout.align_items = 'center'\nvb2",
    "id": "654ad17f77434c0c85ea0445adf81e4c",
    "idx": 16,
    "time": "2021-02-02T21:37:35.042Z",
    "type": "execution"
   },
   {
    "code": "from IPython.display import Audio,display, clear_output\n\ndef play(f1, f2, sec=2):\n    \n    framerate = 44100\n    t = np.linspace(0, sec, framerate * sec)\n    data = np.sin(2 * np.pi * f1 * t) + np.sin(2 * np.pi * f2 * t)\n    display(InvisibleAudio(data, rate=framerate, autoplay=True))\n    \n\nclass InvisibleAudio(Audio):\n    \n    def _repr_html_(self):\n        audio = super()._repr_html_()\n        audio = audio.replace('<audio', f'<audio onended=\"this.parentNode.removeChild(this)\"')\n        return f'<div style=\"display:none\">{audio}</div>'",
    "id": "74cd8cbb9ecf4c9987851be3875e274f",
    "idx": 21,
    "time": "2021-02-02T21:37:35.044Z",
    "type": "execution"
   },
   {
    "code": "xs3 = np.linspace(0, 0.2, 1000)\n\nf1 = widgets.IntSlider(value = 1, min = 1, max = 600, step = 1, description = \"frequency 1\")\nf1.layout.width = '400px'\nf2 = widgets.IntSlider(value = 1, min = 1, max = 600, step = 1, description = \"frequency 2\")\nf2.layout.width = '400px'\n\nbutton = widgets.Button(description='Play Sound')\nout3 = widgets.Output()\nfig3 = go.FigureWidget()\n\nfig3.add_trace(go.Scatter(x=xs3, y=np.sin(2*np.pi*1*xs3) + np.sin(2*np.pi*1*xs),\n                    mode='lines',\n                    name='sum'))\nfig3.add_trace(go.Scatter(x = xs3, y = np.sin(2*np.pi*80*xs3), mode = \"lines\", opacity = 0.2, name = \"frequency 1\"))\nfig3.add_trace(go.Scatter(x = xs3, y = np.sin(2*np.pi*80*xs3), mode = \"lines\", opacity = 0.2, name = \"frequency 2\"))\n\nfig3.layout = dict(yaxis=dict(range=[-2,2]), xaxis=dict(range=[0,0.2]),width = 900)\n\nfig3.update_layout(\n    title={\n        'text': r'$y = \\sin(2 \\pi f_1 t) + \\sin(2 \\pi f_2 t)$',\n        'y':0.85,\n        'x':0.5,\n        'xanchor': 'center',\n        'yanchor': 'top'})\n\nfig3.update_xaxes(\n        title_text = r\"$t \\text{ (seconds})$\",\n        title_standoff = 15,\n        ticks = 'outside',\n        ticklen = 10,\n        tickcolor='white')\n\nfig3.update_yaxes(\n        title_text = '',\n        title_standoff = 25,\n        ticks = 'outside',\n        ticklen = 10,\n        tickcolor = 'white')\n\nfig3.update_layout(showlegend=False)\n\ndef on_button_clicked(_):\n\n    play(f1.value, f2.value)\n    \n\ndef update_trace(freq1, freq2):\n    \n    fig3.data[0].y = np.sin(2*np.pi*freq1*xs3) + np.sin(2*np.pi*freq2*xs3)\n    fig3.data[1].y = np.sin(2*np.pi*freq1*xs3)\n    fig3.data[2].y = np.sin(2*np.pi*freq2*xs3)\n\nbutton.on_click(on_button_clicked)\n\nwidgets.VBox([fig3,button,out3])\nvb = widgets.VBox((fig3, interactive(update_trace, freq1 = f1, freq2 = f2), button))\nvb.layout.align_items = 'center'\nvb",
    "id": "bb6b3318cecf4a1782c87587561d5935",
    "idx": 22,
    "time": "2021-02-02T21:37:35.046Z",
    "type": "execution"
   },
   {
    "id": "1fef5c1f4ff94f15821c0b20b7bdd00e",
    "time": "2021-02-02T21:37:35.108Z",
    "type": "completion"
   },
   {
    "id": "ae32d172a4894b1b934757ae2aa29371",
    "time": "2021-02-02T21:37:35.750Z",
    "type": "completion"
   },
   {
    "id": "654ad17f77434c0c85ea0445adf81e4c",
    "time": "2021-02-02T21:37:36.021Z",
    "type": "completion"
   },
   {
    "id": "74cd8cbb9ecf4c9987851be3875e274f",
    "time": "2021-02-02T21:37:36.021Z",
    "type": "completion"
   },
   {
    "id": "bb6b3318cecf4a1782c87587561d5935",
    "time": "2021-02-02T21:37:36.453Z",
    "type": "completion"
   },
   {
    "code": "from IPython.display import HTML\n\nHTML('''<script>\ncode_show=true; \nfunction code_toggle() {\n if (code_show){\n $('div.input').hide();\n } else {\n $('div.input').show();\n }\n code_show = !code_show\n} \n$( document ).ready(code_toggle);\n</script>\n<form action=\"javascript:code_toggle()\"><input type=\"submit\" value=\"Click here to toggle on/off the raw code.\"></form>''')",
    "id": "6b4d657a860544c98a609b72e4a97cbe",
    "idx": 10,
    "time": "2021-02-02T21:38:20.976Z",
    "type": "execution"
   },
   {
    "code": "import plotly.graph_objs as go\nfrom ipywidgets import interactive, HBox, VBox, widgets, interact\nimport numpy as np\n\nxs = np.linspace(0, 5, 1000)\n\ndef wave(lam, phi, x):\n    \n    return np.sin(2*np.pi*x/lam + phi)\n\nfig = go.FigureWidget()\n\nfig.layout = dict(yaxis=dict(range=[-1,1]), xaxis=dict(range=[0,5]),width = 1000)\n\nfig.update_layout(\n    title={\n        'text': r'$y = \\sin \\Big(\\frac{2 \\pi  x}{\\lambda} + \\phi \\Big)$',\n        'y':0.85,\n        'x':0.5,\n        'xanchor': 'center',\n        'yanchor': 'top'})\n\nfig.update_xaxes(\n        title_text = r\"$x$\",\n        title_standoff = 15,\n        ticks = 'outside',\n        ticklen = 10,\n        tickcolor='white')\n\nfig.update_yaxes(\n        title_text = '',\n        title_standoff = 25,\n        ticks = 'outside',\n        ticklen = 10,\n        tickcolor = 'white')\n\n\nline = fig.add_trace(go.Scatter(x=xs, y=wave(1, 0, xs),\n                    mode='lines',\n                    name='lines'))\n\nslider = widgets.FloatSlider(\n    value = 1,\n    min=0.1,\n    max=10,\n    step=0.1,\n    readout=True,\n    description=r'$\\lambda$')\nslider.layout.width = '400px'\n\nslider2 = widgets.FloatSlider(\n    value = 0,\n    min=-3.14,\n    max=3.14,\n    step=0.01,\n    readout=True,\n    description=r'$\\phi$')\nslider2.layout.width = '400px'\n\ndef update_range(lam, phi):\n    fig.data[0].y=wave(lam, phi, xs)\n\nvb = VBox((fig, interactive(update_range, lam = slider, phi = slider2)))\nvb.layout.align_items = 'center'\nvb",
    "id": "3a9b95ee205042adb2b52997af38ccb9",
    "idx": 11,
    "time": "2021-02-02T21:38:20.978Z",
    "type": "execution"
   },
   {
    "code": "xs2 = np.linspace(0, 5, 500)\n\ndef traveling_wave(k, omega, x, t):\n    return np.sin(k*x - omega*t/10.)\n\nfig2 = go.FigureWidget()\n\nfig2.layout = dict(yaxis=dict(range=[-1,1]), xaxis=dict(range=[0,5]),width = 1000)\n\nfig2.update_layout(\n    title={\n        'text': r'$y = \\sin(kx - \\omega t)$',\n        'y':0.85,\n        'x':0.5,\n        'xanchor': 'center',\n        'yanchor': 'top'})\n\nfig2.update_xaxes(\n        title_text = r\"$x$\",\n        title_standoff = 15,\n        ticks = 'outside',\n        ticklen = 10,\n        tickcolor='white')\n\nfig2.update_yaxes(\n        title_text = '',\n        title_standoff = 25,\n        ticks = 'outside',\n        ticklen = 10,\n        tickcolor = 'white')\n\n\nline2 = fig2.add_trace(go.Scatter(x=xs2, y=traveling_wave(1, 0, xs2, 0),\n                    mode='lines',\n                    name='lines'))\n\nbslider = widgets.FloatSlider(\n    value = 3.14,\n    min=0.1,\n    max=10,\n    step=0.02,\n    readout=True,\n    description=r'$k$')\nbslider.layout.width = '400px'\n\nbslider2 = widgets.FloatSlider(\n    value = 0,\n    min=-1,\n    max=1,\n    step=0.1,\n    readout=True,\n    description=r'$\\omega$')\nbslider2.layout.width = '400px'\n\nplay = widgets.Play(\n    interval = 5,\n    value = 0,\n    min=0,\n    max=500,\n    step=1\n)\n\ndef update2(k, omega, time):\n    \n    fig2.data[0].y=traveling_wave(k, omega, xs2, time)\n\nvb2 = VBox((fig2, interactive(update2, k = bslider, omega = bslider2, time = play)))\nvb2.layout.align_items = 'center'\nvb2",
    "id": "bcbd2babde7b41a381a2bd07ffe1aaa1",
    "idx": 16,
    "time": "2021-02-02T21:38:20.980Z",
    "type": "execution"
   },
   {
    "code": "from IPython.display import Audio,display, clear_output\n\ndef play(f1, f2, sec=2):\n    \n    framerate = 44100\n    t = np.linspace(0, sec, framerate * sec)\n    data = np.sin(2 * np.pi * f1 * t) + np.sin(2 * np.pi * f2 * t)\n    display(InvisibleAudio(data, rate=framerate, autoplay=True))\n    \n\nclass InvisibleAudio(Audio):\n    \n    def _repr_html_(self):\n        audio = super()._repr_html_()\n        audio = audio.replace('<audio', f'<audio onended=\"this.parentNode.removeChild(this)\"')\n        return f'<div style=\"display:none\">{audio}</div>'",
    "id": "d59a8232748a41feb7cbe641d641f55c",
    "idx": 21,
    "time": "2021-02-02T21:38:20.982Z",
    "type": "execution"
   },
   {
    "code": "xs3 = np.linspace(0, 0.2, 1000)\n\nf1 = widgets.IntSlider(value = 1, min = 1, max = 600, step = 1, description = \"frequency 1\")\nf1.layout.width = '400px'\nf2 = widgets.IntSlider(value = 1, min = 1, max = 600, step = 1, description = \"frequency 2\")\nf2.layout.width = '400px'\n\nbutton = widgets.Button(description='Play Sound')\nout3 = widgets.Output()\nfig3 = go.FigureWidget()\n\nfig3.add_trace(go.Scatter(x=xs3, y=np.sin(2*np.pi*1*xs3) + np.sin(2*np.pi*1*xs),\n                    mode='lines',\n                    name='sum'))\nfig3.add_trace(go.Scatter(x = xs3, y = np.sin(2*np.pi*80*xs3), mode = \"lines\", opacity = 0.2, name = \"frequency 1\"))\nfig3.add_trace(go.Scatter(x = xs3, y = np.sin(2*np.pi*80*xs3), mode = \"lines\", opacity = 0.2, name = \"frequency 2\"))\n\nfig3.layout = dict(yaxis=dict(range=[-2,2]), xaxis=dict(range=[0,0.2]),width = 900)\n\nfig3.update_layout(\n    title={\n        'text': r'$y = \\sin(2 \\pi f_1 t) + \\sin(2 \\pi f_2 t)$',\n        'y':0.85,\n        'x':0.5,\n        'xanchor': 'center',\n        'yanchor': 'top'})\n\nfig3.update_xaxes(\n        title_text = r\"$t \\text{ (seconds})$\",\n        title_standoff = 15,\n        ticks = 'outside',\n        ticklen = 10,\n        tickcolor='white')\n\nfig3.update_yaxes(\n        title_text = '',\n        title_standoff = 25,\n        ticks = 'outside',\n        ticklen = 10,\n        tickcolor = 'white')\n\nfig3.update_layout(showlegend=False)\n\ndef on_button_clicked(_):\n\n    play(f1.value, f2.value)\n    \n\ndef update_trace(freq1, freq2):\n    \n    fig3.data[0].y = np.sin(2*np.pi*freq1*xs3) + np.sin(2*np.pi*freq2*xs3)\n    fig3.data[1].y = np.sin(2*np.pi*freq1*xs3)\n    fig3.data[2].y = np.sin(2*np.pi*freq2*xs3)\n\nbutton.on_click(on_button_clicked)\n\nwidgets.VBox([fig3,button,out3])\nvb = widgets.VBox((fig3, interactive(update_trace, freq1 = f1, freq2 = f2), button))\nvb.layout.align_items = 'center'\nvb",
    "id": "098e3fc23e094cb3ba16c32c1ccd195e",
    "idx": 22,
    "time": "2021-02-02T21:38:20.983Z",
    "type": "execution"
   },
   {
    "id": "6b4d657a860544c98a609b72e4a97cbe",
    "time": "2021-02-02T21:38:21.061Z",
    "type": "completion"
   },
   {
    "id": "3a9b95ee205042adb2b52997af38ccb9",
    "time": "2021-02-02T21:38:25.258Z",
    "type": "completion"
   },
   {
    "id": "bcbd2babde7b41a381a2bd07ffe1aaa1",
    "time": "2021-02-02T21:38:25.400Z",
    "type": "completion"
   },
   {
    "id": "d59a8232748a41feb7cbe641d641f55c",
    "time": "2021-02-02T21:38:25.401Z",
    "type": "completion"
   },
   {
    "id": "098e3fc23e094cb3ba16c32c1ccd195e",
    "time": "2021-02-02T21:38:25.558Z",
    "type": "completion"
   },
   {
    "code": "from IPython.display import HTML\n\nHTML('''<script>\ncode_show=true; \nfunction code_toggle() {\n if (code_show){\n $('div.input').hide();\n } else {\n $('div.input').show();\n }\n code_show = !code_show\n} \n$( document ).ready(code_toggle);\n</script>\n<form action=\"javascript:code_toggle()\"><input type=\"submit\" value=\"Click here to toggle on/off the raw code.\"></form>''')",
    "id": "dcbd100ab1ee44ce8aab3d7a3fb24609",
    "idx": 10,
    "time": "2021-02-02T21:44:30.713Z",
    "type": "execution"
   },
   {
    "code": "import plotly.graph_objs as go\nfrom ipywidgets import interactive, HBox, VBox, widgets, interact\nimport numpy as np\n\nxs = np.linspace(0, 5, 1000)\n\ndef wave(lam, phi, x):\n    \n    return np.sin(2*np.pi*x/lam + phi)\n\nfig = go.FigureWidget()\n\nfig.layout = dict(yaxis=dict(range=[-1,1]), xaxis=dict(range=[0,5]),width = 1000)\n\nfig.update_layout(\n    title={\n        'text': r'$y = \\sin \\Big(\\frac{2 \\pi  x}{\\lambda} + \\phi \\Big)$',\n        'y':0.85,\n        'x':0.5,\n        'xanchor': 'center',\n        'yanchor': 'top'})\n\nfig.update_xaxes(\n        title_text = r\"$x$\",\n        title_standoff = 15,\n        ticks = 'outside',\n        ticklen = 10,\n        tickcolor='white')\n\nfig.update_yaxes(\n        title_text = '',\n        title_standoff = 25,\n        ticks = 'outside',\n        ticklen = 10,\n        tickcolor = 'white')\n\n\nline = fig.add_trace(go.Scatter(x=xs, y=wave(1, 0, xs),\n                    mode='lines',\n                    name='lines'))\n\nslider = widgets.FloatSlider(\n    value = 1,\n    min=0.1,\n    max=10,\n    step=0.1,\n    readout=True,\n    description=r'$\\lambda$')\nslider.layout.width = '400px'\n\nslider2 = widgets.FloatSlider(\n    value = 0,\n    min=-3.14,\n    max=3.14,\n    step=0.01,\n    readout=True,\n    description=r'$\\phi$')\nslider2.layout.width = '400px'\n\ndef update_range(lam, phi):\n    fig.data[0].y=wave(lam, phi, xs)\n\nvb = VBox((fig, interactive(update_range, lam = slider, phi = slider2)))\nvb.layout.align_items = 'center'\nvb",
    "id": "2a87231a3f2145e1a3000f8fe3f0f4fe",
    "idx": 11,
    "time": "2021-02-02T21:44:30.716Z",
    "type": "execution"
   },
   {
    "code": "xs2 = np.linspace(0, 5, 500)\n\ndef traveling_wave(k, omega, x, t):\n    return np.sin(k*x - omega*t/10.)\n\nfig2 = go.FigureWidget()\n\nfig2.layout = dict(yaxis=dict(range=[-1,1]), xaxis=dict(range=[0,5]),width = 1000)\n\nfig2.update_layout(\n    title={\n        'text': r'$y = \\sin(kx - \\omega t)$',\n        'y':0.85,\n        'x':0.5,\n        'xanchor': 'center',\n        'yanchor': 'top'})\n\nfig2.update_xaxes(\n        title_text = r\"$x$\",\n        title_standoff = 15,\n        ticks = 'outside',\n        ticklen = 10,\n        tickcolor='white')\n\nfig2.update_yaxes(\n        title_text = '',\n        title_standoff = 25,\n        ticks = 'outside',\n        ticklen = 10,\n        tickcolor = 'white')\n\n\nline2 = fig2.add_trace(go.Scatter(x=xs2, y=traveling_wave(1, 0, xs2, 0),\n                    mode='lines',\n                    name='lines'))\n\nbslider = widgets.FloatSlider(\n    value = 3.14,\n    min=0.1,\n    max=10,\n    step=0.02,\n    readout=True,\n    description=r'$k$')\nbslider.layout.width = '400px'\n\nbslider2 = widgets.FloatSlider(\n    value = 0,\n    min=-1,\n    max=1,\n    step=0.1,\n    readout=True,\n    description=r'$\\omega$')\nbslider2.layout.width = '400px'\n\nplay = widgets.Play(\n    interval = 5,\n    value = 0,\n    min=0,\n    max=500,\n    step=1\n)\n\ndef update2(k, omega, time):\n    \n    fig2.data[0].y=traveling_wave(k, omega, xs2, time)\n\nvb2 = VBox((fig2, interactive(update2, k = bslider, omega = bslider2, time = play)))\nvb2.layout.align_items = 'center'\nvb2",
    "id": "3c7b6d79c3aa4d2c954efd8e3ae6955e",
    "idx": 16,
    "time": "2021-02-02T21:44:30.718Z",
    "type": "execution"
   },
   {
    "code": "from IPython.display import Audio,display, clear_output\n\ndef play(f1, f2, sec=2):\n    \n    framerate = 44100\n    t = np.linspace(0, sec, framerate * sec)\n    data = np.sin(2 * np.pi * f1 * t) + np.sin(2 * np.pi * f2 * t)\n    display(InvisibleAudio(data, rate=framerate, autoplay=True))\n    \n\nclass InvisibleAudio(Audio):\n    \n    def _repr_html_(self):\n        audio = super()._repr_html_()\n        audio = audio.replace('<audio', f'<audio onended=\"this.parentNode.removeChild(this)\"')\n        return f'<div style=\"display:none\">{audio}</div>'",
    "id": "b99e7e70e0af469b8caf5c23645a36a2",
    "idx": 21,
    "time": "2021-02-02T21:44:30.719Z",
    "type": "execution"
   },
   {
    "code": "xs3 = np.linspace(0, 0.2, 1000)\n\nf1 = widgets.IntSlider(value = 1, min = 1, max = 600, step = 1, description = \"frequency 1\")\nf1.layout.width = '400px'\nf2 = widgets.IntSlider(value = 1, min = 1, max = 600, step = 1, description = \"frequency 2\")\nf2.layout.width = '400px'\n\nbutton = widgets.Button(description='Play Sound')\nout3 = widgets.Output()\nfig3 = go.FigureWidget()\n\nfig3.add_trace(go.Scatter(x=xs3, y=np.sin(2*np.pi*1*xs3) + np.sin(2*np.pi*1*xs),\n                    mode='lines',\n                    name='sum'))\nfig3.add_trace(go.Scatter(x = xs3, y = np.sin(2*np.pi*80*xs3), mode = \"lines\", opacity = 0.2, name = \"frequency 1\"))\nfig3.add_trace(go.Scatter(x = xs3, y = np.sin(2*np.pi*80*xs3), mode = \"lines\", opacity = 0.2, name = \"frequency 2\"))\n\nfig3.layout = dict(yaxis=dict(range=[-2,2]), xaxis=dict(range=[0,0.2]),width = 900)\n\nfig3.update_layout(\n    title={\n        'text': r'$y = \\sin(2 \\pi f_1 t) + \\sin(2 \\pi f_2 t)$',\n        'y':0.85,\n        'x':0.5,\n        'xanchor': 'center',\n        'yanchor': 'top'})\n\nfig3.update_xaxes(\n        title_text = r\"$t \\text{ (seconds})$\",\n        title_standoff = 15,\n        ticks = 'outside',\n        ticklen = 10,\n        tickcolor='white')\n\nfig3.update_yaxes(\n        title_text = '',\n        title_standoff = 25,\n        ticks = 'outside',\n        ticklen = 10,\n        tickcolor = 'white')\n\nfig3.update_layout(showlegend=False)\n\ndef on_button_clicked(_):\n\n    play(f1.value, f2.value)\n    \n\ndef update_trace(freq1, freq2):\n    \n    fig3.data[0].y = np.sin(2*np.pi*freq1*xs3) + np.sin(2*np.pi*freq2*xs3)\n    fig3.data[1].y = np.sin(2*np.pi*freq1*xs3)\n    fig3.data[2].y = np.sin(2*np.pi*freq2*xs3)\n\nbutton.on_click(on_button_clicked)\n\nwidgets.VBox([fig3,button,out3])\nvb = widgets.VBox((fig3, interactive(update_trace, freq1 = f1, freq2 = f2), button))\nvb.layout.align_items = 'center'\nvb",
    "id": "0b3451cdda5840f8ae8291174746dc21",
    "idx": 22,
    "time": "2021-02-02T21:44:30.720Z",
    "type": "execution"
   },
   {
    "id": "2a87231a3f2145e1a3000f8fe3f0f4fe",
    "time": "2021-02-02T21:44:32.214Z",
    "type": "completion"
   },
   {
    "id": "3c7b6d79c3aa4d2c954efd8e3ae6955e",
    "time": "2021-02-02T21:44:32.367Z",
    "type": "completion"
   },
   {
    "id": "b99e7e70e0af469b8caf5c23645a36a2",
    "time": "2021-02-02T21:44:32.368Z",
    "type": "completion"
   },
   {
    "id": "0b3451cdda5840f8ae8291174746dc21",
    "time": "2021-02-02T21:44:32.506Z",
    "type": "completion"
   },
   {
    "code": "from IPython.display import HTML\n\nHTML('''<script>\ncode_show=true; \nfunction code_toggle() {\n if (code_show){\n $('div.input').hide();\n } else {\n $('div.input').show();\n }\n code_show = !code_show\n} \n$( document ).ready(code_toggle);\n</script>\n<form action=\"javascript:code_toggle()\"><input type=\"submit\" value=\"Click here to toggle on/off the raw code.\"></form>''')",
    "id": "f30f8072e5934d2e8786b647f48bb3f8",
    "idx": 10,
    "time": "2021-02-02T22:15:04.361Z",
    "type": "execution"
   },
   {
    "code": "import plotly.graph_objs as go\nfrom ipywidgets import interactive, HBox, VBox, widgets, interact\nimport numpy as np\n\nxs = np.linspace(0, 5, 1000)\n\ndef wave(lam, phi, x):\n    \n    return np.sin(2*np.pi*x/lam + phi)\n\nfig = go.FigureWidget()\n\nfig.layout = dict(yaxis=dict(range=[-1,1]), xaxis=dict(range=[0,5]),width = 1000)\n\nfig.update_layout(\n    title={\n        'text': r'$y = \\sin \\Big(\\frac{2 \\pi  x}{\\lambda} + \\phi \\Big)$',\n        'y':0.85,\n        'x':0.5,\n        'xanchor': 'center',\n        'yanchor': 'top'})\n\nfig.update_xaxes(\n        title_text = r\"$x$\",\n        title_standoff = 15,\n        ticks = 'outside',\n        ticklen = 10,\n        tickcolor='white')\n\nfig.update_yaxes(\n        title_text = '',\n        title_standoff = 25,\n        ticks = 'outside',\n        ticklen = 10,\n        tickcolor = 'white')\n\n\nline = fig.add_trace(go.Scatter(x=xs, y=wave(1, 0, xs),\n                    mode='lines',\n                    name='lines'))\n\nslider = widgets.FloatSlider(\n    value = 1,\n    min=0.1,\n    max=10,\n    step=0.1,\n    readout=True,\n    description=r'$\\lambda$')\nslider.layout.width = '400px'\n\nslider2 = widgets.FloatSlider(\n    value = 0,\n    min=-3.14,\n    max=3.14,\n    step=0.01,\n    readout=True,\n    description=r'$\\phi$')\nslider2.layout.width = '400px'\n\ndef update_range(lam, phi):\n    fig.data[0].y=wave(lam, phi, xs)\n\nvb = VBox((fig, interactive(update_range, lam = slider, phi = slider2)))\nvb.layout.align_items = 'center'\nvb",
    "id": "db7a05d738214dc3821d972c9b17c2bd",
    "idx": 11,
    "time": "2021-02-02T22:15:04.363Z",
    "type": "execution"
   },
   {
    "code": "xs2 = np.linspace(0, 5, 500)\n\ndef traveling_wave(k, omega, x, t):\n    return np.sin(k*x - omega*t/10.)\n\nfig2 = go.FigureWidget()\n\nfig2.layout = dict(yaxis=dict(range=[-1,1]), xaxis=dict(range=[0,5]),width = 1000)\n\nfig2.update_layout(\n    title={\n        'text': r'$y = \\sin(kx - \\omega t)$',\n        'y':0.85,\n        'x':0.5,\n        'xanchor': 'center',\n        'yanchor': 'top'})\n\nfig2.update_xaxes(\n        title_text = r\"$x$\",\n        title_standoff = 15,\n        ticks = 'outside',\n        ticklen = 10,\n        tickcolor='white')\n\nfig2.update_yaxes(\n        title_text = '',\n        title_standoff = 25,\n        ticks = 'outside',\n        ticklen = 10,\n        tickcolor = 'white')\n\n\nline2 = fig2.add_trace(go.Scatter(x=xs2, y=traveling_wave(1, 0, xs2, 0),\n                    mode='lines',\n                    name='lines'))\n\nbslider = widgets.FloatSlider(\n    value = 3.14,\n    min=0.1,\n    max=10,\n    step=0.02,\n    readout=True,\n    description=r'$k$')\nbslider.layout.width = '400px'\n\nbslider2 = widgets.FloatSlider(\n    value = 0,\n    min=-1,\n    max=1,\n    step=0.1,\n    readout=True,\n    description=r'$\\omega$')\nbslider2.layout.width = '400px'\n\nplay = widgets.Play(\n    interval = 5,\n    value = 0,\n    min=0,\n    max=500,\n    step=1\n)\n\ndef update2(k, omega, time):\n    \n    fig2.data[0].y=traveling_wave(k, omega, xs2, time)\n\nvb2 = VBox((fig2, interactive(update2, k = bslider, omega = bslider2, time = play)))\nvb2.layout.align_items = 'center'\nvb2",
    "id": "ad6ca4fecf854fef86ce9d297f6c0431",
    "idx": 16,
    "time": "2021-02-02T22:15:04.365Z",
    "type": "execution"
   },
   {
    "code": "from IPython.display import Audio,display, clear_output\n\ndef play(f1, f2, sec=2):\n    \n    framerate = 44100\n    t = np.linspace(0, sec, framerate * sec)\n    data = np.sin(2 * np.pi * f1 * t) + np.sin(2 * np.pi * f2 * t)\n    display(InvisibleAudio(data, rate=framerate, autoplay=True))\n    \n\nclass InvisibleAudio(Audio):\n    \n    def _repr_html_(self):\n        audio = super()._repr_html_()\n        audio = audio.replace('<audio', f'<audio onended=\"this.parentNode.removeChild(this)\"')\n        return f'<div style=\"display:none\">{audio}</div>'",
    "id": "9316e5b0754446b98b4baec54457aee6",
    "idx": 21,
    "time": "2021-02-02T22:15:04.367Z",
    "type": "execution"
   },
   {
    "code": "xs3 = np.linspace(0, 0.2, 1000)\n\nf1 = widgets.IntSlider(value = 1, min = 1, max = 600, step = 1, description = \"frequency 1\")\nf1.layout.width = '400px'\nf2 = widgets.IntSlider(value = 1, min = 1, max = 600, step = 1, description = \"frequency 2\")\nf2.layout.width = '400px'\n\nbutton = widgets.Button(description='Play Sound')\nout3 = widgets.Output()\nfig3 = go.FigureWidget()\n\nfig3.add_trace(go.Scatter(x=xs3, y=np.sin(2*np.pi*1*xs3) + np.sin(2*np.pi*1*xs),\n                    mode='lines',\n                    name='sum'))\nfig3.add_trace(go.Scatter(x = xs3, y = np.sin(2*np.pi*80*xs3), mode = \"lines\", opacity = 0.2, name = \"frequency 1\"))\nfig3.add_trace(go.Scatter(x = xs3, y = np.sin(2*np.pi*80*xs3), mode = \"lines\", opacity = 0.2, name = \"frequency 2\"))\n\nfig3.layout = dict(yaxis=dict(range=[-2,2]), xaxis=dict(range=[0,0.2]),width = 900)\n\nfig3.update_layout(\n    title={\n        'text': r'$y = \\sin(2 \\pi f_1 t) + \\sin(2 \\pi f_2 t)$',\n        'y':0.85,\n        'x':0.5,\n        'xanchor': 'center',\n        'yanchor': 'top'})\n\nfig3.update_xaxes(\n        title_text = r\"$t \\text{ (seconds})$\",\n        title_standoff = 15,\n        ticks = 'outside',\n        ticklen = 10,\n        tickcolor='white')\n\nfig3.update_yaxes(\n        title_text = '',\n        title_standoff = 25,\n        ticks = 'outside',\n        ticklen = 10,\n        tickcolor = 'white')\n\nfig3.update_layout(showlegend=False)\n\ndef on_button_clicked(_):\n\n    play(f1.value, f2.value)\n    \n\ndef update_trace(freq1, freq2):\n    \n    fig3.data[0].y = np.sin(2*np.pi*freq1*xs3) + np.sin(2*np.pi*freq2*xs3)\n    fig3.data[1].y = np.sin(2*np.pi*freq1*xs3)\n    fig3.data[2].y = np.sin(2*np.pi*freq2*xs3)\n\nbutton.on_click(on_button_clicked)\n\nwidgets.VBox([fig3,button,out3])\nvb = widgets.VBox((fig3, interactive(update_trace, freq1 = f1, freq2 = f2), button))\nvb.layout.align_items = 'center'\nvb",
    "id": "22abd0c0d0db4e918c18400c90300604",
    "idx": 22,
    "time": "2021-02-02T22:15:04.368Z",
    "type": "execution"
   },
   {
    "id": "f30f8072e5934d2e8786b647f48bb3f8",
    "time": "2021-02-02T22:15:04.434Z",
    "type": "completion"
   },
   {
    "id": "db7a05d738214dc3821d972c9b17c2bd",
    "time": "2021-02-02T22:15:05.835Z",
    "type": "completion"
   },
   {
    "id": "ad6ca4fecf854fef86ce9d297f6c0431",
    "time": "2021-02-02T22:15:05.980Z",
    "type": "completion"
   },
   {
    "id": "9316e5b0754446b98b4baec54457aee6",
    "time": "2021-02-02T22:15:05.980Z",
    "type": "completion"
   },
   {
    "id": "22abd0c0d0db4e918c18400c90300604",
    "time": "2021-02-02T22:15:06.135Z",
    "type": "completion"
   },
   {
    "code": "xs3 = np.linspace(0, 0.2, 1000)\n\nf1 = widgets.IntSlider(value = 1, min = 1, max = 600, step = 1, description = \"frequency 1\")\nf1.layout.width = '400px'\nf2 = widgets.IntSlider(value = 1, min = 1, max = 600, step = 1, description = \"frequency 2\")\nf2.layout.width = '400px'\n\nbutton = widgets.Button(description='Play Sound')\nout3 = widgets.Output()\nfig3 = go.FigureWidget()\n\nfig3.add_trace(go.Scatter(x=xs3, y=np.sin(2*np.pi*1*xs3) + np.sin(2*np.pi*1*xs),\n                    mode='lines',\n                    name='sum'))\nfig3.add_trace(go.Scatter(x = xs3, y = np.sin(2*np.pi*80*xs3), mode = \"lines\", opacity = 0.2, name = \"frequency 1\"))\nfig3.add_trace(go.Scatter(x = xs3, y = np.sin(2*np.pi*80*xs3), mode = \"lines\", opacity = 0.2, name = \"frequency 2\"))\n\nfig3.layout = dict(yaxis=dict(range=[-2,2]), xaxis=dict(range=[0,0.2]),width = 900)\n\nfig3.update_layout(\n    title={\n        'text': r'$y = \\sin(2 \\pi f_1 t) + \\sin(2 \\pi f_2 t)$',\n        'y':0.85,\n        'x':0.5,\n        'xanchor': 'center',\n        'yanchor': 'top'})\n\nfig3.update_xaxes(\n        title_text = r\"$t \\text{ (seconds})$\",\n        title_standoff = 15,\n        ticks = 'outside',\n        ticklen = 10,\n        tickcolor='white')\n\nfig3.update_yaxes(\n        title_text = '',\n        title_standoff = 25,\n        ticks = 'outside',\n        ticklen = 10,\n        tickcolor = 'white')\n\nfig3.update_layout(showlegend=False)\n\ndef on_button_clicked(_):\n    with out3:\n        framerate = 44100\n        sec = 2\n        t = np.linspace(0, sec, framerate * sec)\n        data = np.sin(2 * np.pi * f1 * t) + np.sin(2 * np.pi * f2 * t)\n        display(Audio(data, rate=framerate, autoplay=True))\n    \n\ndef update_trace(freq1, freq2):\n    \n    fig3.data[0].y = np.sin(2*np.pi*freq1*xs3) + np.sin(2*np.pi*freq2*xs3)\n    fig3.data[1].y = np.sin(2*np.pi*freq1*xs3)\n    fig3.data[2].y = np.sin(2*np.pi*freq2*xs3)\n\nbutton.on_click(on_button_clicked)\n\nwidgets.VBox([fig3,button,out3])\nvb = widgets.VBox((fig3, interactive(update_trace, freq1 = f1, freq2 = f2), button))\nvb.layout.align_items = 'center'\nvb",
    "id": "22abd0c0d0db4e918c18400c90300604",
    "idx": 22,
    "time": "2021-02-02T23:08:45.629Z",
    "type": "execution"
   },
   {
    "id": "22abd0c0d0db4e918c18400c90300604",
    "time": "2021-02-02T23:08:46.218Z",
    "type": "completion"
   },
   {
    "code": "xs3 = np.linspace(0, 0.2, 1000)\n\nf1 = widgets.IntSlider(value = 1, min = 1, max = 600, step = 1, description = \"frequency 1\")\nf1.layout.width = '400px'\nf2 = widgets.IntSlider(value = 1, min = 1, max = 600, step = 1, description = \"frequency 2\")\nf2.layout.width = '400px'\n\nbutton = widgets.Button(description='Play Sound')\nout3 = widgets.Output()\nfig3 = go.FigureWidget()\n\nfig3.add_trace(go.Scatter(x=xs3, y=np.sin(2*np.pi*1*xs3) + np.sin(2*np.pi*1*xs),\n                    mode='lines',\n                    name='sum'))\nfig3.add_trace(go.Scatter(x = xs3, y = np.sin(2*np.pi*80*xs3), mode = \"lines\", opacity = 0.2, name = \"frequency 1\"))\nfig3.add_trace(go.Scatter(x = xs3, y = np.sin(2*np.pi*80*xs3), mode = \"lines\", opacity = 0.2, name = \"frequency 2\"))\n\nfig3.layout = dict(yaxis=dict(range=[-2,2]), xaxis=dict(range=[0,0.2]),width = 900)\n\nfig3.update_layout(\n    title={\n        'text': r'$y = \\sin(2 \\pi f_1 t) + \\sin(2 \\pi f_2 t)$',\n        'y':0.85,\n        'x':0.5,\n        'xanchor': 'center',\n        'yanchor': 'top'})\n\nfig3.update_xaxes(\n        title_text = r\"$t \\text{ (seconds})$\",\n        title_standoff = 15,\n        ticks = 'outside',\n        ticklen = 10,\n        tickcolor='white')\n\nfig3.update_yaxes(\n        title_text = '',\n        title_standoff = 25,\n        ticks = 'outside',\n        ticklen = 10,\n        tickcolor = 'white')\n\nfig3.update_layout(showlegend=False)\n\ndef on_button_clicked(_):\n    with out3:\n        framerate = 44100\n        sec = 2\n        t = np.linspace(0, sec, framerate * sec)\n        data = np.sin(2 * np.pi * f1 * t) + np.sin(2 * np.pi * f2 * t)\n        display(Audio(data, rate=framerate, autoplay=True))\n    display(out3)\n    \n\ndef update_trace(freq1, freq2):\n    \n    fig3.data[0].y = np.sin(2*np.pi*freq1*xs3) + np.sin(2*np.pi*freq2*xs3)\n    fig3.data[1].y = np.sin(2*np.pi*freq1*xs3)\n    fig3.data[2].y = np.sin(2*np.pi*freq2*xs3)\n\nbutton.on_click(on_button_clicked)\n\nwidgets.VBox([fig3,button,out3])\nvb = widgets.VBox((fig3, interactive(update_trace, freq1 = f1, freq2 = f2), button))\nvb.layout.align_items = 'center'\nvb",
    "id": "22abd0c0d0db4e918c18400c90300604",
    "idx": 22,
    "time": "2021-02-02T23:09:06.521Z",
    "type": "execution"
   },
   {
    "id": "22abd0c0d0db4e918c18400c90300604",
    "time": "2021-02-02T23:09:07.106Z",
    "type": "completion"
   },
   {
    "code": "xs3 = np.linspace(0, 0.2, 1000)\n\nf1 = widgets.IntSlider(value = 1, min = 1, max = 600, step = 1, description = \"frequency 1\")\nf1.layout.width = '400px'\nf2 = widgets.IntSlider(value = 1, min = 1, max = 600, step = 1, description = \"frequency 2\")\nf2.layout.width = '400px'\n\nbutton = widgets.Button(description='Play Sound')\nout3 = widgets.Output()\nfig3 = go.FigureWidget()\n\nfig3.add_trace(go.Scatter(x=xs3, y=np.sin(2*np.pi*1*xs3) + np.sin(2*np.pi*1*xs),\n                    mode='lines',\n                    name='sum'))\nfig3.add_trace(go.Scatter(x = xs3, y = np.sin(2*np.pi*80*xs3), mode = \"lines\", opacity = 0.2, name = \"frequency 1\"))\nfig3.add_trace(go.Scatter(x = xs3, y = np.sin(2*np.pi*80*xs3), mode = \"lines\", opacity = 0.2, name = \"frequency 2\"))\n\nfig3.layout = dict(yaxis=dict(range=[-2,2]), xaxis=dict(range=[0,0.2]),width = 900)\n\nfig3.update_layout(\n    title={\n        'text': r'$y = \\sin(2 \\pi f_1 t) + \\sin(2 \\pi f_2 t)$',\n        'y':0.85,\n        'x':0.5,\n        'xanchor': 'center',\n        'yanchor': 'top'})\n\nfig3.update_xaxes(\n        title_text = r\"$t \\text{ (seconds})$\",\n        title_standoff = 15,\n        ticks = 'outside',\n        ticklen = 10,\n        tickcolor='white')\n\nfig3.update_yaxes(\n        title_text = '',\n        title_standoff = 25,\n        ticks = 'outside',\n        ticklen = 10,\n        tickcolor = 'white')\n\nfig3.update_layout(showlegend=False)\n\ndef on_button_clicked(_):\n    with out3:\n        framerate = 44100\n        sec = 2\n        t = np.linspace(0, sec, framerate * sec)\n        data = np.sin(2 * np.pi * f1.value * t) + np.sin(2 * np.pi * f2.value * t)\n        display(Audio(data, rate=framerate, autoplay=True))\n    display(out3)\n    \n\ndef update_trace(freq1, freq2):\n    \n    fig3.data[0].y = np.sin(2*np.pi*freq1*xs3) + np.sin(2*np.pi*freq2*xs3)\n    fig3.data[1].y = np.sin(2*np.pi*freq1*xs3)\n    fig3.data[2].y = np.sin(2*np.pi*freq2*xs3)\n\nbutton.on_click(on_button_clicked)\n\nwidgets.VBox([fig3,button,out3])\nvb = widgets.VBox((fig3, interactive(update_trace, freq1 = f1, freq2 = f2), button))\nvb.layout.align_items = 'center'\nvb",
    "id": "22abd0c0d0db4e918c18400c90300604",
    "idx": 22,
    "time": "2021-02-02T23:09:28.029Z",
    "type": "execution"
   },
   {
    "id": "22abd0c0d0db4e918c18400c90300604",
    "time": "2021-02-02T23:09:28.577Z",
    "type": "completion"
   },
   {
    "code": "xs3 = np.linspace(0, 0.2, 1000)\n\nf1 = widgets.IntSlider(value = 1, min = 1, max = 600, step = 1, description = \"frequency 1\")\nf1.layout.width = '400px'\nf2 = widgets.IntSlider(value = 1, min = 1, max = 600, step = 1, description = \"frequency 2\")\nf2.layout.width = '400px'\n\nbutton = widgets.Button(description='Play Sound')\nout3 = widgets.Output()\nfig3 = go.FigureWidget()\n\nfig3.add_trace(go.Scatter(x=xs3, y=np.sin(2*np.pi*1*xs3) + np.sin(2*np.pi*1*xs),\n                    mode='lines',\n                    name='sum'))\nfig3.add_trace(go.Scatter(x = xs3, y = np.sin(2*np.pi*80*xs3), mode = \"lines\", opacity = 0.2, name = \"frequency 1\"))\nfig3.add_trace(go.Scatter(x = xs3, y = np.sin(2*np.pi*80*xs3), mode = \"lines\", opacity = 0.2, name = \"frequency 2\"))\n\nfig3.layout = dict(yaxis=dict(range=[-2,2]), xaxis=dict(range=[0,0.2]),width = 900)\n\nfig3.update_layout(\n    title={\n        'text': r'$y = \\sin(2 \\pi f_1 t) + \\sin(2 \\pi f_2 t)$',\n        'y':0.85,\n        'x':0.5,\n        'xanchor': 'center',\n        'yanchor': 'top'})\n\nfig3.update_xaxes(\n        title_text = r\"$t \\text{ (seconds})$\",\n        title_standoff = 15,\n        ticks = 'outside',\n        ticklen = 10,\n        tickcolor='white')\n\nfig3.update_yaxes(\n        title_text = '',\n        title_standoff = 25,\n        ticks = 'outside',\n        ticklen = 10,\n        tickcolor = 'white')\n\nfig3.update_layout(showlegend=False)\n\ndef on_button_clicked(_):\n    with out3:\n        framerate = 44100\n        sec = 2\n        t = np.linspace(0, sec, framerate * sec)\n        data = np.sin(2 * np.pi * f1.value * t) + np.sin(2 * np.pi * f2.value * t)\n        display(Audio(data, rate=framerate, autoplay=True))\n    display(out3)\n    out3.clear_output()\n    \n\ndef update_trace(freq1, freq2):\n    \n    fig3.data[0].y = np.sin(2*np.pi*freq1*xs3) + np.sin(2*np.pi*freq2*xs3)\n    fig3.data[1].y = np.sin(2*np.pi*freq1*xs3)\n    fig3.data[2].y = np.sin(2*np.pi*freq2*xs3)\n\nbutton.on_click(on_button_clicked)\n\nwidgets.VBox([fig3,button,out3])\nvb = widgets.VBox((fig3, interactive(update_trace, freq1 = f1, freq2 = f2), button))\nvb.layout.align_items = 'center'\nvb",
    "id": "22abd0c0d0db4e918c18400c90300604",
    "idx": 22,
    "time": "2021-02-02T23:09:47.293Z",
    "type": "execution"
   },
   {
    "code": "xs3 = np.linspace(0, 0.2, 1000)\n\nf1 = widgets.IntSlider(value = 1, min = 1, max = 600, step = 1, description = \"frequency 1\")\nf1.layout.width = '400px'\nf2 = widgets.IntSlider(value = 1, min = 1, max = 600, step = 1, description = \"frequency 2\")\nf2.layout.width = '400px'\n\nbutton = widgets.Button(description='Play Sound')\nout3 = widgets.Output()\nfig3 = go.FigureWidget()\n\nfig3.add_trace(go.Scatter(x=xs3, y=np.sin(2*np.pi*1*xs3) + np.sin(2*np.pi*1*xs),\n                    mode='lines',\n                    name='sum'))\nfig3.add_trace(go.Scatter(x = xs3, y = np.sin(2*np.pi*80*xs3), mode = \"lines\", opacity = 0.2, name = \"frequency 1\"))\nfig3.add_trace(go.Scatter(x = xs3, y = np.sin(2*np.pi*80*xs3), mode = \"lines\", opacity = 0.2, name = \"frequency 2\"))\n\nfig3.layout = dict(yaxis=dict(range=[-2,2]), xaxis=dict(range=[0,0.2]),width = 900)\n\nfig3.update_layout(\n    title={\n        'text': r'$y = \\sin(2 \\pi f_1 t) + \\sin(2 \\pi f_2 t)$',\n        'y':0.85,\n        'x':0.5,\n        'xanchor': 'center',\n        'yanchor': 'top'})\n\nfig3.update_xaxes(\n        title_text = r\"$t \\text{ (seconds})$\",\n        title_standoff = 15,\n        ticks = 'outside',\n        ticklen = 10,\n        tickcolor='white')\n\nfig3.update_yaxes(\n        title_text = '',\n        title_standoff = 25,\n        ticks = 'outside',\n        ticklen = 10,\n        tickcolor = 'white')\n\nfig3.update_layout(showlegend=False)\n\ndef on_button_clicked(_):\n    with out3:\n        framerate = 44100\n        sec = 2\n        t = np.linspace(0, sec, framerate * sec)\n        data = np.sin(2 * np.pi * f1.value * t) + np.sin(2 * np.pi * f2.value * t)\n        display(Audio(data, rate=framerate, autoplay=True))\n    display(out3)\n    out3.clear_output()\n    \n\ndef update_trace(freq1, freq2):\n    \n    fig3.data[0].y = np.sin(2*np.pi*freq1*xs3) + np.sin(2*np.pi*freq2*xs3)\n    fig3.data[1].y = np.sin(2*np.pi*freq1*xs3)\n    fig3.data[2].y = np.sin(2*np.pi*freq2*xs3)\n\nbutton.on_click(on_button_clicked)\n\nwidgets.VBox([fig3,button,out3])\nvb = widgets.VBox((fig3, interactive(update_trace, freq1 = f1, freq2 = f2), button))\nvb.layout.align_items = 'center'\nvb",
    "id": "18416b1bdd104237aed849573faca336",
    "idx": 22,
    "time": "2021-02-02T23:16:32.234Z",
    "type": "execution"
   },
   {
    "id": "18416b1bdd104237aed849573faca336",
    "time": "2021-02-02T23:16:32.791Z",
    "type": "completion"
   },
   {
    "code": "xs3 = np.linspace(0, 0.2, 1000)\n\nf1 = widgets.IntSlider(value = 1, min = 1, max = 600, step = 1, description = \"frequency 1\")\nf1.layout.width = '400px'\nf2 = widgets.IntSlider(value = 1, min = 1, max = 600, step = 1, description = \"frequency 2\")\nf2.layout.width = '400px'\n\nbutton = widgets.Button(description='Play Sound')\nout3 = widgets.Output()\nfig3 = go.FigureWidget()\n\nfig3.add_trace(go.Scatter(x=xs3, y=np.sin(2*np.pi*1*xs3) + np.sin(2*np.pi*1*xs),\n                    mode='lines',\n                    name='sum'))\nfig3.add_trace(go.Scatter(x = xs3, y = np.sin(2*np.pi*80*xs3), mode = \"lines\", opacity = 0.2, name = \"frequency 1\"))\nfig3.add_trace(go.Scatter(x = xs3, y = np.sin(2*np.pi*80*xs3), mode = \"lines\", opacity = 0.2, name = \"frequency 2\"))\n\nfig3.layout = dict(yaxis=dict(range=[-2,2]), xaxis=dict(range=[0,0.2]),width = 900)\n\nfig3.update_layout(\n    title={\n        'text': r'$y = \\sin(2 \\pi f_1 t) + \\sin(2 \\pi f_2 t)$',\n        'y':0.85,\n        'x':0.5,\n        'xanchor': 'center',\n        'yanchor': 'top'})\n\nfig3.update_xaxes(\n        title_text = r\"$t \\text{ (seconds})$\",\n        title_standoff = 15,\n        ticks = 'outside',\n        ticklen = 10,\n        tickcolor='white')\n\nfig3.update_yaxes(\n        title_text = '',\n        title_standoff = 25,\n        ticks = 'outside',\n        ticklen = 10,\n        tickcolor = 'white')\n\nfig3.update_layout(showlegend=False)\n\ndef on_button_clicked(_):\n    with out3:\n        framerate = 44100\n        sec = 2\n        t = np.linspace(0, sec, framerate * sec)\n        data = np.sin(2 * np.pi * f1.value * t) + np.sin(2 * np.pi * f2.value * t)\n        display(Audio(data, rate=framerate, autoplay=True))\n    display(out3)\n    #out3.clear_output()\n    \n\ndef update_trace(freq1, freq2):\n    \n    fig3.data[0].y = np.sin(2*np.pi*freq1*xs3) + np.sin(2*np.pi*freq2*xs3)\n    fig3.data[1].y = np.sin(2*np.pi*freq1*xs3)\n    fig3.data[2].y = np.sin(2*np.pi*freq2*xs3)\n\nbutton.on_click(on_button_clicked)\n\nwidgets.VBox([fig3,button,out3])\nvb = widgets.VBox((fig3, interactive(update_trace, freq1 = f1, freq2 = f2), button))\nvb.layout.align_items = 'center'\nvb",
    "id": "18416b1bdd104237aed849573faca336",
    "idx": 22,
    "time": "2021-02-02T23:16:42.438Z",
    "type": "execution"
   },
   {
    "id": "18416b1bdd104237aed849573faca336",
    "time": "2021-02-02T23:16:43.032Z",
    "type": "completion"
   },
   {
    "code": "xs3 = np.linspace(0, 0.2, 1000)\n\nf1 = widgets.IntSlider(value = 1, min = 1, max = 600, step = 1, description = \"frequency 1\")\nf1.layout.width = '400px'\nf2 = widgets.IntSlider(value = 1, min = 1, max = 600, step = 1, description = \"frequency 2\")\nf2.layout.width = '400px'\n\nbutton = widgets.Button(description='Play Sound')\nout3 = widgets.Output()\nfig3 = go.FigureWidget()\n\nfig3.add_trace(go.Scatter(x=xs3, y=np.sin(2*np.pi*1*xs3) + np.sin(2*np.pi*1*xs),\n                    mode='lines',\n                    name='sum'))\nfig3.add_trace(go.Scatter(x = xs3, y = np.sin(2*np.pi*80*xs3), mode = \"lines\", opacity = 0.2, name = \"frequency 1\"))\nfig3.add_trace(go.Scatter(x = xs3, y = np.sin(2*np.pi*80*xs3), mode = \"lines\", opacity = 0.2, name = \"frequency 2\"))\n\nfig3.layout = dict(yaxis=dict(range=[-2,2]), xaxis=dict(range=[0,0.2]),width = 900)\n\nfig3.update_layout(\n    title={\n        'text': r'$y = \\sin(2 \\pi f_1 t) + \\sin(2 \\pi f_2 t)$',\n        'y':0.85,\n        'x':0.5,\n        'xanchor': 'center',\n        'yanchor': 'top'})\n\nfig3.update_xaxes(\n        title_text = r\"$t \\text{ (seconds})$\",\n        title_standoff = 15,\n        ticks = 'outside',\n        ticklen = 10,\n        tickcolor='white')\n\nfig3.update_yaxes(\n        title_text = '',\n        title_standoff = 25,\n        ticks = 'outside',\n        ticklen = 10,\n        tickcolor = 'white')\n\nfig3.update_layout(showlegend=False)\n\ndef on_button_clicked(_):\n    with out3:\n        framerate = 44100\n        sec = 2\n        t = np.linspace(0, sec, framerate * sec)\n        data = np.sin(2 * np.pi * f1.value * t) + np.sin(2 * np.pi * f2.value * t)\n        display(Audio(data, rate=framerate, autoplay=True))\n    display(out3)\n    out3.clear_output(wait= True)\n    \n\ndef update_trace(freq1, freq2):\n    \n    fig3.data[0].y = np.sin(2*np.pi*freq1*xs3) + np.sin(2*np.pi*freq2*xs3)\n    fig3.data[1].y = np.sin(2*np.pi*freq1*xs3)\n    fig3.data[2].y = np.sin(2*np.pi*freq2*xs3)\n\nbutton.on_click(on_button_clicked)\n\nwidgets.VBox([fig3,button,out3])\nvb = widgets.VBox((fig3, interactive(update_trace, freq1 = f1, freq2 = f2), button))\nvb.layout.align_items = 'center'\nvb",
    "id": "18416b1bdd104237aed849573faca336",
    "idx": 22,
    "time": "2021-02-02T23:17:06.489Z",
    "type": "execution"
   },
   {
    "id": "18416b1bdd104237aed849573faca336",
    "time": "2021-02-02T23:17:06.991Z",
    "type": "completion"
   },
   {
    "code": "xs3 = np.linspace(0, 0.2, 1000)\n\nf1 = widgets.IntSlider(value = 1, min = 1, max = 600, step = 1, description = \"frequency 1\")\nf1.layout.width = '400px'\nf2 = widgets.IntSlider(value = 1, min = 1, max = 600, step = 1, description = \"frequency 2\")\nf2.layout.width = '400px'\n\nbutton = widgets.Button(description='Play Sound')\nout3 = widgets.Output()\nfig3 = go.FigureWidget()\n\nfig3.add_trace(go.Scatter(x=xs3, y=np.sin(2*np.pi*1*xs3) + np.sin(2*np.pi*1*xs),\n                    mode='lines',\n                    name='sum'))\nfig3.add_trace(go.Scatter(x = xs3, y = np.sin(2*np.pi*80*xs3), mode = \"lines\", opacity = 0.2, name = \"frequency 1\"))\nfig3.add_trace(go.Scatter(x = xs3, y = np.sin(2*np.pi*80*xs3), mode = \"lines\", opacity = 0.2, name = \"frequency 2\"))\n\nfig3.layout = dict(yaxis=dict(range=[-2,2]), xaxis=dict(range=[0,0.2]),width = 900)\n\nfig3.update_layout(\n    title={\n        'text': r'$y = \\sin(2 \\pi f_1 t) + \\sin(2 \\pi f_2 t)$',\n        'y':0.85,\n        'x':0.5,\n        'xanchor': 'center',\n        'yanchor': 'top'})\n\nfig3.update_xaxes(\n        title_text = r\"$t \\text{ (seconds})$\",\n        title_standoff = 15,\n        ticks = 'outside',\n        ticklen = 10,\n        tickcolor='white')\n\nfig3.update_yaxes(\n        title_text = '',\n        title_standoff = 25,\n        ticks = 'outside',\n        ticklen = 10,\n        tickcolor = 'white')\n\nfig3.update_layout(showlegend=False)\n\ndef on_button_clicked(_):\n    with widgets.Output():\n        framerate = 44100\n        sec = 2\n        t = np.linspace(0, sec, framerate * sec)\n        data = np.sin(2 * np.pi * f1.value * t) + np.sin(2 * np.pi * f2.value * t)\n        display(Audio(data, rate=framerate, autoplay=True))\n    display()\n    clear_output(wait=True)\n    \n\ndef update_trace(freq1, freq2):\n    \n    fig3.data[0].y = np.sin(2*np.pi*freq1*xs3) + np.sin(2*np.pi*freq2*xs3)\n    fig3.data[1].y = np.sin(2*np.pi*freq1*xs3)\n    fig3.data[2].y = np.sin(2*np.pi*freq2*xs3)\n\nbutton.on_click(on_button_clicked)\n\nwidgets.VBox([fig3,button,out3])\nvb = widgets.VBox((fig3, interactive(update_trace, freq1 = f1, freq2 = f2), button))\nvb.layout.align_items = 'center'\nvb",
    "id": "18416b1bdd104237aed849573faca336",
    "idx": 22,
    "time": "2021-02-02T23:17:44.352Z",
    "type": "execution"
   },
   {
    "id": "18416b1bdd104237aed849573faca336",
    "time": "2021-02-02T23:17:44.954Z",
    "type": "completion"
   },
   {
    "code": "xs3 = np.linspace(0, 0.2, 1000)\n\nf1 = widgets.IntSlider(value = 1, min = 1, max = 600, step = 1, description = \"frequency 1\")\nf1.layout.width = '400px'\nf2 = widgets.IntSlider(value = 1, min = 1, max = 600, step = 1, description = \"frequency 2\")\nf2.layout.width = '400px'\n\nbutton = widgets.Button(description='Play Sound')\nout3 = widgets.Output()\nfig3 = go.FigureWidget()\n\nfig3.add_trace(go.Scatter(x=xs3, y=np.sin(2*np.pi*1*xs3) + np.sin(2*np.pi*1*xs),\n                    mode='lines',\n                    name='sum'))\nfig3.add_trace(go.Scatter(x = xs3, y = np.sin(2*np.pi*80*xs3), mode = \"lines\", opacity = 0.2, name = \"frequency 1\"))\nfig3.add_trace(go.Scatter(x = xs3, y = np.sin(2*np.pi*80*xs3), mode = \"lines\", opacity = 0.2, name = \"frequency 2\"))\n\nfig3.layout = dict(yaxis=dict(range=[-2,2]), xaxis=dict(range=[0,0.2]),width = 900)\n\nfig3.update_layout(\n    title={\n        'text': r'$y = \\sin(2 \\pi f_1 t) + \\sin(2 \\pi f_2 t)$',\n        'y':0.85,\n        'x':0.5,\n        'xanchor': 'center',\n        'yanchor': 'top'})\n\nfig3.update_xaxes(\n        title_text = r\"$t \\text{ (seconds})$\",\n        title_standoff = 15,\n        ticks = 'outside',\n        ticklen = 10,\n        tickcolor='white')\n\nfig3.update_yaxes(\n        title_text = '',\n        title_standoff = 25,\n        ticks = 'outside',\n        ticklen = 10,\n        tickcolor = 'white')\n\nfig3.update_layout(showlegend=False)\n\ndef on_button_clicked(_):\n    with widgets.Output():\n        framerate = 44100\n        sec = 2\n        t = np.linspace(0, sec, framerate * sec)\n        data = np.sin(2 * np.pi * f1.value * t) + np.sin(2 * np.pi * f2.value * t)\n        display(Audio(data, rate=framerate, autoplay=True))\n    display(widgets.Output())\n    clear_output(wait=True)\n    \n\ndef update_trace(freq1, freq2):\n    \n    fig3.data[0].y = np.sin(2*np.pi*freq1*xs3) + np.sin(2*np.pi*freq2*xs3)\n    fig3.data[1].y = np.sin(2*np.pi*freq1*xs3)\n    fig3.data[2].y = np.sin(2*np.pi*freq2*xs3)\n\nbutton.on_click(on_button_clicked)\n\nwidgets.VBox([fig3,button,out3])\nvb = widgets.VBox((fig3, interactive(update_trace, freq1 = f1, freq2 = f2), button))\nvb.layout.align_items = 'center'\nvb",
    "id": "18416b1bdd104237aed849573faca336",
    "idx": 22,
    "time": "2021-02-02T23:17:55.164Z",
    "type": "execution"
   },
   {
    "id": "18416b1bdd104237aed849573faca336",
    "time": "2021-02-02T23:17:55.779Z",
    "type": "completion"
   },
   {
    "code": "xs3 = np.linspace(0, 0.2, 1000)\n\nf1 = widgets.IntSlider(value = 1, min = 1, max = 600, step = 1, description = \"frequency 1\")\nf1.layout.width = '400px'\nf2 = widgets.IntSlider(value = 1, min = 1, max = 600, step = 1, description = \"frequency 2\")\nf2.layout.width = '400px'\n\nbutton = widgets.Button(description='Play Sound')\nout3 = widgets.Output()\nfig3 = go.FigureWidget()\n\nfig3.add_trace(go.Scatter(x=xs3, y=np.sin(2*np.pi*1*xs3) + np.sin(2*np.pi*1*xs),\n                    mode='lines',\n                    name='sum'))\nfig3.add_trace(go.Scatter(x = xs3, y = np.sin(2*np.pi*80*xs3), mode = \"lines\", opacity = 0.2, name = \"frequency 1\"))\nfig3.add_trace(go.Scatter(x = xs3, y = np.sin(2*np.pi*80*xs3), mode = \"lines\", opacity = 0.2, name = \"frequency 2\"))\n\nfig3.layout = dict(yaxis=dict(range=[-2,2]), xaxis=dict(range=[0,0.2]),width = 900)\n\nfig3.update_layout(\n    title={\n        'text': r'$y = \\sin(2 \\pi f_1 t) + \\sin(2 \\pi f_2 t)$',\n        'y':0.85,\n        'x':0.5,\n        'xanchor': 'center',\n        'yanchor': 'top'})\n\nfig3.update_xaxes(\n        title_text = r\"$t \\text{ (seconds})$\",\n        title_standoff = 15,\n        ticks = 'outside',\n        ticklen = 10,\n        tickcolor='white')\n\nfig3.update_yaxes(\n        title_text = '',\n        title_standoff = 25,\n        ticks = 'outside',\n        ticklen = 10,\n        tickcolor = 'white')\n\nfig3.update_layout(showlegend=False)\n\ndef on_button_clicked(_):\n    with widgets.Output():\n        framerate = 44100\n        sec = 2\n        t = np.linspace(0, sec, framerate * sec)\n        data = np.sin(2 * np.pi * f1.value * t) + np.sin(2 * np.pi * f2.value * t)\n        display(Audio(data, rate=framerate, autoplay=True))\n    display(widgets.Output())\n    #clear_output(wait=True)\n    \n\ndef update_trace(freq1, freq2):\n    \n    fig3.data[0].y = np.sin(2*np.pi*freq1*xs3) + np.sin(2*np.pi*freq2*xs3)\n    fig3.data[1].y = np.sin(2*np.pi*freq1*xs3)\n    fig3.data[2].y = np.sin(2*np.pi*freq2*xs3)\n\nbutton.on_click(on_button_clicked)\n\nwidgets.VBox([fig3,button,out3])\nvb = widgets.VBox((fig3, interactive(update_trace, freq1 = f1, freq2 = f2), button))\nvb.layout.align_items = 'center'\nvb",
    "id": "18416b1bdd104237aed849573faca336",
    "idx": 22,
    "time": "2021-02-02T23:18:04.879Z",
    "type": "execution"
   },
   {
    "id": "18416b1bdd104237aed849573faca336",
    "time": "2021-02-02T23:18:05.363Z",
    "type": "completion"
   },
   {
    "code": "xs3 = np.linspace(0, 0.2, 1000)\n\nf1 = widgets.IntSlider(value = 1, min = 1, max = 600, step = 1, description = \"frequency 1\")\nf1.layout.width = '400px'\nf2 = widgets.IntSlider(value = 1, min = 1, max = 600, step = 1, description = \"frequency 2\")\nf2.layout.width = '400px'\n\nbutton = widgets.Button(description='Play Sound')\nout3 = widgets.Output()\nfig3 = go.FigureWidget()\n\nfig3.add_trace(go.Scatter(x=xs3, y=np.sin(2*np.pi*1*xs3) + np.sin(2*np.pi*1*xs),\n                    mode='lines',\n                    name='sum'))\nfig3.add_trace(go.Scatter(x = xs3, y = np.sin(2*np.pi*80*xs3), mode = \"lines\", opacity = 0.2, name = \"frequency 1\"))\nfig3.add_trace(go.Scatter(x = xs3, y = np.sin(2*np.pi*80*xs3), mode = \"lines\", opacity = 0.2, name = \"frequency 2\"))\n\nfig3.layout = dict(yaxis=dict(range=[-2,2]), xaxis=dict(range=[0,0.2]),width = 900)\n\nfig3.update_layout(\n    title={\n        'text': r'$y = \\sin(2 \\pi f_1 t) + \\sin(2 \\pi f_2 t)$',\n        'y':0.85,\n        'x':0.5,\n        'xanchor': 'center',\n        'yanchor': 'top'})\n\nfig3.update_xaxes(\n        title_text = r\"$t \\text{ (seconds})$\",\n        title_standoff = 15,\n        ticks = 'outside',\n        ticklen = 10,\n        tickcolor='white')\n\nfig3.update_yaxes(\n        title_text = '',\n        title_standoff = 25,\n        ticks = 'outside',\n        ticklen = 10,\n        tickcolor = 'white')\n\nfig3.update_layout(showlegend=False)\n\ndef on_button_clicked(_):\n    with out3:\n        framerate = 44100\n        sec = 2\n        t = np.linspace(0, sec, framerate * sec)\n        data = np.sin(2 * np.pi * f1.value * t) + np.sin(2 * np.pi * f2.value * t)\n        display(Audio(data, rate=framerate, autoplay=True))\n    display(out3)\n    #clear_output(wait=True)\n    \n\ndef update_trace(freq1, freq2):\n    \n    fig3.data[0].y = np.sin(2*np.pi*freq1*xs3) + np.sin(2*np.pi*freq2*xs3)\n    fig3.data[1].y = np.sin(2*np.pi*freq1*xs3)\n    fig3.data[2].y = np.sin(2*np.pi*freq2*xs3)\n\nbutton.on_click(on_button_clicked)\n\nwidgets.VBox([fig3,button])\nvb = widgets.VBox((fig3, interactive(update_trace, freq1 = f1, freq2 = f2), button))\nvb.layout.align_items = 'center'\nvb",
    "id": "18416b1bdd104237aed849573faca336",
    "idx": 22,
    "time": "2021-02-02T23:18:42.785Z",
    "type": "execution"
   },
   {
    "id": "18416b1bdd104237aed849573faca336",
    "time": "2021-02-02T23:18:43.316Z",
    "type": "completion"
   },
   {
    "code": "xs3 = np.linspace(0, 0.2, 1000)\n\nf1 = widgets.IntSlider(value = 1, min = 1, max = 600, step = 1, description = \"frequency 1\")\nf1.layout.width = '400px'\nf2 = widgets.IntSlider(value = 1, min = 1, max = 600, step = 1, description = \"frequency 2\")\nf2.layout.width = '400px'\n\nbutton = widgets.Button(description='Play Sound')\nout3 = widgets.Output()\nfig3 = go.FigureWidget()\n\nfig3.add_trace(go.Scatter(x=xs3, y=np.sin(2*np.pi*1*xs3) + np.sin(2*np.pi*1*xs),\n                    mode='lines',\n                    name='sum'))\nfig3.add_trace(go.Scatter(x = xs3, y = np.sin(2*np.pi*80*xs3), mode = \"lines\", opacity = 0.2, name = \"frequency 1\"))\nfig3.add_trace(go.Scatter(x = xs3, y = np.sin(2*np.pi*80*xs3), mode = \"lines\", opacity = 0.2, name = \"frequency 2\"))\n\nfig3.layout = dict(yaxis=dict(range=[-2,2]), xaxis=dict(range=[0,0.2]),width = 900)\n\nfig3.update_layout(\n    title={\n        'text': r'$y = \\sin(2 \\pi f_1 t) + \\sin(2 \\pi f_2 t)$',\n        'y':0.85,\n        'x':0.5,\n        'xanchor': 'center',\n        'yanchor': 'top'})\n\nfig3.update_xaxes(\n        title_text = r\"$t \\text{ (seconds})$\",\n        title_standoff = 15,\n        ticks = 'outside',\n        ticklen = 10,\n        tickcolor='white')\n\nfig3.update_yaxes(\n        title_text = '',\n        title_standoff = 25,\n        ticks = 'outside',\n        ticklen = 10,\n        tickcolor = 'white')\n\nfig3.update_layout(showlegend=False)\n\ndef on_button_clicked(_):\n    with out3:\n        framerate = 44100\n        sec = 2\n        t = np.linspace(0, sec, framerate * sec)\n        data = np.sin(2 * np.pi * f1.value * t) + np.sin(2 * np.pi * f2.value * t)\n        display(Audio(data, rate=framerate, autoplay=True))\n    display(out3)\n    clear_output(wait=True)\n    \n\ndef update_trace(freq1, freq2):\n    \n    fig3.data[0].y = np.sin(2*np.pi*freq1*xs3) + np.sin(2*np.pi*freq2*xs3)\n    fig3.data[1].y = np.sin(2*np.pi*freq1*xs3)\n    fig3.data[2].y = np.sin(2*np.pi*freq2*xs3)\n\nbutton.on_click(on_button_clicked)\n\nwidgets.VBox([fig3,button])\nvb = widgets.VBox((fig3, interactive(update_trace, freq1 = f1, freq2 = f2), button))\nvb.layout.align_items = 'center'\nvb",
    "id": "18416b1bdd104237aed849573faca336",
    "idx": 22,
    "time": "2021-02-02T23:19:11.084Z",
    "type": "execution"
   },
   {
    "id": "18416b1bdd104237aed849573faca336",
    "time": "2021-02-02T23:19:11.652Z",
    "type": "completion"
   },
   {
    "code": "xs3 = np.linspace(0, 0.2, 1000)\n\nf1 = widgets.IntSlider(value = 1, min = 1, max = 600, step = 1, description = \"frequency 1\")\nf1.layout.width = '400px'\nf2 = widgets.IntSlider(value = 1, min = 1, max = 600, step = 1, description = \"frequency 2\")\nf2.layout.width = '400px'\n\nbutton = widgets.Button(description='Play Sound')\nout3 = widgets.Output()\nfig3 = go.FigureWidget()\n\nfig3.add_trace(go.Scatter(x=xs3, y=np.sin(2*np.pi*1*xs3) + np.sin(2*np.pi*1*xs),\n                    mode='lines',\n                    name='sum'))\nfig3.add_trace(go.Scatter(x = xs3, y = np.sin(2*np.pi*80*xs3), mode = \"lines\", opacity = 0.2, name = \"frequency 1\"))\nfig3.add_trace(go.Scatter(x = xs3, y = np.sin(2*np.pi*80*xs3), mode = \"lines\", opacity = 0.2, name = \"frequency 2\"))\n\nfig3.layout = dict(yaxis=dict(range=[-2,2]), xaxis=dict(range=[0,0.2]),width = 900)\n\nfig3.update_layout(\n    title={\n        'text': r'$y = \\sin(2 \\pi f_1 t) + \\sin(2 \\pi f_2 t)$',\n        'y':0.85,\n        'x':0.5,\n        'xanchor': 'center',\n        'yanchor': 'top'})\n\nfig3.update_xaxes(\n        title_text = r\"$t \\text{ (seconds})$\",\n        title_standoff = 15,\n        ticks = 'outside',\n        ticklen = 10,\n        tickcolor='white')\n\nfig3.update_yaxes(\n        title_text = '',\n        title_standoff = 25,\n        ticks = 'outside',\n        ticklen = 10,\n        tickcolor = 'white')\n\nfig3.update_layout(showlegend=False)\n\ndef on_button_clicked(_):\n    with out3:\n        framerate = 44100\n        sec = 2\n        t = np.linspace(0, sec, framerate * sec)\n        data = np.sin(2 * np.pi * f1.value * t) + np.sin(2 * np.pi * f2.value * t)\n        display(Audio(data, rate=framerate, autoplay=True))\n    display(out3)\n    out3.clear_output(wait=True)\n    \n\ndef update_trace(freq1, freq2):\n    \n    fig3.data[0].y = np.sin(2*np.pi*freq1*xs3) + np.sin(2*np.pi*freq2*xs3)\n    fig3.data[1].y = np.sin(2*np.pi*freq1*xs3)\n    fig3.data[2].y = np.sin(2*np.pi*freq2*xs3)\n\nbutton.on_click(on_button_clicked)\n\nwidgets.VBox([fig3,button])\nvb = widgets.VBox((fig3, interactive(update_trace, freq1 = f1, freq2 = f2), button))\nvb.layout.align_items = 'center'\nvb",
    "id": "18416b1bdd104237aed849573faca336",
    "idx": 22,
    "time": "2021-02-02T23:19:24.045Z",
    "type": "execution"
   },
   {
    "id": "18416b1bdd104237aed849573faca336",
    "time": "2021-02-02T23:19:24.549Z",
    "type": "completion"
   },
   {
    "code": "xs3 = np.linspace(0, 0.2, 1000)\n\nf1 = widgets.IntSlider(value = 1, min = 1, max = 600, step = 1, description = \"frequency 1\")\nf1.layout.width = '400px'\nf2 = widgets.IntSlider(value = 1, min = 1, max = 600, step = 1, description = \"frequency 2\")\nf2.layout.width = '400px'\n\nbutton = widgets.Button(description='Play Sound')\nout3 = widgets.Output()\nfig3 = go.FigureWidget()\n\nfig3.add_trace(go.Scatter(x=xs3, y=np.sin(2*np.pi*1*xs3) + np.sin(2*np.pi*1*xs),\n                    mode='lines',\n                    name='sum'))\nfig3.add_trace(go.Scatter(x = xs3, y = np.sin(2*np.pi*80*xs3), mode = \"lines\", opacity = 0.2, name = \"frequency 1\"))\nfig3.add_trace(go.Scatter(x = xs3, y = np.sin(2*np.pi*80*xs3), mode = \"lines\", opacity = 0.2, name = \"frequency 2\"))\n\nfig3.layout = dict(yaxis=dict(range=[-2,2]), xaxis=dict(range=[0,0.2]),width = 900)\n\nfig3.update_layout(\n    title={\n        'text': r'$y = \\sin(2 \\pi f_1 t) + \\sin(2 \\pi f_2 t)$',\n        'y':0.85,\n        'x':0.5,\n        'xanchor': 'center',\n        'yanchor': 'top'})\n\nfig3.update_xaxes(\n        title_text = r\"$t \\text{ (seconds})$\",\n        title_standoff = 15,\n        ticks = 'outside',\n        ticklen = 10,\n        tickcolor='white')\n\nfig3.update_yaxes(\n        title_text = '',\n        title_standoff = 25,\n        ticks = 'outside',\n        ticklen = 10,\n        tickcolor = 'white')\n\nfig3.update_layout(showlegend=False)\n\ndef on_button_clicked(_):\n    with out3:\n        framerate = 44100\n        sec = 2\n        t = np.linspace(0, sec, framerate * sec)\n        data = np.sin(2 * np.pi * f1.value * t) + np.sin(2 * np.pi * f2.value * t)\n        display(Audio(data, rate=framerate, autoplay=True))\n    display(out3)\n    with out3:\n        clear_output()\n    \n\ndef update_trace(freq1, freq2):\n    \n    fig3.data[0].y = np.sin(2*np.pi*freq1*xs3) + np.sin(2*np.pi*freq2*xs3)\n    fig3.data[1].y = np.sin(2*np.pi*freq1*xs3)\n    fig3.data[2].y = np.sin(2*np.pi*freq2*xs3)\n\nbutton.on_click(on_button_clicked)\n\nwidgets.VBox([fig3,button])\nvb = widgets.VBox((fig3, interactive(update_trace, freq1 = f1, freq2 = f2), button))\nvb.layout.align_items = 'center'\nvb",
    "id": "18416b1bdd104237aed849573faca336",
    "idx": 22,
    "time": "2021-02-02T23:21:00.628Z",
    "type": "execution"
   },
   {
    "id": "18416b1bdd104237aed849573faca336",
    "time": "2021-02-02T23:21:01.192Z",
    "type": "completion"
   },
   {
    "code": "xs3 = np.linspace(0, 0.2, 1000)\n\nf1 = widgets.IntSlider(value = 1, min = 1, max = 600, step = 1, description = \"frequency 1\")\nf1.layout.width = '400px'\nf2 = widgets.IntSlider(value = 1, min = 1, max = 600, step = 1, description = \"frequency 2\")\nf2.layout.width = '400px'\n\nbutton = widgets.Button(description='Play Sound')\nout3 = widgets.Output()\nfig3 = go.FigureWidget()\n\nfig3.add_trace(go.Scatter(x=xs3, y=np.sin(2*np.pi*1*xs3) + np.sin(2*np.pi*1*xs),\n                    mode='lines',\n                    name='sum'))\nfig3.add_trace(go.Scatter(x = xs3, y = np.sin(2*np.pi*80*xs3), mode = \"lines\", opacity = 0.2, name = \"frequency 1\"))\nfig3.add_trace(go.Scatter(x = xs3, y = np.sin(2*np.pi*80*xs3), mode = \"lines\", opacity = 0.2, name = \"frequency 2\"))\n\nfig3.layout = dict(yaxis=dict(range=[-2,2]), xaxis=dict(range=[0,0.2]),width = 900)\n\nfig3.update_layout(\n    title={\n        'text': r'$y = \\sin(2 \\pi f_1 t) + \\sin(2 \\pi f_2 t)$',\n        'y':0.85,\n        'x':0.5,\n        'xanchor': 'center',\n        'yanchor': 'top'})\n\nfig3.update_xaxes(\n        title_text = r\"$t \\text{ (seconds})$\",\n        title_standoff = 15,\n        ticks = 'outside',\n        ticklen = 10,\n        tickcolor='white')\n\nfig3.update_yaxes(\n        title_text = '',\n        title_standoff = 25,\n        ticks = 'outside',\n        ticklen = 10,\n        tickcolor = 'white')\n\nfig3.update_layout(showlegend=False)\n\ndef on_button_clicked(_):\n    with out3:\n        framerate = 44100\n        sec = 2\n        t = np.linspace(0, sec, framerate * sec)\n        data = np.sin(2 * np.pi * f1.value * t) + np.sin(2 * np.pi * f2.value * t)\n        display(Audio(data, rate=framerate, autoplay=True))\n    display(out3)\n    with out3:\n        clear_output(wait = True)\n    \n\ndef update_trace(freq1, freq2):\n    \n    fig3.data[0].y = np.sin(2*np.pi*freq1*xs3) + np.sin(2*np.pi*freq2*xs3)\n    fig3.data[1].y = np.sin(2*np.pi*freq1*xs3)\n    fig3.data[2].y = np.sin(2*np.pi*freq2*xs3)\n\nbutton.on_click(on_button_clicked)\n\nwidgets.VBox([fig3,button])\nvb = widgets.VBox((fig3, interactive(update_trace, freq1 = f1, freq2 = f2), button))\nvb.layout.align_items = 'center'\nvb",
    "id": "18416b1bdd104237aed849573faca336",
    "idx": 22,
    "time": "2021-02-02T23:21:08.617Z",
    "type": "execution"
   },
   {
    "id": "18416b1bdd104237aed849573faca336",
    "time": "2021-02-02T23:21:09.175Z",
    "type": "completion"
   },
   {
    "code": "xs3 = np.linspace(0, 0.2, 1000)\n\nf1 = widgets.IntSlider(value = 1, min = 1, max = 600, step = 1, description = \"frequency 1\")\nf1.layout.width = '400px'\nf2 = widgets.IntSlider(value = 1, min = 1, max = 600, step = 1, description = \"frequency 2\")\nf2.layout.width = '400px'\n\nbutton = widgets.Button(description='Play Sound')\nout3 = widgets.Output()\nfig3 = go.FigureWidget()\n\nfig3.add_trace(go.Scatter(x=xs3, y=np.sin(2*np.pi*1*xs3) + np.sin(2*np.pi*1*xs),\n                    mode='lines',\n                    name='sum'))\nfig3.add_trace(go.Scatter(x = xs3, y = np.sin(2*np.pi*80*xs3), mode = \"lines\", opacity = 0.2, name = \"frequency 1\"))\nfig3.add_trace(go.Scatter(x = xs3, y = np.sin(2*np.pi*80*xs3), mode = \"lines\", opacity = 0.2, name = \"frequency 2\"))\n\nfig3.layout = dict(yaxis=dict(range=[-2,2]), xaxis=dict(range=[0,0.2]),width = 900)\n\nfig3.update_layout(\n    title={\n        'text': r'$y = \\sin(2 \\pi f_1 t) + \\sin(2 \\pi f_2 t)$',\n        'y':0.85,\n        'x':0.5,\n        'xanchor': 'center',\n        'yanchor': 'top'})\n\nfig3.update_xaxes(\n        title_text = r\"$t \\text{ (seconds})$\",\n        title_standoff = 15,\n        ticks = 'outside',\n        ticklen = 10,\n        tickcolor='white')\n\nfig3.update_yaxes(\n        title_text = '',\n        title_standoff = 25,\n        ticks = 'outside',\n        ticklen = 10,\n        tickcolor = 'white')\n\nfig3.update_layout(showlegend=False)\n\ndef on_button_clicked(_):\n    with out3:\n        clear_output()\n    with out3:\n        framerate = 44100\n        sec = 2\n        t = np.linspace(0, sec, framerate * sec)\n        data = np.sin(2 * np.pi * f1.value * t) + np.sin(2 * np.pi * f2.value * t)\n        display(Audio(data, rate=framerate, autoplay=True))\n    display(out3)\n\n    \n\ndef update_trace(freq1, freq2):\n    \n    fig3.data[0].y = np.sin(2*np.pi*freq1*xs3) + np.sin(2*np.pi*freq2*xs3)\n    fig3.data[1].y = np.sin(2*np.pi*freq1*xs3)\n    fig3.data[2].y = np.sin(2*np.pi*freq2*xs3)\n\nbutton.on_click(on_button_clicked)\n\nwidgets.VBox([fig3,button])\nvb = widgets.VBox((fig3, interactive(update_trace, freq1 = f1, freq2 = f2), button))\nvb.layout.align_items = 'center'\nvb",
    "id": "18416b1bdd104237aed849573faca336",
    "idx": 22,
    "time": "2021-02-02T23:21:33.972Z",
    "type": "execution"
   },
   {
    "id": "18416b1bdd104237aed849573faca336",
    "time": "2021-02-02T23:21:34.493Z",
    "type": "completion"
   },
   {
    "code": "xs3 = np.linspace(0, 0.2, 1000)\n\nf1 = widgets.IntSlider(value = 1, min = 1, max = 600, step = 1, description = \"frequency 1\")\nf1.layout.width = '400px'\nf2 = widgets.IntSlider(value = 1, min = 1, max = 600, step = 1, description = \"frequency 2\")\nf2.layout.width = '400px'\n\nbutton = widgets.Button(description='Play Sound')\nout3 = widgets.Output()\nfig3 = go.FigureWidget()\n\nfig3.add_trace(go.Scatter(x=xs3, y=np.sin(2*np.pi*1*xs3) + np.sin(2*np.pi*1*xs),\n                    mode='lines',\n                    name='sum'))\nfig3.add_trace(go.Scatter(x = xs3, y = np.sin(2*np.pi*80*xs3), mode = \"lines\", opacity = 0.2, name = \"frequency 1\"))\nfig3.add_trace(go.Scatter(x = xs3, y = np.sin(2*np.pi*80*xs3), mode = \"lines\", opacity = 0.2, name = \"frequency 2\"))\n\nfig3.layout = dict(yaxis=dict(range=[-2,2]), xaxis=dict(range=[0,0.2]),width = 900)\n\nfig3.update_layout(\n    title={\n        'text': r'$y = \\sin(2 \\pi f_1 t) + \\sin(2 \\pi f_2 t)$',\n        'y':0.85,\n        'x':0.5,\n        'xanchor': 'center',\n        'yanchor': 'top'})\n\nfig3.update_xaxes(\n        title_text = r\"$t \\text{ (seconds})$\",\n        title_standoff = 15,\n        ticks = 'outside',\n        ticklen = 10,\n        tickcolor='white')\n\nfig3.update_yaxes(\n        title_text = '',\n        title_standoff = 25,\n        ticks = 'outside',\n        ticklen = 10,\n        tickcolor = 'white')\n\nfig3.update_layout(showlegend=False)\n\ndef on_button_clicked(_):\n    with out3:\n        clear_output()\n    with out3:\n        framerate = 44100\n        sec = 2\n        t = np.linspace(0, sec, framerate * sec)\n        data = np.sin(2 * np.pi * f1.value * t) + np.sin(2 * np.pi * f2.value * t)\n        display(Audio(data, rate=framerate, autoplay=True))\n    #display(out3)\n\n    \n\ndef update_trace(freq1, freq2):\n    \n    fig3.data[0].y = np.sin(2*np.pi*freq1*xs3) + np.sin(2*np.pi*freq2*xs3)\n    fig3.data[1].y = np.sin(2*np.pi*freq1*xs3)\n    fig3.data[2].y = np.sin(2*np.pi*freq2*xs3)\n\nbutton.on_click(on_button_clicked)\n\nwidgets.VBox([fig3,button])\nvb = widgets.VBox((fig3, interactive(update_trace, freq1 = f1, freq2 = f2), button))\nvb.layout.align_items = 'center'\nvb",
    "id": "18416b1bdd104237aed849573faca336",
    "idx": 22,
    "time": "2021-02-02T23:21:50.040Z",
    "type": "execution"
   },
   {
    "id": "18416b1bdd104237aed849573faca336",
    "time": "2021-02-02T23:21:50.612Z",
    "type": "completion"
   },
   {
    "code": "xs3 = np.linspace(0, 0.2, 1000)\n\nf1 = widgets.IntSlider(value = 1, min = 1, max = 600, step = 1, description = \"frequency 1\")\nf1.layout.width = '400px'\nf2 = widgets.IntSlider(value = 1, min = 1, max = 600, step = 1, description = \"frequency 2\")\nf2.layout.width = '400px'\n\nbutton = widgets.Button(description='Play Sound')\nout3 = widgets.Output()\nfig3 = go.FigureWidget()\n\nfig3.add_trace(go.Scatter(x=xs3, y=np.sin(2*np.pi*1*xs3) + np.sin(2*np.pi*1*xs),\n                    mode='lines',\n                    name='sum'))\nfig3.add_trace(go.Scatter(x = xs3, y = np.sin(2*np.pi*80*xs3), mode = \"lines\", opacity = 0.2, name = \"frequency 1\"))\nfig3.add_trace(go.Scatter(x = xs3, y = np.sin(2*np.pi*80*xs3), mode = \"lines\", opacity = 0.2, name = \"frequency 2\"))\n\nfig3.layout = dict(yaxis=dict(range=[-2,2]), xaxis=dict(range=[0,0.2]),width = 900)\n\nfig3.update_layout(\n    title={\n        'text': r'$y = \\sin(2 \\pi f_1 t) + \\sin(2 \\pi f_2 t)$',\n        'y':0.85,\n        'x':0.5,\n        'xanchor': 'center',\n        'yanchor': 'top'})\n\nfig3.update_xaxes(\n        title_text = r\"$t \\text{ (seconds})$\",\n        title_standoff = 15,\n        ticks = 'outside',\n        ticklen = 10,\n        tickcolor='white')\n\nfig3.update_yaxes(\n        title_text = '',\n        title_standoff = 25,\n        ticks = 'outside',\n        ticklen = 10,\n        tickcolor = 'white')\n\nfig3.update_layout(showlegend=False)\n\ndef on_button_clicked(_):\n    with out3:\n        clear_output()\n    with out3:\n        framerate = 44100\n        sec = 2\n        t = np.linspace(0, sec, framerate * sec)\n        data = np.sin(2 * np.pi * f1.value * t) + np.sin(2 * np.pi * f2.value * t)\n        display(Audio(data, rate=framerate, autoplay=True))\n\n\n    \n\ndef update_trace(freq1, freq2):\n    \n    fig3.data[0].y = np.sin(2*np.pi*freq1*xs3) + np.sin(2*np.pi*freq2*xs3)\n    fig3.data[1].y = np.sin(2*np.pi*freq1*xs3)\n    fig3.data[2].y = np.sin(2*np.pi*freq2*xs3)\n\nbutton.on_click(on_button_clicked)\ndisplay(out3)\n\nwidgets.VBox([fig3,button])\nvb = widgets.VBox((fig3, interactive(update_trace, freq1 = f1, freq2 = f2), button))\nvb.layout.align_items = 'center'\nvb",
    "id": "18416b1bdd104237aed849573faca336",
    "idx": 22,
    "time": "2021-02-02T23:22:14.991Z",
    "type": "execution"
   },
   {
    "id": "18416b1bdd104237aed849573faca336",
    "time": "2021-02-02T23:22:15.521Z",
    "type": "completion"
   },
   {
    "code": "xs3 = np.linspace(0, 0.2, 1000)\n\nf1 = widgets.IntSlider(value = 1, min = 1, max = 600, step = 1, description = \"frequency 1\")\nf1.layout.width = '400px'\nf2 = widgets.IntSlider(value = 1, min = 1, max = 600, step = 1, description = \"frequency 2\")\nf2.layout.width = '400px'\n\nbutton = widgets.Button(description='Play Sound')\nout3 = widgets.Output()\nfig3 = go.FigureWidget()\n\nfig3.add_trace(go.Scatter(x=xs3, y=np.sin(2*np.pi*1*xs3) + np.sin(2*np.pi*1*xs),\n                    mode='lines',\n                    name='sum'))\nfig3.add_trace(go.Scatter(x = xs3, y = np.sin(2*np.pi*80*xs3), mode = \"lines\", opacity = 0.2, name = \"frequency 1\"))\nfig3.add_trace(go.Scatter(x = xs3, y = np.sin(2*np.pi*80*xs3), mode = \"lines\", opacity = 0.2, name = \"frequency 2\"))\n\nfig3.layout = dict(yaxis=dict(range=[-2,2]), xaxis=dict(range=[0,0.2]),width = 900)\n\nfig3.update_layout(\n    title={\n        'text': r'$y = \\sin(2 \\pi f_1 t) + \\sin(2 \\pi f_2 t)$',\n        'y':0.85,\n        'x':0.5,\n        'xanchor': 'center',\n        'yanchor': 'top'})\n\nfig3.update_xaxes(\n        title_text = r\"$t \\text{ (seconds})$\",\n        title_standoff = 15,\n        ticks = 'outside',\n        ticklen = 10,\n        tickcolor='white')\n\nfig3.update_yaxes(\n        title_text = '',\n        title_standoff = 25,\n        ticks = 'outside',\n        ticklen = 10,\n        tickcolor = 'white')\n\nfig3.update_layout(showlegend=False)\n\ndef on_button_clicked(_):\n    with out3:\n        clear_output()\n    with out3:\n        framerate = 44100\n        sec = 2\n        t = np.linspace(0, sec, framerate * sec)\n        data = np.sin(2 * np.pi * f1.value * t) + np.sin(2 * np.pi * f2.value * t)\n        display(Audio(data, rate=framerate, autoplay=True))\n    \n\ndef update_trace(freq1, freq2):\n    \n    fig3.data[0].y = np.sin(2*np.pi*freq1*xs3) + np.sin(2*np.pi*freq2*xs3)\n    fig3.data[1].y = np.sin(2*np.pi*freq1*xs3)\n    fig3.data[2].y = np.sin(2*np.pi*freq2*xs3)\n\nbutton.on_click(on_button_clicked)\ndisplay(out3)\n\nwidgets.VBox([fig3,button])\nvb = widgets.VBox((fig3, interactive(update_trace, freq1 = f1, freq2 = f2), button))\nvb.layout.align_items = 'center'\nvb",
    "id": "18416b1bdd104237aed849573faca336",
    "idx": 22,
    "time": "2021-02-02T23:25:58.990Z",
    "type": "execution"
   },
   {
    "id": "18416b1bdd104237aed849573faca336",
    "time": "2021-02-02T23:25:59.485Z",
    "type": "completion"
   },
   {
    "code": "xs3 = np.linspace(0, 0.2, 1000)\n\nf1 = widgets.IntSlider(value = 1, min = 1, max = 600, step = 1, description = \"frequency 1\")\nf1.layout.width = '400px'\nf2 = widgets.IntSlider(value = 1, min = 1, max = 600, step = 1, description = \"frequency 2\")\nf2.layout.width = '400px'\n\nbutton = widgets.Button(description='Play Sound')\nout3 = widgets.Output()\nfig3 = go.FigureWidget()\n\nfig3.add_trace(go.Scatter(x=xs3, y=np.sin(2*np.pi*1*xs3) + np.sin(2*np.pi*1*xs),\n                    mode='lines',\n                    name='sum'))\nfig3.add_trace(go.Scatter(x = xs3, y = np.sin(2*np.pi*80*xs3), mode = \"lines\", opacity = 0.2, name = \"frequency 1\"))\nfig3.add_trace(go.Scatter(x = xs3, y = np.sin(2*np.pi*80*xs3), mode = \"lines\", opacity = 0.2, name = \"frequency 2\"))\n\nfig3.layout = dict(yaxis=dict(range=[-2,2]), xaxis=dict(range=[0,0.2]),width = 900)\n\nfig3.update_layout(\n    title={\n        'text': r'$y = \\sin(2 \\pi f_1 t) + \\sin(2 \\pi f_2 t)$',\n        'y':0.85,\n        'x':0.5,\n        'xanchor': 'center',\n        'yanchor': 'top'})\n\nfig3.update_xaxes(\n        title_text = r\"$t \\text{ (seconds})$\",\n        title_standoff = 15,\n        ticks = 'outside',\n        ticklen = 10,\n        tickcolor='white')\n\nfig3.update_yaxes(\n        title_text = '',\n        title_standoff = 25,\n        ticks = 'outside',\n        ticklen = 10,\n        tickcolor = 'white')\n\nfig3.update_layout(showlegend=False)\n\ndef on_button_clicked(_):\n    with out3:\n        clear_output()\n    with out3:\n        framerate = 44100\n        sec = 2\n        t = np.linspace(0, sec, framerate * sec)\n        data = np.sin(2 * np.pi * f1.value * t) + np.sin(2 * np.pi * f2.value * t)\n        display(Audio(data, rate=framerate, autoplay=True))\n    \n\ndef update_trace(freq1, freq2):\n    \n    fig3.data[0].y = np.sin(2*np.pi*freq1*xs3) + np.sin(2*np.pi*freq2*xs3)\n    fig3.data[1].y = np.sin(2*np.pi*freq1*xs3)\n    fig3.data[2].y = np.sin(2*np.pi*freq2*xs3)\n\nbutton.on_click(on_button_clicked)\n\n\nwidgets.VBox([fig3,button])\nvb = widgets.VBox((fig3, interactive(update_trace, freq1 = f1, freq2 = f2), button))\nvb.layout.align_items = 'center'\nvb\ndisplay(out3)",
    "id": "18416b1bdd104237aed849573faca336",
    "idx": 22,
    "time": "2021-02-02T23:26:12.782Z",
    "type": "execution"
   },
   {
    "id": "18416b1bdd104237aed849573faca336",
    "time": "2021-02-02T23:26:13.074Z",
    "type": "completion"
   },
   {
    "code": "xs3 = np.linspace(0, 0.2, 1000)\n\nf1 = widgets.IntSlider(value = 1, min = 1, max = 600, step = 1, description = \"frequency 1\")\nf1.layout.width = '400px'\nf2 = widgets.IntSlider(value = 1, min = 1, max = 600, step = 1, description = \"frequency 2\")\nf2.layout.width = '400px'\n\nbutton = widgets.Button(description='Play Sound')\nout3 = widgets.Output()\nfig3 = go.FigureWidget()\n\nfig3.add_trace(go.Scatter(x=xs3, y=np.sin(2*np.pi*1*xs3) + np.sin(2*np.pi*1*xs),\n                    mode='lines',\n                    name='sum'))\nfig3.add_trace(go.Scatter(x = xs3, y = np.sin(2*np.pi*80*xs3), mode = \"lines\", opacity = 0.2, name = \"frequency 1\"))\nfig3.add_trace(go.Scatter(x = xs3, y = np.sin(2*np.pi*80*xs3), mode = \"lines\", opacity = 0.2, name = \"frequency 2\"))\n\nfig3.layout = dict(yaxis=dict(range=[-2,2]), xaxis=dict(range=[0,0.2]),width = 900)\n\nfig3.update_layout(\n    title={\n        'text': r'$y = \\sin(2 \\pi f_1 t) + \\sin(2 \\pi f_2 t)$',\n        'y':0.85,\n        'x':0.5,\n        'xanchor': 'center',\n        'yanchor': 'top'})\n\nfig3.update_xaxes(\n        title_text = r\"$t \\text{ (seconds})$\",\n        title_standoff = 15,\n        ticks = 'outside',\n        ticklen = 10,\n        tickcolor='white')\n\nfig3.update_yaxes(\n        title_text = '',\n        title_standoff = 25,\n        ticks = 'outside',\n        ticklen = 10,\n        tickcolor = 'white')\n\nfig3.update_layout(showlegend=False)\n\ndef on_button_clicked(_):\n    with out3:\n        clear_output()\n    with out3:\n        framerate = 44100\n        sec = 2\n        t = np.linspace(0, sec, framerate * sec)\n        data = np.sin(2 * np.pi * f1.value * t) + np.sin(2 * np.pi * f2.value * t)\n        display(Audio(data, rate=framerate, autoplay=True))\n    \n\ndef update_trace(freq1, freq2):\n    \n    fig3.data[0].y = np.sin(2*np.pi*freq1*xs3) + np.sin(2*np.pi*freq2*xs3)\n    fig3.data[1].y = np.sin(2*np.pi*freq1*xs3)\n    fig3.data[2].y = np.sin(2*np.pi*freq2*xs3)\n\nbutton.on_click(on_button_clicked)\n\n\nwidgets.VBox([fig3,button])\nvb = widgets.VBox((fig3, interactive(update_trace, freq1 = f1, freq2 = f2), button))\nvb.layout.align_items = 'center'\nvb\ndisplay(out3)",
    "id": "18416b1bdd104237aed849573faca336",
    "idx": 22,
    "time": "2021-02-02T23:26:14.772Z",
    "type": "execution"
   },
   {
    "id": "18416b1bdd104237aed849573faca336",
    "time": "2021-02-02T23:26:15.075Z",
    "type": "completion"
   },
   {
    "code": "xs3 = np.linspace(0, 0.2, 1000)\n\nf1 = widgets.IntSlider(value = 1, min = 1, max = 600, step = 1, description = \"frequency 1\")\nf1.layout.width = '400px'\nf2 = widgets.IntSlider(value = 1, min = 1, max = 600, step = 1, description = \"frequency 2\")\nf2.layout.width = '400px'\n\nbutton = widgets.Button(description='Play Sound')\nout3 = widgets.Output()\nfig3 = go.FigureWidget()\n\nfig3.add_trace(go.Scatter(x=xs3, y=np.sin(2*np.pi*1*xs3) + np.sin(2*np.pi*1*xs),\n                    mode='lines',\n                    name='sum'))\nfig3.add_trace(go.Scatter(x = xs3, y = np.sin(2*np.pi*80*xs3), mode = \"lines\", opacity = 0.2, name = \"frequency 1\"))\nfig3.add_trace(go.Scatter(x = xs3, y = np.sin(2*np.pi*80*xs3), mode = \"lines\", opacity = 0.2, name = \"frequency 2\"))\n\nfig3.layout = dict(yaxis=dict(range=[-2,2]), xaxis=dict(range=[0,0.2]),width = 900)\n\nfig3.update_layout(\n    title={\n        'text': r'$y = \\sin(2 \\pi f_1 t) + \\sin(2 \\pi f_2 t)$',\n        'y':0.85,\n        'x':0.5,\n        'xanchor': 'center',\n        'yanchor': 'top'})\n\nfig3.update_xaxes(\n        title_text = r\"$t \\text{ (seconds})$\",\n        title_standoff = 15,\n        ticks = 'outside',\n        ticklen = 10,\n        tickcolor='white')\n\nfig3.update_yaxes(\n        title_text = '',\n        title_standoff = 25,\n        ticks = 'outside',\n        ticklen = 10,\n        tickcolor = 'white')\n\nfig3.update_layout(showlegend=False)\n\ndef on_button_clicked(_):\n    with out3:\n        clear_output()\n    with out3:\n        framerate = 44100\n        sec = 2\n        t = np.linspace(0, sec, framerate * sec)\n        data = np.sin(2 * np.pi * f1.value * t) + np.sin(2 * np.pi * f2.value * t)\n        display(Audio(data, rate=framerate, autoplay=True))\n    \n\ndef update_trace(freq1, freq2):\n    \n    fig3.data[0].y = np.sin(2*np.pi*freq1*xs3) + np.sin(2*np.pi*freq2*xs3)\n    fig3.data[1].y = np.sin(2*np.pi*freq1*xs3)\n    fig3.data[2].y = np.sin(2*np.pi*freq2*xs3)\n\nbutton.on_click(on_button_clicked)\n\n\nwidgets.VBox([fig3,button])\nvb = widgets.VBox((fig3, interactive(update_trace, freq1 = f1, freq2 = f2), button))\nvb.layout.align_items = 'center'\nvb\ndisplay(vb)\ndisplay(out3)",
    "id": "18416b1bdd104237aed849573faca336",
    "idx": 22,
    "time": "2021-02-02T23:26:23.513Z",
    "type": "execution"
   },
   {
    "id": "18416b1bdd104237aed849573faca336",
    "time": "2021-02-02T23:26:24.096Z",
    "type": "completion"
   },
   {
    "code": "xs3 = np.linspace(0, 0.2, 1000)\n\nf1 = widgets.IntSlider(value = 1, min = 1, max = 600, step = 1, description = \"frequency 1\")\nf1.layout.width = '400px'\nf2 = widgets.IntSlider(value = 1, min = 1, max = 600, step = 1, description = \"frequency 2\")\nf2.layout.width = '400px'\n\nbutton = widgets.Button(description='Play Sound')\nout3 = widgets.Output()\nfig3 = go.FigureWidget()\n\nfig3.add_trace(go.Scatter(x=xs3, y=np.sin(2*np.pi*1*xs3) + np.sin(2*np.pi*1*xs),\n                    mode='lines',\n                    name='sum'))\nfig3.add_trace(go.Scatter(x = xs3, y = np.sin(2*np.pi*80*xs3), mode = \"lines\", opacity = 0.2, name = \"frequency 1\"))\nfig3.add_trace(go.Scatter(x = xs3, y = np.sin(2*np.pi*80*xs3), mode = \"lines\", opacity = 0.2, name = \"frequency 2\"))\n\nfig3.layout = dict(yaxis=dict(range=[-2,2]), xaxis=dict(range=[0,0.2]),width = 900)\n\nfig3.update_layout(\n    title={\n        'text': r'$y = \\sin(2 \\pi f_1 t) + \\sin(2 \\pi f_2 t)$',\n        'y':0.85,\n        'x':0.5,\n        'xanchor': 'center',\n        'yanchor': 'top'})\n\nfig3.update_xaxes(\n        title_text = r\"$t \\text{ (seconds})$\",\n        title_standoff = 15,\n        ticks = 'outside',\n        ticklen = 10,\n        tickcolor='white')\n\nfig3.update_yaxes(\n        title_text = '',\n        title_standoff = 25,\n        ticks = 'outside',\n        ticklen = 10,\n        tickcolor = 'white')\n\nfig3.update_layout(showlegend=False)\n\ndef on_button_clicked(_):\n    with out3:\n        framerate = 44100\n        sec = 2\n        t = np.linspace(0, sec, framerate * sec)\n        data = np.sin(2 * np.pi * f1.value * t) + np.sin(2 * np.pi * f2.value * t)\n        display(Audio(data, rate=framerate, autoplay=True))\n        clear_output(wait = True)\n    \n\ndef update_trace(freq1, freq2):\n    \n    fig3.data[0].y = np.sin(2*np.pi*freq1*xs3) + np.sin(2*np.pi*freq2*xs3)\n    fig3.data[1].y = np.sin(2*np.pi*freq1*xs3)\n    fig3.data[2].y = np.sin(2*np.pi*freq2*xs3)\n\nbutton.on_click(on_button_clicked)\n\n\nwidgets.VBox([fig3,button])\nvb = widgets.VBox((fig3, interactive(update_trace, freq1 = f1, freq2 = f2), button))\nvb.layout.align_items = 'center'\n\ndisplay(vb)\ndisplay(out3)",
    "id": "18416b1bdd104237aed849573faca336",
    "idx": 22,
    "time": "2021-02-02T23:26:54.064Z",
    "type": "execution"
   },
   {
    "id": "18416b1bdd104237aed849573faca336",
    "time": "2021-02-02T23:26:54.581Z",
    "type": "completion"
   },
   {
    "code": "from IPython.display import HTML\n\nHTML('''<script>\ncode_show=true; \nfunction code_toggle() {\n if (code_show){\n $('div.input').hide();\n } else {\n $('div.input').show();\n }\n code_show = !code_show\n} \n$( document ).ready(code_toggle);\n</script>\n<form action=\"javascript:code_toggle()\"><input type=\"submit\" value=\"Click here to toggle on/off the raw code.\"></form>''')",
    "id": "c476b626b1864129ac2b8a28b46e40f4",
    "idx": 10,
    "time": "2021-02-02T23:28:33.575Z",
    "type": "execution"
   },
   {
    "code": "import plotly.graph_objs as go\nfrom ipywidgets import interactive, HBox, VBox, widgets, interact\nimport numpy as np\n\nxs = np.linspace(0, 5, 1000)\n\ndef wave(lam, phi, x):\n    \n    return np.sin(2*np.pi*x/lam + phi)\n\nfig = go.FigureWidget()\n\nfig.layout = dict(yaxis=dict(range=[-1,1]), xaxis=dict(range=[0,5]),width = 1000)\n\nfig.update_layout(\n    title={\n        'text': r'$y = \\sin \\Big(\\frac{2 \\pi  x}{\\lambda} + \\phi \\Big)$',\n        'y':0.85,\n        'x':0.5,\n        'xanchor': 'center',\n        'yanchor': 'top'})\n\nfig.update_xaxes(\n        title_text = r\"$x$\",\n        title_standoff = 15,\n        ticks = 'outside',\n        ticklen = 10,\n        tickcolor='white')\n\nfig.update_yaxes(\n        title_text = '',\n        title_standoff = 25,\n        ticks = 'outside',\n        ticklen = 10,\n        tickcolor = 'white')\n\n\nline = fig.add_trace(go.Scatter(x=xs, y=wave(1, 0, xs),\n                    mode='lines',\n                    name='lines'))\n\nslider = widgets.FloatSlider(\n    value = 1,\n    min=0.1,\n    max=10,\n    step=0.1,\n    readout=True,\n    description=r'$\\lambda$')\nslider.layout.width = '400px'\n\nslider2 = widgets.FloatSlider(\n    value = 0,\n    min=-3.14,\n    max=3.14,\n    step=0.01,\n    readout=True,\n    description=r'$\\phi$')\nslider2.layout.width = '400px'\n\ndef update_range(lam, phi):\n    fig.data[0].y=wave(lam, phi, xs)\n\nvb = VBox((fig, interactive(update_range, lam = slider, phi = slider2)))\nvb.layout.align_items = 'center'\nvb",
    "id": "273c757e313340ea800b9b8bcdce5953",
    "idx": 11,
    "time": "2021-02-02T23:28:33.595Z",
    "type": "execution"
   },
   {
    "code": "xs2 = np.linspace(0, 5, 500)\n\ndef traveling_wave(k, omega, x, t):\n    return np.sin(k*x - omega*t/10.)\n\nfig2 = go.FigureWidget()\n\nfig2.layout = dict(yaxis=dict(range=[-1,1]), xaxis=dict(range=[0,5]),width = 1000)\n\nfig2.update_layout(\n    title={\n        'text': r'$y = \\sin(kx - \\omega t)$',\n        'y':0.85,\n        'x':0.5,\n        'xanchor': 'center',\n        'yanchor': 'top'})\n\nfig2.update_xaxes(\n        title_text = r\"$x$\",\n        title_standoff = 15,\n        ticks = 'outside',\n        ticklen = 10,\n        tickcolor='white')\n\nfig2.update_yaxes(\n        title_text = '',\n        title_standoff = 25,\n        ticks = 'outside',\n        ticklen = 10,\n        tickcolor = 'white')\n\n\nline2 = fig2.add_trace(go.Scatter(x=xs2, y=traveling_wave(1, 0, xs2, 0),\n                    mode='lines',\n                    name='lines'))\n\nbslider = widgets.FloatSlider(\n    value = 3.14,\n    min=0.1,\n    max=10,\n    step=0.02,\n    readout=True,\n    description=r'$k$')\nbslider.layout.width = '400px'\n\nbslider2 = widgets.FloatSlider(\n    value = 0,\n    min=-1,\n    max=1,\n    step=0.1,\n    readout=True,\n    description=r'$\\omega$')\nbslider2.layout.width = '400px'\n\nplay = widgets.Play(\n    interval = 5,\n    value = 0,\n    min=0,\n    max=500,\n    step=1\n)\n\ndef update2(k, omega, time):\n    \n    fig2.data[0].y=traveling_wave(k, omega, xs2, time)\n\nvb2 = VBox((fig2, interactive(update2, k = bslider, omega = bslider2, time = play)))\nvb2.layout.align_items = 'center'\nvb2",
    "id": "834c7d484bb045c684f0f2d9b2da1f9b",
    "idx": 16,
    "time": "2021-02-02T23:28:33.598Z",
    "type": "execution"
   },
   {
    "code": "from IPython.display import Audio,display, clear_output\n\nxs3 = np.linspace(0, 0.2, 1000)\n\nf1 = widgets.IntSlider(value = 1, min = 1, max = 600, step = 1, description = \"frequency 1\")\nf1.layout.width = '400px'\nf2 = widgets.IntSlider(value = 1, min = 1, max = 600, step = 1, description = \"frequency 2\")\nf2.layout.width = '400px'\n\nbutton = widgets.Button(description='Play Sound')\nsound_out = widgets.Output()\nfig3 = go.FigureWidget()\n\nfig3.add_trace(go.Scatter(x=xs3, y=np.sin(2*np.pi*1*xs3) + np.sin(2*np.pi*1*xs),\n                    mode='lines',\n                    name='sum'))\nfig3.add_trace(go.Scatter(x = xs3, y = np.sin(2*np.pi*80*xs3), mode = \"lines\", opacity = 0.2, name = \"frequency 1\"))\nfig3.add_trace(go.Scatter(x = xs3, y = np.sin(2*np.pi*80*xs3), mode = \"lines\", opacity = 0.2, name = \"frequency 2\"))\n\nfig3.layout = dict(yaxis=dict(range=[-2,2]), xaxis=dict(range=[0,0.2]),width = 900)\n\nfig3.update_layout(\n    title={\n        'text': r'$y = \\sin(2 \\pi f_1 t) + \\sin(2 \\pi f_2 t)$',\n        'y':0.85,\n        'x':0.5,\n        'xanchor': 'center',\n        'yanchor': 'top'})\n\nfig3.update_xaxes(\n        title_text = r\"$t \\text{ (seconds})$\",\n        title_standoff = 15,\n        ticks = 'outside',\n        ticklen = 10,\n        tickcolor='white')\n\nfig3.update_yaxes(\n        title_text = '',\n        title_standoff = 25,\n        ticks = 'outside',\n        ticklen = 10,\n        tickcolor = 'white')\n\nfig3.update_layout(showlegend=False)\n\ndef on_button_clicked(_):\n    \n    with sound_out:\n        \n        framerate = 44100\n        sec = 2\n        t = np.linspace(0, sec, framerate * sec)\n        data = np.sin(2 * np.pi * f1.value * t) + np.sin(2 * np.pi * f2.value * t)\n        display(Audio(data, rate=framerate, autoplay=True))\n        clear_output(wait = True)\n\ndef update_trace(freq1, freq2):\n    \n    fig3.data[0].y = np.sin(2*np.pi*freq1*xs3) + np.sin(2*np.pi*freq2*xs3)\n    fig3.data[1].y = np.sin(2*np.pi*freq1*xs3)\n    fig3.data[2].y = np.sin(2*np.pi*freq2*xs3)\n\nbutton.on_click(on_button_clicked)\n\n\nwidgets.VBox([fig3,button])\nvb = widgets.VBox((fig3, interactive(update_trace, freq1 = f1, freq2 = f2), button))\nvb.layout.align_items = 'center'\n\ndisplay(vb)\ndisplay(sound_out)",
    "id": "18416b1bdd104237aed849573faca336",
    "idx": 21,
    "time": "2021-02-02T23:28:33.604Z",
    "type": "execution"
   },
   {
    "id": "c476b626b1864129ac2b8a28b46e40f4",
    "time": "2021-02-02T23:28:33.661Z",
    "type": "completion"
   },
   {
    "id": "273c757e313340ea800b9b8bcdce5953",
    "time": "2021-02-02T23:28:34.444Z",
    "type": "completion"
   },
   {
    "id": "834c7d484bb045c684f0f2d9b2da1f9b",
    "time": "2021-02-02T23:28:34.715Z",
    "type": "completion"
   },
   {
    "id": "18416b1bdd104237aed849573faca336",
    "time": "2021-02-02T23:28:35.098Z",
    "type": "completion"
   }
  ],
  "kernelspec": {
   "display_name": "Python 3",
   "language": "python",
   "name": "python3"
  },
  "language_info": {
   "codemirror_mode": {
    "name": "ipython",
    "version": 3
   },
   "file_extension": ".py",
   "mimetype": "text/x-python",
   "name": "python",
   "nbconvert_exporter": "python",
   "pygments_lexer": "ipython3",
   "version": "3.7.4"
  }
 },
 "nbformat": 4,
 "nbformat_minor": 4
}
